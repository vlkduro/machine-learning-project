{
 "cells": [
  {
   "cell_type": "markdown",
   "id": "1e5bfb37",
   "metadata": {},
   "source": [
    "## AI28 - Projet - Prédiction du niveau de revenus."
   ]
  },
  {
   "cell_type": "code",
   "id": "a8ac31df",
   "metadata": {
    "ExecuteTime": {
     "end_time": "2025-06-15T14:54:10.634047Z",
     "start_time": "2025-06-15T14:54:10.631446Z"
    }
   },
   "source": [
    "# pip install ucimlrepo"
   ],
   "outputs": [],
   "execution_count": 41
  },
  {
   "cell_type": "code",
   "id": "001b1097",
   "metadata": {
    "ExecuteTime": {
     "end_time": "2025-06-15T14:54:10.653601Z",
     "start_time": "2025-06-15T14:54:10.642246Z"
    }
   },
   "source": [
    "# OS\n",
    "import sys\n",
    "\n",
    "\n",
    "# WARNINGS\n",
    "import warnings\n",
    "warnings.filterwarnings('ignore')\n",
    "warnings.filterwarnings('error', category=DeprecationWarning)\n",
    "\n",
    "# NUMPY\n",
    "import numpy as np\n",
    "\n",
    "# STATS\n",
    "import scipy.stats as stats\n",
    "from scipy.stats import norm, skew\n",
    "\n",
    "# MATPLOTLIB\n",
    "import matplotlib as mpl\n",
    "import matplotlib.pyplot as plt\n",
    "%matplotlib inline\n",
    "# plt.style.use('fivethirtyeight') \n",
    "\n",
    "params = {'axes.labelsize': 8, # 12\n",
    "          'font.size': 8, # 12\n",
    "          'legend.fontsize': 8, # 12\n",
    "          'xtick.labelsize': 8, # 10\n",
    "          'ytick.labelsize': 8, # 10\n",
    "          'text.usetex': True,\n",
    "          'figure.figsize': (10, 8)}\n",
    "plt.rcParams.update(params)\n",
    "\n",
    "\n",
    "# PANDAS\n",
    "import pandas as pd \n",
    "pd.set_option(\"display.max_rows\", None, \"display.max_columns\", None) \n",
    "\n",
    "# SEABORN \n",
    "import seaborn as sns\n",
    "# sns.set_context(\"poster\")\n",
    "# sns.set_style(\"ticks\")\n",
    "\n",
    "# SCHIKIT-LEARN: PRE-PROCESSING\n",
    "from sklearn.preprocessing import LabelEncoder, OrdinalEncoder # Encodage des variables catégorielles ordinales\n",
    "from sklearn.preprocessing import LabelBinarizer, OneHotEncoder # Encodage des variables catégorielles nominales\n",
    "from sklearn.preprocessing import StandardScaler # Standardisation des variables numériques\n",
    "from sklearn.preprocessing import MinMaxScaler # Normalisation MinMax\n",
    "from sklearn.preprocessing import RobustScaler\n",
    "from sklearn.impute import SimpleImputer # Imputation\n",
    "from sklearn.impute import KNNImputer \n",
    "\n",
    "\n",
    "# SCHIKIT-LEARN: MODELES\n",
    "from sklearn import linear_model # Classe Modèle linéaire \n",
    "from sklearn.linear_model import LinearRegression \n",
    "from sklearn.linear_model import Ridge\n",
    "from sklearn.linear_model import Lasso \n",
    "from sklearn.linear_model import ElasticNet\n",
    "from sklearn.svm import SVR \n",
    "from sklearn.neighbors import KNeighborsRegressor\n",
    "\n",
    "\n",
    "# SCHIKIT-LEARN: VALIDATION CROISEE + OPTIMISATION\n",
    "from sklearn.model_selection import train_test_split\n",
    "from sklearn.model_selection import StratifiedKFold\n",
    "from sklearn.model_selection import cross_val_score # Validation croisée pour comparaison entre modèles\n",
    "from sklearn.model_selection import validation_curve # Courbe de validation: visualiser les scores lors du choix d'un hyperparamétre\n",
    "from sklearn.model_selection import GridSearchCV # Tester plusieurs hyperparamètres\n",
    "from sklearn.model_selection import RandomizedSearchCV # Tester plusieurs hyperparamètres\n",
    "from sklearn.model_selection import learning_curve # Courbe d'apprentissage: visualisation des scores du train et du validation sets en fonction des quantités des données\n",
    "import optuna\n",
    " \n",
    "## EVALUATION\n",
    "\n",
    "from sklearn.metrics import r2_score, accuracy_score, recall_score, precision_score  # Coefficient R2\n",
    "from sklearn.metrics import mean_absolute_error #  MAE\n",
    "from sklearn.metrics import mean_squared_error  # RMSE\n",
    "from sklearn.metrics import median_absolute_error # Erreur de la médiane absolue\n",
    "\n",
    "# SCHIKIT-LEARN: PIPELINE AND TRANSFORMATEUR\n",
    "from sklearn.pipeline import Pipeline\n",
    "from sklearn.pipeline import make_pipeline\n",
    "from sklearn.compose import make_column_transformer\n",
    "\n",
    "# SOURCE DATA\n",
    "from ucimlrepo import fetch_ucirepo "
   ],
   "outputs": [],
   "execution_count": 42
  },
  {
   "cell_type": "code",
   "id": "6ce14a4a",
   "metadata": {
    "ExecuteTime": {
     "end_time": "2025-06-15T14:54:18.430605Z",
     "start_time": "2025-06-15T14:54:14.285799Z"
    }
   },
   "source": [
    "# Utilisation des commandes fournies par UCI\n",
    "\n",
    "# Télécharger le jeu de données \n",
    "data_adult = fetch_ucirepo(id=2) "
   ],
   "outputs": [],
   "execution_count": 43
  },
  {
   "cell_type": "code",
   "id": "cdfbbc57",
   "metadata": {
    "ExecuteTime": {
     "end_time": "2025-06-15T14:54:22.083410Z",
     "start_time": "2025-06-15T14:54:22.080077Z"
    }
   },
   "source": [
    "# data (as pandas dataframes) \n",
    "x = data_adult.data.features # variables explicatives\n",
    "y = data_adult.data.targets # variables cibles"
   ],
   "outputs": [],
   "execution_count": 44
  },
  {
   "cell_type": "code",
   "id": "3347fb27",
   "metadata": {
    "ExecuteTime": {
     "end_time": "2025-06-15T14:54:28.582182Z",
     "start_time": "2025-06-15T14:54:28.579766Z"
    }
   },
   "source": [
    "# metadata \n",
    "print(data_adult.metadata) "
   ],
   "outputs": [
    {
     "name": "stdout",
     "output_type": "stream",
     "text": [
      "{'uci_id': 2, 'name': 'Adult', 'repository_url': 'https://archive.ics.uci.edu/dataset/2/adult', 'data_url': 'https://archive.ics.uci.edu/static/public/2/data.csv', 'abstract': 'Predict whether annual income of an individual exceeds $50K/yr based on census data. Also known as \"Census Income\" dataset. ', 'area': 'Social Science', 'tasks': ['Classification'], 'characteristics': ['Multivariate'], 'num_instances': 48842, 'num_features': 14, 'feature_types': ['Categorical', 'Integer'], 'demographics': ['Age', 'Income', 'Education Level', 'Other', 'Race', 'Sex'], 'target_col': ['income'], 'index_col': None, 'has_missing_values': 'yes', 'missing_values_symbol': 'NaN', 'year_of_dataset_creation': 1996, 'last_updated': 'Tue Sep 24 2024', 'dataset_doi': '10.24432/C5XW20', 'creators': ['Barry Becker', 'Ronny Kohavi'], 'intro_paper': None, 'additional_info': {'summary': \"Extraction was done by Barry Becker from the 1994 Census database.  A set of reasonably clean records was extracted using the following conditions: ((AAGE>16) && (AGI>100) && (AFNLWGT>1)&& (HRSWK>0))\\n\\nPrediction task is to determine whether a person's income is over $50,000 a year.\\n\", 'purpose': None, 'funded_by': None, 'instances_represent': None, 'recommended_data_splits': None, 'sensitive_data': None, 'preprocessing_description': None, 'variable_info': 'Listing of attributes:\\r\\n\\r\\n>50K, <=50K.\\r\\n\\r\\nage: continuous.\\r\\nworkclass: Private, Self-emp-not-inc, Self-emp-inc, Federal-gov, Local-gov, State-gov, Without-pay, Never-worked.\\r\\nfnlwgt: continuous.\\r\\neducation: Bachelors, Some-college, 11th, HS-grad, Prof-school, Assoc-acdm, Assoc-voc, 9th, 7th-8th, 12th, Masters, 1st-4th, 10th, Doctorate, 5th-6th, Preschool.\\r\\neducation-num: continuous.\\r\\nmarital-status: Married-civ-spouse, Divorced, Never-married, Separated, Widowed, Married-spouse-absent, Married-AF-spouse.\\r\\noccupation: Tech-support, Craft-repair, Other-service, Sales, Exec-managerial, Prof-specialty, Handlers-cleaners, Machine-op-inspct, Adm-clerical, Farming-fishing, Transport-moving, Priv-house-serv, Protective-serv, Armed-Forces.\\r\\nrelationship: Wife, Own-child, Husband, Not-in-family, Other-relative, Unmarried.\\r\\nrace: White, Asian-Pac-Islander, Amer-Indian-Eskimo, Other, Black.\\r\\nsex: Female, Male.\\r\\ncapital-gain: continuous.\\r\\ncapital-loss: continuous.\\r\\nhours-per-week: continuous.\\r\\nnative-country: United-States, Cambodia, England, Puerto-Rico, Canada, Germany, Outlying-US(Guam-USVI-etc), India, Japan, Greece, South, China, Cuba, Iran, Honduras, Philippines, Italy, Poland, Jamaica, Vietnam, Mexico, Portugal, Ireland, France, Dominican-Republic, Laos, Ecuador, Taiwan, Haiti, Columbia, Hungary, Guatemala, Nicaragua, Scotland, Thailand, Yugoslavia, El-Salvador, Trinadad&Tobago, Peru, Hong, Holand-Netherlands.', 'citation': None}}\n"
     ]
    }
   ],
   "execution_count": 45
  },
  {
   "cell_type": "code",
   "id": "e5866137",
   "metadata": {
    "ExecuteTime": {
     "end_time": "2025-06-15T14:54:28.635768Z",
     "start_time": "2025-06-15T14:54:28.629271Z"
    }
   },
   "source": [
    "# variable information \n",
    "print(data_adult.variables) "
   ],
   "outputs": [
    {
     "name": "stdout",
     "output_type": "stream",
     "text": [
      "              name     role         type      demographic  \\\n",
      "0              age  Feature      Integer              Age   \n",
      "1        workclass  Feature  Categorical           Income   \n",
      "2           fnlwgt  Feature      Integer             None   \n",
      "3        education  Feature  Categorical  Education Level   \n",
      "4    education-num  Feature      Integer  Education Level   \n",
      "5   marital-status  Feature  Categorical            Other   \n",
      "6       occupation  Feature  Categorical            Other   \n",
      "7     relationship  Feature  Categorical            Other   \n",
      "8             race  Feature  Categorical             Race   \n",
      "9              sex  Feature       Binary              Sex   \n",
      "10    capital-gain  Feature      Integer             None   \n",
      "11    capital-loss  Feature      Integer             None   \n",
      "12  hours-per-week  Feature      Integer             None   \n",
      "13  native-country  Feature  Categorical            Other   \n",
      "14          income   Target       Binary           Income   \n",
      "\n",
      "                                          description units missing_values  \n",
      "0                                                 N/A  None             no  \n",
      "1   Private, Self-emp-not-inc, Self-emp-inc, Feder...  None            yes  \n",
      "2                                                None  None             no  \n",
      "3    Bachelors, Some-college, 11th, HS-grad, Prof-...  None             no  \n",
      "4                                                None  None             no  \n",
      "5   Married-civ-spouse, Divorced, Never-married, S...  None             no  \n",
      "6   Tech-support, Craft-repair, Other-service, Sal...  None            yes  \n",
      "7   Wife, Own-child, Husband, Not-in-family, Other...  None             no  \n",
      "8   White, Asian-Pac-Islander, Amer-Indian-Eskimo,...  None             no  \n",
      "9                                       Female, Male.  None             no  \n",
      "10                                               None  None             no  \n",
      "11                                               None  None             no  \n",
      "12                                               None  None             no  \n",
      "13  United-States, Cambodia, England, Puerto-Rico,...  None            yes  \n",
      "14                                       >50K, <=50K.  None             no  \n"
     ]
    }
   ],
   "execution_count": 46
  },
  {
   "cell_type": "markdown",
   "id": "6cbde9f3",
   "metadata": {},
   "source": [
    "## Analyse exploratoire des données\n",
    "\n",
    "Pour réaliser l'AED, nous utilisons les données des fichiers téléchargés depuis le site web."
   ]
  },
  {
   "cell_type": "code",
   "id": "7dab83b8",
   "metadata": {
    "ExecuteTime": {
     "end_time": "2025-06-15T14:54:32.008876Z",
     "start_time": "2025-06-15T14:54:31.967484Z"
    }
   },
   "source": [
    "df_adult = pd.read_csv(\"./Data/adult.data\", header=None)"
   ],
   "outputs": [],
   "execution_count": 47
  },
  {
   "cell_type": "code",
   "id": "a17d559b",
   "metadata": {
    "ExecuteTime": {
     "end_time": "2025-06-15T14:54:35.161292Z",
     "start_time": "2025-06-15T14:54:35.157409Z"
    }
   },
   "source": [
    "isinstance(df_adult, pd.DataFrame)"
   ],
   "outputs": [
    {
     "data": {
      "text/plain": [
       "True"
      ]
     },
     "execution_count": 48,
     "metadata": {},
     "output_type": "execute_result"
    }
   ],
   "execution_count": 48
  },
  {
   "cell_type": "code",
   "id": "773202c2",
   "metadata": {
    "ExecuteTime": {
     "end_time": "2025-06-15T14:54:41.723756Z",
     "start_time": "2025-06-15T14:54:41.722015Z"
    }
   },
   "source": [],
   "outputs": [],
   "execution_count": null
  },
  {
   "cell_type": "markdown",
   "id": "8dd95f63",
   "metadata": {},
   "source": [
    "Le fichier ne contient pas les noms des colonnes. Nous les ajoutons dans le dataframe adult."
   ]
  },
  {
   "cell_type": "code",
   "id": "47221cbf",
   "metadata": {
    "ExecuteTime": {
     "end_time": "2025-06-15T14:54:41.745433Z",
     "start_time": "2025-06-15T14:54:41.734958Z"
    }
   },
   "source": [
    "adult_columns = data_adult.variables['name']\n",
    "\n",
    "df_adult.columns = adult_columns\n",
    "\n",
    "df_adult.head()"
   ],
   "outputs": [
    {
     "data": {
      "text/plain": [
       "name  age          workclass  fnlwgt   education  education-num  \\\n",
       "0      39          State-gov   77516   Bachelors             13   \n",
       "1      50   Self-emp-not-inc   83311   Bachelors             13   \n",
       "2      38            Private  215646     HS-grad              9   \n",
       "3      53            Private  234721        11th              7   \n",
       "4      28            Private  338409   Bachelors             13   \n",
       "\n",
       "name       marital-status          occupation    relationship    race  \\\n",
       "0           Never-married        Adm-clerical   Not-in-family   White   \n",
       "1      Married-civ-spouse     Exec-managerial         Husband   White   \n",
       "2                Divorced   Handlers-cleaners   Not-in-family   White   \n",
       "3      Married-civ-spouse   Handlers-cleaners         Husband   Black   \n",
       "4      Married-civ-spouse      Prof-specialty            Wife   Black   \n",
       "\n",
       "name      sex  capital-gain  capital-loss  hours-per-week  native-country  \\\n",
       "0        Male          2174             0              40   United-States   \n",
       "1        Male             0             0              13   United-States   \n",
       "2        Male             0             0              40   United-States   \n",
       "3        Male             0             0              40   United-States   \n",
       "4      Female             0             0              40            Cuba   \n",
       "\n",
       "name  income  \n",
       "0      <=50K  \n",
       "1      <=50K  \n",
       "2      <=50K  \n",
       "3      <=50K  \n",
       "4      <=50K  "
      ],
      "text/html": [
       "<div>\n",
       "<style scoped>\n",
       "    .dataframe tbody tr th:only-of-type {\n",
       "        vertical-align: middle;\n",
       "    }\n",
       "\n",
       "    .dataframe tbody tr th {\n",
       "        vertical-align: top;\n",
       "    }\n",
       "\n",
       "    .dataframe thead th {\n",
       "        text-align: right;\n",
       "    }\n",
       "</style>\n",
       "<table border=\"1\" class=\"dataframe\">\n",
       "  <thead>\n",
       "    <tr style=\"text-align: right;\">\n",
       "      <th>name</th>\n",
       "      <th>age</th>\n",
       "      <th>workclass</th>\n",
       "      <th>fnlwgt</th>\n",
       "      <th>education</th>\n",
       "      <th>education-num</th>\n",
       "      <th>marital-status</th>\n",
       "      <th>occupation</th>\n",
       "      <th>relationship</th>\n",
       "      <th>race</th>\n",
       "      <th>sex</th>\n",
       "      <th>capital-gain</th>\n",
       "      <th>capital-loss</th>\n",
       "      <th>hours-per-week</th>\n",
       "      <th>native-country</th>\n",
       "      <th>income</th>\n",
       "    </tr>\n",
       "  </thead>\n",
       "  <tbody>\n",
       "    <tr>\n",
       "      <th>0</th>\n",
       "      <td>39</td>\n",
       "      <td>State-gov</td>\n",
       "      <td>77516</td>\n",
       "      <td>Bachelors</td>\n",
       "      <td>13</td>\n",
       "      <td>Never-married</td>\n",
       "      <td>Adm-clerical</td>\n",
       "      <td>Not-in-family</td>\n",
       "      <td>White</td>\n",
       "      <td>Male</td>\n",
       "      <td>2174</td>\n",
       "      <td>0</td>\n",
       "      <td>40</td>\n",
       "      <td>United-States</td>\n",
       "      <td>&lt;=50K</td>\n",
       "    </tr>\n",
       "    <tr>\n",
       "      <th>1</th>\n",
       "      <td>50</td>\n",
       "      <td>Self-emp-not-inc</td>\n",
       "      <td>83311</td>\n",
       "      <td>Bachelors</td>\n",
       "      <td>13</td>\n",
       "      <td>Married-civ-spouse</td>\n",
       "      <td>Exec-managerial</td>\n",
       "      <td>Husband</td>\n",
       "      <td>White</td>\n",
       "      <td>Male</td>\n",
       "      <td>0</td>\n",
       "      <td>0</td>\n",
       "      <td>13</td>\n",
       "      <td>United-States</td>\n",
       "      <td>&lt;=50K</td>\n",
       "    </tr>\n",
       "    <tr>\n",
       "      <th>2</th>\n",
       "      <td>38</td>\n",
       "      <td>Private</td>\n",
       "      <td>215646</td>\n",
       "      <td>HS-grad</td>\n",
       "      <td>9</td>\n",
       "      <td>Divorced</td>\n",
       "      <td>Handlers-cleaners</td>\n",
       "      <td>Not-in-family</td>\n",
       "      <td>White</td>\n",
       "      <td>Male</td>\n",
       "      <td>0</td>\n",
       "      <td>0</td>\n",
       "      <td>40</td>\n",
       "      <td>United-States</td>\n",
       "      <td>&lt;=50K</td>\n",
       "    </tr>\n",
       "    <tr>\n",
       "      <th>3</th>\n",
       "      <td>53</td>\n",
       "      <td>Private</td>\n",
       "      <td>234721</td>\n",
       "      <td>11th</td>\n",
       "      <td>7</td>\n",
       "      <td>Married-civ-spouse</td>\n",
       "      <td>Handlers-cleaners</td>\n",
       "      <td>Husband</td>\n",
       "      <td>Black</td>\n",
       "      <td>Male</td>\n",
       "      <td>0</td>\n",
       "      <td>0</td>\n",
       "      <td>40</td>\n",
       "      <td>United-States</td>\n",
       "      <td>&lt;=50K</td>\n",
       "    </tr>\n",
       "    <tr>\n",
       "      <th>4</th>\n",
       "      <td>28</td>\n",
       "      <td>Private</td>\n",
       "      <td>338409</td>\n",
       "      <td>Bachelors</td>\n",
       "      <td>13</td>\n",
       "      <td>Married-civ-spouse</td>\n",
       "      <td>Prof-specialty</td>\n",
       "      <td>Wife</td>\n",
       "      <td>Black</td>\n",
       "      <td>Female</td>\n",
       "      <td>0</td>\n",
       "      <td>0</td>\n",
       "      <td>40</td>\n",
       "      <td>Cuba</td>\n",
       "      <td>&lt;=50K</td>\n",
       "    </tr>\n",
       "  </tbody>\n",
       "</table>\n",
       "</div>"
      ]
     },
     "execution_count": 49,
     "metadata": {},
     "output_type": "execute_result"
    }
   ],
   "execution_count": 49
  },
  {
   "cell_type": "code",
   "id": "107289ca",
   "metadata": {
    "ExecuteTime": {
     "end_time": "2025-06-15T14:54:45.161995Z",
     "start_time": "2025-06-15T14:54:45.158902Z"
    }
   },
   "source": [
    "df_adult.shape"
   ],
   "outputs": [
    {
     "data": {
      "text/plain": [
       "(32561, 15)"
      ]
     },
     "execution_count": 50,
     "metadata": {},
     "output_type": "execute_result"
    }
   ],
   "execution_count": 50
  },
  {
   "cell_type": "code",
   "id": "6d032d69",
   "metadata": {
    "ExecuteTime": {
     "end_time": "2025-06-15T14:54:45.186354Z",
     "start_time": "2025-06-15T14:54:45.181950Z"
    }
   },
   "source": [
    "df_adult.columns"
   ],
   "outputs": [
    {
     "data": {
      "text/plain": [
       "Index(['age', 'workclass', 'fnlwgt', 'education', 'education-num',\n",
       "       'marital-status', 'occupation', 'relationship', 'race', 'sex',\n",
       "       'capital-gain', 'capital-loss', 'hours-per-week', 'native-country',\n",
       "       'income'],\n",
       "      dtype='object', name='name')"
      ]
     },
     "execution_count": 51,
     "metadata": {},
     "output_type": "execute_result"
    }
   ],
   "execution_count": 51
  },
  {
   "cell_type": "code",
   "id": "3f021163",
   "metadata": {
    "ExecuteTime": {
     "end_time": "2025-06-15T14:54:45.289528Z",
     "start_time": "2025-06-15T14:54:45.266153Z"
    }
   },
   "source": [
    "df_adult.describe()"
   ],
   "outputs": [
    {
     "data": {
      "text/plain": [
       "name            age        fnlwgt  education-num  capital-gain  capital-loss  \\\n",
       "count  32561.000000  3.256100e+04   32561.000000  32561.000000  32561.000000   \n",
       "mean      38.581647  1.897784e+05      10.080679   1077.648844     87.303830   \n",
       "std       13.640433  1.055500e+05       2.572720   7385.292085    402.960219   \n",
       "min       17.000000  1.228500e+04       1.000000      0.000000      0.000000   \n",
       "25%       28.000000  1.178270e+05       9.000000      0.000000      0.000000   \n",
       "50%       37.000000  1.783560e+05      10.000000      0.000000      0.000000   \n",
       "75%       48.000000  2.370510e+05      12.000000      0.000000      0.000000   \n",
       "max       90.000000  1.484705e+06      16.000000  99999.000000   4356.000000   \n",
       "\n",
       "name   hours-per-week  \n",
       "count    32561.000000  \n",
       "mean        40.437456  \n",
       "std         12.347429  \n",
       "min          1.000000  \n",
       "25%         40.000000  \n",
       "50%         40.000000  \n",
       "75%         45.000000  \n",
       "max         99.000000  "
      ],
      "text/html": [
       "<div>\n",
       "<style scoped>\n",
       "    .dataframe tbody tr th:only-of-type {\n",
       "        vertical-align: middle;\n",
       "    }\n",
       "\n",
       "    .dataframe tbody tr th {\n",
       "        vertical-align: top;\n",
       "    }\n",
       "\n",
       "    .dataframe thead th {\n",
       "        text-align: right;\n",
       "    }\n",
       "</style>\n",
       "<table border=\"1\" class=\"dataframe\">\n",
       "  <thead>\n",
       "    <tr style=\"text-align: right;\">\n",
       "      <th>name</th>\n",
       "      <th>age</th>\n",
       "      <th>fnlwgt</th>\n",
       "      <th>education-num</th>\n",
       "      <th>capital-gain</th>\n",
       "      <th>capital-loss</th>\n",
       "      <th>hours-per-week</th>\n",
       "    </tr>\n",
       "  </thead>\n",
       "  <tbody>\n",
       "    <tr>\n",
       "      <th>count</th>\n",
       "      <td>32561.000000</td>\n",
       "      <td>3.256100e+04</td>\n",
       "      <td>32561.000000</td>\n",
       "      <td>32561.000000</td>\n",
       "      <td>32561.000000</td>\n",
       "      <td>32561.000000</td>\n",
       "    </tr>\n",
       "    <tr>\n",
       "      <th>mean</th>\n",
       "      <td>38.581647</td>\n",
       "      <td>1.897784e+05</td>\n",
       "      <td>10.080679</td>\n",
       "      <td>1077.648844</td>\n",
       "      <td>87.303830</td>\n",
       "      <td>40.437456</td>\n",
       "    </tr>\n",
       "    <tr>\n",
       "      <th>std</th>\n",
       "      <td>13.640433</td>\n",
       "      <td>1.055500e+05</td>\n",
       "      <td>2.572720</td>\n",
       "      <td>7385.292085</td>\n",
       "      <td>402.960219</td>\n",
       "      <td>12.347429</td>\n",
       "    </tr>\n",
       "    <tr>\n",
       "      <th>min</th>\n",
       "      <td>17.000000</td>\n",
       "      <td>1.228500e+04</td>\n",
       "      <td>1.000000</td>\n",
       "      <td>0.000000</td>\n",
       "      <td>0.000000</td>\n",
       "      <td>1.000000</td>\n",
       "    </tr>\n",
       "    <tr>\n",
       "      <th>25%</th>\n",
       "      <td>28.000000</td>\n",
       "      <td>1.178270e+05</td>\n",
       "      <td>9.000000</td>\n",
       "      <td>0.000000</td>\n",
       "      <td>0.000000</td>\n",
       "      <td>40.000000</td>\n",
       "    </tr>\n",
       "    <tr>\n",
       "      <th>50%</th>\n",
       "      <td>37.000000</td>\n",
       "      <td>1.783560e+05</td>\n",
       "      <td>10.000000</td>\n",
       "      <td>0.000000</td>\n",
       "      <td>0.000000</td>\n",
       "      <td>40.000000</td>\n",
       "    </tr>\n",
       "    <tr>\n",
       "      <th>75%</th>\n",
       "      <td>48.000000</td>\n",
       "      <td>2.370510e+05</td>\n",
       "      <td>12.000000</td>\n",
       "      <td>0.000000</td>\n",
       "      <td>0.000000</td>\n",
       "      <td>45.000000</td>\n",
       "    </tr>\n",
       "    <tr>\n",
       "      <th>max</th>\n",
       "      <td>90.000000</td>\n",
       "      <td>1.484705e+06</td>\n",
       "      <td>16.000000</td>\n",
       "      <td>99999.000000</td>\n",
       "      <td>4356.000000</td>\n",
       "      <td>99.000000</td>\n",
       "    </tr>\n",
       "  </tbody>\n",
       "</table>\n",
       "</div>"
      ]
     },
     "execution_count": 52,
     "metadata": {},
     "output_type": "execute_result"
    }
   ],
   "execution_count": 52
  },
  {
   "cell_type": "code",
   "id": "b18aed3e",
   "metadata": {
    "ExecuteTime": {
     "end_time": "2025-06-15T14:54:45.413821Z",
     "start_time": "2025-06-15T14:54:45.398686Z"
    }
   },
   "source": [
    "df_adult.isna().sum()"
   ],
   "outputs": [
    {
     "data": {
      "text/plain": [
       "name\n",
       "age               0\n",
       "workclass         0\n",
       "fnlwgt            0\n",
       "education         0\n",
       "education-num     0\n",
       "marital-status    0\n",
       "occupation        0\n",
       "relationship      0\n",
       "race              0\n",
       "sex               0\n",
       "capital-gain      0\n",
       "capital-loss      0\n",
       "hours-per-week    0\n",
       "native-country    0\n",
       "income            0\n",
       "dtype: int64"
      ]
     },
     "execution_count": 53,
     "metadata": {},
     "output_type": "execute_result"
    }
   ],
   "execution_count": 53
  },
  {
   "cell_type": "code",
   "id": "136d56a2",
   "metadata": {
    "ExecuteTime": {
     "end_time": "2025-06-15T14:54:45.555703Z",
     "start_time": "2025-06-15T14:54:45.469072Z"
    }
   },
   "source": [
    "df_adult = df_adult.drop_duplicates()\n",
    "df_adult[df_adult.duplicated()]"
   ],
   "outputs": [
    {
     "data": {
      "text/plain": [
       "Empty DataFrame\n",
       "Columns: [age, workclass, fnlwgt, education, education-num, marital-status, occupation, relationship, race, sex, capital-gain, capital-loss, hours-per-week, native-country, income]\n",
       "Index: []"
      ],
      "text/html": [
       "<div>\n",
       "<style scoped>\n",
       "    .dataframe tbody tr th:only-of-type {\n",
       "        vertical-align: middle;\n",
       "    }\n",
       "\n",
       "    .dataframe tbody tr th {\n",
       "        vertical-align: top;\n",
       "    }\n",
       "\n",
       "    .dataframe thead th {\n",
       "        text-align: right;\n",
       "    }\n",
       "</style>\n",
       "<table border=\"1\" class=\"dataframe\">\n",
       "  <thead>\n",
       "    <tr style=\"text-align: right;\">\n",
       "      <th>name</th>\n",
       "      <th>age</th>\n",
       "      <th>workclass</th>\n",
       "      <th>fnlwgt</th>\n",
       "      <th>education</th>\n",
       "      <th>education-num</th>\n",
       "      <th>marital-status</th>\n",
       "      <th>occupation</th>\n",
       "      <th>relationship</th>\n",
       "      <th>race</th>\n",
       "      <th>sex</th>\n",
       "      <th>capital-gain</th>\n",
       "      <th>capital-loss</th>\n",
       "      <th>hours-per-week</th>\n",
       "      <th>native-country</th>\n",
       "      <th>income</th>\n",
       "    </tr>\n",
       "  </thead>\n",
       "  <tbody>\n",
       "  </tbody>\n",
       "</table>\n",
       "</div>"
      ]
     },
     "execution_count": 54,
     "metadata": {},
     "output_type": "execute_result"
    }
   ],
   "execution_count": 54
  },
  {
   "cell_type": "code",
   "id": "f1a4235f",
   "metadata": {
    "ExecuteTime": {
     "end_time": "2025-06-15T14:54:45.689709Z",
     "start_time": "2025-06-15T14:54:45.671156Z"
    }
   },
   "source": [
    "df_adult.info()"
   ],
   "outputs": [
    {
     "name": "stdout",
     "output_type": "stream",
     "text": [
      "<class 'pandas.core.frame.DataFrame'>\n",
      "Index: 32537 entries, 0 to 32560\n",
      "Data columns (total 15 columns):\n",
      " #   Column          Non-Null Count  Dtype \n",
      "---  ------          --------------  ----- \n",
      " 0   age             32537 non-null  int64 \n",
      " 1   workclass       32537 non-null  object\n",
      " 2   fnlwgt          32537 non-null  int64 \n",
      " 3   education       32537 non-null  object\n",
      " 4   education-num   32537 non-null  int64 \n",
      " 5   marital-status  32537 non-null  object\n",
      " 6   occupation      32537 non-null  object\n",
      " 7   relationship    32537 non-null  object\n",
      " 8   race            32537 non-null  object\n",
      " 9   sex             32537 non-null  object\n",
      " 10  capital-gain    32537 non-null  int64 \n",
      " 11  capital-loss    32537 non-null  int64 \n",
      " 12  hours-per-week  32537 non-null  int64 \n",
      " 13  native-country  32537 non-null  object\n",
      " 14  income          32537 non-null  object\n",
      "dtypes: int64(6), object(9)\n",
      "memory usage: 4.0+ MB\n"
     ]
    }
   ],
   "execution_count": 55
  },
  {
   "cell_type": "markdown",
   "id": "ec6c3644",
   "metadata": {},
   "source": [
    "Problème : La description des données indique qu'elles contiennent des valeurs inconnues. Ces valeurs ne sont pas en NaN ou null. Nous pouvons déjà remarquer la présence de '?' en leur lieu et place.\n",
    "\n",
    "## Traitement des données\n",
    "\n",
    "### Analyse des traitements à réaliser"
   ]
  },
  {
   "cell_type": "code",
   "id": "4f71c629",
   "metadata": {
    "ExecuteTime": {
     "end_time": "2025-06-15T14:54:46.957512Z",
     "start_time": "2025-06-15T14:54:45.866282Z"
    }
   },
   "source": [
    "df_adult = df_adult.replace('\\?', np.nan, regex=True)\n",
    "sns.heatmap(df_adult.isna(), cbar=False, cmap='viridis')\n",
    "print(f\"Nombre de valeurs manquantes : {df_adult.isna().sum()}\")"
   ],
   "outputs": [
    {
     "name": "stdout",
     "output_type": "stream",
     "text": [
      "Nombre de valeurs manquantes : name\n",
      "age                  0\n",
      "workclass         1836\n",
      "fnlwgt               0\n",
      "education            0\n",
      "education-num        0\n",
      "marital-status       0\n",
      "occupation        1843\n",
      "relationship         0\n",
      "race                 0\n",
      "sex                  0\n",
      "capital-gain         0\n",
      "capital-loss         0\n",
      "hours-per-week       0\n",
      "native-country     582\n",
      "income               0\n",
      "dtype: int64\n"
     ]
    },
    {
     "data": {
      "text/plain": [
       "<Figure size 1000x800 with 1 Axes>"
      ],
      "image/png": "[encoded data removed]"
     },
     "metadata": {},
     "output_type": "display_data"
    }
   ],
   "execution_count": 56
  },
  {
   "cell_type": "code",
   "id": "6c06b28a72dceb89",
   "metadata": {
    "ExecuteTime": {
     "end_time": "2025-06-15T14:54:46.978552Z",
     "start_time": "2025-06-15T14:54:46.963917Z"
    }
   },
   "source": [
    "wrkclass_proportion = df_adult[\"workclass\"].value_counts(dropna=False) / df_adult.shape[0]\n",
    "print(\"workclass : \", wrkclass_proportion.idxmax(), f\"{wrkclass_proportion.max() * 100:.2f}% ({len(wrkclass_proportion)} valeurs uniques)\")\n",
    "occupation_proportion = df_adult[\"occupation\"].value_counts(dropna=False) / df_adult.shape[0]\n",
    "print(\"occupation : \", occupation_proportion.idxmax(), f\"{occupation_proportion.max() * 100:.2f}% ({len(occupation_proportion)} valeurs uniques)\")\n",
    "native_country_proportion = df_adult[\"native-country\"].value_counts(dropna=False) / df_adult.shape[0]\n",
    "print(\"native_country : \", native_country_proportion.idxmax(), f\"{native_country_proportion.max() * 100:.2f}% ({len(native_country_proportion)} valeurs uniques)\")\n",
    "income_proportion = df_adult[\"income\"].value_counts(dropna=False) / df_adult.shape[0]\n",
    "print(\"income : \", income_proportion.idxmax(), f\"{income_proportion.max() * 100:.2f}% ({len(income_proportion)} valeurs uniques)\")"
   ],
   "outputs": [
    {
     "name": "stdout",
     "output_type": "stream",
     "text": [
      "workclass :   Private 69.68% (9 valeurs uniques)\n",
      "occupation :   Prof-specialty 12.71% (15 valeurs uniques)\n",
      "native_country :   United-States 89.60% (42 valeurs uniques)\n",
      "income :   <=50K 75.91% (2 valeurs uniques)\n"
     ]
    }
   ],
   "execution_count": 57
  },
  {
   "metadata": {},
   "cell_type": "markdown",
   "source": " ### Creation de la fonction de traitement des données",
   "id": "a20b04b075a70372"
  },
  {
   "metadata": {
    "ExecuteTime": {
     "end_time": "2025-06-15T14:54:47.031732Z",
     "start_time": "2025-06-15T14:54:47.026354Z"
    }
   },
   "cell_type": "code",
   "source": [
    "def treat_df(df, scaler):\n",
    "    df_new = df.copy()\n",
    "    # Remplacement de la valeur '?' par NaN\n",
    "    df_new = df_new.replace('\\?', np.nan, regex=True)\n",
    "    # Remplacement des valeurs manquantes par les valeurs les plus fréquentes, les seules variables concernées sont workclass, occupation et native-country\n",
    "    for col in [\"workclass\", \"occupation\", \"native-country\"]:\n",
    "        df_new[col].fillna(df_new[col].mode()[0], inplace=True)\n",
    "\n",
    "    categorical_columns = df_new.select_dtypes(include=['object']).columns\n",
    "    numeric_columns = df_new.select_dtypes(include=['number']).columns\n",
    "    # Encodage des variables catégorielles\n",
    "    ordinal_encoder = OrdinalEncoder()\n",
    "    for col in categorical_columns:\n",
    "        if col == \"income\":\n",
    "            continue\n",
    "        df_new[col] = ordinal_encoder.fit_transform(df_new[[col]])\n",
    "\n",
    "    # Encodage de la variable cible income\n",
    "    label_encoder = LabelEncoder()\n",
    "    df_new[\"income\"] = label_encoder.fit_transform(df_new[\"income\"])\n",
    "\n",
    "    # Normalisation des variables numériques\n",
    "    if scaler is None:\n",
    "        scaler = StandardScaler()\n",
    "        scaler.fit(df_new[numeric_columns])\n",
    "    df_new[numeric_columns] = scaler.transform(df_new[numeric_columns])\n",
    "\n",
    "    return df_new, scaler"
   ],
   "id": "286579e9e94f42e",
   "outputs": [],
   "execution_count": 58
  },
  {
   "cell_type": "markdown",
   "id": "d61c0a4ba40038da",
   "metadata": {},
   "source": [
    "## Modele de prediction\n",
    "\n",
    "### Setup\n",
    "\n",
    "> On pourrait faire une pipeline de pretraitement pour chaque pipeline (LabelEncoder, normalisation et drop des values NaN)"
   ]
  },
  {
   "cell_type": "code",
   "id": "aa55e6c1908508db",
   "metadata": {
    "ExecuteTime": {
     "end_time": "2025-06-15T14:54:47.291342Z",
     "start_time": "2025-06-15T14:54:47.076955Z"
    }
   },
   "source": [
    "# Creation de différents sets\n",
    "# X_train, X_test, y_train, y_test = train_test_split(df_adult_enco.drop(columns=[\"income\"]), df_adult_enco[\"income\"], test_size=0.2, random_state=69)\n",
    "#\n",
    "# # On normalise les variables quantitatives sur les données de train (StandardScaler pour l'instant)\n",
    "# numerical_columns = df_adult.select_dtypes(include=['int64', 'float64']).columns\n",
    "# numerical_scaler = StandardScaler()\n",
    "# numerical_scaler.fit(X_train[numerical_columns])\n",
    "# X_train[numerical_columns] = numerical_scaler.transform(X_train[numerical_columns])\n",
    "# X_test[numerical_columns] = numerical_scaler.transform(X_test[numerical_columns])\n",
    "\n",
    "# Import des données de test\n",
    "df_adult_test = pd.read_csv(\"./Data/adult.test\", header=None)\n",
    "df_adult_test.columns = adult_columns\n",
    "\n",
    "# Creation de différents sets (repartition 66/33 pour train/test)\n",
    "df_adult_new, fitted_scaler = treat_df(df_adult, None)\n",
    "X_train, y_train = df_adult_new.drop(columns=[\"income\"]), df_adult_new[\"income\"]\n",
    "df_adult_test_new, _ = treat_df(df_adult_test, fitted_scaler)\n",
    "X_test, y_test = df_adult_test_new.drop(columns=[\"income\"]), df_adult_test_new[\"income\"]\n",
    "\n",
    "def eval_model(model, X_test, y_test):\n",
    "    y_pred = model.predict(X_test)\n",
    "    print(f'=== Evaluation du modèle {model.__class__.__name__} ===')\n",
    "    print(f\"Accuracy : {accuracy_score(y_test, y_pred):.4f} (the higher the better)\")\n",
    "    print(f\"Recall : {recall_score(y_test, y_pred):.4f} (the higher the better) (best for us)\")\n",
    "    print(f\"R2 : {r2_score(y_test, y_pred):.4f} (the higher the better)\")\n",
    "    print(f\"MAE : {mean_absolute_error(y_test, y_pred):.4f} (the lower the better)\")\n",
    "    print(f\"RMSE : {mean_squared_error(y_test, y_pred):.4f} (the lower the better)\")\n",
    "    return y_pred"
   ],
   "outputs": [],
   "execution_count": 59
  },
  {
   "cell_type": "markdown",
   "id": "cec6205532cb2e1e",
   "metadata": {},
   "source": [
    "### Arbre de décision"
   ]
  },
  {
   "cell_type": "code",
   "id": "faf2e7624837066c",
   "metadata": {
    "ExecuteTime": {
     "end_time": "2025-06-15T14:54:47.299229Z",
     "start_time": "2025-06-15T14:54:47.295903Z"
    }
   },
   "source": [
    "from sklearn.tree import DecisionTreeClassifier\n",
    "\n",
    "def opt_decision_tree(trial):\n",
    "    max_depth = trial.suggest_int('max_depth', 2, 32)\n",
    "    min_samples_split = trial.suggest_int('min_samples_split', 2, 10)\n",
    "    min_samples_leaf = trial.suggest_int('min_samples_leaf', 1, 4)\n",
    "    max_features = trial.suggest_categorical('max_features', ['sqrt', 'log2'])\n",
    "    criterion = trial.suggest_categorical('criterion', ['gini', 'entropy'])\n",
    "    return DecisionTreeClassifier(\n",
    "        max_depth=max_depth,\n",
    "        min_samples_split=min_samples_split,\n",
    "        min_samples_leaf=min_samples_leaf,\n",
    "        max_features=max_features,\n",
    "        criterion=criterion\n",
    "    )"
   ],
   "outputs": [],
   "execution_count": 60
  },
  {
   "metadata": {},
   "cell_type": "markdown",
   "source": [
    "> Pas de tres bonnes performances, on va essayer avec un autre modèle.\n",
    "\n",
    "### Random forest"
   ],
   "id": "ce476f8a0cf7891a"
  },
  {
   "metadata": {
    "ExecuteTime": {
     "end_time": "2025-06-15T14:54:47.348332Z",
     "start_time": "2025-06-15T14:54:47.343863Z"
    }
   },
   "cell_type": "code",
   "source": [
    "from sklearn.ensemble import RandomForestClassifier\n",
    "\n",
    "def opt_random_forest(trial):\n",
    "    rf_max_depth = trial.suggest_int('rf_max_depth', 2, 32)\n",
    "    rf_min_samples_split = trial.suggest_int('rf_min_samples_split', 2, 10)\n",
    "    rf_min_samples_leaf = trial.suggest_int('rf_min_samples_leaf', 1, 4)\n",
    "    rf_max_features = trial.suggest_categorical('rf_max_features', ['sqrt', 'log2'])\n",
    "    rf_criterion = trial.suggest_categorical('rf_criterion', ['gini', 'entropy'])\n",
    "    rf_n_estimators = trial.suggest_int('rf_n_estimators', 50, 200)\n",
    "    return RandomForestClassifier(\n",
    "        max_depth=rf_max_depth,\n",
    "        min_samples_split=rf_min_samples_split,\n",
    "        min_samples_leaf=rf_min_samples_leaf,\n",
    "        max_features=rf_max_features,\n",
    "        criterion=rf_criterion,\n",
    "        n_estimators=rf_n_estimators\n",
    "      )"
   ],
   "id": "52405f1f0bcfb978",
   "outputs": [],
   "execution_count": 61
  },
  {
   "metadata": {},
   "cell_type": "markdown",
   "source": "### Regression logistique",
   "id": "6aa0b26492f0ea26"
  },
  {
   "metadata": {
    "ExecuteTime": {
     "end_time": "2025-06-15T14:54:47.397353Z",
     "start_time": "2025-06-15T14:54:47.393047Z"
    }
   },
   "cell_type": "code",
   "source": [
    "from sklearn.linear_model import LogisticRegression\n",
    "\n",
    "def opt_logistic_regression(trial):\n",
    "    solver = trial.suggest_categorical('solver', ['newton-cg', 'lbfgs', 'liblinear', 'sag', 'saga'])\n",
    "\n",
    "    # Filter penalties based on the solver\n",
    "    penalty = \"l2\"  # Default penalty if an error occurs\n",
    "    if solver in ['newton-cg', 'lbfgs', 'sag']:\n",
    "        penalty = trial.suggest_categorical('penalty', ['l2', None])\n",
    "    elif solver == 'liblinear':\n",
    "        penalty = trial.suggest_categorical('penalty-liblinear', ['l1', 'l2'])\n",
    "    elif solver == 'saga':\n",
    "        penalty = trial.suggest_categorical('penalty-saga', ['l1', 'l2', 'elasticnet', None])\n",
    "    # l1_ratio est utlisé pour l'elasticnet\n",
    "    l1_ratio = trial.suggest_float('l1_ratio', 0.1, 0.5, log=True)\n",
    "    C = trial.suggest_float('C', 0.01, 10.0, log=True)\n",
    "    max_iter = trial.suggest_int('max_iter', 50, 500)\n",
    "    return LogisticRegression(\n",
    "        penalty=penalty,\n",
    "        C=C,\n",
    "        solver=solver,\n",
    "        max_iter=max_iter,\n",
    "        l1_ratio=l1_ratio,\n",
    "    )"
   ],
   "id": "e7c1331e8f9d6309",
   "outputs": [],
   "execution_count": 62
  },
  {
   "metadata": {},
   "cell_type": "markdown",
   "source": "### AdaBoosting",
   "id": "1a3031cdc514bae7"
  },
  {
   "metadata": {
    "ExecuteTime": {
     "end_time": "2025-06-15T14:54:47.445461Z",
     "start_time": "2025-06-15T14:54:47.441313Z"
    }
   },
   "cell_type": "code",
   "source": [
    "from sklearn.ensemble import AdaBoostClassifier\n",
    "\n",
    "def opt_adaboost(trial):\n",
    "    base_estimator = trial.suggest_categorical('base_estimator', ['DecisionTree', 'RandomForest'])\n",
    "    base_estimator_obj = None\n",
    "    if base_estimator == 'DecisionTree':\n",
    "        base_estimator_obj = opt_decision_tree(trial)\n",
    "    elif base_estimator == 'RandomForest':\n",
    "        base_estimator_obj = opt_random_forest(trial)\n",
    "\n",
    "    n_estimators = trial.suggest_int('n_estimators', 50, 200)\n",
    "    learning_rate = trial.suggest_float('learning_rate', 0.01, 0.3)\n",
    "\n",
    "    return AdaBoostClassifier(\n",
    "        estimator=base_estimator_obj,\n",
    "        n_estimators=n_estimators,\n",
    "        learning_rate=learning_rate\n",
    "    )"
   ],
   "id": "eba4e21b00687def",
   "outputs": [],
   "execution_count": 63
  },
  {
   "cell_type": "markdown",
   "id": "d3f9ecc64667cb38",
   "metadata": {},
   "source": [
    "### Gradient boosting"
   ]
  },
  {
   "cell_type": "code",
   "id": "8fa4715e1c5204c3",
   "metadata": {
    "ExecuteTime": {
     "end_time": "2025-06-15T14:54:47.494860Z",
     "start_time": "2025-06-15T14:54:47.490491Z"
    }
   },
   "source": [
    "from xgboost import XGBClassifier\n",
    "\n",
    "def opt_gradient_boosting(trial):\n",
    "    max_depth = trial.suggest_int('max_depth', 2, 32)\n",
    "    min_samples_split = trial.suggest_int('min_samples_split', 2, 10)\n",
    "    min_samples_leaf = trial.suggest_int('min_samples_leaf', 1, 4)\n",
    "    max_features = trial.suggest_categorical('max_features', ['sqrt', 'log2'])\n",
    "    criterion = trial.suggest_categorical('criterion', ['gini', 'entropy'])\n",
    "    n_estimators = trial.suggest_int('n_estimators', 50, 200)\n",
    "    learning_rate = trial.suggest_float('learning_rate', 0.01, 0.3)\n",
    "    return XGBClassifier(\n",
    "        max_depth=max_depth,\n",
    "        min_samples_split=min_samples_split,\n",
    "        min_samples_leaf=min_samples_leaf,\n",
    "        max_features=max_features,\n",
    "        criterion=criterion,\n",
    "        n_estimators=n_estimators,\n",
    "        learning_rate=learning_rate\n",
    "    )"
   ],
   "outputs": [],
   "execution_count": 64
  },
  {
   "cell_type": "markdown",
   "id": "1fdc4d01bc8789a4",
   "metadata": {},
   "source": [
    "### Stacking"
   ]
  },
  {
   "cell_type": "code",
   "id": "60931346aa26bf34",
   "metadata": {
    "ExecuteTime": {
     "end_time": "2025-06-15T14:54:47.544216Z",
     "start_time": "2025-06-15T14:54:47.537998Z"
    }
   },
   "source": [
    "from sklearn.ensemble import StackingClassifier\n",
    "\n",
    "def opt_stacking(trial):\n",
    "    rf_max_depth = trial.suggest_int('rf_max_depth', 2, 32)\n",
    "    rf_min_samples_split = trial.suggest_int('rf_min_samples_split', 2, 10)\n",
    "    rf_min_samples_leaf = trial.suggest_int('rf_min_samples_leaf', 1, 4)\n",
    "    rf_max_features = trial.suggest_categorical('rf_max_features', ['sqrt', 'log2'])\n",
    "    rf_criterion = trial.suggest_categorical('rf_criterion', ['gini', 'entropy'])\n",
    "    rf_n_estimators = trial.suggest_int('rf_n_estimators', 50, 200)\n",
    "\n",
    "    xgb_max_depth = trial.suggest_int('xgb_max_depth', 2, 32)\n",
    "    xgb_min_samples_split = trial.suggest_int('xgb_min_samples_split', 2, 10)\n",
    "    xgb_min_samples_leaf = trial.suggest_int('xgb_min_samples_leaf', 1, 4)\n",
    "    xgb_max_features = trial.suggest_categorical('xgb_max_features', ['sqrt', 'log2'])\n",
    "    xgb_criterion = trial.suggest_categorical('xgb_criterion', ['gini', 'entropy'])\n",
    "    xgb_n_estimators = trial.suggest_int('xgb_n_estimators', 50, 200)\n",
    "\n",
    "    return StackingClassifier(\n",
    "        estimators=[\n",
    "            ('rf', RandomForestClassifier(\n",
    "                max_depth=rf_max_depth,\n",
    "                min_samples_split=rf_min_samples_split,\n",
    "                min_samples_leaf=rf_min_samples_leaf,\n",
    "                max_features=rf_max_features,\n",
    "                criterion=rf_criterion,\n",
    "                n_estimators=rf_n_estimators\n",
    "            )),\n",
    "            ('xgb', XGBClassifier(\n",
    "                max_depth=xgb_max_depth,\n",
    "                min_samples_split=xgb_min_samples_split,\n",
    "                min_samples_leaf=xgb_min_samples_leaf,\n",
    "                max_features=xgb_max_features,\n",
    "                criterion=xgb_criterion,\n",
    "                n_estimators=xgb_n_estimators\n",
    "            ))\n",
    "        ],\n",
    "        final_estimator=XGBClassifier(random_state=69)\n",
    "    )"
   ],
   "outputs": [],
   "execution_count": 65
  },
  {
   "metadata": {},
   "cell_type": "markdown",
   "source": "## Optimisation des hyperparamètres avec `optuna`",
   "id": "f90251a4bf92921"
  },
  {
   "metadata": {
    "ExecuteTime": {
     "end_time": "2025-06-15T14:56:08.243437Z",
     "start_time": "2025-06-15T14:54:47.587656Z"
    }
   },
   "cell_type": "code",
   "source": [
    "def objective(trial):\n",
    "    # On choisit le classifieur à optimiser, AdaBoosting et Stackinh prennent trop de temps, on les retire pour l'instant\n",
    "    classifier_name = trial.suggest_categorical('classifier', ['DecisionTree', 'RandomForest', 'LogisticRegression', 'GradientBoosting'])#, 'Stacking'])#, 'AdaBoosting'])\n",
    "    # On charge les données d'entraînement et de test\n",
    "    classifier_obj = None\n",
    "    if classifier_name == 'DecisionTree':\n",
    "        classifier_obj = opt_decision_tree(trial)\n",
    "    elif classifier_name == 'RandomForest':\n",
    "        classifier_obj = opt_random_forest(trial)\n",
    "    elif classifier_name == 'LogisticRegression':\n",
    "        classifier_obj = opt_logistic_regression(trial)\n",
    "    elif classifier_name == 'AdaBoosting':\n",
    "        classifier_obj = opt_adaboost(trial)\n",
    "    elif classifier_name == 'GradientBoosting':\n",
    "        classifier_obj = opt_gradient_boosting(trial)\n",
    "    elif classifier_name == 'Stacking':\n",
    "        classifier_obj = opt_stacking(trial)\n",
    "\n",
    "    classifier_obj.fit(X_train, y_train)\n",
    "    y_pred = classifier_obj.predict(X_test)\n",
    "    recall = recall_score(y_test, y_pred)\n",
    "    precision = precision_score(y_test, y_pred)\n",
    "    return recall\n",
    "\n",
    "# study = optuna.create_study(directions=[\"maximize\", \"maximize\"])\n",
    "# On tolère 1 chance sur 1.000.000 de se tromper\n",
    "study = optuna.create_study(direction=\"maximize\", study_name=\"Adult Income Prediction\")\n",
    "study.optimize(objective, n_trials=150)\n",
    "print(\"Best hyperparameters: \", study.best_params)\n",
    "\n",
    "best_model = None\n",
    "if study.best_params['classifier'] == 'DecisionTree':\n",
    "    best_model = opt_decision_tree(optuna.trial.FixedTrial(study.best_params))\n",
    "elif study.best_params['classifier']  == 'RandomForest':\n",
    "    best_model = opt_random_forest(optuna.trial.FixedTrial(study.best_params))\n",
    "elif study.best_params['classifier']  == 'LogisticRegression':\n",
    "    best_model = opt_logistic_regression(optuna.trial.FixedTrial(study.best_params))\n",
    "elif study.best_params['classifier']  == 'AdaBoosting':\n",
    "    best_model = opt_adaboost(optuna.trial.FixedTrial(study.best_params))\n",
    "elif study.best_params['classifier']  == 'GradientBoosting':\n",
    "    best_model = opt_gradient_boosting(optuna.trial.FixedTrial(study.best_params))\n",
    "elif study.best_params['classifier']  == 'Stacking':\n",
    "    best_model = opt_stacking(optuna.trial.FixedTrial(study.best_params))\n",
    "\n",
    "best_model.fit(X_train, y_train)\n",
    "eval_model(best_model, X_test, y_test)\n"
   ],
   "id": "47798d934fb9f931",
   "outputs": [
    {
     "name": "stderr",
     "output_type": "stream",
     "text": [
      "[I 2025-06-15 16:54:47,593] A new study created in memory with name: Adult Income Prediction\n",
      "[I 2025-06-15 16:54:49,994] Trial 0 finished with value: 0.6219448777951118 and parameters: {'classifier': 'GradientBoosting', 'max_depth': 19, 'min_samples_split': 8, 'min_samples_leaf': 3, 'max_features': 'sqrt', 'criterion': 'entropy', 'n_estimators': 174, 'learning_rate': 0.10758096540234441}. Best is trial 0 with value: 0.6219448777951118.\n",
      "[I 2025-06-15 16:54:52,473] Trial 1 finished with value: 0.6014040561622465 and parameters: {'classifier': 'RandomForest', 'rf_max_depth': 31, 'rf_min_samples_split': 2, 'rf_min_samples_leaf': 4, 'rf_max_features': 'log2', 'rf_criterion': 'gini', 'rf_n_estimators': 100}. Best is trial 0 with value: 0.6219448777951118.\n",
      "[I 2025-06-15 16:54:52,512] Trial 2 finished with value: 0.2540301612064483 and parameters: {'classifier': 'DecisionTree', 'max_depth': 6, 'min_samples_split': 10, 'min_samples_leaf': 3, 'max_features': 'sqrt', 'criterion': 'entropy'}. Best is trial 0 with value: 0.6219448777951118.\n",
      "[I 2025-06-15 16:54:52,669] Trial 3 finished with value: 0.5124804992199687 and parameters: {'classifier': 'GradientBoosting', 'max_depth': 2, 'min_samples_split': 6, 'min_samples_leaf': 3, 'max_features': 'log2', 'criterion': 'entropy', 'n_estimators': 121, 'learning_rate': 0.052370760029451624}. Best is trial 0 with value: 0.6219448777951118.\n",
      "[I 2025-06-15 16:54:53,227] Trial 4 finished with value: 0.4500780031201248 and parameters: {'classifier': 'LogisticRegression', 'solver': 'liblinear', 'penalty-liblinear': 'l1', 'l1_ratio': 0.13540043358150414, 'C': 0.12706812083682045, 'max_iter': 123}. Best is trial 0 with value: 0.6219448777951118.\n",
      "[I 2025-06-15 16:54:53,624] Trial 5 finished with value: 0.44903796151846076 and parameters: {'classifier': 'LogisticRegression', 'solver': 'sag', 'penalty': 'l2', 'l1_ratio': 0.15944926401960755, 'C': 0.40534654705012235, 'max_iter': 192}. Best is trial 0 with value: 0.6219448777951118.\n",
      "[I 2025-06-15 16:54:55,454] Trial 6 finished with value: 0.6211648465938637 and parameters: {'classifier': 'GradientBoosting', 'max_depth': 22, 'min_samples_split': 3, 'min_samples_leaf': 3, 'max_features': 'log2', 'criterion': 'gini', 'n_estimators': 165, 'learning_rate': 0.16061916961077075}. Best is trial 0 with value: 0.6219448777951118.\n",
      "[I 2025-06-15 16:54:56,876] Trial 7 finished with value: 0.5920436817472698 and parameters: {'classifier': 'RandomForest', 'rf_max_depth': 15, 'rf_min_samples_split': 4, 'rf_min_samples_leaf': 3, 'rf_max_features': 'sqrt', 'rf_criterion': 'gini', 'rf_n_estimators': 64}. Best is trial 0 with value: 0.6219448777951118.\n",
      "[I 2025-06-15 16:55:00,199] Trial 8 finished with value: 0.5481019240769631 and parameters: {'classifier': 'RandomForest', 'rf_max_depth': 11, 'rf_min_samples_split': 2, 'rf_min_samples_leaf': 2, 'rf_max_features': 'sqrt', 'rf_criterion': 'entropy', 'rf_n_estimators': 175}. Best is trial 0 with value: 0.6219448777951118.\n",
      "[I 2025-06-15 16:55:02,287] Trial 9 finished with value: 0.5327613104524181 and parameters: {'classifier': 'RandomForest', 'rf_max_depth': 9, 'rf_min_samples_split': 8, 'rf_min_samples_leaf': 2, 'rf_max_features': 'log2', 'rf_criterion': 'gini', 'rf_n_estimators': 133}. Best is trial 0 with value: 0.6219448777951118.\n",
      "[I 2025-06-15 16:55:03,789] Trial 10 finished with value: 0.6232449297971919 and parameters: {'classifier': 'GradientBoosting', 'max_depth': 29, 'min_samples_split': 9, 'min_samples_leaf': 1, 'max_features': 'sqrt', 'criterion': 'entropy', 'n_estimators': 200, 'learning_rate': 0.2877145152381385}. Best is trial 10 with value: 0.6232449297971919.\n",
      "[I 2025-06-15 16:55:05,328] Trial 11 finished with value: 0.6118044721788871 and parameters: {'classifier': 'GradientBoosting', 'max_depth': 31, 'min_samples_split': 9, 'min_samples_leaf': 1, 'max_features': 'sqrt', 'criterion': 'entropy', 'n_estimators': 200, 'learning_rate': 0.2997407258537137}. Best is trial 10 with value: 0.6232449297971919.\n",
      "[I 2025-06-15 16:55:06,683] Trial 12 finished with value: 0.6167446697867914 and parameters: {'classifier': 'GradientBoosting', 'max_depth': 22, 'min_samples_split': 7, 'min_samples_leaf': 1, 'max_features': 'sqrt', 'criterion': 'entropy', 'n_estimators': 195, 'learning_rate': 0.13628744286009653}. Best is trial 10 with value: 0.6232449297971919.\n",
      "[I 2025-06-15 16:55:07,382] Trial 13 finished with value: 0.6266250650026001 and parameters: {'classifier': 'GradientBoosting', 'max_depth': 31, 'min_samples_split': 8, 'min_samples_leaf': 4, 'max_features': 'sqrt', 'criterion': 'entropy', 'n_estimators': 61, 'learning_rate': 0.29477244952356507}. Best is trial 13 with value: 0.6266250650026001.\n",
      "[I 2025-06-15 16:55:07,444] Trial 14 finished with value: 0.5863234529381175 and parameters: {'classifier': 'DecisionTree', 'max_depth': 32, 'min_samples_split': 5, 'min_samples_leaf': 4, 'max_features': 'sqrt', 'criterion': 'gini'}. Best is trial 13 with value: 0.6266250650026001.\n",
      "[I 2025-06-15 16:55:08,020] Trial 15 finished with value: 0.6266250650026001 and parameters: {'classifier': 'GradientBoosting', 'max_depth': 27, 'min_samples_split': 10, 'min_samples_leaf': 2, 'max_features': 'sqrt', 'criterion': 'entropy', 'n_estimators': 59, 'learning_rate': 0.29171925002933996}. Best is trial 13 with value: 0.6266250650026001.\n",
      "[I 2025-06-15 16:55:08,628] Trial 16 finished with value: 0.6320852834113364 and parameters: {'classifier': 'GradientBoosting', 'max_depth': 26, 'min_samples_split': 10, 'min_samples_leaf': 2, 'max_features': 'sqrt', 'criterion': 'entropy', 'n_estimators': 51, 'learning_rate': 0.22565398553200441}. Best is trial 16 with value: 0.6320852834113364.\n",
      "[I 2025-06-15 16:55:08,991] Trial 17 finished with value: 0.6372854914196567 and parameters: {'classifier': 'GradientBoosting', 'max_depth': 15, 'min_samples_split': 8, 'min_samples_leaf': 4, 'max_features': 'log2', 'criterion': 'gini', 'n_estimators': 52, 'learning_rate': 0.21946941834191497}. Best is trial 17 with value: 0.6372854914196567.\n",
      "[I 2025-06-15 16:55:09,519] Trial 18 finished with value: 0.44903796151846076 and parameters: {'classifier': 'LogisticRegression', 'solver': 'lbfgs', 'penalty': None, 'l1_ratio': 0.4125243656315346, 'C': 9.34265713463766, 'max_iter': 477}. Best is trial 17 with value: 0.6372854914196567.\n",
      "[I 2025-06-15 16:55:09,601] Trial 19 finished with value: 0.6058242329693188 and parameters: {'classifier': 'DecisionTree', 'max_depth': 12, 'min_samples_split': 5, 'min_samples_leaf': 2, 'max_features': 'log2', 'criterion': 'gini'}. Best is trial 17 with value: 0.6372854914196567.\n",
      "[I 2025-06-15 16:55:09,975] Trial 20 finished with value: 0.6315652626105044 and parameters: {'classifier': 'GradientBoosting', 'max_depth': 12, 'min_samples_split': 2, 'min_samples_leaf': 2, 'max_features': 'log2', 'criterion': 'gini', 'n_estimators': 93, 'learning_rate': 0.20974894786824805}. Best is trial 17 with value: 0.6372854914196567.\n",
      "[I 2025-06-15 16:55:10,362] Trial 21 finished with value: 0.6385855434217369 and parameters: {'classifier': 'GradientBoosting', 'max_depth': 13, 'min_samples_split': 2, 'min_samples_leaf': 2, 'max_features': 'log2', 'criterion': 'gini', 'n_estimators': 87, 'learning_rate': 0.21275822999396526}. Best is trial 21 with value: 0.6385855434217369.\n",
      "[I 2025-06-15 16:55:10,722] Trial 22 finished with value: 0.6393655746229849 and parameters: {'classifier': 'GradientBoosting', 'max_depth': 13, 'min_samples_split': 4, 'min_samples_leaf': 2, 'max_features': 'log2', 'criterion': 'gini', 'n_estimators': 83, 'learning_rate': 0.21948671362427993}. Best is trial 22 with value: 0.6393655746229849.\n",
      "[I 2025-06-15 16:55:11,130] Trial 23 finished with value: 0.6502860114404576 and parameters: {'classifier': 'GradientBoosting', 'max_depth': 13, 'min_samples_split': 3, 'min_samples_leaf': 2, 'max_features': 'log2', 'criterion': 'gini', 'n_estimators': 89, 'learning_rate': 0.21980784075768248}. Best is trial 23 with value: 0.6502860114404576.\n",
      "[I 2025-06-15 16:55:11,404] Trial 24 finished with value: 0.6320852834113364 and parameters: {'classifier': 'GradientBoosting', 'max_depth': 9, 'min_samples_split': 3, 'min_samples_leaf': 2, 'max_features': 'log2', 'criterion': 'gini', 'n_estimators': 92, 'learning_rate': 0.18111572429120112}. Best is trial 23 with value: 0.6502860114404576.\n",
      "[I 2025-06-15 16:55:11,890] Trial 25 finished with value: 0.6287051482059283 and parameters: {'classifier': 'GradientBoosting', 'max_depth': 16, 'min_samples_split': 2, 'min_samples_leaf': 2, 'max_features': 'log2', 'criterion': 'gini', 'n_estimators': 90, 'learning_rate': 0.24371187398081529}. Best is trial 23 with value: 0.6502860114404576.\n",
      "[I 2025-06-15 16:55:12,311] Trial 26 finished with value: 0.6372854914196567 and parameters: {'classifier': 'GradientBoosting', 'max_depth': 12, 'min_samples_split': 4, 'min_samples_leaf': 1, 'max_features': 'log2', 'criterion': 'gini', 'n_estimators': 111, 'learning_rate': 0.24864013573065474}. Best is trial 23 with value: 0.6502860114404576.\n",
      "[I 2025-06-15 16:55:12,454] Trial 27 finished with value: 0.43655746229849196 and parameters: {'classifier': 'LogisticRegression', 'solver': 'newton-cg', 'penalty': 'l2', 'l1_ratio': 0.48468236659383634, 'C': 0.010787834038561815, 'max_iter': 467}. Best is trial 23 with value: 0.6502860114404576.\n",
      "[I 2025-06-15 16:55:12,502] Trial 28 finished with value: 0.6040041601664067 and parameters: {'classifier': 'DecisionTree', 'max_depth': 9, 'min_samples_split': 3, 'min_samples_leaf': 2, 'max_features': 'log2', 'criterion': 'gini'}. Best is trial 23 with value: 0.6502860114404576.\n",
      "[I 2025-06-15 16:55:13,081] Trial 29 finished with value: 0.6196047841913677 and parameters: {'classifier': 'GradientBoosting', 'max_depth': 19, 'min_samples_split': 4, 'min_samples_leaf': 2, 'max_features': 'log2', 'criterion': 'gini', 'n_estimators': 78, 'learning_rate': 0.18305003031712275}. Best is trial 23 with value: 0.6502860114404576.\n",
      "[I 2025-06-15 16:55:13,690] Trial 30 finished with value: 0.624544981799272 and parameters: {'classifier': 'GradientBoosting', 'max_depth': 14, 'min_samples_split': 2, 'min_samples_leaf': 3, 'max_features': 'log2', 'criterion': 'gini', 'n_estimators': 139, 'learning_rate': 0.2571298381717151}. Best is trial 23 with value: 0.6502860114404576.\n",
      "[I 2025-06-15 16:55:14,160] Trial 31 finished with value: 0.6279251170046802 and parameters: {'classifier': 'GradientBoosting', 'max_depth': 16, 'min_samples_split': 4, 'min_samples_leaf': 4, 'max_features': 'log2', 'criterion': 'gini', 'n_estimators': 73, 'learning_rate': 0.211536473812387}. Best is trial 23 with value: 0.6502860114404576.\n",
      "[I 2025-06-15 16:55:14,466] Trial 32 finished with value: 0.6461258450338013 and parameters: {'classifier': 'GradientBoosting', 'max_depth': 9, 'min_samples_split': 3, 'min_samples_leaf': 2, 'max_features': 'log2', 'criterion': 'gini', 'n_estimators': 110, 'learning_rate': 0.20390345497657647}. Best is trial 23 with value: 0.6502860114404576.\n",
      "[I 2025-06-15 16:55:14,738] Trial 33 finished with value: 0.6206448257930317 and parameters: {'classifier': 'GradientBoosting', 'max_depth': 8, 'min_samples_split': 3, 'min_samples_leaf': 2, 'max_features': 'log2', 'criterion': 'gini', 'n_estimators': 106, 'learning_rate': 0.18757893522969107}. Best is trial 23 with value: 0.6502860114404576.\n",
      "[I 2025-06-15 16:55:14,954] Trial 34 finished with value: 0.641965678627145 and parameters: {'classifier': 'GradientBoosting', 'max_depth': 5, 'min_samples_split': 2, 'min_samples_leaf': 2, 'max_features': 'log2', 'criterion': 'gini', 'n_estimators': 137, 'learning_rate': 0.15354779172762034}. Best is trial 23 with value: 0.6502860114404576.\n",
      "[I 2025-06-15 16:55:20,690] Trial 35 finished with value: 0.6032241289651586 and parameters: {'classifier': 'RandomForest', 'rf_max_depth': 29, 'rf_min_samples_split': 10, 'rf_min_samples_leaf': 1, 'rf_max_features': 'sqrt', 'rf_criterion': 'entropy', 'rf_n_estimators': 196}. Best is trial 23 with value: 0.6502860114404576.\n",
      "[I 2025-06-15 16:55:20,899] Trial 36 finished with value: 0.6476859074362975 and parameters: {'classifier': 'GradientBoosting', 'max_depth': 5, 'min_samples_split': 5, 'min_samples_leaf': 1, 'max_features': 'log2', 'criterion': 'gini', 'n_estimators': 136, 'learning_rate': 0.12504802926130515}. Best is trial 23 with value: 0.6502860114404576.\n",
      "[I 2025-06-15 16:55:21,631] Trial 37 finished with value: 0.4498179927197088 and parameters: {'classifier': 'LogisticRegression', 'solver': 'saga', 'penalty-saga': 'l2', 'l1_ratio': 0.25395275771025244, 'C': 9.290373878176206, 'max_iter': 319}. Best is trial 23 with value: 0.6502860114404576.\n",
      "[I 2025-06-15 16:55:21,671] Trial 38 finished with value: 0.4747789911596464 and parameters: {'classifier': 'DecisionTree', 'max_depth': 3, 'min_samples_split': 5, 'min_samples_leaf': 1, 'max_features': 'log2', 'criterion': 'gini'}. Best is trial 23 with value: 0.6502860114404576.\n",
      "[I 2025-06-15 16:55:21,885] Trial 39 finished with value: 0.6487259490379615 and parameters: {'classifier': 'GradientBoosting', 'max_depth': 5, 'min_samples_split': 3, 'min_samples_leaf': 1, 'max_features': 'log2', 'criterion': 'gini', 'n_estimators': 140, 'learning_rate': 0.11275873740316204}. Best is trial 23 with value: 0.6502860114404576.\n",
      "[I 2025-06-15 16:55:25,265] Trial 40 finished with value: 0.5954238169526781 and parameters: {'classifier': 'RandomForest', 'rf_max_depth': 21, 'rf_min_samples_split': 6, 'rf_min_samples_leaf': 4, 'rf_max_features': 'log2', 'rf_criterion': 'entropy', 'rf_n_estimators': 135}. Best is trial 23 with value: 0.6502860114404576.\n",
      "[I 2025-06-15 16:55:25,496] Trial 41 finished with value: 0.6484659386375455 and parameters: {'classifier': 'GradientBoosting', 'max_depth': 5, 'min_samples_split': 3, 'min_samples_leaf': 1, 'max_features': 'log2', 'criterion': 'gini', 'n_estimators': 141, 'learning_rate': 0.10561485289082581}. Best is trial 23 with value: 0.6502860114404576.\n",
      "[I 2025-06-15 16:55:25,689] Trial 42 finished with value: 0.6396255850234009 and parameters: {'classifier': 'GradientBoosting', 'max_depth': 5, 'min_samples_split': 3, 'min_samples_leaf': 1, 'max_features': 'log2', 'criterion': 'gini', 'n_estimators': 141, 'learning_rate': 0.0950014822865968}. Best is trial 23 with value: 0.6502860114404576.\n",
      "[I 2025-06-15 16:55:25,985] Trial 43 finished with value: 0.6380655226209049 and parameters: {'classifier': 'GradientBoosting', 'max_depth': 7, 'min_samples_split': 4, 'min_samples_leaf': 1, 'max_features': 'log2', 'criterion': 'gini', 'n_estimators': 156, 'learning_rate': 0.09984293069901766}. Best is trial 23 with value: 0.6502860114404576.\n",
      "[I 2025-06-15 16:55:26,365] Trial 44 finished with value: 0.6344253770150806 and parameters: {'classifier': 'GradientBoosting', 'max_depth': 10, 'min_samples_split': 6, 'min_samples_leaf': 1, 'max_features': 'log2', 'criterion': 'gini', 'n_estimators': 123, 'learning_rate': 0.07354273444826012}. Best is trial 23 with value: 0.6502860114404576.\n",
      "[I 2025-06-15 16:55:26,559] Trial 45 finished with value: 0.6378055122204889 and parameters: {'classifier': 'GradientBoosting', 'max_depth': 4, 'min_samples_split': 3, 'min_samples_leaf': 1, 'max_features': 'log2', 'criterion': 'gini', 'n_estimators': 152, 'learning_rate': 0.12349075650956938}. Best is trial 23 with value: 0.6502860114404576.\n",
      "[I 2025-06-15 16:55:26,687] Trial 46 finished with value: 0.5691627665106604 and parameters: {'classifier': 'GradientBoosting', 'max_depth': 2, 'min_samples_split': 6, 'min_samples_leaf': 1, 'max_features': 'log2', 'criterion': 'gini', 'n_estimators': 112, 'learning_rate': 0.12898733042972477}. Best is trial 23 with value: 0.6502860114404576.\n",
      "[I 2025-06-15 16:55:26,855] Trial 47 finished with value: 0.44929797191887677 and parameters: {'classifier': 'LogisticRegression', 'solver': 'newton-cg', 'penalty': None, 'l1_ratio': 0.2500275198752227, 'C': 0.6680309448497058, 'max_iter': 301}. Best is trial 23 with value: 0.6502860114404576.\n",
      "[I 2025-06-15 16:55:27,270] Trial 48 finished with value: 0.3039521580863235 and parameters: {'classifier': 'RandomForest', 'rf_max_depth': 3, 'rf_min_samples_split': 10, 'rf_min_samples_leaf': 1, 'rf_max_features': 'log2', 'rf_criterion': 'gini', 'rf_n_estimators': 53}. Best is trial 23 with value: 0.6502860114404576.\n",
      "[I 2025-06-15 16:55:27,565] Trial 49 finished with value: 0.5670826833073322 and parameters: {'classifier': 'GradientBoosting', 'max_depth': 7, 'min_samples_split': 5, 'min_samples_leaf': 1, 'max_features': 'log2', 'criterion': 'gini', 'n_estimators': 131, 'learning_rate': 0.021643409414316722}. Best is trial 23 with value: 0.6502860114404576.\n",
      "[I 2025-06-15 16:55:28,011] Trial 50 finished with value: 0.6435257410296412 and parameters: {'classifier': 'GradientBoosting', 'max_depth': 10, 'min_samples_split': 3, 'min_samples_leaf': 3, 'max_features': 'log2', 'criterion': 'gini', 'n_estimators': 147, 'learning_rate': 0.08180656198522059}. Best is trial 23 with value: 0.6502860114404576.\n",
      "[I 2025-06-15 16:55:28,526] Trial 51 finished with value: 0.6443057722308893 and parameters: {'classifier': 'GradientBoosting', 'max_depth': 10, 'min_samples_split': 3, 'min_samples_leaf': 3, 'max_features': 'log2', 'criterion': 'gini', 'n_estimators': 161, 'learning_rate': 0.07594922921870625}. Best is trial 23 with value: 0.6502860114404576.\n",
      "[I 2025-06-15 16:55:28,780] Trial 52 finished with value: 0.6489859594383776 and parameters: {'classifier': 'GradientBoosting', 'max_depth': 6, 'min_samples_split': 3, 'min_samples_leaf': 3, 'max_features': 'log2', 'criterion': 'gini', 'n_estimators': 164, 'learning_rate': 0.11209951673557761}. Best is trial 23 with value: 0.6502860114404576.\n",
      "[I 2025-06-15 16:55:29,075] Trial 53 finished with value: 0.6476859074362975 and parameters: {'classifier': 'GradientBoosting', 'max_depth': 6, 'min_samples_split': 4, 'min_samples_leaf': 3, 'max_features': 'log2', 'criterion': 'gini', 'n_estimators': 171, 'learning_rate': 0.11407004279875058}. Best is trial 23 with value: 0.6502860114404576.\n",
      "[I 2025-06-15 16:55:29,362] Trial 54 finished with value: 0.6492459698387936 and parameters: {'classifier': 'GradientBoosting', 'max_depth': 6, 'min_samples_split': 4, 'min_samples_leaf': 3, 'max_features': 'log2', 'criterion': 'gini', 'n_estimators': 181, 'learning_rate': 0.110741661831472}. Best is trial 23 with value: 0.6502860114404576.\n",
      "[I 2025-06-15 16:55:29,578] Trial 55 finished with value: 0.641185647425897 and parameters: {'classifier': 'GradientBoosting', 'max_depth': 4, 'min_samples_split': 4, 'min_samples_leaf': 3, 'max_features': 'log2', 'criterion': 'gini', 'n_estimators': 187, 'learning_rate': 0.15374404601808622}. Best is trial 23 with value: 0.6502860114404576.\n",
      "[I 2025-06-15 16:55:29,615] Trial 56 finished with value: 0.391055642225689 and parameters: {'classifier': 'DecisionTree', 'max_depth': 2, 'min_samples_split': 5, 'min_samples_leaf': 3, 'max_features': 'log2', 'criterion': 'entropy'}. Best is trial 23 with value: 0.6502860114404576.\n",
      "[I 2025-06-15 16:55:29,857] Trial 57 finished with value: 0.642225689027561 and parameters: {'classifier': 'GradientBoosting', 'max_depth': 5, 'min_samples_split': 4, 'min_samples_leaf': 3, 'max_features': 'sqrt', 'criterion': 'gini', 'n_estimators': 179, 'learning_rate': 0.14029189051616472}. Best is trial 23 with value: 0.6502860114404576.\n",
      "[I 2025-06-15 16:55:30,170] Trial 58 finished with value: 0.642225689027561 and parameters: {'classifier': 'GradientBoosting', 'max_depth': 7, 'min_samples_split': 3, 'min_samples_leaf': 1, 'max_features': 'log2', 'criterion': 'gini', 'n_estimators': 169, 'learning_rate': 0.1102960170846752}. Best is trial 23 with value: 0.6502860114404576.\n",
      "[I 2025-06-15 16:55:30,406] Trial 59 finished with value: 0.6159646385855434 and parameters: {'classifier': 'GradientBoosting', 'max_depth': 4, 'min_samples_split': 2, 'min_samples_leaf': 1, 'max_features': 'log2', 'criterion': 'entropy', 'n_estimators': 181, 'learning_rate': 0.05909923741177097}. Best is trial 23 with value: 0.6502860114404576.\n",
      "[I 2025-06-15 16:55:30,792] Trial 60 finished with value: 0.44929797191887677 and parameters: {'classifier': 'LogisticRegression', 'solver': 'sag', 'penalty': None, 'l1_ratio': 0.11163934976874114, 'C': 0.010825780259972334, 'max_iter': 97}. Best is trial 23 with value: 0.6502860114404576.\n",
      "[I 2025-06-15 16:55:31,107] Trial 61 finished with value: 0.6430057202288092 and parameters: {'classifier': 'GradientBoosting', 'max_depth': 6, 'min_samples_split': 4, 'min_samples_leaf': 3, 'max_features': 'log2', 'criterion': 'gini', 'n_estimators': 167, 'learning_rate': 0.11322630291210775}. Best is trial 23 with value: 0.6502860114404576.\n",
      "[I 2025-06-15 16:55:31,353] Trial 62 finished with value: 0.6435257410296412 and parameters: {'classifier': 'GradientBoosting', 'max_depth': 6, 'min_samples_split': 5, 'min_samples_leaf': 3, 'max_features': 'log2', 'criterion': 'gini', 'n_estimators': 130, 'learning_rate': 0.0916695051782014}. Best is trial 23 with value: 0.6502860114404576.\n",
      "[I 2025-06-15 16:55:31,539] Trial 63 finished with value: 0.623764950598024 and parameters: {'classifier': 'GradientBoosting', 'max_depth': 3, 'min_samples_split': 6, 'min_samples_leaf': 3, 'max_features': 'log2', 'criterion': 'gini', 'n_estimators': 174, 'learning_rate': 0.11563856529656895}. Best is trial 23 with value: 0.6502860114404576.\n",
      "[I 2025-06-15 16:55:31,771] Trial 64 finished with value: 0.6458658346333853 and parameters: {'classifier': 'GradientBoosting', 'max_depth': 6, 'min_samples_split': 4, 'min_samples_leaf': 3, 'max_features': 'sqrt', 'criterion': 'gini', 'n_estimators': 147, 'learning_rate': 0.1349011258155305}. Best is trial 23 with value: 0.6502860114404576.\n",
      "[I 2025-06-15 16:55:32,934] Trial 65 finished with value: 0.6235049401976079 and parameters: {'classifier': 'GradientBoosting', 'max_depth': 19, 'min_samples_split': 4, 'min_samples_leaf': 3, 'max_features': 'log2', 'criterion': 'gini', 'n_estimators': 187, 'learning_rate': 0.10549712385562901}. Best is trial 23 with value: 0.6502860114404576.\n",
      "[I 2025-06-15 16:55:33,257] Trial 66 finished with value: 0.6313052522100884 and parameters: {'classifier': 'GradientBoosting', 'max_depth': 8, 'min_samples_split': 3, 'min_samples_leaf': 4, 'max_features': 'log2', 'criterion': 'gini', 'n_estimators': 151, 'learning_rate': 0.1445846266374554}. Best is trial 23 with value: 0.6502860114404576.\n",
      "[I 2025-06-15 16:55:35,635] Trial 67 finished with value: 0.5972438897555902 and parameters: {'classifier': 'RandomForest', 'rf_max_depth': 23, 'rf_min_samples_split': 6, 'rf_min_samples_leaf': 3, 'rf_max_features': 'sqrt', 'rf_criterion': 'entropy', 'rf_n_estimators': 95}. Best is trial 23 with value: 0.6502860114404576.\n",
      "[I 2025-06-15 16:55:35,975] Trial 68 finished with value: 0.6450858034321373 and parameters: {'classifier': 'GradientBoosting', 'max_depth': 8, 'min_samples_split': 5, 'min_samples_leaf': 1, 'max_features': 'log2', 'criterion': 'entropy', 'n_estimators': 160, 'learning_rate': 0.1692212647936822}. Best is trial 23 with value: 0.6502860114404576.\n",
      "[I 2025-06-15 16:55:36,014] Trial 69 finished with value: 0.38039521580863234 and parameters: {'classifier': 'DecisionTree', 'max_depth': 3, 'min_samples_split': 2, 'min_samples_leaf': 3, 'max_features': 'sqrt', 'criterion': 'gini'}. Best is trial 23 with value: 0.6502860114404576.\n",
      "[I 2025-06-15 16:55:36,278] Trial 70 finished with value: 0.6471658866354654 and parameters: {'classifier': 'GradientBoosting', 'max_depth': 5, 'min_samples_split': 3, 'min_samples_leaf': 1, 'max_features': 'log2', 'criterion': 'gini', 'n_estimators': 190, 'learning_rate': 0.12399874616047149}. Best is trial 23 with value: 0.6502860114404576.\n",
      "[I 2025-06-15 16:55:36,544] Trial 71 finished with value: 0.6482059282371295 and parameters: {'classifier': 'GradientBoosting', 'max_depth': 5, 'min_samples_split': 3, 'min_samples_leaf': 1, 'max_features': 'log2', 'criterion': 'gini', 'n_estimators': 195, 'learning_rate': 0.11988113269247289}. Best is trial 23 with value: 0.6502860114404576.\n",
      "[I 2025-06-15 16:55:37,957] Trial 72 finished with value: 0.6232449297971919 and parameters: {'classifier': 'GradientBoosting', 'max_depth': 21, 'min_samples_split': 3, 'min_samples_leaf': 1, 'max_features': 'log2', 'criterion': 'gini', 'n_estimators': 194, 'learning_rate': 0.08832015054545017}. Best is trial 23 with value: 0.6502860114404576.\n",
      "[I 2025-06-15 16:55:38,267] Trial 73 finished with value: 0.6289651586063443 and parameters: {'classifier': 'GradientBoosting', 'max_depth': 6, 'min_samples_split': 4, 'min_samples_leaf': 1, 'max_features': 'log2', 'criterion': 'gini', 'n_estimators': 178, 'learning_rate': 0.11755802666759954}. Best is trial 23 with value: 0.6502860114404576.\n",
      "[I 2025-06-15 16:55:38,511] Trial 74 finished with value: 0.642225689027561 and parameters: {'classifier': 'GradientBoosting', 'max_depth': 4, 'min_samples_split': 2, 'min_samples_leaf': 1, 'max_features': 'log2', 'criterion': 'gini', 'n_estimators': 198, 'learning_rate': 0.100016672745863}. Best is trial 23 with value: 0.6502860114404576.\n",
      "[I 2025-06-15 16:55:38,875] Trial 75 finished with value: 0.640665626625065 and parameters: {'classifier': 'GradientBoosting', 'max_depth': 7, 'min_samples_split': 3, 'min_samples_leaf': 1, 'max_features': 'log2', 'criterion': 'gini', 'n_estimators': 172, 'learning_rate': 0.06444600902231479}. Best is trial 23 with value: 0.6502860114404576.\n",
      "[I 2025-06-15 16:55:39,039] Trial 76 finished with value: 0.6146645865834633 and parameters: {'classifier': 'GradientBoosting', 'max_depth': 3, 'min_samples_split': 7, 'min_samples_leaf': 3, 'max_features': 'log2', 'criterion': 'gini', 'n_estimators': 118, 'learning_rate': 0.13335769295085476}. Best is trial 23 with value: 0.6502860114404576.\n",
      "[I 2025-06-15 16:55:40,262] Trial 77 finished with value: 0.6120644825793031 and parameters: {'classifier': 'GradientBoosting', 'max_depth': 25, 'min_samples_split': 4, 'min_samples_leaf': 1, 'max_features': 'log2', 'criterion': 'gini', 'n_estimators': 133, 'learning_rate': 0.1084024848167607}. Best is trial 23 with value: 0.6502860114404576.\n",
      "[I 2025-06-15 16:55:40,526] Trial 78 finished with value: 0.640925637025481 and parameters: {'classifier': 'GradientBoosting', 'max_depth': 5, 'min_samples_split': 2, 'min_samples_leaf': 3, 'max_features': 'log2', 'criterion': 'gini', 'n_estimators': 183, 'learning_rate': 0.2738381803464958}. Best is trial 23 with value: 0.6502860114404576.\n",
      "[I 2025-06-15 16:55:41,274] Trial 79 finished with value: 0.4498179927197088 and parameters: {'classifier': 'LogisticRegression', 'solver': 'saga', 'penalty-saga': None, 'l1_ratio': 0.3389711901160801, 'C': 0.06286644330240618, 'max_iter': 389}. Best is trial 23 with value: 0.6502860114404576.\n",
      "[I 2025-06-15 16:55:41,608] Trial 80 finished with value: 0.6297451898075923 and parameters: {'classifier': 'GradientBoosting', 'max_depth': 11, 'min_samples_split': 3, 'min_samples_leaf': 4, 'max_features': 'log2', 'criterion': 'entropy', 'n_estimators': 100, 'learning_rate': 0.1668185028011006}. Best is trial 23 with value: 0.6502860114404576.\n",
      "[I 2025-06-15 16:55:41,878] Trial 81 finished with value: 0.6487259490379615 and parameters: {'classifier': 'GradientBoosting', 'max_depth': 5, 'min_samples_split': 3, 'min_samples_leaf': 1, 'max_features': 'log2', 'criterion': 'gini', 'n_estimators': 191, 'learning_rate': 0.12091832936954586}. Best is trial 23 with value: 0.6502860114404576.\n",
      "[I 2025-06-15 16:55:42,273] Trial 82 finished with value: 0.6365054602184087 and parameters: {'classifier': 'GradientBoosting', 'max_depth': 8, 'min_samples_split': 3, 'min_samples_leaf': 1, 'max_features': 'log2', 'criterion': 'gini', 'n_estimators': 194, 'learning_rate': 0.12033222465845496}. Best is trial 23 with value: 0.6502860114404576.\n",
      "[I 2025-06-15 16:55:42,447] Trial 83 finished with value: 0.5956838273530941 and parameters: {'classifier': 'GradientBoosting', 'max_depth': 2, 'min_samples_split': 3, 'min_samples_leaf': 1, 'max_features': 'log2', 'criterion': 'gini', 'n_estimators': 142, 'learning_rate': 0.14251545939103652}. Best is trial 23 with value: 0.6502860114404576.\n",
      "[I 2025-06-15 16:55:42,738] Trial 84 finished with value: 0.6424856994279771 and parameters: {'classifier': 'GradientBoosting', 'max_depth': 6, 'min_samples_split': 4, 'min_samples_leaf': 1, 'max_features': 'log2', 'criterion': 'gini', 'n_estimators': 200, 'learning_rate': 0.10489456808521647}. Best is trial 23 with value: 0.6502860114404576.\n",
      "[I 2025-06-15 16:55:44,165] Trial 85 finished with value: 0.46515860634425377 and parameters: {'classifier': 'RandomForest', 'rf_max_depth': 4, 'rf_min_samples_split': 8, 'rf_min_samples_leaf': 1, 'rf_max_features': 'sqrt', 'rf_criterion': 'gini', 'rf_n_estimators': 158}. Best is trial 23 with value: 0.6502860114404576.\n",
      "[I 2025-06-15 16:55:44,288] Trial 86 finished with value: 0.5816432657306292 and parameters: {'classifier': 'GradientBoosting', 'max_depth': 4, 'min_samples_split': 2, 'min_samples_leaf': 2, 'max_features': 'log2', 'criterion': 'gini', 'n_estimators': 68, 'learning_rate': 0.08915845967015595}. Best is trial 23 with value: 0.6502860114404576.\n",
      "[I 2025-06-15 16:55:44,338] Trial 87 finished with value: 0.3208528341133645 and parameters: {'classifier': 'DecisionTree', 'max_depth': 7, 'min_samples_split': 3, 'min_samples_leaf': 1, 'max_features': 'log2', 'criterion': 'gini'}. Best is trial 23 with value: 0.6502860114404576.\n",
      "[I 2025-06-15 16:55:44,802] Trial 88 finished with value: 0.6274050962038481 and parameters: {'classifier': 'GradientBoosting', 'max_depth': 9, 'min_samples_split': 5, 'min_samples_leaf': 1, 'max_features': 'sqrt', 'criterion': 'gini', 'n_estimators': 190, 'learning_rate': 0.12478610703367077}. Best is trial 23 with value: 0.6502860114404576.\n",
      "[I 2025-06-15 16:55:45,072] Trial 89 finished with value: 0.6500260010400416 and parameters: {'classifier': 'GradientBoosting', 'max_depth': 5, 'min_samples_split': 4, 'min_samples_leaf': 2, 'max_features': 'log2', 'criterion': 'gini', 'n_estimators': 175, 'learning_rate': 0.09861339378213445}. Best is trial 23 with value: 0.6502860114404576.\n",
      "[I 2025-06-15 16:55:45,327] Trial 90 finished with value: 0.6393655746229849 and parameters: {'classifier': 'GradientBoosting', 'max_depth': 5, 'min_samples_split': 9, 'min_samples_leaf': 2, 'max_features': 'log2', 'criterion': 'gini', 'n_estimators': 163, 'learning_rate': 0.09811660124511881}. Best is trial 23 with value: 0.6502860114404576.\n",
      "[I 2025-06-15 16:55:45,998] Trial 91 finished with value: 0.6495059802392096 and parameters: {'classifier': 'GradientBoosting', 'max_depth': 6, 'min_samples_split': 4, 'min_samples_leaf': 2, 'max_features': 'log2', 'criterion': 'gini', 'n_estimators': 174, 'learning_rate': 0.13026410789418505}. Best is trial 23 with value: 0.6502860114404576.\n",
      "[I 2025-06-15 16:55:46,181] Trial 92 finished with value: 0.6323452938117524 and parameters: {'classifier': 'GradientBoosting', 'max_depth': 3, 'min_samples_split': 3, 'min_samples_leaf': 2, 'max_features': 'log2', 'criterion': 'gini', 'n_estimators': 178, 'learning_rate': 0.14750365089396267}. Best is trial 23 with value: 0.6502860114404576.\n",
      "[I 2025-06-15 16:55:46,377] Trial 93 finished with value: 0.6500260010400416 and parameters: {'classifier': 'GradientBoosting', 'max_depth': 5, 'min_samples_split': 5, 'min_samples_leaf': 2, 'max_features': 'log2', 'criterion': 'gini', 'n_estimators': 126, 'learning_rate': 0.1323489158023254}. Best is trial 23 with value: 0.6502860114404576.\n",
      "[I 2025-06-15 16:55:46,554] Trial 94 finished with value: 0.6375455018200729 and parameters: {'classifier': 'GradientBoosting', 'max_depth': 4, 'min_samples_split': 4, 'min_samples_leaf': 2, 'max_features': 'log2', 'criterion': 'gini', 'n_estimators': 127, 'learning_rate': 0.1339749463974394}. Best is trial 23 with value: 0.6502860114404576.\n",
      "[I 2025-06-15 16:55:47,914] Trial 95 finished with value: 0.625065002600104 and parameters: {'classifier': 'GradientBoosting', 'max_depth': 17, 'min_samples_split': 3, 'min_samples_leaf': 2, 'max_features': 'log2', 'criterion': 'gini', 'n_estimators': 185, 'learning_rate': 0.0815241631189057}. Best is trial 23 with value: 0.6502860114404576.\n",
      "[I 2025-06-15 16:55:48,161] Trial 96 finished with value: 0.640405616224649 and parameters: {'classifier': 'GradientBoosting', 'max_depth': 8, 'min_samples_split': 4, 'min_samples_leaf': 2, 'max_features': 'log2', 'criterion': 'gini', 'n_estimators': 120, 'learning_rate': 0.16101758935397487}. Best is trial 23 with value: 0.6502860114404576.\n",
      "[I 2025-06-15 16:55:48,476] Trial 97 finished with value: 0.6276651066042642 and parameters: {'classifier': 'GradientBoosting', 'max_depth': 7, 'min_samples_split': 3, 'min_samples_leaf': 2, 'max_features': 'log2', 'criterion': 'gini', 'n_estimators': 157, 'learning_rate': 0.10354572994455623}. Best is trial 23 with value: 0.6502860114404576.\n",
      "[I 2025-06-15 16:55:48,930] Trial 98 finished with value: 0.44929797191887677 and parameters: {'classifier': 'LogisticRegression', 'solver': 'lbfgs', 'penalty': 'l2', 'l1_ratio': 0.17428277260242298, 'C': 2.1414862857187553, 'max_iter': 181}. Best is trial 23 with value: 0.6502860114404576.\n",
      "[I 2025-06-15 16:55:49,228] Trial 99 finished with value: 0.6471658866354654 and parameters: {'classifier': 'GradientBoosting', 'max_depth': 5, 'min_samples_split': 2, 'min_samples_leaf': 2, 'max_features': 'log2', 'criterion': 'gini', 'n_estimators': 174, 'learning_rate': 0.13008466593801576}. Best is trial 23 with value: 0.6502860114404576.\n",
      "[I 2025-06-15 16:55:49,525] Trial 100 finished with value: 0.6523660946437857 and parameters: {'classifier': 'GradientBoosting', 'max_depth': 6, 'min_samples_split': 5, 'min_samples_leaf': 2, 'max_features': 'log2', 'criterion': 'gini', 'n_estimators': 191, 'learning_rate': 0.1118999415197478}. Best is trial 100 with value: 0.6523660946437857.\n",
      "[I 2025-06-15 16:55:49,795] Trial 101 finished with value: 0.6453458138325533 and parameters: {'classifier': 'GradientBoosting', 'max_depth': 6, 'min_samples_split': 5, 'min_samples_leaf': 2, 'max_features': 'log2', 'criterion': 'gini', 'n_estimators': 190, 'learning_rate': 0.11466194192042302}. Best is trial 100 with value: 0.6523660946437857.\n",
      "[I 2025-06-15 16:55:50,016] Trial 102 finished with value: 0.6318252730109204 and parameters: {'classifier': 'GradientBoosting', 'max_depth': 4, 'min_samples_split': 7, 'min_samples_leaf': 2, 'max_features': 'log2', 'criterion': 'gini', 'n_estimators': 182, 'learning_rate': 0.0948849264025435}. Best is trial 100 with value: 0.6523660946437857.\n",
      "[I 2025-06-15 16:55:50,310] Trial 103 finished with value: 0.6474258970358814 and parameters: {'classifier': 'GradientBoosting', 'max_depth': 6, 'min_samples_split': 5, 'min_samples_leaf': 2, 'max_features': 'log2', 'criterion': 'gini', 'n_estimators': 195, 'learning_rate': 0.12213796637527213}. Best is trial 100 with value: 0.6523660946437857.\n",
      "[I 2025-06-15 16:55:50,502] Trial 104 finished with value: 0.6201248049921997 and parameters: {'classifier': 'GradientBoosting', 'max_depth': 3, 'min_samples_split': 4, 'min_samples_leaf': 2, 'max_features': 'log2', 'criterion': 'gini', 'n_estimators': 166, 'learning_rate': 0.10790865824163491}. Best is trial 100 with value: 0.6523660946437857.\n",
      "[I 2025-06-15 16:55:51,280] Trial 105 finished with value: 0.6300052002080083 and parameters: {'classifier': 'GradientBoosting', 'max_depth': 14, 'min_samples_split': 6, 'min_samples_leaf': 2, 'max_features': 'log2', 'criterion': 'gini', 'n_estimators': 177, 'learning_rate': 0.14935650811252443}. Best is trial 100 with value: 0.6523660946437857.\n",
      "[I 2025-06-15 16:55:51,521] Trial 106 finished with value: 0.6461258450338013 and parameters: {'classifier': 'GradientBoosting', 'max_depth': 7, 'min_samples_split': 4, 'min_samples_leaf': 2, 'max_features': 'log2', 'criterion': 'entropy', 'n_estimators': 117, 'learning_rate': 0.23186462976722907}. Best is trial 100 with value: 0.6523660946437857.\n",
      "[I 2025-06-15 16:55:53,678] Trial 107 finished with value: 0.6014040561622465 and parameters: {'classifier': 'RandomForest', 'rf_max_depth': 24, 'rf_min_samples_split': 4, 'rf_min_samples_leaf': 3, 'rf_max_features': 'log2', 'rf_criterion': 'entropy', 'rf_n_estimators': 84}. Best is trial 100 with value: 0.6523660946437857.\n",
      "[I 2025-06-15 16:55:54,035] Trial 108 finished with value: 0.6536661466458659 and parameters: {'classifier': 'GradientBoosting', 'max_depth': 5, 'min_samples_split': 6, 'min_samples_leaf': 2, 'max_features': 'sqrt', 'criterion': 'gini', 'n_estimators': 188, 'learning_rate': 0.13982034042507985}. Best is trial 108 with value: 0.6536661466458659.\n",
      "[I 2025-06-15 16:55:54,089] Trial 109 finished with value: 0.5343213728549142 and parameters: {'classifier': 'DecisionTree', 'max_depth': 8, 'min_samples_split': 7, 'min_samples_leaf': 2, 'max_features': 'sqrt', 'criterion': 'gini'}. Best is trial 108 with value: 0.6536661466458659.\n",
      "[I 2025-06-15 16:55:54,249] Trial 110 finished with value: 0.5977639105564223 and parameters: {'classifier': 'GradientBoosting', 'max_depth': 2, 'min_samples_split': 6, 'min_samples_leaf': 2, 'max_features': 'sqrt', 'criterion': 'gini', 'n_estimators': 187, 'learning_rate': 0.1381039683656897}. Best is trial 108 with value: 0.6536661466458659.\n",
      "[I 2025-06-15 16:55:54,518] Trial 111 finished with value: 0.6476859074362975 and parameters: {'classifier': 'GradientBoosting', 'max_depth': 5, 'min_samples_split': 6, 'min_samples_leaf': 2, 'max_features': 'sqrt', 'criterion': 'gini', 'n_estimators': 192, 'learning_rate': 0.12680403926656436}. Best is trial 108 with value: 0.6536661466458659.\n",
      "[I 2025-06-15 16:55:54,719] Trial 112 finished with value: 0.6266250650026001 and parameters: {'classifier': 'GradientBoosting', 'max_depth': 4, 'min_samples_split': 3, 'min_samples_leaf': 2, 'max_features': 'sqrt', 'criterion': 'gini', 'n_estimators': 184, 'learning_rate': 0.19685480970089236}. Best is trial 108 with value: 0.6536661466458659.\n",
      "[I 2025-06-15 16:55:55,053] Trial 113 finished with value: 0.6474258970358814 and parameters: {'classifier': 'GradientBoosting', 'max_depth': 6, 'min_samples_split': 3, 'min_samples_leaf': 2, 'max_features': 'log2', 'criterion': 'gini', 'n_estimators': 196, 'learning_rate': 0.11662207814956067}. Best is trial 108 with value: 0.6536661466458659.\n",
      "[I 2025-06-15 16:55:55,299] Trial 114 finished with value: 0.642225689027561 and parameters: {'classifier': 'GradientBoosting', 'max_depth': 5, 'min_samples_split': 5, 'min_samples_leaf': 2, 'max_features': 'log2', 'criterion': 'gini', 'n_estimators': 144, 'learning_rate': 0.11082783959930184}. Best is trial 108 with value: 0.6536661466458659.\n",
      "[I 2025-06-15 16:55:55,771] Trial 115 finished with value: 0.6453458138325533 and parameters: {'classifier': 'GradientBoosting', 'max_depth': 7, 'min_samples_split': 4, 'min_samples_leaf': 1, 'max_features': 'sqrt', 'criterion': 'gini', 'n_estimators': 125, 'learning_rate': 0.08384800684692408}. Best is trial 108 with value: 0.6536661466458659.\n",
      "[I 2025-06-15 16:55:55,945] Trial 116 finished with value: 0.6432657306292252 and parameters: {'classifier': 'GradientBoosting', 'max_depth': 4, 'min_samples_split': 5, 'min_samples_leaf': 2, 'max_features': 'log2', 'criterion': 'gini', 'n_estimators': 136, 'learning_rate': 0.13830957564369967}. Best is trial 108 with value: 0.6536661466458659.\n",
      "[I 2025-06-15 16:55:56,207] Trial 117 finished with value: 0.6427457098283932 and parameters: {'classifier': 'GradientBoosting', 'max_depth': 6, 'min_samples_split': 3, 'min_samples_leaf': 1, 'max_features': 'log2', 'criterion': 'gini', 'n_estimators': 170, 'learning_rate': 0.12903728554912103}. Best is trial 108 with value: 0.6536661466458659.\n",
      "[I 2025-06-15 16:55:56,420] Trial 118 finished with value: 0.6198647945917837 and parameters: {'classifier': 'GradientBoosting', 'max_depth': 3, 'min_samples_split': 4, 'min_samples_leaf': 3, 'max_features': 'log2', 'criterion': 'gini', 'n_estimators': 181, 'learning_rate': 0.09999695585117807}. Best is trial 108 with value: 0.6536661466458659.\n",
      "[I 2025-06-15 16:55:56,826] Trial 119 finished with value: 0.6349453978159126 and parameters: {'classifier': 'GradientBoosting', 'max_depth': 9, 'min_samples_split': 3, 'min_samples_leaf': 1, 'max_features': 'log2', 'criterion': 'gini', 'n_estimators': 175, 'learning_rate': 0.12012701798755289}. Best is trial 108 with value: 0.6536661466458659.\n",
      "[I 2025-06-15 16:55:56,989] Trial 120 finished with value: 0.44929797191887677 and parameters: {'classifier': 'LogisticRegression', 'solver': 'liblinear', 'penalty-liblinear': 'l2', 'l1_ratio': 0.10024620650874046, 'C': 0.0610735502380501, 'max_iter': 52}. Best is trial 108 with value: 0.6536661466458659.\n",
      "[I 2025-06-15 16:55:57,185] Trial 121 finished with value: 0.6531461258450338 and parameters: {'classifier': 'GradientBoosting', 'max_depth': 5, 'min_samples_split': 5, 'min_samples_leaf': 1, 'max_features': 'log2', 'criterion': 'gini', 'n_estimators': 136, 'learning_rate': 0.12949402037238986}. Best is trial 108 with value: 0.6536661466458659.\n",
      "[I 2025-06-15 16:55:57,385] Trial 122 finished with value: 0.6443057722308893 and parameters: {'classifier': 'GradientBoosting', 'max_depth': 5, 'min_samples_split': 5, 'min_samples_leaf': 1, 'max_features': 'log2', 'criterion': 'gini', 'n_estimators': 138, 'learning_rate': 0.11126530097621538}. Best is trial 108 with value: 0.6536661466458659.\n",
      "[I 2025-06-15 16:55:57,653] Trial 123 finished with value: 0.642225689027561 and parameters: {'classifier': 'GradientBoosting', 'max_depth': 6, 'min_samples_split': 6, 'min_samples_leaf': 1, 'max_features': 'log2', 'criterion': 'gini', 'n_estimators': 151, 'learning_rate': 0.1515037419056643}. Best is trial 108 with value: 0.6536661466458659.\n",
      "[I 2025-06-15 16:55:57,848] Trial 124 finished with value: 0.6510660426417056 and parameters: {'classifier': 'GradientBoosting', 'max_depth': 5, 'min_samples_split': 5, 'min_samples_leaf': 1, 'max_features': 'log2', 'criterion': 'gini', 'n_estimators': 129, 'learning_rate': 0.1319904420246765}. Best is trial 108 with value: 0.6536661466458659.\n",
      "[I 2025-06-15 16:55:58,107] Trial 125 finished with value: 0.6471658866354654 and parameters: {'classifier': 'GradientBoosting', 'max_depth': 7, 'min_samples_split': 5, 'min_samples_leaf': 1, 'max_features': 'log2', 'criterion': 'entropy', 'n_estimators': 129, 'learning_rate': 0.1434281631739866}. Best is trial 108 with value: 0.6536661466458659.\n",
      "[I 2025-06-15 16:55:58,277] Trial 126 finished with value: 0.6341653666146646 and parameters: {'classifier': 'GradientBoosting', 'max_depth': 4, 'min_samples_split': 5, 'min_samples_leaf': 2, 'max_features': 'log2', 'criterion': 'gini', 'n_estimators': 134, 'learning_rate': 0.13252218193976417}. Best is trial 108 with value: 0.6536661466458659.\n",
      "[I 2025-06-15 16:55:58,499] Trial 127 finished with value: 0.6453458138325533 and parameters: {'classifier': 'GradientBoosting', 'max_depth': 5, 'min_samples_split': 6, 'min_samples_leaf': 3, 'max_features': 'log2', 'criterion': 'gini', 'n_estimators': 145, 'learning_rate': 0.10347857606117004}. Best is trial 108 with value: 0.6536661466458659.\n",
      "[I 2025-06-15 16:55:58,686] Trial 128 finished with value: 0.6471658866354654 and parameters: {'classifier': 'GradientBoosting', 'max_depth': 8, 'min_samples_split': 5, 'min_samples_leaf': 1, 'max_features': 'log2', 'criterion': 'gini', 'n_estimators': 57, 'learning_rate': 0.15805834912901373}. Best is trial 108 with value: 0.6536661466458659.\n",
      "[I 2025-06-15 16:56:03,359] Trial 129 finished with value: 0.5995839833593344 and parameters: {'classifier': 'RandomForest', 'rf_max_depth': 17, 'rf_min_samples_split': 4, 'rf_min_samples_leaf': 2, 'rf_max_features': 'log2', 'rf_criterion': 'gini', 'rf_n_estimators': 200}. Best is trial 108 with value: 0.6536661466458659.\n",
      "[I 2025-06-15 16:56:03,488] Trial 130 finished with value: 0.593863754550182 and parameters: {'classifier': 'GradientBoosting', 'max_depth': 2, 'min_samples_split': 4, 'min_samples_leaf': 1, 'max_features': 'sqrt', 'criterion': 'gini', 'n_estimators': 124, 'learning_rate': 0.17414134702648537}. Best is trial 108 with value: 0.6536661466458659.\n",
      "[I 2025-06-15 16:56:03,740] Trial 131 finished with value: 0.6435257410296412 and parameters: {'classifier': 'GradientBoosting', 'max_depth': 5, 'min_samples_split': 3, 'min_samples_leaf': 1, 'max_features': 'log2', 'criterion': 'gini', 'n_estimators': 188, 'learning_rate': 0.12076695283396863}. Best is trial 108 with value: 0.6536661466458659.\n",
      "[I 2025-06-15 16:56:03,963] Trial 132 finished with value: 0.6367654706188247 and parameters: {'classifier': 'GradientBoosting', 'max_depth': 6, 'min_samples_split': 8, 'min_samples_leaf': 1, 'max_features': 'log2', 'criterion': 'gini', 'n_estimators': 132, 'learning_rate': 0.12599971775942206}. Best is trial 108 with value: 0.6536661466458659.\n",
      "[I 2025-06-15 16:56:04,160] Trial 133 finished with value: 0.6320852834113364 and parameters: {'classifier': 'GradientBoosting', 'max_depth': 4, 'min_samples_split': 3, 'min_samples_leaf': 1, 'max_features': 'log2', 'criterion': 'gini', 'n_estimators': 140, 'learning_rate': 0.09436546220054312}. Best is trial 108 with value: 0.6536661466458659.\n",
      "[I 2025-06-15 16:56:04,335] Trial 134 finished with value: 0.6430057202288092 and parameters: {'classifier': 'GradientBoosting', 'max_depth': 5, 'min_samples_split': 5, 'min_samples_leaf': 1, 'max_features': 'log2', 'criterion': 'gini', 'n_estimators': 113, 'learning_rate': 0.13630215073346955}. Best is trial 108 with value: 0.6536661466458659.\n",
      "[I 2025-06-15 16:56:04,583] Trial 135 finished with value: 0.6235049401976079 and parameters: {'classifier': 'GradientBoosting', 'max_depth': 3, 'min_samples_split': 4, 'min_samples_leaf': 1, 'max_features': 'log2', 'criterion': 'gini', 'n_estimators': 200, 'learning_rate': 0.11655921355406434}. Best is trial 108 with value: 0.6536661466458659.\n",
      "[I 2025-06-15 16:56:04,638] Trial 136 finished with value: 0.5241809672386896 and parameters: {'classifier': 'DecisionTree', 'max_depth': 7, 'min_samples_split': 3, 'min_samples_leaf': 2, 'max_features': 'log2', 'criterion': 'gini'}. Best is trial 108 with value: 0.6536661466458659.\n",
      "[I 2025-06-15 16:56:04,924] Trial 137 finished with value: 0.6432657306292252 and parameters: {'classifier': 'GradientBoosting', 'max_depth': 6, 'min_samples_split': 4, 'min_samples_leaf': 3, 'max_features': 'log2', 'criterion': 'gini', 'n_estimators': 193, 'learning_rate': 0.1297169226816074}. Best is trial 108 with value: 0.6536661466458659.\n",
      "[I 2025-06-15 16:56:05,177] Trial 138 finished with value: 0.639885595423817 and parameters: {'classifier': 'GradientBoosting', 'max_depth': 5, 'min_samples_split': 2, 'min_samples_leaf': 1, 'max_features': 'log2', 'criterion': 'gini', 'n_estimators': 128, 'learning_rate': 0.10879005405822273}. Best is trial 108 with value: 0.6536661466458659.\n",
      "[I 2025-06-15 16:56:05,386] Trial 139 finished with value: 0.6544461778471139 and parameters: {'classifier': 'GradientBoosting', 'max_depth': 7, 'min_samples_split': 5, 'min_samples_leaf': 2, 'max_features': 'log2', 'criterion': 'gini', 'n_estimators': 98, 'learning_rate': 0.14115936220256858}. Best is trial 139 with value: 0.6544461778471139.\n",
      "[I 2025-06-15 16:56:05,595] Trial 140 finished with value: 0.6497659906396256 and parameters: {'classifier': 'GradientBoosting', 'max_depth': 7, 'min_samples_split': 5, 'min_samples_leaf': 2, 'max_features': 'log2', 'criterion': 'gini', 'n_estimators': 80, 'learning_rate': 0.14457783721567521}. Best is trial 139 with value: 0.6544461778471139.\n",
      "[I 2025-06-15 16:56:05,802] Trial 141 finished with value: 0.6456058242329693 and parameters: {'classifier': 'GradientBoosting', 'max_depth': 7, 'min_samples_split': 5, 'min_samples_leaf': 2, 'max_features': 'log2', 'criterion': 'gini', 'n_estimators': 95, 'learning_rate': 0.14371007849081074}. Best is trial 139 with value: 0.6544461778471139.\n",
      "[I 2025-06-15 16:56:06,085] Trial 142 finished with value: 0.6510660426417056 and parameters: {'classifier': 'GradientBoosting', 'max_depth': 10, 'min_samples_split': 5, 'min_samples_leaf': 2, 'max_features': 'log2', 'criterion': 'gini', 'n_estimators': 85, 'learning_rate': 0.16022983815148403}. Best is trial 139 with value: 0.6544461778471139.\n",
      "[I 2025-06-15 16:56:06,456] Trial 143 finished with value: 0.6346853874154966 and parameters: {'classifier': 'GradientBoosting', 'max_depth': 13, 'min_samples_split': 5, 'min_samples_leaf': 2, 'max_features': 'log2', 'criterion': 'gini', 'n_estimators': 84, 'learning_rate': 0.14806929702384264}. Best is trial 139 with value: 0.6544461778471139.\n",
      "[I 2025-06-15 16:56:06,746] Trial 144 finished with value: 0.6344253770150806 and parameters: {'classifier': 'GradientBoosting', 'max_depth': 11, 'min_samples_split': 5, 'min_samples_leaf': 2, 'max_features': 'log2', 'criterion': 'gini', 'n_estimators': 79, 'learning_rate': 0.16546136832864106}. Best is trial 139 with value: 0.6544461778471139.\n",
      "[I 2025-06-15 16:56:07,073] Trial 145 finished with value: 0.6318252730109204 and parameters: {'classifier': 'GradientBoosting', 'max_depth': 11, 'min_samples_split': 5, 'min_samples_leaf': 2, 'max_features': 'log2', 'criterion': 'gini', 'n_estimators': 88, 'learning_rate': 0.2646370373323101}. Best is trial 139 with value: 0.6544461778471139.\n",
      "[I 2025-06-15 16:56:07,282] Trial 146 finished with value: 0.641445657826313 and parameters: {'classifier': 'GradientBoosting', 'max_depth': 9, 'min_samples_split': 6, 'min_samples_leaf': 2, 'max_features': 'log2', 'criterion': 'gini', 'n_estimators': 71, 'learning_rate': 0.15560134160733252}. Best is trial 139 with value: 0.6544461778471139.\n",
      "[I 2025-06-15 16:56:07,504] Trial 147 finished with value: 0.6448257930317213 and parameters: {'classifier': 'GradientBoosting', 'max_depth': 9, 'min_samples_split': 5, 'min_samples_leaf': 2, 'max_features': 'log2', 'criterion': 'gini', 'n_estimators': 78, 'learning_rate': 0.13811476301118156}. Best is trial 139 with value: 0.6544461778471139.\n",
      "[I 2025-06-15 16:56:07,741] Trial 148 finished with value: 0.5681227249089964 and parameters: {'classifier': 'GradientBoosting', 'max_depth': 7, 'min_samples_split': 5, 'min_samples_leaf': 2, 'max_features': 'log2', 'criterion': 'entropy', 'n_estimators': 96, 'learning_rate': 0.030419450209596743}. Best is trial 139 with value: 0.6544461778471139.\n",
      "[I 2025-06-15 16:56:08,034] Trial 149 finished with value: 0.6526261050442018 and parameters: {'classifier': 'GradientBoosting', 'max_depth': 10, 'min_samples_split': 5, 'min_samples_leaf': 2, 'max_features': 'sqrt', 'criterion': 'gini', 'n_estimators': 102, 'learning_rate': 0.13201784998458593}. Best is trial 139 with value: 0.6544461778471139.\n"
     ]
    },
    {
     "name": "stdout",
     "output_type": "stream",
     "text": [
      "Best hyperparameters:  {'classifier': 'GradientBoosting', 'max_depth': 7, 'min_samples_split': 5, 'min_samples_leaf': 2, 'max_features': 'log2', 'criterion': 'gini', 'n_estimators': 98, 'learning_rate': 0.14115936220256858}\n",
      "=== Evaluation du modèle XGBClassifier ===\n",
      "Accuracy : 0.8737 (the higher the better)\n",
      "Recall : 0.6544 (the higher the better) (best for us)\n",
      "R2 : 0.3001 (the higher the better)\n",
      "MAE : 0.1263 (the lower the better)\n",
      "RMSE : 0.1263 (the lower the better)\n"
     ]
    },
    {
     "data": {
      "text/plain": [
       "array([0, 0, 0, ..., 1, 0, 1], shape=(16281,))"
      ]
     },
     "execution_count": 66,
     "metadata": {},
     "output_type": "execute_result"
    }
   ],
   "execution_count": 66
  },
  {
   "metadata": {
    "ExecuteTime": {
     "end_time": "2025-06-15T14:56:10.185868Z",
     "start_time": "2025-06-15T14:56:08.275653Z"
    }
   },
   "cell_type": "code",
   "source": [
    "for i in range(10):\n",
    "    X_train, X_test, y_train, y_test = train_test_split(df_adult_new.drop(columns=[\"income\"]), df_adult_new[\"income\"], test_size=0.2)\n",
    "    # On normalise les variables quantitatives sur les données de train (StandardScaler pour l'instant)\n",
    "    numerical_columns = df_adult.select_dtypes(include=['int64', 'float64']).columns\n",
    "    numerical_scaler = StandardScaler()\n",
    "    numerical_scaler.fit(X_train[numerical_columns])\n",
    "    X_train[numerical_columns] = numerical_scaler.transform(X_train[numerical_columns])\n",
    "    X_test[numerical_columns] = numerical_scaler.transform(X_test[numerical_columns])\n",
    "\n",
    "    best_model.fit(X_train, y_train)\n",
    "    print(f\"\\n=== Evaluation num {i+1} du modèle ===\")\n",
    "    eval_model(best_model, X_test, y_test)"
   ],
   "id": "6dcb8886c8e7b9ca",
   "outputs": [
    {
     "name": "stdout",
     "output_type": "stream",
     "text": [
      "\n",
      "=== Evaluation num 1 du modèle ===\n",
      "=== Evaluation du modèle XGBClassifier ===\n",
      "Accuracy : 0.8686 (the higher the better)\n",
      "Recall : 0.6464 (the higher the better) (best for us)\n",
      "R2 : 0.2908 (the higher the better)\n",
      "MAE : 0.1314 (the lower the better)\n",
      "RMSE : 0.1314 (the lower the better)\n",
      "\n",
      "=== Evaluation num 2 du modèle ===\n",
      "=== Evaluation du modèle XGBClassifier ===\n",
      "Accuracy : 0.8708 (the higher the better)\n",
      "Recall : 0.6509 (the higher the better) (best for us)\n",
      "R2 : 0.2859 (the higher the better)\n",
      "MAE : 0.1292 (the lower the better)\n",
      "RMSE : 0.1292 (the lower the better)\n",
      "\n",
      "=== Evaluation num 3 du modèle ===\n",
      "=== Evaluation du modèle XGBClassifier ===\n",
      "Accuracy : 0.8686 (the higher the better)\n",
      "Recall : 0.6699 (the higher the better) (best for us)\n",
      "R2 : 0.2704 (the higher the better)\n",
      "MAE : 0.1314 (the lower the better)\n",
      "RMSE : 0.1314 (the lower the better)\n",
      "\n",
      "=== Evaluation num 4 du modèle ===\n",
      "=== Evaluation du modèle XGBClassifier ===\n",
      "Accuracy : 0.8758 (the higher the better)\n",
      "Recall : 0.6652 (the higher the better) (best for us)\n",
      "R2 : 0.3264 (the higher the better)\n",
      "MAE : 0.1242 (the lower the better)\n",
      "RMSE : 0.1242 (the lower the better)\n",
      "\n",
      "=== Evaluation num 5 du modèle ===\n",
      "=== Evaluation du modèle XGBClassifier ===\n",
      "Accuracy : 0.8752 (the higher the better)\n",
      "Recall : 0.6597 (the higher the better) (best for us)\n",
      "R2 : 0.3074 (the higher the better)\n",
      "MAE : 0.1248 (the lower the better)\n",
      "RMSE : 0.1248 (the lower the better)\n",
      "\n",
      "=== Evaluation num 6 du modèle ===\n",
      "=== Evaluation du modèle XGBClassifier ===\n",
      "Accuracy : 0.8686 (the higher the better)\n",
      "Recall : 0.6482 (the higher the better) (best for us)\n",
      "R2 : 0.2820 (the higher the better)\n",
      "MAE : 0.1314 (the lower the better)\n",
      "RMSE : 0.1314 (the lower the better)\n",
      "\n",
      "=== Evaluation num 7 du modèle ===\n",
      "=== Evaluation du modèle XGBClassifier ===\n",
      "Accuracy : 0.8729 (the higher the better)\n",
      "Recall : 0.6741 (the higher the better) (best for us)\n",
      "R2 : 0.3161 (the higher the better)\n",
      "MAE : 0.1271 (the lower the better)\n",
      "RMSE : 0.1271 (the lower the better)\n",
      "\n",
      "=== Evaluation num 8 du modèle ===\n",
      "=== Evaluation du modèle XGBClassifier ===\n",
      "Accuracy : 0.8758 (the higher the better)\n",
      "Recall : 0.6557 (the higher the better) (best for us)\n",
      "R2 : 0.3061 (the higher the better)\n",
      "MAE : 0.1242 (the lower the better)\n",
      "RMSE : 0.1242 (the lower the better)\n",
      "\n",
      "=== Evaluation num 9 du modèle ===\n",
      "=== Evaluation du modèle XGBClassifier ===\n",
      "Accuracy : 0.8719 (the higher the better)\n",
      "Recall : 0.6311 (the higher the better) (best for us)\n",
      "R2 : 0.2870 (the higher the better)\n",
      "MAE : 0.1281 (the lower the better)\n",
      "RMSE : 0.1281 (the lower the better)\n",
      "\n",
      "=== Evaluation num 10 du modèle ===\n",
      "=== Evaluation du modèle XGBClassifier ===\n",
      "Accuracy : 0.8697 (the higher the better)\n",
      "Recall : 0.6520 (the higher the better) (best for us)\n",
      "R2 : 0.2869 (the higher the better)\n",
      "MAE : 0.1303 (the lower the better)\n",
      "RMSE : 0.1303 (the lower the better)\n"
     ]
    }
   ],
   "execution_count": 67
  },
  {
   "metadata": {},
   "cell_type": "markdown",
   "source": "## Evaluation du modèle\n",
   "id": "2c49c36455b2c689"
  },
  {
   "metadata": {
    "ExecuteTime": {
     "end_time": "2025-06-15T14:56:10.217636Z",
     "start_time": "2025-06-15T14:56:10.196778Z"
    }
   },
   "cell_type": "code",
   "source": [
    "# Prédictions des probabilités pour la classe positive\n",
    "y_pred_proba = best_model.predict_proba(X_test)[:, 1]"
   ],
   "id": "858b3e7d56bed815",
   "outputs": [],
   "execution_count": 68
  },
  {
   "metadata": {},
   "cell_type": "markdown",
   "source": "### Courbe ROC",
   "id": "898a6d15d885fee8"
  },
  {
   "metadata": {
    "ExecuteTime": {
     "end_time": "2025-06-15T14:56:10.362240Z",
     "start_time": "2025-06-15T14:56:10.245674Z"
    }
   },
   "cell_type": "code",
   "source": [
    "from sklearn.metrics import roc_curve, auc\n",
    "\n",
    "# Calcul des FPR, TPR et seuils\n",
    "fpr, tpr, thresholds = roc_curve(y_test, y_pred_proba)\n",
    "\n",
    "# Calcul de l'AUC\n",
    "roc_auc = auc(fpr, tpr)\n",
    "\n",
    "# Tracé de la courbe ROC\n",
    "plt.figure(figsize=(8, 6))\n",
    "plt.plot(fpr, tpr, color='blue', lw=2, label=f'ROC curve (AUC = {roc_auc:.2f})')\n",
    "plt.plot([0, 1], [0, 1], color='gray', linestyle='--', lw=2)  # Ligne diagonale\n",
    "plt.xlabel('False Positive Rate (FPR)')\n",
    "plt.ylabel('True Positive Rate (TPR)')\n",
    "plt.title('Receiver Operating Characteristic (ROC) Curve')\n",
    "plt.legend(loc='lower right')\n",
    "plt.grid(alpha=0.3)\n",
    "plt.show()"
   ],
   "id": "e0c4f4b797f4a193",
   "outputs": [
    {
     "data": {
      "text/plain": [
       "<Figure size 800x600 with 1 Axes>"
      ],
      "image/png": "[encoded data removed]"
     },
     "metadata": {},
     "output_type": "display_data"
    }
   ],
   "execution_count": 69
  },
  {
   "metadata": {},
   "cell_type": "markdown",
   "source": "### Courbe de précision-rappel",
   "id": "3a7b1772fcb8607c"
  },
  {
   "metadata": {
    "ExecuteTime": {
     "end_time": "2025-06-15T14:56:10.508466Z",
     "start_time": "2025-06-15T14:56:10.368612Z"
    }
   },
   "cell_type": "code",
   "source": [
    "from sklearn.metrics import precision_recall_curve, average_precision_score\n",
    "import matplotlib.pyplot as plt\n",
    "\n",
    "# Calcul de la precision du rappel, et des seuils\n",
    "precision, recall, thresholds = precision_recall_curve(y_test, y_pred_proba)\n",
    "\n",
    "# Calcul de la moyenne de précision\n",
    "avg_precision = average_precision_score(y_test, y_pred_proba)\n",
    "pr_auc = auc(recall, precision)\n",
    "\n",
    "# Tracé de la courbe de précision-rappel\n",
    "plt.figure(figsize=(8, 6))\n",
    "plt.plot(recall, precision, color='blue', lw=2, label=f'Precision-Recall curve (AP = {avg_precision:.2f})')\n",
    "plt.xlabel('Recall')\n",
    "plt.ylabel('Precision')\n",
    "plt.title('Precision-Recall Curve')\n",
    "plt.legend(loc='lower left')\n",
    "plt.grid(alpha=0.3)\n",
    "plt.show()"
   ],
   "id": "671729f3c36f80fa",
   "outputs": [
    {
     "data": {
      "text/plain": [
       "<Figure size 800x600 with 1 Axes>"
      ],
      "image/png": "[encoded data removed]"
     },
     "metadata": {},
     "output_type": "display_data"
    }
   ],
   "execution_count": 70
  },
  {
   "metadata": {},
   "cell_type": "markdown",
   "source": "### Matrice de confusion",
   "id": "ae6faf19b6500185"
  },
  {
   "metadata": {
    "ExecuteTime": {
     "end_time": "2025-06-15T14:56:11.301462Z",
     "start_time": "2025-06-15T14:56:10.514825Z"
    }
   },
   "cell_type": "code",
   "source": [
    "from sklearn.metrics import confusion_matrix, ConfusionMatrixDisplay\n",
    "import seaborn as sns\n",
    "import matplotlib.pyplot as plt\n",
    "\n",
    "# Génération des prédictions\n",
    "y_pred = best_model.predict(X_test)\n",
    "\n",
    "# Calcul de la matrice de confusion\n",
    "conf_matrix = confusion_matrix(y_test, y_pred)\n",
    "\n",
    "print(f\"Pourcentage de bonnes prédictions lors d'une prédiction négative :  {conf_matrix[0, 0] / (conf_matrix[0, 0] + conf_matrix[1, 0]) * 100:.2f}%\")\n",
    "print(f\"Pourcentage de bonnes prédictions lors d'une prédiction positive :  {conf_matrix[1, 1] / (conf_matrix[1, 1] + conf_matrix[0, 1]) * 100:.2f}%\")\n",
    "\n",
    "# Plot the confusion matrix\n",
    "plt.figure(figsize=(8, 6))\n",
    "sns.heatmap(conf_matrix, annot=True, fmt='d', cmap='Blues', xticklabels=['<=50K', '>50K'], yticklabels=['<=50K', '>50K'])\n",
    "plt.xlabel('Predicted Label')\n",
    "plt.ylabel('True Label')\n",
    "plt.title('Confusion Matrix')\n",
    "plt.show()"
   ],
   "id": "3c150379acbfd445",
   "outputs": [
    {
     "name": "stdout",
     "output_type": "stream",
     "text": [
      "Pourcentage de bonnes prédictions lors d'une prédiction négative :  89.49%\n",
      "Pourcentage de bonnes prédictions lors d'une prédiction positive :  77.11%\n"
     ]
    },
    {
     "data": {
      "text/plain": [
       "<Figure size 800x600 with 2 Axes>"
      ],
      "image/png": "[encoded data removed]"
     },
     "metadata": {},
     "output_type": "display_data"
    }
   ],
   "execution_count": 71
  }
 ],
 "metadata": {
  "kernelspec": {
   "display_name": "machine_learning",
   "language": "python",
   "name": "python3"
  },
  "language_info": {
   "codemirror_mode": {
    "name": "ipython",
    "version": 3
   },
   "file_extension": ".py",
   "mimetype": "text/x-python",
   "name": "python",
   "nbconvert_exporter": "python",
   "pygments_lexer": "ipython3",
   "version": "3.13.3"
  }
 },
 "nbformat": 4,
 "nbformat_minor": 5
}
