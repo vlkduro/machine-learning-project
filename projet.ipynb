{
 "cells": [
  {
   "cell_type": "markdown",
   "id": "1e5bfb37",
   "metadata": {},
   "source": [
    "## AI28 - Projet - Prédiction du niveau de revenus."
   ]
  },
  {
   "cell_type": "code",
   "execution_count": null,
   "id": "a8ac31df",
   "metadata": {
    "ExecuteTime": {
     "end_time": "2025-06-15T14:54:10.634047Z",
     "start_time": "2025-06-15T14:54:10.631446Z"
    }
   },
   "outputs": [],
   "source": []
  },
  {
   "cell_type": "code",
   "execution_count": 54,
   "id": "001b1097",
   "metadata": {
    "ExecuteTime": {
     "end_time": "2025-06-15T14:54:10.653601Z",
     "start_time": "2025-06-15T14:54:10.642246Z"
    }
   },
   "outputs": [],
   "source": [
    "# OS\n",
    "import sys\n",
    "\n",
    "\n",
    "# WARNINGS\n",
    "import warnings\n",
    "warnings.filterwarnings('ignore')\n",
    "warnings.filterwarnings('error', category=DeprecationWarning)\n",
    "\n",
    "# NUMPY\n",
    "import numpy as np\n",
    "\n",
    "# STATS\n",
    "import scipy.stats as stats\n",
    "from scipy.stats import norm, skew\n",
    "\n",
    "# MATPLOTLIB\n",
    "import matplotlib as mpl\n",
    "import matplotlib.pyplot as plt\n",
    "%matplotlib inline\n",
    "# plt.style.use('fivethirtyeight') \n",
    "\n",
    "params = {'axes.labelsize': 8, # 12\n",
    "          'font.size': 8, # 12\n",
    "          'legend.fontsize': 8, # 12\n",
    "          'xtick.labelsize': 8, # 10\n",
    "          'ytick.labelsize': 8, # 10\n",
    "          'text.usetex': True,\n",
    "          'figure.figsize': (10, 8)}\n",
    "plt.rcParams.update(params)\n",
    "\n",
    "\n",
    "# PANDAS\n",
    "import pandas as pd \n",
    "pd.set_option(\"display.max_rows\", None, \"display.max_columns\", None) \n",
    "\n",
    "# SEABORN \n",
    "import seaborn as sns\n",
    "# sns.set_context(\"poster\")\n",
    "# sns.set_style(\"ticks\")\n",
    "\n",
    "# SCHIKIT-LEARN: PRE-PROCESSING\n",
    "from sklearn.preprocessing import LabelEncoder, OrdinalEncoder # Encodage des variables catégorielles ordinales\n",
    "from sklearn.preprocessing import LabelBinarizer, OneHotEncoder # Encodage des variables catégorielles nominales\n",
    "from sklearn.preprocessing import StandardScaler # Standardisation des variables numériques\n",
    "from sklearn.preprocessing import MinMaxScaler # Normalisation MinMax\n",
    "from sklearn.preprocessing import RobustScaler\n",
    "from sklearn.impute import SimpleImputer # Imputation\n",
    "from sklearn.impute import KNNImputer \n",
    "\n",
    "\n",
    "# SCHIKIT-LEARN: MODELES\n",
    "from sklearn import linear_model # Classe Modèle linéaire \n",
    "from sklearn.linear_model import LinearRegression \n",
    "from sklearn.linear_model import Ridge\n",
    "from sklearn.linear_model import Lasso \n",
    "from sklearn.linear_model import ElasticNet\n",
    "from sklearn.svm import SVR \n",
    "from sklearn.neighbors import KNeighborsClassifier\n",
    "\n",
    "# SCHIKIT-LEARN: VALIDATION CROISEE + OPTIMISATION\n",
    "from sklearn.model_selection import train_test_split\n",
    "from sklearn.model_selection import StratifiedKFold\n",
    "from sklearn.model_selection import cross_val_score # Validation croisée pour comparaison entre modèles\n",
    "from sklearn.model_selection import validation_curve # Courbe de validation: visualiser les scores lors du choix d'un hyperparamétre\n",
    "from sklearn.model_selection import GridSearchCV # Tester plusieurs hyperparamètres\n",
    "from sklearn.model_selection import RandomizedSearchCV # Tester plusieurs hyperparamètres\n",
    "from sklearn.model_selection import learning_curve # Courbe d'apprentissage: visualisation des scores du train et du validation sets en fonction des quantités des données\n",
    "import optuna\n",
    " \n",
    "## EVALUATION\n",
    "\n",
    "from sklearn.metrics import r2_score, accuracy_score, recall_score, precision_score  # Coefficient R2\n",
    "from sklearn.metrics import mean_absolute_error #  MAE\n",
    "from sklearn.metrics import mean_squared_error  # RMSE\n",
    "from sklearn.metrics import median_absolute_error # Erreur de la médiane absolue\n",
    "\n",
    "# SCHIKIT-LEARN: PIPELINE AND TRANSFORMATEUR\n",
    "from sklearn.pipeline import Pipeline\n",
    "from sklearn.pipeline import make_pipeline\n",
    "from sklearn.compose import make_column_transformer\n",
    "\n",
    "# SOURCE DATA\n",
    "from ucimlrepo import fetch_ucirepo "
   ]
  },
  {
   "cell_type": "code",
   "execution_count": 55,
   "id": "6ce14a4a",
   "metadata": {
    "ExecuteTime": {
     "end_time": "2025-06-15T14:54:18.430605Z",
     "start_time": "2025-06-15T14:54:14.285799Z"
    }
   },
   "outputs": [],
   "source": [
    "# Utilisation des commandes fournies par UCI\n",
    "\n",
    "# Télécharger le jeu de données \n",
    "data_adult = fetch_ucirepo(id=2) "
   ]
  },
  {
   "cell_type": "code",
   "execution_count": 56,
   "id": "cdfbbc57",
   "metadata": {
    "ExecuteTime": {
     "end_time": "2025-06-15T14:54:22.083410Z",
     "start_time": "2025-06-15T14:54:22.080077Z"
    }
   },
   "outputs": [],
   "source": [
    "# data (as pandas dataframes) \n",
    "x = data_adult.data.features # variables explicatives\n",
    "y = data_adult.data.targets # variables cibles"
   ]
  },
  {
   "cell_type": "code",
   "execution_count": 57,
   "id": "3347fb27",
   "metadata": {
    "ExecuteTime": {
     "end_time": "2025-06-15T14:54:28.582182Z",
     "start_time": "2025-06-15T14:54:28.579766Z"
    }
   },
   "outputs": [
    {
     "name": "stdout",
     "output_type": "stream",
     "text": [
      "{'uci_id': 2, 'name': 'Adult', 'repository_url': 'https://archive.ics.uci.edu/dataset/2/adult', 'data_url': 'https://archive.ics.uci.edu/static/public/2/data.csv', 'abstract': 'Predict whether annual income of an individual exceeds $50K/yr based on census data. Also known as \"Census Income\" dataset. ', 'area': 'Social Science', 'tasks': ['Classification'], 'characteristics': ['Multivariate'], 'num_instances': 48842, 'num_features': 14, 'feature_types': ['Categorical', 'Integer'], 'demographics': ['Age', 'Income', 'Education Level', 'Other', 'Race', 'Sex'], 'target_col': ['income'], 'index_col': None, 'has_missing_values': 'yes', 'missing_values_symbol': 'NaN', 'year_of_dataset_creation': 1996, 'last_updated': 'Tue Sep 24 2024', 'dataset_doi': '10.24432/C5XW20', 'creators': ['Barry Becker', 'Ronny Kohavi'], 'intro_paper': None, 'additional_info': {'summary': \"Extraction was done by Barry Becker from the 1994 Census database.  A set of reasonably clean records was extracted using the following conditions: ((AAGE>16) && (AGI>100) && (AFNLWGT>1)&& (HRSWK>0))\\n\\nPrediction task is to determine whether a person's income is over $50,000 a year.\\n\", 'purpose': None, 'funded_by': None, 'instances_represent': None, 'recommended_data_splits': None, 'sensitive_data': None, 'preprocessing_description': None, 'variable_info': 'Listing of attributes:\\r\\n\\r\\n>50K, <=50K.\\r\\n\\r\\nage: continuous.\\r\\nworkclass: Private, Self-emp-not-inc, Self-emp-inc, Federal-gov, Local-gov, State-gov, Without-pay, Never-worked.\\r\\nfnlwgt: continuous.\\r\\neducation: Bachelors, Some-college, 11th, HS-grad, Prof-school, Assoc-acdm, Assoc-voc, 9th, 7th-8th, 12th, Masters, 1st-4th, 10th, Doctorate, 5th-6th, Preschool.\\r\\neducation-num: continuous.\\r\\nmarital-status: Married-civ-spouse, Divorced, Never-married, Separated, Widowed, Married-spouse-absent, Married-AF-spouse.\\r\\noccupation: Tech-support, Craft-repair, Other-service, Sales, Exec-managerial, Prof-specialty, Handlers-cleaners, Machine-op-inspct, Adm-clerical, Farming-fishing, Transport-moving, Priv-house-serv, Protective-serv, Armed-Forces.\\r\\nrelationship: Wife, Own-child, Husband, Not-in-family, Other-relative, Unmarried.\\r\\nrace: White, Asian-Pac-Islander, Amer-Indian-Eskimo, Other, Black.\\r\\nsex: Female, Male.\\r\\ncapital-gain: continuous.\\r\\ncapital-loss: continuous.\\r\\nhours-per-week: continuous.\\r\\nnative-country: United-States, Cambodia, England, Puerto-Rico, Canada, Germany, Outlying-US(Guam-USVI-etc), India, Japan, Greece, South, China, Cuba, Iran, Honduras, Philippines, Italy, Poland, Jamaica, Vietnam, Mexico, Portugal, Ireland, France, Dominican-Republic, Laos, Ecuador, Taiwan, Haiti, Columbia, Hungary, Guatemala, Nicaragua, Scotland, Thailand, Yugoslavia, El-Salvador, Trinadad&Tobago, Peru, Hong, Holand-Netherlands.', 'citation': None}}\n"
     ]
    }
   ],
   "source": [
    "# metadata \n",
    "print(data_adult.metadata) "
   ]
  },
  {
   "cell_type": "code",
   "execution_count": 58,
   "id": "e5866137",
   "metadata": {
    "ExecuteTime": {
     "end_time": "2025-06-15T14:54:28.635768Z",
     "start_time": "2025-06-15T14:54:28.629271Z"
    }
   },
   "outputs": [
    {
     "name": "stdout",
     "output_type": "stream",
     "text": [
      "              name     role         type      demographic  \\\n",
      "0              age  Feature      Integer              Age   \n",
      "1        workclass  Feature  Categorical           Income   \n",
      "2           fnlwgt  Feature      Integer             None   \n",
      "3        education  Feature  Categorical  Education Level   \n",
      "4    education-num  Feature      Integer  Education Level   \n",
      "5   marital-status  Feature  Categorical            Other   \n",
      "6       occupation  Feature  Categorical            Other   \n",
      "7     relationship  Feature  Categorical            Other   \n",
      "8             race  Feature  Categorical             Race   \n",
      "9              sex  Feature       Binary              Sex   \n",
      "10    capital-gain  Feature      Integer             None   \n",
      "11    capital-loss  Feature      Integer             None   \n",
      "12  hours-per-week  Feature      Integer             None   \n",
      "13  native-country  Feature  Categorical            Other   \n",
      "14          income   Target       Binary           Income   \n",
      "\n",
      "                                          description units missing_values  \n",
      "0                                                 N/A  None             no  \n",
      "1   Private, Self-emp-not-inc, Self-emp-inc, Feder...  None            yes  \n",
      "2                                                None  None             no  \n",
      "3    Bachelors, Some-college, 11th, HS-grad, Prof-...  None             no  \n",
      "4                                                None  None             no  \n",
      "5   Married-civ-spouse, Divorced, Never-married, S...  None             no  \n",
      "6   Tech-support, Craft-repair, Other-service, Sal...  None            yes  \n",
      "7   Wife, Own-child, Husband, Not-in-family, Other...  None             no  \n",
      "8   White, Asian-Pac-Islander, Amer-Indian-Eskimo,...  None             no  \n",
      "9                                       Female, Male.  None             no  \n",
      "10                                               None  None             no  \n",
      "11                                               None  None             no  \n",
      "12                                               None  None             no  \n",
      "13  United-States, Cambodia, England, Puerto-Rico,...  None            yes  \n",
      "14                                       >50K, <=50K.  None             no  \n"
     ]
    }
   ],
   "source": [
    "# variable information \n",
    "print(data_adult.variables) "
   ]
  },
  {
   "cell_type": "markdown",
   "id": "6cbde9f3",
   "metadata": {},
   "source": [
    "## Analyse exploratoire des données\n",
    "\n",
    "Pour réaliser l'AED, nous utilisons les données des fichiers téléchargés depuis le site web."
   ]
  },
  {
   "cell_type": "code",
   "execution_count": 59,
   "id": "7dab83b8",
   "metadata": {
    "ExecuteTime": {
     "end_time": "2025-06-15T14:54:32.008876Z",
     "start_time": "2025-06-15T14:54:31.967484Z"
    }
   },
   "outputs": [],
   "source": [
    "df_adult = pd.read_csv(\"./Data/adult.data\", header=None)"
   ]
  },
  {
   "cell_type": "code",
   "execution_count": 60,
   "id": "a17d559b",
   "metadata": {
    "ExecuteTime": {
     "end_time": "2025-06-15T14:54:35.161292Z",
     "start_time": "2025-06-15T14:54:35.157409Z"
    }
   },
   "outputs": [
    {
     "data": {
      "text/plain": [
       "True"
      ]
     },
     "execution_count": 60,
     "metadata": {},
     "output_type": "execute_result"
    }
   ],
   "source": [
    "isinstance(df_adult, pd.DataFrame)"
   ]
  },
  {
   "cell_type": "code",
   "execution_count": null,
   "id": "773202c2",
   "metadata": {
    "ExecuteTime": {
     "end_time": "2025-06-15T14:54:41.723756Z",
     "start_time": "2025-06-15T14:54:41.722015Z"
    }
   },
   "outputs": [],
   "source": []
  },
  {
   "cell_type": "markdown",
   "id": "8dd95f63",
   "metadata": {},
   "source": [
    "Le fichier ne contient pas les noms des colonnes. Nous les ajoutons dans le dataframe adult."
   ]
  },
  {
   "cell_type": "code",
   "execution_count": 61,
   "id": "47221cbf",
   "metadata": {
    "ExecuteTime": {
     "end_time": "2025-06-15T14:54:41.745433Z",
     "start_time": "2025-06-15T14:54:41.734958Z"
    }
   },
   "outputs": [
    {
     "data": {
      "application/vnd.microsoft.datawrangler.viewer.v0+json": {
       "columns": [
        {
         "name": "index",
         "rawType": "int64",
         "type": "integer"
        },
        {
         "name": "age",
         "rawType": "int64",
         "type": "integer"
        },
        {
         "name": "workclass",
         "rawType": "object",
         "type": "string"
        },
        {
         "name": "fnlwgt",
         "rawType": "int64",
         "type": "integer"
        },
        {
         "name": "education",
         "rawType": "object",
         "type": "string"
        },
        {
         "name": "education-num",
         "rawType": "int64",
         "type": "integer"
        },
        {
         "name": "marital-status",
         "rawType": "object",
         "type": "string"
        },
        {
         "name": "occupation",
         "rawType": "object",
         "type": "string"
        },
        {
         "name": "relationship",
         "rawType": "object",
         "type": "string"
        },
        {
         "name": "race",
         "rawType": "object",
         "type": "string"
        },
        {
         "name": "sex",
         "rawType": "object",
         "type": "string"
        },
        {
         "name": "capital-gain",
         "rawType": "int64",
         "type": "integer"
        },
        {
         "name": "capital-loss",
         "rawType": "int64",
         "type": "integer"
        },
        {
         "name": "hours-per-week",
         "rawType": "int64",
         "type": "integer"
        },
        {
         "name": "native-country",
         "rawType": "object",
         "type": "string"
        },
        {
         "name": "income",
         "rawType": "object",
         "type": "string"
        }
       ],
       "ref": "9c767d9c-542b-4dfa-8a44-9ae55c18d0cf",
       "rows": [
        [
         "0",
         "39",
         " State-gov",
         "77516",
         " Bachelors",
         "13",
         " Never-married",
         " Adm-clerical",
         " Not-in-family",
         " White",
         " Male",
         "2174",
         "0",
         "40",
         " United-States",
         " <=50K"
        ],
        [
         "1",
         "50",
         " Self-emp-not-inc",
         "83311",
         " Bachelors",
         "13",
         " Married-civ-spouse",
         " Exec-managerial",
         " Husband",
         " White",
         " Male",
         "0",
         "0",
         "13",
         " United-States",
         " <=50K"
        ],
        [
         "2",
         "38",
         " Private",
         "215646",
         " HS-grad",
         "9",
         " Divorced",
         " Handlers-cleaners",
         " Not-in-family",
         " White",
         " Male",
         "0",
         "0",
         "40",
         " United-States",
         " <=50K"
        ],
        [
         "3",
         "53",
         " Private",
         "234721",
         " 11th",
         "7",
         " Married-civ-spouse",
         " Handlers-cleaners",
         " Husband",
         " Black",
         " Male",
         "0",
         "0",
         "40",
         " United-States",
         " <=50K"
        ],
        [
         "4",
         "28",
         " Private",
         "338409",
         " Bachelors",
         "13",
         " Married-civ-spouse",
         " Prof-specialty",
         " Wife",
         " Black",
         " Female",
         "0",
         "0",
         "40",
         " Cuba",
         " <=50K"
        ]
       ],
       "shape": {
        "columns": 15,
        "rows": 5
       }
      },
      "text/html": [
       "<div>\n",
       "<style scoped>\n",
       "    .dataframe tbody tr th:only-of-type {\n",
       "        vertical-align: middle;\n",
       "    }\n",
       "\n",
       "    .dataframe tbody tr th {\n",
       "        vertical-align: top;\n",
       "    }\n",
       "\n",
       "    .dataframe thead th {\n",
       "        text-align: right;\n",
       "    }\n",
       "</style>\n",
       "<table border=\"1\" class=\"dataframe\">\n",
       "  <thead>\n",
       "    <tr style=\"text-align: right;\">\n",
       "      <th>name</th>\n",
       "      <th>age</th>\n",
       "      <th>workclass</th>\n",
       "      <th>fnlwgt</th>\n",
       "      <th>education</th>\n",
       "      <th>education-num</th>\n",
       "      <th>marital-status</th>\n",
       "      <th>occupation</th>\n",
       "      <th>relationship</th>\n",
       "      <th>race</th>\n",
       "      <th>sex</th>\n",
       "      <th>capital-gain</th>\n",
       "      <th>capital-loss</th>\n",
       "      <th>hours-per-week</th>\n",
       "      <th>native-country</th>\n",
       "      <th>income</th>\n",
       "    </tr>\n",
       "  </thead>\n",
       "  <tbody>\n",
       "    <tr>\n",
       "      <th>0</th>\n",
       "      <td>39</td>\n",
       "      <td>State-gov</td>\n",
       "      <td>77516</td>\n",
       "      <td>Bachelors</td>\n",
       "      <td>13</td>\n",
       "      <td>Never-married</td>\n",
       "      <td>Adm-clerical</td>\n",
       "      <td>Not-in-family</td>\n",
       "      <td>White</td>\n",
       "      <td>Male</td>\n",
       "      <td>2174</td>\n",
       "      <td>0</td>\n",
       "      <td>40</td>\n",
       "      <td>United-States</td>\n",
       "      <td>&lt;=50K</td>\n",
       "    </tr>\n",
       "    <tr>\n",
       "      <th>1</th>\n",
       "      <td>50</td>\n",
       "      <td>Self-emp-not-inc</td>\n",
       "      <td>83311</td>\n",
       "      <td>Bachelors</td>\n",
       "      <td>13</td>\n",
       "      <td>Married-civ-spouse</td>\n",
       "      <td>Exec-managerial</td>\n",
       "      <td>Husband</td>\n",
       "      <td>White</td>\n",
       "      <td>Male</td>\n",
       "      <td>0</td>\n",
       "      <td>0</td>\n",
       "      <td>13</td>\n",
       "      <td>United-States</td>\n",
       "      <td>&lt;=50K</td>\n",
       "    </tr>\n",
       "    <tr>\n",
       "      <th>2</th>\n",
       "      <td>38</td>\n",
       "      <td>Private</td>\n",
       "      <td>215646</td>\n",
       "      <td>HS-grad</td>\n",
       "      <td>9</td>\n",
       "      <td>Divorced</td>\n",
       "      <td>Handlers-cleaners</td>\n",
       "      <td>Not-in-family</td>\n",
       "      <td>White</td>\n",
       "      <td>Male</td>\n",
       "      <td>0</td>\n",
       "      <td>0</td>\n",
       "      <td>40</td>\n",
       "      <td>United-States</td>\n",
       "      <td>&lt;=50K</td>\n",
       "    </tr>\n",
       "    <tr>\n",
       "      <th>3</th>\n",
       "      <td>53</td>\n",
       "      <td>Private</td>\n",
       "      <td>234721</td>\n",
       "      <td>11th</td>\n",
       "      <td>7</td>\n",
       "      <td>Married-civ-spouse</td>\n",
       "      <td>Handlers-cleaners</td>\n",
       "      <td>Husband</td>\n",
       "      <td>Black</td>\n",
       "      <td>Male</td>\n",
       "      <td>0</td>\n",
       "      <td>0</td>\n",
       "      <td>40</td>\n",
       "      <td>United-States</td>\n",
       "      <td>&lt;=50K</td>\n",
       "    </tr>\n",
       "    <tr>\n",
       "      <th>4</th>\n",
       "      <td>28</td>\n",
       "      <td>Private</td>\n",
       "      <td>338409</td>\n",
       "      <td>Bachelors</td>\n",
       "      <td>13</td>\n",
       "      <td>Married-civ-spouse</td>\n",
       "      <td>Prof-specialty</td>\n",
       "      <td>Wife</td>\n",
       "      <td>Black</td>\n",
       "      <td>Female</td>\n",
       "      <td>0</td>\n",
       "      <td>0</td>\n",
       "      <td>40</td>\n",
       "      <td>Cuba</td>\n",
       "      <td>&lt;=50K</td>\n",
       "    </tr>\n",
       "  </tbody>\n",
       "</table>\n",
       "</div>"
      ],
      "text/plain": [
       "name  age          workclass  fnlwgt   education  education-num  \\\n",
       "0      39          State-gov   77516   Bachelors             13   \n",
       "1      50   Self-emp-not-inc   83311   Bachelors             13   \n",
       "2      38            Private  215646     HS-grad              9   \n",
       "3      53            Private  234721        11th              7   \n",
       "4      28            Private  338409   Bachelors             13   \n",
       "\n",
       "name       marital-status          occupation    relationship    race  \\\n",
       "0           Never-married        Adm-clerical   Not-in-family   White   \n",
       "1      Married-civ-spouse     Exec-managerial         Husband   White   \n",
       "2                Divorced   Handlers-cleaners   Not-in-family   White   \n",
       "3      Married-civ-spouse   Handlers-cleaners         Husband   Black   \n",
       "4      Married-civ-spouse      Prof-specialty            Wife   Black   \n",
       "\n",
       "name      sex  capital-gain  capital-loss  hours-per-week  native-country  \\\n",
       "0        Male          2174             0              40   United-States   \n",
       "1        Male             0             0              13   United-States   \n",
       "2        Male             0             0              40   United-States   \n",
       "3        Male             0             0              40   United-States   \n",
       "4      Female             0             0              40            Cuba   \n",
       "\n",
       "name  income  \n",
       "0      <=50K  \n",
       "1      <=50K  \n",
       "2      <=50K  \n",
       "3      <=50K  \n",
       "4      <=50K  "
      ]
     },
     "execution_count": 61,
     "metadata": {},
     "output_type": "execute_result"
    }
   ],
   "source": [
    "adult_columns = data_adult.variables['name']\n",
    "\n",
    "df_adult.columns = adult_columns\n",
    "\n",
    "df_adult.head()"
   ]
  },
  {
   "cell_type": "code",
   "execution_count": 62,
   "id": "107289ca",
   "metadata": {
    "ExecuteTime": {
     "end_time": "2025-06-15T14:54:45.161995Z",
     "start_time": "2025-06-15T14:54:45.158902Z"
    }
   },
   "outputs": [
    {
     "data": {
      "text/plain": [
       "(32561, 15)"
      ]
     },
     "execution_count": 62,
     "metadata": {},
     "output_type": "execute_result"
    }
   ],
   "source": [
    "df_adult.shape"
   ]
  },
  {
   "cell_type": "code",
   "execution_count": 63,
   "id": "6d032d69",
   "metadata": {
    "ExecuteTime": {
     "end_time": "2025-06-15T14:54:45.186354Z",
     "start_time": "2025-06-15T14:54:45.181950Z"
    }
   },
   "outputs": [
    {
     "data": {
      "text/plain": [
       "Index(['age', 'workclass', 'fnlwgt', 'education', 'education-num',\n",
       "       'marital-status', 'occupation', 'relationship', 'race', 'sex',\n",
       "       'capital-gain', 'capital-loss', 'hours-per-week', 'native-country',\n",
       "       'income'],\n",
       "      dtype='object', name='name')"
      ]
     },
     "execution_count": 63,
     "metadata": {},
     "output_type": "execute_result"
    }
   ],
   "source": [
    "df_adult.columns"
   ]
  },
  {
   "cell_type": "code",
   "execution_count": 64,
   "id": "3f021163",
   "metadata": {
    "ExecuteTime": {
     "end_time": "2025-06-15T14:54:45.289528Z",
     "start_time": "2025-06-15T14:54:45.266153Z"
    }
   },
   "outputs": [
    {
     "data": {
      "application/vnd.microsoft.datawrangler.viewer.v0+json": {
       "columns": [
        {
         "name": "index",
         "rawType": "object",
         "type": "string"
        },
        {
         "name": "age",
         "rawType": "float64",
         "type": "float"
        },
        {
         "name": "fnlwgt",
         "rawType": "float64",
         "type": "float"
        },
        {
         "name": "education-num",
         "rawType": "float64",
         "type": "float"
        },
        {
         "name": "capital-gain",
         "rawType": "float64",
         "type": "float"
        },
        {
         "name": "capital-loss",
         "rawType": "float64",
         "type": "float"
        },
        {
         "name": "hours-per-week",
         "rawType": "float64",
         "type": "float"
        }
       ],
       "ref": "352abb1a-4a24-401b-bcf3-4a13861389fe",
       "rows": [
        [
         "count",
         "32561.0",
         "32561.0",
         "32561.0",
         "32561.0",
         "32561.0",
         "32561.0"
        ],
        [
         "mean",
         "38.58164675532078",
         "189778.36651208502",
         "10.0806793403151",
         "1077.6488437087312",
         "87.303829734959",
         "40.437455852092995"
        ],
        [
         "std",
         "13.640432553581341",
         "105549.97769702224",
         "2.5727203320673877",
         "7385.292084840338",
         "402.9602186489998",
         "12.347428681731843"
        ],
        [
         "min",
         "17.0",
         "12285.0",
         "1.0",
         "0.0",
         "0.0",
         "1.0"
        ],
        [
         "25%",
         "28.0",
         "117827.0",
         "9.0",
         "0.0",
         "0.0",
         "40.0"
        ],
        [
         "50%",
         "37.0",
         "178356.0",
         "10.0",
         "0.0",
         "0.0",
         "40.0"
        ],
        [
         "75%",
         "48.0",
         "237051.0",
         "12.0",
         "0.0",
         "0.0",
         "45.0"
        ],
        [
         "max",
         "90.0",
         "1484705.0",
         "16.0",
         "99999.0",
         "4356.0",
         "99.0"
        ]
       ],
       "shape": {
        "columns": 6,
        "rows": 8
       }
      },
      "text/html": [
       "<div>\n",
       "<style scoped>\n",
       "    .dataframe tbody tr th:only-of-type {\n",
       "        vertical-align: middle;\n",
       "    }\n",
       "\n",
       "    .dataframe tbody tr th {\n",
       "        vertical-align: top;\n",
       "    }\n",
       "\n",
       "    .dataframe thead th {\n",
       "        text-align: right;\n",
       "    }\n",
       "</style>\n",
       "<table border=\"1\" class=\"dataframe\">\n",
       "  <thead>\n",
       "    <tr style=\"text-align: right;\">\n",
       "      <th>name</th>\n",
       "      <th>age</th>\n",
       "      <th>fnlwgt</th>\n",
       "      <th>education-num</th>\n",
       "      <th>capital-gain</th>\n",
       "      <th>capital-loss</th>\n",
       "      <th>hours-per-week</th>\n",
       "    </tr>\n",
       "  </thead>\n",
       "  <tbody>\n",
       "    <tr>\n",
       "      <th>count</th>\n",
       "      <td>32561.000000</td>\n",
       "      <td>3.256100e+04</td>\n",
       "      <td>32561.000000</td>\n",
       "      <td>32561.000000</td>\n",
       "      <td>32561.000000</td>\n",
       "      <td>32561.000000</td>\n",
       "    </tr>\n",
       "    <tr>\n",
       "      <th>mean</th>\n",
       "      <td>38.581647</td>\n",
       "      <td>1.897784e+05</td>\n",
       "      <td>10.080679</td>\n",
       "      <td>1077.648844</td>\n",
       "      <td>87.303830</td>\n",
       "      <td>40.437456</td>\n",
       "    </tr>\n",
       "    <tr>\n",
       "      <th>std</th>\n",
       "      <td>13.640433</td>\n",
       "      <td>1.055500e+05</td>\n",
       "      <td>2.572720</td>\n",
       "      <td>7385.292085</td>\n",
       "      <td>402.960219</td>\n",
       "      <td>12.347429</td>\n",
       "    </tr>\n",
       "    <tr>\n",
       "      <th>min</th>\n",
       "      <td>17.000000</td>\n",
       "      <td>1.228500e+04</td>\n",
       "      <td>1.000000</td>\n",
       "      <td>0.000000</td>\n",
       "      <td>0.000000</td>\n",
       "      <td>1.000000</td>\n",
       "    </tr>\n",
       "    <tr>\n",
       "      <th>25%</th>\n",
       "      <td>28.000000</td>\n",
       "      <td>1.178270e+05</td>\n",
       "      <td>9.000000</td>\n",
       "      <td>0.000000</td>\n",
       "      <td>0.000000</td>\n",
       "      <td>40.000000</td>\n",
       "    </tr>\n",
       "    <tr>\n",
       "      <th>50%</th>\n",
       "      <td>37.000000</td>\n",
       "      <td>1.783560e+05</td>\n",
       "      <td>10.000000</td>\n",
       "      <td>0.000000</td>\n",
       "      <td>0.000000</td>\n",
       "      <td>40.000000</td>\n",
       "    </tr>\n",
       "    <tr>\n",
       "      <th>75%</th>\n",
       "      <td>48.000000</td>\n",
       "      <td>2.370510e+05</td>\n",
       "      <td>12.000000</td>\n",
       "      <td>0.000000</td>\n",
       "      <td>0.000000</td>\n",
       "      <td>45.000000</td>\n",
       "    </tr>\n",
       "    <tr>\n",
       "      <th>max</th>\n",
       "      <td>90.000000</td>\n",
       "      <td>1.484705e+06</td>\n",
       "      <td>16.000000</td>\n",
       "      <td>99999.000000</td>\n",
       "      <td>4356.000000</td>\n",
       "      <td>99.000000</td>\n",
       "    </tr>\n",
       "  </tbody>\n",
       "</table>\n",
       "</div>"
      ],
      "text/plain": [
       "name            age        fnlwgt  education-num  capital-gain  capital-loss  \\\n",
       "count  32561.000000  3.256100e+04   32561.000000  32561.000000  32561.000000   \n",
       "mean      38.581647  1.897784e+05      10.080679   1077.648844     87.303830   \n",
       "std       13.640433  1.055500e+05       2.572720   7385.292085    402.960219   \n",
       "min       17.000000  1.228500e+04       1.000000      0.000000      0.000000   \n",
       "25%       28.000000  1.178270e+05       9.000000      0.000000      0.000000   \n",
       "50%       37.000000  1.783560e+05      10.000000      0.000000      0.000000   \n",
       "75%       48.000000  2.370510e+05      12.000000      0.000000      0.000000   \n",
       "max       90.000000  1.484705e+06      16.000000  99999.000000   4356.000000   \n",
       "\n",
       "name   hours-per-week  \n",
       "count    32561.000000  \n",
       "mean        40.437456  \n",
       "std         12.347429  \n",
       "min          1.000000  \n",
       "25%         40.000000  \n",
       "50%         40.000000  \n",
       "75%         45.000000  \n",
       "max         99.000000  "
      ]
     },
     "execution_count": 64,
     "metadata": {},
     "output_type": "execute_result"
    }
   ],
   "source": [
    "df_adult.describe()"
   ]
  },
  {
   "cell_type": "code",
   "execution_count": 65,
   "id": "b18aed3e",
   "metadata": {
    "ExecuteTime": {
     "end_time": "2025-06-15T14:54:45.413821Z",
     "start_time": "2025-06-15T14:54:45.398686Z"
    }
   },
   "outputs": [
    {
     "data": {
      "application/vnd.microsoft.datawrangler.viewer.v0+json": {
       "columns": [
        {
         "name": "name",
         "rawType": "object",
         "type": "string"
        },
        {
         "name": "0",
         "rawType": "int64",
         "type": "integer"
        }
       ],
       "ref": "318ae347-0b2e-493b-acf4-1b53b1d6444a",
       "rows": [
        [
         "age",
         "0"
        ],
        [
         "workclass",
         "0"
        ],
        [
         "fnlwgt",
         "0"
        ],
        [
         "education",
         "0"
        ],
        [
         "education-num",
         "0"
        ],
        [
         "marital-status",
         "0"
        ],
        [
         "occupation",
         "0"
        ],
        [
         "relationship",
         "0"
        ],
        [
         "race",
         "0"
        ],
        [
         "sex",
         "0"
        ],
        [
         "capital-gain",
         "0"
        ],
        [
         "capital-loss",
         "0"
        ],
        [
         "hours-per-week",
         "0"
        ],
        [
         "native-country",
         "0"
        ],
        [
         "income",
         "0"
        ]
       ],
       "shape": {
        "columns": 1,
        "rows": 15
       }
      },
      "text/plain": [
       "name\n",
       "age               0\n",
       "workclass         0\n",
       "fnlwgt            0\n",
       "education         0\n",
       "education-num     0\n",
       "marital-status    0\n",
       "occupation        0\n",
       "relationship      0\n",
       "race              0\n",
       "sex               0\n",
       "capital-gain      0\n",
       "capital-loss      0\n",
       "hours-per-week    0\n",
       "native-country    0\n",
       "income            0\n",
       "dtype: int64"
      ]
     },
     "execution_count": 65,
     "metadata": {},
     "output_type": "execute_result"
    }
   ],
   "source": [
    "df_adult.isna().sum()"
   ]
  },
  {
   "cell_type": "code",
   "execution_count": 66,
   "id": "136d56a2",
   "metadata": {
    "ExecuteTime": {
     "end_time": "2025-06-15T14:54:45.555703Z",
     "start_time": "2025-06-15T14:54:45.469072Z"
    }
   },
   "outputs": [
    {
     "data": {
      "application/vnd.microsoft.datawrangler.viewer.v0+json": {
       "columns": [
        {
         "name": "index",
         "rawType": "int64",
         "type": "integer"
        },
        {
         "name": "age",
         "rawType": "int64",
         "type": "integer"
        },
        {
         "name": "workclass",
         "rawType": "object",
         "type": "string"
        },
        {
         "name": "fnlwgt",
         "rawType": "int64",
         "type": "integer"
        },
        {
         "name": "education",
         "rawType": "object",
         "type": "string"
        },
        {
         "name": "education-num",
         "rawType": "int64",
         "type": "integer"
        },
        {
         "name": "marital-status",
         "rawType": "object",
         "type": "string"
        },
        {
         "name": "occupation",
         "rawType": "object",
         "type": "string"
        },
        {
         "name": "relationship",
         "rawType": "object",
         "type": "string"
        },
        {
         "name": "race",
         "rawType": "object",
         "type": "string"
        },
        {
         "name": "sex",
         "rawType": "object",
         "type": "string"
        },
        {
         "name": "capital-gain",
         "rawType": "int64",
         "type": "integer"
        },
        {
         "name": "capital-loss",
         "rawType": "int64",
         "type": "integer"
        },
        {
         "name": "hours-per-week",
         "rawType": "int64",
         "type": "integer"
        },
        {
         "name": "native-country",
         "rawType": "object",
         "type": "string"
        },
        {
         "name": "income",
         "rawType": "object",
         "type": "string"
        }
       ],
       "ref": "ccc3542e-0e18-4462-8e86-dd69033583ae",
       "rows": [],
       "shape": {
        "columns": 15,
        "rows": 0
       }
      },
      "text/html": [
       "<div>\n",
       "<style scoped>\n",
       "    .dataframe tbody tr th:only-of-type {\n",
       "        vertical-align: middle;\n",
       "    }\n",
       "\n",
       "    .dataframe tbody tr th {\n",
       "        vertical-align: top;\n",
       "    }\n",
       "\n",
       "    .dataframe thead th {\n",
       "        text-align: right;\n",
       "    }\n",
       "</style>\n",
       "<table border=\"1\" class=\"dataframe\">\n",
       "  <thead>\n",
       "    <tr style=\"text-align: right;\">\n",
       "      <th>name</th>\n",
       "      <th>age</th>\n",
       "      <th>workclass</th>\n",
       "      <th>fnlwgt</th>\n",
       "      <th>education</th>\n",
       "      <th>education-num</th>\n",
       "      <th>marital-status</th>\n",
       "      <th>occupation</th>\n",
       "      <th>relationship</th>\n",
       "      <th>race</th>\n",
       "      <th>sex</th>\n",
       "      <th>capital-gain</th>\n",
       "      <th>capital-loss</th>\n",
       "      <th>hours-per-week</th>\n",
       "      <th>native-country</th>\n",
       "      <th>income</th>\n",
       "    </tr>\n",
       "  </thead>\n",
       "  <tbody>\n",
       "  </tbody>\n",
       "</table>\n",
       "</div>"
      ],
      "text/plain": [
       "Empty DataFrame\n",
       "Columns: [age, workclass, fnlwgt, education, education-num, marital-status, occupation, relationship, race, sex, capital-gain, capital-loss, hours-per-week, native-country, income]\n",
       "Index: []"
      ]
     },
     "execution_count": 66,
     "metadata": {},
     "output_type": "execute_result"
    }
   ],
   "source": [
    "df_adult = df_adult.drop_duplicates()\n",
    "df_adult[df_adult.duplicated()]"
   ]
  },
  {
   "cell_type": "code",
   "execution_count": 67,
   "id": "f1a4235f",
   "metadata": {
    "ExecuteTime": {
     "end_time": "2025-06-15T14:54:45.689709Z",
     "start_time": "2025-06-15T14:54:45.671156Z"
    }
   },
   "outputs": [
    {
     "name": "stdout",
     "output_type": "stream",
     "text": [
      "<class 'pandas.core.frame.DataFrame'>\n",
      "Index: 32537 entries, 0 to 32560\n",
      "Data columns (total 15 columns):\n",
      " #   Column          Non-Null Count  Dtype \n",
      "---  ------          --------------  ----- \n",
      " 0   age             32537 non-null  int64 \n",
      " 1   workclass       32537 non-null  object\n",
      " 2   fnlwgt          32537 non-null  int64 \n",
      " 3   education       32537 non-null  object\n",
      " 4   education-num   32537 non-null  int64 \n",
      " 5   marital-status  32537 non-null  object\n",
      " 6   occupation      32537 non-null  object\n",
      " 7   relationship    32537 non-null  object\n",
      " 8   race            32537 non-null  object\n",
      " 9   sex             32537 non-null  object\n",
      " 10  capital-gain    32537 non-null  int64 \n",
      " 11  capital-loss    32537 non-null  int64 \n",
      " 12  hours-per-week  32537 non-null  int64 \n",
      " 13  native-country  32537 non-null  object\n",
      " 14  income          32537 non-null  object\n",
      "dtypes: int64(6), object(9)\n",
      "memory usage: 4.0+ MB\n"
     ]
    }
   ],
   "source": [
    "df_adult.info()"
   ]
  },
  {
   "cell_type": "markdown",
   "id": "ec6c3644",
   "metadata": {},
   "source": [
    "Problème : La description des données indique qu'elles contiennent des valeurs inconnues. Ces valeurs ne sont pas en NaN ou null. Nous pouvons déjà remarquer la présence de '?' en leur lieu et place.\n",
    "\n",
    "## Traitement des données\n",
    "\n",
    "### Analyse des traitements à réaliser"
   ]
  },
  {
   "cell_type": "code",
   "execution_count": 68,
   "id": "4f71c629",
   "metadata": {
    "ExecuteTime": {
     "end_time": "2025-06-15T14:54:46.957512Z",
     "start_time": "2025-06-15T14:54:45.866282Z"
    }
   },
   "outputs": [
    {
     "name": "stdout",
     "output_type": "stream",
     "text": [
      "Nombre de valeurs manquantes : name\n",
      "age                  0\n",
      "workclass         1836\n",
      "fnlwgt               0\n",
      "education            0\n",
      "education-num        0\n",
      "marital-status       0\n",
      "occupation        1843\n",
      "relationship         0\n",
      "race                 0\n",
      "sex                  0\n",
      "capital-gain         0\n",
      "capital-loss         0\n",
      "hours-per-week       0\n",
      "native-country     582\n",
      "income               0\n",
      "dtype: int64\n"
     ]
    },
    {
     "data": {
      "image/png": "[encoded data removed]",
      "text/plain": [
       "<Figure size 1000x800 with 1 Axes>"
      ]
     },
     "metadata": {},
     "output_type": "display_data"
    }
   ],
   "source": [
    "df_adult = df_adult.replace('\\?', np.nan, regex=True)\n",
    "sns.heatmap(df_adult.isna(), cbar=False, cmap='viridis')\n",
    "print(f\"Nombre de valeurs manquantes : {df_adult.isna().sum()}\")"
   ]
  },
  {
   "cell_type": "code",
   "execution_count": 69,
   "id": "6c06b28a72dceb89",
   "metadata": {
    "ExecuteTime": {
     "end_time": "2025-06-15T14:54:46.978552Z",
     "start_time": "2025-06-15T14:54:46.963917Z"
    }
   },
   "outputs": [
    {
     "name": "stdout",
     "output_type": "stream",
     "text": [
      "workclass :   Private 69.68% (9 valeurs uniques)\n",
      "occupation :   Prof-specialty 12.71% (15 valeurs uniques)\n",
      "native_country :   United-States 89.60% (42 valeurs uniques)\n",
      "income :   <=50K 75.91% (2 valeurs uniques)\n"
     ]
    }
   ],
   "source": [
    "wrkclass_proportion = df_adult[\"workclass\"].value_counts(dropna=False) / df_adult.shape[0]\n",
    "print(\"workclass : \", wrkclass_proportion.idxmax(), f\"{wrkclass_proportion.max() * 100:.2f}% ({len(wrkclass_proportion)} valeurs uniques)\")\n",
    "occupation_proportion = df_adult[\"occupation\"].value_counts(dropna=False) / df_adult.shape[0]\n",
    "print(\"occupation : \", occupation_proportion.idxmax(), f\"{occupation_proportion.max() * 100:.2f}% ({len(occupation_proportion)} valeurs uniques)\")\n",
    "native_country_proportion = df_adult[\"native-country\"].value_counts(dropna=False) / df_adult.shape[0]\n",
    "print(\"native_country : \", native_country_proportion.idxmax(), f\"{native_country_proportion.max() * 100:.2f}% ({len(native_country_proportion)} valeurs uniques)\")\n",
    "income_proportion = df_adult[\"income\"].value_counts(dropna=False) / df_adult.shape[0]\n",
    "print(\"income : \", income_proportion.idxmax(), f\"{income_proportion.max() * 100:.2f}% ({len(income_proportion)} valeurs uniques)\")"
   ]
  },
  {
   "cell_type": "markdown",
   "id": "a20b04b075a70372",
   "metadata": {},
   "source": [
    " ### Creation de la fonction de traitement des données"
   ]
  },
  {
   "cell_type": "code",
   "execution_count": 70,
   "id": "286579e9e94f42e",
   "metadata": {
    "ExecuteTime": {
     "end_time": "2025-06-15T14:54:47.031732Z",
     "start_time": "2025-06-15T14:54:47.026354Z"
    }
   },
   "outputs": [],
   "source": [
    "def treat_df(df, scaler):\n",
    "    df_new = df.copy()\n",
    "    # Remplacement de la valeur '?' par NaN\n",
    "    df_new = df_new.replace('\\?', np.nan, regex=True)\n",
    "    # Remplacement des valeurs manquantes par les valeurs les plus fréquentes, les seules variables concernées sont workclass, occupation et native-country\n",
    "    for col in [\"workclass\", \"occupation\", \"native-country\"]:\n",
    "        df_new[col].fillna(df_new[col].mode()[0], inplace=True)\n",
    "\n",
    "    categorical_columns = df_new.select_dtypes(include=['object']).columns\n",
    "    numeric_columns = df_new.select_dtypes(include=['number']).columns\n",
    "    # Encodage des variables catégorielles\n",
    "    ordinal_encoder = OrdinalEncoder()\n",
    "    for col in categorical_columns:\n",
    "        if col == \"income\":\n",
    "            continue\n",
    "        df_new[col] = ordinal_encoder.fit_transform(df_new[[col]])\n",
    "\n",
    "    # Encodage de la variable cible income\n",
    "    label_encoder = LabelEncoder()\n",
    "    df_new[\"income\"] = label_encoder.fit_transform(df_new[\"income\"])\n",
    "\n",
    "    # Normalisation des variables numériques\n",
    "    if scaler is None:\n",
    "        scaler = StandardScaler()\n",
    "        scaler.fit(df_new[numeric_columns])\n",
    "    df_new[numeric_columns] = scaler.transform(df_new[numeric_columns])\n",
    "\n",
    "    return df_new, scaler"
   ]
  },
  {
   "cell_type": "markdown",
   "id": "d61c0a4ba40038da",
   "metadata": {},
   "source": [
    "## Modele de prediction\n",
    "\n",
    "### Setup\n",
    "\n",
    "> On pourrait faire une pipeline de pretraitement pour chaque pipeline (LabelEncoder, normalisation et drop des values NaN)"
   ]
  },
  {
   "cell_type": "code",
   "execution_count": 71,
   "id": "aa55e6c1908508db",
   "metadata": {
    "ExecuteTime": {
     "end_time": "2025-06-15T14:54:47.291342Z",
     "start_time": "2025-06-15T14:54:47.076955Z"
    }
   },
   "outputs": [],
   "source": [
    "# Creation de différents sets\n",
    "# X_train, X_test, y_train, y_test = train_test_split(df_adult_enco.drop(columns=[\"income\"]), df_adult_enco[\"income\"], test_size=0.2, random_state=69)\n",
    "#\n",
    "# # On normalise les variables quantitatives sur les données de train (StandardScaler pour l'instant)\n",
    "# numerical_columns = df_adult.select_dtypes(include=['int64', 'float64']).columns\n",
    "# numerical_scaler = StandardScaler()\n",
    "# numerical_scaler.fit(X_train[numerical_columns])\n",
    "# X_train[numerical_columns] = numerical_scaler.transform(X_train[numerical_columns])\n",
    "# X_test[numerical_columns] = numerical_scaler.transform(X_test[numerical_columns])\n",
    "\n",
    "# Import des données de test\n",
    "df_adult_test = pd.read_csv(\"./Data/adult.test\", header=None)\n",
    "df_adult_test.columns = adult_columns\n",
    "\n",
    "# Creation de différents sets (repartition 66/33 pour train/test)\n",
    "df_adult_new, fitted_scaler = treat_df(df_adult, None)\n",
    "X_train, y_train = df_adult_new.drop(columns=[\"income\"]), df_adult_new[\"income\"]\n",
    "df_adult_test_new, _ = treat_df(df_adult_test, fitted_scaler)\n",
    "X_test, y_test = df_adult_test_new.drop(columns=[\"income\"]), df_adult_test_new[\"income\"]\n",
    "\n",
    "def eval_model(model, X_test, y_test):\n",
    "    y_pred = model.predict(X_test)\n",
    "    print(f'=== Evaluation du modèle {model.__class__.__name__} ===')\n",
    "    print(f\"Accuracy : {accuracy_score(y_test, y_pred):.4f} (the higher the better)\")\n",
    "    print(f\"Recall : {recall_score(y_test, y_pred):.4f} (the higher the better) (best for us)\")\n",
    "    print(f\"R2 : {r2_score(y_test, y_pred):.4f} (the higher the better)\")\n",
    "    print(f\"MAE : {mean_absolute_error(y_test, y_pred):.4f} (the lower the better)\")\n",
    "    print(f\"RMSE : {mean_squared_error(y_test, y_pred):.4f} (the lower the better)\")\n",
    "    return y_pred"
   ]
  },
  {
   "cell_type": "markdown",
   "id": "cec6205532cb2e1e",
   "metadata": {},
   "source": [
    "### Arbre de décision"
   ]
  },
  {
   "cell_type": "code",
   "execution_count": 72,
   "id": "faf2e7624837066c",
   "metadata": {
    "ExecuteTime": {
     "end_time": "2025-06-15T14:54:47.299229Z",
     "start_time": "2025-06-15T14:54:47.295903Z"
    }
   },
   "outputs": [],
   "source": [
    "from sklearn.tree import DecisionTreeClassifier\n",
    "\n",
    "def opt_decision_tree(trial):\n",
    "    max_depth = trial.suggest_int('max_depth', 2, 32)\n",
    "    min_samples_split = trial.suggest_int('min_samples_split', 2, 10)\n",
    "    min_samples_leaf = trial.suggest_int('min_samples_leaf', 1, 4)\n",
    "    max_features = trial.suggest_categorical('max_features', ['sqrt', 'log2'])\n",
    "    criterion = trial.suggest_categorical('criterion', ['gini', 'entropy'])\n",
    "    return DecisionTreeClassifier(\n",
    "        max_depth=max_depth,\n",
    "        min_samples_split=min_samples_split,\n",
    "        min_samples_leaf=min_samples_leaf,\n",
    "        max_features=max_features,\n",
    "        criterion=criterion\n",
    "    )"
   ]
  },
  {
   "cell_type": "markdown",
   "id": "ce476f8a0cf7891a",
   "metadata": {},
   "source": [
    "> Pas de tres bonnes performances, on va essayer avec un autre modèle.\n",
    "\n",
    "### Random forest"
   ]
  },
  {
   "cell_type": "code",
   "execution_count": 73,
   "id": "52405f1f0bcfb978",
   "metadata": {
    "ExecuteTime": {
     "end_time": "2025-06-15T14:54:47.348332Z",
     "start_time": "2025-06-15T14:54:47.343863Z"
    }
   },
   "outputs": [],
   "source": [
    "from sklearn.ensemble import RandomForestClassifier\n",
    "\n",
    "def opt_random_forest(trial):\n",
    "    rf_max_depth = trial.suggest_int('rf_max_depth', 2, 32)\n",
    "    rf_min_samples_split = trial.suggest_int('rf_min_samples_split', 2, 10)\n",
    "    rf_min_samples_leaf = trial.suggest_int('rf_min_samples_leaf', 1, 4)\n",
    "    rf_max_features = trial.suggest_categorical('rf_max_features', ['sqrt', 'log2'])\n",
    "    rf_criterion = trial.suggest_categorical('rf_criterion', ['gini', 'entropy'])\n",
    "    rf_n_estimators = trial.suggest_int('rf_n_estimators', 50, 200)\n",
    "    return RandomForestClassifier(\n",
    "        max_depth=rf_max_depth,\n",
    "        min_samples_split=rf_min_samples_split,\n",
    "        min_samples_leaf=rf_min_samples_leaf,\n",
    "        max_features=rf_max_features,\n",
    "        criterion=rf_criterion,\n",
    "        n_estimators=rf_n_estimators\n",
    "      )"
   ]
  },
  {
   "cell_type": "markdown",
   "id": "6aa0b26492f0ea26",
   "metadata": {},
   "source": [
    "### Regression logistique"
   ]
  },
  {
   "cell_type": "code",
   "execution_count": 74,
   "id": "e7c1331e8f9d6309",
   "metadata": {
    "ExecuteTime": {
     "end_time": "2025-06-15T14:54:47.397353Z",
     "start_time": "2025-06-15T14:54:47.393047Z"
    }
   },
   "outputs": [],
   "source": [
    "from sklearn.linear_model import LogisticRegression\n",
    "\n",
    "def opt_logistic_regression(trial):\n",
    "    solver = trial.suggest_categorical('solver', ['newton-cg', 'lbfgs', 'liblinear', 'sag', 'saga'])\n",
    "\n",
    "    # Filter penalties based on the solver\n",
    "    penalty = \"l2\"  # Default penalty if an error occurs\n",
    "    if solver in ['newton-cg', 'lbfgs', 'sag']:\n",
    "        penalty = trial.suggest_categorical('penalty', ['l2', None])\n",
    "    elif solver == 'liblinear':\n",
    "        penalty = trial.suggest_categorical('penalty-liblinear', ['l1', 'l2'])\n",
    "    elif solver == 'saga':\n",
    "        penalty = trial.suggest_categorical('penalty-saga', ['l1', 'l2', 'elasticnet', None])\n",
    "    # l1_ratio est utlisé pour l'elasticnet\n",
    "    l1_ratio = trial.suggest_float('l1_ratio', 0.1, 0.5, log=True)\n",
    "    C = trial.suggest_float('C', 0.01, 10.0, log=True)\n",
    "    max_iter = trial.suggest_int('max_iter', 50, 500)\n",
    "    return LogisticRegression(\n",
    "        penalty=penalty,\n",
    "        C=C,\n",
    "        solver=solver,\n",
    "        max_iter=max_iter,\n",
    "        l1_ratio=l1_ratio,\n",
    "    )"
   ]
  },
  {
   "cell_type": "markdown",
   "id": "1a3031cdc514bae7",
   "metadata": {},
   "source": [
    "### AdaBoosting"
   ]
  },
  {
   "cell_type": "code",
   "execution_count": 75,
   "id": "eba4e21b00687def",
   "metadata": {
    "ExecuteTime": {
     "end_time": "2025-06-15T14:54:47.445461Z",
     "start_time": "2025-06-15T14:54:47.441313Z"
    }
   },
   "outputs": [],
   "source": [
    "from sklearn.ensemble import AdaBoostClassifier\n",
    "\n",
    "def opt_adaboost(trial):\n",
    "    base_estimator = trial.suggest_categorical('base_estimator', ['DecisionTree', 'RandomForest'])\n",
    "    base_estimator_obj = None\n",
    "    if base_estimator == 'DecisionTree':\n",
    "        base_estimator_obj = opt_decision_tree(trial)\n",
    "    elif base_estimator == 'RandomForest':\n",
    "        base_estimator_obj = opt_random_forest(trial)\n",
    "\n",
    "    n_estimators = trial.suggest_int('n_estimators', 50, 200)\n",
    "    learning_rate = trial.suggest_float('learning_rate', 0.01, 0.3)\n",
    "\n",
    "    return AdaBoostClassifier(\n",
    "        estimator=base_estimator_obj,\n",
    "        n_estimators=n_estimators,\n",
    "        learning_rate=learning_rate\n",
    "    )"
   ]
  },
  {
   "cell_type": "markdown",
   "id": "d3f9ecc64667cb38",
   "metadata": {},
   "source": [
    "### Gradient boosting"
   ]
  },
  {
   "cell_type": "code",
   "execution_count": 76,
   "id": "8fa4715e1c5204c3",
   "metadata": {
    "ExecuteTime": {
     "end_time": "2025-06-15T14:54:47.494860Z",
     "start_time": "2025-06-15T14:54:47.490491Z"
    }
   },
   "outputs": [],
   "source": [
    "from xgboost import XGBClassifier\n",
    "\n",
    "def opt_gradient_boosting(trial):\n",
    "    max_depth = trial.suggest_int('max_depth', 2, 32)\n",
    "    min_samples_split = trial.suggest_int('min_samples_split', 2, 10)\n",
    "    min_samples_leaf = trial.suggest_int('min_samples_leaf', 1, 4)\n",
    "    max_features = trial.suggest_categorical('max_features', ['sqrt', 'log2'])\n",
    "    criterion = trial.suggest_categorical('criterion', ['gini', 'entropy'])\n",
    "    n_estimators = trial.suggest_int('n_estimators', 50, 200)\n",
    "    learning_rate = trial.suggest_float('learning_rate', 0.01, 0.3)\n",
    "    return XGBClassifier(\n",
    "        max_depth=max_depth,\n",
    "        min_samples_split=min_samples_split,\n",
    "        min_samples_leaf=min_samples_leaf,\n",
    "        max_features=max_features,\n",
    "        criterion=criterion,\n",
    "        n_estimators=n_estimators,\n",
    "        learning_rate=learning_rate\n",
    "    )"
   ]
  },
  {
   "cell_type": "markdown",
   "id": "1fdc4d01bc8789a4",
   "metadata": {},
   "source": [
    "### Stacking"
   ]
  },
  {
   "cell_type": "code",
   "execution_count": 77,
   "id": "60931346aa26bf34",
   "metadata": {
    "ExecuteTime": {
     "end_time": "2025-06-15T14:54:47.544216Z",
     "start_time": "2025-06-15T14:54:47.537998Z"
    }
   },
   "outputs": [],
   "source": [
    "from sklearn.ensemble import StackingClassifier\n",
    "\n",
    "def opt_stacking(trial):\n",
    "    rf_max_depth = trial.suggest_int('rf_max_depth', 2, 32)\n",
    "    rf_min_samples_split = trial.suggest_int('rf_min_samples_split', 2, 10)\n",
    "    rf_min_samples_leaf = trial.suggest_int('rf_min_samples_leaf', 1, 4)\n",
    "    rf_max_features = trial.suggest_categorical('rf_max_features', ['sqrt', 'log2'])\n",
    "    rf_criterion = trial.suggest_categorical('rf_criterion', ['gini', 'entropy'])\n",
    "    rf_n_estimators = trial.suggest_int('rf_n_estimators', 50, 200)\n",
    "\n",
    "    xgb_max_depth = trial.suggest_int('xgb_max_depth', 2, 32)\n",
    "    xgb_min_samples_split = trial.suggest_int('xgb_min_samples_split', 2, 10)\n",
    "    xgb_min_samples_leaf = trial.suggest_int('xgb_min_samples_leaf', 1, 4)\n",
    "    xgb_max_features = trial.suggest_categorical('xgb_max_features', ['sqrt', 'log2'])\n",
    "    xgb_criterion = trial.suggest_categorical('xgb_criterion', ['gini', 'entropy'])\n",
    "    xgb_n_estimators = trial.suggest_int('xgb_n_estimators', 50, 200)\n",
    "\n",
    "    return StackingClassifier(\n",
    "        estimators=[\n",
    "            ('rf', RandomForestClassifier(\n",
    "                max_depth=rf_max_depth,\n",
    "                min_samples_split=rf_min_samples_split,\n",
    "                min_samples_leaf=rf_min_samples_leaf,\n",
    "                max_features=rf_max_features,\n",
    "                criterion=rf_criterion,\n",
    "                n_estimators=rf_n_estimators\n",
    "            )),\n",
    "            ('xgb', XGBClassifier(\n",
    "                max_depth=xgb_max_depth,\n",
    "                min_samples_split=xgb_min_samples_split,\n",
    "                min_samples_leaf=xgb_min_samples_leaf,\n",
    "                max_features=xgb_max_features,\n",
    "                criterion=xgb_criterion,\n",
    "                n_estimators=xgb_n_estimators\n",
    "            ))\n",
    "        ],\n",
    "        final_estimator=XGBClassifier(random_state=69)\n",
    "    )"
   ]
  },
  {
   "cell_type": "markdown",
   "id": "0cf4ce38",
   "metadata": {},
   "source": [
    "## KNN (K-Nearest Neighbors)"
   ]
  },
  {
   "cell_type": "code",
   "execution_count": 78,
   "id": "74a3132a",
   "metadata": {},
   "outputs": [],
   "source": [
    "def opt_knn(trial):\n",
    "    n_neighbors = trial.suggest_int('n_neighbors', 1, 20)\n",
    "    weights = trial.suggest_categorical('weights', ['uniform', 'distance'])\n",
    "    algorithm = trial.suggest_categorical('algorithm', ['auto', 'ball_tree', 'kd_tree', 'brute'])\n",
    "    leaf_size = trial.suggest_int('leaf_size', 10, 50)\n",
    "    p = trial.suggest_int('p', 1, 2)\n",
    "\n",
    "    return make_pipeline(\n",
    "        StandardScaler(),  # très important pour KNN\n",
    "        KNeighborsClassifier(\n",
    "            n_neighbors=n_neighbors,\n",
    "            weights=weights,\n",
    "            algorithm=algorithm,\n",
    "            leaf_size=leaf_size,\n",
    "            p=p\n",
    "        )\n",
    "    )"
   ]
  },
  {
   "cell_type": "markdown",
   "id": "00c2421e",
   "metadata": {},
   "source": [
    "## Classification de Bayes"
   ]
  },
  {
   "cell_type": "code",
   "execution_count": 79,
   "id": "9f73f64d",
   "metadata": {},
   "outputs": [],
   "source": [
    "from sklearn.naive_bayes import GaussianNB\n",
    "def opt_bayes(trial):\n",
    "    var_smoothing = trial.suggest_float('var_smoothing', 1e-11, 1e-6, log=True)\n",
    "    return GaussianNB(var_smoothing=var_smoothing)"
   ]
  },
  {
   "cell_type": "markdown",
   "id": "f90251a4bf92921",
   "metadata": {},
   "source": [
    "## Optimisation des hyperparamètres avec `optuna`"
   ]
  },
  {
   "cell_type": "code",
   "execution_count": 80,
   "id": "47798d934fb9f931",
   "metadata": {
    "ExecuteTime": {
     "end_time": "2025-06-15T14:56:08.243437Z",
     "start_time": "2025-06-15T14:54:47.587656Z"
    }
   },
   "outputs": [
    {
     "name": "stderr",
     "output_type": "stream",
     "text": [
      "[I 2025-06-16 17:27:12,550] A new study created in memory with name: Adult Income Prediction\n",
      "[I 2025-06-16 17:27:14,197] Trial 0 finished with value: 0.6034841393655747 and parameters: {'classifier': 'RandomForest', 'rf_max_depth': 24, 'rf_min_samples_split': 4, 'rf_min_samples_leaf': 3, 'rf_max_features': 'sqrt', 'rf_criterion': 'gini', 'rf_n_estimators': 90}. Best is trial 0 with value: 0.6034841393655747.\n",
      "[I 2025-06-16 17:27:14,344] Trial 1 finished with value: 0.44903796151846076 and parameters: {'classifier': 'LogisticRegression', 'solver': 'lbfgs', 'penalty': None, 'l1_ratio': 0.23173529374763008, 'C': 0.035632692336290794, 'max_iter': 245}. Best is trial 0 with value: 0.6034841393655747.\n",
      "[I 2025-06-16 17:27:14,375] Trial 2 finished with value: 0.5787831513260531 and parameters: {'classifier': 'DecisionTree', 'max_depth': 17, 'min_samples_split': 6, 'min_samples_leaf': 1, 'max_features': 'log2', 'criterion': 'entropy'}. Best is trial 0 with value: 0.6034841393655747.\n",
      "[I 2025-06-16 17:27:14,513] Trial 3 finished with value: 0.44929797191887677 and parameters: {'classifier': 'LogisticRegression', 'solver': 'sag', 'penalty': None, 'l1_ratio': 0.41897503464165714, 'C': 0.9455186408675457, 'max_iter': 316}. Best is trial 0 with value: 0.6034841393655747.\n",
      "[I 2025-06-16 17:27:15,973] Trial 4 finished with value: 0.5902236089443578 and parameters: {'classifier': 'RandomForest', 'rf_max_depth': 14, 'rf_min_samples_split': 9, 'rf_min_samples_leaf': 1, 'rf_max_features': 'log2', 'rf_criterion': 'gini', 'rf_n_estimators': 92}. Best is trial 0 with value: 0.6034841393655747.\n",
      "[I 2025-06-16 17:27:15,983] Trial 5 finished with value: 0.34373374934997397 and parameters: {'classifier': 'NaiveBayes', 'var_smoothing': 1.0599545502972345e-10}. Best is trial 0 with value: 0.6034841393655747.\n",
      "[I 2025-06-16 17:27:16,016] Trial 6 finished with value: 0.5678627145085804 and parameters: {'classifier': 'DecisionTree', 'max_depth': 23, 'min_samples_split': 6, 'min_samples_leaf': 2, 'max_features': 'log2', 'criterion': 'gini'}. Best is trial 0 with value: 0.6034841393655747.\n",
      "[I 2025-06-16 17:27:17,720] Trial 7 finished with value: 0.6068642745709828 and parameters: {'classifier': 'RandomForest', 'rf_max_depth': 25, 'rf_min_samples_split': 9, 'rf_min_samples_leaf': 4, 'rf_max_features': 'sqrt', 'rf_criterion': 'gini', 'rf_n_estimators': 96}. Best is trial 7 with value: 0.6068642745709828.\n",
      "[I 2025-06-16 17:27:17,748] Trial 8 finished with value: 0.5572022880915236 and parameters: {'classifier': 'DecisionTree', 'max_depth': 11, 'min_samples_split': 6, 'min_samples_leaf': 1, 'max_features': 'log2', 'criterion': 'gini'}. Best is trial 7 with value: 0.6068642745709828.\n",
      "[I 2025-06-16 17:27:17,758] Trial 9 finished with value: 0.34373374934997397 and parameters: {'classifier': 'NaiveBayes', 'var_smoothing': 7.243269381746214e-07}. Best is trial 7 with value: 0.6068642745709828.\n",
      "[I 2025-06-16 17:27:20,873] Trial 10 finished with value: 0.5712428497139885 and parameters: {'classifier': 'KNN', 'n_neighbors': 11, 'weights': 'distance', 'algorithm': 'kd_tree', 'leaf_size': 24, 'p': 2}. Best is trial 7 with value: 0.6068642745709828.\n",
      "[I 2025-06-16 17:27:22,443] Trial 11 finished with value: 0.6027041081643266 and parameters: {'classifier': 'RandomForest', 'rf_max_depth': 28, 'rf_min_samples_split': 3, 'rf_min_samples_leaf': 4, 'rf_max_features': 'sqrt', 'rf_criterion': 'gini', 'rf_n_estimators': 88}. Best is trial 7 with value: 0.6068642745709828.\n",
      "[I 2025-06-16 17:27:25,153] Trial 12 finished with value: 0.5967238689547582 and parameters: {'classifier': 'RandomForest', 'rf_max_depth': 26, 'rf_min_samples_split': 5, 'rf_min_samples_leaf': 4, 'rf_max_features': 'sqrt', 'rf_criterion': 'gini', 'rf_n_estimators': 152}. Best is trial 7 with value: 0.6068642745709828.\n",
      "[I 2025-06-16 17:27:27,114] Trial 13 finished with value: 0.6224648985959438 and parameters: {'classifier': 'GradientBoosting', 'max_depth': 32, 'min_samples_split': 10, 'min_samples_leaf': 4, 'max_features': 'sqrt', 'criterion': 'entropy', 'n_estimators': 197, 'learning_rate': 0.0630214898749414}. Best is trial 13 with value: 0.6224648985959438.\n",
      "[I 2025-06-16 17:27:29,093] Trial 14 finished with value: 0.6235049401976079 and parameters: {'classifier': 'GradientBoosting', 'max_depth': 32, 'min_samples_split': 10, 'min_samples_leaf': 4, 'max_features': 'sqrt', 'criterion': 'entropy', 'n_estimators': 200, 'learning_rate': 0.06078454314214611}. Best is trial 14 with value: 0.6235049401976079.\n",
      "[I 2025-06-16 17:27:31,072] Trial 15 finished with value: 0.624284971398856 and parameters: {'classifier': 'GradientBoosting', 'max_depth': 32, 'min_samples_split': 10, 'min_samples_leaf': 4, 'max_features': 'sqrt', 'criterion': 'entropy', 'n_estimators': 198, 'learning_rate': 0.0557172493986108}. Best is trial 15 with value: 0.624284971398856.\n",
      "[I 2025-06-16 17:27:33,030] Trial 16 finished with value: 0.6224648985959438 and parameters: {'classifier': 'GradientBoosting', 'max_depth': 32, 'min_samples_split': 10, 'min_samples_leaf': 4, 'max_features': 'sqrt', 'criterion': 'entropy', 'n_estimators': 199, 'learning_rate': 0.06557709676344309}. Best is trial 15 with value: 0.624284971398856.\n",
      "[I 2025-06-16 17:27:34,780] Trial 17 finished with value: 0.6162246489859594 and parameters: {'classifier': 'GradientBoosting', 'max_depth': 25, 'min_samples_split': 2, 'min_samples_leaf': 4, 'max_features': 'sqrt', 'criterion': 'entropy', 'n_estimators': 197, 'learning_rate': 0.03034210703566758}. Best is trial 15 with value: 0.624284971398856.\n",
      "[I 2025-06-16 17:27:34,948] Trial 18 finished with value: 0.6531461258450338 and parameters: {'classifier': 'GradientBoosting', 'max_depth': 5, 'min_samples_split': 9, 'min_samples_leaf': 3, 'max_features': 'sqrt', 'criterion': 'entropy', 'n_estimators': 113, 'learning_rate': 0.20909014819140867}. Best is trial 18 with value: 0.6531461258450338.\n",
      "[I 2025-06-16 17:27:35,044] Trial 19 finished with value: 0.608944357774311 and parameters: {'classifier': 'GradientBoosting', 'max_depth': 2, 'min_samples_split': 8, 'min_samples_leaf': 3, 'max_features': 'sqrt', 'criterion': 'entropy', 'n_estimators': 107, 'learning_rate': 0.26021547627534736}. Best is trial 18 with value: 0.6531461258450338.\n",
      "[I 2025-06-16 17:27:36,083] Trial 20 finished with value: 0.5761830473218928 and parameters: {'classifier': 'KNN', 'n_neighbors': 1, 'weights': 'uniform', 'algorithm': 'brute', 'leaf_size': 50, 'p': 1}. Best is trial 18 with value: 0.6531461258450338.\n",
      "[I 2025-06-16 17:27:36,144] Trial 21 finished with value: 0.5520020800832033 and parameters: {'classifier': 'GradientBoosting', 'max_depth': 2, 'min_samples_split': 9, 'min_samples_leaf': 3, 'max_features': 'sqrt', 'criterion': 'entropy', 'n_estimators': 57, 'learning_rate': 0.19707234070245788}. Best is trial 18 with value: 0.6531461258450338.\n",
      "[I 2025-06-16 17:27:37,262] Trial 22 finished with value: 0.6232449297971919 and parameters: {'classifier': 'GradientBoosting', 'max_depth': 25, 'min_samples_split': 8, 'min_samples_leaf': 3, 'max_features': 'sqrt', 'criterion': 'entropy', 'n_estimators': 138, 'learning_rate': 0.1340893819232092}. Best is trial 18 with value: 0.6531461258450338.\n",
      "[I 2025-06-16 17:27:37,669] Trial 23 finished with value: 0.6357254290171607 and parameters: {'classifier': 'GradientBoosting', 'max_depth': 10, 'min_samples_split': 10, 'min_samples_leaf': 4, 'max_features': 'sqrt', 'criterion': 'entropy', 'n_estimators': 149, 'learning_rate': 0.16107129084503535}. Best is trial 18 with value: 0.6531461258450338.\n",
      "[I 2025-06-16 17:27:38,014] Trial 24 finished with value: 0.6318252730109204 and parameters: {'classifier': 'GradientBoosting', 'max_depth': 9, 'min_samples_split': 8, 'min_samples_leaf': 3, 'max_features': 'sqrt', 'criterion': 'entropy', 'n_estimators': 138, 'learning_rate': 0.16920931272122933}. Best is trial 18 with value: 0.6531461258450338.\n",
      "[I 2025-06-16 17:27:38,320] Trial 25 finished with value: 0.656526261050442 and parameters: {'classifier': 'GradientBoosting', 'max_depth': 8, 'min_samples_split': 8, 'min_samples_leaf': 2, 'max_features': 'sqrt', 'criterion': 'gini', 'n_estimators': 137, 'learning_rate': 0.17679051265590331}. Best is trial 25 with value: 0.656526261050442.\n",
      "[I 2025-06-16 17:27:38,535] Trial 26 finished with value: 0.640665626625065 and parameters: {'classifier': 'GradientBoosting', 'max_depth': 7, 'min_samples_split': 8, 'min_samples_leaf': 2, 'max_features': 'sqrt', 'criterion': 'gini', 'n_estimators': 108, 'learning_rate': 0.22697406585457802}. Best is trial 25 with value: 0.656526261050442.\n",
      "[I 2025-06-16 17:27:38,714] Trial 27 finished with value: 0.6196047841913677 and parameters: {'classifier': 'GradientBoosting', 'max_depth': 6, 'min_samples_split': 7, 'min_samples_leaf': 2, 'max_features': 'sqrt', 'criterion': 'gini', 'n_estimators': 101, 'learning_rate': 0.23699929645663573}. Best is trial 25 with value: 0.656526261050442.\n",
      "[I 2025-06-16 17:27:43,684] Trial 28 finished with value: 0.5748829953198128 and parameters: {'classifier': 'KNN', 'n_neighbors': 19, 'weights': 'uniform', 'algorithm': 'ball_tree', 'leaf_size': 16, 'p': 1}. Best is trial 25 with value: 0.656526261050442.\n",
      "[I 2025-06-16 17:27:43,696] Trial 29 finished with value: 0.34373374934997397 and parameters: {'classifier': 'NaiveBayes', 'var_smoothing': 5.9286874819996535e-08}. Best is trial 25 with value: 0.656526261050442.\n",
      "[I 2025-06-16 17:27:43,777] Trial 30 finished with value: 0.44903796151846076 and parameters: {'classifier': 'LogisticRegression', 'solver': 'liblinear', 'penalty-liblinear': 'l2', 'l1_ratio': 0.10504202216135002, 'C': 7.5145767943418695, 'max_iter': 489}. Best is trial 25 with value: 0.656526261050442.\n",
      "[I 2025-06-16 17:27:44,164] Trial 31 finished with value: 0.6235049401976079 and parameters: {'classifier': 'GradientBoosting', 'max_depth': 9, 'min_samples_split': 9, 'min_samples_leaf': 2, 'max_features': 'sqrt', 'criterion': 'gini', 'n_estimators': 158, 'learning_rate': 0.20286730612016315}. Best is trial 25 with value: 0.656526261050442.\n",
      "[I 2025-06-16 17:27:44,587] Trial 32 finished with value: 0.6284451378055123 and parameters: {'classifier': 'GradientBoosting', 'max_depth': 13, 'min_samples_split': 9, 'min_samples_leaf': 2, 'max_features': 'sqrt', 'criterion': 'gini', 'n_estimators': 110, 'learning_rate': 0.13735523575070938}. Best is trial 25 with value: 0.656526261050442.\n",
      "[I 2025-06-16 17:27:44,816] Trial 33 finished with value: 0.6362454498179927 and parameters: {'classifier': 'GradientBoosting', 'max_depth': 5, 'min_samples_split': 7, 'min_samples_leaf': 2, 'max_features': 'sqrt', 'criterion': 'gini', 'n_estimators': 159, 'learning_rate': 0.21087499945736726}. Best is trial 25 with value: 0.656526261050442.\n",
      "[I 2025-06-16 17:27:45,080] Trial 34 finished with value: 0.438117524700988 and parameters: {'classifier': 'LogisticRegression', 'solver': 'saga', 'penalty-saga': 'l1', 'l1_ratio': 0.11259855830683335, 'C': 0.013998933231626091, 'max_iter': 62}. Best is trial 25 with value: 0.656526261050442.\n",
      "[I 2025-06-16 17:27:45,321] Trial 35 finished with value: 0.6393655746229849 and parameters: {'classifier': 'GradientBoosting', 'max_depth': 5, 'min_samples_split': 7, 'min_samples_leaf': 2, 'max_features': 'sqrt', 'criterion': 'gini', 'n_estimators': 165, 'learning_rate': 0.21729549117036182}. Best is trial 25 with value: 0.656526261050442.\n",
      "[I 2025-06-16 17:27:45,529] Trial 36 finished with value: 0.6484659386375455 and parameters: {'classifier': 'GradientBoosting', 'max_depth': 6, 'min_samples_split': 7, 'min_samples_leaf': 2, 'max_features': 'sqrt', 'criterion': 'gini', 'n_estimators': 120, 'learning_rate': 0.28128433880049114}. Best is trial 25 with value: 0.656526261050442.\n",
      "[I 2025-06-16 17:27:45,557] Trial 37 finished with value: 0.5715028601144045 and parameters: {'classifier': 'DecisionTree', 'max_depth': 7, 'min_samples_split': 4, 'min_samples_leaf': 1, 'max_features': 'sqrt', 'criterion': 'gini'}. Best is trial 25 with value: 0.656526261050442.\n",
      "[I 2025-06-16 17:27:45,617] Trial 38 finished with value: 0.44903796151846076 and parameters: {'classifier': 'LogisticRegression', 'solver': 'newton-cg', 'penalty': 'l2', 'l1_ratio': 0.4226028802546152, 'C': 0.21621193045633755, 'max_iter': 79}. Best is trial 25 with value: 0.656526261050442.\n",
      "[I 2025-06-16 17:27:45,629] Trial 39 finished with value: 0.34373374934997397 and parameters: {'classifier': 'NaiveBayes', 'var_smoothing': 1.9034671731107726e-11}. Best is trial 25 with value: 0.656526261050442.\n",
      "[I 2025-06-16 17:27:46,036] Trial 40 finished with value: 0.623764950598024 and parameters: {'classifier': 'GradientBoosting', 'max_depth': 15, 'min_samples_split': 8, 'min_samples_leaf': 3, 'max_features': 'log2', 'criterion': 'gini', 'n_estimators': 87, 'learning_rate': 0.295570595720657}. Best is trial 25 with value: 0.656526261050442.\n",
      "[I 2025-06-16 17:27:46,219] Trial 41 finished with value: 0.6378055122204889 and parameters: {'classifier': 'GradientBoosting', 'max_depth': 5, 'min_samples_split': 7, 'min_samples_leaf': 2, 'max_features': 'sqrt', 'criterion': 'gini', 'n_estimators': 123, 'learning_rate': 0.251364911207826}. Best is trial 25 with value: 0.656526261050442.\n",
      "[I 2025-06-16 17:27:46,382] Trial 42 finished with value: 0.6526261050442018 and parameters: {'classifier': 'GradientBoosting', 'max_depth': 4, 'min_samples_split': 7, 'min_samples_leaf': 2, 'max_features': 'sqrt', 'criterion': 'gini', 'n_estimators': 127, 'learning_rate': 0.29623917316442094}. Best is trial 25 with value: 0.656526261050442.\n",
      "[I 2025-06-16 17:27:46,402] Trial 43 finished with value: 0.05226209048361934 and parameters: {'classifier': 'DecisionTree', 'max_depth': 3, 'min_samples_split': 8, 'min_samples_leaf': 2, 'max_features': 'sqrt', 'criterion': 'gini'}. Best is trial 25 with value: 0.656526261050442.\n",
      "[I 2025-06-16 17:27:46,643] Trial 44 finished with value: 0.6463858554342173 and parameters: {'classifier': 'GradientBoosting', 'max_depth': 7, 'min_samples_split': 5, 'min_samples_leaf': 2, 'max_features': 'sqrt', 'criterion': 'gini', 'n_estimators': 122, 'learning_rate': 0.2927735786116774}. Best is trial 25 with value: 0.656526261050442.\n",
      "[I 2025-06-16 17:27:47,546] Trial 45 finished with value: 0.14456578263130526 and parameters: {'classifier': 'RandomForest', 'rf_max_depth': 2, 'rf_min_samples_split': 7, 'rf_min_samples_leaf': 1, 'rf_max_features': 'log2', 'rf_criterion': 'entropy', 'rf_n_estimators': 193}. Best is trial 25 with value: 0.656526261050442.\n",
      "[I 2025-06-16 17:27:47,834] Trial 46 finished with value: 0.609984399375975 and parameters: {'classifier': 'GradientBoosting', 'max_depth': 8, 'min_samples_split': 5, 'min_samples_leaf': 2, 'max_features': 'sqrt', 'criterion': 'gini', 'n_estimators': 127, 'learning_rate': 0.2963882422199512}. Best is trial 25 with value: 0.656526261050442.\n",
      "[I 2025-06-16 17:27:49,600] Trial 47 finished with value: 0.5720228809152366 and parameters: {'classifier': 'KNN', 'n_neighbors': 1, 'weights': 'distance', 'algorithm': 'auto', 'leaf_size': 41, 'p': 2}. Best is trial 25 with value: 0.656526261050442.\n",
      "[I 2025-06-16 17:27:50,031] Trial 48 finished with value: 0.6388455538221529 and parameters: {'classifier': 'GradientBoosting', 'max_depth': 12, 'min_samples_split': 4, 'min_samples_leaf': 3, 'max_features': 'sqrt', 'criterion': 'gini', 'n_estimators': 124, 'learning_rate': 0.2708886711102596}. Best is trial 25 with value: 0.656526261050442.\n",
      "[I 2025-06-16 17:27:50,043] Trial 49 finished with value: 0.34373374934997397 and parameters: {'classifier': 'NaiveBayes', 'var_smoothing': 1.8716803781139446e-09}. Best is trial 25 with value: 0.656526261050442.\n",
      "[I 2025-06-16 17:27:50,159] Trial 50 finished with value: 0.6476859074362975 and parameters: {'classifier': 'GradientBoosting', 'max_depth': 4, 'min_samples_split': 5, 'min_samples_leaf': 1, 'max_features': 'sqrt', 'criterion': 'gini', 'n_estimators': 86, 'learning_rate': 0.2764140188937569}. Best is trial 25 with value: 0.656526261050442.\n",
      "[I 2025-06-16 17:27:50,280] Trial 51 finished with value: 0.6484659386375455 and parameters: {'classifier': 'GradientBoosting', 'max_depth': 4, 'min_samples_split': 5, 'min_samples_leaf': 1, 'max_features': 'sqrt', 'criterion': 'gini', 'n_estimators': 85, 'learning_rate': 0.27801127181476537}. Best is trial 25 with value: 0.656526261050442.\n",
      "[I 2025-06-16 17:27:50,392] Trial 52 finished with value: 0.625845033801352 and parameters: {'classifier': 'GradientBoosting', 'max_depth': 4, 'min_samples_split': 5, 'min_samples_leaf': 1, 'max_features': 'log2', 'criterion': 'gini', 'n_estimators': 81, 'learning_rate': 0.2716082689532372}. Best is trial 25 with value: 0.656526261050442.\n",
      "[I 2025-06-16 17:27:50,509] Trial 53 finished with value: 0.6365054602184087 and parameters: {'classifier': 'GradientBoosting', 'max_depth': 4, 'min_samples_split': 4, 'min_samples_leaf': 1, 'max_features': 'sqrt', 'criterion': 'gini', 'n_estimators': 85, 'learning_rate': 0.2766765684004334}. Best is trial 25 with value: 0.656526261050442.\n",
      "[I 2025-06-16 17:27:50,750] Trial 54 finished with value: 0.11804472178887156 and parameters: {'classifier': 'RandomForest', 'rf_max_depth': 2, 'rf_min_samples_split': 2, 'rf_min_samples_leaf': 2, 'rf_max_features': 'log2', 'rf_criterion': 'entropy', 'rf_n_estimators': 53}. Best is trial 25 with value: 0.656526261050442.\n",
      "[I 2025-06-16 17:27:50,821] Trial 55 finished with value: 0.5824232969318772 and parameters: {'classifier': 'GradientBoosting', 'max_depth': 2, 'min_samples_split': 6, 'min_samples_leaf': 1, 'max_features': 'sqrt', 'criterion': 'gini', 'n_estimators': 68, 'learning_rate': 0.24692059428057647}. Best is trial 25 with value: 0.656526261050442.\n",
      "[I 2025-06-16 17:27:50,864] Trial 56 finished with value: 0.5722828913156526 and parameters: {'classifier': 'DecisionTree', 'max_depth': 19, 'min_samples_split': 6, 'min_samples_leaf': 1, 'max_features': 'log2', 'criterion': 'gini'}. Best is trial 25 with value: 0.656526261050442.\n",
      "[I 2025-06-16 17:27:50,987] Trial 57 finished with value: 0.6534061362454499 and parameters: {'classifier': 'GradientBoosting', 'max_depth': 4, 'min_samples_split': 5, 'min_samples_leaf': 1, 'max_features': 'sqrt', 'criterion': 'gini', 'n_estimators': 91, 'learning_rate': 0.2783016158728699}. Best is trial 25 with value: 0.656526261050442.\n",
      "[I 2025-06-16 17:27:51,166] Trial 58 finished with value: 0.6484659386375455 and parameters: {'classifier': 'GradientBoosting', 'max_depth': 6, 'min_samples_split': 7, 'min_samples_leaf': 1, 'max_features': 'log2', 'criterion': 'gini', 'n_estimators': 100, 'learning_rate': 0.17851069930385846}. Best is trial 25 with value: 0.656526261050442.\n",
      "[I 2025-06-16 17:27:51,462] Trial 59 finished with value: 0.6307852314092564 and parameters: {'classifier': 'GradientBoosting', 'max_depth': 8, 'min_samples_split': 6, 'min_samples_leaf': 1, 'max_features': 'sqrt', 'criterion': 'gini', 'n_estimators': 133, 'learning_rate': 0.29981558031525524}. Best is trial 25 with value: 0.656526261050442.\n",
      "[I 2025-06-16 17:27:57,409] Trial 60 finished with value: 0.5421216848673946 and parameters: {'classifier': 'KNN', 'n_neighbors': 20, 'weights': 'uniform', 'algorithm': 'auto', 'leaf_size': 11, 'p': 1}. Best is trial 25 with value: 0.656526261050442.\n",
      "[I 2025-06-16 17:27:57,586] Trial 61 finished with value: 0.6424856994279771 and parameters: {'classifier': 'GradientBoosting', 'max_depth': 6, 'min_samples_split': 7, 'min_samples_leaf': 1, 'max_features': 'log2', 'criterion': 'gini', 'n_estimators': 97, 'learning_rate': 0.14813321257242135}. Best is trial 25 with value: 0.656526261050442.\n",
      "[I 2025-06-16 17:27:57,733] Trial 62 finished with value: 0.641965678627145 and parameters: {'classifier': 'GradientBoosting', 'max_depth': 4, 'min_samples_split': 7, 'min_samples_leaf': 1, 'max_features': 'log2', 'criterion': 'gini', 'n_estimators': 115, 'learning_rate': 0.18562614822369328}. Best is trial 25 with value: 0.656526261050442.\n",
      "[I 2025-06-16 17:27:57,921] Trial 63 finished with value: 0.6502860114404576 and parameters: {'classifier': 'GradientBoosting', 'max_depth': 6, 'min_samples_split': 9, 'min_samples_leaf': 1, 'max_features': 'log2', 'criterion': 'gini', 'n_estimators': 96, 'learning_rate': 0.17852599498355243}. Best is trial 25 with value: 0.656526261050442.\n",
      "[I 2025-06-16 17:27:58,009] Trial 64 finished with value: 0.6203848153926157 and parameters: {'classifier': 'GradientBoosting', 'max_depth': 3, 'min_samples_split': 9, 'min_samples_leaf': 1, 'max_features': 'log2', 'criterion': 'gini', 'n_estimators': 71, 'learning_rate': 0.2632046704083731}. Best is trial 25 with value: 0.656526261050442.\n",
      "[I 2025-06-16 17:27:58,292] Trial 65 finished with value: 0.6469058762350494 and parameters: {'classifier': 'GradientBoosting', 'max_depth': 10, 'min_samples_split': 9, 'min_samples_leaf': 2, 'max_features': 'sqrt', 'criterion': 'gini', 'n_estimators': 96, 'learning_rate': 0.12657852643753556}. Best is trial 25 with value: 0.656526261050442.\n",
      "[I 2025-06-16 17:27:58,392] Trial 66 finished with value: 0.5660426417056682 and parameters: {'classifier': 'GradientBoosting', 'max_depth': 2, 'min_samples_split': 5, 'min_samples_leaf': 3, 'max_features': 'sqrt', 'criterion': 'entropy', 'n_estimators': 117, 'learning_rate': 0.11485152560701314}. Best is trial 25 with value: 0.656526261050442.\n",
      "[I 2025-06-16 17:27:58,459] Trial 67 finished with value: 0.44929797191887677 and parameters: {'classifier': 'LogisticRegression', 'solver': 'newton-cg', 'penalty': 'l2', 'l1_ratio': 0.20536675802335758, 'C': 9.238466501753885, 'max_iter': 500}. Best is trial 25 with value: 0.656526261050442.\n",
      "[I 2025-06-16 17:27:58,706] Trial 68 finished with value: 0.656266250650026 and parameters: {'classifier': 'GradientBoosting', 'max_depth': 6, 'min_samples_split': 6, 'min_samples_leaf': 2, 'max_features': 'sqrt', 'criterion': 'gini', 'n_estimators': 145, 'learning_rate': 0.23513030529235537}. Best is trial 25 with value: 0.656526261050442.\n",
      "[I 2025-06-16 17:28:01,533] Trial 69 finished with value: 0.5923036921476859 and parameters: {'classifier': 'RandomForest', 'rf_max_depth': 15, 'rf_min_samples_split': 6, 'rf_min_samples_leaf': 2, 'rf_max_features': 'log2', 'rf_criterion': 'entropy', 'rf_n_estimators': 162}. Best is trial 25 with value: 0.656526261050442.\n",
      "[I 2025-06-16 17:28:01,819] Trial 70 finished with value: 0.6388455538221529 and parameters: {'classifier': 'GradientBoosting', 'max_depth': 7, 'min_samples_split': 6, 'min_samples_leaf': 2, 'max_features': 'log2', 'criterion': 'entropy', 'n_estimators': 146, 'learning_rate': 0.18809357286557232}. Best is trial 25 with value: 0.656526261050442.\n",
      "[I 2025-06-16 17:28:02,046] Trial 71 finished with value: 0.640925637025481 and parameters: {'classifier': 'GradientBoosting', 'max_depth': 6, 'min_samples_split': 6, 'min_samples_leaf': 2, 'max_features': 'sqrt', 'criterion': 'gini', 'n_estimators': 133, 'learning_rate': 0.23107241331436876}. Best is trial 25 with value: 0.656526261050442.\n",
      "[I 2025-06-16 17:28:02,228] Trial 72 finished with value: 0.6466458658346333 and parameters: {'classifier': 'GradientBoosting', 'max_depth': 4, 'min_samples_split': 8, 'min_samples_leaf': 1, 'max_features': 'sqrt', 'criterion': 'gini', 'n_estimators': 145, 'learning_rate': 0.2840024630974836}. Best is trial 25 with value: 0.656526261050442.\n",
      "[I 2025-06-16 17:28:02,712] Trial 73 finished with value: 0.609204368174727 and parameters: {'classifier': 'GradientBoosting', 'max_depth': 20, 'min_samples_split': 9, 'min_samples_leaf': 3, 'max_features': 'sqrt', 'criterion': 'gini', 'n_estimators': 76, 'learning_rate': 0.25011499999419234}. Best is trial 25 with value: 0.656526261050442.\n",
      "[I 2025-06-16 17:28:02,950] Trial 74 finished with value: 0.6352054082163286 and parameters: {'classifier': 'GradientBoosting', 'max_depth': 9, 'min_samples_split': 4, 'min_samples_leaf': 2, 'max_features': 'sqrt', 'criterion': 'entropy', 'n_estimators': 91, 'learning_rate': 0.2831035638574042}. Best is trial 25 with value: 0.656526261050442.\n",
      "[I 2025-06-16 17:28:02,961] Trial 75 finished with value: 0.34373374934997397 and parameters: {'classifier': 'NaiveBayes', 'var_smoothing': 1.8723772232338106e-09}. Best is trial 25 with value: 0.656526261050442.\n",
      "[I 2025-06-16 17:28:03,085] Trial 76 finished with value: 0.6362454498179927 and parameters: {'classifier': 'GradientBoosting', 'max_depth': 3, 'min_samples_split': 10, 'min_samples_leaf': 2, 'max_features': 'sqrt', 'criterion': 'gini', 'n_estimators': 114, 'learning_rate': 0.2587090275639885}. Best is trial 25 with value: 0.656526261050442.\n",
      "[I 2025-06-16 17:28:03,248] Trial 77 finished with value: 0.6435257410296412 and parameters: {'classifier': 'GradientBoosting', 'max_depth': 5, 'min_samples_split': 8, 'min_samples_leaf': 1, 'max_features': 'sqrt', 'criterion': 'gini', 'n_estimators': 104, 'learning_rate': 0.16288903251313863}. Best is trial 25 with value: 0.656526261050442.\n",
      "[I 2025-06-16 17:28:03,542] Trial 78 finished with value: 0.6383255330213209 and parameters: {'classifier': 'GradientBoosting', 'max_depth': 8, 'min_samples_split': 5, 'min_samples_leaf': 2, 'max_features': 'sqrt', 'criterion': 'entropy', 'n_estimators': 131, 'learning_rate': 0.19856650361551204}. Best is trial 25 with value: 0.656526261050442.\n",
      "[I 2025-06-16 17:28:03,586] Trial 79 finished with value: 0.5894435777431097 and parameters: {'classifier': 'DecisionTree', 'max_depth': 28, 'min_samples_split': 9, 'min_samples_leaf': 3, 'max_features': 'sqrt', 'criterion': 'gini'}. Best is trial 25 with value: 0.656526261050442.\n",
      "[I 2025-06-16 17:28:03,843] Trial 80 finished with value: 0.5751430057202288 and parameters: {'classifier': 'KNN', 'n_neighbors': 10, 'weights': 'distance', 'algorithm': 'brute', 'leaf_size': 31, 'p': 2}. Best is trial 25 with value: 0.656526261050442.\n",
      "[I 2025-06-16 17:28:04,098] Trial 81 finished with value: 0.6430057202288092 and parameters: {'classifier': 'GradientBoosting', 'max_depth': 6, 'min_samples_split': 7, 'min_samples_leaf': 1, 'max_features': 'log2', 'criterion': 'gini', 'n_estimators': 96, 'learning_rate': 0.17288878408164302}. Best is trial 25 with value: 0.656526261050442.\n",
      "[I 2025-06-16 17:28:04,290] Trial 82 finished with value: 0.6443057722308893 and parameters: {'classifier': 'GradientBoosting', 'max_depth': 6, 'min_samples_split': 7, 'min_samples_leaf': 1, 'max_features': 'log2', 'criterion': 'gini', 'n_estimators': 105, 'learning_rate': 0.18343200157901168}. Best is trial 25 with value: 0.656526261050442.\n",
      "[I 2025-06-16 17:28:04,437] Trial 83 finished with value: 0.6393655746229849 and parameters: {'classifier': 'GradientBoosting', 'max_depth': 5, 'min_samples_split': 6, 'min_samples_leaf': 1, 'max_features': 'log2', 'criterion': 'gini', 'n_estimators': 92, 'learning_rate': 0.17517310555818214}. Best is trial 25 with value: 0.656526261050442.\n",
      "[I 2025-06-16 17:28:04,581] Trial 84 finished with value: 0.6378055122204889 and parameters: {'classifier': 'GradientBoosting', 'max_depth': 3, 'min_samples_split': 8, 'min_samples_leaf': 1, 'max_features': 'log2', 'criterion': 'gini', 'n_estimators': 141, 'learning_rate': 0.2115156780130664}. Best is trial 25 with value: 0.656526261050442.\n",
      "[I 2025-06-16 17:28:04,717] Trial 85 finished with value: 0.44903796151846076 and parameters: {'classifier': 'LogisticRegression', 'solver': 'sag', 'penalty': 'l2', 'l1_ratio': 0.24802384922799678, 'C': 0.252238610047888, 'max_iter': 301}. Best is trial 25 with value: 0.656526261050442.\n",
      "[I 2025-06-16 17:28:05,014] Trial 86 finished with value: 0.6393655746229849 and parameters: {'classifier': 'GradientBoosting', 'max_depth': 7, 'min_samples_split': 7, 'min_samples_leaf': 2, 'max_features': 'sqrt', 'criterion': 'gini', 'n_estimators': 153, 'learning_rate': 0.15339644358902185}. Best is trial 25 with value: 0.656526261050442.\n",
      "[I 2025-06-16 17:28:05,361] Trial 87 finished with value: 0.640145605824233 and parameters: {'classifier': 'GradientBoosting', 'max_depth': 11, 'min_samples_split': 9, 'min_samples_leaf': 2, 'max_features': 'sqrt', 'criterion': 'entropy', 'n_estimators': 110, 'learning_rate': 0.22128578107637573}. Best is trial 25 with value: 0.656526261050442.\n",
      "[I 2025-06-16 17:28:05,609] Trial 88 finished with value: 0.6302652106084243 and parameters: {'classifier': 'GradientBoosting', 'max_depth': 5, 'min_samples_split': 2, 'min_samples_leaf': 3, 'max_features': 'sqrt', 'criterion': 'gini', 'n_estimators': 174, 'learning_rate': 0.24196086878760178}. Best is trial 25 with value: 0.656526261050442.\n",
      "[I 2025-06-16 17:28:05,902] Trial 89 finished with value: 0.6370254810192407 and parameters: {'classifier': 'GradientBoosting', 'max_depth': 8, 'min_samples_split': 3, 'min_samples_leaf': 2, 'max_features': 'log2', 'criterion': 'gini', 'n_estimators': 100, 'learning_rate': 0.28668540944540377}. Best is trial 25 with value: 0.656526261050442.\n",
      "[I 2025-06-16 17:28:05,913] Trial 90 finished with value: 0.34373374934997397 and parameters: {'classifier': 'NaiveBayes', 'var_smoothing': 7.588756446266823e-08}. Best is trial 25 with value: 0.656526261050442.\n",
      "[I 2025-06-16 17:28:06,030] Trial 91 finished with value: 0.6289651586063443 and parameters: {'classifier': 'GradientBoosting', 'max_depth': 4, 'min_samples_split': 5, 'min_samples_leaf': 1, 'max_features': 'sqrt', 'criterion': 'gini', 'n_estimators': 81, 'learning_rate': 0.27394713542169813}. Best is trial 25 with value: 0.656526261050442.\n",
      "[I 2025-06-16 17:28:06,131] Trial 92 finished with value: 0.6326053042121685 and parameters: {'classifier': 'GradientBoosting', 'max_depth': 3, 'min_samples_split': 5, 'min_samples_leaf': 1, 'max_features': 'sqrt', 'criterion': 'gini', 'n_estimators': 88, 'learning_rate': 0.283188866079851}. Best is trial 25 with value: 0.656526261050442.\n",
      "[I 2025-06-16 17:28:06,341] Trial 93 finished with value: 0.6320852834113364 and parameters: {'classifier': 'GradientBoosting', 'max_depth': 6, 'min_samples_split': 6, 'min_samples_leaf': 1, 'max_features': 'sqrt', 'criterion': 'gini', 'n_estimators': 119, 'learning_rate': 0.26421611595240657}. Best is trial 25 with value: 0.656526261050442.\n",
      "[I 2025-06-16 17:28:06,478] Trial 94 finished with value: 0.6393655746229849 and parameters: {'classifier': 'GradientBoosting', 'max_depth': 5, 'min_samples_split': 5, 'min_samples_leaf': 1, 'max_features': 'sqrt', 'criterion': 'gini', 'n_estimators': 83, 'learning_rate': 0.19395767140566997}. Best is trial 25 with value: 0.656526261050442.\n",
      "[I 2025-06-16 17:28:06,587] Trial 95 finished with value: 0.6209048361934477 and parameters: {'classifier': 'GradientBoosting', 'max_depth': 2, 'min_samples_split': 7, 'min_samples_leaf': 1, 'max_features': 'sqrt', 'criterion': 'gini', 'n_estimators': 128, 'learning_rate': 0.2559341845099389}. Best is trial 25 with value: 0.656526261050442.\n",
      "[I 2025-06-16 17:28:09,234] Trial 96 finished with value: 0.5340613624544982 and parameters: {'classifier': 'RandomForest', 'rf_max_depth': 10, 'rf_min_samples_split': 10, 'rf_min_samples_leaf': 3, 'rf_max_features': 'sqrt', 'rf_criterion': 'entropy', 'rf_n_estimators': 193}. Best is trial 25 with value: 0.656526261050442.\n",
      "[I 2025-06-16 17:28:09,407] Trial 97 finished with value: 0.6276651066042642 and parameters: {'classifier': 'GradientBoosting', 'max_depth': 4, 'min_samples_split': 4, 'min_samples_leaf': 2, 'max_features': 'sqrt', 'criterion': 'gini', 'n_estimators': 139, 'learning_rate': 0.21031326445493484}. Best is trial 25 with value: 0.656526261050442.\n",
      "[I 2025-06-16 17:28:09,573] Trial 98 finished with value: 0.6430057202288092 and parameters: {'classifier': 'GradientBoosting', 'max_depth': 7, 'min_samples_split': 8, 'min_samples_leaf': 1, 'max_features': 'sqrt', 'criterion': 'gini', 'n_estimators': 77, 'learning_rate': 0.2709443908758594}. Best is trial 25 with value: 0.656526261050442.\n",
      "[I 2025-06-16 17:28:09,603] Trial 99 finished with value: 0.5439417576703068 and parameters: {'classifier': 'DecisionTree', 'max_depth': 9, 'min_samples_split': 10, 'min_samples_leaf': 1, 'max_features': 'sqrt', 'criterion': 'entropy'}. Best is trial 25 with value: 0.656526261050442.\n",
      "[I 2025-06-16 17:28:10,056] Trial 100 finished with value: 0.6263650546021841 and parameters: {'classifier': 'GradientBoosting', 'max_depth': 14, 'min_samples_split': 8, 'min_samples_leaf': 2, 'max_features': 'log2', 'criterion': 'gini', 'n_estimators': 109, 'learning_rate': 0.2901249340777818}. Best is trial 25 with value: 0.656526261050442.\n",
      "[I 2025-06-16 17:28:10,234] Trial 101 finished with value: 0.6453458138325533 and parameters: {'classifier': 'GradientBoosting', 'max_depth': 6, 'min_samples_split': 9, 'min_samples_leaf': 2, 'max_features': 'sqrt', 'criterion': 'gini', 'n_estimators': 95, 'learning_rate': 0.10997030112764873}. Best is trial 25 with value: 0.656526261050442.\n",
      "[I 2025-06-16 17:28:10,499] Trial 102 finished with value: 0.641185647425897 and parameters: {'classifier': 'GradientBoosting', 'max_depth': 10, 'min_samples_split': 9, 'min_samples_leaf': 4, 'max_features': 'sqrt', 'criterion': 'gini', 'n_estimators': 90, 'learning_rate': 0.142064467932178}. Best is trial 25 with value: 0.656526261050442.\n",
      "[I 2025-06-16 17:28:10,660] Trial 103 finished with value: 0.6359854394175767 and parameters: {'classifier': 'GradientBoosting', 'max_depth': 5, 'min_samples_split': 9, 'min_samples_leaf': 2, 'max_features': 'sqrt', 'criterion': 'gini', 'n_estimators': 103, 'learning_rate': 0.11861888609614368}. Best is trial 25 with value: 0.656526261050442.\n",
      "[I 2025-06-16 17:28:10,886] Trial 104 finished with value: 0.655746229849194 and parameters: {'classifier': 'GradientBoosting', 'max_depth': 8, 'min_samples_split': 6, 'min_samples_leaf': 2, 'max_features': 'sqrt', 'criterion': 'gini', 'n_estimators': 96, 'learning_rate': 0.13054413380596772}. Best is trial 25 with value: 0.656526261050442.\n",
      "[I 2025-06-16 17:28:14,808] Trial 105 finished with value: 0.5234009360374415 and parameters: {'classifier': 'KNN', 'n_neighbors': 10, 'weights': 'uniform', 'algorithm': 'kd_tree', 'leaf_size': 34, 'p': 1}. Best is trial 25 with value: 0.656526261050442.\n",
      "[I 2025-06-16 17:28:15,041] Trial 106 finished with value: 0.6458658346333853 and parameters: {'classifier': 'GradientBoosting', 'max_depth': 8, 'min_samples_split': 6, 'min_samples_leaf': 3, 'max_features': 'sqrt', 'criterion': 'gini', 'n_estimators': 99, 'learning_rate': 0.15846027942074922}. Best is trial 25 with value: 0.656526261050442.\n",
      "[I 2025-06-16 17:28:15,186] Trial 107 finished with value: 0.44903796151846076 and parameters: {'classifier': 'LogisticRegression', 'solver': 'lbfgs', 'penalty': None, 'l1_ratio': 0.1402130591114332, 'C': 1.4505143001242435, 'max_iter': 192}. Best is trial 25 with value: 0.656526261050442.\n",
      "[I 2025-06-16 17:28:15,272] Trial 108 finished with value: 0.5486219448777951 and parameters: {'classifier': 'GradientBoosting', 'max_depth': 3, 'min_samples_split': 5, 'min_samples_leaf': 2, 'max_features': 'sqrt', 'criterion': 'gini', 'n_estimators': 65, 'learning_rate': 0.08963348780402303}. Best is trial 25 with value: 0.656526261050442.\n",
      "[I 2025-06-16 17:28:15,420] Trial 109 finished with value: 0.6378055122204889 and parameters: {'classifier': 'GradientBoosting', 'max_depth': 4, 'min_samples_split': 7, 'min_samples_leaf': 2, 'max_features': 'sqrt', 'criterion': 'gini', 'n_estimators': 114, 'learning_rate': 0.17728499211778512}. Best is trial 25 with value: 0.656526261050442.\n",
      "[I 2025-06-16 17:28:15,661] Trial 110 finished with value: 0.6344253770150806 and parameters: {'classifier': 'GradientBoosting', 'max_depth': 7, 'min_samples_split': 6, 'min_samples_leaf': 1, 'max_features': 'log2', 'criterion': 'entropy', 'n_estimators': 121, 'learning_rate': 0.2958275800634154}. Best is trial 25 with value: 0.656526261050442.\n",
      "[I 2025-06-16 17:28:15,936] Trial 111 finished with value: 0.6354654186167447 and parameters: {'classifier': 'GradientBoosting', 'max_depth': 10, 'min_samples_split': 5, 'min_samples_leaf': 2, 'max_features': 'sqrt', 'criterion': 'gini', 'n_estimators': 93, 'learning_rate': 0.13325627070876644}. Best is trial 25 with value: 0.656526261050442.\n",
      "[I 2025-06-16 17:28:16,103] Trial 112 finished with value: 0.6427457098283932 and parameters: {'classifier': 'GradientBoosting', 'max_depth': 6, 'min_samples_split': 6, 'min_samples_leaf': 2, 'max_features': 'sqrt', 'criterion': 'gini', 'n_estimators': 88, 'learning_rate': 0.12188156677167292}. Best is trial 25 with value: 0.656526261050442.\n",
      "[I 2025-06-16 17:28:16,366] Trial 113 finished with value: 0.6497659906396256 and parameters: {'classifier': 'GradientBoosting', 'max_depth': 9, 'min_samples_split': 10, 'min_samples_leaf': 2, 'max_features': 'sqrt', 'criterion': 'gini', 'n_estimators': 97, 'learning_rate': 0.10515747232969758}. Best is trial 25 with value: 0.656526261050442.\n",
      "[I 2025-06-16 17:28:16,557] Trial 114 finished with value: 0.6448257930317213 and parameters: {'classifier': 'GradientBoosting', 'max_depth': 8, 'min_samples_split': 10, 'min_samples_leaf': 2, 'max_features': 'sqrt', 'criterion': 'gini', 'n_estimators': 76, 'learning_rate': 0.09852681184967585}. Best is trial 25 with value: 0.656526261050442.\n",
      "[I 2025-06-16 17:28:16,761] Trial 115 finished with value: 0.6349453978159126 and parameters: {'classifier': 'GradientBoosting', 'max_depth': 5, 'min_samples_split': 10, 'min_samples_leaf': 2, 'max_features': 'sqrt', 'criterion': 'gini', 'n_estimators': 134, 'learning_rate': 0.08681469253469626}. Best is trial 25 with value: 0.656526261050442.\n",
      "[I 2025-06-16 17:28:17,828] Trial 116 finished with value: 0.6045241809672387 and parameters: {'classifier': 'RandomForest', 'rf_max_depth': 32, 'rf_min_samples_split': 7, 'rf_min_samples_leaf': 2, 'rf_max_features': 'log2', 'rf_criterion': 'entropy', 'rf_n_estimators': 51}. Best is trial 25 with value: 0.656526261050442.\n",
      "[I 2025-06-16 17:28:18,036] Trial 117 finished with value: 0.6430057202288092 and parameters: {'classifier': 'GradientBoosting', 'max_depth': 7, 'min_samples_split': 7, 'min_samples_leaf': 1, 'max_features': 'sqrt', 'criterion': 'gini', 'n_estimators': 101, 'learning_rate': 0.1650492642832971}. Best is trial 25 with value: 0.656526261050442.\n",
      "[I 2025-06-16 17:28:18,047] Trial 118 finished with value: 0.34373374934997397 and parameters: {'classifier': 'NaiveBayes', 'var_smoothing': 1.777617930236423e-10}. Best is trial 25 with value: 0.656526261050442.\n",
      "[I 2025-06-16 17:28:18,640] Trial 119 finished with value: 0.625845033801352 and parameters: {'classifier': 'GradientBoosting', 'max_depth': 16, 'min_samples_split': 5, 'min_samples_leaf': 1, 'max_features': 'sqrt', 'criterion': 'gini', 'n_estimators': 125, 'learning_rate': 0.2789303132423815}. Best is trial 25 with value: 0.656526261050442.\n",
      "[I 2025-06-16 17:28:18,761] Trial 120 finished with value: 0.6302652106084243 and parameters: {'classifier': 'GradientBoosting', 'max_depth': 4, 'min_samples_split': 6, 'min_samples_leaf': 2, 'max_features': 'sqrt', 'criterion': 'gini', 'n_estimators': 86, 'learning_rate': 0.20391837753521067}. Best is trial 25 with value: 0.656526261050442.\n",
      "[I 2025-06-16 17:28:19,040] Trial 121 finished with value: 0.6359854394175767 and parameters: {'classifier': 'GradientBoosting', 'max_depth': 10, 'min_samples_split': 9, 'min_samples_leaf': 2, 'max_features': 'sqrt', 'criterion': 'gini', 'n_estimators': 96, 'learning_rate': 0.2337607027326768}. Best is trial 25 with value: 0.656526261050442.\n",
      "[I 2025-06-16 17:28:19,383] Trial 122 finished with value: 0.6471658866354654 and parameters: {'classifier': 'GradientBoosting', 'max_depth': 11, 'min_samples_split': 8, 'min_samples_leaf': 2, 'max_features': 'sqrt', 'criterion': 'gini', 'n_estimators': 106, 'learning_rate': 0.12819487781870442}. Best is trial 25 with value: 0.656526261050442.\n",
      "[I 2025-06-16 17:28:19,658] Trial 123 finished with value: 0.6437857514300572 and parameters: {'classifier': 'GradientBoosting', 'max_depth': 9, 'min_samples_split': 8, 'min_samples_leaf': 3, 'max_features': 'sqrt', 'criterion': 'gini', 'n_estimators': 107, 'learning_rate': 0.26651529271343466}. Best is trial 25 with value: 0.656526261050442.\n",
      "[I 2025-06-16 17:28:20,070] Trial 124 finished with value: 0.6034841393655747 and parameters: {'classifier': 'GradientBoosting', 'max_depth': 11, 'min_samples_split': 7, 'min_samples_leaf': 2, 'max_features': 'sqrt', 'criterion': 'gini', 'n_estimators': 112, 'learning_rate': 0.027096643245271446}. Best is trial 25 with value: 0.656526261050442.\n",
      "[I 2025-06-16 17:28:20,260] Trial 125 finished with value: 0.6505460218408736 and parameters: {'classifier': 'GradientBoosting', 'max_depth': 6, 'min_samples_split': 7, 'min_samples_leaf': 2, 'max_features': 'log2', 'criterion': 'gini', 'n_estimators': 106, 'learning_rate': 0.2998942330331117}. Best is trial 25 with value: 0.656526261050442.\n",
      "[I 2025-06-16 17:28:20,512] Trial 126 finished with value: 0.6229849193967759 and parameters: {'classifier': 'GradientBoosting', 'max_depth': 6, 'min_samples_split': 7, 'min_samples_leaf': 2, 'max_features': 'log2', 'criterion': 'entropy', 'n_estimators': 143, 'learning_rate': 0.29654029777925905}. Best is trial 25 with value: 0.656526261050442.\n",
      "[I 2025-06-16 17:28:20,750] Trial 127 finished with value: 0.6305252210088403 and parameters: {'classifier': 'GradientBoosting', 'max_depth': 7, 'min_samples_split': 6, 'min_samples_leaf': 1, 'max_features': 'log2', 'criterion': 'gini', 'n_estimators': 118, 'learning_rate': 0.27762111261469824}. Best is trial 25 with value: 0.656526261050442.\n",
      "[I 2025-06-16 17:28:20,775] Trial 128 finished with value: 0.3837753510140406 and parameters: {'classifier': 'DecisionTree', 'max_depth': 5, 'min_samples_split': 7, 'min_samples_leaf': 2, 'max_features': 'log2', 'criterion': 'gini'}. Best is trial 25 with value: 0.656526261050442.\n",
      "[I 2025-06-16 17:28:25,153] Trial 129 finished with value: 0.5660426417056682 and parameters: {'classifier': 'KNN', 'n_neighbors': 15, 'weights': 'distance', 'algorithm': 'ball_tree', 'leaf_size': 49, 'p': 2}. Best is trial 25 with value: 0.656526261050442.\n",
      "[I 2025-06-16 17:28:25,297] Trial 130 finished with value: 0.6164846593863754 and parameters: {'classifier': 'GradientBoosting', 'max_depth': 3, 'min_samples_split': 7, 'min_samples_leaf': 1, 'max_features': 'log2', 'criterion': 'gini', 'n_estimators': 136, 'learning_rate': 0.2996970473851494}. Best is trial 25 with value: 0.656526261050442.\n",
      "[I 2025-06-16 17:28:25,544] Trial 131 finished with value: 0.6440457618304732 and parameters: {'classifier': 'GradientBoosting', 'max_depth': 8, 'min_samples_split': 8, 'min_samples_leaf': 2, 'max_features': 'sqrt', 'criterion': 'gini', 'n_estimators': 105, 'learning_rate': 0.28811533770797576}. Best is trial 25 with value: 0.656526261050442.\n",
      "[I 2025-06-16 17:28:25,922] Trial 132 finished with value: 0.641445657826313 and parameters: {'classifier': 'GradientBoosting', 'max_depth': 9, 'min_samples_split': 8, 'min_samples_leaf': 2, 'max_features': 'log2', 'criterion': 'gini', 'n_estimators': 150, 'learning_rate': 0.10742143019653325}. Best is trial 25 with value: 0.656526261050442.\n",
      "[I 2025-06-16 17:28:26,103] Trial 133 finished with value: 0.6505460218408736 and parameters: {'classifier': 'GradientBoosting', 'max_depth': 6, 'min_samples_split': 4, 'min_samples_leaf': 2, 'max_features': 'sqrt', 'criterion': 'gini', 'n_estimators': 100, 'learning_rate': 0.14930750474605783}. Best is trial 25 with value: 0.656526261050442.\n",
      "[I 2025-06-16 17:28:26,256] Trial 134 finished with value: 0.6437857514300572 and parameters: {'classifier': 'GradientBoosting', 'max_depth': 5, 'min_samples_split': 4, 'min_samples_leaf': 2, 'max_features': 'sqrt', 'criterion': 'gini', 'n_estimators': 93, 'learning_rate': 0.16793237173189143}. Best is trial 25 with value: 0.656526261050442.\n",
      "[I 2025-06-16 17:28:26,479] Trial 135 finished with value: 0.6378055122204889 and parameters: {'classifier': 'GradientBoosting', 'max_depth': 6, 'min_samples_split': 3, 'min_samples_leaf': 2, 'max_features': 'sqrt', 'criterion': 'gini', 'n_estimators': 128, 'learning_rate': 0.1487856247768706}. Best is trial 25 with value: 0.656526261050442.\n",
      "[I 2025-06-16 17:28:26,875] Trial 136 finished with value: 0.44877795111804475 and parameters: {'classifier': 'LogisticRegression', 'solver': 'liblinear', 'penalty-liblinear': 'l1', 'l1_ratio': 0.3150674465121248, 'C': 0.08625363502849284, 'max_iter': 398}. Best is trial 25 with value: 0.656526261050442.\n",
      "[I 2025-06-16 17:28:27,012] Trial 137 finished with value: 0.5995839833593344 and parameters: {'classifier': 'GradientBoosting', 'max_depth': 4, 'min_samples_split': 3, 'min_samples_leaf': 1, 'max_features': 'log2', 'criterion': 'gini', 'n_estimators': 99, 'learning_rate': 0.0720328257945726}. Best is trial 25 with value: 0.656526261050442.\n",
      "[I 2025-06-16 17:28:27,129] Trial 138 finished with value: 0.6323452938117524 and parameters: {'classifier': 'GradientBoosting', 'max_depth': 4, 'min_samples_split': 4, 'min_samples_leaf': 2, 'max_features': 'sqrt', 'criterion': 'entropy', 'n_estimators': 83, 'learning_rate': 0.18235238236170154}. Best is trial 25 with value: 0.656526261050442.\n",
      "[I 2025-06-16 17:28:27,218] Trial 139 finished with value: 0.5660426417056682 and parameters: {'classifier': 'GradientBoosting', 'max_depth': 2, 'min_samples_split': 10, 'min_samples_leaf': 2, 'max_features': 'sqrt', 'criterion': 'gini', 'n_estimators': 90, 'learning_rate': 0.14141641187807427}. Best is trial 25 with value: 0.656526261050442.\n",
      "[I 2025-06-16 17:28:27,396] Trial 140 finished with value: 0.6432657306292252 and parameters: {'classifier': 'GradientBoosting', 'max_depth': 6, 'min_samples_split': 6, 'min_samples_leaf': 3, 'max_features': 'sqrt', 'criterion': 'gini', 'n_estimators': 98, 'learning_rate': 0.2891280414893437}. Best is trial 25 with value: 0.656526261050442.\n",
      "[I 2025-06-16 17:28:27,608] Trial 141 finished with value: 0.642225689027561 and parameters: {'classifier': 'GradientBoosting', 'max_depth': 7, 'min_samples_split': 7, 'min_samples_leaf': 2, 'max_features': 'sqrt', 'criterion': 'gini', 'n_estimators': 102, 'learning_rate': 0.2809559616685673}. Best is trial 25 with value: 0.656526261050442.\n",
      "[I 2025-06-16 17:28:27,785] Trial 142 finished with value: 0.6440457618304732 and parameters: {'classifier': 'GradientBoosting', 'max_depth': 5, 'min_samples_split': 5, 'min_samples_leaf': 2, 'max_features': 'sqrt', 'criterion': 'gini', 'n_estimators': 105, 'learning_rate': 0.12877158128203825}. Best is trial 25 with value: 0.656526261050442.\n",
      "[I 2025-06-16 17:28:28,031] Trial 143 finished with value: 0.6463858554342173 and parameters: {'classifier': 'GradientBoosting', 'max_depth': 8, 'min_samples_split': 8, 'min_samples_leaf': 2, 'max_features': 'sqrt', 'criterion': 'gini', 'n_estimators': 95, 'learning_rate': 0.152490173908014}. Best is trial 25 with value: 0.656526261050442.\n",
      "[I 2025-06-16 17:28:28,379] Trial 144 finished with value: 0.655746229849194 and parameters: {'classifier': 'GradientBoosting', 'max_depth': 7, 'min_samples_split': 7, 'min_samples_leaf': 2, 'max_features': 'sqrt', 'criterion': 'gini', 'n_estimators': 112, 'learning_rate': 0.13953749235807886}. Best is trial 25 with value: 0.656526261050442.\n",
      "[I 2025-06-16 17:28:28,603] Trial 145 finished with value: 0.6505460218408736 and parameters: {'classifier': 'GradientBoosting', 'max_depth': 6, 'min_samples_split': 7, 'min_samples_leaf': 2, 'max_features': 'log2', 'criterion': 'gini', 'n_estimators': 113, 'learning_rate': 0.14304490590883068}. Best is trial 25 with value: 0.656526261050442.\n",
      "[I 2025-06-16 17:28:28,847] Trial 146 finished with value: 0.6432657306292252 and parameters: {'classifier': 'GradientBoosting', 'max_depth': 7, 'min_samples_split': 7, 'min_samples_leaf': 2, 'max_features': 'log2', 'criterion': 'gini', 'n_estimators': 113, 'learning_rate': 0.142952594917839}. Best is trial 25 with value: 0.656526261050442.\n",
      "[I 2025-06-16 17:28:28,860] Trial 147 finished with value: 0.34373374934997397 and parameters: {'classifier': 'NaiveBayes', 'var_smoothing': 1.931919845701203e-08}. Best is trial 25 with value: 0.656526261050442.\n",
      "[I 2025-06-16 17:28:29,096] Trial 148 finished with value: 0.640145605824233 and parameters: {'classifier': 'GradientBoosting', 'max_depth': 6, 'min_samples_split': 7, 'min_samples_leaf': 2, 'max_features': 'log2', 'criterion': 'gini', 'n_estimators': 122, 'learning_rate': 0.1908938618811135}. Best is trial 25 with value: 0.656526261050442.\n",
      "[I 2025-06-16 17:28:30,593] Trial 149 finished with value: 0.5291211648465939 and parameters: {'classifier': 'RandomForest', 'rf_max_depth': 8, 'rf_min_samples_split': 2, 'rf_min_samples_leaf': 3, 'rf_max_features': 'sqrt', 'rf_criterion': 'gini', 'rf_n_estimators': 128}. Best is trial 25 with value: 0.656526261050442.\n",
      "[I 2025-06-16 17:28:30,820] Trial 150 finished with value: 0.6385855434217369 and parameters: {'classifier': 'GradientBoosting', 'max_depth': 7, 'min_samples_split': 7, 'min_samples_leaf': 2, 'max_features': 'log2', 'criterion': 'gini', 'n_estimators': 109, 'learning_rate': 0.17963340195246322}. Best is trial 25 with value: 0.656526261050442.\n",
      "[I 2025-06-16 17:28:30,999] Trial 151 finished with value: 0.6479459178367135 and parameters: {'classifier': 'GradientBoosting', 'max_depth': 5, 'min_samples_split': 7, 'min_samples_leaf': 2, 'max_features': 'log2', 'criterion': 'gini', 'n_estimators': 118, 'learning_rate': 0.16138312417987188}. Best is trial 25 with value: 0.656526261050442.\n",
      "[I 2025-06-16 17:28:31,252] Trial 152 finished with value: 0.6471658866354654 and parameters: {'classifier': 'GradientBoosting', 'max_depth': 6, 'min_samples_split': 7, 'min_samples_leaf': 2, 'max_features': 'log2', 'criterion': 'gini', 'n_estimators': 116, 'learning_rate': 0.16108969958304498}. Best is trial 25 with value: 0.656526261050442.\n",
      "[I 2025-06-16 17:28:31,433] Trial 153 finished with value: 0.5644825793031721 and parameters: {'classifier': 'GradientBoosting', 'max_depth': 5, 'min_samples_split': 7, 'min_samples_leaf': 2, 'max_features': 'log2', 'criterion': 'gini', 'n_estimators': 110, 'learning_rate': 0.03622247837883537}. Best is trial 25 with value: 0.656526261050442.\n",
      "[I 2025-06-16 17:28:31,665] Trial 154 finished with value: 0.6461258450338013 and parameters: {'classifier': 'GradientBoosting', 'max_depth': 6, 'min_samples_split': 7, 'min_samples_leaf': 2, 'max_features': 'log2', 'criterion': 'gini', 'n_estimators': 120, 'learning_rate': 0.1361520437992416}. Best is trial 25 with value: 0.656526261050442.\n",
      "[I 2025-06-16 17:28:31,817] Trial 155 finished with value: 0.6432657306292252 and parameters: {'classifier': 'GradientBoosting', 'max_depth': 4, 'min_samples_split': 6, 'min_samples_leaf': 2, 'max_features': 'log2', 'criterion': 'gini', 'n_estimators': 116, 'learning_rate': 0.17308330111651948}. Best is trial 25 with value: 0.656526261050442.\n",
      "[I 2025-06-16 17:28:31,981] Trial 156 finished with value: 0.6185647425897036 and parameters: {'classifier': 'GradientBoosting', 'max_depth': 3, 'min_samples_split': 7, 'min_samples_leaf': 2, 'max_features': 'log2', 'criterion': 'entropy', 'n_estimators': 129, 'learning_rate': 0.15516600415209508}. Best is trial 25 with value: 0.656526261050442.\n",
      "[I 2025-06-16 17:28:32,204] Trial 157 finished with value: 0.6349453978159126 and parameters: {'classifier': 'GradientBoosting', 'max_depth': 7, 'min_samples_split': 6, 'min_samples_leaf': 4, 'max_features': 'log2', 'criterion': 'gini', 'n_estimators': 102, 'learning_rate': 0.1465447449575851}. Best is trial 25 with value: 0.656526261050442.\n",
      "[I 2025-06-16 17:28:32,393] Trial 158 finished with value: 0.624544981799272 and parameters: {'classifier': 'GradientBoosting', 'max_depth': 5, 'min_samples_split': 7, 'min_samples_leaf': 2, 'max_features': 'sqrt', 'criterion': 'gini', 'n_estimators': 125, 'learning_rate': 0.22338486999247875}. Best is trial 25 with value: 0.656526261050442.\n",
      "[I 2025-06-16 17:28:32,439] Trial 159 finished with value: 0.5808632345293812 and parameters: {'classifier': 'DecisionTree', 'max_depth': 22, 'min_samples_split': 7, 'min_samples_leaf': 2, 'max_features': 'sqrt', 'criterion': 'gini'}. Best is trial 25 with value: 0.656526261050442.\n",
      "[I 2025-06-16 17:28:32,702] Trial 160 finished with value: 0.6466458658346333 and parameters: {'classifier': 'GradientBoosting', 'max_depth': 8, 'min_samples_split': 8, 'min_samples_leaf': 2, 'max_features': 'sqrt', 'criterion': 'gini', 'n_estimators': 112, 'learning_rate': 0.1682829955852894}. Best is trial 25 with value: 0.656526261050442.\n",
      "[I 2025-06-16 17:28:32,841] Trial 161 finished with value: 0.6380655226209049 and parameters: {'classifier': 'GradientBoosting', 'max_depth': 5, 'min_samples_split': 4, 'min_samples_leaf': 1, 'max_features': 'sqrt', 'criterion': 'gini', 'n_estimators': 90, 'learning_rate': 0.2721326978462241}. Best is trial 25 with value: 0.656526261050442.\n",
      "[I 2025-06-16 17:28:32,967] Trial 162 finished with value: 0.6437857514300572 and parameters: {'classifier': 'GradientBoosting', 'max_depth': 4, 'min_samples_split': 5, 'min_samples_leaf': 1, 'max_features': 'sqrt', 'criterion': 'gini', 'n_estimators': 94, 'learning_rate': 0.2916665212213673}. Best is trial 25 with value: 0.656526261050442.\n",
      "[I 2025-06-16 17:28:33,855] Trial 163 finished with value: 0.6201248049921997 and parameters: {'classifier': 'GradientBoosting', 'max_depth': 30, 'min_samples_split': 6, 'min_samples_leaf': 1, 'max_features': 'sqrt', 'criterion': 'gini', 'n_estimators': 99, 'learning_rate': 0.2564817788588226}. Best is trial 25 with value: 0.656526261050442.\n",
      "[I 2025-06-16 17:28:34,014] Trial 164 finished with value: 0.6515860634425377 and parameters: {'classifier': 'GradientBoosting', 'max_depth': 6, 'min_samples_split': 9, 'min_samples_leaf': 2, 'max_features': 'sqrt', 'criterion': 'gini', 'n_estimators': 85, 'learning_rate': 0.24394994037013348}. Best is trial 25 with value: 0.656526261050442.\n",
      "[I 2025-06-16 17:28:37,931] Trial 165 finished with value: 0.5795631825273011 and parameters: {'classifier': 'KNN', 'n_neighbors': 5, 'weights': 'uniform', 'algorithm': 'kd_tree', 'leaf_size': 22, 'p': 1}. Best is trial 25 with value: 0.656526261050442.\n",
      "[I 2025-06-16 17:28:38,302] Trial 166 finished with value: 0.6357254290171607 and parameters: {'classifier': 'GradientBoosting', 'max_depth': 6, 'min_samples_split': 9, 'min_samples_leaf': 2, 'max_features': 'sqrt', 'criterion': 'gini', 'n_estimators': 192, 'learning_rate': 0.23979689776567842}. Best is trial 25 with value: 0.656526261050442.\n",
      "[I 2025-06-16 17:28:38,516] Trial 167 finished with value: 0.6378055122204889 and parameters: {'classifier': 'GradientBoosting', 'max_depth': 6, 'min_samples_split': 9, 'min_samples_leaf': 2, 'max_features': 'log2', 'criterion': 'gini', 'n_estimators': 107, 'learning_rate': 0.19807463174990894}. Best is trial 25 with value: 0.656526261050442.\n",
      "[I 2025-06-16 17:28:38,849] Trial 168 finished with value: 0.6183047321892876 and parameters: {'classifier': 'GradientBoosting', 'max_depth': 9, 'min_samples_split': 9, 'min_samples_leaf': 2, 'max_features': 'sqrt', 'criterion': 'entropy', 'n_estimators': 119, 'learning_rate': 0.24554107903637093}. Best is trial 25 with value: 0.656526261050442.\n",
      "[I 2025-06-16 17:28:39,222] Trial 169 finished with value: 0.4498179927197088 and parameters: {'classifier': 'LogisticRegression', 'solver': 'saga', 'penalty-saga': 'elasticnet', 'l1_ratio': 0.1669537593936343, 'C': 1.3794854091203428, 'max_iter': 139}. Best is trial 25 with value: 0.656526261050442.\n",
      "[I 2025-06-16 17:28:39,551] Trial 170 finished with value: 0.6510660426417056 and parameters: {'classifier': 'GradientBoosting', 'max_depth': 7, 'min_samples_split': 10, 'min_samples_leaf': 2, 'max_features': 'sqrt', 'criterion': 'gini', 'n_estimators': 148, 'learning_rate': 0.1559068672599178}. Best is trial 25 with value: 0.656526261050442.\n",
      "[I 2025-06-16 17:28:39,900] Trial 171 finished with value: 0.6302652106084243 and parameters: {'classifier': 'GradientBoosting', 'max_depth': 7, 'min_samples_split': 10, 'min_samples_leaf': 2, 'max_features': 'sqrt', 'criterion': 'gini', 'n_estimators': 156, 'learning_rate': 0.15833050483524633}. Best is trial 25 with value: 0.656526261050442.\n",
      "[I 2025-06-16 17:28:40,140] Trial 172 finished with value: 0.6487259490379615 and parameters: {'classifier': 'GradientBoosting', 'max_depth': 5, 'min_samples_split': 10, 'min_samples_leaf': 2, 'max_features': 'sqrt', 'criterion': 'gini', 'n_estimators': 147, 'learning_rate': 0.14904055254931087}. Best is trial 25 with value: 0.656526261050442.\n",
      "[I 2025-06-16 17:28:40,473] Trial 173 finished with value: 0.6385855434217369 and parameters: {'classifier': 'GradientBoosting', 'max_depth': 8, 'min_samples_split': 10, 'min_samples_leaf': 2, 'max_features': 'sqrt', 'criterion': 'gini', 'n_estimators': 148, 'learning_rate': 0.1352628803726337}. Best is trial 25 with value: 0.656526261050442.\n",
      "[I 2025-06-16 17:28:40,725] Trial 174 finished with value: 0.6497659906396256 and parameters: {'classifier': 'GradientBoosting', 'max_depth': 6, 'min_samples_split': 10, 'min_samples_leaf': 2, 'max_features': 'sqrt', 'criterion': 'gini', 'n_estimators': 144, 'learning_rate': 0.1471250910528742}. Best is trial 25 with value: 0.656526261050442.\n",
      "[I 2025-06-16 17:28:41,005] Trial 175 finished with value: 0.6440457618304732 and parameters: {'classifier': 'GradientBoosting', 'max_depth': 7, 'min_samples_split': 10, 'min_samples_leaf': 2, 'max_features': 'sqrt', 'criterion': 'gini', 'n_estimators': 143, 'learning_rate': 0.150446934909553}. Best is trial 25 with value: 0.656526261050442.\n",
      "[I 2025-06-16 17:28:41,225] Trial 176 finished with value: 0.6378055122204889 and parameters: {'classifier': 'GradientBoosting', 'max_depth': 5, 'min_samples_split': 10, 'min_samples_leaf': 2, 'max_features': 'sqrt', 'criterion': 'gini', 'n_estimators': 152, 'learning_rate': 0.14165912849182427}. Best is trial 25 with value: 0.656526261050442.\n",
      "[I 2025-06-16 17:28:41,475] Trial 177 finished with value: 0.6521060842433697 and parameters: {'classifier': 'GradientBoosting', 'max_depth': 6, 'min_samples_split': 10, 'min_samples_leaf': 2, 'max_features': 'sqrt', 'criterion': 'gini', 'n_estimators': 141, 'learning_rate': 0.14500932379197876}. Best is trial 25 with value: 0.656526261050442.\n",
      "[I 2025-06-16 17:28:41,780] Trial 178 finished with value: 0.6346853874154966 and parameters: {'classifier': 'GradientBoosting', 'max_depth': 8, 'min_samples_split': 10, 'min_samples_leaf': 2, 'max_features': 'sqrt', 'criterion': 'gini', 'n_estimators': 138, 'learning_rate': 0.14635486736173853}. Best is trial 25 with value: 0.656526261050442.\n",
      "[I 2025-06-16 17:28:42,029] Trial 179 finished with value: 0.6378055122204889 and parameters: {'classifier': 'GradientBoosting', 'max_depth': 6, 'min_samples_split': 10, 'min_samples_leaf': 2, 'max_features': 'sqrt', 'criterion': 'gini', 'n_estimators': 145, 'learning_rate': 0.12223503566968508}. Best is trial 25 with value: 0.656526261050442.\n",
      "[I 2025-06-16 17:28:42,337] Trial 180 finished with value: 0.6479459178367135 and parameters: {'classifier': 'GradientBoosting', 'max_depth': 6, 'min_samples_split': 10, 'min_samples_leaf': 2, 'max_features': 'sqrt', 'criterion': 'gini', 'n_estimators': 148, 'learning_rate': 0.1325699921014861}. Best is trial 25 with value: 0.656526261050442.\n",
      "[I 2025-06-16 17:28:42,647] Trial 181 finished with value: 0.6287051482059283 and parameters: {'classifier': 'GradientBoosting', 'max_depth': 7, 'min_samples_split': 10, 'min_samples_leaf': 2, 'max_features': 'sqrt', 'criterion': 'gini', 'n_estimators': 141, 'learning_rate': 0.21541345751263086}. Best is trial 25 with value: 0.656526261050442.\n",
      "[I 2025-06-16 17:28:42,886] Trial 182 finished with value: 0.6385855434217369 and parameters: {'classifier': 'GradientBoosting', 'max_depth': 5, 'min_samples_split': 10, 'min_samples_leaf': 2, 'max_features': 'sqrt', 'criterion': 'gini', 'n_estimators': 142, 'learning_rate': 0.14002292343083111}. Best is trial 25 with value: 0.656526261050442.\n",
      "[I 2025-06-16 17:28:43,054] Trial 183 finished with value: 0.6333853354134166 and parameters: {'classifier': 'GradientBoosting', 'max_depth': 4, 'min_samples_split': 10, 'min_samples_leaf': 2, 'max_features': 'sqrt', 'criterion': 'gini', 'n_estimators': 135, 'learning_rate': 0.15314945771629465}. Best is trial 25 with value: 0.656526261050442.\n",
      "[I 2025-06-16 17:28:43,372] Trial 184 finished with value: 0.641705668226729 and parameters: {'classifier': 'GradientBoosting', 'max_depth': 7, 'min_samples_split': 10, 'min_samples_leaf': 2, 'max_features': 'sqrt', 'criterion': 'gini', 'n_estimators': 154, 'learning_rate': 0.22861407849196022}. Best is trial 25 with value: 0.656526261050442.\n",
      "[I 2025-06-16 17:28:43,390] Trial 185 finished with value: 0.34373374934997397 and parameters: {'classifier': 'NaiveBayes', 'var_smoothing': 9.397105571743015e-07}. Best is trial 25 with value: 0.656526261050442.\n",
      "[I 2025-06-16 17:28:43,557] Trial 186 finished with value: 0.6463858554342173 and parameters: {'classifier': 'GradientBoosting', 'max_depth': 3, 'min_samples_split': 9, 'min_samples_leaf': 2, 'max_features': 'sqrt', 'criterion': 'gini', 'n_estimators': 162, 'learning_rate': 0.28499316608038006}. Best is trial 25 with value: 0.656526261050442.\n",
      "[I 2025-06-16 17:28:46,073] Trial 187 finished with value: 0.6060842433697348 and parameters: {'classifier': 'RandomForest', 'rf_max_depth': 20, 'rf_min_samples_split': 8, 'rf_min_samples_leaf': 1, 'rf_max_features': 'log2', 'rf_criterion': 'entropy', 'rf_n_estimators': 124}. Best is trial 25 with value: 0.656526261050442.\n",
      "[I 2025-06-16 17:28:46,229] Trial 188 finished with value: 0.6385855434217369 and parameters: {'classifier': 'GradientBoosting', 'max_depth': 6, 'min_samples_split': 9, 'min_samples_leaf': 3, 'max_features': 'sqrt', 'criterion': 'gini', 'n_estimators': 80, 'learning_rate': 0.20305016245362006}. Best is trial 25 with value: 0.656526261050442.\n",
      "[I 2025-06-16 17:28:46,557] Trial 189 finished with value: 0.6118044721788871 and parameters: {'classifier': 'GradientBoosting', 'max_depth': 8, 'min_samples_split': 10, 'min_samples_leaf': 2, 'max_features': 'sqrt', 'criterion': 'entropy', 'n_estimators': 146, 'learning_rate': 0.2657985306737281}. Best is trial 25 with value: 0.656526261050442.\n",
      "[I 2025-06-16 17:28:46,780] Trial 190 finished with value: 0.6469058762350494 and parameters: {'classifier': 'GradientBoosting', 'max_depth': 5, 'min_samples_split': 10, 'min_samples_leaf': 2, 'max_features': 'sqrt', 'criterion': 'gini', 'n_estimators': 150, 'learning_rate': 0.15521277260006455}. Best is trial 25 with value: 0.656526261050442.\n",
      "[I 2025-06-16 17:28:47,056] Trial 191 finished with value: 0.6388455538221529 and parameters: {'classifier': 'GradientBoosting', 'max_depth': 7, 'min_samples_split': 9, 'min_samples_leaf': 2, 'max_features': 'sqrt', 'criterion': 'gini', 'n_estimators': 138, 'learning_rate': 0.14533967864276373}. Best is trial 25 with value: 0.656526261050442.\n",
      "[I 2025-06-16 17:28:47,229] Trial 192 finished with value: 0.6456058242329693 and parameters: {'classifier': 'GradientBoosting', 'max_depth': 6, 'min_samples_split': 10, 'min_samples_leaf': 2, 'max_features': 'sqrt', 'criterion': 'gini', 'n_estimators': 86, 'learning_rate': 0.13697268317189007}. Best is trial 25 with value: 0.656526261050442.\n",
      "[I 2025-06-16 17:28:47,411] Trial 193 finished with value: 0.6474258970358814 and parameters: {'classifier': 'GradientBoosting', 'max_depth': 6, 'min_samples_split': 3, 'min_samples_leaf': 2, 'max_features': 'sqrt', 'criterion': 'gini', 'n_estimators': 97, 'learning_rate': 0.1638051228132449}. Best is trial 25 with value: 0.656526261050442.\n",
      "[I 2025-06-16 17:28:48,142] Trial 194 finished with value: 0.6172646905876235 and parameters: {'classifier': 'GradientBoosting', 'max_depth': 18, 'min_samples_split': 6, 'min_samples_leaf': 2, 'max_features': 'sqrt', 'criterion': 'gini', 'n_estimators': 131, 'learning_rate': 0.29524044080859435}. Best is trial 25 with value: 0.656526261050442.\n",
      "[I 2025-06-16 17:28:48,304] Trial 195 finished with value: 0.6518460738429537 and parameters: {'classifier': 'GradientBoosting', 'max_depth': 5, 'min_samples_split': 9, 'min_samples_leaf': 2, 'max_features': 'sqrt', 'criterion': 'gini', 'n_estimators': 92, 'learning_rate': 0.18744272615698276}. Best is trial 25 with value: 0.656526261050442.\n",
      "[I 2025-06-16 17:28:48,427] Trial 196 finished with value: 0.6362454498179927 and parameters: {'classifier': 'GradientBoosting', 'max_depth': 4, 'min_samples_split': 9, 'min_samples_leaf': 2, 'max_features': 'sqrt', 'criterion': 'gini', 'n_estimators': 89, 'learning_rate': 0.17280683954333187}. Best is trial 25 with value: 0.656526261050442.\n",
      "[I 2025-06-16 17:28:48,585] Trial 197 finished with value: 0.641965678627145 and parameters: {'classifier': 'GradientBoosting', 'max_depth': 5, 'min_samples_split': 9, 'min_samples_leaf': 2, 'max_features': 'sqrt', 'criterion': 'gini', 'n_estimators': 92, 'learning_rate': 0.19008914337444535}. Best is trial 25 with value: 0.656526261050442.\n",
      "[I 2025-06-16 17:28:48,804] Trial 198 finished with value: 0.6521060842433697 and parameters: {'classifier': 'GradientBoosting', 'max_depth': 5, 'min_samples_split': 9, 'min_samples_leaf': 2, 'max_features': 'sqrt', 'criterion': 'gini', 'n_estimators': 145, 'learning_rate': 0.1306622422777189}. Best is trial 25 with value: 0.656526261050442.\n",
      "[I 2025-06-16 17:28:48,834] Trial 199 finished with value: 0.5137805512220489 and parameters: {'classifier': 'DecisionTree', 'max_depth': 7, 'min_samples_split': 9, 'min_samples_leaf': 2, 'max_features': 'sqrt', 'criterion': 'gini'}. Best is trial 25 with value: 0.656526261050442.\n",
      "[I 2025-06-16 17:28:49,053] Trial 200 finished with value: 0.6435257410296412 and parameters: {'classifier': 'GradientBoosting', 'max_depth': 5, 'min_samples_split': 9, 'min_samples_leaf': 2, 'max_features': 'sqrt', 'criterion': 'gini', 'n_estimators': 146, 'learning_rate': 0.12374434495613845}. Best is trial 25 with value: 0.656526261050442.\n",
      "[I 2025-06-16 17:28:49,229] Trial 201 finished with value: 0.6365054602184087 and parameters: {'classifier': 'GradientBoosting', 'max_depth': 4, 'min_samples_split': 9, 'min_samples_leaf': 2, 'max_features': 'sqrt', 'criterion': 'gini', 'n_estimators': 139, 'learning_rate': 0.11295900694657154}. Best is trial 25 with value: 0.656526261050442.\n",
      "[I 2025-06-16 17:28:49,489] Trial 202 finished with value: 0.6427457098283932 and parameters: {'classifier': 'GradientBoosting', 'max_depth': 6, 'min_samples_split': 9, 'min_samples_leaf': 2, 'max_features': 'sqrt', 'criterion': 'gini', 'n_estimators': 145, 'learning_rate': 0.13139435640572925}. Best is trial 25 with value: 0.656526261050442.\n",
      "[I 2025-06-16 17:28:49,675] Trial 203 finished with value: 0.6505460218408736 and parameters: {'classifier': 'GradientBoosting', 'max_depth': 4, 'min_samples_split': 8, 'min_samples_leaf': 2, 'max_features': 'sqrt', 'criterion': 'gini', 'n_estimators': 151, 'learning_rate': 0.18607521835474597}. Best is trial 25 with value: 0.656526261050442.\n",
      "[I 2025-06-16 17:28:49,904] Trial 204 finished with value: 0.6375455018200729 and parameters: {'classifier': 'GradientBoosting', 'max_depth': 5, 'min_samples_split': 8, 'min_samples_leaf': 2, 'max_features': 'sqrt', 'criterion': 'gini', 'n_estimators': 155, 'learning_rate': 0.1888585310643904}. Best is trial 25 with value: 0.656526261050442.\n",
      "[I 2025-06-16 17:28:50,278] Trial 205 finished with value: 0.6365054602184087 and parameters: {'classifier': 'GradientBoosting', 'max_depth': 9, 'min_samples_split': 10, 'min_samples_leaf': 2, 'max_features': 'sqrt', 'criterion': 'gini', 'n_estimators': 151, 'learning_rate': 0.14913862518781046}. Best is trial 25 with value: 0.656526261050442.\n",
      "[I 2025-06-16 17:28:50,429] Trial 206 finished with value: 0.6235049401976079 and parameters: {'classifier': 'GradientBoosting', 'max_depth': 3, 'min_samples_split': 8, 'min_samples_leaf': 2, 'max_features': 'sqrt', 'criterion': 'gini', 'n_estimators': 148, 'learning_rate': 0.18391879813199358}. Best is trial 25 with value: 0.656526261050442.\n",
      "[I 2025-06-16 17:28:50,690] Trial 207 finished with value: 0.5751430057202288 and parameters: {'classifier': 'KNN', 'n_neighbors': 6, 'weights': 'distance', 'algorithm': 'brute', 'leaf_size': 39, 'p': 2}. Best is trial 25 with value: 0.656526261050442.\n",
      "[I 2025-06-16 17:28:51,014] Trial 208 finished with value: 0.6019240769630785 and parameters: {'classifier': 'GradientBoosting', 'max_depth': 6, 'min_samples_split': 9, 'min_samples_leaf': 2, 'max_features': 'sqrt', 'criterion': 'gini', 'n_estimators': 142, 'learning_rate': 0.2998328498301256}. Best is trial 25 with value: 0.656526261050442.\n",
      "[I 2025-06-16 17:28:51,328] Trial 209 finished with value: 0.6471658866354654 and parameters: {'classifier': 'GradientBoosting', 'max_depth': 7, 'min_samples_split': 9, 'min_samples_leaf': 2, 'max_features': 'sqrt', 'criterion': 'entropy', 'n_estimators': 159, 'learning_rate': 0.20823139297671842}. Best is trial 25 with value: 0.656526261050442.\n",
      "[I 2025-06-16 17:28:51,509] Trial 210 finished with value: 0.6435257410296412 and parameters: {'classifier': 'GradientBoosting', 'max_depth': 5, 'min_samples_split': 10, 'min_samples_leaf': 2, 'max_features': 'sqrt', 'criterion': 'gini', 'n_estimators': 112, 'learning_rate': 0.10502873918156973}. Best is trial 25 with value: 0.656526261050442.\n",
      "[I 2025-06-16 17:28:51,631] Trial 211 finished with value: 0.6443057722308893 and parameters: {'classifier': 'GradientBoosting', 'max_depth': 4, 'min_samples_split': 8, 'min_samples_leaf': 2, 'max_features': 'sqrt', 'criterion': 'gini', 'n_estimators': 85, 'learning_rate': 0.1940849782727655}. Best is trial 25 with value: 0.656526261050442.\n",
      "[I 2025-06-16 17:28:51,764] Trial 212 finished with value: 0.6276651066042642 and parameters: {'classifier': 'GradientBoosting', 'max_depth': 4, 'min_samples_split': 7, 'min_samples_leaf': 2, 'max_features': 'sqrt', 'criterion': 'gini', 'n_estimators': 94, 'learning_rate': 0.13955156420210232}. Best is trial 25 with value: 0.656526261050442.\n",
      "[I 2025-06-16 17:28:51,952] Trial 213 finished with value: 0.6482059282371295 and parameters: {'classifier': 'GradientBoosting', 'max_depth': 6, 'min_samples_split': 6, 'min_samples_leaf': 3, 'max_features': 'sqrt', 'criterion': 'gini', 'n_estimators': 102, 'learning_rate': 0.27716523509123253}. Best is trial 25 with value: 0.656526261050442.\n",
      "[I 2025-06-16 17:28:52,240] Trial 214 finished with value: 0.438117524700988 and parameters: {'classifier': 'LogisticRegression', 'solver': 'saga', 'penalty-saga': 'l2', 'l1_ratio': 0.33142114304527504, 'C': 0.010910685707463242, 'max_iter': 389}. Best is trial 25 with value: 0.656526261050442.\n",
      "[I 2025-06-16 17:28:52,378] Trial 215 finished with value: 0.6331253250130006 and parameters: {'classifier': 'GradientBoosting', 'max_depth': 5, 'min_samples_split': 10, 'min_samples_leaf': 2, 'max_features': 'sqrt', 'criterion': 'gini', 'n_estimators': 82, 'learning_rate': 0.1275644878410088}. Best is trial 25 with value: 0.656526261050442.\n",
      "[I 2025-06-16 17:28:52,625] Trial 216 finished with value: 0.6201248049921997 and parameters: {'classifier': 'GradientBoosting', 'max_depth': 6, 'min_samples_split': 9, 'min_samples_leaf': 2, 'max_features': 'sqrt', 'criterion': 'gini', 'n_estimators': 140, 'learning_rate': 0.2897247253932269}. Best is trial 25 with value: 0.656526261050442.\n",
      "[I 2025-06-16 17:28:52,848] Trial 217 finished with value: 0.6469058762350494 and parameters: {'classifier': 'GradientBoosting', 'max_depth': 8, 'min_samples_split': 10, 'min_samples_leaf': 2, 'max_features': 'sqrt', 'criterion': 'gini', 'n_estimators': 92, 'learning_rate': 0.17669014289948196}. Best is trial 25 with value: 0.656526261050442.\n",
      "[I 2025-06-16 17:28:53,004] Trial 218 finished with value: 0.6513260530421217 and parameters: {'classifier': 'GradientBoosting', 'max_depth': 5, 'min_samples_split': 7, 'min_samples_leaf': 2, 'max_features': 'sqrt', 'criterion': 'gini', 'n_estimators': 98, 'learning_rate': 0.23510358984982466}. Best is trial 25 with value: 0.656526261050442.\n",
      "[I 2025-06-16 17:28:53,165] Trial 219 finished with value: 0.6510660426417056 and parameters: {'classifier': 'GradientBoosting', 'max_depth': 5, 'min_samples_split': 7, 'min_samples_leaf': 2, 'max_features': 'sqrt', 'criterion': 'gini', 'n_estimators': 97, 'learning_rate': 0.24696825147802204}. Best is trial 25 with value: 0.656526261050442.\n",
      "[I 2025-06-16 17:28:53,331] Trial 220 finished with value: 0.6534061362454499 and parameters: {'classifier': 'GradientBoosting', 'max_depth': 5, 'min_samples_split': 7, 'min_samples_leaf': 2, 'max_features': 'sqrt', 'criterion': 'gini', 'n_estimators': 101, 'learning_rate': 0.24984437102482046}. Best is trial 25 with value: 0.656526261050442.\n",
      "[I 2025-06-16 17:28:53,484] Trial 221 finished with value: 0.6328653146125846 and parameters: {'classifier': 'GradientBoosting', 'max_depth': 5, 'min_samples_split': 7, 'min_samples_leaf': 2, 'max_features': 'sqrt', 'criterion': 'gini', 'n_estimators': 98, 'learning_rate': 0.2506743390952047}. Best is trial 25 with value: 0.656526261050442.\n",
      "[I 2025-06-16 17:28:53,643] Trial 222 finished with value: 0.6547061882475299 and parameters: {'classifier': 'GradientBoosting', 'max_depth': 5, 'min_samples_split': 7, 'min_samples_leaf': 2, 'max_features': 'sqrt', 'criterion': 'gini', 'n_estimators': 95, 'learning_rate': 0.23863635236005706}. Best is trial 25 with value: 0.656526261050442.\n",
      "[I 2025-06-16 17:28:53,779] Trial 223 finished with value: 0.6448257930317213 and parameters: {'classifier': 'GradientBoosting', 'max_depth': 4, 'min_samples_split': 7, 'min_samples_leaf': 2, 'max_features': 'sqrt', 'criterion': 'gini', 'n_estimators': 100, 'learning_rate': 0.23952737126554974}. Best is trial 25 with value: 0.656526261050442.\n",
      "[I 2025-06-16 17:28:53,952] Trial 224 finished with value: 0.623764950598024 and parameters: {'classifier': 'GradientBoosting', 'max_depth': 6, 'min_samples_split': 7, 'min_samples_leaf': 2, 'max_features': 'sqrt', 'criterion': 'gini', 'n_estimators': 95, 'learning_rate': 0.24466183542166275}. Best is trial 25 with value: 0.656526261050442.\n",
      "[I 2025-06-16 17:28:54,118] Trial 225 finished with value: 0.6203848153926157 and parameters: {'classifier': 'GradientBoosting', 'max_depth': 5, 'min_samples_split': 7, 'min_samples_leaf': 2, 'max_features': 'sqrt', 'criterion': 'gini', 'n_estimators': 104, 'learning_rate': 0.23610715205582572}. Best is trial 25 with value: 0.656526261050442.\n",
      "[I 2025-06-16 17:28:54,241] Trial 226 finished with value: 0.641445657826313 and parameters: {'classifier': 'GradientBoosting', 'max_depth': 7, 'min_samples_split': 7, 'min_samples_leaf': 2, 'max_features': 'sqrt', 'criterion': 'gini', 'n_estimators': 50, 'learning_rate': 0.23347417479129443}. Best is trial 25 with value: 0.656526261050442.\n",
      "[I 2025-06-16 17:28:54,372] Trial 227 finished with value: 0.6271450858034321 and parameters: {'classifier': 'GradientBoosting', 'max_depth': 4, 'min_samples_split': 7, 'min_samples_leaf': 2, 'max_features': 'sqrt', 'criterion': 'gini', 'n_estimators': 97, 'learning_rate': 0.22490559444781683}. Best is trial 25 with value: 0.656526261050442.\n",
      "[I 2025-06-16 17:28:54,489] Trial 228 finished with value: 0.6224648985959438 and parameters: {'classifier': 'GradientBoosting', 'max_depth': 3, 'min_samples_split': 7, 'min_samples_leaf': 2, 'max_features': 'sqrt', 'criterion': 'gini', 'n_estimators': 101, 'learning_rate': 0.25110924299806886}. Best is trial 25 with value: 0.656526261050442.\n",
      "[I 2025-06-16 17:28:54,501] Trial 229 finished with value: 0.34373374934997397 and parameters: {'classifier': 'NaiveBayes', 'var_smoothing': 3.043305475471355e-10}. Best is trial 25 with value: 0.656526261050442.\n",
      "[I 2025-06-16 17:28:54,674] Trial 230 finished with value: 0.6521060842433697 and parameters: {'classifier': 'GradientBoosting', 'max_depth': 5, 'min_samples_split': 7, 'min_samples_leaf': 2, 'max_features': 'sqrt', 'criterion': 'gini', 'n_estimators': 108, 'learning_rate': 0.24331260325402965}. Best is trial 25 with value: 0.656526261050442.\n",
      "[I 2025-06-16 17:28:54,846] Trial 231 finished with value: 0.6320852834113364 and parameters: {'classifier': 'GradientBoosting', 'max_depth': 5, 'min_samples_split': 7, 'min_samples_leaf': 2, 'max_features': 'sqrt', 'criterion': 'gini', 'n_estimators': 108, 'learning_rate': 0.2581666519831576}. Best is trial 25 with value: 0.656526261050442.\n",
      "[I 2025-06-16 17:28:55,032] Trial 232 finished with value: 0.6453458138325533 and parameters: {'classifier': 'GradientBoosting', 'max_depth': 6, 'min_samples_split': 7, 'min_samples_leaf': 2, 'max_features': 'sqrt', 'criterion': 'gini', 'n_estimators': 105, 'learning_rate': 0.23016273671708154}. Best is trial 25 with value: 0.656526261050442.\n",
      "[I 2025-06-16 17:28:55,187] Trial 233 finished with value: 0.6518460738429537 and parameters: {'classifier': 'GradientBoosting', 'max_depth': 5, 'min_samples_split': 7, 'min_samples_leaf': 2, 'max_features': 'sqrt', 'criterion': 'gini', 'n_estimators': 96, 'learning_rate': 0.2455530805517279}. Best is trial 25 with value: 0.656526261050442.\n",
      "[I 2025-06-16 17:28:55,341] Trial 234 finished with value: 0.624284971398856 and parameters: {'classifier': 'GradientBoosting', 'max_depth': 5, 'min_samples_split': 7, 'min_samples_leaf': 2, 'max_features': 'sqrt', 'criterion': 'gini', 'n_estimators': 97, 'learning_rate': 0.24298058714875967}. Best is trial 25 with value: 0.656526261050442.\n",
      "[I 2025-06-16 17:28:55,449] Trial 235 finished with value: 0.6284451378055123 and parameters: {'classifier': 'GradientBoosting', 'max_depth': 3, 'min_samples_split': 7, 'min_samples_leaf': 2, 'max_features': 'sqrt', 'criterion': 'entropy', 'n_estimators': 93, 'learning_rate': 0.2465289984680849}. Best is trial 25 with value: 0.656526261050442.\n",
      "[I 2025-06-16 17:28:58,489] Trial 236 finished with value: 0.6040041601664067 and parameters: {'classifier': 'RandomForest', 'rf_max_depth': 20, 'rf_min_samples_split': 5, 'rf_min_samples_leaf': 3, 'rf_max_features': 'log2', 'rf_criterion': 'gini', 'rf_n_estimators': 170}. Best is trial 25 with value: 0.656526261050442.\n",
      "[I 2025-06-16 17:28:58,619] Trial 237 finished with value: 0.6222048881955278 and parameters: {'classifier': 'GradientBoosting', 'max_depth': 4, 'min_samples_split': 7, 'min_samples_leaf': 2, 'max_features': 'sqrt', 'criterion': 'gini', 'n_estimators': 90, 'learning_rate': 0.2537657613991378}. Best is trial 25 with value: 0.656526261050442.\n",
      "[I 2025-06-16 17:28:58,758] Trial 238 finished with value: 0.6482059282371295 and parameters: {'classifier': 'GradientBoosting', 'max_depth': 4, 'min_samples_split': 7, 'min_samples_leaf': 2, 'max_features': 'sqrt', 'criterion': 'gini', 'n_estimators': 100, 'learning_rate': 0.24070724268094976}. Best is trial 25 with value: 0.656526261050442.\n",
      "[I 2025-06-16 17:28:59,006] Trial 239 finished with value: 0.6367654706188247 and parameters: {'classifier': 'GradientBoosting', 'max_depth': 7, 'min_samples_split': 7, 'min_samples_leaf': 2, 'max_features': 'sqrt', 'criterion': 'gini', 'n_estimators': 103, 'learning_rate': 0.23736686353457948}. Best is trial 25 with value: 0.656526261050442.\n",
      "[I 2025-06-16 17:28:59,163] Trial 240 finished with value: 0.6531461258450338 and parameters: {'classifier': 'GradientBoosting', 'max_depth': 5, 'min_samples_split': 8, 'min_samples_leaf': 2, 'max_features': 'sqrt', 'criterion': 'gini', 'n_estimators': 94, 'learning_rate': 0.24830234828663525}. Best is trial 25 with value: 0.656526261050442.\n",
      "[I 2025-06-16 17:28:59,317] Trial 241 finished with value: 0.6541861674466979 and parameters: {'classifier': 'GradientBoosting', 'max_depth': 5, 'min_samples_split': 8, 'min_samples_leaf': 2, 'max_features': 'sqrt', 'criterion': 'gini', 'n_estimators': 95, 'learning_rate': 0.24945449711734818}. Best is trial 25 with value: 0.656526261050442.\n",
      "[I 2025-06-16 17:28:59,466] Trial 242 finished with value: 0.6359854394175767 and parameters: {'classifier': 'GradientBoosting', 'max_depth': 5, 'min_samples_split': 8, 'min_samples_leaf': 2, 'max_features': 'sqrt', 'criterion': 'gini', 'n_estimators': 95, 'learning_rate': 0.24876941644211764}. Best is trial 25 with value: 0.656526261050442.\n",
      "[I 2025-06-16 17:28:59,611] Trial 243 finished with value: 0.6396255850234009 and parameters: {'classifier': 'GradientBoosting', 'max_depth': 5, 'min_samples_split': 8, 'min_samples_leaf': 2, 'max_features': 'sqrt', 'criterion': 'gini', 'n_estimators': 91, 'learning_rate': 0.2573809587001653}. Best is trial 25 with value: 0.656526261050442.\n",
      "[I 2025-06-16 17:28:59,863] Trial 244 finished with value: 0.6440457618304732 and parameters: {'classifier': 'GradientBoosting', 'max_depth': 5, 'min_samples_split': 8, 'min_samples_leaf': 2, 'max_features': 'sqrt', 'criterion': 'gini', 'n_estimators': 110, 'learning_rate': 0.24646242887934638}. Best is trial 25 with value: 0.656526261050442.\n",
      "[I 2025-06-16 17:29:00,055] Trial 245 finished with value: 0.6349453978159126 and parameters: {'classifier': 'GradientBoosting', 'max_depth': 6, 'min_samples_split': 8, 'min_samples_leaf': 4, 'max_features': 'sqrt', 'criterion': 'gini', 'n_estimators': 98, 'learning_rate': 0.2618870732643696}. Best is trial 25 with value: 0.656526261050442.\n",
      "[I 2025-06-16 17:29:00,180] Trial 246 finished with value: 0.6385855434217369 and parameters: {'classifier': 'GradientBoosting', 'max_depth': 4, 'min_samples_split': 8, 'min_samples_leaf': 2, 'max_features': 'sqrt', 'criterion': 'gini', 'n_estimators': 88, 'learning_rate': 0.23458700353644826}. Best is trial 25 with value: 0.656526261050442.\n",
      "[I 2025-06-16 17:29:00,384] Trial 247 finished with value: 0.65600624024961 and parameters: {'classifier': 'GradientBoosting', 'max_depth': 6, 'min_samples_split': 8, 'min_samples_leaf': 2, 'max_features': 'sqrt', 'criterion': 'gini', 'n_estimators': 107, 'learning_rate': 0.2403790043636543}. Best is trial 25 with value: 0.656526261050442.\n",
      "[I 2025-06-16 17:29:00,576] Trial 248 finished with value: 0.640925637025481 and parameters: {'classifier': 'GradientBoosting', 'max_depth': 6, 'min_samples_split': 8, 'min_samples_leaf': 2, 'max_features': 'sqrt', 'criterion': 'gini', 'n_estimators': 106, 'learning_rate': 0.25145219203255936}. Best is trial 25 with value: 0.656526261050442.\n",
      "[I 2025-06-16 17:29:00,755] Trial 249 finished with value: 0.6513260530421217 and parameters: {'classifier': 'GradientBoosting', 'max_depth': 5, 'min_samples_split': 8, 'min_samples_leaf': 2, 'max_features': 'sqrt', 'criterion': 'gini', 'n_estimators': 115, 'learning_rate': 0.2416016387382917}. Best is trial 25 with value: 0.656526261050442.\n",
      "[I 2025-06-16 17:29:00,784] Trial 250 finished with value: 0.4245969838793552 and parameters: {'classifier': 'DecisionTree', 'max_depth': 5, 'min_samples_split': 8, 'min_samples_leaf': 2, 'max_features': 'sqrt', 'criterion': 'gini'}. Best is trial 25 with value: 0.656526261050442.\n",
      "[I 2025-06-16 17:29:00,987] Trial 251 finished with value: 0.6489859594383776 and parameters: {'classifier': 'GradientBoosting', 'max_depth': 6, 'min_samples_split': 7, 'min_samples_leaf': 2, 'max_features': 'sqrt', 'criterion': 'gini', 'n_estimators': 113, 'learning_rate': 0.21862570594074662}. Best is trial 25 with value: 0.656526261050442.\n",
      "[I 2025-06-16 17:29:01,166] Trial 252 finished with value: 0.6479459178367135 and parameters: {'classifier': 'GradientBoosting', 'max_depth': 5, 'min_samples_split': 8, 'min_samples_leaf': 2, 'max_features': 'sqrt', 'criterion': 'entropy', 'n_estimators': 111, 'learning_rate': 0.24406206676158457}. Best is trial 25 with value: 0.656526261050442.\n",
      "[I 2025-06-16 17:29:01,598] Trial 253 finished with value: 0.6274050962038481 and parameters: {'classifier': 'GradientBoosting', 'max_depth': 13, 'min_samples_split': 7, 'min_samples_leaf': 2, 'max_features': 'sqrt', 'criterion': 'gini', 'n_estimators': 108, 'learning_rate': 0.22908622919226285}. Best is trial 25 with value: 0.656526261050442.\n",
      "[I 2025-06-16 17:29:06,480] Trial 254 finished with value: 0.5730629225169007 and parameters: {'classifier': 'KNN', 'n_neighbors': 15, 'weights': 'distance', 'algorithm': 'ball_tree', 'leaf_size': 21, 'p': 1}. Best is trial 25 with value: 0.656526261050442.\n",
      "[I 2025-06-16 17:29:06,690] Trial 255 finished with value: 0.6430057202288092 and parameters: {'classifier': 'GradientBoosting', 'max_depth': 6, 'min_samples_split': 7, 'min_samples_leaf': 3, 'max_features': 'sqrt', 'criterion': 'gini', 'n_estimators': 114, 'learning_rate': 0.23828475550295786}. Best is trial 25 with value: 0.656526261050442.\n",
      "[I 2025-06-16 17:29:06,882] Trial 256 finished with value: 0.6521060842433697 and parameters: {'classifier': 'GradientBoosting', 'max_depth': 6, 'min_samples_split': 8, 'min_samples_leaf': 2, 'max_features': 'sqrt', 'criterion': 'gini', 'n_estimators': 103, 'learning_rate': 0.24143859884089663}. Best is trial 25 with value: 0.656526261050442.\n",
      "[I 2025-06-16 17:29:07,044] Trial 257 finished with value: 0.626105044201768 and parameters: {'classifier': 'GradientBoosting', 'max_depth': 5, 'min_samples_split': 8, 'min_samples_leaf': 2, 'max_features': 'sqrt', 'criterion': 'gini', 'n_estimators': 103, 'learning_rate': 0.23494651416064602}. Best is trial 25 with value: 0.656526261050442.\n",
      "[I 2025-06-16 17:29:07,752] Trial 258 finished with value: 0.608944357774311 and parameters: {'classifier': 'GradientBoosting', 'max_depth': 24, 'min_samples_split': 8, 'min_samples_leaf': 2, 'max_features': 'sqrt', 'criterion': 'gini', 'n_estimators': 94, 'learning_rate': 0.24228561678305965}. Best is trial 25 with value: 0.656526261050442.\n",
      "[I 2025-06-16 17:29:07,811] Trial 259 finished with value: 0.44903796151846076 and parameters: {'classifier': 'LogisticRegression', 'solver': 'newton-cg', 'penalty': None, 'l1_ratio': 0.49785995301715813, 'C': 0.06708821411169902, 'max_iter': 399}. Best is trial 25 with value: 0.656526261050442.\n",
      "[I 2025-06-16 17:29:08,021] Trial 260 finished with value: 0.6432657306292252 and parameters: {'classifier': 'GradientBoosting', 'max_depth': 7, 'min_samples_split': 8, 'min_samples_leaf': 2, 'max_features': 'sqrt', 'criterion': 'gini', 'n_estimators': 100, 'learning_rate': 0.2500780811937152}. Best is trial 25 with value: 0.656526261050442.\n",
      "[I 2025-06-16 17:29:08,187] Trial 261 finished with value: 0.640925637025481 and parameters: {'classifier': 'GradientBoosting', 'max_depth': 5, 'min_samples_split': 6, 'min_samples_leaf': 2, 'max_features': 'sqrt', 'criterion': 'gini', 'n_estimators': 107, 'learning_rate': 0.2249035462680523}. Best is trial 25 with value: 0.656526261050442.\n",
      "[I 2025-06-16 17:29:08,322] Trial 262 finished with value: 0.6482059282371295 and parameters: {'classifier': 'GradientBoosting', 'max_depth': 4, 'min_samples_split': 8, 'min_samples_leaf': 2, 'max_features': 'sqrt', 'criterion': 'gini', 'n_estimators': 96, 'learning_rate': 0.24077815011593406}. Best is trial 25 with value: 0.656526261050442.\n",
      "[I 2025-06-16 17:29:08,513] Trial 263 finished with value: 0.6523660946437857 and parameters: {'classifier': 'GradientBoosting', 'max_depth': 6, 'min_samples_split': 8, 'min_samples_leaf': 2, 'max_features': 'sqrt', 'criterion': 'gini', 'n_estimators': 104, 'learning_rate': 0.24616512287336603}. Best is trial 25 with value: 0.656526261050442.\n",
      "[I 2025-06-16 17:29:08,679] Trial 264 finished with value: 0.6224648985959438 and parameters: {'classifier': 'GradientBoosting', 'max_depth': 5, 'min_samples_split': 8, 'min_samples_leaf': 2, 'max_features': 'sqrt', 'criterion': 'gini', 'n_estimators': 103, 'learning_rate': 0.2514725001833115}. Best is trial 25 with value: 0.656526261050442.\n",
      "[I 2025-06-16 17:29:08,894] Trial 265 finished with value: 0.6388455538221529 and parameters: {'classifier': 'GradientBoosting', 'max_depth': 7, 'min_samples_split': 8, 'min_samples_leaf': 2, 'max_features': 'sqrt', 'criterion': 'gini', 'n_estimators': 105, 'learning_rate': 0.24613980666122295}. Best is trial 25 with value: 0.656526261050442.\n",
      "[I 2025-06-16 17:29:09,097] Trial 266 finished with value: 0.6391055642225689 and parameters: {'classifier': 'GradientBoosting', 'max_depth': 6, 'min_samples_split': 8, 'min_samples_leaf': 2, 'max_features': 'sqrt', 'criterion': 'gini', 'n_estimators': 109, 'learning_rate': 0.23188542390197334}. Best is trial 25 with value: 0.656526261050442.\n",
      "[I 2025-06-16 17:29:09,231] Trial 267 finished with value: 0.6505460218408736 and parameters: {'classifier': 'GradientBoosting', 'max_depth': 4, 'min_samples_split': 8, 'min_samples_leaf': 2, 'max_features': 'sqrt', 'criterion': 'entropy', 'n_estimators': 92, 'learning_rate': 0.25770849734414303}. Best is trial 25 with value: 0.656526261050442.\n",
      "[I 2025-06-16 17:29:09,384] Trial 268 finished with value: 0.6518460738429537 and parameters: {'classifier': 'GradientBoosting', 'max_depth': 5, 'min_samples_split': 8, 'min_samples_leaf': 2, 'max_features': 'sqrt', 'criterion': 'gini', 'n_estimators': 88, 'learning_rate': 0.23878531136004563}. Best is trial 25 with value: 0.656526261050442.\n",
      "[I 2025-06-16 17:29:09,517] Trial 269 finished with value: 0.6469058762350494 and parameters: {'classifier': 'GradientBoosting', 'max_depth': 4, 'min_samples_split': 8, 'min_samples_leaf': 2, 'max_features': 'sqrt', 'criterion': 'gini', 'n_estimators': 90, 'learning_rate': 0.23789307615452351}. Best is trial 25 with value: 0.656526261050442.\n",
      "[I 2025-06-16 17:29:09,531] Trial 270 finished with value: 0.34373374934997397 and parameters: {'classifier': 'NaiveBayes', 'var_smoothing': 1.4407940206099073e-11}. Best is trial 25 with value: 0.656526261050442.\n",
      "[I 2025-06-16 17:29:09,673] Trial 271 finished with value: 0.6224648985959438 and parameters: {'classifier': 'GradientBoosting', 'max_depth': 5, 'min_samples_split': 8, 'min_samples_leaf': 2, 'max_features': 'sqrt', 'criterion': 'gini', 'n_estimators': 84, 'learning_rate': 0.24346697454475744}. Best is trial 25 with value: 0.656526261050442.\n",
      "[I 2025-06-16 17:29:11,278] Trial 272 finished with value: 0.5228809152366095 and parameters: {'classifier': 'RandomForest', 'rf_max_depth': 7, 'rf_min_samples_split': 10, 'rf_min_samples_leaf': 2, 'rf_max_features': 'sqrt', 'rf_criterion': 'entropy', 'rf_n_estimators': 129}. Best is trial 25 with value: 0.656526261050442.\n",
      "[I 2025-06-16 17:29:11,402] Trial 273 finished with value: 0.624804992199688 and parameters: {'classifier': 'GradientBoosting', 'max_depth': 3, 'min_samples_split': 8, 'min_samples_leaf': 2, 'max_features': 'sqrt', 'criterion': 'gini', 'n_estimators': 98, 'learning_rate': 0.2533471545752689}. Best is trial 25 with value: 0.656526261050442.\n",
      "[I 2025-06-16 17:29:11,547] Trial 274 finished with value: 0.6432657306292252 and parameters: {'classifier': 'GradientBoosting', 'max_depth': 5, 'min_samples_split': 8, 'min_samples_leaf': 2, 'max_features': 'sqrt', 'criterion': 'gini', 'n_estimators': 88, 'learning_rate': 0.23079082132955636}. Best is trial 25 with value: 0.656526261050442.\n",
      "[I 2025-06-16 17:29:11,764] Trial 275 finished with value: 0.639885595423817 and parameters: {'classifier': 'GradientBoosting', 'max_depth': 5, 'min_samples_split': 9, 'min_samples_leaf': 2, 'max_features': 'sqrt', 'criterion': 'gini', 'n_estimators': 94, 'learning_rate': 0.2471751881028967}. Best is trial 25 with value: 0.656526261050442.\n",
      "[I 2025-06-16 17:29:11,935] Trial 276 finished with value: 0.6432657306292252 and parameters: {'classifier': 'GradientBoosting', 'max_depth': 6, 'min_samples_split': 6, 'min_samples_leaf': 2, 'max_features': 'sqrt', 'criterion': 'gini', 'n_estimators': 88, 'learning_rate': 0.26727636414516404}. Best is trial 25 with value: 0.656526261050442.\n",
      "[I 2025-06-16 17:29:12,144] Trial 277 finished with value: 0.6521060842433697 and parameters: {'classifier': 'GradientBoosting', 'max_depth': 6, 'min_samples_split': 8, 'min_samples_leaf': 2, 'max_features': 'sqrt', 'criterion': 'gini', 'n_estimators': 117, 'learning_rate': 0.23842482843077187}. Best is trial 25 with value: 0.656526261050442.\n",
      "[I 2025-06-16 17:29:12,177] Trial 278 finished with value: 0.3343733749349974 and parameters: {'classifier': 'DecisionTree', 'max_depth': 7, 'min_samples_split': 8, 'min_samples_leaf': 3, 'max_features': 'sqrt', 'criterion': 'gini'}. Best is trial 25 with value: 0.656526261050442.\n",
      "[I 2025-06-16 17:29:12,397] Trial 279 finished with value: 0.6471658866354654 and parameters: {'classifier': 'GradientBoosting', 'max_depth': 6, 'min_samples_split': 8, 'min_samples_leaf': 2, 'max_features': 'sqrt', 'criterion': 'gini', 'n_estimators': 117, 'learning_rate': 0.23672700921999823}. Best is trial 25 with value: 0.656526261050442.\n",
      "[I 2025-06-16 17:29:12,949] Trial 280 finished with value: 0.6235049401976079 and parameters: {'classifier': 'GradientBoosting', 'max_depth': 21, 'min_samples_split': 8, 'min_samples_leaf': 2, 'max_features': 'sqrt', 'criterion': 'entropy', 'n_estimators': 79, 'learning_rate': 0.22721127373675912}. Best is trial 25 with value: 0.656526261050442.\n",
      "[I 2025-06-16 17:29:13,166] Trial 281 finished with value: 0.6508060322412896 and parameters: {'classifier': 'GradientBoosting', 'max_depth': 6, 'min_samples_split': 8, 'min_samples_leaf': 2, 'max_features': 'sqrt', 'criterion': 'gini', 'n_estimators': 124, 'learning_rate': 0.23921075648739415}. Best is trial 25 with value: 0.656526261050442.\n",
      "[I 2025-06-16 17:29:16,398] Trial 282 finished with value: 0.5639625585023401 and parameters: {'classifier': 'KNN', 'n_neighbors': 15, 'weights': 'uniform', 'algorithm': 'auto', 'leaf_size': 42, 'p': 2}. Best is trial 25 with value: 0.656526261050442.\n",
      "[I 2025-06-16 17:29:16,628] Trial 283 finished with value: 0.6482059282371295 and parameters: {'classifier': 'GradientBoosting', 'max_depth': 7, 'min_samples_split': 8, 'min_samples_leaf': 2, 'max_features': 'sqrt', 'criterion': 'gini', 'n_estimators': 114, 'learning_rate': 0.2420792095345726}. Best is trial 25 with value: 0.656526261050442.\n",
      "[I 2025-06-16 17:29:16,794] Trial 284 finished with value: 0.626105044201768 and parameters: {'classifier': 'GradientBoosting', 'max_depth': 4, 'min_samples_split': 8, 'min_samples_leaf': 2, 'max_features': 'sqrt', 'criterion': 'gini', 'n_estimators': 131, 'learning_rate': 0.21858571735168555}. Best is trial 25 with value: 0.656526261050442.\n",
      "[I 2025-06-16 17:29:17,064] Trial 285 finished with value: 0.6326053042121685 and parameters: {'classifier': 'GradientBoosting', 'max_depth': 8, 'min_samples_split': 9, 'min_samples_leaf': 2, 'max_features': 'sqrt', 'criterion': 'gini', 'n_estimators': 118, 'learning_rate': 0.23391928858604555}. Best is trial 25 with value: 0.656526261050442.\n",
      "[I 2025-06-16 17:29:17,309] Trial 286 finished with value: 0.6489859594383776 and parameters: {'classifier': 'GradientBoosting', 'max_depth': 7, 'min_samples_split': 6, 'min_samples_leaf': 2, 'max_features': 'sqrt', 'criterion': 'gini', 'n_estimators': 122, 'learning_rate': 0.25578073698659}. Best is trial 25 with value: 0.656526261050442.\n",
      "[I 2025-06-16 17:29:17,446] Trial 287 finished with value: 0.6461258450338013 and parameters: {'classifier': 'GradientBoosting', 'max_depth': 4, 'min_samples_split': 9, 'min_samples_leaf': 2, 'max_features': 'sqrt', 'criterion': 'gini', 'n_estimators': 101, 'learning_rate': 0.24185818699834433}. Best is trial 25 with value: 0.656526261050442.\n",
      "[I 2025-06-16 17:29:17,682] Trial 288 finished with value: 0.6539261570462819 and parameters: {'classifier': 'GradientBoosting', 'max_depth': 6, 'min_samples_split': 8, 'min_samples_leaf': 3, 'max_features': 'sqrt', 'criterion': 'gini', 'n_estimators': 136, 'learning_rate': 0.23041199767931786}. Best is trial 25 with value: 0.656526261050442.\n",
      "[I 2025-06-16 17:29:17,759] Trial 289 finished with value: 0.44903796151846076 and parameters: {'classifier': 'LogisticRegression', 'solver': 'liblinear', 'penalty-liblinear': 'l2', 'l1_ratio': 0.1519306052642409, 'C': 3.2624922286829348, 'max_iter': 161}. Best is trial 25 with value: 0.656526261050442.\n",
      "[I 2025-06-16 17:29:17,962] Trial 290 finished with value: 0.6508060322412896 and parameters: {'classifier': 'GradientBoosting', 'max_depth': 5, 'min_samples_split': 8, 'min_samples_leaf': 3, 'max_features': 'sqrt', 'criterion': 'gini', 'n_estimators': 136, 'learning_rate': 0.22250019458711173}. Best is trial 25 with value: 0.656526261050442.\n",
      "[I 2025-06-16 17:29:18,193] Trial 291 finished with value: 0.6263650546021841 and parameters: {'classifier': 'GradientBoosting', 'max_depth': 6, 'min_samples_split': 8, 'min_samples_leaf': 3, 'max_features': 'sqrt', 'criterion': 'gini', 'n_estimators': 133, 'learning_rate': 0.23077673717557862}. Best is trial 25 with value: 0.656526261050442.\n",
      "[I 2025-06-16 17:29:18,397] Trial 292 finished with value: 0.640145605824233 and parameters: {'classifier': 'GradientBoosting', 'max_depth': 5, 'min_samples_split': 8, 'min_samples_leaf': 3, 'max_features': 'sqrt', 'criterion': 'gini', 'n_estimators': 138, 'learning_rate': 0.21433585235042224}. Best is trial 25 with value: 0.656526261050442.\n",
      "[I 2025-06-16 17:29:18,522] Trial 293 finished with value: 0.6167446697867914 and parameters: {'classifier': 'GradientBoosting', 'max_depth': 3, 'min_samples_split': 8, 'min_samples_leaf': 3, 'max_features': 'sqrt', 'criterion': 'gini', 'n_estimators': 110, 'learning_rate': 0.2612812719030797}. Best is trial 25 with value: 0.656526261050442.\n",
      "[I 2025-06-16 17:29:18,690] Trial 294 finished with value: 0.6432657306292252 and parameters: {'classifier': 'GradientBoosting', 'max_depth': 6, 'min_samples_split': 8, 'min_samples_leaf': 3, 'max_features': 'sqrt', 'criterion': 'entropy', 'n_estimators': 91, 'learning_rate': 0.23529299707720638}. Best is trial 25 with value: 0.656526261050442.\n",
      "[I 2025-06-16 17:29:18,802] Trial 295 finished with value: 0.6162246489859594 and parameters: {'classifier': 'GradientBoosting', 'max_depth': 2, 'min_samples_split': 8, 'min_samples_leaf': 2, 'max_features': 'sqrt', 'criterion': 'gini', 'n_estimators': 127, 'learning_rate': 0.24952116086842277}. Best is trial 25 with value: 0.656526261050442.\n",
      "[I 2025-06-16 17:29:18,979] Trial 296 finished with value: 0.6313052522100884 and parameters: {'classifier': 'GradientBoosting', 'max_depth': 4, 'min_samples_split': 8, 'min_samples_leaf': 4, 'max_features': 'sqrt', 'criterion': 'gini', 'n_estimators': 141, 'learning_rate': 0.22504505725410537}. Best is trial 25 with value: 0.656526261050442.\n",
      "[I 2025-06-16 17:29:18,992] Trial 297 finished with value: 0.34373374934997397 and parameters: {'classifier': 'NaiveBayes', 'var_smoothing': 7.5139033159758e-09}. Best is trial 25 with value: 0.656526261050442.\n",
      "[I 2025-06-16 17:29:20,431] Trial 298 finished with value: 0.6034841393655747 and parameters: {'classifier': 'RandomForest', 'rf_max_depth': 32, 'rf_min_samples_split': 4, 'rf_min_samples_leaf': 4, 'rf_max_features': 'log2', 'rf_criterion': 'entropy', 'rf_n_estimators': 70}. Best is trial 25 with value: 0.656526261050442.\n",
      "[I 2025-06-16 17:29:20,591] Trial 299 finished with value: 0.6359854394175767 and parameters: {'classifier': 'GradientBoosting', 'max_depth': 5, 'min_samples_split': 9, 'min_samples_leaf': 2, 'max_features': 'sqrt', 'criterion': 'gini', 'n_estimators': 86, 'learning_rate': 0.23910126184169703}. Best is trial 25 with value: 0.656526261050442.\n"
     ]
    },
    {
     "name": "stdout",
     "output_type": "stream",
     "text": [
      "Best hyperparameters:  {'classifier': 'GradientBoosting', 'max_depth': 8, 'min_samples_split': 8, 'min_samples_leaf': 2, 'max_features': 'sqrt', 'criterion': 'gini', 'n_estimators': 137, 'learning_rate': 0.17679051265590331}\n",
      "=== Evaluation du modèle XGBClassifier ===\n",
      "Accuracy : 0.8718 (the higher the better)\n",
      "Recall : 0.6565 (the higher the better) (best for us)\n",
      "R2 : 0.2892 (the higher the better)\n",
      "MAE : 0.1282 (the lower the better)\n",
      "RMSE : 0.1282 (the lower the better)\n"
     ]
    },
    {
     "data": {
      "text/plain": [
       "array([0, 0, 0, ..., 1, 0, 1], shape=(16281,))"
      ]
     },
     "execution_count": 80,
     "metadata": {},
     "output_type": "execute_result"
    }
   ],
   "source": [
    "def objective(trial):\n",
    "    # On choisit le classifieur à optimiser, AdaBoosting et Stackinh prennent trop de temps, on les retire pour l'instant\n",
    "    classifier_name = trial.suggest_categorical('classifier', ['DecisionTree', 'RandomForest', 'LogisticRegression', 'GradientBoosting', 'KNN', 'NaiveBayes'])#, 'Stacking'])#, 'AdaBoosting'])\n",
    "    # On charge les données d'entraînement et de test\n",
    "    classifier_obj = None\n",
    "    if classifier_name == 'DecisionTree':\n",
    "        classifier_obj = opt_decision_tree(trial)\n",
    "    elif classifier_name == 'RandomForest':\n",
    "        classifier_obj = opt_random_forest(trial)\n",
    "    elif classifier_name == 'LogisticRegression':\n",
    "        classifier_obj = opt_logistic_regression(trial)\n",
    "    elif classifier_name == 'AdaBoosting':\n",
    "        classifier_obj = opt_adaboost(trial)\n",
    "    elif classifier_name == 'GradientBoosting':\n",
    "        classifier_obj = opt_gradient_boosting(trial)\n",
    "    elif classifier_name == 'Stacking':\n",
    "        classifier_obj = opt_stacking(trial)\n",
    "    elif classifier_name == 'KNN':\n",
    "        classifier_obj = opt_knn(trial)\n",
    "    elif classifier_name == 'NaiveBayes':\n",
    "        classifier_obj = opt_bayes(trial)\n",
    "        \n",
    "    classifier_obj.fit(X_train, y_train)\n",
    "    y_pred = classifier_obj.predict(X_test)\n",
    "    recall = recall_score(y_test, y_pred)\n",
    "    precision = precision_score(y_test, y_pred)\n",
    "    return recall\n",
    "\n",
    "# study = optuna.create_study(directions=[\"maximize\", \"maximize\"])\n",
    "# On tolère 1 chance sur 1.000.000 de se tromper\n",
    "study = optuna.create_study(direction=\"maximize\", study_name=\"Adult Income Prediction\")\n",
    "study.optimize(objective, n_trials=300)\n",
    "print(\"Best hyperparameters: \", study.best_params)\n",
    "\n",
    "best_model = None\n",
    "if study.best_params['classifier'] == 'DecisionTree':\n",
    "    best_model = opt_decision_tree(optuna.trial.FixedTrial(study.best_params))\n",
    "elif study.best_params['classifier']  == 'RandomForest':\n",
    "    best_model = opt_random_forest(optuna.trial.FixedTrial(study.best_params))\n",
    "elif study.best_params['classifier']  == 'LogisticRegression':\n",
    "    best_model = opt_logistic_regression(optuna.trial.FixedTrial(study.best_params))\n",
    "elif study.best_params['classifier']  == 'AdaBoosting':\n",
    "    best_model = opt_adaboost(optuna.trial.FixedTrial(study.best_params))\n",
    "elif study.best_params['classifier']  == 'GradientBoosting':\n",
    "    best_model = opt_gradient_boosting(optuna.trial.FixedTrial(study.best_params))\n",
    "elif study.best_params['classifier']  == 'Stacking':\n",
    "    best_model = opt_stacking(optuna.trial.FixedTrial(study.best_params))\n",
    "elif study.best_params['classifier']  == 'KNN':\n",
    "    best_model = opt_knn(optuna.trial.FixedTrial(study.best_params))\n",
    "elif study.best_params['classifier']  == 'NaiveBayes':\n",
    "    best_model = opt_bayes(optuna.trial.FixedTrial(study.best_params))\n",
    "best_model.fit(X_train, y_train)\n",
    "eval_model(best_model, X_test, y_test)\n"
   ]
  },
  {
   "cell_type": "code",
   "execution_count": 81,
   "id": "a22d135c",
   "metadata": {},
   "outputs": [
    {
     "name": "stdout",
     "output_type": "stream",
     "text": [
      "\n",
      "=== Evaluation num 1 du modèle ===\n",
      "=== Evaluation du modèle XGBClassifier ===\n",
      "Accuracy : 0.8677 (the higher the better)\n",
      "Recall : 0.6650 (the higher the better) (best for us)\n",
      "R2 : 0.2837 (the higher the better)\n",
      "MAE : 0.1323 (the lower the better)\n",
      "RMSE : 0.1323 (the lower the better)\n",
      "\n",
      "=== Evaluation num 2 du modèle ===\n",
      "=== Evaluation du modèle XGBClassifier ===\n",
      "Accuracy : 0.8751 (the higher the better)\n",
      "Recall : 0.6550 (the higher the better) (best for us)\n",
      "R2 : 0.3090 (the higher the better)\n",
      "MAE : 0.1249 (the lower the better)\n",
      "RMSE : 0.1249 (the lower the better)\n",
      "\n",
      "=== Evaluation num 3 du modèle ===\n",
      "=== Evaluation du modèle XGBClassifier ===\n",
      "Accuracy : 0.8663 (the higher the better)\n",
      "Recall : 0.6510 (the higher the better) (best for us)\n",
      "R2 : 0.2838 (the higher the better)\n",
      "MAE : 0.1337 (the lower the better)\n",
      "RMSE : 0.1337 (the lower the better)\n",
      "\n",
      "=== Evaluation num 4 du modèle ===\n",
      "=== Evaluation du modèle XGBClassifier ===\n",
      "Accuracy : 0.8657 (the higher the better)\n",
      "Recall : 0.6573 (the higher the better) (best for us)\n",
      "R2 : 0.2735 (the higher the better)\n",
      "MAE : 0.1343 (the lower the better)\n",
      "RMSE : 0.1343 (the lower the better)\n",
      "\n",
      "=== Evaluation num 5 du modèle ===\n",
      "=== Evaluation du modèle XGBClassifier ===\n",
      "Accuracy : 0.8719 (the higher the better)\n",
      "Recall : 0.6856 (the higher the better) (best for us)\n",
      "R2 : 0.2943 (the higher the better)\n",
      "MAE : 0.1281 (the lower the better)\n",
      "RMSE : 0.1281 (the lower the better)\n",
      "\n",
      "=== Evaluation num 6 du modèle ===\n",
      "=== Evaluation du modèle XGBClassifier ===\n",
      "Accuracy : 0.8695 (the higher the better)\n",
      "Recall : 0.6736 (the higher the better) (best for us)\n",
      "R2 : 0.2925 (the higher the better)\n",
      "MAE : 0.1305 (the lower the better)\n",
      "RMSE : 0.1305 (the lower the better)\n",
      "\n",
      "=== Evaluation num 7 du modèle ===\n",
      "=== Evaluation du modèle XGBClassifier ===\n",
      "Accuracy : 0.8654 (the higher the better)\n",
      "Recall : 0.6367 (the higher the better) (best for us)\n",
      "R2 : 0.2643 (the higher the better)\n",
      "MAE : 0.1346 (the lower the better)\n",
      "RMSE : 0.1346 (the lower the better)\n",
      "\n",
      "=== Evaluation num 8 du modèle ===\n",
      "=== Evaluation du modèle XGBClassifier ===\n",
      "Accuracy : 0.8720 (the higher the better)\n",
      "Recall : 0.6711 (the higher the better) (best for us)\n",
      "R2 : 0.3004 (the higher the better)\n",
      "MAE : 0.1280 (the lower the better)\n",
      "RMSE : 0.1280 (the lower the better)\n",
      "\n",
      "=== Evaluation num 9 du modèle ===\n",
      "=== Evaluation du modèle XGBClassifier ===\n",
      "Accuracy : 0.8694 (the higher the better)\n",
      "Recall : 0.6652 (the higher the better) (best for us)\n",
      "R2 : 0.2849 (the higher the better)\n",
      "MAE : 0.1306 (the lower the better)\n",
      "RMSE : 0.1306 (the lower the better)\n",
      "\n",
      "=== Evaluation num 10 du modèle ===\n",
      "=== Evaluation du modèle XGBClassifier ===\n",
      "Accuracy : 0.8643 (the higher the better)\n",
      "Recall : 0.6507 (the higher the better) (best for us)\n",
      "R2 : 0.2701 (the higher the better)\n",
      "MAE : 0.1357 (the lower the better)\n",
      "RMSE : 0.1357 (the lower the better)\n"
     ]
    }
   ],
   "source": [
    "for i in range(10):\n",
    "    X_train, X_test, y_train, y_test = train_test_split(df_adult_new.drop(columns=[\"income\"]), df_adult_new[\"income\"], test_size=0.2)\n",
    "    # On normalise les variables quantitatives sur les données de train (StandardScaler pour l'instant)\n",
    "    numerical_columns = df_adult.select_dtypes(include=['int64', 'float64']).columns\n",
    "    numerical_scaler = StandardScaler()\n",
    "    numerical_scaler.fit(X_train[numerical_columns])\n",
    "    X_train[numerical_columns] = numerical_scaler.transform(X_train[numerical_columns])\n",
    "    X_test[numerical_columns] = numerical_scaler.transform(X_test[numerical_columns])\n",
    "\n",
    "    best_model.fit(X_train, y_train)\n",
    "    print(f\"\\n=== Evaluation num {i+1} du modèle ===\")\n",
    "    eval_model(best_model, X_test, y_test)"
   ]
  },
  {
   "cell_type": "markdown",
   "id": "2c49c36455b2c689",
   "metadata": {},
   "source": [
    "## Evaluation du modèle\n"
   ]
  },
  {
   "cell_type": "code",
   "execution_count": 82,
   "id": "858b3e7d56bed815",
   "metadata": {
    "ExecuteTime": {
     "end_time": "2025-06-15T14:56:10.217636Z",
     "start_time": "2025-06-15T14:56:10.196778Z"
    }
   },
   "outputs": [],
   "source": [
    "# Prédictions des probabilités pour la classe positive\n",
    "y_pred_proba = best_model.predict_proba(X_test)[:, 1]"
   ]
  },
  {
   "cell_type": "markdown",
   "id": "898a6d15d885fee8",
   "metadata": {},
   "source": [
    "### Courbe ROC"
   ]
  },
  {
   "cell_type": "code",
   "execution_count": 83,
   "id": "e0c4f4b797f4a193",
   "metadata": {
    "ExecuteTime": {
     "end_time": "2025-06-15T14:56:10.362240Z",
     "start_time": "2025-06-15T14:56:10.245674Z"
    }
   },
   "outputs": [
    {
     "data": {
      "image/png": "[encoded data removed]",
      "text/plain": [
       "<Figure size 800x600 with 1 Axes>"
      ]
     },
     "metadata": {},
     "output_type": "display_data"
    }
   ],
   "source": [
    "from sklearn.metrics import roc_curve, auc\n",
    "\n",
    "# Calcul des FPR, TPR et seuils\n",
    "fpr, tpr, thresholds = roc_curve(y_test, y_pred_proba)\n",
    "\n",
    "# Calcul de l'AUC\n",
    "roc_auc = auc(fpr, tpr)\n",
    "\n",
    "# Tracé de la courbe ROC\n",
    "plt.figure(figsize=(8, 6))\n",
    "plt.plot(fpr, tpr, color='blue', lw=2, label=f'ROC curve (AUC = {roc_auc:.2f})')\n",
    "plt.plot([0, 1], [0, 1], color='gray', linestyle='--', lw=2)  # Ligne diagonale\n",
    "plt.xlabel('False Positive Rate (FPR)')\n",
    "plt.ylabel('True Positive Rate (TPR)')\n",
    "plt.title('Receiver Operating Characteristic (ROC) Curve')\n",
    "plt.legend(loc='lower right')\n",
    "plt.grid(alpha=0.3)\n",
    "plt.show()"
   ]
  },
  {
   "cell_type": "markdown",
   "id": "3a7b1772fcb8607c",
   "metadata": {},
   "source": [
    "### Courbe de précision-rappel"
   ]
  },
  {
   "cell_type": "code",
   "execution_count": 84,
   "id": "671729f3c36f80fa",
   "metadata": {
    "ExecuteTime": {
     "end_time": "2025-06-15T14:56:10.508466Z",
     "start_time": "2025-06-15T14:56:10.368612Z"
    }
   },
   "outputs": [
    {
     "data": {
      "image/png": "[encoded data removed]",
      "text/plain": [
       "<Figure size 800x600 with 1 Axes>"
      ]
     },
     "metadata": {},
     "output_type": "display_data"
    }
   ],
   "source": [
    "from sklearn.metrics import precision_recall_curve, average_precision_score\n",
    "import matplotlib.pyplot as plt\n",
    "\n",
    "# Calcul de la precision du rappel, et des seuils\n",
    "precision, recall, thresholds = precision_recall_curve(y_test, y_pred_proba)\n",
    "\n",
    "# Calcul de la moyenne de précision\n",
    "avg_precision = average_precision_score(y_test, y_pred_proba)\n",
    "pr_auc = auc(recall, precision)\n",
    "\n",
    "# Tracé de la courbe de précision-rappel\n",
    "plt.figure(figsize=(8, 6))\n",
    "plt.plot(recall, precision, color='blue', lw=2, label=f'Precision-Recall curve (AP = {avg_precision:.2f})')\n",
    "plt.xlabel('Recall')\n",
    "plt.ylabel('Precision')\n",
    "plt.title('Precision-Recall Curve')\n",
    "plt.legend(loc='lower left')\n",
    "plt.grid(alpha=0.3)\n",
    "plt.show()"
   ]
  },
  {
   "cell_type": "markdown",
   "id": "ae6faf19b6500185",
   "metadata": {},
   "source": [
    "### Matrice de confusion"
   ]
  },
  {
   "cell_type": "code",
   "execution_count": 85,
   "id": "3c150379acbfd445",
   "metadata": {
    "ExecuteTime": {
     "end_time": "2025-06-15T14:56:11.301462Z",
     "start_time": "2025-06-15T14:56:10.514825Z"
    }
   },
   "outputs": [
    {
     "name": "stdout",
     "output_type": "stream",
     "text": [
      "Pourcentage de bonnes prédictions lors d'une prédiction négative :  89.09%\n",
      "Pourcentage de bonnes prédictions lors d'une prédiction positive :  76.44%\n"
     ]
    },
    {
     "data": {
      "image/png": "[encoded data removed]",
      "text/plain": [
       "<Figure size 800x600 with 2 Axes>"
      ]
     },
     "metadata": {},
     "output_type": "display_data"
    }
   ],
   "source": [
    "from sklearn.metrics import confusion_matrix, ConfusionMatrixDisplay\n",
    "import seaborn as sns\n",
    "import matplotlib.pyplot as plt\n",
    "\n",
    "# Génération des prédictions\n",
    "y_pred = best_model.predict(X_test)\n",
    "\n",
    "# Calcul de la matrice de confusion\n",
    "conf_matrix = confusion_matrix(y_test, y_pred)\n",
    "\n",
    "print(f\"Pourcentage de bonnes prédictions lors d'une prédiction négative :  {conf_matrix[0, 0] / (conf_matrix[0, 0] + conf_matrix[1, 0]) * 100:.2f}%\")\n",
    "print(f\"Pourcentage de bonnes prédictions lors d'une prédiction positive :  {conf_matrix[1, 1] / (conf_matrix[1, 1] + conf_matrix[0, 1]) * 100:.2f}%\")\n",
    "\n",
    "# Plot the confusion matrix\n",
    "plt.figure(figsize=(8, 6))\n",
    "sns.heatmap(conf_matrix, annot=True, fmt='d', cmap='Blues', xticklabels=['<=50K', '>50K'], yticklabels=['<=50K', '>50K'])\n",
    "plt.xlabel('Predicted Label')\n",
    "plt.ylabel('True Label')\n",
    "plt.title('Confusion Matrix')\n",
    "plt.show()"
   ]
  },
  {
   "cell_type": "markdown",
   "id": "8cd5b9c5",
   "metadata": {},
   "source": [
    "## Score F1 "
   ]
  },
  {
   "cell_type": "code",
   "execution_count": 86,
   "id": "3dd0f268",
   "metadata": {},
   "outputs": [
    {
     "name": "stdout",
     "output_type": "stream",
     "text": [
      "F1-score: 0.7030 (the higher the better)\n",
      "F-beta score (beta=2): 0.6706 (the higher the better)\n"
     ]
    }
   ],
   "source": [
    "from sklearn.metrics import f1_score, fbeta_score\n",
    "# Calcul du F1-score\n",
    "# On rappel que le score F1 est la moyenne harmonique de la précision et du rappel\n",
    "# Score F1 = 2 * (precision * recall) / (precision + recall)\n",
    "f1 = f1_score(y_test, y_pred)\n",
    "print(f\"F1-score: {f1:.4f} (the higher the better)\")\n",
    "# Calcul du F-beta score avec beta=2\n",
    "fbeta = fbeta_score(y_test, y_pred, beta=2)\n",
    "print(f\"F-beta score (beta=2): {fbeta:.4f} (the higher the better)\")"
   ]
  },
  {
   "cell_type": "markdown",
   "id": "cfa02f31",
   "metadata": {},
   "source": [
    "### Calcul du score F1 manuellement pour vérifier"
   ]
  },
  {
   "cell_type": "code",
   "execution_count": 87,
   "id": "3a12d8ec",
   "metadata": {},
   "outputs": [
    {
     "data": {
      "text/plain": [
       "\"Le score f1 est de 0.7030 (plus il est élevé, mieux c'est)\""
      ]
     },
     "execution_count": 87,
     "metadata": {},
     "output_type": "execute_result"
    }
   ],
   "source": [
    "def compute_f1_score(y_true, y_pred):\n",
    "    y_true = np.array(y_true)\n",
    "    y_pred = np.array(y_pred)\n",
    "    \n",
    "    TP = np.sum((y_true == 1) & (y_pred == 1))\n",
    "    FP = np.sum((y_true == 0) & (y_pred == 1))\n",
    "    FN = np.sum((y_true == 1) & (y_pred == 0))\n",
    "\n",
    "    precision = TP / (TP + FP) if (TP + FP) > 0 else 0.0\n",
    "    recall = TP / (TP + FN) if (TP + FN) > 0 else 0.0\n",
    "\n",
    "    if precision + recall == 0:\n",
    "        return 0.0\n",
    "    \n",
    "    f1 = 2 * (precision * recall) / (precision + recall)\n",
    "    return \"Le score f1 est de {:.4f} (plus il est élevé, mieux c'est)\".format(f1)\n",
    "\n",
    "compute_f1_score(y_test, y_pred)"
   ]
  },
  {
   "cell_type": "code",
   "execution_count": null,
   "id": "36769f1f",
   "metadata": {},
   "outputs": [],
   "source": []
  }
 ],
 "metadata": {
  "kernelspec": {
   "display_name": "machine_learning",
   "language": "python",
   "name": "python3"
  },
  "language_info": {
   "codemirror_mode": {
    "name": "ipython",
    "version": 3
   },
   "file_extension": ".py",
   "mimetype": "text/x-python",
   "name": "python",
   "nbconvert_exporter": "python",
   "pygments_lexer": "ipython3",
   "version": "3.13.3"
  }
 },
 "nbformat": 4,
 "nbformat_minor": 5
}
