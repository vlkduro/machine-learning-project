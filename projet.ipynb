{
 "cells": [
  {
   "cell_type": "markdown",
   "id": "1e5bfb37",
   "metadata": {},
   "source": [
    "## AI28 - Projet - Prédiction du niveau de revenus."
   ]
  },
  {
   "cell_type": "code",
   "execution_count": null,
   "id": "a8ac31df",
   "metadata": {
    "ExecuteTime": {
     "end_time": "2025-06-15T14:54:10.634047Z",
     "start_time": "2025-06-15T14:54:10.631446Z"
    }
   },
   "outputs": [],
   "source": []
  },
  {
   "cell_type": "code",
   "execution_count": 37,
   "id": "001b1097",
   "metadata": {
    "ExecuteTime": {
     "end_time": "2025-06-15T14:54:10.653601Z",
     "start_time": "2025-06-15T14:54:10.642246Z"
    }
   },
   "outputs": [],
   "source": [
    "# OS\n",
    "import sys\n",
    "\n",
    "\n",
    "# WARNINGS\n",
    "import warnings\n",
    "warnings.filterwarnings('ignore')\n",
    "warnings.filterwarnings('error', category=DeprecationWarning)\n",
    "\n",
    "# NUMPY\n",
    "import numpy as np\n",
    "\n",
    "# STATS\n",
    "import scipy.stats as stats\n",
    "from scipy.stats import norm, skew\n",
    "\n",
    "# MATPLOTLIB\n",
    "import matplotlib as mpl\n",
    "import matplotlib.pyplot as plt\n",
    "%matplotlib inline\n",
    "# plt.style.use('fivethirtyeight') \n",
    "\n",
    "params = {'axes.labelsize': 8, # 12\n",
    "          'font.size': 8, # 12\n",
    "          'legend.fontsize': 8, # 12\n",
    "          'xtick.labelsize': 8, # 10\n",
    "          'ytick.labelsize': 8, # 10\n",
    "          'text.usetex': True,\n",
    "          'figure.figsize': (10, 8)}\n",
    "plt.rcParams.update(params)\n",
    "\n",
    "\n",
    "# PANDAS\n",
    "import pandas as pd \n",
    "pd.set_option(\"display.max_rows\", None, \"display.max_columns\", None) \n",
    "\n",
    "# SEABORN \n",
    "import seaborn as sns\n",
    "# sns.set_context(\"poster\")\n",
    "# sns.set_style(\"ticks\")\n",
    "\n",
    "# SCHIKIT-LEARN: PRE-PROCESSING\n",
    "from sklearn.preprocessing import LabelEncoder, OrdinalEncoder # Encodage des variables catégorielles ordinales\n",
    "from sklearn.preprocessing import LabelBinarizer, OneHotEncoder # Encodage des variables catégorielles nominales\n",
    "from sklearn.preprocessing import StandardScaler # Standardisation des variables numériques\n",
    "from sklearn.preprocessing import MinMaxScaler # Normalisation MinMax\n",
    "from sklearn.preprocessing import RobustScaler\n",
    "from sklearn.impute import SimpleImputer # Imputation\n",
    "from sklearn.impute import KNNImputer \n",
    "\n",
    "\n",
    "# SCHIKIT-LEARN: MODELES\n",
    "from sklearn import linear_model # Classe Modèle linéaire \n",
    "from sklearn.linear_model import LinearRegression \n",
    "from sklearn.linear_model import Ridge\n",
    "from sklearn.linear_model import Lasso \n",
    "from sklearn.linear_model import ElasticNet\n",
    "from sklearn.svm import SVR \n",
    "from sklearn.neighbors import KNeighborsClassifier\n",
    "\n",
    "# SCHIKIT-LEARN: VALIDATION CROISEE + OPTIMISATION\n",
    "from sklearn.model_selection import train_test_split\n",
    "from sklearn.model_selection import StratifiedKFold\n",
    "from sklearn.model_selection import cross_val_score # Validation croisée pour comparaison entre modèles\n",
    "from sklearn.model_selection import validation_curve # Courbe de validation: visualiser les scores lors du choix d'un hyperparamétre\n",
    "from sklearn.model_selection import GridSearchCV # Tester plusieurs hyperparamètres\n",
    "from sklearn.model_selection import RandomizedSearchCV # Tester plusieurs hyperparamètres\n",
    "from sklearn.model_selection import learning_curve # Courbe d'apprentissage: visualisation des scores du train et du validation sets en fonction des quantités des données\n",
    "import optuna\n",
    " \n",
    "## EVALUATION\n",
    "\n",
    "from sklearn.metrics import r2_score, accuracy_score, recall_score, precision_score  # Coefficient R2\n",
    "from sklearn.metrics import mean_absolute_error #  MAE\n",
    "from sklearn.metrics import mean_squared_error  # RMSE\n",
    "from sklearn.metrics import median_absolute_error # Erreur de la médiane absolue\n",
    "\n",
    "# SCHIKIT-LEARN: PIPELINE AND TRANSFORMATEUR\n",
    "from sklearn.pipeline import Pipeline\n",
    "from sklearn.pipeline import make_pipeline\n",
    "from sklearn.compose import make_column_transformer\n",
    "\n",
    "# SOURCE DATA\n",
    "from ucimlrepo import fetch_ucirepo "
   ]
  },
  {
   "cell_type": "code",
   "execution_count": 5,
   "id": "6ce14a4a",
   "metadata": {
    "ExecuteTime": {
     "end_time": "2025-06-15T14:54:18.430605Z",
     "start_time": "2025-06-15T14:54:14.285799Z"
    }
   },
   "outputs": [],
   "source": [
    "# Utilisation des commandes fournies par UCI\n",
    "\n",
    "# Télécharger le jeu de données \n",
    "data_adult = fetch_ucirepo(id=2) "
   ]
  },
  {
   "cell_type": "code",
   "execution_count": 6,
   "id": "cdfbbc57",
   "metadata": {
    "ExecuteTime": {
     "end_time": "2025-06-15T14:54:22.083410Z",
     "start_time": "2025-06-15T14:54:22.080077Z"
    }
   },
   "outputs": [],
   "source": [
    "# data (as pandas dataframes) \n",
    "x = data_adult.data.features # variables explicatives\n",
    "y = data_adult.data.targets # variables cibles"
   ]
  },
  {
   "cell_type": "code",
   "execution_count": 7,
   "id": "3347fb27",
   "metadata": {
    "ExecuteTime": {
     "end_time": "2025-06-15T14:54:28.582182Z",
     "start_time": "2025-06-15T14:54:28.579766Z"
    }
   },
   "outputs": [
    {
     "name": "stdout",
     "output_type": "stream",
     "text": [
      "{'uci_id': 2, 'name': 'Adult', 'repository_url': 'https://archive.ics.uci.edu/dataset/2/adult', 'data_url': 'https://archive.ics.uci.edu/static/public/2/data.csv', 'abstract': 'Predict whether annual income of an individual exceeds $50K/yr based on census data. Also known as \"Census Income\" dataset. ', 'area': 'Social Science', 'tasks': ['Classification'], 'characteristics': ['Multivariate'], 'num_instances': 48842, 'num_features': 14, 'feature_types': ['Categorical', 'Integer'], 'demographics': ['Age', 'Income', 'Education Level', 'Other', 'Race', 'Sex'], 'target_col': ['income'], 'index_col': None, 'has_missing_values': 'yes', 'missing_values_symbol': 'NaN', 'year_of_dataset_creation': 1996, 'last_updated': 'Tue Sep 24 2024', 'dataset_doi': '10.24432/C5XW20', 'creators': ['Barry Becker', 'Ronny Kohavi'], 'intro_paper': None, 'additional_info': {'summary': \"Extraction was done by Barry Becker from the 1994 Census database.  A set of reasonably clean records was extracted using the following conditions: ((AAGE>16) && (AGI>100) && (AFNLWGT>1)&& (HRSWK>0))\\n\\nPrediction task is to determine whether a person's income is over $50,000 a year.\\n\", 'purpose': None, 'funded_by': None, 'instances_represent': None, 'recommended_data_splits': None, 'sensitive_data': None, 'preprocessing_description': None, 'variable_info': 'Listing of attributes:\\r\\n\\r\\n>50K, <=50K.\\r\\n\\r\\nage: continuous.\\r\\nworkclass: Private, Self-emp-not-inc, Self-emp-inc, Federal-gov, Local-gov, State-gov, Without-pay, Never-worked.\\r\\nfnlwgt: continuous.\\r\\neducation: Bachelors, Some-college, 11th, HS-grad, Prof-school, Assoc-acdm, Assoc-voc, 9th, 7th-8th, 12th, Masters, 1st-4th, 10th, Doctorate, 5th-6th, Preschool.\\r\\neducation-num: continuous.\\r\\nmarital-status: Married-civ-spouse, Divorced, Never-married, Separated, Widowed, Married-spouse-absent, Married-AF-spouse.\\r\\noccupation: Tech-support, Craft-repair, Other-service, Sales, Exec-managerial, Prof-specialty, Handlers-cleaners, Machine-op-inspct, Adm-clerical, Farming-fishing, Transport-moving, Priv-house-serv, Protective-serv, Armed-Forces.\\r\\nrelationship: Wife, Own-child, Husband, Not-in-family, Other-relative, Unmarried.\\r\\nrace: White, Asian-Pac-Islander, Amer-Indian-Eskimo, Other, Black.\\r\\nsex: Female, Male.\\r\\ncapital-gain: continuous.\\r\\ncapital-loss: continuous.\\r\\nhours-per-week: continuous.\\r\\nnative-country: United-States, Cambodia, England, Puerto-Rico, Canada, Germany, Outlying-US(Guam-USVI-etc), India, Japan, Greece, South, China, Cuba, Iran, Honduras, Philippines, Italy, Poland, Jamaica, Vietnam, Mexico, Portugal, Ireland, France, Dominican-Republic, Laos, Ecuador, Taiwan, Haiti, Columbia, Hungary, Guatemala, Nicaragua, Scotland, Thailand, Yugoslavia, El-Salvador, Trinadad&Tobago, Peru, Hong, Holand-Netherlands.', 'citation': None}}\n"
     ]
    }
   ],
   "source": [
    "# metadata \n",
    "print(data_adult.metadata) "
   ]
  },
  {
   "cell_type": "code",
   "execution_count": 8,
   "id": "e5866137",
   "metadata": {
    "ExecuteTime": {
     "end_time": "2025-06-15T14:54:28.635768Z",
     "start_time": "2025-06-15T14:54:28.629271Z"
    }
   },
   "outputs": [
    {
     "name": "stdout",
     "output_type": "stream",
     "text": [
      "              name     role         type      demographic  \\\n",
      "0              age  Feature      Integer              Age   \n",
      "1        workclass  Feature  Categorical           Income   \n",
      "2           fnlwgt  Feature      Integer             None   \n",
      "3        education  Feature  Categorical  Education Level   \n",
      "4    education-num  Feature      Integer  Education Level   \n",
      "5   marital-status  Feature  Categorical            Other   \n",
      "6       occupation  Feature  Categorical            Other   \n",
      "7     relationship  Feature  Categorical            Other   \n",
      "8             race  Feature  Categorical             Race   \n",
      "9              sex  Feature       Binary              Sex   \n",
      "10    capital-gain  Feature      Integer             None   \n",
      "11    capital-loss  Feature      Integer             None   \n",
      "12  hours-per-week  Feature      Integer             None   \n",
      "13  native-country  Feature  Categorical            Other   \n",
      "14          income   Target       Binary           Income   \n",
      "\n",
      "                                          description units missing_values  \n",
      "0                                                 N/A  None             no  \n",
      "1   Private, Self-emp-not-inc, Self-emp-inc, Feder...  None            yes  \n",
      "2                                                None  None             no  \n",
      "3    Bachelors, Some-college, 11th, HS-grad, Prof-...  None             no  \n",
      "4                                                None  None             no  \n",
      "5   Married-civ-spouse, Divorced, Never-married, S...  None             no  \n",
      "6   Tech-support, Craft-repair, Other-service, Sal...  None            yes  \n",
      "7   Wife, Own-child, Husband, Not-in-family, Other...  None             no  \n",
      "8   White, Asian-Pac-Islander, Amer-Indian-Eskimo,...  None             no  \n",
      "9                                       Female, Male.  None             no  \n",
      "10                                               None  None             no  \n",
      "11                                               None  None             no  \n",
      "12                                               None  None             no  \n",
      "13  United-States, Cambodia, England, Puerto-Rico,...  None            yes  \n",
      "14                                       >50K, <=50K.  None             no  \n"
     ]
    }
   ],
   "source": [
    "# variable information \n",
    "print(data_adult.variables) "
   ]
  },
  {
   "cell_type": "markdown",
   "id": "6cbde9f3",
   "metadata": {},
   "source": [
    "## Analyse exploratoire des données\n",
    "\n",
    "Pour réaliser l'AED, nous utilisons les données des fichiers téléchargés depuis le site web."
   ]
  },
  {
   "cell_type": "code",
   "execution_count": 9,
   "id": "7dab83b8",
   "metadata": {
    "ExecuteTime": {
     "end_time": "2025-06-15T14:54:32.008876Z",
     "start_time": "2025-06-15T14:54:31.967484Z"
    }
   },
   "outputs": [],
   "source": [
    "df_adult = pd.read_csv(\"./Data/adult.data\", header=None)"
   ]
  },
  {
   "cell_type": "code",
   "execution_count": 10,
   "id": "a17d559b",
   "metadata": {
    "ExecuteTime": {
     "end_time": "2025-06-15T14:54:35.161292Z",
     "start_time": "2025-06-15T14:54:35.157409Z"
    }
   },
   "outputs": [
    {
     "data": {
      "text/plain": [
       "True"
      ]
     },
     "execution_count": 10,
     "metadata": {},
     "output_type": "execute_result"
    }
   ],
   "source": [
    "isinstance(df_adult, pd.DataFrame)"
   ]
  },
  {
   "cell_type": "code",
   "execution_count": null,
   "id": "773202c2",
   "metadata": {
    "ExecuteTime": {
     "end_time": "2025-06-15T14:54:41.723756Z",
     "start_time": "2025-06-15T14:54:41.722015Z"
    }
   },
   "outputs": [],
   "source": []
  },
  {
   "cell_type": "markdown",
   "id": "8dd95f63",
   "metadata": {},
   "source": [
    "Le fichier ne contient pas les noms des colonnes. Nous les ajoutons dans le dataframe adult."
   ]
  },
  {
   "cell_type": "code",
   "execution_count": 11,
   "id": "47221cbf",
   "metadata": {
    "ExecuteTime": {
     "end_time": "2025-06-15T14:54:41.745433Z",
     "start_time": "2025-06-15T14:54:41.734958Z"
    }
   },
   "outputs": [
    {
     "data": {
      "application/vnd.microsoft.datawrangler.viewer.v0+json": {
       "columns": [
        {
         "name": "index",
         "rawType": "int64",
         "type": "integer"
        },
        {
         "name": "age",
         "rawType": "int64",
         "type": "integer"
        },
        {
         "name": "workclass",
         "rawType": "object",
         "type": "string"
        },
        {
         "name": "fnlwgt",
         "rawType": "int64",
         "type": "integer"
        },
        {
         "name": "education",
         "rawType": "object",
         "type": "string"
        },
        {
         "name": "education-num",
         "rawType": "int64",
         "type": "integer"
        },
        {
         "name": "marital-status",
         "rawType": "object",
         "type": "string"
        },
        {
         "name": "occupation",
         "rawType": "object",
         "type": "string"
        },
        {
         "name": "relationship",
         "rawType": "object",
         "type": "string"
        },
        {
         "name": "race",
         "rawType": "object",
         "type": "string"
        },
        {
         "name": "sex",
         "rawType": "object",
         "type": "string"
        },
        {
         "name": "capital-gain",
         "rawType": "int64",
         "type": "integer"
        },
        {
         "name": "capital-loss",
         "rawType": "int64",
         "type": "integer"
        },
        {
         "name": "hours-per-week",
         "rawType": "int64",
         "type": "integer"
        },
        {
         "name": "native-country",
         "rawType": "object",
         "type": "string"
        },
        {
         "name": "income",
         "rawType": "object",
         "type": "string"
        }
       ],
       "ref": "fa97e20c-6f8d-4cbd-bd6e-b77809010fe4",
       "rows": [
        [
         "0",
         "39",
         " State-gov",
         "77516",
         " Bachelors",
         "13",
         " Never-married",
         " Adm-clerical",
         " Not-in-family",
         " White",
         " Male",
         "2174",
         "0",
         "40",
         " United-States",
         " <=50K"
        ],
        [
         "1",
         "50",
         " Self-emp-not-inc",
         "83311",
         " Bachelors",
         "13",
         " Married-civ-spouse",
         " Exec-managerial",
         " Husband",
         " White",
         " Male",
         "0",
         "0",
         "13",
         " United-States",
         " <=50K"
        ],
        [
         "2",
         "38",
         " Private",
         "215646",
         " HS-grad",
         "9",
         " Divorced",
         " Handlers-cleaners",
         " Not-in-family",
         " White",
         " Male",
         "0",
         "0",
         "40",
         " United-States",
         " <=50K"
        ],
        [
         "3",
         "53",
         " Private",
         "234721",
         " 11th",
         "7",
         " Married-civ-spouse",
         " Handlers-cleaners",
         " Husband",
         " Black",
         " Male",
         "0",
         "0",
         "40",
         " United-States",
         " <=50K"
        ],
        [
         "4",
         "28",
         " Private",
         "338409",
         " Bachelors",
         "13",
         " Married-civ-spouse",
         " Prof-specialty",
         " Wife",
         " Black",
         " Female",
         "0",
         "0",
         "40",
         " Cuba",
         " <=50K"
        ]
       ],
       "shape": {
        "columns": 15,
        "rows": 5
       }
      },
      "text/html": [
       "<div>\n",
       "<style scoped>\n",
       "    .dataframe tbody tr th:only-of-type {\n",
       "        vertical-align: middle;\n",
       "    }\n",
       "\n",
       "    .dataframe tbody tr th {\n",
       "        vertical-align: top;\n",
       "    }\n",
       "\n",
       "    .dataframe thead th {\n",
       "        text-align: right;\n",
       "    }\n",
       "</style>\n",
       "<table border=\"1\" class=\"dataframe\">\n",
       "  <thead>\n",
       "    <tr style=\"text-align: right;\">\n",
       "      <th>name</th>\n",
       "      <th>age</th>\n",
       "      <th>workclass</th>\n",
       "      <th>fnlwgt</th>\n",
       "      <th>education</th>\n",
       "      <th>education-num</th>\n",
       "      <th>marital-status</th>\n",
       "      <th>occupation</th>\n",
       "      <th>relationship</th>\n",
       "      <th>race</th>\n",
       "      <th>sex</th>\n",
       "      <th>capital-gain</th>\n",
       "      <th>capital-loss</th>\n",
       "      <th>hours-per-week</th>\n",
       "      <th>native-country</th>\n",
       "      <th>income</th>\n",
       "    </tr>\n",
       "  </thead>\n",
       "  <tbody>\n",
       "    <tr>\n",
       "      <th>0</th>\n",
       "      <td>39</td>\n",
       "      <td>State-gov</td>\n",
       "      <td>77516</td>\n",
       "      <td>Bachelors</td>\n",
       "      <td>13</td>\n",
       "      <td>Never-married</td>\n",
       "      <td>Adm-clerical</td>\n",
       "      <td>Not-in-family</td>\n",
       "      <td>White</td>\n",
       "      <td>Male</td>\n",
       "      <td>2174</td>\n",
       "      <td>0</td>\n",
       "      <td>40</td>\n",
       "      <td>United-States</td>\n",
       "      <td>&lt;=50K</td>\n",
       "    </tr>\n",
       "    <tr>\n",
       "      <th>1</th>\n",
       "      <td>50</td>\n",
       "      <td>Self-emp-not-inc</td>\n",
       "      <td>83311</td>\n",
       "      <td>Bachelors</td>\n",
       "      <td>13</td>\n",
       "      <td>Married-civ-spouse</td>\n",
       "      <td>Exec-managerial</td>\n",
       "      <td>Husband</td>\n",
       "      <td>White</td>\n",
       "      <td>Male</td>\n",
       "      <td>0</td>\n",
       "      <td>0</td>\n",
       "      <td>13</td>\n",
       "      <td>United-States</td>\n",
       "      <td>&lt;=50K</td>\n",
       "    </tr>\n",
       "    <tr>\n",
       "      <th>2</th>\n",
       "      <td>38</td>\n",
       "      <td>Private</td>\n",
       "      <td>215646</td>\n",
       "      <td>HS-grad</td>\n",
       "      <td>9</td>\n",
       "      <td>Divorced</td>\n",
       "      <td>Handlers-cleaners</td>\n",
       "      <td>Not-in-family</td>\n",
       "      <td>White</td>\n",
       "      <td>Male</td>\n",
       "      <td>0</td>\n",
       "      <td>0</td>\n",
       "      <td>40</td>\n",
       "      <td>United-States</td>\n",
       "      <td>&lt;=50K</td>\n",
       "    </tr>\n",
       "    <tr>\n",
       "      <th>3</th>\n",
       "      <td>53</td>\n",
       "      <td>Private</td>\n",
       "      <td>234721</td>\n",
       "      <td>11th</td>\n",
       "      <td>7</td>\n",
       "      <td>Married-civ-spouse</td>\n",
       "      <td>Handlers-cleaners</td>\n",
       "      <td>Husband</td>\n",
       "      <td>Black</td>\n",
       "      <td>Male</td>\n",
       "      <td>0</td>\n",
       "      <td>0</td>\n",
       "      <td>40</td>\n",
       "      <td>United-States</td>\n",
       "      <td>&lt;=50K</td>\n",
       "    </tr>\n",
       "    <tr>\n",
       "      <th>4</th>\n",
       "      <td>28</td>\n",
       "      <td>Private</td>\n",
       "      <td>338409</td>\n",
       "      <td>Bachelors</td>\n",
       "      <td>13</td>\n",
       "      <td>Married-civ-spouse</td>\n",
       "      <td>Prof-specialty</td>\n",
       "      <td>Wife</td>\n",
       "      <td>Black</td>\n",
       "      <td>Female</td>\n",
       "      <td>0</td>\n",
       "      <td>0</td>\n",
       "      <td>40</td>\n",
       "      <td>Cuba</td>\n",
       "      <td>&lt;=50K</td>\n",
       "    </tr>\n",
       "  </tbody>\n",
       "</table>\n",
       "</div>"
      ],
      "text/plain": [
       "name  age          workclass  fnlwgt   education  education-num  \\\n",
       "0      39          State-gov   77516   Bachelors             13   \n",
       "1      50   Self-emp-not-inc   83311   Bachelors             13   \n",
       "2      38            Private  215646     HS-grad              9   \n",
       "3      53            Private  234721        11th              7   \n",
       "4      28            Private  338409   Bachelors             13   \n",
       "\n",
       "name       marital-status          occupation    relationship    race  \\\n",
       "0           Never-married        Adm-clerical   Not-in-family   White   \n",
       "1      Married-civ-spouse     Exec-managerial         Husband   White   \n",
       "2                Divorced   Handlers-cleaners   Not-in-family   White   \n",
       "3      Married-civ-spouse   Handlers-cleaners         Husband   Black   \n",
       "4      Married-civ-spouse      Prof-specialty            Wife   Black   \n",
       "\n",
       "name      sex  capital-gain  capital-loss  hours-per-week  native-country  \\\n",
       "0        Male          2174             0              40   United-States   \n",
       "1        Male             0             0              13   United-States   \n",
       "2        Male             0             0              40   United-States   \n",
       "3        Male             0             0              40   United-States   \n",
       "4      Female             0             0              40            Cuba   \n",
       "\n",
       "name  income  \n",
       "0      <=50K  \n",
       "1      <=50K  \n",
       "2      <=50K  \n",
       "3      <=50K  \n",
       "4      <=50K  "
      ]
     },
     "execution_count": 11,
     "metadata": {},
     "output_type": "execute_result"
    }
   ],
   "source": [
    "adult_columns = data_adult.variables['name']\n",
    "\n",
    "df_adult.columns = adult_columns\n",
    "\n",
    "df_adult.head()"
   ]
  },
  {
   "cell_type": "code",
   "execution_count": 12,
   "id": "107289ca",
   "metadata": {
    "ExecuteTime": {
     "end_time": "2025-06-15T14:54:45.161995Z",
     "start_time": "2025-06-15T14:54:45.158902Z"
    }
   },
   "outputs": [
    {
     "data": {
      "text/plain": [
       "(32561, 15)"
      ]
     },
     "execution_count": 12,
     "metadata": {},
     "output_type": "execute_result"
    }
   ],
   "source": [
    "df_adult.shape"
   ]
  },
  {
   "cell_type": "code",
   "execution_count": 13,
   "id": "6d032d69",
   "metadata": {
    "ExecuteTime": {
     "end_time": "2025-06-15T14:54:45.186354Z",
     "start_time": "2025-06-15T14:54:45.181950Z"
    }
   },
   "outputs": [
    {
     "data": {
      "text/plain": [
       "Index(['age', 'workclass', 'fnlwgt', 'education', 'education-num',\n",
       "       'marital-status', 'occupation', 'relationship', 'race', 'sex',\n",
       "       'capital-gain', 'capital-loss', 'hours-per-week', 'native-country',\n",
       "       'income'],\n",
       "      dtype='object', name='name')"
      ]
     },
     "execution_count": 13,
     "metadata": {},
     "output_type": "execute_result"
    }
   ],
   "source": [
    "df_adult.columns"
   ]
  },
  {
   "cell_type": "code",
   "execution_count": 14,
   "id": "3f021163",
   "metadata": {
    "ExecuteTime": {
     "end_time": "2025-06-15T14:54:45.289528Z",
     "start_time": "2025-06-15T14:54:45.266153Z"
    }
   },
   "outputs": [
    {
     "data": {
      "application/vnd.microsoft.datawrangler.viewer.v0+json": {
       "columns": [
        {
         "name": "index",
         "rawType": "object",
         "type": "string"
        },
        {
         "name": "age",
         "rawType": "float64",
         "type": "float"
        },
        {
         "name": "fnlwgt",
         "rawType": "float64",
         "type": "float"
        },
        {
         "name": "education-num",
         "rawType": "float64",
         "type": "float"
        },
        {
         "name": "capital-gain",
         "rawType": "float64",
         "type": "float"
        },
        {
         "name": "capital-loss",
         "rawType": "float64",
         "type": "float"
        },
        {
         "name": "hours-per-week",
         "rawType": "float64",
         "type": "float"
        }
       ],
       "ref": "c0644cb9-cb9c-4f63-ab24-2bcfe90a1cbe",
       "rows": [
        [
         "count",
         "32561.0",
         "32561.0",
         "32561.0",
         "32561.0",
         "32561.0",
         "32561.0"
        ],
        [
         "mean",
         "38.58164675532078",
         "189778.36651208502",
         "10.0806793403151",
         "1077.6488437087312",
         "87.303829734959",
         "40.437455852092995"
        ],
        [
         "std",
         "13.640432553581341",
         "105549.97769702224",
         "2.5727203320673877",
         "7385.292084840338",
         "402.9602186489998",
         "12.347428681731843"
        ],
        [
         "min",
         "17.0",
         "12285.0",
         "1.0",
         "0.0",
         "0.0",
         "1.0"
        ],
        [
         "25%",
         "28.0",
         "117827.0",
         "9.0",
         "0.0",
         "0.0",
         "40.0"
        ],
        [
         "50%",
         "37.0",
         "178356.0",
         "10.0",
         "0.0",
         "0.0",
         "40.0"
        ],
        [
         "75%",
         "48.0",
         "237051.0",
         "12.0",
         "0.0",
         "0.0",
         "45.0"
        ],
        [
         "max",
         "90.0",
         "1484705.0",
         "16.0",
         "99999.0",
         "4356.0",
         "99.0"
        ]
       ],
       "shape": {
        "columns": 6,
        "rows": 8
       }
      },
      "text/html": [
       "<div>\n",
       "<style scoped>\n",
       "    .dataframe tbody tr th:only-of-type {\n",
       "        vertical-align: middle;\n",
       "    }\n",
       "\n",
       "    .dataframe tbody tr th {\n",
       "        vertical-align: top;\n",
       "    }\n",
       "\n",
       "    .dataframe thead th {\n",
       "        text-align: right;\n",
       "    }\n",
       "</style>\n",
       "<table border=\"1\" class=\"dataframe\">\n",
       "  <thead>\n",
       "    <tr style=\"text-align: right;\">\n",
       "      <th>name</th>\n",
       "      <th>age</th>\n",
       "      <th>fnlwgt</th>\n",
       "      <th>education-num</th>\n",
       "      <th>capital-gain</th>\n",
       "      <th>capital-loss</th>\n",
       "      <th>hours-per-week</th>\n",
       "    </tr>\n",
       "  </thead>\n",
       "  <tbody>\n",
       "    <tr>\n",
       "      <th>count</th>\n",
       "      <td>32561.000000</td>\n",
       "      <td>3.256100e+04</td>\n",
       "      <td>32561.000000</td>\n",
       "      <td>32561.000000</td>\n",
       "      <td>32561.000000</td>\n",
       "      <td>32561.000000</td>\n",
       "    </tr>\n",
       "    <tr>\n",
       "      <th>mean</th>\n",
       "      <td>38.581647</td>\n",
       "      <td>1.897784e+05</td>\n",
       "      <td>10.080679</td>\n",
       "      <td>1077.648844</td>\n",
       "      <td>87.303830</td>\n",
       "      <td>40.437456</td>\n",
       "    </tr>\n",
       "    <tr>\n",
       "      <th>std</th>\n",
       "      <td>13.640433</td>\n",
       "      <td>1.055500e+05</td>\n",
       "      <td>2.572720</td>\n",
       "      <td>7385.292085</td>\n",
       "      <td>402.960219</td>\n",
       "      <td>12.347429</td>\n",
       "    </tr>\n",
       "    <tr>\n",
       "      <th>min</th>\n",
       "      <td>17.000000</td>\n",
       "      <td>1.228500e+04</td>\n",
       "      <td>1.000000</td>\n",
       "      <td>0.000000</td>\n",
       "      <td>0.000000</td>\n",
       "      <td>1.000000</td>\n",
       "    </tr>\n",
       "    <tr>\n",
       "      <th>25%</th>\n",
       "      <td>28.000000</td>\n",
       "      <td>1.178270e+05</td>\n",
       "      <td>9.000000</td>\n",
       "      <td>0.000000</td>\n",
       "      <td>0.000000</td>\n",
       "      <td>40.000000</td>\n",
       "    </tr>\n",
       "    <tr>\n",
       "      <th>50%</th>\n",
       "      <td>37.000000</td>\n",
       "      <td>1.783560e+05</td>\n",
       "      <td>10.000000</td>\n",
       "      <td>0.000000</td>\n",
       "      <td>0.000000</td>\n",
       "      <td>40.000000</td>\n",
       "    </tr>\n",
       "    <tr>\n",
       "      <th>75%</th>\n",
       "      <td>48.000000</td>\n",
       "      <td>2.370510e+05</td>\n",
       "      <td>12.000000</td>\n",
       "      <td>0.000000</td>\n",
       "      <td>0.000000</td>\n",
       "      <td>45.000000</td>\n",
       "    </tr>\n",
       "    <tr>\n",
       "      <th>max</th>\n",
       "      <td>90.000000</td>\n",
       "      <td>1.484705e+06</td>\n",
       "      <td>16.000000</td>\n",
       "      <td>99999.000000</td>\n",
       "      <td>4356.000000</td>\n",
       "      <td>99.000000</td>\n",
       "    </tr>\n",
       "  </tbody>\n",
       "</table>\n",
       "</div>"
      ],
      "text/plain": [
       "name            age        fnlwgt  education-num  capital-gain  capital-loss  \\\n",
       "count  32561.000000  3.256100e+04   32561.000000  32561.000000  32561.000000   \n",
       "mean      38.581647  1.897784e+05      10.080679   1077.648844     87.303830   \n",
       "std       13.640433  1.055500e+05       2.572720   7385.292085    402.960219   \n",
       "min       17.000000  1.228500e+04       1.000000      0.000000      0.000000   \n",
       "25%       28.000000  1.178270e+05       9.000000      0.000000      0.000000   \n",
       "50%       37.000000  1.783560e+05      10.000000      0.000000      0.000000   \n",
       "75%       48.000000  2.370510e+05      12.000000      0.000000      0.000000   \n",
       "max       90.000000  1.484705e+06      16.000000  99999.000000   4356.000000   \n",
       "\n",
       "name   hours-per-week  \n",
       "count    32561.000000  \n",
       "mean        40.437456  \n",
       "std         12.347429  \n",
       "min          1.000000  \n",
       "25%         40.000000  \n",
       "50%         40.000000  \n",
       "75%         45.000000  \n",
       "max         99.000000  "
      ]
     },
     "execution_count": 14,
     "metadata": {},
     "output_type": "execute_result"
    }
   ],
   "source": [
    "df_adult.describe()"
   ]
  },
  {
   "cell_type": "code",
   "execution_count": 15,
   "id": "b18aed3e",
   "metadata": {
    "ExecuteTime": {
     "end_time": "2025-06-15T14:54:45.413821Z",
     "start_time": "2025-06-15T14:54:45.398686Z"
    }
   },
   "outputs": [
    {
     "data": {
      "application/vnd.microsoft.datawrangler.viewer.v0+json": {
       "columns": [
        {
         "name": "name",
         "rawType": "object",
         "type": "string"
        },
        {
         "name": "0",
         "rawType": "int64",
         "type": "integer"
        }
       ],
       "ref": "776e1505-a2cb-4520-bd41-a540080dfa33",
       "rows": [
        [
         "age",
         "0"
        ],
        [
         "workclass",
         "0"
        ],
        [
         "fnlwgt",
         "0"
        ],
        [
         "education",
         "0"
        ],
        [
         "education-num",
         "0"
        ],
        [
         "marital-status",
         "0"
        ],
        [
         "occupation",
         "0"
        ],
        [
         "relationship",
         "0"
        ],
        [
         "race",
         "0"
        ],
        [
         "sex",
         "0"
        ],
        [
         "capital-gain",
         "0"
        ],
        [
         "capital-loss",
         "0"
        ],
        [
         "hours-per-week",
         "0"
        ],
        [
         "native-country",
         "0"
        ],
        [
         "income",
         "0"
        ]
       ],
       "shape": {
        "columns": 1,
        "rows": 15
       }
      },
      "text/plain": [
       "name\n",
       "age               0\n",
       "workclass         0\n",
       "fnlwgt            0\n",
       "education         0\n",
       "education-num     0\n",
       "marital-status    0\n",
       "occupation        0\n",
       "relationship      0\n",
       "race              0\n",
       "sex               0\n",
       "capital-gain      0\n",
       "capital-loss      0\n",
       "hours-per-week    0\n",
       "native-country    0\n",
       "income            0\n",
       "dtype: int64"
      ]
     },
     "execution_count": 15,
     "metadata": {},
     "output_type": "execute_result"
    }
   ],
   "source": [
    "df_adult.isna().sum()"
   ]
  },
  {
   "cell_type": "code",
   "execution_count": 16,
   "id": "136d56a2",
   "metadata": {
    "ExecuteTime": {
     "end_time": "2025-06-15T14:54:45.555703Z",
     "start_time": "2025-06-15T14:54:45.469072Z"
    }
   },
   "outputs": [
    {
     "data": {
      "application/vnd.microsoft.datawrangler.viewer.v0+json": {
       "columns": [
        {
         "name": "index",
         "rawType": "int64",
         "type": "integer"
        },
        {
         "name": "age",
         "rawType": "int64",
         "type": "integer"
        },
        {
         "name": "workclass",
         "rawType": "object",
         "type": "string"
        },
        {
         "name": "fnlwgt",
         "rawType": "int64",
         "type": "integer"
        },
        {
         "name": "education",
         "rawType": "object",
         "type": "string"
        },
        {
         "name": "education-num",
         "rawType": "int64",
         "type": "integer"
        },
        {
         "name": "marital-status",
         "rawType": "object",
         "type": "string"
        },
        {
         "name": "occupation",
         "rawType": "object",
         "type": "string"
        },
        {
         "name": "relationship",
         "rawType": "object",
         "type": "string"
        },
        {
         "name": "race",
         "rawType": "object",
         "type": "string"
        },
        {
         "name": "sex",
         "rawType": "object",
         "type": "string"
        },
        {
         "name": "capital-gain",
         "rawType": "int64",
         "type": "integer"
        },
        {
         "name": "capital-loss",
         "rawType": "int64",
         "type": "integer"
        },
        {
         "name": "hours-per-week",
         "rawType": "int64",
         "type": "integer"
        },
        {
         "name": "native-country",
         "rawType": "object",
         "type": "string"
        },
        {
         "name": "income",
         "rawType": "object",
         "type": "string"
        }
       ],
       "ref": "f57613c5-3822-4de8-b6de-71f4d528658a",
       "rows": [],
       "shape": {
        "columns": 15,
        "rows": 0
       }
      },
      "text/html": [
       "<div>\n",
       "<style scoped>\n",
       "    .dataframe tbody tr th:only-of-type {\n",
       "        vertical-align: middle;\n",
       "    }\n",
       "\n",
       "    .dataframe tbody tr th {\n",
       "        vertical-align: top;\n",
       "    }\n",
       "\n",
       "    .dataframe thead th {\n",
       "        text-align: right;\n",
       "    }\n",
       "</style>\n",
       "<table border=\"1\" class=\"dataframe\">\n",
       "  <thead>\n",
       "    <tr style=\"text-align: right;\">\n",
       "      <th>name</th>\n",
       "      <th>age</th>\n",
       "      <th>workclass</th>\n",
       "      <th>fnlwgt</th>\n",
       "      <th>education</th>\n",
       "      <th>education-num</th>\n",
       "      <th>marital-status</th>\n",
       "      <th>occupation</th>\n",
       "      <th>relationship</th>\n",
       "      <th>race</th>\n",
       "      <th>sex</th>\n",
       "      <th>capital-gain</th>\n",
       "      <th>capital-loss</th>\n",
       "      <th>hours-per-week</th>\n",
       "      <th>native-country</th>\n",
       "      <th>income</th>\n",
       "    </tr>\n",
       "  </thead>\n",
       "  <tbody>\n",
       "  </tbody>\n",
       "</table>\n",
       "</div>"
      ],
      "text/plain": [
       "Empty DataFrame\n",
       "Columns: [age, workclass, fnlwgt, education, education-num, marital-status, occupation, relationship, race, sex, capital-gain, capital-loss, hours-per-week, native-country, income]\n",
       "Index: []"
      ]
     },
     "execution_count": 16,
     "metadata": {},
     "output_type": "execute_result"
    }
   ],
   "source": [
    "df_adult = df_adult.drop_duplicates()\n",
    "df_adult[df_adult.duplicated()]"
   ]
  },
  {
   "cell_type": "code",
   "execution_count": 17,
   "id": "f1a4235f",
   "metadata": {
    "ExecuteTime": {
     "end_time": "2025-06-15T14:54:45.689709Z",
     "start_time": "2025-06-15T14:54:45.671156Z"
    }
   },
   "outputs": [
    {
     "name": "stdout",
     "output_type": "stream",
     "text": [
      "<class 'pandas.core.frame.DataFrame'>\n",
      "Index: 32537 entries, 0 to 32560\n",
      "Data columns (total 15 columns):\n",
      " #   Column          Non-Null Count  Dtype \n",
      "---  ------          --------------  ----- \n",
      " 0   age             32537 non-null  int64 \n",
      " 1   workclass       32537 non-null  object\n",
      " 2   fnlwgt          32537 non-null  int64 \n",
      " 3   education       32537 non-null  object\n",
      " 4   education-num   32537 non-null  int64 \n",
      " 5   marital-status  32537 non-null  object\n",
      " 6   occupation      32537 non-null  object\n",
      " 7   relationship    32537 non-null  object\n",
      " 8   race            32537 non-null  object\n",
      " 9   sex             32537 non-null  object\n",
      " 10  capital-gain    32537 non-null  int64 \n",
      " 11  capital-loss    32537 non-null  int64 \n",
      " 12  hours-per-week  32537 non-null  int64 \n",
      " 13  native-country  32537 non-null  object\n",
      " 14  income          32537 non-null  object\n",
      "dtypes: int64(6), object(9)\n",
      "memory usage: 4.0+ MB\n"
     ]
    }
   ],
   "source": [
    "df_adult.info()"
   ]
  },
  {
   "cell_type": "markdown",
   "id": "ec6c3644",
   "metadata": {},
   "source": [
    "Problème : La description des données indique qu'elles contiennent des valeurs inconnues. Ces valeurs ne sont pas en NaN ou null. Nous pouvons déjà remarquer la présence de '?' en leur lieu et place.\n",
    "\n",
    "## Traitement des données\n",
    "\n",
    "### Analyse des traitements à réaliser"
   ]
  },
  {
   "cell_type": "code",
   "execution_count": 18,
   "id": "4f71c629",
   "metadata": {
    "ExecuteTime": {
     "end_time": "2025-06-15T14:54:46.957512Z",
     "start_time": "2025-06-15T14:54:45.866282Z"
    }
   },
   "outputs": [
    {
     "name": "stdout",
     "output_type": "stream",
     "text": [
      "Nombre de valeurs manquantes : name\n",
      "age                  0\n",
      "workclass         1836\n",
      "fnlwgt               0\n",
      "education            0\n",
      "education-num        0\n",
      "marital-status       0\n",
      "occupation        1843\n",
      "relationship         0\n",
      "race                 0\n",
      "sex                  0\n",
      "capital-gain         0\n",
      "capital-loss         0\n",
      "hours-per-week       0\n",
      "native-country     582\n",
      "income               0\n",
      "dtype: int64\n"
     ]
    },
    {
     "data": {
      "image/png": "[encoded data removed]",
      "text/plain": [
       "<Figure size 1000x800 with 1 Axes>"
      ]
     },
     "metadata": {},
     "output_type": "display_data"
    }
   ],
   "source": [
    "df_adult = df_adult.replace('\\?', np.nan, regex=True)\n",
    "sns.heatmap(df_adult.isna(), cbar=False, cmap='viridis')\n",
    "print(f\"Nombre de valeurs manquantes : {df_adult.isna().sum()}\")"
   ]
  },
  {
   "cell_type": "code",
   "execution_count": 19,
   "id": "6c06b28a72dceb89",
   "metadata": {
    "ExecuteTime": {
     "end_time": "2025-06-15T14:54:46.978552Z",
     "start_time": "2025-06-15T14:54:46.963917Z"
    }
   },
   "outputs": [
    {
     "name": "stdout",
     "output_type": "stream",
     "text": [
      "workclass :   Private 69.68% (9 valeurs uniques)\n",
      "occupation :   Prof-specialty 12.71% (15 valeurs uniques)\n",
      "native_country :   United-States 89.60% (42 valeurs uniques)\n",
      "income :   <=50K 75.91% (2 valeurs uniques)\n"
     ]
    }
   ],
   "source": [
    "wrkclass_proportion = df_adult[\"workclass\"].value_counts(dropna=False) / df_adult.shape[0]\n",
    "print(\"workclass : \", wrkclass_proportion.idxmax(), f\"{wrkclass_proportion.max() * 100:.2f}% ({len(wrkclass_proportion)} valeurs uniques)\")\n",
    "occupation_proportion = df_adult[\"occupation\"].value_counts(dropna=False) / df_adult.shape[0]\n",
    "print(\"occupation : \", occupation_proportion.idxmax(), f\"{occupation_proportion.max() * 100:.2f}% ({len(occupation_proportion)} valeurs uniques)\")\n",
    "native_country_proportion = df_adult[\"native-country\"].value_counts(dropna=False) / df_adult.shape[0]\n",
    "print(\"native_country : \", native_country_proportion.idxmax(), f\"{native_country_proportion.max() * 100:.2f}% ({len(native_country_proportion)} valeurs uniques)\")\n",
    "income_proportion = df_adult[\"income\"].value_counts(dropna=False) / df_adult.shape[0]\n",
    "print(\"income : \", income_proportion.idxmax(), f\"{income_proportion.max() * 100:.2f}% ({len(income_proportion)} valeurs uniques)\")"
   ]
  },
  {
   "cell_type": "markdown",
   "id": "a20b04b075a70372",
   "metadata": {},
   "source": [
    " ### Creation de la fonction de traitement des données"
   ]
  },
  {
   "cell_type": "code",
   "execution_count": 20,
   "id": "286579e9e94f42e",
   "metadata": {
    "ExecuteTime": {
     "end_time": "2025-06-15T14:54:47.031732Z",
     "start_time": "2025-06-15T14:54:47.026354Z"
    }
   },
   "outputs": [],
   "source": [
    "def treat_df(df, scaler):\n",
    "    df_new = df.copy()\n",
    "    # Remplacement de la valeur '?' par NaN\n",
    "    df_new = df_new.replace('\\?', np.nan, regex=True)\n",
    "    # Remplacement des valeurs manquantes par les valeurs les plus fréquentes, les seules variables concernées sont workclass, occupation et native-country\n",
    "    for col in [\"workclass\", \"occupation\", \"native-country\"]:\n",
    "        df_new[col].fillna(df_new[col].mode()[0], inplace=True)\n",
    "\n",
    "    categorical_columns = df_new.select_dtypes(include=['object']).columns\n",
    "    numeric_columns = df_new.select_dtypes(include=['number']).columns\n",
    "    # Encodage des variables catégorielles\n",
    "    ordinal_encoder = OrdinalEncoder()\n",
    "    for col in categorical_columns:\n",
    "        if col == \"income\":\n",
    "            continue\n",
    "        df_new[col] = ordinal_encoder.fit_transform(df_new[[col]])\n",
    "\n",
    "    # Encodage de la variable cible income\n",
    "    label_encoder = LabelEncoder()\n",
    "    df_new[\"income\"] = label_encoder.fit_transform(df_new[\"income\"])\n",
    "\n",
    "    # Normalisation des variables numériques\n",
    "    if scaler is None:\n",
    "        scaler = StandardScaler()\n",
    "        scaler.fit(df_new[numeric_columns])\n",
    "    df_new[numeric_columns] = scaler.transform(df_new[numeric_columns])\n",
    "\n",
    "    return df_new, scaler"
   ]
  },
  {
   "cell_type": "markdown",
   "id": "d61c0a4ba40038da",
   "metadata": {},
   "source": [
    "## Modele de prediction\n",
    "\n",
    "### Setup\n",
    "\n",
    "> On pourrait faire une pipeline de pretraitement pour chaque pipeline (LabelEncoder, normalisation et drop des values NaN)"
   ]
  },
  {
   "cell_type": "code",
   "execution_count": 21,
   "id": "aa55e6c1908508db",
   "metadata": {
    "ExecuteTime": {
     "end_time": "2025-06-15T14:54:47.291342Z",
     "start_time": "2025-06-15T14:54:47.076955Z"
    }
   },
   "outputs": [],
   "source": [
    "# Creation de différents sets\n",
    "# X_train, X_test, y_train, y_test = train_test_split(df_adult_enco.drop(columns=[\"income\"]), df_adult_enco[\"income\"], test_size=0.2, random_state=69)\n",
    "#\n",
    "# # On normalise les variables quantitatives sur les données de train (StandardScaler pour l'instant)\n",
    "# numerical_columns = df_adult.select_dtypes(include=['int64', 'float64']).columns\n",
    "# numerical_scaler = StandardScaler()\n",
    "# numerical_scaler.fit(X_train[numerical_columns])\n",
    "# X_train[numerical_columns] = numerical_scaler.transform(X_train[numerical_columns])\n",
    "# X_test[numerical_columns] = numerical_scaler.transform(X_test[numerical_columns])\n",
    "\n",
    "# Import des données de test\n",
    "df_adult_test = pd.read_csv(\"./Data/adult.test\", header=None)\n",
    "df_adult_test.columns = adult_columns\n",
    "\n",
    "# Creation de différents sets (repartition 66/33 pour train/test)\n",
    "df_adult_new, fitted_scaler = treat_df(df_adult, None)\n",
    "X_train, y_train = df_adult_new.drop(columns=[\"income\"]), df_adult_new[\"income\"]\n",
    "df_adult_test_new, _ = treat_df(df_adult_test, fitted_scaler)\n",
    "X_test, y_test = df_adult_test_new.drop(columns=[\"income\"]), df_adult_test_new[\"income\"]\n",
    "\n",
    "def eval_model(model, X_test, y_test):\n",
    "    y_pred = model.predict(X_test)\n",
    "    print(f'=== Evaluation du modèle {model.__class__.__name__} ===')\n",
    "    print(f\"Accuracy : {accuracy_score(y_test, y_pred):.4f} (the higher the better)\")\n",
    "    print(f\"Recall : {recall_score(y_test, y_pred):.4f} (the higher the better) (best for us)\")\n",
    "    print(f\"R2 : {r2_score(y_test, y_pred):.4f} (the higher the better)\")\n",
    "    print(f\"MAE : {mean_absolute_error(y_test, y_pred):.4f} (the lower the better)\")\n",
    "    print(f\"RMSE : {mean_squared_error(y_test, y_pred):.4f} (the lower the better)\")\n",
    "    return y_pred"
   ]
  },
  {
   "cell_type": "markdown",
   "id": "cec6205532cb2e1e",
   "metadata": {},
   "source": [
    "### Arbre de décision"
   ]
  },
  {
   "cell_type": "code",
   "execution_count": 28,
   "id": "faf2e7624837066c",
   "metadata": {
    "ExecuteTime": {
     "end_time": "2025-06-15T14:54:47.299229Z",
     "start_time": "2025-06-15T14:54:47.295903Z"
    }
   },
   "outputs": [],
   "source": [
    "from sklearn.tree import DecisionTreeClassifier\n",
    "\n",
    "def opt_decision_tree(trial):\n",
    "    max_depth = trial.suggest_int('max_depth', 2, 32)\n",
    "    min_samples_split = trial.suggest_int('min_samples_split', 2, 10)\n",
    "    min_samples_leaf = trial.suggest_int('min_samples_leaf', 1, 4)\n",
    "    max_features = trial.suggest_categorical('max_features', ['sqrt', 'log2'])\n",
    "    criterion = trial.suggest_categorical('criterion', ['gini', 'entropy'])\n",
    "    return DecisionTreeClassifier(\n",
    "        max_depth=max_depth,\n",
    "        min_samples_split=min_samples_split,\n",
    "        min_samples_leaf=min_samples_leaf,\n",
    "        max_features=max_features,\n",
    "        criterion=criterion\n",
    "    )"
   ]
  },
  {
   "cell_type": "markdown",
   "id": "ce476f8a0cf7891a",
   "metadata": {},
   "source": [
    "> Pas de tres bonnes performances, on va essayer avec un autre modèle.\n",
    "\n",
    "### Random forest"
   ]
  },
  {
   "cell_type": "code",
   "execution_count": 29,
   "id": "52405f1f0bcfb978",
   "metadata": {
    "ExecuteTime": {
     "end_time": "2025-06-15T14:54:47.348332Z",
     "start_time": "2025-06-15T14:54:47.343863Z"
    }
   },
   "outputs": [],
   "source": [
    "from sklearn.ensemble import RandomForestClassifier\n",
    "\n",
    "def opt_random_forest(trial):\n",
    "    rf_max_depth = trial.suggest_int('rf_max_depth', 2, 32)\n",
    "    rf_min_samples_split = trial.suggest_int('rf_min_samples_split', 2, 10)\n",
    "    rf_min_samples_leaf = trial.suggest_int('rf_min_samples_leaf', 1, 4)\n",
    "    rf_max_features = trial.suggest_categorical('rf_max_features', ['sqrt', 'log2'])\n",
    "    rf_criterion = trial.suggest_categorical('rf_criterion', ['gini', 'entropy'])\n",
    "    rf_n_estimators = trial.suggest_int('rf_n_estimators', 50, 200)\n",
    "    return RandomForestClassifier(\n",
    "        max_depth=rf_max_depth,\n",
    "        min_samples_split=rf_min_samples_split,\n",
    "        min_samples_leaf=rf_min_samples_leaf,\n",
    "        max_features=rf_max_features,\n",
    "        criterion=rf_criterion,\n",
    "        n_estimators=rf_n_estimators\n",
    "      )"
   ]
  },
  {
   "cell_type": "markdown",
   "id": "6aa0b26492f0ea26",
   "metadata": {},
   "source": [
    "### Regression logistique"
   ]
  },
  {
   "cell_type": "code",
   "execution_count": 30,
   "id": "e7c1331e8f9d6309",
   "metadata": {
    "ExecuteTime": {
     "end_time": "2025-06-15T14:54:47.397353Z",
     "start_time": "2025-06-15T14:54:47.393047Z"
    }
   },
   "outputs": [],
   "source": [
    "from sklearn.linear_model import LogisticRegression\n",
    "\n",
    "def opt_logistic_regression(trial):\n",
    "    solver = trial.suggest_categorical('solver', ['newton-cg', 'lbfgs', 'liblinear', 'sag', 'saga'])\n",
    "\n",
    "    # Filter penalties based on the solver\n",
    "    penalty = \"l2\"  # Default penalty if an error occurs\n",
    "    if solver in ['newton-cg', 'lbfgs', 'sag']:\n",
    "        penalty = trial.suggest_categorical('penalty', ['l2', None])\n",
    "    elif solver == 'liblinear':\n",
    "        penalty = trial.suggest_categorical('penalty-liblinear', ['l1', 'l2'])\n",
    "    elif solver == 'saga':\n",
    "        penalty = trial.suggest_categorical('penalty-saga', ['l1', 'l2', 'elasticnet', None])\n",
    "    # l1_ratio est utlisé pour l'elasticnet\n",
    "    l1_ratio = trial.suggest_float('l1_ratio', 0.1, 0.5, log=True)\n",
    "    C = trial.suggest_float('C', 0.01, 10.0, log=True)\n",
    "    max_iter = trial.suggest_int('max_iter', 50, 500)\n",
    "    return LogisticRegression(\n",
    "        penalty=penalty,\n",
    "        C=C,\n",
    "        solver=solver,\n",
    "        max_iter=max_iter,\n",
    "        l1_ratio=l1_ratio,\n",
    "    )"
   ]
  },
  {
   "cell_type": "markdown",
   "id": "1a3031cdc514bae7",
   "metadata": {},
   "source": [
    "### AdaBoosting"
   ]
  },
  {
   "cell_type": "code",
   "execution_count": 31,
   "id": "eba4e21b00687def",
   "metadata": {
    "ExecuteTime": {
     "end_time": "2025-06-15T14:54:47.445461Z",
     "start_time": "2025-06-15T14:54:47.441313Z"
    }
   },
   "outputs": [],
   "source": [
    "from sklearn.ensemble import AdaBoostClassifier\n",
    "\n",
    "def opt_adaboost(trial):\n",
    "    base_estimator = trial.suggest_categorical('base_estimator', ['DecisionTree', 'RandomForest'])\n",
    "    base_estimator_obj = None\n",
    "    if base_estimator == 'DecisionTree':\n",
    "        base_estimator_obj = opt_decision_tree(trial)\n",
    "    elif base_estimator == 'RandomForest':\n",
    "        base_estimator_obj = opt_random_forest(trial)\n",
    "\n",
    "    n_estimators = trial.suggest_int('n_estimators', 50, 200)\n",
    "    learning_rate = trial.suggest_float('learning_rate', 0.01, 0.3)\n",
    "\n",
    "    return AdaBoostClassifier(\n",
    "        estimator=base_estimator_obj,\n",
    "        n_estimators=n_estimators,\n",
    "        learning_rate=learning_rate\n",
    "    )"
   ]
  },
  {
   "cell_type": "markdown",
   "id": "d3f9ecc64667cb38",
   "metadata": {},
   "source": [
    "### Gradient boosting"
   ]
  },
  {
   "cell_type": "code",
   "execution_count": 32,
   "id": "8fa4715e1c5204c3",
   "metadata": {
    "ExecuteTime": {
     "end_time": "2025-06-15T14:54:47.494860Z",
     "start_time": "2025-06-15T14:54:47.490491Z"
    }
   },
   "outputs": [],
   "source": [
    "from xgboost import XGBClassifier\n",
    "\n",
    "def opt_gradient_boosting(trial):\n",
    "    max_depth = trial.suggest_int('max_depth', 2, 32)\n",
    "    min_samples_split = trial.suggest_int('min_samples_split', 2, 10)\n",
    "    min_samples_leaf = trial.suggest_int('min_samples_leaf', 1, 4)\n",
    "    max_features = trial.suggest_categorical('max_features', ['sqrt', 'log2'])\n",
    "    criterion = trial.suggest_categorical('criterion', ['gini', 'entropy'])\n",
    "    n_estimators = trial.suggest_int('n_estimators', 50, 200)\n",
    "    learning_rate = trial.suggest_float('learning_rate', 0.01, 0.3)\n",
    "    return XGBClassifier(\n",
    "        max_depth=max_depth,\n",
    "        min_samples_split=min_samples_split,\n",
    "        min_samples_leaf=min_samples_leaf,\n",
    "        max_features=max_features,\n",
    "        criterion=criterion,\n",
    "        n_estimators=n_estimators,\n",
    "        learning_rate=learning_rate\n",
    "    )"
   ]
  },
  {
   "cell_type": "markdown",
   "id": "1fdc4d01bc8789a4",
   "metadata": {},
   "source": [
    "### Stacking"
   ]
  },
  {
   "cell_type": "code",
   "execution_count": 33,
   "id": "60931346aa26bf34",
   "metadata": {
    "ExecuteTime": {
     "end_time": "2025-06-15T14:54:47.544216Z",
     "start_time": "2025-06-15T14:54:47.537998Z"
    }
   },
   "outputs": [],
   "source": [
    "from sklearn.ensemble import StackingClassifier\n",
    "\n",
    "def opt_stacking(trial):\n",
    "    rf_max_depth = trial.suggest_int('rf_max_depth', 2, 32)\n",
    "    rf_min_samples_split = trial.suggest_int('rf_min_samples_split', 2, 10)\n",
    "    rf_min_samples_leaf = trial.suggest_int('rf_min_samples_leaf', 1, 4)\n",
    "    rf_max_features = trial.suggest_categorical('rf_max_features', ['sqrt', 'log2'])\n",
    "    rf_criterion = trial.suggest_categorical('rf_criterion', ['gini', 'entropy'])\n",
    "    rf_n_estimators = trial.suggest_int('rf_n_estimators', 50, 200)\n",
    "\n",
    "    xgb_max_depth = trial.suggest_int('xgb_max_depth', 2, 32)\n",
    "    xgb_min_samples_split = trial.suggest_int('xgb_min_samples_split', 2, 10)\n",
    "    xgb_min_samples_leaf = trial.suggest_int('xgb_min_samples_leaf', 1, 4)\n",
    "    xgb_max_features = trial.suggest_categorical('xgb_max_features', ['sqrt', 'log2'])\n",
    "    xgb_criterion = trial.suggest_categorical('xgb_criterion', ['gini', 'entropy'])\n",
    "    xgb_n_estimators = trial.suggest_int('xgb_n_estimators', 50, 200)\n",
    "\n",
    "    return StackingClassifier(\n",
    "        estimators=[\n",
    "            ('rf', RandomForestClassifier(\n",
    "                max_depth=rf_max_depth,\n",
    "                min_samples_split=rf_min_samples_split,\n",
    "                min_samples_leaf=rf_min_samples_leaf,\n",
    "                max_features=rf_max_features,\n",
    "                criterion=rf_criterion,\n",
    "                n_estimators=rf_n_estimators\n",
    "            )),\n",
    "            ('xgb', XGBClassifier(\n",
    "                max_depth=xgb_max_depth,\n",
    "                min_samples_split=xgb_min_samples_split,\n",
    "                min_samples_leaf=xgb_min_samples_leaf,\n",
    "                max_features=xgb_max_features,\n",
    "                criterion=xgb_criterion,\n",
    "                n_estimators=xgb_n_estimators\n",
    "            ))\n",
    "        ],\n",
    "        final_estimator=XGBClassifier(random_state=69)\n",
    "    )"
   ]
  },
  {
   "cell_type": "markdown",
   "id": "0cf4ce38",
   "metadata": {},
   "source": [
    "## KNN (K-Nearest Neighbors)"
   ]
  },
  {
   "cell_type": "code",
   "execution_count": 39,
   "id": "74a3132a",
   "metadata": {},
   "outputs": [],
   "source": [
    "def opt_knn(trial):\n",
    "    n_neighbors = trial.suggest_int('n_neighbors', 1, 20)\n",
    "    weights = trial.suggest_categorical('weights', ['uniform', 'distance'])\n",
    "    algorithm = trial.suggest_categorical('algorithm', ['auto', 'ball_tree', 'kd_tree', 'brute'])\n",
    "    leaf_size = trial.suggest_int('leaf_size', 10, 50)\n",
    "    p = trial.suggest_int('p', 1, 2)\n",
    "\n",
    "    return make_pipeline(\n",
    "        StandardScaler(),  # très important pour KNN\n",
    "        KNeighborsClassifier(\n",
    "            n_neighbors=n_neighbors,\n",
    "            weights=weights,\n",
    "            algorithm=algorithm,\n",
    "            leaf_size=leaf_size,\n",
    "            p=p\n",
    "        )\n",
    "    )"
   ]
  },
  {
   "cell_type": "markdown",
   "id": "00c2421e",
   "metadata": {},
   "source": [
    "## Classification de Bayes"
   ]
  },
  {
   "cell_type": "code",
   "execution_count": 40,
   "id": "9f73f64d",
   "metadata": {},
   "outputs": [],
   "source": [
    "from sklearn.naive_bayes import GaussianNB\n",
    "def opt_bayes(trial):\n",
    "    var_smoothing = trial.suggest_float('var_smoothing', 1e-11, 1e-6, log=True)\n",
    "    return GaussianNB(var_smoothing=var_smoothing)"
   ]
  },
  {
   "cell_type": "markdown",
   "id": "f90251a4bf92921",
   "metadata": {},
   "source": [
    "## Optimisation des hyperparamètres avec `optuna`"
   ]
  },
  {
   "cell_type": "code",
   "execution_count": 44,
   "id": "47798d934fb9f931",
   "metadata": {
    "ExecuteTime": {
     "end_time": "2025-06-15T14:56:08.243437Z",
     "start_time": "2025-06-15T14:54:47.587656Z"
    }
   },
   "outputs": [
    {
     "name": "stderr",
     "output_type": "stream",
     "text": [
      "[I 2025-06-16 17:15:52,891] A new study created in memory with name: Adult Income Prediction\n",
      "[I 2025-06-16 17:15:53,217] Trial 0 finished with value: 0.6664499349804941 and parameters: {'classifier': 'GradientBoosting', 'max_depth': 7, 'min_samples_split': 3, 'min_samples_leaf': 3, 'max_features': 'log2', 'criterion': 'gini', 'n_estimators': 170, 'learning_rate': 0.1170842604910615}. Best is trial 0 with value: 0.6664499349804941.\n",
      "[I 2025-06-16 17:15:54,648] Trial 1 finished with value: 0.406371911573472 and parameters: {'classifier': 'KNN', 'n_neighbors': 2, 'weights': 'uniform', 'algorithm': 'ball_tree', 'leaf_size': 35, 'p': 2}. Best is trial 0 with value: 0.6664499349804941.\n",
      "[I 2025-06-16 17:15:55,043] Trial 2 finished with value: 0.6631989596879063 and parameters: {'classifier': 'GradientBoosting', 'max_depth': 10, 'min_samples_split': 10, 'min_samples_leaf': 3, 'max_features': 'log2', 'criterion': 'gini', 'n_estimators': 159, 'learning_rate': 0.18023621987172483}. Best is trial 0 with value: 0.6664499349804941.\n",
      "[I 2025-06-16 17:15:55,139] Trial 3 finished with value: 0.5910273081924577 and parameters: {'classifier': 'GradientBoosting', 'max_depth': 6, 'min_samples_split': 5, 'min_samples_leaf': 1, 'max_features': 'log2', 'criterion': 'entropy', 'n_estimators': 54, 'learning_rate': 0.07275755168400401}. Best is trial 0 with value: 0.6664499349804941.\n",
      "[I 2025-06-16 17:15:55,154] Trial 4 finished with value: 0.33159947984395316 and parameters: {'classifier': 'DecisionTree', 'max_depth': 4, 'min_samples_split': 7, 'min_samples_leaf': 4, 'max_features': 'sqrt', 'criterion': 'entropy'}. Best is trial 0 with value: 0.6664499349804941.\n",
      "[I 2025-06-16 17:15:55,161] Trial 5 finished with value: 0.3433029908972692 and parameters: {'classifier': 'NaiveBayes', 'var_smoothing': 3.603350207297471e-07}. Best is trial 0 with value: 0.6664499349804941.\n",
      "[I 2025-06-16 17:15:55,263] Trial 6 finished with value: 0.6248374512353706 and parameters: {'classifier': 'GradientBoosting', 'max_depth': 3, 'min_samples_split': 3, 'min_samples_leaf': 2, 'max_features': 'sqrt', 'criterion': 'gini', 'n_estimators': 112, 'learning_rate': 0.17190715512955326}. Best is trial 0 with value: 0.6664499349804941.\n",
      "[I 2025-06-16 17:15:56,283] Trial 7 finished with value: 0.6085825747724317 and parameters: {'classifier': 'RandomForest', 'rf_max_depth': 14, 'rf_min_samples_split': 3, 'rf_min_samples_leaf': 1, 'rf_max_features': 'log2', 'rf_criterion': 'entropy', 'rf_n_estimators': 72}. Best is trial 0 with value: 0.6664499349804941.\n",
      "[I 2025-06-16 17:15:56,419] Trial 8 finished with value: 0.459037711313394 and parameters: {'classifier': 'LogisticRegression', 'solver': 'sag', 'penalty': 'l2', 'l1_ratio': 0.2121496508082356, 'C': 0.22302387795084053, 'max_iter': 301}. Best is trial 0 with value: 0.6664499349804941.\n",
      "[I 2025-06-16 17:15:58,128] Trial 9 finished with value: 0.6150845253576073 and parameters: {'classifier': 'GradientBoosting', 'max_depth': 31, 'min_samples_split': 2, 'min_samples_leaf': 3, 'max_features': 'sqrt', 'criterion': 'gini', 'n_estimators': 153, 'learning_rate': 0.017842479856193885}. Best is trial 0 with value: 0.6664499349804941.\n",
      "[I 2025-06-16 17:15:58,189] Trial 10 finished with value: 0.45838751625487645 and parameters: {'classifier': 'LogisticRegression', 'solver': 'newton-cg', 'penalty': None, 'l1_ratio': 0.10157622048948216, 'C': 6.533411939825218, 'max_iter': 75}. Best is trial 0 with value: 0.6664499349804941.\n",
      "[I 2025-06-16 17:15:58,873] Trial 11 finished with value: 0.6495448634590377 and parameters: {'classifier': 'GradientBoosting', 'max_depth': 15, 'min_samples_split': 10, 'min_samples_leaf': 3, 'max_features': 'log2', 'criterion': 'gini', 'n_estimators': 178, 'learning_rate': 0.25532785481154746}. Best is trial 0 with value: 0.6664499349804941.\n",
      "[I 2025-06-16 17:15:59,597] Trial 12 finished with value: 0.6488946684005201 and parameters: {'classifier': 'GradientBoosting', 'max_depth': 14, 'min_samples_split': 10, 'min_samples_leaf': 4, 'max_features': 'log2', 'criterion': 'gini', 'n_estimators': 200, 'learning_rate': 0.14744393323416893}. Best is trial 0 with value: 0.6664499349804941.\n",
      "[I 2025-06-16 17:15:59,606] Trial 13 finished with value: 0.3433029908972692 and parameters: {'classifier': 'NaiveBayes', 'var_smoothing': 1.7644748060445772e-11}. Best is trial 0 with value: 0.6664499349804941.\n",
      "[I 2025-06-16 17:15:59,993] Trial 14 finished with value: 0.6118335500650195 and parameters: {'classifier': 'KNN', 'n_neighbors': 18, 'weights': 'distance', 'algorithm': 'brute', 'leaf_size': 17, 'p': 1}. Best is trial 0 with value: 0.6664499349804941.\n",
      "[I 2025-06-16 17:16:00,023] Trial 15 finished with value: 0.5708712613784135 and parameters: {'classifier': 'DecisionTree', 'max_depth': 11, 'min_samples_split': 7, 'min_samples_leaf': 2, 'max_features': 'log2', 'criterion': 'gini'}. Best is trial 0 with value: 0.6664499349804941.\n",
      "[I 2025-06-16 17:16:02,566] Trial 16 finished with value: 0.6274382314694408 and parameters: {'classifier': 'RandomForest', 'rf_max_depth': 32, 'rf_min_samples_split': 10, 'rf_min_samples_leaf': 4, 'rf_max_features': 'sqrt', 'rf_criterion': 'gini', 'rf_n_estimators': 187}. Best is trial 0 with value: 0.6664499349804941.\n",
      "[I 2025-06-16 17:16:03,421] Trial 17 finished with value: 0.6456436931079323 and parameters: {'classifier': 'GradientBoosting', 'max_depth': 23, 'min_samples_split': 5, 'min_samples_leaf': 3, 'max_features': 'log2', 'criterion': 'gini', 'n_estimators': 138, 'learning_rate': 0.1602875075851543}. Best is trial 0 with value: 0.6664499349804941.\n",
      "[I 2025-06-16 17:16:03,786] Trial 18 finished with value: 0.6599479843953185 and parameters: {'classifier': 'GradientBoosting', 'max_depth': 9, 'min_samples_split': 8, 'min_samples_leaf': 3, 'max_features': 'log2', 'criterion': 'gini', 'n_estimators': 164, 'learning_rate': 0.22162695268759033}. Best is trial 0 with value: 0.6664499349804941.\n",
      "[I 2025-06-16 17:16:04,508] Trial 19 finished with value: 0.64629388816645 and parameters: {'classifier': 'GradientBoosting', 'max_depth': 23, 'min_samples_split': 4, 'min_samples_leaf': 2, 'max_features': 'log2', 'criterion': 'entropy', 'n_estimators': 109, 'learning_rate': 0.1055603058888369}. Best is trial 0 with value: 0.6664499349804941.\n",
      "[I 2025-06-16 17:16:05,512] Trial 20 finished with value: 0.4538361508452536 and parameters: {'classifier': 'RandomForest', 'rf_max_depth': 4, 'rf_min_samples_split': 8, 'rf_min_samples_leaf': 1, 'rf_max_features': 'sqrt', 'rf_criterion': 'gini', 'rf_n_estimators': 194}. Best is trial 0 with value: 0.6664499349804941.\n",
      "[I 2025-06-16 17:16:05,882] Trial 21 finished with value: 0.6618985695708712 and parameters: {'classifier': 'GradientBoosting', 'max_depth': 9, 'min_samples_split': 8, 'min_samples_leaf': 3, 'max_features': 'log2', 'criterion': 'gini', 'n_estimators': 165, 'learning_rate': 0.2253478416641462}. Best is trial 0 with value: 0.6664499349804941.\n",
      "[I 2025-06-16 17:16:06,289] Trial 22 finished with value: 0.64629388816645 and parameters: {'classifier': 'GradientBoosting', 'max_depth': 9, 'min_samples_split': 9, 'min_samples_leaf': 3, 'max_features': 'log2', 'criterion': 'gini', 'n_estimators': 182, 'learning_rate': 0.29858570806049967}. Best is trial 0 with value: 0.6664499349804941.\n",
      "[I 2025-06-16 17:16:06,571] Trial 23 finished with value: 0.6671001300390117 and parameters: {'classifier': 'GradientBoosting', 'max_depth': 8, 'min_samples_split': 8, 'min_samples_leaf': 4, 'max_features': 'log2', 'criterion': 'gini', 'n_estimators': 140, 'learning_rate': 0.21633614871283968}. Best is trial 23 with value: 0.6671001300390117.\n",
      "[I 2025-06-16 17:16:06,671] Trial 24 finished with value: 0.6033810143042913 and parameters: {'classifier': 'GradientBoosting', 'max_depth': 2, 'min_samples_split': 9, 'min_samples_leaf': 4, 'max_features': 'log2', 'criterion': 'gini', 'n_estimators': 134, 'learning_rate': 0.19647627334991113}. Best is trial 23 with value: 0.6671001300390117.\n",
      "[I 2025-06-16 17:16:06,680] Trial 25 finished with value: 0.3433029908972692 and parameters: {'classifier': 'NaiveBayes', 'var_smoothing': 7.452112639377818e-10}. Best is trial 23 with value: 0.6671001300390117.\n",
      "[I 2025-06-16 17:16:07,446] Trial 26 finished with value: 0.5910273081924577 and parameters: {'classifier': 'KNN', 'n_neighbors': 1, 'weights': 'distance', 'algorithm': 'auto', 'leaf_size': 50, 'p': 1}. Best is trial 23 with value: 0.6671001300390117.\n",
      "[I 2025-06-16 17:16:07,683] Trial 27 finished with value: 0.4518855656697009 and parameters: {'classifier': 'LogisticRegression', 'solver': 'saga', 'penalty-saga': 'l2', 'l1_ratio': 0.49928358834346676, 'C': 0.011666319877299193, 'max_iter': 491}. Best is trial 23 with value: 0.6671001300390117.\n",
      "[I 2025-06-16 17:16:07,713] Trial 28 finished with value: 0.6137841352405722 and parameters: {'classifier': 'DecisionTree', 'max_depth': 19, 'min_samples_split': 6, 'min_samples_leaf': 4, 'max_features': 'log2', 'criterion': 'gini'}. Best is trial 23 with value: 0.6671001300390117.\n",
      "[I 2025-06-16 17:16:09,457] Trial 29 finished with value: 0.5507152145643693 and parameters: {'classifier': 'KNN', 'n_neighbors': 20, 'weights': 'uniform', 'algorithm': 'kd_tree', 'leaf_size': 12, 'p': 2}. Best is trial 23 with value: 0.6671001300390117.\n",
      "[I 2025-06-16 17:16:09,971] Trial 30 finished with value: 0.6638491547464239 and parameters: {'classifier': 'GradientBoosting', 'max_depth': 12, 'min_samples_split': 9, 'min_samples_leaf': 4, 'max_features': 'log2', 'criterion': 'gini', 'n_estimators': 145, 'learning_rate': 0.11821369839743258}. Best is trial 23 with value: 0.6671001300390117.\n",
      "[I 2025-06-16 17:16:10,437] Trial 31 finished with value: 0.657997399219766 and parameters: {'classifier': 'GradientBoosting', 'max_depth': 12, 'min_samples_split': 9, 'min_samples_leaf': 4, 'max_features': 'log2', 'criterion': 'gini', 'n_estimators': 146, 'learning_rate': 0.1090284341696095}. Best is trial 23 with value: 0.6671001300390117.\n",
      "[I 2025-06-16 17:16:10,636] Trial 32 finished with value: 0.6657997399219766 and parameters: {'classifier': 'GradientBoosting', 'max_depth': 6, 'min_samples_split': 10, 'min_samples_leaf': 4, 'max_features': 'log2', 'criterion': 'gini', 'n_estimators': 120, 'learning_rate': 0.11720218720852019}. Best is trial 23 with value: 0.6671001300390117.\n",
      "[I 2025-06-16 17:16:10,829] Trial 33 finished with value: 0.6586475942782835 and parameters: {'classifier': 'GradientBoosting', 'max_depth': 6, 'min_samples_split': 8, 'min_samples_leaf': 4, 'max_features': 'log2', 'criterion': 'gini', 'n_estimators': 118, 'learning_rate': 0.11642304319811417}. Best is trial 23 with value: 0.6671001300390117.\n",
      "[I 2025-06-16 17:16:10,996] Trial 34 finished with value: 0.6423927178153446 and parameters: {'classifier': 'GradientBoosting', 'max_depth': 6, 'min_samples_split': 9, 'min_samples_leaf': 4, 'max_features': 'log2', 'criterion': 'gini', 'n_estimators': 96, 'learning_rate': 0.08259409389470318}. Best is trial 23 with value: 0.6671001300390117.\n",
      "[I 2025-06-16 17:16:11,180] Trial 35 finished with value: 0.6605981794538361 and parameters: {'classifier': 'GradientBoosting', 'max_depth': 7, 'min_samples_split': 7, 'min_samples_leaf': 4, 'max_features': 'log2', 'criterion': 'gini', 'n_estimators': 93, 'learning_rate': 0.1289618785059215}. Best is trial 23 with value: 0.6671001300390117.\n",
      "[I 2025-06-16 17:16:11,787] Trial 36 finished with value: 0.6573472041612484 and parameters: {'classifier': 'GradientBoosting', 'max_depth': 14, 'min_samples_split': 2, 'min_samples_leaf': 4, 'max_features': 'sqrt', 'criterion': 'entropy', 'n_estimators': 135, 'learning_rate': 0.07202923476061082}. Best is trial 23 with value: 0.6671001300390117.\n",
      "[I 2025-06-16 17:16:11,797] Trial 37 finished with value: 0.3433029908972692 and parameters: {'classifier': 'NaiveBayes', 'var_smoothing': 7.512226076428512e-07}. Best is trial 23 with value: 0.6671001300390117.\n",
      "[I 2025-06-16 17:16:11,828] Trial 38 finished with value: 0.5598179453836151 and parameters: {'classifier': 'DecisionTree', 'max_depth': 12, 'min_samples_split': 10, 'min_samples_leaf': 4, 'max_features': 'log2', 'criterion': 'gini'}. Best is trial 23 with value: 0.6671001300390117.\n",
      "[I 2025-06-16 17:16:12,079] Trial 39 finished with value: 0.6690507152145644 and parameters: {'classifier': 'GradientBoosting', 'max_depth': 7, 'min_samples_split': 8, 'min_samples_leaf': 4, 'max_features': 'log2', 'criterion': 'gini', 'n_estimators': 126, 'learning_rate': 0.14030711351204636}. Best is trial 39 with value: 0.6690507152145644.\n",
      "[I 2025-06-16 17:16:12,368] Trial 40 finished with value: 0.459037711313394 and parameters: {'classifier': 'LogisticRegression', 'solver': 'liblinear', 'penalty-liblinear': 'l1', 'l1_ratio': 0.4961331406675026, 'C': 8.874892077410985, 'max_iter': 86}. Best is trial 39 with value: 0.6690507152145644.\n",
      "[I 2025-06-16 17:16:12,601] Trial 41 finished with value: 0.6710013003901171 and parameters: {'classifier': 'GradientBoosting', 'max_depth': 7, 'min_samples_split': 8, 'min_samples_leaf': 4, 'max_features': 'log2', 'criterion': 'gini', 'n_estimators': 125, 'learning_rate': 0.13851398988047586}. Best is trial 41 with value: 0.6710013003901171.\n",
      "[I 2025-06-16 17:16:12,851] Trial 42 finished with value: 0.6417425227568271 and parameters: {'classifier': 'GradientBoosting', 'max_depth': 4, 'min_samples_split': 8, 'min_samples_leaf': 4, 'max_features': 'log2', 'criterion': 'gini', 'n_estimators': 129, 'learning_rate': 0.14313760389833807}. Best is trial 41 with value: 0.6710013003901171.\n",
      "[I 2025-06-16 17:16:13,050] Trial 43 finished with value: 0.6573472041612484 and parameters: {'classifier': 'GradientBoosting', 'max_depth': 7, 'min_samples_split': 6, 'min_samples_leaf': 4, 'max_features': 'log2', 'criterion': 'gini', 'n_estimators': 100, 'learning_rate': 0.0906942516941972}. Best is trial 41 with value: 0.6710013003901171.\n",
      "[I 2025-06-16 17:16:13,232] Trial 44 finished with value: 0.6566970091027308 and parameters: {'classifier': 'GradientBoosting', 'max_depth': 5, 'min_samples_split': 7, 'min_samples_leaf': 4, 'max_features': 'log2', 'criterion': 'gini', 'n_estimators': 122, 'learning_rate': 0.15124052357366427}. Best is trial 41 with value: 0.6710013003901171.\n",
      "[I 2025-06-16 17:16:14,149] Trial 45 finished with value: 0.6196358907672301 and parameters: {'classifier': 'RandomForest', 'rf_max_depth': 31, 'rf_min_samples_split': 3, 'rf_min_samples_leaf': 4, 'rf_max_features': 'log2', 'rf_criterion': 'entropy', 'rf_n_estimators': 61}. Best is trial 41 with value: 0.6710013003901171.\n",
      "[I 2025-06-16 17:16:14,341] Trial 46 finished with value: 0.6605981794538361 and parameters: {'classifier': 'GradientBoosting', 'max_depth': 8, 'min_samples_split': 6, 'min_samples_leaf': 3, 'max_features': 'log2', 'criterion': 'gini', 'n_estimators': 85, 'learning_rate': 0.13414489329100682}. Best is trial 41 with value: 0.6710013003901171.\n",
      "[I 2025-06-16 17:16:14,438] Trial 47 finished with value: 0.5188556566970091 and parameters: {'classifier': 'GradientBoosting', 'max_depth': 2, 'min_samples_split': 8, 'min_samples_leaf': 1, 'max_features': 'log2', 'criterion': 'gini', 'n_estimators': 122, 'learning_rate': 0.055582377075137884}. Best is trial 41 with value: 0.6710013003901171.\n",
      "[I 2025-06-16 17:16:15,498] Trial 48 finished with value: 0.5370611183355006 and parameters: {'classifier': 'KNN', 'n_neighbors': 10, 'weights': 'uniform', 'algorithm': 'kd_tree', 'leaf_size': 31, 'p': 2}. Best is trial 41 with value: 0.6710013003901171.\n",
      "[I 2025-06-16 17:16:15,734] Trial 49 finished with value: 0.6677503250975293 and parameters: {'classifier': 'GradientBoosting', 'max_depth': 8, 'min_samples_split': 5, 'min_samples_leaf': 3, 'max_features': 'log2', 'criterion': 'gini', 'n_estimators': 112, 'learning_rate': 0.19469145707691313}. Best is trial 41 with value: 0.6710013003901171.\n",
      "[I 2025-06-16 17:16:15,743] Trial 50 finished with value: 0.3433029908972692 and parameters: {'classifier': 'NaiveBayes', 'var_smoothing': 8.770023025832588e-09}. Best is trial 41 with value: 0.6710013003901171.\n",
      "[I 2025-06-16 17:16:16,031] Trial 51 finished with value: 0.665149544863459 and parameters: {'classifier': 'GradientBoosting', 'max_depth': 10, 'min_samples_split': 4, 'min_samples_leaf': 3, 'max_features': 'log2', 'criterion': 'gini', 'n_estimators': 110, 'learning_rate': 0.1983542724676603}. Best is trial 41 with value: 0.6710013003901171.\n",
      "[I 2025-06-16 17:16:16,261] Trial 52 finished with value: 0.665149544863459 and parameters: {'classifier': 'GradientBoosting', 'max_depth': 7, 'min_samples_split': 5, 'min_samples_leaf': 3, 'max_features': 'log2', 'criterion': 'gini', 'n_estimators': 128, 'learning_rate': 0.2097425719764985}. Best is trial 41 with value: 0.6710013003901171.\n",
      "[I 2025-06-16 17:16:16,400] Trial 53 finished with value: 0.6469440832249674 and parameters: {'classifier': 'GradientBoosting', 'max_depth': 4, 'min_samples_split': 4, 'min_samples_leaf': 4, 'max_features': 'log2', 'criterion': 'entropy', 'n_estimators': 116, 'learning_rate': 0.17662298115556985}. Best is trial 41 with value: 0.6710013003901171.\n",
      "[I 2025-06-16 17:16:16,522] Trial 54 finished with value: 0.6566970091027308 and parameters: {'classifier': 'GradientBoosting', 'max_depth': 5, 'min_samples_split': 3, 'min_samples_leaf': 3, 'max_features': 'sqrt', 'criterion': 'gini', 'n_estimators': 82, 'learning_rate': 0.2465368918478386}. Best is trial 41 with value: 0.6710013003901171.\n",
      "[I 2025-06-16 17:16:16,668] Trial 55 finished with value: 0.459037711313394 and parameters: {'classifier': 'LogisticRegression', 'solver': 'lbfgs', 'penalty': None, 'l1_ratio': 0.11954085155383899, 'C': 0.011458472170625367, 'max_iter': 486}. Best is trial 41 with value: 0.6710013003901171.\n",
      "[I 2025-06-16 17:16:17,148] Trial 56 finished with value: 0.16189856957087126 and parameters: {'classifier': 'RandomForest', 'rf_max_depth': 2, 'rf_min_samples_split': 6, 'rf_min_samples_leaf': 2, 'rf_max_features': 'log2', 'rf_criterion': 'gini', 'rf_n_estimators': 126}. Best is trial 41 with value: 0.6710013003901171.\n",
      "[I 2025-06-16 17:16:17,371] Trial 57 finished with value: 0.6618985695708712 and parameters: {'classifier': 'GradientBoosting', 'max_depth': 8, 'min_samples_split': 7, 'min_samples_leaf': 2, 'max_features': 'log2', 'criterion': 'entropy', 'n_estimators': 103, 'learning_rate': 0.16230863105113688}. Best is trial 41 with value: 0.6710013003901171.\n",
      "[I 2025-06-16 17:16:17,756] Trial 58 finished with value: 0.6657997399219766 and parameters: {'classifier': 'GradientBoosting', 'max_depth': 10, 'min_samples_split': 3, 'min_samples_leaf': 4, 'max_features': 'sqrt', 'criterion': 'gini', 'n_estimators': 149, 'learning_rate': 0.18864281260351434}. Best is trial 41 with value: 0.6710013003901171.\n",
      "[I 2025-06-16 17:16:17,778] Trial 59 finished with value: 0.3862158647594278 and parameters: {'classifier': 'DecisionTree', 'max_depth': 4, 'min_samples_split': 6, 'min_samples_leaf': 3, 'max_features': 'log2', 'criterion': 'gini'}. Best is trial 41 with value: 0.6710013003901171.\n",
      "[I 2025-06-16 17:16:18,004] Trial 60 finished with value: 0.6625487646293888 and parameters: {'classifier': 'GradientBoosting', 'max_depth': 6, 'min_samples_split': 10, 'min_samples_leaf': 4, 'max_features': 'log2', 'criterion': 'gini', 'n_estimators': 139, 'learning_rate': 0.13393435386212527}. Best is trial 41 with value: 0.6710013003901171.\n",
      "[I 2025-06-16 17:16:18,395] Trial 61 finished with value: 0.657997399219766 and parameters: {'classifier': 'GradientBoosting', 'max_depth': 10, 'min_samples_split': 3, 'min_samples_leaf': 4, 'max_features': 'sqrt', 'criterion': 'gini', 'n_estimators': 155, 'learning_rate': 0.18706177624443085}. Best is trial 41 with value: 0.6710013003901171.\n",
      "[I 2025-06-16 17:16:18,766] Trial 62 finished with value: 0.665149544863459 and parameters: {'classifier': 'GradientBoosting', 'max_depth': 10, 'min_samples_split': 3, 'min_samples_leaf': 4, 'max_features': 'sqrt', 'criterion': 'gini', 'n_estimators': 145, 'learning_rate': 0.17672899587666205}. Best is trial 41 with value: 0.6710013003901171.\n",
      "[I 2025-06-16 17:16:19,120] Trial 63 finished with value: 0.6553966189856957 and parameters: {'classifier': 'GradientBoosting', 'max_depth': 8, 'min_samples_split': 2, 'min_samples_leaf': 4, 'max_features': 'sqrt', 'criterion': 'gini', 'n_estimators': 174, 'learning_rate': 0.23725357208748304}. Best is trial 41 with value: 0.6710013003901171.\n",
      "[I 2025-06-16 17:16:20,148] Trial 64 finished with value: 0.6436931079323797 and parameters: {'classifier': 'GradientBoosting', 'max_depth': 30, 'min_samples_split': 4, 'min_samples_leaf': 1, 'max_features': 'sqrt', 'criterion': 'gini', 'n_estimators': 127, 'learning_rate': 0.1642217728728663}. Best is trial 41 with value: 0.6710013003901171.\n",
      "[I 2025-06-16 17:16:20,309] Trial 65 finished with value: 0.6566970091027308 and parameters: {'classifier': 'GradientBoosting', 'max_depth': 5, 'min_samples_split': 5, 'min_samples_leaf': 4, 'max_features': 'sqrt', 'criterion': 'gini', 'n_estimators': 112, 'learning_rate': 0.19880283076919542}. Best is trial 41 with value: 0.6710013003901171.\n",
      "[I 2025-06-16 17:16:20,437] Trial 66 finished with value: 0.6618985695708712 and parameters: {'classifier': 'GradientBoosting', 'max_depth': 8, 'min_samples_split': 3, 'min_samples_leaf': 3, 'max_features': 'log2', 'criterion': 'gini', 'n_estimators': 52, 'learning_rate': 0.2165402904084755}. Best is trial 41 with value: 0.6710013003901171.\n",
      "[I 2025-06-16 17:16:21,752] Trial 67 finished with value: 0.611183355006502 and parameters: {'classifier': 'KNN', 'n_neighbors': 11, 'weights': 'distance', 'algorithm': 'auto', 'leaf_size': 48, 'p': 1}. Best is trial 41 with value: 0.6710013003901171.\n",
      "[I 2025-06-16 17:16:22,311] Trial 68 finished with value: 0.6566970091027308 and parameters: {'classifier': 'GradientBoosting', 'max_depth': 11, 'min_samples_split': 8, 'min_samples_leaf': 4, 'max_features': 'log2', 'criterion': 'gini', 'n_estimators': 191, 'learning_rate': 0.09798848887645525}. Best is trial 41 with value: 0.6710013003901171.\n",
      "[I 2025-06-16 17:16:22,891] Trial 69 finished with value: 0.6521456436931079 and parameters: {'classifier': 'GradientBoosting', 'max_depth': 14, 'min_samples_split': 10, 'min_samples_leaf': 2, 'max_features': 'log2', 'criterion': 'entropy', 'n_estimators': 152, 'learning_rate': 0.14475264426027556}. Best is trial 41 with value: 0.6710013003901171.\n",
      "[I 2025-06-16 17:16:22,900] Trial 70 finished with value: 0.3433029908972692 and parameters: {'classifier': 'NaiveBayes', 'var_smoothing': 1.1184359650828819e-11}. Best is trial 41 with value: 0.6710013003901171.\n",
      "[I 2025-06-16 17:16:23,195] Trial 71 finished with value: 0.659297789336801 and parameters: {'classifier': 'GradientBoosting', 'max_depth': 10, 'min_samples_split': 4, 'min_samples_leaf': 3, 'max_features': 'log2', 'criterion': 'gini', 'n_estimators': 108, 'learning_rate': 0.20165732347219775}. Best is trial 41 with value: 0.6710013003901171.\n",
      "[I 2025-06-16 17:16:23,754] Trial 72 finished with value: 0.6430429128738622 and parameters: {'classifier': 'GradientBoosting', 'max_depth': 17, 'min_samples_split': 4, 'min_samples_leaf': 3, 'max_features': 'log2', 'criterion': 'gini', 'n_estimators': 116, 'learning_rate': 0.18859191776012282}. Best is trial 41 with value: 0.6710013003901171.\n",
      "[I 2025-06-16 17:16:24,132] Trial 73 finished with value: 0.6625487646293888 and parameters: {'classifier': 'GradientBoosting', 'max_depth': 9, 'min_samples_split': 5, 'min_samples_leaf': 3, 'max_features': 'log2', 'criterion': 'gini', 'n_estimators': 163, 'learning_rate': 0.12345243348794241}. Best is trial 41 with value: 0.6710013003901171.\n",
      "[I 2025-06-16 17:16:24,236] Trial 74 finished with value: 0.4596879063719116 and parameters: {'classifier': 'LogisticRegression', 'solver': 'lbfgs', 'penalty': 'l2', 'l1_ratio': 0.26077947116763844, 'C': 0.4257436042573232, 'max_iter': 278}. Best is trial 41 with value: 0.6710013003901171.\n",
      "[I 2025-06-16 17:16:24,262] Trial 75 finished with value: 0.5351105331599479 and parameters: {'classifier': 'DecisionTree', 'max_depth': 11, 'min_samples_split': 3, 'min_samples_leaf': 3, 'max_features': 'log2', 'criterion': 'gini'}. Best is trial 41 with value: 0.6710013003901171.\n",
      "[I 2025-06-16 17:16:24,506] Trial 76 finished with value: 0.6625487646293888 and parameters: {'classifier': 'GradientBoosting', 'max_depth': 7, 'min_samples_split': 4, 'min_samples_leaf': 4, 'max_features': 'log2', 'criterion': 'gini', 'n_estimators': 130, 'learning_rate': 0.22503527369418114}. Best is trial 41 with value: 0.6710013003901171.\n",
      "[I 2025-06-16 17:16:26,577] Trial 77 finished with value: 0.6209362808842653 and parameters: {'classifier': 'RandomForest', 'rf_max_depth': 20, 'rf_min_samples_split': 6, 'rf_min_samples_leaf': 3, 'rf_max_features': 'sqrt', 'rf_criterion': 'entropy', 'rf_n_estimators': 133}. Best is trial 41 with value: 0.6710013003901171.\n",
      "[I 2025-06-16 17:16:26,735] Trial 78 finished with value: 0.6417425227568271 and parameters: {'classifier': 'GradientBoosting', 'max_depth': 3, 'min_samples_split': 2, 'min_samples_leaf': 2, 'max_features': 'log2', 'criterion': 'gini', 'n_estimators': 171, 'learning_rate': 0.1706864776436639}. Best is trial 41 with value: 0.6710013003901171.\n",
      "[I 2025-06-16 17:16:26,962] Trial 79 finished with value: 0.6586475942782835 and parameters: {'classifier': 'GradientBoosting', 'max_depth': 6, 'min_samples_split': 9, 'min_samples_leaf': 4, 'max_features': 'log2', 'criterion': 'gini', 'n_estimators': 141, 'learning_rate': 0.2641319409826902}. Best is trial 41 with value: 0.6710013003901171.\n",
      "[I 2025-06-16 17:16:27,249] Trial 80 finished with value: 0.6560468140442133 and parameters: {'classifier': 'GradientBoosting', 'max_depth': 9, 'min_samples_split': 5, 'min_samples_leaf': 3, 'max_features': 'sqrt', 'criterion': 'gini', 'n_estimators': 122, 'learning_rate': 0.1521760685742017}. Best is trial 41 with value: 0.6710013003901171.\n",
      "[I 2025-06-16 17:16:27,493] Trial 81 finished with value: 0.659297789336801 and parameters: {'classifier': 'GradientBoosting', 'max_depth': 7, 'min_samples_split': 5, 'min_samples_leaf': 3, 'max_features': 'log2', 'criterion': 'gini', 'n_estimators': 132, 'learning_rate': 0.2099478995904903}. Best is trial 41 with value: 0.6710013003901171.\n",
      "[I 2025-06-16 17:16:27,668] Trial 82 finished with value: 0.6540962288686606 and parameters: {'classifier': 'GradientBoosting', 'max_depth': 6, 'min_samples_split': 5, 'min_samples_leaf': 3, 'max_features': 'log2', 'criterion': 'gini', 'n_estimators': 106, 'learning_rate': 0.2036595646395897}. Best is trial 41 with value: 0.6710013003901171.\n",
      "[I 2025-06-16 17:16:27,935] Trial 83 finished with value: 0.6690507152145644 and parameters: {'classifier': 'GradientBoosting', 'max_depth': 8, 'min_samples_split': 8, 'min_samples_leaf': 3, 'max_features': 'log2', 'criterion': 'gini', 'n_estimators': 127, 'learning_rate': 0.18928311135324782}. Best is trial 41 with value: 0.6710013003901171.\n",
      "[I 2025-06-16 17:16:28,230] Trial 84 finished with value: 0.6625487646293888 and parameters: {'classifier': 'GradientBoosting', 'max_depth': 10, 'min_samples_split': 7, 'min_samples_leaf': 3, 'max_features': 'log2', 'criterion': 'gini', 'n_estimators': 113, 'learning_rate': 0.1890394023211347}. Best is trial 41 with value: 0.6710013003901171.\n",
      "[I 2025-06-16 17:16:28,660] Trial 85 finished with value: 0.6560468140442133 and parameters: {'classifier': 'GradientBoosting', 'max_depth': 13, 'min_samples_split': 8, 'min_samples_leaf': 4, 'max_features': 'log2', 'criterion': 'gini', 'n_estimators': 121, 'learning_rate': 0.10731178817107495}. Best is trial 41 with value: 0.6710013003901171.\n",
      "[I 2025-06-16 17:16:29,016] Trial 86 finished with value: 0.6092327698309493 and parameters: {'classifier': 'KNN', 'n_neighbors': 8, 'weights': 'distance', 'algorithm': 'brute', 'leaf_size': 22, 'p': 1}. Best is trial 41 with value: 0.6710013003901171.\n",
      "[I 2025-06-16 17:16:29,386] Trial 87 finished with value: 0.659297789336801 and parameters: {'classifier': 'GradientBoosting', 'max_depth': 8, 'min_samples_split': 9, 'min_samples_leaf': 4, 'max_features': 'log2', 'criterion': 'gini', 'n_estimators': 136, 'learning_rate': 0.1357277757203412}. Best is trial 41 with value: 0.6710013003901171.\n",
      "[I 2025-06-16 17:16:29,395] Trial 88 finished with value: 0.3433029908972692 and parameters: {'classifier': 'NaiveBayes', 'var_smoothing': 9.796198224842177e-09}. Best is trial 41 with value: 0.6710013003901171.\n",
      "[I 2025-06-16 17:16:29,753] Trial 89 finished with value: 0.6586475942782835 and parameters: {'classifier': 'GradientBoosting', 'max_depth': 9, 'min_samples_split': 8, 'min_samples_leaf': 4, 'max_features': 'log2', 'criterion': 'gini', 'n_estimators': 152, 'learning_rate': 0.23383475386461994}. Best is trial 41 with value: 0.6710013003901171.\n",
      "[I 2025-06-16 17:16:29,887] Trial 90 finished with value: 0.611183355006502 and parameters: {'classifier': 'GradientBoosting', 'max_depth': 3, 'min_samples_split': 8, 'min_samples_leaf': 3, 'max_features': 'log2', 'criterion': 'gini', 'n_estimators': 126, 'learning_rate': 0.11881178200619082}. Best is trial 41 with value: 0.6710013003901171.\n",
      "[I 2025-06-16 17:16:30,136] Trial 91 finished with value: 0.6664499349804941 and parameters: {'classifier': 'GradientBoosting', 'max_depth': 7, 'min_samples_split': 6, 'min_samples_leaf': 3, 'max_features': 'log2', 'criterion': 'gini', 'n_estimators': 130, 'learning_rate': 0.21416890088125673}. Best is trial 41 with value: 0.6710013003901171.\n",
      "[I 2025-06-16 17:16:30,333] Trial 92 finished with value: 0.6625487646293888 and parameters: {'classifier': 'GradientBoosting', 'max_depth': 5, 'min_samples_split': 6, 'min_samples_leaf': 3, 'max_features': 'log2', 'criterion': 'gini', 'n_estimators': 140, 'learning_rate': 0.1895990039747038}. Best is trial 41 with value: 0.6710013003901171.\n",
      "[I 2025-06-16 17:16:30,559] Trial 93 finished with value: 0.6684005201560468 and parameters: {'classifier': 'GradientBoosting', 'max_depth': 7, 'min_samples_split': 7, 'min_samples_leaf': 3, 'max_features': 'log2', 'criterion': 'gini', 'n_estimators': 118, 'learning_rate': 0.21452455918193694}. Best is trial 41 with value: 0.6710013003901171.\n",
      "[I 2025-06-16 17:16:30,779] Trial 94 finished with value: 0.6612483745123537 and parameters: {'classifier': 'GradientBoosting', 'max_depth': 7, 'min_samples_split': 7, 'min_samples_leaf': 3, 'max_features': 'log2', 'criterion': 'gini', 'n_estimators': 118, 'learning_rate': 0.21657094743769295}. Best is trial 41 with value: 0.6710013003901171.\n",
      "[I 2025-06-16 17:16:31,058] Trial 95 finished with value: 0.6573472041612484 and parameters: {'classifier': 'GradientBoosting', 'max_depth': 8, 'min_samples_split': 7, 'min_samples_leaf': 4, 'max_features': 'log2', 'criterion': 'entropy', 'n_estimators': 133, 'learning_rate': 0.2341270908652712}. Best is trial 41 with value: 0.6710013003901171.\n",
      "[I 2025-06-16 17:16:31,197] Trial 96 finished with value: 0.459037711313394 and parameters: {'classifier': 'LogisticRegression', 'solver': 'sag', 'penalty': None, 'l1_ratio': 0.19902166541024574, 'C': 0.15338112031411635, 'max_iter': 183}. Best is trial 41 with value: 0.6710013003901171.\n",
      "[I 2025-06-16 17:16:31,442] Trial 97 finished with value: 0.6605981794538361 and parameters: {'classifier': 'GradientBoosting', 'max_depth': 6, 'min_samples_split': 9, 'min_samples_leaf': 4, 'max_features': 'log2', 'criterion': 'gini', 'n_estimators': 125, 'learning_rate': 0.16768067267013315}. Best is trial 41 with value: 0.6710013003901171.\n",
      "[I 2025-06-16 17:16:31,463] Trial 98 finished with value: 0.5734720416124838 and parameters: {'classifier': 'DecisionTree', 'max_depth': 5, 'min_samples_split': 7, 'min_samples_leaf': 2, 'max_features': 'log2', 'criterion': 'gini'}. Best is trial 41 with value: 0.6710013003901171.\n",
      "[I 2025-06-16 17:16:32,854] Trial 99 finished with value: 0.6274382314694408 and parameters: {'classifier': 'RandomForest', 'rf_max_depth': 20, 'rf_min_samples_split': 2, 'rf_min_samples_leaf': 2, 'rf_max_features': 'log2', 'rf_criterion': 'gini', 'rf_n_estimators': 94}. Best is trial 41 with value: 0.6710013003901171.\n",
      "[I 2025-06-16 17:16:33,120] Trial 100 finished with value: 0.6612483745123537 and parameters: {'classifier': 'GradientBoosting', 'max_depth': 7, 'min_samples_split': 8, 'min_samples_leaf': 3, 'max_features': 'sqrt', 'criterion': 'gini', 'n_estimators': 147, 'learning_rate': 0.20867390820512186}. Best is trial 41 with value: 0.6710013003901171.\n",
      "[I 2025-06-16 17:16:33,391] Trial 101 finished with value: 0.6677503250975293 and parameters: {'classifier': 'GradientBoosting', 'max_depth': 9, 'min_samples_split': 6, 'min_samples_leaf': 3, 'max_features': 'log2', 'criterion': 'gini', 'n_estimators': 112, 'learning_rate': 0.19428602039725174}. Best is trial 41 with value: 0.6710013003901171.\n",
      "[I 2025-06-16 17:16:33,703] Trial 102 finished with value: 0.6631989596879063 and parameters: {'classifier': 'GradientBoosting', 'max_depth': 9, 'min_samples_split': 6, 'min_samples_leaf': 3, 'max_features': 'log2', 'criterion': 'gini', 'n_estimators': 120, 'learning_rate': 0.2246976579730956}. Best is trial 41 with value: 0.6710013003901171.\n",
      "[I 2025-06-16 17:16:34,406] Trial 103 finished with value: 0.6443433029908973 and parameters: {'classifier': 'GradientBoosting', 'max_depth': 22, 'min_samples_split': 6, 'min_samples_leaf': 3, 'max_features': 'log2', 'criterion': 'gini', 'n_estimators': 114, 'learning_rate': 0.1806514426612781}. Best is trial 41 with value: 0.6710013003901171.\n",
      "[I 2025-06-16 17:16:34,577] Trial 104 finished with value: 0.6605981794538361 and parameters: {'classifier': 'GradientBoosting', 'max_depth': 6, 'min_samples_split': 7, 'min_samples_leaf': 3, 'max_features': 'log2', 'criterion': 'gini', 'n_estimators': 100, 'learning_rate': 0.15671656085173521}. Best is trial 41 with value: 0.6710013003901171.\n",
      "[I 2025-06-16 17:16:34,836] Trial 105 finished with value: 0.665149544863459 and parameters: {'classifier': 'GradientBoosting', 'max_depth': 8, 'min_samples_split': 9, 'min_samples_leaf': 4, 'max_features': 'log2', 'criterion': 'gini', 'n_estimators': 124, 'learning_rate': 0.1270449072286439}. Best is trial 41 with value: 0.6710013003901171.\n",
      "[I 2025-06-16 17:16:35,315] Trial 106 finished with value: 0.6573472041612484 and parameters: {'classifier': 'GradientBoosting', 'max_depth': 9, 'min_samples_split': 8, 'min_samples_leaf': 3, 'max_features': 'log2', 'criterion': 'gini', 'n_estimators': 183, 'learning_rate': 0.1396104938877945}. Best is trial 41 with value: 0.6710013003901171.\n",
      "[I 2025-06-16 17:16:35,554] Trial 107 finished with value: 0.665149544863459 and parameters: {'classifier': 'GradientBoosting', 'max_depth': 7, 'min_samples_split': 6, 'min_samples_leaf': 4, 'max_features': 'log2', 'criterion': 'gini', 'n_estimators': 130, 'learning_rate': 0.2140052807461944}. Best is trial 41 with value: 0.6710013003901171.\n",
      "[I 2025-06-16 17:16:37,115] Trial 108 finished with value: 0.546814044213264 and parameters: {'classifier': 'KNN', 'n_neighbors': 14, 'weights': 'uniform', 'algorithm': 'ball_tree', 'leaf_size': 39, 'p': 2}. Best is trial 41 with value: 0.6710013003901171.\n",
      "[I 2025-06-16 17:16:37,275] Trial 109 finished with value: 0.6371911573472041 and parameters: {'classifier': 'GradientBoosting', 'max_depth': 5, 'min_samples_split': 8, 'min_samples_leaf': 3, 'max_features': 'sqrt', 'criterion': 'gini', 'n_estimators': 109, 'learning_rate': 0.0977575666654828}. Best is trial 41 with value: 0.6710013003901171.\n",
      "[I 2025-06-16 17:16:37,475] Trial 110 finished with value: 0.6599479843953185 and parameters: {'classifier': 'GradientBoosting', 'max_depth': 11, 'min_samples_split': 7, 'min_samples_leaf': 4, 'max_features': 'log2', 'criterion': 'entropy', 'n_estimators': 62, 'learning_rate': 0.18153155239084381}. Best is trial 41 with value: 0.6710013003901171.\n",
      "[I 2025-06-16 17:16:37,757] Trial 111 finished with value: 0.6612483745123537 and parameters: {'classifier': 'GradientBoosting', 'max_depth': 10, 'min_samples_split': 3, 'min_samples_leaf': 3, 'max_features': 'log2', 'criterion': 'gini', 'n_estimators': 104, 'learning_rate': 0.1934979239615628}. Best is trial 41 with value: 0.6710013003901171.\n",
      "[I 2025-06-16 17:16:37,999] Trial 112 finished with value: 0.6684005201560468 and parameters: {'classifier': 'GradientBoosting', 'max_depth': 8, 'min_samples_split': 6, 'min_samples_leaf': 3, 'max_features': 'log2', 'criterion': 'gini', 'n_estimators': 112, 'learning_rate': 0.20033912925315228}. Best is trial 41 with value: 0.6710013003901171.\n",
      "[I 2025-06-16 17:16:38,245] Trial 113 finished with value: 0.6540962288686606 and parameters: {'classifier': 'GradientBoosting', 'max_depth': 8, 'min_samples_split': 6, 'min_samples_leaf': 3, 'max_features': 'log2', 'criterion': 'gini', 'n_estimators': 117, 'learning_rate': 0.20535696688235067}. Best is trial 41 with value: 0.6710013003901171.\n",
      "[I 2025-06-16 17:16:38,409] Trial 114 finished with value: 0.6339401820546163 and parameters: {'classifier': 'GradientBoosting', 'max_depth': 4, 'min_samples_split': 6, 'min_samples_leaf': 3, 'max_features': 'log2', 'criterion': 'gini', 'n_estimators': 137, 'learning_rate': 0.11537526839966997}. Best is trial 41 with value: 0.6710013003901171.\n",
      "[I 2025-06-16 17:16:38,595] Trial 115 finished with value: 0.6618985695708712 and parameters: {'classifier': 'GradientBoosting', 'max_depth': 6, 'min_samples_split': 6, 'min_samples_leaf': 4, 'max_features': 'log2', 'criterion': 'gini', 'n_estimators': 112, 'learning_rate': 0.19503910421423534}. Best is trial 41 with value: 0.6710013003901171.\n",
      "[I 2025-06-16 17:16:38,781] Trial 116 finished with value: 0.6644993498049415 and parameters: {'classifier': 'GradientBoosting', 'max_depth': 7, 'min_samples_split': 7, 'min_samples_leaf': 3, 'max_features': 'log2', 'criterion': 'gini', 'n_estimators': 94, 'learning_rate': 0.2428912357758274}. Best is trial 41 with value: 0.6710013003901171.\n",
      "[I 2025-06-16 17:16:38,789] Trial 117 finished with value: 0.3433029908972692 and parameters: {'classifier': 'NaiveBayes', 'var_smoothing': 7.3542125917147e-10}. Best is trial 41 with value: 0.6710013003901171.\n",
      "[I 2025-06-16 17:16:39,058] Trial 118 finished with value: 0.6586475942782835 and parameters: {'classifier': 'GradientBoosting', 'max_depth': 8, 'min_samples_split': 10, 'min_samples_leaf': 3, 'max_features': 'log2', 'criterion': 'gini', 'n_estimators': 127, 'learning_rate': 0.2212576366972722}. Best is trial 41 with value: 0.6710013003901171.\n",
      "[I 2025-06-16 17:16:39,080] Trial 119 finished with value: 0.5201560468140443 and parameters: {'classifier': 'DecisionTree', 'max_depth': 7, 'min_samples_split': 7, 'min_samples_leaf': 4, 'max_features': 'sqrt', 'criterion': 'gini'}. Best is trial 41 with value: 0.6710013003901171.\n",
      "[I 2025-06-16 17:16:39,150] Trial 120 finished with value: 0.459037711313394 and parameters: {'classifier': 'LogisticRegression', 'solver': 'liblinear', 'penalty-liblinear': 'l2', 'l1_ratio': 0.3147863758025061, 'C': 1.4564164596600935, 'max_iter': 366}. Best is trial 41 with value: 0.6710013003901171.\n",
      "[I 2025-06-16 17:16:39,435] Trial 121 finished with value: 0.6605981794538361 and parameters: {'classifier': 'GradientBoosting', 'max_depth': 9, 'min_samples_split': 3, 'min_samples_leaf': 3, 'max_features': 'log2', 'criterion': 'gini', 'n_estimators': 118, 'learning_rate': 0.19674836075765456}. Best is trial 41 with value: 0.6710013003901171.\n",
      "[I 2025-06-16 17:16:39,792] Trial 122 finished with value: 0.659297789336801 and parameters: {'classifier': 'GradientBoosting', 'max_depth': 12, 'min_samples_split': 4, 'min_samples_leaf': 3, 'max_features': 'log2', 'criterion': 'gini', 'n_estimators': 110, 'learning_rate': 0.18302045481175178}. Best is trial 41 with value: 0.6710013003901171.\n",
      "[I 2025-06-16 17:16:40,085] Trial 123 finished with value: 0.6677503250975293 and parameters: {'classifier': 'GradientBoosting', 'max_depth': 9, 'min_samples_split': 5, 'min_samples_leaf': 3, 'max_features': 'log2', 'criterion': 'gini', 'n_estimators': 123, 'learning_rate': 0.17451278651927898}. Best is trial 41 with value: 0.6710013003901171.\n",
      "[I 2025-06-16 17:16:40,351] Trial 124 finished with value: 0.6586475942782835 and parameters: {'classifier': 'GradientBoosting', 'max_depth': 8, 'min_samples_split': 5, 'min_samples_leaf': 3, 'max_features': 'log2', 'criterion': 'gini', 'n_estimators': 123, 'learning_rate': 0.17400757390426147}. Best is trial 41 with value: 0.6710013003901171.\n",
      "[I 2025-06-16 17:16:40,672] Trial 125 finished with value: 0.6631989596879063 and parameters: {'classifier': 'GradientBoosting', 'max_depth': 9, 'min_samples_split': 8, 'min_samples_leaf': 3, 'max_features': 'log2', 'criterion': 'gini', 'n_estimators': 133, 'learning_rate': 0.16117114665482823}. Best is trial 41 with value: 0.6710013003901171.\n",
      "[I 2025-06-16 17:16:42,514] Trial 126 finished with value: 0.5604681404421327 and parameters: {'classifier': 'RandomForest', 'rf_max_depth': 11, 'rf_min_samples_split': 10, 'rf_min_samples_leaf': 3, 'rf_max_features': 'sqrt', 'rf_criterion': 'entropy', 'rf_n_estimators': 157}. Best is trial 41 with value: 0.6710013003901171.\n",
      "[I 2025-06-16 17:16:42,933] Trial 127 finished with value: 0.64629388816645 and parameters: {'classifier': 'GradientBoosting', 'max_depth': 11, 'min_samples_split': 6, 'min_samples_leaf': 4, 'max_features': 'log2', 'criterion': 'gini', 'n_estimators': 144, 'learning_rate': 0.2030006055515543}. Best is trial 41 with value: 0.6710013003901171.\n",
      "[I 2025-06-16 17:16:43,969] Trial 128 finished with value: 0.6443433029908973 and parameters: {'classifier': 'GradientBoosting', 'max_depth': 29, 'min_samples_split': 8, 'min_samples_leaf': 2, 'max_features': 'log2', 'criterion': 'gini', 'n_estimators': 128, 'learning_rate': 0.14671063697535042}. Best is trial 41 with value: 0.6710013003901171.\n",
      "[I 2025-06-16 17:16:44,378] Trial 129 finished with value: 0.6469440832249674 and parameters: {'classifier': 'GradientBoosting', 'max_depth': 10, 'min_samples_split': 6, 'min_samples_leaf': 3, 'max_features': 'log2', 'criterion': 'gini', 'n_estimators': 160, 'learning_rate': 0.2108766629384246}. Best is trial 41 with value: 0.6710013003901171.\n",
      "[I 2025-06-16 17:16:44,568] Trial 130 finished with value: 0.6644993498049415 and parameters: {'classifier': 'GradientBoosting', 'max_depth': 6, 'min_samples_split': 5, 'min_samples_leaf': 3, 'max_features': 'log2', 'criterion': 'gini', 'n_estimators': 114, 'learning_rate': 0.17162767661720738}. Best is trial 41 with value: 0.6710013003901171.\n",
      "[I 2025-06-16 17:16:44,854] Trial 131 finished with value: 0.6625487646293888 and parameters: {'classifier': 'GradientBoosting', 'max_depth': 9, 'min_samples_split': 3, 'min_samples_leaf': 3, 'max_features': 'log2', 'criterion': 'gini', 'n_estimators': 120, 'learning_rate': 0.19944723601650435}. Best is trial 41 with value: 0.6710013003901171.\n",
      "[I 2025-06-16 17:16:45,189] Trial 132 finished with value: 0.5143042912873862 and parameters: {'classifier': 'GradientBoosting', 'max_depth': 10, 'min_samples_split': 4, 'min_samples_leaf': 3, 'max_features': 'log2', 'criterion': 'gini', 'n_estimators': 106, 'learning_rate': 0.012494779772850961}. Best is trial 41 with value: 0.6710013003901171.\n",
      "[I 2025-06-16 17:16:45,406] Trial 133 finished with value: 0.6625487646293888 and parameters: {'classifier': 'GradientBoosting', 'max_depth': 7, 'min_samples_split': 2, 'min_samples_leaf': 3, 'max_features': 'log2', 'criterion': 'gini', 'n_estimators': 116, 'learning_rate': 0.18664143086270113}. Best is trial 41 with value: 0.6710013003901171.\n",
      "[I 2025-06-16 17:16:45,671] Trial 134 finished with value: 0.6605981794538361 and parameters: {'classifier': 'GradientBoosting', 'max_depth': 8, 'min_samples_split': 5, 'min_samples_leaf': 3, 'max_features': 'log2', 'criterion': 'gini', 'n_estimators': 124, 'learning_rate': 0.19434994487289106}. Best is trial 41 with value: 0.6710013003901171.\n",
      "[I 2025-06-16 17:16:46,241] Trial 135 finished with value: 0.659297789336801 and parameters: {'classifier': 'GradientBoosting', 'max_depth': 11, 'min_samples_split': 4, 'min_samples_leaf': 4, 'max_features': 'sqrt', 'criterion': 'entropy', 'n_estimators': 199, 'learning_rate': 0.21561882584315525}. Best is trial 41 with value: 0.6710013003901171.\n",
      "[I 2025-06-16 17:16:46,394] Trial 136 finished with value: 0.6501950585175552 and parameters: {'classifier': 'GradientBoosting', 'max_depth': 5, 'min_samples_split': 5, 'min_samples_leaf': 3, 'max_features': 'log2', 'criterion': 'gini', 'n_estimators': 100, 'learning_rate': 0.1307247500138324}. Best is trial 41 with value: 0.6710013003901171.\n",
      "[I 2025-06-16 17:16:47,419] Trial 137 finished with value: 0.5962288686605982 and parameters: {'classifier': 'KNN', 'n_neighbors': 5, 'weights': 'uniform', 'algorithm': 'kd_tree', 'leaf_size': 22, 'p': 2}. Best is trial 41 with value: 0.6710013003901171.\n",
      "[I 2025-06-16 17:16:47,756] Trial 138 finished with value: 0.6618985695708712 and parameters: {'classifier': 'GradientBoosting', 'max_depth': 8, 'min_samples_split': 3, 'min_samples_leaf': 4, 'max_features': 'log2', 'criterion': 'gini', 'n_estimators': 131, 'learning_rate': 0.11478641333607208}. Best is trial 41 with value: 0.6710013003901171.\n",
      "[I 2025-06-16 17:16:48,252] Trial 139 finished with value: 0.6482444733420026 and parameters: {'classifier': 'GradientBoosting', 'max_depth': 16, 'min_samples_split': 9, 'min_samples_leaf': 3, 'max_features': 'log2', 'criterion': 'gini', 'n_estimators': 110, 'learning_rate': 0.22077823099443344}. Best is trial 41 with value: 0.6710013003901171.\n",
      "[I 2025-06-16 17:16:48,261] Trial 140 finished with value: 0.3433029908972692 and parameters: {'classifier': 'NaiveBayes', 'var_smoothing': 4.3924741403850584e-08}. Best is trial 41 with value: 0.6710013003901171.\n",
      "[I 2025-06-16 17:16:48,564] Trial 141 finished with value: 0.6618985695708712 and parameters: {'classifier': 'GradientBoosting', 'max_depth': 7, 'min_samples_split': 5, 'min_samples_leaf': 3, 'max_features': 'log2', 'criterion': 'gini', 'n_estimators': 168, 'learning_rate': 0.20716126388604825}. Best is trial 41 with value: 0.6710013003901171.\n",
      "[I 2025-06-16 17:16:48,780] Trial 142 finished with value: 0.6644993498049415 and parameters: {'classifier': 'GradientBoosting', 'max_depth': 6, 'min_samples_split': 5, 'min_samples_leaf': 3, 'max_features': 'log2', 'criterion': 'gini', 'n_estimators': 128, 'learning_rate': 0.22916253595962618}. Best is trial 41 with value: 0.6710013003901171.\n",
      "[I 2025-06-16 17:16:49,113] Trial 143 finished with value: 0.6690507152145644 and parameters: {'classifier': 'GradientBoosting', 'max_depth': 9, 'min_samples_split': 4, 'min_samples_leaf': 3, 'max_features': 'log2', 'criterion': 'gini', 'n_estimators': 142, 'learning_rate': 0.1902007020752986}. Best is trial 41 with value: 0.6710013003901171.\n",
      "[I 2025-06-16 17:16:49,458] Trial 144 finished with value: 0.6599479843953185 and parameters: {'classifier': 'GradientBoosting', 'max_depth': 9, 'min_samples_split': 4, 'min_samples_leaf': 3, 'max_features': 'log2', 'criterion': 'gini', 'n_estimators': 147, 'learning_rate': 0.18716090217050385}. Best is trial 41 with value: 0.6710013003901171.\n",
      "[I 2025-06-16 17:16:49,818] Trial 145 finished with value: 0.6547464239271782 and parameters: {'classifier': 'GradientBoosting', 'max_depth': 10, 'min_samples_split': 6, 'min_samples_leaf': 4, 'max_features': 'log2', 'criterion': 'gini', 'n_estimators': 136, 'learning_rate': 0.17905068413750325}. Best is trial 41 with value: 0.6710013003901171.\n",
      "[I 2025-06-16 17:16:50,139] Trial 146 finished with value: 0.6625487646293888 and parameters: {'classifier': 'GradientBoosting', 'max_depth': 8, 'min_samples_split': 8, 'min_samples_leaf': 3, 'max_features': 'log2', 'criterion': 'gini', 'n_estimators': 155, 'learning_rate': 0.20265082797384631}. Best is trial 41 with value: 0.6710013003901171.\n",
      "[I 2025-06-16 17:16:50,430] Trial 147 finished with value: 0.6625487646293888 and parameters: {'classifier': 'GradientBoosting', 'max_depth': 9, 'min_samples_split': 3, 'min_samples_leaf': 1, 'max_features': 'sqrt', 'criterion': 'gini', 'n_estimators': 120, 'learning_rate': 0.16647440811088338}. Best is trial 41 with value: 0.6710013003901171.\n",
      "[I 2025-06-16 17:16:50,660] Trial 148 finished with value: 0.6605981794538361 and parameters: {'classifier': 'GradientBoosting', 'max_depth': 6, 'min_samples_split': 6, 'min_samples_leaf': 3, 'max_features': 'log2', 'criterion': 'gini', 'n_estimators': 142, 'learning_rate': 0.12289911569165177}. Best is trial 41 with value: 0.6710013003901171.\n",
      "[I 2025-06-16 17:16:50,890] Trial 149 finished with value: 0.4596879063719116 and parameters: {'classifier': 'LogisticRegression', 'solver': 'saga', 'penalty-saga': None, 'l1_ratio': 0.15777022112148634, 'C': 0.05025127171449838, 'max_iter': 178}. Best is trial 41 with value: 0.6710013003901171.\n",
      "[I 2025-06-16 17:16:50,920] Trial 150 finished with value: 0.5955786736020806 and parameters: {'classifier': 'DecisionTree', 'max_depth': 12, 'min_samples_split': 4, 'min_samples_leaf': 3, 'max_features': 'log2', 'criterion': 'gini'}. Best is trial 41 with value: 0.6710013003901171.\n",
      "[I 2025-06-16 17:16:51,155] Trial 151 finished with value: 0.6618985695708712 and parameters: {'classifier': 'GradientBoosting', 'max_depth': 7, 'min_samples_split': 5, 'min_samples_leaf': 3, 'max_features': 'log2', 'criterion': 'gini', 'n_estimators': 125, 'learning_rate': 0.19036756723755624}. Best is trial 41 with value: 0.6710013003901171.\n",
      "[I 2025-06-16 17:16:51,432] Trial 152 finished with value: 0.5968790637191157 and parameters: {'classifier': 'GradientBoosting', 'max_depth': 8, 'min_samples_split': 8, 'min_samples_leaf': 3, 'max_features': 'log2', 'criterion': 'gini', 'n_estimators': 114, 'learning_rate': 0.029584640447835625}. Best is trial 41 with value: 0.6710013003901171.\n",
      "[I 2025-06-16 17:16:51,673] Trial 153 finished with value: 0.6664499349804941 and parameters: {'classifier': 'GradientBoosting', 'max_depth': 7, 'min_samples_split': 5, 'min_samples_leaf': 3, 'max_features': 'log2', 'criterion': 'gini', 'n_estimators': 131, 'learning_rate': 0.2113671964801898}. Best is trial 41 with value: 0.6710013003901171.\n",
      "[I 2025-06-16 17:16:51,859] Trial 154 finished with value: 0.6527958387516255 and parameters: {'classifier': 'GradientBoosting', 'max_depth': 5, 'min_samples_split': 7, 'min_samples_leaf': 3, 'max_features': 'log2', 'criterion': 'gini', 'n_estimators': 132, 'learning_rate': 0.1391925745457428}. Best is trial 41 with value: 0.6710013003901171.\n",
      "[I 2025-06-16 17:16:52,106] Trial 155 finished with value: 0.6677503250975293 and parameters: {'classifier': 'GradientBoosting', 'max_depth': 7, 'min_samples_split': 4, 'min_samples_leaf': 4, 'max_features': 'log2', 'criterion': 'gini', 'n_estimators': 135, 'learning_rate': 0.19929299226942407}. Best is trial 41 with value: 0.6710013003901171.\n",
      "[I 2025-06-16 17:16:52,358] Trial 156 finished with value: 0.6710013003901171 and parameters: {'classifier': 'GradientBoosting', 'max_depth': 7, 'min_samples_split': 6, 'min_samples_leaf': 4, 'max_features': 'log2', 'criterion': 'gini', 'n_estimators': 138, 'learning_rate': 0.2122817229138612}. Best is trial 41 with value: 0.6710013003901171.\n",
      "[I 2025-06-16 17:16:52,605] Trial 157 finished with value: 0.6605981794538361 and parameters: {'classifier': 'GradientBoosting', 'max_depth': 7, 'min_samples_split': 6, 'min_samples_leaf': 4, 'max_features': 'log2', 'criterion': 'gini', 'n_estimators': 134, 'learning_rate': 0.21167982941147462}. Best is trial 41 with value: 0.6710013003901171.\n",
      "[I 2025-06-16 17:16:52,824] Trial 158 finished with value: 0.6690507152145644 and parameters: {'classifier': 'GradientBoosting', 'max_depth': 6, 'min_samples_split': 6, 'min_samples_leaf': 4, 'max_features': 'log2', 'criterion': 'gini', 'n_estimators': 137, 'learning_rate': 0.1987663606553855}. Best is trial 41 with value: 0.6710013003901171.\n",
      "[I 2025-06-16 17:16:54,301] Trial 159 finished with value: 0.6267880364109233 and parameters: {'classifier': 'RandomForest', 'rf_max_depth': 24, 'rf_min_samples_split': 5, 'rf_min_samples_leaf': 4, 'rf_max_features': 'log2', 'rf_criterion': 'entropy', 'rf_n_estimators': 95}. Best is trial 41 with value: 0.6710013003901171.\n",
      "[I 2025-06-16 17:16:54,559] Trial 160 finished with value: 0.6625487646293888 and parameters: {'classifier': 'GradientBoosting', 'max_depth': 7, 'min_samples_split': 6, 'min_samples_leaf': 4, 'max_features': 'log2', 'criterion': 'gini', 'n_estimators': 141, 'learning_rate': 0.2196614427483315}. Best is trial 41 with value: 0.6710013003901171.\n",
      "[I 2025-06-16 17:16:54,782] Trial 161 finished with value: 0.6605981794538361 and parameters: {'classifier': 'GradientBoosting', 'max_depth': 6, 'min_samples_split': 6, 'min_samples_leaf': 4, 'max_features': 'log2', 'criterion': 'gini', 'n_estimators': 138, 'learning_rate': 0.22885588842215962}. Best is trial 41 with value: 0.6710013003901171.\n",
      "[I 2025-06-16 17:16:54,998] Trial 162 finished with value: 0.6625487646293888 and parameters: {'classifier': 'GradientBoosting', 'max_depth': 6, 'min_samples_split': 6, 'min_samples_leaf': 4, 'max_features': 'log2', 'criterion': 'gini', 'n_estimators': 130, 'learning_rate': 0.20017015086353085}. Best is trial 41 with value: 0.6710013003901171.\n",
      "[I 2025-06-16 17:16:55,700] Trial 163 finished with value: 0.64629388816645 and parameters: {'classifier': 'GradientBoosting', 'max_depth': 19, 'min_samples_split': 5, 'min_samples_leaf': 4, 'max_features': 'log2', 'criterion': 'gini', 'n_estimators': 135, 'learning_rate': 0.20494286613988266}. Best is trial 41 with value: 0.6710013003901171.\n",
      "[I 2025-06-16 17:16:55,865] Trial 164 finished with value: 0.657997399219766 and parameters: {'classifier': 'GradientBoosting', 'max_depth': 4, 'min_samples_split': 6, 'min_samples_leaf': 4, 'max_features': 'log2', 'criterion': 'gini', 'n_estimators': 138, 'learning_rate': 0.19482089590721186}. Best is trial 41 with value: 0.6710013003901171.\n",
      "[I 2025-06-16 17:16:56,124] Trial 165 finished with value: 0.6638491547464239 and parameters: {'classifier': 'GradientBoosting', 'max_depth': 8, 'min_samples_split': 5, 'min_samples_leaf': 4, 'max_features': 'log2', 'criterion': 'entropy', 'n_estimators': 123, 'learning_rate': 0.21161711073314413}. Best is trial 41 with value: 0.6710013003901171.\n",
      "[I 2025-06-16 17:16:56,305] Trial 166 finished with value: 0.6495448634590377 and parameters: {'classifier': 'GradientBoosting', 'max_depth': 5, 'min_samples_split': 7, 'min_samples_leaf': 4, 'max_features': 'log2', 'criterion': 'gini', 'n_estimators': 127, 'learning_rate': 0.1041023219837799}. Best is trial 41 with value: 0.6710013003901171.\n",
      "[I 2025-06-16 17:16:56,527] Trial 167 finished with value: 0.6625487646293888 and parameters: {'classifier': 'GradientBoosting', 'max_depth': 7, 'min_samples_split': 8, 'min_samples_leaf': 4, 'max_features': 'log2', 'criterion': 'gini', 'n_estimators': 119, 'learning_rate': 0.18324244477144094}. Best is trial 41 with value: 0.6710013003901171.\n",
      "[I 2025-06-16 17:16:56,824] Trial 168 finished with value: 0.6703511053315995 and parameters: {'classifier': 'GradientBoosting', 'max_depth': 8, 'min_samples_split': 6, 'min_samples_leaf': 4, 'max_features': 'log2', 'criterion': 'gini', 'n_estimators': 143, 'learning_rate': 0.15413522056362094}. Best is trial 41 with value: 0.6710013003901171.\n",
      "[I 2025-06-16 17:16:57,126] Trial 169 finished with value: 0.6605981794538361 and parameters: {'classifier': 'GradientBoosting', 'max_depth': 8, 'min_samples_split': 6, 'min_samples_leaf': 4, 'max_features': 'log2', 'criterion': 'gini', 'n_estimators': 140, 'learning_rate': 0.2178915294754562}. Best is trial 41 with value: 0.6710013003901171.\n",
      "[I 2025-06-16 17:16:57,475] Trial 170 finished with value: 0.6599479843953185 and parameters: {'classifier': 'GradientBoosting', 'max_depth': 9, 'min_samples_split': 6, 'min_samples_leaf': 3, 'max_features': 'log2', 'criterion': 'gini', 'n_estimators': 150, 'learning_rate': 0.15660229602385967}. Best is trial 41 with value: 0.6710013003901171.\n",
      "[I 2025-06-16 17:16:57,742] Trial 171 finished with value: 0.6631989596879063 and parameters: {'classifier': 'GradientBoosting', 'max_depth': 7, 'min_samples_split': 6, 'min_samples_leaf': 4, 'max_features': 'log2', 'criterion': 'gini', 'n_estimators': 143, 'learning_rate': 0.15006791201388775}. Best is trial 41 with value: 0.6710013003901171.\n",
      "[I 2025-06-16 17:16:58,027] Trial 172 finished with value: 0.659297789336801 and parameters: {'classifier': 'GradientBoosting', 'max_depth': 8, 'min_samples_split': 9, 'min_samples_leaf': 4, 'max_features': 'log2', 'criterion': 'gini', 'n_estimators': 134, 'learning_rate': 0.19813530833852908}. Best is trial 41 with value: 0.6710013003901171.\n",
      "[I 2025-06-16 17:16:58,274] Trial 173 finished with value: 0.6638491547464239 and parameters: {'classifier': 'GradientBoosting', 'max_depth': 7, 'min_samples_split': 6, 'min_samples_leaf': 4, 'max_features': 'log2', 'criterion': 'gini', 'n_estimators': 130, 'learning_rate': 0.20683961557559546}. Best is trial 41 with value: 0.6710013003901171.\n",
      "[I 2025-06-16 17:16:58,473] Trial 174 finished with value: 0.6599479843953185 and parameters: {'classifier': 'GradientBoosting', 'max_depth': 6, 'min_samples_split': 10, 'min_samples_leaf': 4, 'max_features': 'log2', 'criterion': 'gini', 'n_estimators': 122, 'learning_rate': 0.19288693581875854}. Best is trial 41 with value: 0.6710013003901171.\n",
      "[I 2025-06-16 17:16:58,850] Trial 175 finished with value: 0.6079323797139142 and parameters: {'classifier': 'KNN', 'n_neighbors': 15, 'weights': 'distance', 'algorithm': 'brute', 'leaf_size': 43, 'p': 1}. Best is trial 41 with value: 0.6710013003901171.\n",
      "[I 2025-06-16 17:16:59,197] Trial 176 finished with value: 0.6684005201560468 and parameters: {'classifier': 'GradientBoosting', 'max_depth': 6, 'min_samples_split': 6, 'min_samples_leaf': 4, 'max_features': 'log2', 'criterion': 'gini', 'n_estimators': 137, 'learning_rate': 0.1762454945441842}. Best is trial 41 with value: 0.6710013003901171.\n",
      "[I 2025-06-16 17:16:59,542] Trial 177 finished with value: 0.6599479843953185 and parameters: {'classifier': 'GradientBoosting', 'max_depth': 9, 'min_samples_split': 6, 'min_samples_leaf': 4, 'max_features': 'log2', 'criterion': 'gini', 'n_estimators': 146, 'learning_rate': 0.17481199262009278}. Best is trial 41 with value: 0.6710013003901171.\n",
      "[I 2025-06-16 17:16:59,830] Trial 178 finished with value: 0.6586475942782835 and parameters: {'classifier': 'GradientBoosting', 'max_depth': 8, 'min_samples_split': 6, 'min_samples_leaf': 3, 'max_features': 'log2', 'criterion': 'gini', 'n_estimators': 138, 'learning_rate': 0.1838796798926398}. Best is trial 41 with value: 0.6710013003901171.\n",
      "[I 2025-06-16 17:17:00,084] Trial 179 finished with value: 0.6710013003901171 and parameters: {'classifier': 'GradientBoosting', 'max_depth': 7, 'min_samples_split': 8, 'min_samples_leaf': 4, 'max_features': 'log2', 'criterion': 'gini', 'n_estimators': 135, 'learning_rate': 0.1781658167308868}. Best is trial 41 with value: 0.6710013003901171.\n",
      "[I 2025-06-16 17:17:00,094] Trial 180 finished with value: 0.3433029908972692 and parameters: {'classifier': 'NaiveBayes', 'var_smoothing': 1.277511520098267e-10}. Best is trial 41 with value: 0.6710013003901171.\n",
      "[I 2025-06-16 17:17:00,347] Trial 181 finished with value: 0.6677503250975293 and parameters: {'classifier': 'GradientBoosting', 'max_depth': 7, 'min_samples_split': 8, 'min_samples_leaf': 4, 'max_features': 'log2', 'criterion': 'gini', 'n_estimators': 135, 'learning_rate': 0.17564365413174007}. Best is trial 41 with value: 0.6710013003901171.\n",
      "[I 2025-06-16 17:17:00,603] Trial 182 finished with value: 0.6657997399219766 and parameters: {'classifier': 'GradientBoosting', 'max_depth': 7, 'min_samples_split': 8, 'min_samples_leaf': 4, 'max_features': 'log2', 'criterion': 'gini', 'n_estimators': 136, 'learning_rate': 0.16540317564041718}. Best is trial 41 with value: 0.6710013003901171.\n",
      "[I 2025-06-16 17:17:00,835] Trial 183 finished with value: 0.6657997399219766 and parameters: {'classifier': 'GradientBoosting', 'max_depth': 6, 'min_samples_split': 8, 'min_samples_leaf': 4, 'max_features': 'log2', 'criterion': 'gini', 'n_estimators': 141, 'learning_rate': 0.1730742943250896}. Best is trial 41 with value: 0.6710013003901171.\n",
      "[I 2025-06-16 17:17:01,036] Trial 184 finished with value: 0.665149544863459 and parameters: {'classifier': 'GradientBoosting', 'max_depth': 5, 'min_samples_split': 8, 'min_samples_leaf': 4, 'max_features': 'log2', 'criterion': 'gini', 'n_estimators': 144, 'learning_rate': 0.17885838173870686}. Best is trial 41 with value: 0.6710013003901171.\n",
      "[I 2025-06-16 17:17:01,407] Trial 185 finished with value: 0.6612483745123537 and parameters: {'classifier': 'GradientBoosting', 'max_depth': 8, 'min_samples_split': 8, 'min_samples_leaf': 4, 'max_features': 'log2', 'criterion': 'gini', 'n_estimators': 181, 'learning_rate': 0.1547698910667835}. Best is trial 41 with value: 0.6710013003901171.\n",
      "[I 2025-06-16 17:17:01,690] Trial 186 finished with value: 0.6657997399219766 and parameters: {'classifier': 'GradientBoosting', 'max_depth': 8, 'min_samples_split': 8, 'min_samples_leaf': 4, 'max_features': 'log2', 'criterion': 'gini', 'n_estimators': 133, 'learning_rate': 0.16178607526246372}. Best is trial 41 with value: 0.6710013003901171.\n",
      "[I 2025-06-16 17:17:01,900] Trial 187 finished with value: 0.6644993498049415 and parameters: {'classifier': 'GradientBoosting', 'max_depth': 6, 'min_samples_split': 8, 'min_samples_leaf': 4, 'max_features': 'log2', 'criterion': 'gini', 'n_estimators': 127, 'learning_rate': 0.19134662928445048}. Best is trial 41 with value: 0.6710013003901171.\n",
      "[I 2025-06-16 17:17:02,159] Trial 188 finished with value: 0.6664499349804941 and parameters: {'classifier': 'GradientBoosting', 'max_depth': 7, 'min_samples_split': 8, 'min_samples_leaf': 4, 'max_features': 'log2', 'criterion': 'gini', 'n_estimators': 138, 'learning_rate': 0.1783497006393981}. Best is trial 41 with value: 0.6710013003901171.\n",
      "[I 2025-06-16 17:17:02,218] Trial 189 finished with value: 0.459037711313394 and parameters: {'classifier': 'LogisticRegression', 'solver': 'newton-cg', 'penalty': 'l2', 'l1_ratio': 0.33778415107391524, 'C': 1.1646135304115053, 'max_iter': 390}. Best is trial 41 with value: 0.6710013003901171.\n",
      "[I 2025-06-16 17:17:02,245] Trial 190 finished with value: 0.5929778933680104 and parameters: {'classifier': 'DecisionTree', 'max_depth': 9, 'min_samples_split': 6, 'min_samples_leaf': 4, 'max_features': 'log2', 'criterion': 'gini'}. Best is trial 41 with value: 0.6710013003901171.\n",
      "[I 2025-06-16 17:17:02,492] Trial 191 finished with value: 0.6631989596879063 and parameters: {'classifier': 'GradientBoosting', 'max_depth': 7, 'min_samples_split': 6, 'min_samples_leaf': 3, 'max_features': 'log2', 'criterion': 'gini', 'n_estimators': 132, 'learning_rate': 0.20019318147262777}. Best is trial 41 with value: 0.6710013003901171.\n",
      "[I 2025-06-16 17:17:02,710] Trial 192 finished with value: 0.6631989596879063 and parameters: {'classifier': 'GradientBoosting', 'max_depth': 6, 'min_samples_split': 8, 'min_samples_leaf': 3, 'max_features': 'log2', 'criterion': 'gini', 'n_estimators': 130, 'learning_rate': 0.1413130671772698}. Best is trial 41 with value: 0.6710013003901171.\n",
      "[I 2025-06-16 17:17:02,943] Trial 193 finished with value: 0.6612483745123537 and parameters: {'classifier': 'GradientBoosting', 'max_depth': 7, 'min_samples_split': 7, 'min_samples_leaf': 4, 'max_features': 'log2', 'criterion': 'gini', 'n_estimators': 125, 'learning_rate': 0.2984528083679797}. Best is trial 41 with value: 0.6710013003901171.\n",
      "[I 2025-06-16 17:17:03,224] Trial 194 finished with value: 0.6553966189856957 and parameters: {'classifier': 'GradientBoosting', 'max_depth': 8, 'min_samples_split': 5, 'min_samples_leaf': 3, 'max_features': 'log2', 'criterion': 'gini', 'n_estimators': 135, 'learning_rate': 0.21416110532324717}. Best is trial 41 with value: 0.6710013003901171.\n",
      "[I 2025-06-16 17:17:03,506] Trial 195 finished with value: 0.6586475942782835 and parameters: {'classifier': 'GradientBoosting', 'max_depth': 9, 'min_samples_split': 6, 'min_samples_leaf': 4, 'max_features': 'log2', 'criterion': 'gini', 'n_estimators': 115, 'learning_rate': 0.16947991742162744}. Best is trial 41 with value: 0.6710013003901171.\n",
      "[I 2025-06-16 17:17:03,746] Trial 196 finished with value: 0.6644993498049415 and parameters: {'classifier': 'GradientBoosting', 'max_depth': 7, 'min_samples_split': 4, 'min_samples_leaf': 3, 'max_features': 'log2', 'criterion': 'entropy', 'n_estimators': 129, 'learning_rate': 0.18708930713226432}. Best is trial 41 with value: 0.6710013003901171.\n",
      "[I 2025-06-16 17:17:05,172] Trial 197 finished with value: 0.5403120936280884 and parameters: {'classifier': 'RandomForest', 'rf_max_depth': 8, 'rf_min_samples_split': 8, 'rf_min_samples_leaf': 2, 'rf_max_features': 'sqrt', 'rf_criterion': 'gini', 'rf_n_estimators': 161}. Best is trial 41 with value: 0.6710013003901171.\n",
      "[I 2025-06-16 17:17:05,397] Trial 198 finished with value: 0.665149544863459 and parameters: {'classifier': 'GradientBoosting', 'max_depth': 6, 'min_samples_split': 6, 'min_samples_leaf': 2, 'max_features': 'log2', 'criterion': 'gini', 'n_estimators': 139, 'learning_rate': 0.20684825697463083}. Best is trial 41 with value: 0.6710013003901171.\n",
      "[I 2025-06-16 17:17:05,697] Trial 199 finished with value: 0.6638491547464239 and parameters: {'classifier': 'GradientBoosting', 'max_depth': 8, 'min_samples_split': 5, 'min_samples_leaf': 4, 'max_features': 'log2', 'criterion': 'gini', 'n_estimators': 143, 'learning_rate': 0.19941584329211248}. Best is trial 41 with value: 0.6710013003901171.\n",
      "[I 2025-06-16 17:17:05,907] Trial 200 finished with value: 0.6677503250975293 and parameters: {'classifier': 'GradientBoosting', 'max_depth': 7, 'min_samples_split': 8, 'min_samples_leaf': 3, 'max_features': 'log2', 'criterion': 'gini', 'n_estimators': 108, 'learning_rate': 0.19272113064044555}. Best is trial 41 with value: 0.6710013003901171.\n",
      "[I 2025-06-16 17:17:06,114] Trial 201 finished with value: 0.6684005201560468 and parameters: {'classifier': 'GradientBoosting', 'max_depth': 7, 'min_samples_split': 8, 'min_samples_leaf': 3, 'max_features': 'log2', 'criterion': 'gini', 'n_estimators': 108, 'learning_rate': 0.19136086566314459}. Best is trial 41 with value: 0.6710013003901171.\n",
      "[I 2025-06-16 17:17:06,289] Trial 202 finished with value: 0.6684005201560468 and parameters: {'classifier': 'GradientBoosting', 'max_depth': 6, 'min_samples_split': 8, 'min_samples_leaf': 3, 'max_features': 'log2', 'criterion': 'gini', 'n_estimators': 103, 'learning_rate': 0.1921205115797398}. Best is trial 41 with value: 0.6710013003901171.\n",
      "[I 2025-06-16 17:17:06,464] Trial 203 finished with value: 0.6599479843953185 and parameters: {'classifier': 'GradientBoosting', 'max_depth': 6, 'min_samples_split': 8, 'min_samples_leaf': 3, 'max_features': 'log2', 'criterion': 'gini', 'n_estimators': 105, 'learning_rate': 0.19254266702353184}. Best is trial 41 with value: 0.6710013003901171.\n",
      "[I 2025-06-16 17:17:06,617] Trial 204 finished with value: 0.6547464239271782 and parameters: {'classifier': 'GradientBoosting', 'max_depth': 5, 'min_samples_split': 8, 'min_samples_leaf': 3, 'max_features': 'log2', 'criterion': 'gini', 'n_estimators': 102, 'learning_rate': 0.18202879667455757}. Best is trial 41 with value: 0.6710013003901171.\n",
      "[I 2025-06-16 17:17:06,756] Trial 205 finished with value: 0.6449934980494149 and parameters: {'classifier': 'GradientBoosting', 'max_depth': 4, 'min_samples_split': 8, 'min_samples_leaf': 3, 'max_features': 'log2', 'criterion': 'gini', 'n_estimators': 111, 'learning_rate': 0.18708259582923648}. Best is trial 41 with value: 0.6710013003901171.\n",
      "[I 2025-06-16 17:17:06,995] Trial 206 finished with value: 0.6781534460338101 and parameters: {'classifier': 'GradientBoosting', 'max_depth': 8, 'min_samples_split': 8, 'min_samples_leaf': 3, 'max_features': 'log2', 'criterion': 'gini', 'n_estimators': 109, 'learning_rate': 0.1967854241678798}. Best is trial 206 with value: 0.6781534460338101.\n",
      "[I 2025-06-16 17:17:07,247] Trial 207 finished with value: 0.6573472041612484 and parameters: {'classifier': 'GradientBoosting', 'max_depth': 9, 'min_samples_split': 8, 'min_samples_leaf': 3, 'max_features': 'log2', 'criterion': 'gini', 'n_estimators': 103, 'learning_rate': 0.19453369940573112}. Best is trial 206 with value: 0.6781534460338101.\n",
      "[I 2025-06-16 17:17:07,479] Trial 208 finished with value: 0.6690507152145644 and parameters: {'classifier': 'GradientBoosting', 'max_depth': 8, 'min_samples_split': 8, 'min_samples_leaf': 4, 'max_features': 'log2', 'criterion': 'gini', 'n_estimators': 107, 'learning_rate': 0.19692606603483986}. Best is trial 206 with value: 0.6781534460338101.\n",
      "[I 2025-06-16 17:17:08,285] Trial 209 finished with value: 0.6404421326397919 and parameters: {'classifier': 'GradientBoosting', 'max_depth': 27, 'min_samples_split': 8, 'min_samples_leaf': 4, 'max_features': 'log2', 'criterion': 'gini', 'n_estimators': 108, 'learning_rate': 0.1889770629199093}. Best is trial 206 with value: 0.6781534460338101.\n",
      "[I 2025-06-16 17:17:08,517] Trial 210 finished with value: 0.6723016905071522 and parameters: {'classifier': 'GradientBoosting', 'max_depth': 8, 'min_samples_split': 8, 'min_samples_leaf': 3, 'max_features': 'log2', 'criterion': 'gini', 'n_estimators': 108, 'learning_rate': 0.19778908661354155}. Best is trial 206 with value: 0.6781534460338101.\n",
      "[I 2025-06-16 17:17:08,745] Trial 211 finished with value: 0.6612483745123537 and parameters: {'classifier': 'GradientBoosting', 'max_depth': 8, 'min_samples_split': 8, 'min_samples_leaf': 3, 'max_features': 'log2', 'criterion': 'gini', 'n_estimators': 107, 'learning_rate': 0.2030966941080279}. Best is trial 206 with value: 0.6781534460338101.\n",
      "[I 2025-06-16 17:17:08,936] Trial 212 finished with value: 0.6553966189856957 and parameters: {'classifier': 'GradientBoosting', 'max_depth': 7, 'min_samples_split': 8, 'min_samples_leaf': 3, 'max_features': 'log2', 'criterion': 'gini', 'n_estimators': 96, 'learning_rate': 0.19633763570693982}. Best is trial 206 with value: 0.6781534460338101.\n",
      "[I 2025-06-16 17:17:09,174] Trial 213 finished with value: 0.6664499349804941 and parameters: {'classifier': 'GradientBoosting', 'max_depth': 8, 'min_samples_split': 8, 'min_samples_leaf': 3, 'max_features': 'log2', 'criterion': 'gini', 'n_estimators': 111, 'learning_rate': 0.18329603039468106}. Best is trial 206 with value: 0.6781534460338101.\n",
      "[I 2025-06-16 17:17:09,377] Trial 214 finished with value: 0.6697009102730819 and parameters: {'classifier': 'GradientBoosting', 'max_depth': 7, 'min_samples_split': 8, 'min_samples_leaf': 3, 'max_features': 'log2', 'criterion': 'gini', 'n_estimators': 106, 'learning_rate': 0.19142977073817258}. Best is trial 206 with value: 0.6781534460338101.\n",
      "[I 2025-06-16 17:17:09,631] Trial 215 finished with value: 0.6573472041612484 and parameters: {'classifier': 'GradientBoosting', 'max_depth': 9, 'min_samples_split': 8, 'min_samples_leaf': 3, 'max_features': 'log2', 'criterion': 'gini', 'n_estimators': 98, 'learning_rate': 0.1768274205161644}. Best is trial 206 with value: 0.6781534460338101.\n",
      "[I 2025-06-16 17:17:09,916] Trial 216 finished with value: 0.6716514954486346 and parameters: {'classifier': 'GradientBoosting', 'max_depth': 8, 'min_samples_split': 8, 'min_samples_leaf': 3, 'max_features': 'log2', 'criterion': 'gini', 'n_estimators': 104, 'learning_rate': 0.19959816583658385}. Best is trial 206 with value: 0.6781534460338101.\n",
      "[I 2025-06-16 17:17:10,268] Trial 217 finished with value: 0.6618985695708712 and parameters: {'classifier': 'GradientBoosting', 'max_depth': 10, 'min_samples_split': 7, 'min_samples_leaf': 3, 'max_features': 'log2', 'criterion': 'gini', 'n_estimators': 104, 'learning_rate': 0.19820115785369588}. Best is trial 206 with value: 0.6781534460338101.\n",
      "[I 2025-06-16 17:17:10,515] Trial 218 finished with value: 0.6605981794538361 and parameters: {'classifier': 'GradientBoosting', 'max_depth': 8, 'min_samples_split': 8, 'min_samples_leaf': 3, 'max_features': 'log2', 'criterion': 'gini', 'n_estimators': 101, 'learning_rate': 0.20400333049394528}. Best is trial 206 with value: 0.6781534460338101.\n",
      "[I 2025-06-16 17:17:10,776] Trial 219 finished with value: 0.6560468140442133 and parameters: {'classifier': 'GradientBoosting', 'max_depth': 9, 'min_samples_split': 8, 'min_samples_leaf': 3, 'max_features': 'log2', 'criterion': 'gini', 'n_estimators': 90, 'learning_rate': 0.18888886324677184}. Best is trial 206 with value: 0.6781534460338101.\n",
      "[I 2025-06-16 17:17:11,671] Trial 220 finished with value: 0.5988296488946684 and parameters: {'classifier': 'KNN', 'n_neighbors': 6, 'weights': 'distance', 'algorithm': 'auto', 'leaf_size': 26, 'p': 2}. Best is trial 206 with value: 0.6781534460338101.\n",
      "[I 2025-06-16 17:17:11,912] Trial 221 finished with value: 0.6618985695708712 and parameters: {'classifier': 'GradientBoosting', 'max_depth': 8, 'min_samples_split': 8, 'min_samples_leaf': 3, 'max_features': 'log2', 'criterion': 'gini', 'n_estimators': 113, 'learning_rate': 0.197748506131504}. Best is trial 206 with value: 0.6781534460338101.\n",
      "[I 2025-06-16 17:17:12,096] Trial 222 finished with value: 0.6664499349804941 and parameters: {'classifier': 'GradientBoosting', 'max_depth': 6, 'min_samples_split': 8, 'min_samples_leaf': 4, 'max_features': 'log2', 'criterion': 'gini', 'n_estimators': 106, 'learning_rate': 0.18590112091279132}. Best is trial 206 with value: 0.6781534460338101.\n",
      "[I 2025-06-16 17:17:12,310] Trial 223 finished with value: 0.6599479843953185 and parameters: {'classifier': 'GradientBoosting', 'max_depth': 7, 'min_samples_split': 8, 'min_samples_leaf': 3, 'max_features': 'log2', 'criterion': 'gini', 'n_estimators': 110, 'learning_rate': 0.20624065533644326}. Best is trial 206 with value: 0.6781534460338101.\n",
      "[I 2025-06-16 17:17:12,546] Trial 224 finished with value: 0.6677503250975293 and parameters: {'classifier': 'GradientBoosting', 'max_depth': 8, 'min_samples_split': 8, 'min_samples_leaf': 3, 'max_features': 'log2', 'criterion': 'gini', 'n_estimators': 107, 'learning_rate': 0.14603755922881623}. Best is trial 206 with value: 0.6781534460338101.\n",
      "[I 2025-06-16 17:17:12,739] Trial 225 finished with value: 0.6618985695708712 and parameters: {'classifier': 'GradientBoosting', 'max_depth': 6, 'min_samples_split': 9, 'min_samples_leaf': 4, 'max_features': 'log2', 'criterion': 'gini', 'n_estimators': 116, 'learning_rate': 0.19284092075130196}. Best is trial 206 with value: 0.6781534460338101.\n",
      "[I 2025-06-16 17:17:12,956] Trial 226 finished with value: 0.6671001300390117 and parameters: {'classifier': 'GradientBoosting', 'max_depth': 7, 'min_samples_split': 8, 'min_samples_leaf': 3, 'max_features': 'log2', 'criterion': 'gini', 'n_estimators': 113, 'learning_rate': 0.18186913531035132}. Best is trial 206 with value: 0.6781534460338101.\n",
      "[I 2025-06-16 17:17:13,192] Trial 227 finished with value: 0.6644993498049415 and parameters: {'classifier': 'GradientBoosting', 'max_depth': 8, 'min_samples_split': 4, 'min_samples_leaf': 4, 'max_features': 'log2', 'criterion': 'gini', 'n_estimators': 108, 'learning_rate': 0.20197914142236087}. Best is trial 206 with value: 0.6781534460338101.\n",
      "[I 2025-06-16 17:17:13,202] Trial 228 finished with value: 0.3433029908972692 and parameters: {'classifier': 'NaiveBayes', 'var_smoothing': 7.517331845050911e-08}. Best is trial 206 with value: 0.6781534460338101.\n",
      "[I 2025-06-16 17:17:13,458] Trial 229 finished with value: 0.657997399219766 and parameters: {'classifier': 'GradientBoosting', 'max_depth': 9, 'min_samples_split': 8, 'min_samples_leaf': 3, 'max_features': 'log2', 'criterion': 'gini', 'n_estimators': 105, 'learning_rate': 0.19573182925394436}. Best is trial 206 with value: 0.6781534460338101.\n",
      "[I 2025-06-16 17:17:13,650] Trial 230 finished with value: 0.6553966189856957 and parameters: {'classifier': 'GradientBoosting', 'max_depth': 7, 'min_samples_split': 8, 'min_samples_leaf': 4, 'max_features': 'log2', 'criterion': 'gini', 'n_estimators': 98, 'learning_rate': 0.18931667874397196}. Best is trial 206 with value: 0.6781534460338101.\n",
      "[I 2025-06-16 17:17:13,863] Trial 231 finished with value: 0.6612483745123537 and parameters: {'classifier': 'GradientBoosting', 'max_depth': 7, 'min_samples_split': 8, 'min_samples_leaf': 3, 'max_features': 'log2', 'criterion': 'gini', 'n_estimators': 110, 'learning_rate': 0.191180880072521}. Best is trial 206 with value: 0.6781534460338101.\n",
      "[I 2025-06-16 17:17:14,065] Trial 232 finished with value: 0.6742522756827048 and parameters: {'classifier': 'GradientBoosting', 'max_depth': 7, 'min_samples_split': 8, 'min_samples_leaf': 3, 'max_features': 'log2', 'criterion': 'gini', 'n_estimators': 103, 'learning_rate': 0.17300630983242446}. Best is trial 206 with value: 0.6781534460338101.\n",
      "[I 2025-06-16 17:17:14,287] Trial 233 finished with value: 0.6638491547464239 and parameters: {'classifier': 'GradientBoosting', 'max_depth': 8, 'min_samples_split': 8, 'min_samples_leaf': 3, 'max_features': 'log2', 'criterion': 'gini', 'n_estimators': 103, 'learning_rate': 0.17150067331908103}. Best is trial 206 with value: 0.6781534460338101.\n",
      "[I 2025-06-16 17:17:14,476] Trial 234 finished with value: 0.6638491547464239 and parameters: {'classifier': 'GradientBoosting', 'max_depth': 6, 'min_samples_split': 7, 'min_samples_leaf': 3, 'max_features': 'log2', 'criterion': 'gini', 'n_estimators': 112, 'learning_rate': 0.17831745974057928}. Best is trial 206 with value: 0.6781534460338101.\n",
      "[I 2025-06-16 17:17:14,691] Trial 235 finished with value: 0.6566970091027308 and parameters: {'classifier': 'GradientBoosting', 'max_depth': 8, 'min_samples_split': 8, 'min_samples_leaf': 3, 'max_features': 'log2', 'criterion': 'gini', 'n_estimators': 104, 'learning_rate': 0.16667183941137928}. Best is trial 206 with value: 0.6781534460338101.\n",
      "[I 2025-06-16 17:17:14,925] Trial 236 finished with value: 0.6671001300390117 and parameters: {'classifier': 'GradientBoosting', 'max_depth': 7, 'min_samples_split': 8, 'min_samples_leaf': 4, 'max_features': 'log2', 'criterion': 'gini', 'n_estimators': 119, 'learning_rate': 0.19990705439128748}. Best is trial 206 with value: 0.6781534460338101.\n",
      "[I 2025-06-16 17:17:15,104] Trial 237 finished with value: 0.6527958387516255 and parameters: {'classifier': 'GradientBoosting', 'max_depth': 5, 'min_samples_split': 8, 'min_samples_leaf': 3, 'max_features': 'log2', 'criterion': 'entropy', 'n_estimators': 117, 'learning_rate': 0.17445557025596112}. Best is trial 206 with value: 0.6781534460338101.\n",
      "[I 2025-06-16 17:17:15,458] Trial 238 finished with value: 0.4577373211963589 and parameters: {'classifier': 'LogisticRegression', 'solver': 'saga', 'penalty-saga': 'elasticnet', 'l1_ratio': 0.1508589992102283, 'C': 0.03359556401801456, 'max_iter': 181}. Best is trial 206 with value: 0.6781534460338101.\n",
      "[I 2025-06-16 17:17:15,720] Trial 239 finished with value: 0.6618985695708712 and parameters: {'classifier': 'GradientBoosting', 'max_depth': 6, 'min_samples_split': 8, 'min_samples_leaf': 3, 'max_features': 'log2', 'criterion': 'gini', 'n_estimators': 100, 'learning_rate': 0.18563620467814299}. Best is trial 206 with value: 0.6781534460338101.\n",
      "[I 2025-06-16 17:17:15,746] Trial 240 finished with value: 0.5604681404421327 and parameters: {'classifier': 'DecisionTree', 'max_depth': 7, 'min_samples_split': 4, 'min_samples_leaf': 4, 'max_features': 'log2', 'criterion': 'gini'}. Best is trial 206 with value: 0.6781534460338101.\n",
      "[I 2025-06-16 17:17:15,983] Trial 241 finished with value: 0.6605981794538361 and parameters: {'classifier': 'GradientBoosting', 'max_depth': 7, 'min_samples_split': 8, 'min_samples_leaf': 3, 'max_features': 'log2', 'criterion': 'gini', 'n_estimators': 107, 'learning_rate': 0.13578890890434817}. Best is trial 206 with value: 0.6781534460338101.\n",
      "[I 2025-06-16 17:17:16,217] Trial 242 finished with value: 0.6631989596879063 and parameters: {'classifier': 'GradientBoosting', 'max_depth': 7, 'min_samples_split': 8, 'min_samples_leaf': 3, 'max_features': 'log2', 'criterion': 'gini', 'n_estimators': 108, 'learning_rate': 0.19355386488179924}. Best is trial 206 with value: 0.6781534460338101.\n",
      "[I 2025-06-16 17:17:16,485] Trial 243 finished with value: 0.6560468140442133 and parameters: {'classifier': 'GradientBoosting', 'max_depth': 8, 'min_samples_split': 9, 'min_samples_leaf': 3, 'max_features': 'log2', 'criterion': 'gini', 'n_estimators': 111, 'learning_rate': 0.20657511495356978}. Best is trial 206 with value: 0.6781534460338101.\n",
      "[I 2025-06-16 17:17:16,752] Trial 244 finished with value: 0.6625487646293888 and parameters: {'classifier': 'GradientBoosting', 'max_depth': 9, 'min_samples_split': 8, 'min_samples_leaf': 3, 'max_features': 'log2', 'criterion': 'gini', 'n_estimators': 101, 'learning_rate': 0.18237275154877958}. Best is trial 206 with value: 0.6781534460338101.\n",
      "[I 2025-06-16 17:17:16,935] Trial 245 finished with value: 0.6631989596879063 and parameters: {'classifier': 'GradientBoosting', 'max_depth': 6, 'min_samples_split': 8, 'min_samples_leaf': 3, 'max_features': 'log2', 'criterion': 'gini', 'n_estimators': 109, 'learning_rate': 0.1931820864300264}. Best is trial 206 with value: 0.6781534460338101.\n",
      "[I 2025-06-16 17:17:17,154] Trial 246 finished with value: 0.6605981794538361 and parameters: {'classifier': 'GradientBoosting', 'max_depth': 7, 'min_samples_split': 8, 'min_samples_leaf': 3, 'max_features': 'log2', 'criterion': 'gini', 'n_estimators': 115, 'learning_rate': 0.15884405385307077}. Best is trial 206 with value: 0.6781534460338101.\n",
      "[I 2025-06-16 17:17:17,441] Trial 247 finished with value: 0.6618985695708712 and parameters: {'classifier': 'GradientBoosting', 'max_depth': 8, 'min_samples_split': 8, 'min_samples_leaf': 4, 'max_features': 'log2', 'criterion': 'gini', 'n_estimators': 137, 'learning_rate': 0.19525714627981539}. Best is trial 206 with value: 0.6781534460338101.\n",
      "[I 2025-06-16 17:17:18,953] Trial 248 finished with value: 0.6339401820546163 and parameters: {'classifier': 'RandomForest', 'rf_max_depth': 26, 'rf_min_samples_split': 8, 'rf_min_samples_leaf': 3, 'rf_max_features': 'log2', 'rf_criterion': 'entropy', 'rf_n_estimators': 99}. Best is trial 206 with value: 0.6781534460338101.\n",
      "[I 2025-06-16 17:17:19,180] Trial 249 finished with value: 0.6599479843953185 and parameters: {'classifier': 'GradientBoosting', 'max_depth': 8, 'min_samples_split': 8, 'min_samples_leaf': 3, 'max_features': 'log2', 'criterion': 'gini', 'n_estimators': 105, 'learning_rate': 0.20315584519821867}. Best is trial 206 with value: 0.6781534460338101.\n",
      "[I 2025-06-16 17:17:19,545] Trial 250 finished with value: 0.6605981794538361 and parameters: {'classifier': 'GradientBoosting', 'max_depth': 10, 'min_samples_split': 7, 'min_samples_leaf': 4, 'max_features': 'log2', 'criterion': 'gini', 'n_estimators': 141, 'learning_rate': 0.18873029046193698}. Best is trial 206 with value: 0.6781534460338101.\n",
      "[I 2025-06-16 17:17:19,867] Trial 251 finished with value: 0.6625487646293888 and parameters: {'classifier': 'GradientBoosting', 'max_depth': 7, 'min_samples_split': 8, 'min_samples_leaf': 3, 'max_features': 'log2', 'criterion': 'gini', 'n_estimators': 147, 'learning_rate': 0.1766834631112996}. Best is trial 206 with value: 0.6781534460338101.\n",
      "[I 2025-06-16 17:17:20,157] Trial 252 finished with value: 0.6547464239271782 and parameters: {'classifier': 'GradientBoosting', 'max_depth': 9, 'min_samples_split': 6, 'min_samples_leaf': 2, 'max_features': 'log2', 'criterion': 'gini', 'n_estimators': 122, 'learning_rate': 0.20008994672983477}. Best is trial 206 with value: 0.6781534460338101.\n",
      "[I 2025-06-16 17:17:20,327] Trial 253 finished with value: 0.6521456436931079 and parameters: {'classifier': 'GradientBoosting', 'max_depth': 5, 'min_samples_split': 8, 'min_samples_leaf': 3, 'max_features': 'log2', 'criterion': 'gini', 'n_estimators': 108, 'learning_rate': 0.18402426653411066}. Best is trial 206 with value: 0.6781534460338101.\n",
      "[I 2025-06-16 17:17:20,545] Trial 254 finished with value: 0.6586475942782835 and parameters: {'classifier': 'GradientBoosting', 'max_depth': 6, 'min_samples_split': 8, 'min_samples_leaf': 4, 'max_features': 'log2', 'criterion': 'gini', 'n_estimators': 135, 'learning_rate': 0.19691120174273827}. Best is trial 206 with value: 0.6781534460338101.\n",
      "[I 2025-06-16 17:17:20,760] Trial 255 finished with value: 0.6612483745123537 and parameters: {'classifier': 'GradientBoosting', 'max_depth': 7, 'min_samples_split': 4, 'min_samples_leaf': 3, 'max_features': 'log2', 'criterion': 'gini', 'n_estimators': 112, 'learning_rate': 0.208946547406137}. Best is trial 206 with value: 0.6781534460338101.\n",
      "[I 2025-06-16 17:17:21,072] Trial 256 finished with value: 0.6762028608582574 and parameters: {'classifier': 'GradientBoosting', 'max_depth': 8, 'min_samples_split': 6, 'min_samples_leaf': 4, 'max_features': 'log2', 'criterion': 'gini', 'n_estimators': 102, 'learning_rate': 0.16792745418000005}. Best is trial 206 with value: 0.6781534460338101.\n",
      "[I 2025-06-16 17:17:21,290] Trial 257 finished with value: 0.6618985695708712 and parameters: {'classifier': 'GradientBoosting', 'max_depth': 8, 'min_samples_split': 6, 'min_samples_leaf': 4, 'max_features': 'log2', 'criterion': 'gini', 'n_estimators': 99, 'learning_rate': 0.17002701720602426}. Best is trial 206 with value: 0.6781534460338101.\n",
      "[I 2025-06-16 17:17:21,496] Trial 258 finished with value: 0.6644993498049415 and parameters: {'classifier': 'GradientBoosting', 'max_depth': 8, 'min_samples_split': 6, 'min_samples_leaf': 4, 'max_features': 'log2', 'criterion': 'gini', 'n_estimators': 95, 'learning_rate': 0.14947651631108572}. Best is trial 206 with value: 0.6781534460338101.\n",
      "[I 2025-06-16 17:17:21,747] Trial 259 finished with value: 0.6664499349804941 and parameters: {'classifier': 'GradientBoosting', 'max_depth': 9, 'min_samples_split': 6, 'min_samples_leaf': 4, 'max_features': 'log2', 'criterion': 'gini', 'n_estimators': 104, 'learning_rate': 0.1617553647142801}. Best is trial 206 with value: 0.6781534460338101.\n",
      "[I 2025-06-16 17:17:23,438] Trial 260 finished with value: 0.6001300390117035 and parameters: {'classifier': 'KNN', 'n_neighbors': 15, 'weights': 'uniform', 'algorithm': 'ball_tree', 'leaf_size': 10, 'p': 1}. Best is trial 206 with value: 0.6781534460338101.\n",
      "[I 2025-06-16 17:17:23,768] Trial 261 finished with value: 0.6749024707412223 and parameters: {'classifier': 'GradientBoosting', 'max_depth': 9, 'min_samples_split': 6, 'min_samples_leaf': 4, 'max_features': 'sqrt', 'criterion': 'gini', 'n_estimators': 140, 'learning_rate': 0.17514009838143238}. Best is trial 206 with value: 0.6781534460338101.\n",
      "[I 2025-06-16 17:17:24,097] Trial 262 finished with value: 0.6501950585175552 and parameters: {'classifier': 'GradientBoosting', 'max_depth': 9, 'min_samples_split': 6, 'min_samples_leaf': 4, 'max_features': 'sqrt', 'criterion': 'gini', 'n_estimators': 142, 'learning_rate': 0.16680999730874824}. Best is trial 206 with value: 0.6781534460338101.\n",
      "[I 2025-06-16 17:17:24,350] Trial 263 finished with value: 0.6671001300390117 and parameters: {'classifier': 'GradientBoosting', 'max_depth': 10, 'min_samples_split': 6, 'min_samples_leaf': 4, 'max_features': 'sqrt', 'criterion': 'entropy', 'n_estimators': 91, 'learning_rate': 0.17959903881520733}. Best is trial 206 with value: 0.6781534460338101.\n",
      "[I 2025-06-16 17:17:24,640] Trial 264 finished with value: 0.6612483745123537 and parameters: {'classifier': 'GradientBoosting', 'max_depth': 9, 'min_samples_split': 6, 'min_samples_leaf': 4, 'max_features': 'log2', 'criterion': 'gini', 'n_estimators': 117, 'learning_rate': 0.21058004361867316}. Best is trial 206 with value: 0.6781534460338101.\n",
      "[I 2025-06-16 17:17:24,652] Trial 265 finished with value: 0.3433029908972692 and parameters: {'classifier': 'NaiveBayes', 'var_smoothing': 1.1194434466805211e-10}. Best is trial 206 with value: 0.6781534460338101.\n",
      "[I 2025-06-16 17:17:24,917] Trial 266 finished with value: 0.6684005201560468 and parameters: {'classifier': 'GradientBoosting', 'max_depth': 8, 'min_samples_split': 6, 'min_samples_leaf': 4, 'max_features': 'sqrt', 'criterion': 'gini', 'n_estimators': 125, 'learning_rate': 0.13027726862285371}. Best is trial 206 with value: 0.6781534460338101.\n",
      "[I 2025-06-16 17:17:25,176] Trial 267 finished with value: 0.6625487646293888 and parameters: {'classifier': 'GradientBoosting', 'max_depth': 8, 'min_samples_split': 6, 'min_samples_leaf': 4, 'max_features': 'sqrt', 'criterion': 'gini', 'n_estimators': 125, 'learning_rate': 0.1255051406485197}. Best is trial 206 with value: 0.6781534460338101.\n",
      "[I 2025-06-16 17:17:25,486] Trial 268 finished with value: 0.6657997399219766 and parameters: {'classifier': 'GradientBoosting', 'max_depth': 8, 'min_samples_split': 6, 'min_samples_leaf': 4, 'max_features': 'sqrt', 'criterion': 'gini', 'n_estimators': 121, 'learning_rate': 0.13208364833877434}. Best is trial 206 with value: 0.6781534460338101.\n",
      "[I 2025-06-16 17:17:25,834] Trial 269 finished with value: 0.6618985695708712 and parameters: {'classifier': 'GradientBoosting', 'max_depth': 9, 'min_samples_split': 6, 'min_samples_leaf': 3, 'max_features': 'sqrt', 'criterion': 'gini', 'n_estimators': 149, 'learning_rate': 0.15482601478491415}. Best is trial 206 with value: 0.6781534460338101.\n",
      "[I 2025-06-16 17:17:26,586] Trial 270 finished with value: 0.6508452535760728 and parameters: {'classifier': 'GradientBoosting', 'max_depth': 19, 'min_samples_split': 6, 'min_samples_leaf': 4, 'max_features': 'sqrt', 'criterion': 'gini', 'n_estimators': 144, 'learning_rate': 0.17179957198604193}. Best is trial 206 with value: 0.6781534460338101.\n",
      "[I 2025-06-16 17:17:26,863] Trial 271 finished with value: 0.657997399219766 and parameters: {'classifier': 'GradientBoosting', 'max_depth': 10, 'min_samples_split': 6, 'min_samples_leaf': 3, 'max_features': 'sqrt', 'criterion': 'gini', 'n_estimators': 102, 'learning_rate': 0.18604744461254852}. Best is trial 206 with value: 0.6781534460338101.\n",
      "[I 2025-06-16 17:17:26,893] Trial 272 finished with value: 0.5396618985695709 and parameters: {'classifier': 'DecisionTree', 'max_depth': 9, 'min_samples_split': 6, 'min_samples_leaf': 3, 'max_features': 'sqrt', 'criterion': 'gini'}. Best is trial 206 with value: 0.6781534460338101.\n",
      "[I 2025-06-16 17:17:27,157] Trial 273 finished with value: 0.6618985695708712 and parameters: {'classifier': 'GradientBoosting', 'max_depth': 8, 'min_samples_split': 7, 'min_samples_leaf': 4, 'max_features': 'sqrt', 'criterion': 'gini', 'n_estimators': 126, 'learning_rate': 0.1456164136799895}. Best is trial 206 with value: 0.6781534460338101.\n",
      "[I 2025-06-16 17:17:27,225] Trial 274 finished with value: 0.459037711313394 and parameters: {'classifier': 'LogisticRegression', 'solver': 'liblinear', 'penalty-liblinear': 'l2', 'l1_ratio': 0.3938842330942915, 'C': 2.133094981746206, 'max_iter': 407}. Best is trial 206 with value: 0.6781534460338101.\n",
      "[I 2025-06-16 17:17:27,469] Trial 275 finished with value: 0.6664499349804941 and parameters: {'classifier': 'GradientBoosting', 'max_depth': 8, 'min_samples_split': 6, 'min_samples_leaf': 3, 'max_features': 'sqrt', 'criterion': 'gini', 'n_estimators': 114, 'learning_rate': 0.1280179213060108}. Best is trial 206 with value: 0.6781534460338101.\n",
      "[I 2025-06-16 17:17:27,663] Trial 276 finished with value: 0.6553966189856957 and parameters: {'classifier': 'GradientBoosting', 'max_depth': 6, 'min_samples_split': 6, 'min_samples_leaf': 4, 'max_features': 'log2', 'criterion': 'gini', 'n_estimators': 119, 'learning_rate': 0.13739201042506305}. Best is trial 206 with value: 0.6781534460338101.\n",
      "[I 2025-06-16 17:17:30,039] Trial 277 finished with value: 0.6215864759427828 and parameters: {'classifier': 'RandomForest', 'rf_max_depth': 16, 'rf_min_samples_split': 4, 'rf_min_samples_leaf': 1, 'rf_max_features': 'sqrt', 'rf_criterion': 'gini', 'rf_n_estimators': 158}. Best is trial 206 with value: 0.6781534460338101.\n",
      "[I 2025-06-16 17:17:30,241] Trial 278 finished with value: 0.6631989596879063 and parameters: {'classifier': 'GradientBoosting', 'max_depth': 6, 'min_samples_split': 7, 'min_samples_leaf': 1, 'max_features': 'log2', 'criterion': 'gini', 'n_estimators': 123, 'learning_rate': 0.17832655569827444}. Best is trial 206 with value: 0.6781534460338101.\n",
      "[I 2025-06-16 17:17:30,536] Trial 279 finished with value: 0.6671001300390117 and parameters: {'classifier': 'GradientBoosting', 'max_depth': 8, 'min_samples_split': 6, 'min_samples_leaf': 3, 'max_features': 'log2', 'criterion': 'gini', 'n_estimators': 139, 'learning_rate': 0.1635445541455131}. Best is trial 206 with value: 0.6781534460338101.\n",
      "[I 2025-06-16 17:17:30,870] Trial 280 finished with value: 0.6469440832249674 and parameters: {'classifier': 'GradientBoosting', 'max_depth': 10, 'min_samples_split': 6, 'min_samples_leaf': 4, 'max_features': 'log2', 'criterion': 'gini', 'n_estimators': 105, 'learning_rate': 0.1912328417294733}. Best is trial 206 with value: 0.6781534460338101.\n",
      "[I 2025-06-16 17:17:31,172] Trial 281 finished with value: 0.6671001300390117 and parameters: {'classifier': 'GradientBoosting', 'max_depth': 9, 'min_samples_split': 7, 'min_samples_leaf': 2, 'max_features': 'log2', 'criterion': 'gini', 'n_estimators': 102, 'learning_rate': 0.18388719957397864}. Best is trial 206 with value: 0.6781534460338101.\n",
      "[I 2025-06-16 17:17:31,974] Trial 282 finished with value: 0.6423927178153446 and parameters: {'classifier': 'GradientBoosting', 'max_depth': 25, 'min_samples_split': 5, 'min_samples_leaf': 3, 'max_features': 'log2', 'criterion': 'gini', 'n_estimators': 97, 'learning_rate': 0.14216796856678196}. Best is trial 206 with value: 0.6781534460338101.\n",
      "[I 2025-06-16 17:17:32,183] Trial 283 finished with value: 0.6671001300390117 and parameters: {'classifier': 'GradientBoosting', 'max_depth': 7, 'min_samples_split': 9, 'min_samples_leaf': 3, 'max_features': 'log2', 'criterion': 'gini', 'n_estimators': 111, 'learning_rate': 0.1729535404326658}. Best is trial 206 with value: 0.6781534460338101.\n",
      "[I 2025-06-16 17:17:32,351] Trial 284 finished with value: 0.6631989596879063 and parameters: {'classifier': 'GradientBoosting', 'max_depth': 8, 'min_samples_split': 8, 'min_samples_leaf': 4, 'max_features': 'log2', 'criterion': 'gini', 'n_estimators': 74, 'learning_rate': 0.20472816022456583}. Best is trial 206 with value: 0.6781534460338101.\n",
      "[I 2025-06-16 17:17:32,586] Trial 285 finished with value: 0.6631989596879063 and parameters: {'classifier': 'GradientBoosting', 'max_depth': 7, 'min_samples_split': 6, 'min_samples_leaf': 3, 'max_features': 'log2', 'criterion': 'gini', 'n_estimators': 128, 'learning_rate': 0.21428348722001314}. Best is trial 206 with value: 0.6781534460338101.\n",
      "[I 2025-06-16 17:17:32,764] Trial 286 finished with value: 0.6677503250975293 and parameters: {'classifier': 'GradientBoosting', 'max_depth': 6, 'min_samples_split': 8, 'min_samples_leaf': 4, 'max_features': 'log2', 'criterion': 'entropy', 'n_estimators': 106, 'learning_rate': 0.18921730100490972}. Best is trial 206 with value: 0.6781534460338101.\n",
      "[I 2025-06-16 17:17:33,023] Trial 287 finished with value: 0.6573472041612484 and parameters: {'classifier': 'GradientBoosting', 'max_depth': 9, 'min_samples_split': 8, 'min_samples_leaf': 3, 'max_features': 'log2', 'criterion': 'gini', 'n_estimators': 109, 'learning_rate': 0.22301834378764937}. Best is trial 206 with value: 0.6781534460338101.\n",
      "[I 2025-06-16 17:17:34,082] Trial 288 finished with value: 0.599479843953186 and parameters: {'classifier': 'KNN', 'n_neighbors': 4, 'weights': 'distance', 'algorithm': 'kd_tree', 'leaf_size': 31, 'p': 1}. Best is trial 206 with value: 0.6781534460338101.\n",
      "[I 2025-06-16 17:17:34,307] Trial 289 finished with value: 0.6605981794538361 and parameters: {'classifier': 'GradientBoosting', 'max_depth': 7, 'min_samples_split': 6, 'min_samples_leaf': 4, 'max_features': 'sqrt', 'criterion': 'gini', 'n_estimators': 114, 'learning_rate': 0.19858404567382817}. Best is trial 206 with value: 0.6781534460338101.\n",
      "[I 2025-06-16 17:17:34,499] Trial 290 finished with value: 0.6566970091027308 and parameters: {'classifier': 'GradientBoosting', 'max_depth': 5, 'min_samples_split': 8, 'min_samples_leaf': 3, 'max_features': 'log2', 'criterion': 'gini', 'n_estimators': 139, 'learning_rate': 0.18185535202336356}. Best is trial 206 with value: 0.6781534460338101.\n",
      "[I 2025-06-16 17:17:34,750] Trial 291 finished with value: 0.6573472041612484 and parameters: {'classifier': 'GradientBoosting', 'max_depth': 8, 'min_samples_split': 7, 'min_samples_leaf': 3, 'max_features': 'log2', 'criterion': 'gini', 'n_estimators': 118, 'learning_rate': 0.19484911221352547}. Best is trial 206 with value: 0.6781534460338101.\n",
      "[I 2025-06-16 17:17:35,826] Trial 292 finished with value: 0.6417425227568271 and parameters: {'classifier': 'GradientBoosting', 'max_depth': 32, 'min_samples_split': 6, 'min_samples_leaf': 4, 'max_features': 'log2', 'criterion': 'gini', 'n_estimators': 122, 'learning_rate': 0.1328367246948442}. Best is trial 206 with value: 0.6781534460338101.\n",
      "[I 2025-06-16 17:17:35,835] Trial 293 finished with value: 0.3433029908972692 and parameters: {'classifier': 'NaiveBayes', 'var_smoothing': 1.49973800669915e-09}. Best is trial 206 with value: 0.6781534460338101.\n",
      "[I 2025-06-16 17:17:36,009] Trial 294 finished with value: 0.6553966189856957 and parameters: {'classifier': 'GradientBoosting', 'max_depth': 6, 'min_samples_split': 8, 'min_samples_leaf': 3, 'max_features': 'log2', 'criterion': 'gini', 'n_estimators': 101, 'learning_rate': 0.1193837485795767}. Best is trial 206 with value: 0.6781534460338101.\n",
      "[I 2025-06-16 17:17:36,287] Trial 295 finished with value: 0.6605981794538361 and parameters: {'classifier': 'GradientBoosting', 'max_depth': 8, 'min_samples_split': 5, 'min_samples_leaf': 4, 'max_features': 'log2', 'criterion': 'gini', 'n_estimators': 133, 'learning_rate': 0.17003156978215722}. Best is trial 206 with value: 0.6781534460338101.\n",
      "[I 2025-06-16 17:17:36,576] Trial 296 finished with value: 0.6605981794538361 and parameters: {'classifier': 'GradientBoosting', 'max_depth': 7, 'min_samples_split': 8, 'min_samples_leaf': 3, 'max_features': 'log2', 'criterion': 'gini', 'n_estimators': 143, 'learning_rate': 0.1883634236282648}. Best is trial 206 with value: 0.6781534460338101.\n",
      "[I 2025-06-16 17:17:36,882] Trial 297 finished with value: 0.6547464239271782 and parameters: {'classifier': 'GradientBoosting', 'max_depth': 9, 'min_samples_split': 8, 'min_samples_leaf': 3, 'max_features': 'log2', 'criterion': 'gini', 'n_estimators': 126, 'learning_rate': 0.20182892627985694}. Best is trial 206 with value: 0.6781534460338101.\n",
      "[I 2025-06-16 17:17:37,092] Trial 298 finished with value: 0.6723016905071522 and parameters: {'classifier': 'GradientBoosting', 'max_depth': 7, 'min_samples_split': 6, 'min_samples_leaf': 4, 'max_features': 'log2', 'criterion': 'gini', 'n_estimators': 107, 'learning_rate': 0.1777309690162374}. Best is trial 206 with value: 0.6781534460338101.\n",
      "[I 2025-06-16 17:17:37,304] Trial 299 finished with value: 0.6684005201560468 and parameters: {'classifier': 'GradientBoosting', 'max_depth': 7, 'min_samples_split': 6, 'min_samples_leaf': 4, 'max_features': 'log2', 'criterion': 'gini', 'n_estimators': 106, 'learning_rate': 0.17879403814470676}. Best is trial 206 with value: 0.6781534460338101.\n"
     ]
    },
    {
     "name": "stdout",
     "output_type": "stream",
     "text": [
      "Best hyperparameters:  {'classifier': 'GradientBoosting', 'max_depth': 8, 'min_samples_split': 8, 'min_samples_leaf': 3, 'max_features': 'log2', 'criterion': 'gini', 'n_estimators': 109, 'learning_rate': 0.1967854241678798}\n",
      "=== Evaluation du modèle XGBClassifier ===\n",
      "Accuracy : 0.8757 (the higher the better)\n",
      "Recall : 0.6782 (the higher the better) (best for us)\n",
      "R2 : 0.3112 (the higher the better)\n",
      "MAE : 0.1243 (the lower the better)\n",
      "RMSE : 0.1243 (the lower the better)\n"
     ]
    },
    {
     "data": {
      "text/plain": [
       "array([0, 0, 0, ..., 0, 0, 0], shape=(6508,))"
      ]
     },
     "execution_count": 44,
     "metadata": {},
     "output_type": "execute_result"
    }
   ],
   "source": [
    "def objective(trial):\n",
    "    # On choisit le classifieur à optimiser, AdaBoosting et Stackinh prennent trop de temps, on les retire pour l'instant\n",
    "    classifier_name = trial.suggest_categorical('classifier', ['DecisionTree', 'RandomForest', 'LogisticRegression', 'GradientBoosting', 'KNN', 'NaiveBayes'])#, 'Stacking'])#, 'AdaBoosting'])\n",
    "    # On charge les données d'entraînement et de test\n",
    "    classifier_obj = None\n",
    "    if classifier_name == 'DecisionTree':\n",
    "        classifier_obj = opt_decision_tree(trial)\n",
    "    elif classifier_name == 'RandomForest':\n",
    "        classifier_obj = opt_random_forest(trial)\n",
    "    elif classifier_name == 'LogisticRegression':\n",
    "        classifier_obj = opt_logistic_regression(trial)\n",
    "    elif classifier_name == 'AdaBoosting':\n",
    "        classifier_obj = opt_adaboost(trial)\n",
    "    elif classifier_name == 'GradientBoosting':\n",
    "        classifier_obj = opt_gradient_boosting(trial)\n",
    "    elif classifier_name == 'Stacking':\n",
    "        classifier_obj = opt_stacking(trial)\n",
    "    elif classifier_name == 'KNN':\n",
    "        classifier_obj = opt_knn(trial)\n",
    "    elif classifier_name == 'NaiveBayes':\n",
    "        classifier_obj = opt_bayes(trial)\n",
    "        \n",
    "    classifier_obj.fit(X_train, y_train)\n",
    "    y_pred = classifier_obj.predict(X_test)\n",
    "    recall = recall_score(y_test, y_pred)\n",
    "    precision = precision_score(y_test, y_pred)\n",
    "    return recall\n",
    "\n",
    "# study = optuna.create_study(directions=[\"maximize\", \"maximize\"])\n",
    "# On tolère 1 chance sur 1.000.000 de se tromper\n",
    "study = optuna.create_study(direction=\"maximize\", study_name=\"Adult Income Prediction\")\n",
    "study.optimize(objective, n_trials=300)\n",
    "print(\"Best hyperparameters: \", study.best_params)\n",
    "\n",
    "best_model = None\n",
    "if study.best_params['classifier'] == 'DecisionTree':\n",
    "    best_model = opt_decision_tree(optuna.trial.FixedTrial(study.best_params))\n",
    "elif study.best_params['classifier']  == 'RandomForest':\n",
    "    best_model = opt_random_forest(optuna.trial.FixedTrial(study.best_params))\n",
    "elif study.best_params['classifier']  == 'LogisticRegression':\n",
    "    best_model = opt_logistic_regression(optuna.trial.FixedTrial(study.best_params))\n",
    "elif study.best_params['classifier']  == 'AdaBoosting':\n",
    "    best_model = opt_adaboost(optuna.trial.FixedTrial(study.best_params))\n",
    "elif study.best_params['classifier']  == 'GradientBoosting':\n",
    "    best_model = opt_gradient_boosting(optuna.trial.FixedTrial(study.best_params))\n",
    "elif study.best_params['classifier']  == 'Stacking':\n",
    "    best_model = opt_stacking(optuna.trial.FixedTrial(study.best_params))\n",
    "elif study.best_params['classifier']  == 'KNN':\n",
    "    best_model = opt_knn(optuna.trial.FixedTrial(study.best_params))\n",
    "elif study.best_params['classifier']  == 'NaiveBayes':\n",
    "    best_model = opt_bayes(optuna.trial.FixedTrial(study.best_params))\n",
    "best_model.fit(X_train, y_train)\n",
    "eval_model(best_model, X_test, y_test)\n"
   ]
  },
  {
   "cell_type": "code",
   "execution_count": 45,
   "id": "a22d135c",
   "metadata": {},
   "outputs": [
    {
     "name": "stdout",
     "output_type": "stream",
     "text": [
      "\n",
      "=== Evaluation num 1 du modèle ===\n",
      "=== Evaluation du modèle XGBClassifier ===\n",
      "Accuracy : 0.8712 (the higher the better)\n",
      "Recall : 0.6704 (the higher the better) (best for us)\n",
      "R2 : 0.3121 (the higher the better)\n",
      "MAE : 0.1288 (the lower the better)\n",
      "RMSE : 0.1288 (the lower the better)\n",
      "\n",
      "=== Evaluation num 2 du modèle ===\n",
      "=== Evaluation du modèle XGBClassifier ===\n",
      "Accuracy : 0.8659 (the higher the better)\n",
      "Recall : 0.6696 (the higher the better) (best for us)\n",
      "R2 : 0.2759 (the higher the better)\n",
      "MAE : 0.1341 (the lower the better)\n",
      "RMSE : 0.1341 (the lower the better)\n",
      "\n",
      "=== Evaluation num 3 du modèle ===\n",
      "=== Evaluation du modèle XGBClassifier ===\n",
      "Accuracy : 0.8708 (the higher the better)\n",
      "Recall : 0.6602 (the higher the better) (best for us)\n",
      "R2 : 0.2862 (the higher the better)\n",
      "MAE : 0.1292 (the lower the better)\n",
      "RMSE : 0.1292 (the lower the better)\n",
      "\n",
      "=== Evaluation num 4 du modèle ===\n",
      "=== Evaluation du modèle XGBClassifier ===\n",
      "Accuracy : 0.8656 (the higher the better)\n",
      "Recall : 0.6581 (the higher the better) (best for us)\n",
      "R2 : 0.2721 (the higher the better)\n",
      "MAE : 0.1344 (the lower the better)\n",
      "RMSE : 0.1344 (the lower the better)\n",
      "\n",
      "=== Evaluation num 5 du modèle ===\n",
      "=== Evaluation du modèle XGBClassifier ===\n",
      "Accuracy : 0.8720 (the higher the better)\n",
      "Recall : 0.6718 (the higher the better) (best for us)\n",
      "R2 : 0.3013 (the higher the better)\n",
      "MAE : 0.1280 (the lower the better)\n",
      "RMSE : 0.1280 (the lower the better)\n",
      "\n",
      "=== Evaluation num 6 du modèle ===\n",
      "=== Evaluation du modèle XGBClassifier ===\n",
      "Accuracy : 0.8683 (the higher the better)\n",
      "Recall : 0.6739 (the higher the better) (best for us)\n",
      "R2 : 0.2778 (the higher the better)\n",
      "MAE : 0.1317 (the lower the better)\n",
      "RMSE : 0.1317 (the lower the better)\n",
      "\n",
      "=== Evaluation num 7 du modèle ===\n",
      "=== Evaluation du modèle XGBClassifier ===\n",
      "Accuracy : 0.8685 (the higher the better)\n",
      "Recall : 0.6358 (the higher the better) (best for us)\n",
      "R2 : 0.2833 (the higher the better)\n",
      "MAE : 0.1315 (the lower the better)\n",
      "RMSE : 0.1315 (the lower the better)\n",
      "\n",
      "=== Evaluation num 8 du modèle ===\n",
      "=== Evaluation du modèle XGBClassifier ===\n",
      "Accuracy : 0.8639 (the higher the better)\n",
      "Recall : 0.6451 (the higher the better) (best for us)\n",
      "R2 : 0.2718 (the higher the better)\n",
      "MAE : 0.1361 (the lower the better)\n",
      "RMSE : 0.1361 (the lower the better)\n",
      "\n",
      "=== Evaluation num 9 du modèle ===\n",
      "=== Evaluation du modèle XGBClassifier ===\n",
      "Accuracy : 0.8715 (the higher the better)\n",
      "Recall : 0.6607 (the higher the better) (best for us)\n",
      "R2 : 0.2967 (the higher the better)\n",
      "MAE : 0.1285 (the lower the better)\n",
      "RMSE : 0.1285 (the lower the better)\n",
      "\n",
      "=== Evaluation num 10 du modèle ===\n",
      "=== Evaluation du modèle XGBClassifier ===\n",
      "Accuracy : 0.8688 (the higher the better)\n",
      "Recall : 0.6512 (the higher the better) (best for us)\n",
      "R2 : 0.2781 (the higher the better)\n",
      "MAE : 0.1312 (the lower the better)\n",
      "RMSE : 0.1312 (the lower the better)\n"
     ]
    }
   ],
   "source": [
    "for i in range(10):\n",
    "    X_train, X_test, y_train, y_test = train_test_split(df_adult_new.drop(columns=[\"income\"]), df_adult_new[\"income\"], test_size=0.2)\n",
    "    # On normalise les variables quantitatives sur les données de train (StandardScaler pour l'instant)\n",
    "    numerical_columns = df_adult.select_dtypes(include=['int64', 'float64']).columns\n",
    "    numerical_scaler = StandardScaler()\n",
    "    numerical_scaler.fit(X_train[numerical_columns])\n",
    "    X_train[numerical_columns] = numerical_scaler.transform(X_train[numerical_columns])\n",
    "    X_test[numerical_columns] = numerical_scaler.transform(X_test[numerical_columns])\n",
    "\n",
    "    best_model.fit(X_train, y_train)\n",
    "    print(f\"\\n=== Evaluation num {i+1} du modèle ===\")\n",
    "    eval_model(best_model, X_test, y_test)"
   ]
  },
  {
   "cell_type": "markdown",
   "id": "2c49c36455b2c689",
   "metadata": {},
   "source": [
    "## Evaluation du modèle\n"
   ]
  },
  {
   "cell_type": "code",
   "execution_count": 47,
   "id": "858b3e7d56bed815",
   "metadata": {
    "ExecuteTime": {
     "end_time": "2025-06-15T14:56:10.217636Z",
     "start_time": "2025-06-15T14:56:10.196778Z"
    }
   },
   "outputs": [],
   "source": [
    "# Prédictions des probabilités pour la classe positive\n",
    "y_pred_proba = best_model.predict_proba(X_test)[:, 1]"
   ]
  },
  {
   "cell_type": "markdown",
   "id": "898a6d15d885fee8",
   "metadata": {},
   "source": [
    "### Courbe ROC"
   ]
  },
  {
   "cell_type": "code",
   "execution_count": 48,
   "id": "e0c4f4b797f4a193",
   "metadata": {
    "ExecuteTime": {
     "end_time": "2025-06-15T14:56:10.362240Z",
     "start_time": "2025-06-15T14:56:10.245674Z"
    }
   },
   "outputs": [
    {
     "data": {
      "image/png": "[encoded data removed]",
      "text/plain": [
       "<Figure size 800x600 with 1 Axes>"
      ]
     },
     "metadata": {},
     "output_type": "display_data"
    }
   ],
   "source": [
    "from sklearn.metrics import roc_curve, auc\n",
    "\n",
    "# Calcul des FPR, TPR et seuils\n",
    "fpr, tpr, thresholds = roc_curve(y_test, y_pred_proba)\n",
    "\n",
    "# Calcul de l'AUC\n",
    "roc_auc = auc(fpr, tpr)\n",
    "\n",
    "# Tracé de la courbe ROC\n",
    "plt.figure(figsize=(8, 6))\n",
    "plt.plot(fpr, tpr, color='blue', lw=2, label=f'ROC curve (AUC = {roc_auc:.2f})')\n",
    "plt.plot([0, 1], [0, 1], color='gray', linestyle='--', lw=2)  # Ligne diagonale\n",
    "plt.xlabel('False Positive Rate (FPR)')\n",
    "plt.ylabel('True Positive Rate (TPR)')\n",
    "plt.title('Receiver Operating Characteristic (ROC) Curve')\n",
    "plt.legend(loc='lower right')\n",
    "plt.grid(alpha=0.3)\n",
    "plt.show()"
   ]
  },
  {
   "cell_type": "markdown",
   "id": "3a7b1772fcb8607c",
   "metadata": {},
   "source": [
    "### Courbe de précision-rappel"
   ]
  },
  {
   "cell_type": "code",
   "execution_count": 49,
   "id": "671729f3c36f80fa",
   "metadata": {
    "ExecuteTime": {
     "end_time": "2025-06-15T14:56:10.508466Z",
     "start_time": "2025-06-15T14:56:10.368612Z"
    }
   },
   "outputs": [
    {
     "data": {
      "image/png": "[encoded data removed]",
      "text/plain": [
       "<Figure size 800x600 with 1 Axes>"
      ]
     },
     "metadata": {},
     "output_type": "display_data"
    }
   ],
   "source": [
    "from sklearn.metrics import precision_recall_curve, average_precision_score\n",
    "import matplotlib.pyplot as plt\n",
    "\n",
    "# Calcul de la precision du rappel, et des seuils\n",
    "precision, recall, thresholds = precision_recall_curve(y_test, y_pred_proba)\n",
    "\n",
    "# Calcul de la moyenne de précision\n",
    "avg_precision = average_precision_score(y_test, y_pred_proba)\n",
    "pr_auc = auc(recall, precision)\n",
    "\n",
    "# Tracé de la courbe de précision-rappel\n",
    "plt.figure(figsize=(8, 6))\n",
    "plt.plot(recall, precision, color='blue', lw=2, label=f'Precision-Recall curve (AP = {avg_precision:.2f})')\n",
    "plt.xlabel('Recall')\n",
    "plt.ylabel('Precision')\n",
    "plt.title('Precision-Recall Curve')\n",
    "plt.legend(loc='lower left')\n",
    "plt.grid(alpha=0.3)\n",
    "plt.show()"
   ]
  },
  {
   "cell_type": "markdown",
   "id": "ae6faf19b6500185",
   "metadata": {},
   "source": [
    "### Matrice de confusion"
   ]
  },
  {
   "cell_type": "code",
   "execution_count": 50,
   "id": "3c150379acbfd445",
   "metadata": {
    "ExecuteTime": {
     "end_time": "2025-06-15T14:56:11.301462Z",
     "start_time": "2025-06-15T14:56:10.514825Z"
    }
   },
   "outputs": [
    {
     "name": "stdout",
     "output_type": "stream",
     "text": [
      "Pourcentage de bonnes prédictions lors d'une prédiction négative :  89.54%\n",
      "Pourcentage de bonnes prédictions lors d'une prédiction positive :  76.44%\n"
     ]
    },
    {
     "data": {
      "image/png": "[encoded data removed]",
      "text/plain": [
       "<Figure size 800x600 with 2 Axes>"
      ]
     },
     "metadata": {},
     "output_type": "display_data"
    }
   ],
   "source": [
    "from sklearn.metrics import confusion_matrix, ConfusionMatrixDisplay\n",
    "import seaborn as sns\n",
    "import matplotlib.pyplot as plt\n",
    "\n",
    "# Génération des prédictions\n",
    "y_pred = best_model.predict(X_test)\n",
    "\n",
    "# Calcul de la matrice de confusion\n",
    "conf_matrix = confusion_matrix(y_test, y_pred)\n",
    "\n",
    "print(f\"Pourcentage de bonnes prédictions lors d'une prédiction négative :  {conf_matrix[0, 0] / (conf_matrix[0, 0] + conf_matrix[1, 0]) * 100:.2f}%\")\n",
    "print(f\"Pourcentage de bonnes prédictions lors d'une prédiction positive :  {conf_matrix[1, 1] / (conf_matrix[1, 1] + conf_matrix[0, 1]) * 100:.2f}%\")\n",
    "\n",
    "# Plot the confusion matrix\n",
    "plt.figure(figsize=(8, 6))\n",
    "sns.heatmap(conf_matrix, annot=True, fmt='d', cmap='Blues', xticklabels=['<=50K', '>50K'], yticklabels=['<=50K', '>50K'])\n",
    "plt.xlabel('Predicted Label')\n",
    "plt.ylabel('True Label')\n",
    "plt.title('Confusion Matrix')\n",
    "plt.show()"
   ]
  },
  {
   "cell_type": "markdown",
   "id": "8cd5b9c5",
   "metadata": {},
   "source": [
    "## Score F1 "
   ]
  },
  {
   "cell_type": "code",
   "execution_count": 51,
   "id": "3dd0f268",
   "metadata": {},
   "outputs": [
    {
     "name": "stdout",
     "output_type": "stream",
     "text": [
      "F1-score: 0.7033 (the higher the better)\n",
      "F-beta score (beta=2): 0.6711 (the higher the better)\n"
     ]
    }
   ],
   "source": [
    "from sklearn.metrics import f1_score, fbeta_score\n",
    "# Calcul du F1-score\n",
    "# On rappel que le score F1 est la moyenne harmonique de la précision et du rappel\n",
    "# Score F1 = 2 * (precision * recall) / (precision + recall)\n",
    "f1 = f1_score(y_test, y_pred)\n",
    "print(f\"F1-score: {f1:.4f} (the higher the better)\")\n",
    "# Calcul du F-beta score avec beta=2\n",
    "fbeta = fbeta_score(y_test, y_pred, beta=2)\n",
    "print(f\"F-beta score (beta=2): {fbeta:.4f} (the higher the better)\")"
   ]
  },
  {
   "cell_type": "markdown",
   "id": "cfa02f31",
   "metadata": {},
   "source": [
    "### Calcul du score F1 manuellement pour vérifier"
   ]
  },
  {
   "cell_type": "code",
   "execution_count": 53,
   "id": "3a12d8ec",
   "metadata": {},
   "outputs": [
    {
     "data": {
      "text/plain": [
       "\"Le score f1 est de 0.7033 (plus il est élevé, mieux c'est)\""
      ]
     },
     "execution_count": 53,
     "metadata": {},
     "output_type": "execute_result"
    }
   ],
   "source": [
    "def compute_f1_score(y_true, y_pred):\n",
    "    y_true = np.array(y_true)\n",
    "    y_pred = np.array(y_pred)\n",
    "    \n",
    "    TP = np.sum((y_true == 1) & (y_pred == 1))\n",
    "    FP = np.sum((y_true == 0) & (y_pred == 1))\n",
    "    FN = np.sum((y_true == 1) & (y_pred == 0))\n",
    "\n",
    "    precision = TP / (TP + FP) if (TP + FP) > 0 else 0.0\n",
    "    recall = TP / (TP + FN) if (TP + FN) > 0 else 0.0\n",
    "\n",
    "    if precision + recall == 0:\n",
    "        return 0.0\n",
    "    \n",
    "    f1 = 2 * (precision * recall) / (precision + recall)\n",
    "    return \"Le score f1 est de {:.4f} (plus il est élevé, mieux c'est)\".format(f1)\n",
    "\n",
    "compute_f1_score(y_test, y_pred)"
   ]
  },
  {
   "cell_type": "code",
   "execution_count": null,
   "id": "36769f1f",
   "metadata": {},
   "outputs": [],
   "source": []
  }
 ],
 "metadata": {
  "kernelspec": {
   "display_name": "machine_learning",
   "language": "python",
   "name": "python3"
  },
  "language_info": {
   "codemirror_mode": {
    "name": "ipython",
    "version": 3
   },
   "file_extension": ".py",
   "mimetype": "text/x-python",
   "name": "python",
   "nbconvert_exporter": "python",
   "pygments_lexer": "ipython3",
   "version": "3.13.3"
  }
 },
 "nbformat": 4,
 "nbformat_minor": 5
}
