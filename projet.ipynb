{
 "cells": [
  {
   "cell_type": "markdown",
   "id": "1e5bfb37",
   "metadata": {},
   "source": [
    "## AI28 - Projet - Prédiction du niveau de revenus."
   ]
  },
  {
   "cell_type": "markdown",
   "id": "75e2db09",
   "metadata": {},
   "source": []
  },
  {
   "cell_type": "code",
   "id": "a8ac31df",
   "metadata": {
    "ExecuteTime": {
     "end_time": "2025-06-14T11:06:42.444268Z",
     "start_time": "2025-06-14T11:06:42.442374Z"
    }
   },
   "source": [
    "# pip install ucimlrepo"
   ],
   "outputs": [],
   "execution_count": 58
  },
  {
   "cell_type": "code",
   "id": "001b1097",
   "metadata": {
    "ExecuteTime": {
     "end_time": "2025-06-14T11:06:42.465649Z",
     "start_time": "2025-06-14T11:06:42.458843Z"
    }
   },
   "source": [
    "# OS\n",
    "import sys\n",
    "\n",
    "\n",
    "# WARNINGS\n",
    "import warnings\n",
    "\n",
    "from sklearn.ensemble import AdaBoostClassifier\n",
    "\n",
    "warnings.filterwarnings('ignore')\n",
    "warnings.filterwarnings('error', category=DeprecationWarning)\n",
    "\n",
    "# NUMPY\n",
    "import numpy as np\n",
    "\n",
    "# STATS\n",
    "import scipy.stats as stats\n",
    "from scipy.stats import norm, skew\n",
    "\n",
    "# MATPLOTLIB\n",
    "import matplotlib as mpl\n",
    "import matplotlib.pyplot as plt\n",
    "%matplotlib inline\n",
    "# plt.style.use('fivethirtyeight') \n",
    "\n",
    "params = {'axes.labelsize': 8, # 12\n",
    "          'font.size': 8, # 12\n",
    "          'legend.fontsize': 8, # 12\n",
    "          'xtick.labelsize': 8, # 10\n",
    "          'ytick.labelsize': 8, # 10\n",
    "          'text.usetex': True,\n",
    "          'figure.figsize': (10, 8)}\n",
    "plt.rcParams.update(params)\n",
    "\n",
    "\n",
    "# PANDAS\n",
    "import pandas as pd \n",
    "pd.set_option(\"display.max_rows\", None, \"display.max_columns\", None) \n",
    "\n",
    "# SEABORN \n",
    "import seaborn as sns\n",
    "# sns.set_context(\"poster\")\n",
    "# sns.set_style(\"ticks\")\n",
    "\n",
    "# SCHIKIT-LEARN: PRE-PROCESSING\n",
    "from sklearn.preprocessing import LabelEncoder, OrdinalEncoder # Encodage des variables catégorielles ordinales\n",
    "from sklearn.preprocessing import LabelBinarizer, OneHotEncoder # Encodage des variables catégorielles nominales\n",
    "from sklearn.preprocessing import StandardScaler # Standardisation des variables numériques\n",
    "from sklearn.preprocessing import MinMaxScaler # Normalisation MinMax\n",
    "from sklearn.preprocessing import RobustScaler\n",
    "from sklearn.impute import SimpleImputer # Imputation\n",
    "from sklearn.impute import KNNImputer \n",
    "\n",
    "\n",
    "# SCHIKIT-LEARN: MODELES\n",
    "from sklearn import linear_model # Classe Modèle linéaire \n",
    "from sklearn.linear_model import LinearRegression \n",
    "from sklearn.linear_model import Ridge\n",
    "from sklearn.linear_model import Lasso \n",
    "from sklearn.linear_model import ElasticNet\n",
    "from sklearn.svm import SVR \n",
    "from sklearn.neighbors import KNeighborsRegressor\n",
    "from sklearn.ensemble import RandomForestClassifier\n",
    "\n",
    "\n",
    "# SCHIKIT-LEARN: VALIDATION CROISEE + OPTIMISATION\n",
    "from sklearn.model_selection import train_test_split\n",
    "from sklearn.model_selection import StratifiedKFold\n",
    "from sklearn.model_selection import cross_val_score # Validation croisée pour comparaison entre modèles\n",
    "from sklearn.model_selection import validation_curve # Courbe de validation: visualiser les scores lors du choix d'un hyperparamétre\n",
    "from sklearn.model_selection import GridSearchCV # Tester plusieurs hyperparamètres\n",
    "from sklearn.model_selection import RandomizedSearchCV # Tester plusieurs hyperparamètres\n",
    "from sklearn.model_selection import learning_curve # Courbe d'apprentissage: visualisation des scores du train et du validation sets en fonction des quantités des données\n",
    "import optuna\n",
    " \n",
    "## EVALUATION\n",
    "\n",
    "from sklearn.metrics import r2_score, accuracy_score, recall_score, precision_score  # Coefficient R2\n",
    "from sklearn.metrics import mean_absolute_error #  MAE\n",
    "from sklearn.metrics import mean_squared_error  # RMSE\n",
    "from sklearn.metrics import median_absolute_error # Erreur de la médiane absolue\n",
    "\n",
    "# SCHIKIT-LEARN: PIPELINE AND TRANSFORMATEUR\n",
    "from sklearn.pipeline import Pipeline\n",
    "from sklearn.pipeline import make_pipeline\n",
    "from sklearn.compose import make_column_transformer\n",
    "\n",
    "# SOURCE DATA\n",
    "from ucimlrepo import fetch_ucirepo "
   ],
   "outputs": [],
   "execution_count": 59
  },
  {
   "cell_type": "code",
   "id": "6ce14a4a",
   "metadata": {
    "ExecuteTime": {
     "end_time": "2025-06-14T11:06:48.028519Z",
     "start_time": "2025-06-14T11:06:42.509284Z"
    }
   },
   "source": [
    "# Utilisation des commandes fournies par UCI\n",
    "\n",
    "# Télécharger le jeu de données \n",
    "data_adult = fetch_ucirepo(id=2) "
   ],
   "outputs": [],
   "execution_count": 60
  },
  {
   "cell_type": "code",
   "id": "cdfbbc57",
   "metadata": {
    "ExecuteTime": {
     "end_time": "2025-06-14T11:06:48.034469Z",
     "start_time": "2025-06-14T11:06:48.031890Z"
    }
   },
   "source": [
    "# data (as pandas dataframes) \n",
    "x = data_adult.data.features # variables explicatives\n",
    "y = data_adult.data.targets # variables cibles"
   ],
   "outputs": [],
   "execution_count": 61
  },
  {
   "cell_type": "code",
   "id": "3347fb27",
   "metadata": {
    "ExecuteTime": {
     "end_time": "2025-06-14T11:06:48.081330Z",
     "start_time": "2025-06-14T11:06:48.078964Z"
    }
   },
   "source": [
    "# metadata \n",
    "print(data_adult.metadata) "
   ],
   "outputs": [
    {
     "name": "stdout",
     "output_type": "stream",
     "text": [
      "{'uci_id': 2, 'name': 'Adult', 'repository_url': 'https://archive.ics.uci.edu/dataset/2/adult', 'data_url': 'https://archive.ics.uci.edu/static/public/2/data.csv', 'abstract': 'Predict whether annual income of an individual exceeds $50K/yr based on census data. Also known as \"Census Income\" dataset. ', 'area': 'Social Science', 'tasks': ['Classification'], 'characteristics': ['Multivariate'], 'num_instances': 48842, 'num_features': 14, 'feature_types': ['Categorical', 'Integer'], 'demographics': ['Age', 'Income', 'Education Level', 'Other', 'Race', 'Sex'], 'target_col': ['income'], 'index_col': None, 'has_missing_values': 'yes', 'missing_values_symbol': 'NaN', 'year_of_dataset_creation': 1996, 'last_updated': 'Tue Sep 24 2024', 'dataset_doi': '10.24432/C5XW20', 'creators': ['Barry Becker', 'Ronny Kohavi'], 'intro_paper': None, 'additional_info': {'summary': \"Extraction was done by Barry Becker from the 1994 Census database.  A set of reasonably clean records was extracted using the following conditions: ((AAGE>16) && (AGI>100) && (AFNLWGT>1)&& (HRSWK>0))\\n\\nPrediction task is to determine whether a person's income is over $50,000 a year.\\n\", 'purpose': None, 'funded_by': None, 'instances_represent': None, 'recommended_data_splits': None, 'sensitive_data': None, 'preprocessing_description': None, 'variable_info': 'Listing of attributes:\\r\\n\\r\\n>50K, <=50K.\\r\\n\\r\\nage: continuous.\\r\\nworkclass: Private, Self-emp-not-inc, Self-emp-inc, Federal-gov, Local-gov, State-gov, Without-pay, Never-worked.\\r\\nfnlwgt: continuous.\\r\\neducation: Bachelors, Some-college, 11th, HS-grad, Prof-school, Assoc-acdm, Assoc-voc, 9th, 7th-8th, 12th, Masters, 1st-4th, 10th, Doctorate, 5th-6th, Preschool.\\r\\neducation-num: continuous.\\r\\nmarital-status: Married-civ-spouse, Divorced, Never-married, Separated, Widowed, Married-spouse-absent, Married-AF-spouse.\\r\\noccupation: Tech-support, Craft-repair, Other-service, Sales, Exec-managerial, Prof-specialty, Handlers-cleaners, Machine-op-inspct, Adm-clerical, Farming-fishing, Transport-moving, Priv-house-serv, Protective-serv, Armed-Forces.\\r\\nrelationship: Wife, Own-child, Husband, Not-in-family, Other-relative, Unmarried.\\r\\nrace: White, Asian-Pac-Islander, Amer-Indian-Eskimo, Other, Black.\\r\\nsex: Female, Male.\\r\\ncapital-gain: continuous.\\r\\ncapital-loss: continuous.\\r\\nhours-per-week: continuous.\\r\\nnative-country: United-States, Cambodia, England, Puerto-Rico, Canada, Germany, Outlying-US(Guam-USVI-etc), India, Japan, Greece, South, China, Cuba, Iran, Honduras, Philippines, Italy, Poland, Jamaica, Vietnam, Mexico, Portugal, Ireland, France, Dominican-Republic, Laos, Ecuador, Taiwan, Haiti, Columbia, Hungary, Guatemala, Nicaragua, Scotland, Thailand, Yugoslavia, El-Salvador, Trinadad&Tobago, Peru, Hong, Holand-Netherlands.', 'citation': None}}\n"
     ]
    }
   ],
   "execution_count": 62
  },
  {
   "cell_type": "code",
   "id": "e5866137",
   "metadata": {
    "ExecuteTime": {
     "end_time": "2025-06-14T11:06:48.131039Z",
     "start_time": "2025-06-14T11:06:48.127358Z"
    }
   },
   "source": [
    "# variable information \n",
    "print(data_adult.variables) "
   ],
   "outputs": [
    {
     "name": "stdout",
     "output_type": "stream",
     "text": [
      "              name     role         type      demographic  \\\n",
      "0              age  Feature      Integer              Age   \n",
      "1        workclass  Feature  Categorical           Income   \n",
      "2           fnlwgt  Feature      Integer             None   \n",
      "3        education  Feature  Categorical  Education Level   \n",
      "4    education-num  Feature      Integer  Education Level   \n",
      "5   marital-status  Feature  Categorical            Other   \n",
      "6       occupation  Feature  Categorical            Other   \n",
      "7     relationship  Feature  Categorical            Other   \n",
      "8             race  Feature  Categorical             Race   \n",
      "9              sex  Feature       Binary              Sex   \n",
      "10    capital-gain  Feature      Integer             None   \n",
      "11    capital-loss  Feature      Integer             None   \n",
      "12  hours-per-week  Feature      Integer             None   \n",
      "13  native-country  Feature  Categorical            Other   \n",
      "14          income   Target       Binary           Income   \n",
      "\n",
      "                                          description units missing_values  \n",
      "0                                                 N/A  None             no  \n",
      "1   Private, Self-emp-not-inc, Self-emp-inc, Feder...  None            yes  \n",
      "2                                                None  None             no  \n",
      "3    Bachelors, Some-college, 11th, HS-grad, Prof-...  None             no  \n",
      "4                                                None  None             no  \n",
      "5   Married-civ-spouse, Divorced, Never-married, S...  None             no  \n",
      "6   Tech-support, Craft-repair, Other-service, Sal...  None            yes  \n",
      "7   Wife, Own-child, Husband, Not-in-family, Other...  None             no  \n",
      "8   White, Asian-Pac-Islander, Amer-Indian-Eskimo,...  None             no  \n",
      "9                                       Female, Male.  None             no  \n",
      "10                                               None  None             no  \n",
      "11                                               None  None             no  \n",
      "12                                               None  None             no  \n",
      "13  United-States, Cambodia, England, Puerto-Rico,...  None            yes  \n",
      "14                                       >50K, <=50K.  None             no  \n"
     ]
    }
   ],
   "execution_count": 63
  },
  {
   "cell_type": "markdown",
   "id": "6cbde9f3",
   "metadata": {},
   "source": [
    "## Analyse exploratoire des données\n",
    "\n",
    "Pour réaliser l'AED, nous utilisons les données des fichiers téléchargés depuis le site web."
   ]
  },
  {
   "cell_type": "code",
   "id": "7dab83b8",
   "metadata": {
    "ExecuteTime": {
     "end_time": "2025-06-14T11:06:48.208092Z",
     "start_time": "2025-06-14T11:06:48.176739Z"
    }
   },
   "source": [
    "df_adult = pd.read_csv(\"./Data/adult.data\", header=None)"
   ],
   "outputs": [],
   "execution_count": 64
  },
  {
   "cell_type": "code",
   "id": "a17d559b",
   "metadata": {
    "ExecuteTime": {
     "end_time": "2025-06-14T11:06:48.225675Z",
     "start_time": "2025-06-14T11:06:48.223189Z"
    }
   },
   "source": [
    "isinstance(df_adult, pd.DataFrame)"
   ],
   "outputs": [
    {
     "data": {
      "text/plain": [
       "True"
      ]
     },
     "execution_count": 65,
     "metadata": {},
     "output_type": "execute_result"
    }
   ],
   "execution_count": 65
  },
  {
   "cell_type": "code",
   "id": "773202c2",
   "metadata": {
    "ExecuteTime": {
     "end_time": "2025-06-14T11:06:48.272515Z",
     "start_time": "2025-06-14T11:06:48.270247Z"
    }
   },
   "source": [],
   "outputs": [],
   "execution_count": null
  },
  {
   "cell_type": "markdown",
   "id": "8dd95f63",
   "metadata": {},
   "source": [
    "Le fichier ne contient pas les noms des colonnes. Nous les ajoutons dans le dataframe adult."
   ]
  },
  {
   "cell_type": "code",
   "id": "47221cbf",
   "metadata": {
    "ExecuteTime": {
     "end_time": "2025-06-14T11:06:48.324191Z",
     "start_time": "2025-06-14T11:06:48.317230Z"
    }
   },
   "source": [
    "adult_columns = data_adult.variables['name']\n",
    "\n",
    "df_adult.columns = adult_columns\n",
    "\n",
    "df_adult.head()"
   ],
   "outputs": [
    {
     "data": {
      "text/plain": [
       "name  age          workclass  fnlwgt   education  education-num  \\\n",
       "0      39          State-gov   77516   Bachelors             13   \n",
       "1      50   Self-emp-not-inc   83311   Bachelors             13   \n",
       "2      38            Private  215646     HS-grad              9   \n",
       "3      53            Private  234721        11th              7   \n",
       "4      28            Private  338409   Bachelors             13   \n",
       "\n",
       "name       marital-status          occupation    relationship    race  \\\n",
       "0           Never-married        Adm-clerical   Not-in-family   White   \n",
       "1      Married-civ-spouse     Exec-managerial         Husband   White   \n",
       "2                Divorced   Handlers-cleaners   Not-in-family   White   \n",
       "3      Married-civ-spouse   Handlers-cleaners         Husband   Black   \n",
       "4      Married-civ-spouse      Prof-specialty            Wife   Black   \n",
       "\n",
       "name      sex  capital-gain  capital-loss  hours-per-week  native-country  \\\n",
       "0        Male          2174             0              40   United-States   \n",
       "1        Male             0             0              13   United-States   \n",
       "2        Male             0             0              40   United-States   \n",
       "3        Male             0             0              40   United-States   \n",
       "4      Female             0             0              40            Cuba   \n",
       "\n",
       "name  income  \n",
       "0      <=50K  \n",
       "1      <=50K  \n",
       "2      <=50K  \n",
       "3      <=50K  \n",
       "4      <=50K  "
      ],
      "text/html": [
       "<div>\n",
       "<style scoped>\n",
       "    .dataframe tbody tr th:only-of-type {\n",
       "        vertical-align: middle;\n",
       "    }\n",
       "\n",
       "    .dataframe tbody tr th {\n",
       "        vertical-align: top;\n",
       "    }\n",
       "\n",
       "    .dataframe thead th {\n",
       "        text-align: right;\n",
       "    }\n",
       "</style>\n",
       "<table border=\"1\" class=\"dataframe\">\n",
       "  <thead>\n",
       "    <tr style=\"text-align: right;\">\n",
       "      <th>name</th>\n",
       "      <th>age</th>\n",
       "      <th>workclass</th>\n",
       "      <th>fnlwgt</th>\n",
       "      <th>education</th>\n",
       "      <th>education-num</th>\n",
       "      <th>marital-status</th>\n",
       "      <th>occupation</th>\n",
       "      <th>relationship</th>\n",
       "      <th>race</th>\n",
       "      <th>sex</th>\n",
       "      <th>capital-gain</th>\n",
       "      <th>capital-loss</th>\n",
       "      <th>hours-per-week</th>\n",
       "      <th>native-country</th>\n",
       "      <th>income</th>\n",
       "    </tr>\n",
       "  </thead>\n",
       "  <tbody>\n",
       "    <tr>\n",
       "      <th>0</th>\n",
       "      <td>39</td>\n",
       "      <td>State-gov</td>\n",
       "      <td>77516</td>\n",
       "      <td>Bachelors</td>\n",
       "      <td>13</td>\n",
       "      <td>Never-married</td>\n",
       "      <td>Adm-clerical</td>\n",
       "      <td>Not-in-family</td>\n",
       "      <td>White</td>\n",
       "      <td>Male</td>\n",
       "      <td>2174</td>\n",
       "      <td>0</td>\n",
       "      <td>40</td>\n",
       "      <td>United-States</td>\n",
       "      <td>&lt;=50K</td>\n",
       "    </tr>\n",
       "    <tr>\n",
       "      <th>1</th>\n",
       "      <td>50</td>\n",
       "      <td>Self-emp-not-inc</td>\n",
       "      <td>83311</td>\n",
       "      <td>Bachelors</td>\n",
       "      <td>13</td>\n",
       "      <td>Married-civ-spouse</td>\n",
       "      <td>Exec-managerial</td>\n",
       "      <td>Husband</td>\n",
       "      <td>White</td>\n",
       "      <td>Male</td>\n",
       "      <td>0</td>\n",
       "      <td>0</td>\n",
       "      <td>13</td>\n",
       "      <td>United-States</td>\n",
       "      <td>&lt;=50K</td>\n",
       "    </tr>\n",
       "    <tr>\n",
       "      <th>2</th>\n",
       "      <td>38</td>\n",
       "      <td>Private</td>\n",
       "      <td>215646</td>\n",
       "      <td>HS-grad</td>\n",
       "      <td>9</td>\n",
       "      <td>Divorced</td>\n",
       "      <td>Handlers-cleaners</td>\n",
       "      <td>Not-in-family</td>\n",
       "      <td>White</td>\n",
       "      <td>Male</td>\n",
       "      <td>0</td>\n",
       "      <td>0</td>\n",
       "      <td>40</td>\n",
       "      <td>United-States</td>\n",
       "      <td>&lt;=50K</td>\n",
       "    </tr>\n",
       "    <tr>\n",
       "      <th>3</th>\n",
       "      <td>53</td>\n",
       "      <td>Private</td>\n",
       "      <td>234721</td>\n",
       "      <td>11th</td>\n",
       "      <td>7</td>\n",
       "      <td>Married-civ-spouse</td>\n",
       "      <td>Handlers-cleaners</td>\n",
       "      <td>Husband</td>\n",
       "      <td>Black</td>\n",
       "      <td>Male</td>\n",
       "      <td>0</td>\n",
       "      <td>0</td>\n",
       "      <td>40</td>\n",
       "      <td>United-States</td>\n",
       "      <td>&lt;=50K</td>\n",
       "    </tr>\n",
       "    <tr>\n",
       "      <th>4</th>\n",
       "      <td>28</td>\n",
       "      <td>Private</td>\n",
       "      <td>338409</td>\n",
       "      <td>Bachelors</td>\n",
       "      <td>13</td>\n",
       "      <td>Married-civ-spouse</td>\n",
       "      <td>Prof-specialty</td>\n",
       "      <td>Wife</td>\n",
       "      <td>Black</td>\n",
       "      <td>Female</td>\n",
       "      <td>0</td>\n",
       "      <td>0</td>\n",
       "      <td>40</td>\n",
       "      <td>Cuba</td>\n",
       "      <td>&lt;=50K</td>\n",
       "    </tr>\n",
       "  </tbody>\n",
       "</table>\n",
       "</div>"
      ]
     },
     "execution_count": 66,
     "metadata": {},
     "output_type": "execute_result"
    }
   ],
   "execution_count": 66
  },
  {
   "cell_type": "code",
   "id": "107289ca",
   "metadata": {
    "ExecuteTime": {
     "end_time": "2025-06-14T11:06:48.393257Z",
     "start_time": "2025-06-14T11:06:48.390791Z"
    }
   },
   "source": [
    "df_adult.shape"
   ],
   "outputs": [
    {
     "data": {
      "text/plain": [
       "(32561, 15)"
      ]
     },
     "execution_count": 67,
     "metadata": {},
     "output_type": "execute_result"
    }
   ],
   "execution_count": 67
  },
  {
   "cell_type": "code",
   "id": "6d032d69",
   "metadata": {
    "ExecuteTime": {
     "end_time": "2025-06-14T11:06:48.439451Z",
     "start_time": "2025-06-14T11:06:48.436314Z"
    }
   },
   "source": [
    "df_adult.columns"
   ],
   "outputs": [
    {
     "data": {
      "text/plain": [
       "Index(['age', 'workclass', 'fnlwgt', 'education', 'education-num',\n",
       "       'marital-status', 'occupation', 'relationship', 'race', 'sex',\n",
       "       'capital-gain', 'capital-loss', 'hours-per-week', 'native-country',\n",
       "       'income'],\n",
       "      dtype='object', name='name')"
      ]
     },
     "execution_count": 68,
     "metadata": {},
     "output_type": "execute_result"
    }
   ],
   "execution_count": 68
  },
  {
   "cell_type": "code",
   "id": "3f021163",
   "metadata": {
    "ExecuteTime": {
     "end_time": "2025-06-14T11:06:48.499109Z",
     "start_time": "2025-06-14T11:06:48.483208Z"
    }
   },
   "source": [
    "df_adult.describe()"
   ],
   "outputs": [
    {
     "data": {
      "text/plain": [
       "name            age        fnlwgt  education-num  capital-gain  capital-loss  \\\n",
       "count  32561.000000  3.256100e+04   32561.000000  32561.000000  32561.000000   \n",
       "mean      38.581647  1.897784e+05      10.080679   1077.648844     87.303830   \n",
       "std       13.640433  1.055500e+05       2.572720   7385.292085    402.960219   \n",
       "min       17.000000  1.228500e+04       1.000000      0.000000      0.000000   \n",
       "25%       28.000000  1.178270e+05       9.000000      0.000000      0.000000   \n",
       "50%       37.000000  1.783560e+05      10.000000      0.000000      0.000000   \n",
       "75%       48.000000  2.370510e+05      12.000000      0.000000      0.000000   \n",
       "max       90.000000  1.484705e+06      16.000000  99999.000000   4356.000000   \n",
       "\n",
       "name   hours-per-week  \n",
       "count    32561.000000  \n",
       "mean        40.437456  \n",
       "std         12.347429  \n",
       "min          1.000000  \n",
       "25%         40.000000  \n",
       "50%         40.000000  \n",
       "75%         45.000000  \n",
       "max         99.000000  "
      ],
      "text/html": [
       "<div>\n",
       "<style scoped>\n",
       "    .dataframe tbody tr th:only-of-type {\n",
       "        vertical-align: middle;\n",
       "    }\n",
       "\n",
       "    .dataframe tbody tr th {\n",
       "        vertical-align: top;\n",
       "    }\n",
       "\n",
       "    .dataframe thead th {\n",
       "        text-align: right;\n",
       "    }\n",
       "</style>\n",
       "<table border=\"1\" class=\"dataframe\">\n",
       "  <thead>\n",
       "    <tr style=\"text-align: right;\">\n",
       "      <th>name</th>\n",
       "      <th>age</th>\n",
       "      <th>fnlwgt</th>\n",
       "      <th>education-num</th>\n",
       "      <th>capital-gain</th>\n",
       "      <th>capital-loss</th>\n",
       "      <th>hours-per-week</th>\n",
       "    </tr>\n",
       "  </thead>\n",
       "  <tbody>\n",
       "    <tr>\n",
       "      <th>count</th>\n",
       "      <td>32561.000000</td>\n",
       "      <td>3.256100e+04</td>\n",
       "      <td>32561.000000</td>\n",
       "      <td>32561.000000</td>\n",
       "      <td>32561.000000</td>\n",
       "      <td>32561.000000</td>\n",
       "    </tr>\n",
       "    <tr>\n",
       "      <th>mean</th>\n",
       "      <td>38.581647</td>\n",
       "      <td>1.897784e+05</td>\n",
       "      <td>10.080679</td>\n",
       "      <td>1077.648844</td>\n",
       "      <td>87.303830</td>\n",
       "      <td>40.437456</td>\n",
       "    </tr>\n",
       "    <tr>\n",
       "      <th>std</th>\n",
       "      <td>13.640433</td>\n",
       "      <td>1.055500e+05</td>\n",
       "      <td>2.572720</td>\n",
       "      <td>7385.292085</td>\n",
       "      <td>402.960219</td>\n",
       "      <td>12.347429</td>\n",
       "    </tr>\n",
       "    <tr>\n",
       "      <th>min</th>\n",
       "      <td>17.000000</td>\n",
       "      <td>1.228500e+04</td>\n",
       "      <td>1.000000</td>\n",
       "      <td>0.000000</td>\n",
       "      <td>0.000000</td>\n",
       "      <td>1.000000</td>\n",
       "    </tr>\n",
       "    <tr>\n",
       "      <th>25%</th>\n",
       "      <td>28.000000</td>\n",
       "      <td>1.178270e+05</td>\n",
       "      <td>9.000000</td>\n",
       "      <td>0.000000</td>\n",
       "      <td>0.000000</td>\n",
       "      <td>40.000000</td>\n",
       "    </tr>\n",
       "    <tr>\n",
       "      <th>50%</th>\n",
       "      <td>37.000000</td>\n",
       "      <td>1.783560e+05</td>\n",
       "      <td>10.000000</td>\n",
       "      <td>0.000000</td>\n",
       "      <td>0.000000</td>\n",
       "      <td>40.000000</td>\n",
       "    </tr>\n",
       "    <tr>\n",
       "      <th>75%</th>\n",
       "      <td>48.000000</td>\n",
       "      <td>2.370510e+05</td>\n",
       "      <td>12.000000</td>\n",
       "      <td>0.000000</td>\n",
       "      <td>0.000000</td>\n",
       "      <td>45.000000</td>\n",
       "    </tr>\n",
       "    <tr>\n",
       "      <th>max</th>\n",
       "      <td>90.000000</td>\n",
       "      <td>1.484705e+06</td>\n",
       "      <td>16.000000</td>\n",
       "      <td>99999.000000</td>\n",
       "      <td>4356.000000</td>\n",
       "      <td>99.000000</td>\n",
       "    </tr>\n",
       "  </tbody>\n",
       "</table>\n",
       "</div>"
      ]
     },
     "execution_count": 69,
     "metadata": {},
     "output_type": "execute_result"
    }
   ],
   "execution_count": 69
  },
  {
   "cell_type": "code",
   "id": "b18aed3e",
   "metadata": {
    "ExecuteTime": {
     "end_time": "2025-06-14T11:06:48.587043Z",
     "start_time": "2025-06-14T11:06:48.576497Z"
    }
   },
   "source": [
    "df_adult.isna().sum()"
   ],
   "outputs": [
    {
     "data": {
      "text/plain": [
       "name\n",
       "age               0\n",
       "workclass         0\n",
       "fnlwgt            0\n",
       "education         0\n",
       "education-num     0\n",
       "marital-status    0\n",
       "occupation        0\n",
       "relationship      0\n",
       "race              0\n",
       "sex               0\n",
       "capital-gain      0\n",
       "capital-loss      0\n",
       "hours-per-week    0\n",
       "native-country    0\n",
       "income            0\n",
       "dtype: int64"
      ]
     },
     "execution_count": 70,
     "metadata": {},
     "output_type": "execute_result"
    }
   ],
   "execution_count": 70
  },
  {
   "cell_type": "code",
   "id": "136d56a2",
   "metadata": {
    "ExecuteTime": {
     "end_time": "2025-06-14T11:06:48.691987Z",
     "start_time": "2025-06-14T11:06:48.643553Z"
    }
   },
   "source": [
    "df_adult = df_adult.drop_duplicates()\n",
    "df_adult[df_adult.duplicated()]"
   ],
   "outputs": [
    {
     "data": {
      "text/plain": [
       "Empty DataFrame\n",
       "Columns: [age, workclass, fnlwgt, education, education-num, marital-status, occupation, relationship, race, sex, capital-gain, capital-loss, hours-per-week, native-country, income]\n",
       "Index: []"
      ],
      "text/html": [
       "<div>\n",
       "<style scoped>\n",
       "    .dataframe tbody tr th:only-of-type {\n",
       "        vertical-align: middle;\n",
       "    }\n",
       "\n",
       "    .dataframe tbody tr th {\n",
       "        vertical-align: top;\n",
       "    }\n",
       "\n",
       "    .dataframe thead th {\n",
       "        text-align: right;\n",
       "    }\n",
       "</style>\n",
       "<table border=\"1\" class=\"dataframe\">\n",
       "  <thead>\n",
       "    <tr style=\"text-align: right;\">\n",
       "      <th>name</th>\n",
       "      <th>age</th>\n",
       "      <th>workclass</th>\n",
       "      <th>fnlwgt</th>\n",
       "      <th>education</th>\n",
       "      <th>education-num</th>\n",
       "      <th>marital-status</th>\n",
       "      <th>occupation</th>\n",
       "      <th>relationship</th>\n",
       "      <th>race</th>\n",
       "      <th>sex</th>\n",
       "      <th>capital-gain</th>\n",
       "      <th>capital-loss</th>\n",
       "      <th>hours-per-week</th>\n",
       "      <th>native-country</th>\n",
       "      <th>income</th>\n",
       "    </tr>\n",
       "  </thead>\n",
       "  <tbody>\n",
       "  </tbody>\n",
       "</table>\n",
       "</div>"
      ]
     },
     "execution_count": 71,
     "metadata": {},
     "output_type": "execute_result"
    }
   ],
   "execution_count": 71
  },
  {
   "cell_type": "code",
   "id": "f1a4235f",
   "metadata": {
    "ExecuteTime": {
     "end_time": "2025-06-14T11:06:48.778948Z",
     "start_time": "2025-06-14T11:06:48.765135Z"
    }
   },
   "source": [
    "df_adult.info()"
   ],
   "outputs": [
    {
     "name": "stdout",
     "output_type": "stream",
     "text": [
      "<class 'pandas.core.frame.DataFrame'>\n",
      "Index: 32537 entries, 0 to 32560\n",
      "Data columns (total 15 columns):\n",
      " #   Column          Non-Null Count  Dtype \n",
      "---  ------          --------------  ----- \n",
      " 0   age             32537 non-null  int64 \n",
      " 1   workclass       32537 non-null  object\n",
      " 2   fnlwgt          32537 non-null  int64 \n",
      " 3   education       32537 non-null  object\n",
      " 4   education-num   32537 non-null  int64 \n",
      " 5   marital-status  32537 non-null  object\n",
      " 6   occupation      32537 non-null  object\n",
      " 7   relationship    32537 non-null  object\n",
      " 8   race            32537 non-null  object\n",
      " 9   sex             32537 non-null  object\n",
      " 10  capital-gain    32537 non-null  int64 \n",
      " 11  capital-loss    32537 non-null  int64 \n",
      " 12  hours-per-week  32537 non-null  int64 \n",
      " 13  native-country  32537 non-null  object\n",
      " 14  income          32537 non-null  object\n",
      "dtypes: int64(6), object(9)\n",
      "memory usage: 4.0+ MB\n"
     ]
    }
   ],
   "execution_count": 72
  },
  {
   "cell_type": "markdown",
   "id": "ec6c3644",
   "metadata": {},
   "source": [
    "Problème : La description des données indique qu'elles contiennent des valeurs inconnues. Ces valeurs ne sont pas en NaN ou null. Nous pouvons déjà remarquer la présence de '?' en leur lieu et place.\n",
    "\n",
    "## Traitement des données"
   ]
  },
  {
   "cell_type": "code",
   "id": "4f71c629",
   "metadata": {
    "ExecuteTime": {
     "end_time": "2025-06-14T11:06:49.718081Z",
     "start_time": "2025-06-14T11:06:48.828356Z"
    }
   },
   "source": [
    "df_adult = df_adult.replace('\\?', np.nan, regex=True)\n",
    "sns.heatmap(df_adult.isna(), cbar=False, cmap='viridis')\n",
    "print(f\"Nombre de valeurs manquantes : {df_adult.isna().sum()}\")"
   ],
   "outputs": [
    {
     "name": "stdout",
     "output_type": "stream",
     "text": [
      "Nombre de valeurs manquantes : name\n",
      "age                  0\n",
      "workclass         1836\n",
      "fnlwgt               0\n",
      "education            0\n",
      "education-num        0\n",
      "marital-status       0\n",
      "occupation        1843\n",
      "relationship         0\n",
      "race                 0\n",
      "sex                  0\n",
      "capital-gain         0\n",
      "capital-loss         0\n",
      "hours-per-week       0\n",
      "native-country     582\n",
      "income               0\n",
      "dtype: int64\n"
     ]
    },
    {
     "data": {
      "text/plain": [
       "<Figure size 1000x800 with 1 Axes>"
      ],
      "image/png": "[encoded data removed]"
     },
     "metadata": {},
     "output_type": "display_data"
    }
   ],
   "execution_count": 73
  },
  {
   "cell_type": "code",
   "id": "6c06b28a72dceb89",
   "metadata": {
    "ExecuteTime": {
     "end_time": "2025-06-14T11:06:49.743297Z",
     "start_time": "2025-06-14T11:06:49.724100Z"
    }
   },
   "source": [
    "# On remplace les données manquantes par le mode les plus frequentes (si elles depassent les 85%)\n",
    "wrkclass_proportion = df_adult[\"workclass\"].value_counts(dropna=False) / df_adult.shape[0]\n",
    "print(\"workclass : \", wrkclass_proportion.idxmax(), f\"{wrkclass_proportion.max() * 100:.2f}% ({len(wrkclass_proportion)} valeurs uniques)\")\n",
    "occupation_proportion = df_adult[\"occupation\"].value_counts(dropna=False) / df_adult.shape[0]\n",
    "print(\"occupation : \", occupation_proportion.idxmax(), f\"{occupation_proportion.max() * 100:.2f}% ({len(occupation_proportion)} valeurs uniques)\")\n",
    "native_country_proportion = df_adult[\"native-country\"].value_counts(dropna=False) / df_adult.shape[0]\n",
    "print(\"native_country : \", native_country_proportion.idxmax(), f\"{native_country_proportion.max() * 100:.2f}% ({len(native_country_proportion)} valeurs uniques)\")\n",
    "income_proportion = df_adult[\"income\"].value_counts(dropna=False) / df_adult.shape[0]\n",
    "print(\"income : \", income_proportion.idxmax(), f\"{income_proportion.max() * 100:.2f}% ({len(income_proportion)} valeurs uniques)\")\n",
    "\n",
    "# Pour l'instant on remplit les valeurs manquantes par les valeurs les plus fréquentes.\n",
    "for col in [\"workclass\", \"occupation\", \"native-country\"]:\n",
    "    df_adult[col].fillna(df_adult[col].mode()[0], inplace=True)"
   ],
   "outputs": [
    {
     "name": "stdout",
     "output_type": "stream",
     "text": [
      "workclass :   Private 69.68% (9 valeurs uniques)\n",
      "occupation :   Prof-specialty 12.71% (15 valeurs uniques)\n",
      "native_country :   United-States 89.60% (42 valeurs uniques)\n",
      "income :   <=50K 75.91% (2 valeurs uniques)\n"
     ]
    }
   ],
   "execution_count": 74
  },
  {
   "cell_type": "code",
   "id": "1add214f46def1ba",
   "metadata": {
    "ExecuteTime": {
     "end_time": "2025-06-14T12:24:15.112113Z",
     "start_time": "2025-06-14T12:24:15.063291Z"
    }
   },
   "source": [
    "categorical_columns = df_adult.select_dtypes(include=['object']).columns\n",
    "ordinal_encoder = OrdinalEncoder()\n",
    "\n",
    "df_adult_enco = df_adult.copy()\n",
    "# On retire les colonnes inutiles\n",
    "# print(df_adult_enco.columns)\n",
    "# df_adult_enco = df_adult_enco.drop(columns=[\"education-num\"])\n",
    "\n",
    "# On encode les variables catégorielles ordinales\n",
    "for col in categorical_columns:\n",
    "    df_adult_enco[col] = ordinal_encoder.fit_transform(df_adult[[col]])\n",
    "\n",
    "print(df_adult_enco.head())\n"
   ],
   "outputs": [
    {
     "name": "stdout",
     "output_type": "stream",
     "text": [
      "name  age  workclass  fnlwgt  education  education-num  marital-status  \\\n",
      "0      39        6.0   77516        9.0             13             4.0   \n",
      "1      50        5.0   83311        9.0             13             2.0   \n",
      "2      38        3.0  215646       11.0              9             0.0   \n",
      "3      53        3.0  234721        1.0              7             2.0   \n",
      "4      28        3.0  338409        9.0             13             2.0   \n",
      "\n",
      "name  occupation  relationship  race  sex  capital-gain  capital-loss  \\\n",
      "0            0.0           1.0   4.0  1.0          2174             0   \n",
      "1            3.0           0.0   4.0  1.0             0             0   \n",
      "2            5.0           1.0   4.0  1.0             0             0   \n",
      "3            5.0           0.0   2.0  1.0             0             0   \n",
      "4            9.0           5.0   2.0  0.0             0             0   \n",
      "\n",
      "name  hours-per-week  native-country  income  \n",
      "0                 40            38.0     0.0  \n",
      "1                 13            38.0     0.0  \n",
      "2                 40            38.0     0.0  \n",
      "3                 40            38.0     0.0  \n",
      "4                 40             4.0     0.0  \n",
      "income :  0.0 75.91% (2 valeurs uniques)\n"
     ]
    }
   ],
   "execution_count": 99
  },
  {
   "cell_type": "markdown",
   "id": "d61c0a4ba40038da",
   "metadata": {},
   "source": [
    "> On pourrait normaliser les variables numériques, mais pour l'instant on ne le fait pas. On va se concentrer sur la création du modèle de prédiction.\n",
    "\n",
    "## Modele de prediction\n",
    "\n",
    "### Setup\n",
    "\n",
    "> On pourrait faire une pipeline de pretraitement pour chaque pipeline (LabelEncoder, normalisation et drop des values NaN)"
   ]
  },
  {
   "cell_type": "code",
   "id": "aa55e6c1908508db",
   "metadata": {
    "ExecuteTime": {
     "end_time": "2025-06-14T11:06:49.865245Z",
     "start_time": "2025-06-14T11:06:49.850066Z"
    }
   },
   "source": [
    "# Creation de différents sets\n",
    "X_train, X_test, y_train, y_test = train_test_split(df_adult_enco.drop(columns=[\"income\"]), df_adult_enco[\"income\"], test_size=0.2, random_state=69)\n",
    "\n",
    "# On normalise les variables quantitatives sur les données de train (StandardScaler pour l'instant)\n",
    "numerical_columns = df_adult.select_dtypes(include=['int64', 'float64']).columns\n",
    "numerical_scaler = StandardScaler()\n",
    "numerical_scaler.fit(X_train[numerical_columns])\n",
    "X_train[numerical_columns] = numerical_scaler.transform(X_train[numerical_columns])\n",
    "X_test[numerical_columns] = numerical_scaler.transform(X_test[numerical_columns])\n",
    "\n",
    "def eval_model(model, X_test, y_test):\n",
    "    y_pred = model.predict(X_test)\n",
    "    print(f'=== Evaluation du modèle {model.__class__.__name__} ===')\n",
    "    print(f\"Accuracy : {accuracy_score(y_test, y_pred):.4f} (the higher the better)\")\n",
    "    print(f\"Recall : {recall_score(y_test, y_pred):.4f} (the higher the better) (best for us)\")\n",
    "    print(f\"R2 : {r2_score(y_test, y_pred):.4f} (the higher the better)\")\n",
    "    print(f\"MAE : {mean_absolute_error(y_test, y_pred):.4f} (the lower the better)\")\n",
    "    print(f\"RMSE : {mean_squared_error(y_test, y_pred):.4f} (the lower the better)\")\n",
    "    return y_pred"
   ],
   "outputs": [],
   "execution_count": 76
  },
  {
   "cell_type": "markdown",
   "id": "cec6205532cb2e1e",
   "metadata": {},
   "source": [
    "### Arbre de décision"
   ]
  },
  {
   "cell_type": "code",
   "id": "faf2e7624837066c",
   "metadata": {
    "ExecuteTime": {
     "end_time": "2025-06-14T11:06:49.899842Z",
     "start_time": "2025-06-14T11:06:49.896602Z"
    }
   },
   "source": [
    "from sklearn.tree import DecisionTreeClassifier\n",
    "\n",
    "def opt_decision_tree(trial):\n",
    "    max_depth = trial.suggest_int('max_depth', 2, 32)\n",
    "    min_samples_split = trial.suggest_int('min_samples_split', 2, 10)\n",
    "    min_samples_leaf = trial.suggest_int('min_samples_leaf', 1, 4)\n",
    "    max_features = trial.suggest_categorical('max_features', ['sqrt', 'log2'])\n",
    "    criterion = trial.suggest_categorical('criterion', ['gini', 'entropy'])\n",
    "    return DecisionTreeClassifier(\n",
    "        max_depth=max_depth,\n",
    "        min_samples_split=min_samples_split,\n",
    "        min_samples_leaf=min_samples_leaf,\n",
    "        max_features=max_features,\n",
    "        criterion=criterion\n",
    "    )"
   ],
   "outputs": [],
   "execution_count": 77
  },
  {
   "cell_type": "markdown",
   "id": "ce476f8a0cf7891a",
   "metadata": {},
   "source": [
    "> Pas de tres bonnes performances, on va essayer avec un autre modèle.\n",
    "\n",
    "### Random forest"
   ]
  },
  {
   "cell_type": "code",
   "id": "52405f1f0bcfb978",
   "metadata": {
    "ExecuteTime": {
     "end_time": "2025-06-14T11:06:49.944573Z",
     "start_time": "2025-06-14T11:06:49.942127Z"
    }
   },
   "source": [
    "\n",
    "def opt_random_forest(trial):\n",
    "    rf_max_depth = trial.suggest_int('rf_max_depth', 2, 32)\n",
    "    rf_min_samples_split = trial.suggest_int('rf_min_samples_split', 2, 10)\n",
    "    rf_min_samples_leaf = trial.suggest_int('rf_min_samples_leaf', 1, 4)\n",
    "    rf_max_features = trial.suggest_categorical('rf_max_features', ['sqrt', 'log2'])\n",
    "    rf_criterion = trial.suggest_categorical('rf_criterion', ['gini', 'entropy'])\n",
    "    rf_n_estimators = trial.suggest_int('rf_n_estimators', 50, 200)\n",
    "    return RandomForestClassifier(\n",
    "        max_depth=rf_max_depth,\n",
    "        min_samples_split=rf_min_samples_split,\n",
    "        min_samples_leaf=rf_min_samples_leaf,\n",
    "        max_features=rf_max_features,\n",
    "        criterion=rf_criterion,\n",
    "        n_estimators=rf_n_estimators\n",
    "      )"
   ],
   "outputs": [],
   "execution_count": 78
  },
  {
   "metadata": {},
   "cell_type": "markdown",
   "source": "### Regression logistique",
   "id": "6aa0b26492f0ea26"
  },
  {
   "metadata": {
    "ExecuteTime": {
     "end_time": "2025-06-14T11:30:11.501966Z",
     "start_time": "2025-06-14T11:30:11.498984Z"
    }
   },
   "cell_type": "code",
   "source": [
    "def opt_logistic_regression(trial):\n",
    "    solver = trial.suggest_categorical('solver', ['newton-cg', 'lbfgs', 'liblinear', 'sag', 'saga'])\n",
    "\n",
    "    # Filter penalties based on the solver\n",
    "    penalty = \"l2\"  # Default penalty if an error occurs\n",
    "    if solver in ['newton-cg', 'lbfgs', 'sag']:\n",
    "        penalty = trial.suggest_categorical('penalty', ['l2', None])\n",
    "    elif solver == 'liblinear':\n",
    "        penalty = trial.suggest_categorical('penalty-liblinear', ['l1', 'l2'])\n",
    "    elif solver == 'saga':\n",
    "        penalty = trial.suggest_categorical('penalty-saga', ['l1', 'l2', 'elasticnet', None])\n",
    "\n",
    "    C = trial.suggest_float('C', 0.01, 10.0, log=True)\n",
    "    max_iter = trial.suggest_int('max_iter', 50, 500)\n",
    "    return linear_model.LogisticRegression(\n",
    "        penalty=penalty,\n",
    "        C=C,\n",
    "        solver=solver,\n",
    "        max_iter=max_iter\n",
    "    )"
   ],
   "id": "e7c1331e8f9d6309",
   "outputs": [],
   "execution_count": 92
  },
  {
   "cell_type": "markdown",
   "id": "1a3031cdc514bae7",
   "metadata": {},
   "source": [
    "### AdaBoosting"
   ]
  },
  {
   "cell_type": "code",
   "id": "eba4e21b00687def",
   "metadata": {
    "ExecuteTime": {
     "end_time": "2025-06-14T11:06:50.036193Z",
     "start_time": "2025-06-14T11:06:50.033491Z"
    }
   },
   "source": [
    "def opt_adaboost(trial):\n",
    "    base_estimator = trial.suggest_categorical('base_estimator', ['DecisionTree', 'RandomForest'])\n",
    "    base_estimator_obj = None\n",
    "    if base_estimator == 'DecisionTree':\n",
    "        base_estimator_obj = opt_decision_tree(trial)\n",
    "    elif base_estimator == 'RandomForest':\n",
    "        base_estimator_obj = opt_random_forest(trial)\n",
    "\n",
    "    n_estimators = trial.suggest_int('n_estimators', 50, 200)\n",
    "    learning_rate = trial.suggest_float('learning_rate', 0.01, 0.3)\n",
    "\n",
    "    return AdaBoostClassifier(\n",
    "        estimator=base_estimator_obj,\n",
    "        n_estimators=n_estimators,\n",
    "        learning_rate=learning_rate\n",
    "    )"
   ],
   "outputs": [],
   "execution_count": 80
  },
  {
   "cell_type": "markdown",
   "id": "d3f9ecc64667cb38",
   "metadata": {},
   "source": [
    "### Gradient boosting"
   ]
  },
  {
   "cell_type": "code",
   "id": "8fa4715e1c5204c3",
   "metadata": {
    "ExecuteTime": {
     "end_time": "2025-06-14T11:06:50.081166Z",
     "start_time": "2025-06-14T11:06:50.078464Z"
    }
   },
   "source": [
    "from xgboost import XGBClassifier\n",
    "\n",
    "def opt_gradient_boosting(trial):\n",
    "    max_depth = trial.suggest_int('max_depth', 2, 32)\n",
    "    min_samples_split = trial.suggest_int('min_samples_split', 2, 10)\n",
    "    min_samples_leaf = trial.suggest_int('min_samples_leaf', 1, 4)\n",
    "    max_features = trial.suggest_categorical('max_features', ['sqrt', 'log2'])\n",
    "    criterion = trial.suggest_categorical('criterion', ['gini', 'entropy'])\n",
    "    n_estimators = trial.suggest_int('n_estimators', 50, 200)\n",
    "    learning_rate = trial.suggest_float('learning_rate', 0.01, 0.3)\n",
    "    return XGBClassifier(\n",
    "        max_depth=max_depth,\n",
    "        min_samples_split=min_samples_split,\n",
    "        min_samples_leaf=min_samples_leaf,\n",
    "        max_features=max_features,\n",
    "        criterion=criterion,\n",
    "        n_estimators=n_estimators,\n",
    "        learning_rate=learning_rate\n",
    "    )\n",
    "\n"
   ],
   "outputs": [],
   "execution_count": 81
  },
  {
   "cell_type": "markdown",
   "id": "1fdc4d01bc8789a4",
   "metadata": {},
   "source": [
    "### Stacking"
   ]
  },
  {
   "cell_type": "code",
   "id": "60931346aa26bf34",
   "metadata": {
    "ExecuteTime": {
     "end_time": "2025-06-14T11:06:50.126800Z",
     "start_time": "2025-06-14T11:06:50.123384Z"
    }
   },
   "source": [
    "from sklearn.ensemble import StackingClassifier\n",
    "\n",
    "def opt_stacking(trial):\n",
    "    rf_max_depth = trial.suggest_int('rf_max_depth', 2, 32)\n",
    "    rf_min_samples_split = trial.suggest_int('rf_min_samples_split', 2, 10)\n",
    "    rf_min_samples_leaf = trial.suggest_int('rf_min_samples_leaf', 1, 4)\n",
    "    rf_max_features = trial.suggest_categorical('rf_max_features', ['sqrt', 'log2'])\n",
    "    rf_criterion = trial.suggest_categorical('rf_criterion', ['gini', 'entropy'])\n",
    "    rf_n_estimators = trial.suggest_int('rf_n_estimators', 50, 200)\n",
    "\n",
    "    xgb_max_depth = trial.suggest_int('xgb_max_depth', 2, 32)\n",
    "    xgb_min_samples_split = trial.suggest_int('xgb_min_samples_split', 2, 10)\n",
    "    xgb_min_samples_leaf = trial.suggest_int('xgb_min_samples_leaf', 1, 4)\n",
    "    xgb_max_features = trial.suggest_categorical('xgb_max_features', ['sqrt', 'log2'])\n",
    "    xgb_criterion = trial.suggest_categorical('xgb_criterion', ['gini', 'entropy'])\n",
    "    xgb_n_estimators = trial.suggest_int('xgb_n_estimators', 50, 200)\n",
    "\n",
    "    return StackingClassifier(\n",
    "        estimators=[\n",
    "            ('rf', RandomForestClassifier(\n",
    "                max_depth=rf_max_depth,\n",
    "                min_samples_split=rf_min_samples_split,\n",
    "                min_samples_leaf=rf_min_samples_leaf,\n",
    "                max_features=rf_max_features,\n",
    "                criterion=rf_criterion,\n",
    "                n_estimators=rf_n_estimators\n",
    "            )),\n",
    "            ('xgb', XGBClassifier(\n",
    "                max_depth=xgb_max_depth,\n",
    "                min_samples_split=xgb_min_samples_split,\n",
    "                min_samples_leaf=xgb_min_samples_leaf,\n",
    "                max_features=xgb_max_features,\n",
    "                criterion=xgb_criterion,\n",
    "                n_estimators=xgb_n_estimators\n",
    "            ))\n",
    "        ],\n",
    "        final_estimator=XGBClassifier(random_state=69)\n",
    "    )"
   ],
   "outputs": [],
   "execution_count": 82
  },
  {
   "metadata": {},
   "cell_type": "markdown",
   "source": "## Optimisation des hyperparamètres avec `optuna`",
   "id": "f90251a4bf92921"
  },
  {
   "metadata": {
    "ExecuteTime": {
     "end_time": "2025-06-14T12:50:56.879855Z",
     "start_time": "2025-06-14T12:24:48.170723Z"
    }
   },
   "cell_type": "code",
   "source": [
    "def objective(trial):\n",
    "    # Invoke suggest methods of a Trial object to generate hyperparameters.\n",
    "    classifier_name = trial.suggest_categorical('classifier', ['DecisionTree', 'RandomForest', 'LogisticRegression', 'AdaBoosting', 'GradientBoosting'])#, 'Stacking'])\n",
    "    # Create a classifier object based on the suggested hyperparameters.\n",
    "    classifier_obj = None\n",
    "    if classifier_name == 'DecisionTree':\n",
    "        classifier_obj = opt_decision_tree(trial)\n",
    "    elif classifier_name == 'RandomForest':\n",
    "        classifier_obj = opt_random_forest(trial)\n",
    "    elif classifier_name == 'LogisticRegression':\n",
    "        classifier_obj = opt_logistic_regression(trial)\n",
    "    elif classifier_name == 'AdaBoosting':\n",
    "        classifier_obj = opt_adaboost(trial)\n",
    "    elif classifier_name == 'GradientBoosting':\n",
    "        classifier_obj = opt_gradient_boosting(trial)\n",
    "    elif classifier_name == 'Stacking':\n",
    "        classifier_obj = opt_stacking(trial)\n",
    "\n",
    "    classifier_obj.fit(X_train, y_train)\n",
    "    y_pred = classifier_obj.predict(X_test)\n",
    "    recall = recall_score(y_test, y_pred)\n",
    "    precision = precision_score(y_test, y_pred)\n",
    "    # return recall, precision\n",
    "    return recall\n",
    "\n",
    "# study = optuna.create_study(directions=[\"maximize\", \"maximize\"])\n",
    "# On tolère 1 chance sur 1.000.000 de se tromper\n",
    "study = optuna.create_study(direction=\"maximize\", study_name=\"Adult Income Prediction\")\n",
    "study.optimize(objective, n_trials=150)\n",
    "print(\"Best hyperparameters: \", study.best_params)\n",
    "\n",
    "best_model = None\n",
    "if study.best_params['classifier'] == 'DecisionTree':\n",
    "    best_model = opt_decision_tree(optuna.trial.FixedTrial(study.best_params))\n",
    "elif study.best_params['classifier']  == 'RandomForest':\n",
    "    best_model = opt_random_forest(optuna.trial.FixedTrial(study.best_params))\n",
    "elif study.best_params['classifier']  == 'LogisticRegression':\n",
    "    best_model = opt_logistic_regression(optuna.trial.FixedTrial(study.best_params))\n",
    "elif study.best_params['classifier']  == 'AdaBoosting':\n",
    "    best_model = opt_adaboost(optuna.trial.FixedTrial(study.best_params))\n",
    "elif study.best_params['classifier']  == 'GradientBoosting':\n",
    "    best_model = opt_gradient_boosting(optuna.trial.FixedTrial(study.best_params))\n",
    "elif study.best_params['classifier']  == 'Stacking':\n",
    "    best_model = opt_stacking(optuna.trial.FixedTrial(study.best_params))\n",
    "\n",
    "best_model.fit(X_train, y_train)\n",
    "eval_model(best_model, X_test, y_test)\n"
   ],
   "id": "47798d934fb9f931",
   "outputs": [
    {
     "name": "stderr",
     "output_type": "stream",
     "text": [
      "[I 2025-06-14 14:24:48,173] A new study created in memory with name: Adult Income Prediction\n",
      "[I 2025-06-14 14:24:49,203] Trial 0 finished with value: 0.36080467229072033 and parameters: {'classifier': 'RandomForest', 'rf_max_depth': 3, 'rf_min_samples_split': 4, 'rf_min_samples_leaf': 2, 'rf_max_features': 'log2', 'rf_criterion': 'gini', 'rf_n_estimators': 181}. Best is trial 0 with value: 0.36080467229072033.\n",
      "[I 2025-06-14 14:24:49,500] Trial 1 finished with value: 0.45684620376378976 and parameters: {'classifier': 'LogisticRegression', 'solver': 'lbfgs', 'penalty': None, 'C': 0.07591663193651366, 'max_iter': 460}. Best is trial 1 with value: 0.45684620376378976.\n",
      "[I 2025-06-14 14:24:50,152] Trial 2 finished with value: 0.6541207008436081 and parameters: {'classifier': 'GradientBoosting', 'max_depth': 13, 'min_samples_split': 2, 'min_samples_leaf': 1, 'max_features': 'log2', 'criterion': 'gini', 'n_estimators': 177, 'learning_rate': 0.05153144690222833}. Best is trial 2 with value: 0.6541207008436081.\n",
      "[I 2025-06-14 14:24:50,708] Trial 3 finished with value: 0.4581440622972096 and parameters: {'classifier': 'LogisticRegression', 'solver': 'lbfgs', 'penalty': None, 'C': 0.2518033266749494, 'max_iter': 149}. Best is trial 2 with value: 0.6541207008436081.\n",
      "[I 2025-06-14 14:24:51,676] Trial 4 finished with value: 0.5016223231667748 and parameters: {'classifier': 'RandomForest', 'rf_max_depth': 5, 'rf_min_samples_split': 3, 'rf_min_samples_leaf': 4, 'rf_max_features': 'log2', 'rf_criterion': 'entropy', 'rf_n_estimators': 131}. Best is trial 2 with value: 0.6541207008436081.\n",
      "[I 2025-06-14 14:24:52,210] Trial 5 finished with value: 0.6249188838416613 and parameters: {'classifier': 'GradientBoosting', 'max_depth': 13, 'min_samples_split': 2, 'min_samples_leaf': 1, 'max_features': 'log2', 'criterion': 'entropy', 'n_estimators': 130, 'learning_rate': 0.02598831580112962}. Best is trial 2 with value: 0.6541207008436081.\n",
      "[I 2025-06-14 14:24:54,366] Trial 6 finished with value: 0.5704088254380273 and parameters: {'classifier': 'RandomForest', 'rf_max_depth': 12, 'rf_min_samples_split': 2, 'rf_min_samples_leaf': 1, 'rf_max_features': 'sqrt', 'rf_criterion': 'entropy', 'rf_n_estimators': 170}. Best is trial 2 with value: 0.6541207008436081.\n",
      "[I 2025-06-14 14:24:54,441] Trial 7 finished with value: 0.45684620376378976 and parameters: {'classifier': 'LogisticRegression', 'solver': 'newton-cg', 'penalty': None, 'C': 0.07600055746767491, 'max_iter': 307}. Best is trial 2 with value: 0.6541207008436081.\n",
      "[I 2025-06-14 14:24:54,575] Trial 8 finished with value: 0.654769630110318 and parameters: {'classifier': 'GradientBoosting', 'max_depth': 8, 'min_samples_split': 7, 'min_samples_leaf': 3, 'max_features': 'sqrt', 'criterion': 'gini', 'n_estimators': 60, 'learning_rate': 0.25734038721352}. Best is trial 8 with value: 0.654769630110318.\n",
      "[I 2025-06-14 14:24:54,786] Trial 9 finished with value: 0.4698247890979883 and parameters: {'classifier': 'LogisticRegression', 'solver': 'lbfgs', 'penalty': None, 'C': 5.130855030443162, 'max_iter': 74}. Best is trial 8 with value: 0.654769630110318.\n",
      "[I 2025-06-14 14:26:02,061] Trial 10 finished with value: 0.5976638546398443 and parameters: {'classifier': 'AdaBoosting', 'base_estimator': 'RandomForest', 'rf_max_depth': 31, 'rf_min_samples_split': 10, 'rf_min_samples_leaf': 4, 'rf_max_features': 'sqrt', 'rf_criterion': 'gini', 'rf_n_estimators': 69, 'n_estimators': 55, 'learning_rate': 0.29644461370179226}. Best is trial 8 with value: 0.654769630110318.\n",
      "[I 2025-06-14 14:26:02,263] Trial 11 finished with value: 0.6443867618429591 and parameters: {'classifier': 'GradientBoosting', 'max_depth': 8, 'min_samples_split': 8, 'min_samples_leaf': 3, 'max_features': 'sqrt', 'criterion': 'gini', 'n_estimators': 198, 'learning_rate': 0.2052001949966117}. Best is trial 8 with value: 0.654769630110318.\n",
      "[I 2025-06-14 14:26:02,326] Trial 12 finished with value: 0.54510058403634 and parameters: {'classifier': 'GradientBoosting', 'max_depth': 4, 'min_samples_split': 5, 'min_samples_leaf': 4, 'max_features': 'sqrt', 'criterion': 'gini', 'n_estimators': 62, 'learning_rate': 0.05975873266751476}. Best is trial 8 with value: 0.654769630110318.\n",
      "[I 2025-06-14 14:26:02,366] Trial 13 finished with value: 0.5723556132381571 and parameters: {'classifier': 'DecisionTree', 'max_depth': 25, 'min_samples_split': 6, 'min_samples_leaf': 1, 'max_features': 'log2', 'criterion': 'gini'}. Best is trial 8 with value: 0.654769630110318.\n",
      "[I 2025-06-14 14:26:02,876] Trial 14 finished with value: 0.6372485399091499 and parameters: {'classifier': 'GradientBoosting', 'max_depth': 18, 'min_samples_split': 10, 'min_samples_leaf': 2, 'max_features': 'log2', 'criterion': 'gini', 'n_estimators': 173, 'learning_rate': 0.1302671769893259}. Best is trial 8 with value: 0.654769630110318.\n",
      "[I 2025-06-14 14:26:03,132] Trial 15 finished with value: 0.6398442569759896 and parameters: {'classifier': 'GradientBoosting', 'max_depth': 14, 'min_samples_split': 3, 'min_samples_leaf': 3, 'max_features': 'sqrt', 'criterion': 'gini', 'n_estimators': 113, 'learning_rate': 0.2570336777687863}. Best is trial 8 with value: 0.654769630110318.\n",
      "[I 2025-06-14 14:26:03,167] Trial 16 finished with value: 0.5295262816353018 and parameters: {'classifier': 'DecisionTree', 'max_depth': 8, 'min_samples_split': 8, 'min_samples_leaf': 2, 'max_features': 'log2', 'criterion': 'entropy'}. Best is trial 8 with value: 0.654769630110318.\n",
      "[I 2025-06-14 14:26:06,220] Trial 17 finished with value: 0.6327060350421804 and parameters: {'classifier': 'AdaBoosting', 'base_estimator': 'DecisionTree', 'max_depth': 21, 'min_samples_split': 4, 'min_samples_leaf': 4, 'max_features': 'sqrt', 'criterion': 'gini', 'n_estimators': 126, 'learning_rate': 0.13788107322628174}. Best is trial 8 with value: 0.654769630110318.\n",
      "[I 2025-06-14 14:26:06,387] Trial 18 finished with value: 0.6482803374432187 and parameters: {'classifier': 'GradientBoosting', 'max_depth': 10, 'min_samples_split': 7, 'min_samples_leaf': 2, 'max_features': 'sqrt', 'criterion': 'gini', 'n_estimators': 91, 'learning_rate': 0.08359357635927804}. Best is trial 8 with value: 0.654769630110318.\n",
      "[I 2025-06-14 14:26:06,480] Trial 19 finished with value: 0.6469824789097989 and parameters: {'classifier': 'GradientBoosting', 'max_depth': 4, 'min_samples_split': 5, 'min_samples_leaf': 3, 'max_features': 'log2', 'criterion': 'entropy', 'n_estimators': 152, 'learning_rate': 0.20119133563365443}. Best is trial 8 with value: 0.654769630110318.\n",
      "[I 2025-06-14 14:26:06,949] Trial 20 finished with value: 0.6372485399091499 and parameters: {'classifier': 'GradientBoosting', 'max_depth': 30, 'min_samples_split': 10, 'min_samples_leaf': 1, 'max_features': 'sqrt', 'criterion': 'gini', 'n_estimators': 88, 'learning_rate': 0.19373790104228258}. Best is trial 8 with value: 0.654769630110318.\n",
      "[I 2025-06-14 14:26:07,120] Trial 21 finished with value: 0.6443867618429591 and parameters: {'classifier': 'GradientBoosting', 'max_depth': 11, 'min_samples_split': 7, 'min_samples_leaf': 2, 'max_features': 'sqrt', 'criterion': 'gini', 'n_estimators': 79, 'learning_rate': 0.08100298816637878}. Best is trial 8 with value: 0.654769630110318.\n",
      "[I 2025-06-14 14:26:07,349] Trial 22 finished with value: 0.6567164179104478 and parameters: {'classifier': 'GradientBoosting', 'max_depth': 10, 'min_samples_split': 7, 'min_samples_leaf': 2, 'max_features': 'sqrt', 'criterion': 'gini', 'n_estimators': 98, 'learning_rate': 0.08831393486408823}. Best is trial 22 with value: 0.6567164179104478.\n",
      "[I 2025-06-14 14:26:08,044] Trial 23 finished with value: 0.5243348475016223 and parameters: {'classifier': 'GradientBoosting', 'max_depth': 16, 'min_samples_split': 8, 'min_samples_leaf': 3, 'max_features': 'sqrt', 'criterion': 'gini', 'n_estimators': 104, 'learning_rate': 0.01289178913592351}. Best is trial 22 with value: 0.6567164179104478.\n",
      "[I 2025-06-14 14:26:08,076] Trial 24 finished with value: 0.0 and parameters: {'classifier': 'DecisionTree', 'max_depth': 2, 'min_samples_split': 6, 'min_samples_leaf': 1, 'max_features': 'log2', 'criterion': 'gini'}. Best is trial 22 with value: 0.6567164179104478.\n",
      "[I 2025-06-14 14:26:08,302] Trial 25 finished with value: 0.6560674886437379 and parameters: {'classifier': 'GradientBoosting', 'max_depth': 7, 'min_samples_split': 2, 'min_samples_leaf': 2, 'max_features': 'sqrt', 'criterion': 'gini', 'n_estimators': 155, 'learning_rate': 0.10115901643843811}. Best is trial 22 with value: 0.6567164179104478.\n",
      "[I 2025-06-14 14:26:10,504] Trial 26 finished with value: 0.627514600908501 and parameters: {'classifier': 'AdaBoosting', 'base_estimator': 'DecisionTree', 'max_depth': 7, 'min_samples_split': 7, 'min_samples_leaf': 2, 'max_features': 'sqrt', 'criterion': 'entropy', 'n_estimators': 146, 'learning_rate': 0.10856479807579608}. Best is trial 22 with value: 0.6567164179104478.\n",
      "[I 2025-06-14 14:26:10,606] Trial 27 finished with value: 0.6469824789097989 and parameters: {'classifier': 'GradientBoosting', 'max_depth': 7, 'min_samples_split': 9, 'min_samples_leaf': 3, 'max_features': 'sqrt', 'criterion': 'gini', 'n_estimators': 70, 'learning_rate': 0.1674115692215436}. Best is trial 22 with value: 0.6567164179104478.\n",
      "[I 2025-06-14 14:26:10,730] Trial 28 finished with value: 0.6372485399091499 and parameters: {'classifier': 'GradientBoosting', 'max_depth': 5, 'min_samples_split': 5, 'min_samples_leaf': 2, 'max_features': 'sqrt', 'criterion': 'gini', 'n_estimators': 102, 'learning_rate': 0.10316011273301115}. Best is trial 22 with value: 0.6567164179104478.\n",
      "[I 2025-06-14 14:26:11,763] Trial 29 finished with value: 0.6197274497079819 and parameters: {'classifier': 'RandomForest', 'rf_max_depth': 30, 'rf_min_samples_split': 9, 'rf_min_samples_leaf': 1, 'rf_max_features': 'sqrt', 'rf_criterion': 'entropy', 'rf_n_estimators': 54}. Best is trial 22 with value: 0.6567164179104478.\n",
      "[I 2025-06-14 14:26:11,986] Trial 30 finished with value: 0.6502271252433485 and parameters: {'classifier': 'GradientBoosting', 'max_depth': 10, 'min_samples_split': 6, 'min_samples_leaf': 4, 'max_features': 'sqrt', 'criterion': 'gini', 'n_estimators': 132, 'learning_rate': 0.24789219827353492}. Best is trial 22 with value: 0.6567164179104478.\n",
      "[I 2025-06-14 14:26:12,543] Trial 31 finished with value: 0.6495781959766386 and parameters: {'classifier': 'GradientBoosting', 'max_depth': 13, 'min_samples_split': 2, 'min_samples_leaf': 1, 'max_features': 'sqrt', 'criterion': 'gini', 'n_estimators': 176, 'learning_rate': 0.0402078608193607}. Best is trial 22 with value: 0.6567164179104478.\n",
      "[I 2025-06-14 14:26:12,940] Trial 32 finished with value: 0.6482803374432187 and parameters: {'classifier': 'GradientBoosting', 'max_depth': 11, 'min_samples_split': 3, 'min_samples_leaf': 2, 'max_features': 'log2', 'criterion': 'gini', 'n_estimators': 168, 'learning_rate': 0.05905699359798021}. Best is trial 22 with value: 0.6567164179104478.\n",
      "[I 2025-06-14 14:26:13,836] Trial 33 finished with value: 0.6398442569759896 and parameters: {'classifier': 'GradientBoosting', 'max_depth': 19, 'min_samples_split': 3, 'min_samples_leaf': 3, 'max_features': 'sqrt', 'criterion': 'gini', 'n_estimators': 190, 'learning_rate': 0.10412288128455366}. Best is trial 22 with value: 0.6567164179104478.\n",
      "[I 2025-06-14 14:26:15,645] Trial 34 finished with value: 0.6073977936404932 and parameters: {'classifier': 'RandomForest', 'rf_max_depth': 21, 'rf_min_samples_split': 7, 'rf_min_samples_leaf': 3, 'rf_max_features': 'log2', 'rf_criterion': 'gini', 'rf_n_estimators': 115}. Best is trial 22 with value: 0.6567164179104478.\n",
      "[I 2025-06-14 14:26:16,168] Trial 35 finished with value: 0.44127190136275146 and parameters: {'classifier': 'LogisticRegression', 'solver': 'saga', 'penalty-saga': 'l2', 'C': 0.011721699438611878, 'max_iter': 488}. Best is trial 22 with value: 0.6567164179104478.\n",
      "[I 2025-06-14 14:26:16,690] Trial 36 finished with value: 0.6482803374432187 and parameters: {'classifier': 'GradientBoosting', 'max_depth': 15, 'min_samples_split': 2, 'min_samples_leaf': 2, 'max_features': 'log2', 'criterion': 'gini', 'n_estimators': 158, 'learning_rate': 0.06081036424998054}. Best is trial 22 with value: 0.6567164179104478.\n",
      "[I 2025-06-14 14:26:16,889] Trial 37 finished with value: 0.6482803374432187 and parameters: {'classifier': 'GradientBoosting', 'max_depth': 6, 'min_samples_split': 4, 'min_samples_leaf': 1, 'max_features': 'sqrt', 'criterion': 'gini', 'n_estimators': 186, 'learning_rate': 0.15322306565491162}. Best is trial 22 with value: 0.6567164179104478.\n",
      "[I 2025-06-14 14:30:25,778] Trial 38 finished with value: 0.5970149253731343 and parameters: {'classifier': 'AdaBoosting', 'base_estimator': 'RandomForest', 'rf_max_depth': 19, 'rf_min_samples_split': 7, 'rf_min_samples_leaf': 2, 'rf_max_features': 'sqrt', 'rf_criterion': 'gini', 'rf_n_estimators': 103, 'n_estimators': 140, 'learning_rate': 0.08504875329050991}. Best is trial 22 with value: 0.6567164179104478.\n",
      "[I 2025-06-14 14:30:26,137] Trial 39 finished with value: 0.45684620376378976 and parameters: {'classifier': 'LogisticRegression', 'solver': 'liblinear', 'penalty-liblinear': 'l1', 'C': 8.924916456611985, 'max_iter': 276}. Best is trial 22 with value: 0.6567164179104478.\n",
      "[I 2025-06-14 14:30:28,269] Trial 40 finished with value: 0.573004542504867 and parameters: {'classifier': 'RandomForest', 'rf_max_depth': 12, 'rf_min_samples_split': 6, 'rf_min_samples_leaf': 3, 'rf_max_features': 'log2', 'rf_criterion': 'entropy', 'rf_n_estimators': 147}. Best is trial 22 with value: 0.6567164179104478.\n",
      "[I 2025-06-14 14:30:28,477] Trial 41 finished with value: 0.645684620376379 and parameters: {'classifier': 'GradientBoosting', 'max_depth': 10, 'min_samples_split': 7, 'min_samples_leaf': 4, 'max_features': 'sqrt', 'criterion': 'gini', 'n_estimators': 117, 'learning_rate': 0.25353240818398076}. Best is trial 22 with value: 0.6567164179104478.\n",
      "[I 2025-06-14 14:30:28,777] Trial 42 finished with value: 0.6463335496430889 and parameters: {'classifier': 'GradientBoosting', 'max_depth': 10, 'min_samples_split': 7, 'min_samples_leaf': 4, 'max_features': 'sqrt', 'criterion': 'gini', 'n_estimators': 163, 'learning_rate': 0.2524635993424136}. Best is trial 22 with value: 0.6567164179104478.\n",
      "[I 2025-06-14 14:30:29,167] Trial 43 finished with value: 0.6443867618429591 and parameters: {'classifier': 'GradientBoosting', 'max_depth': 12, 'min_samples_split': 6, 'min_samples_leaf': 4, 'max_features': 'sqrt', 'criterion': 'gini', 'n_estimators': 135, 'learning_rate': 0.2950154814188859}. Best is trial 22 with value: 0.6567164179104478.\n",
      "[I 2025-06-14 14:30:29,501] Trial 44 finished with value: 0.6359506813757301 and parameters: {'classifier': 'GradientBoosting', 'max_depth': 9, 'min_samples_split': 6, 'min_samples_leaf': 3, 'max_features': 'sqrt', 'criterion': 'gini', 'n_estimators': 149, 'learning_rate': 0.27141882392473105}. Best is trial 22 with value: 0.6567164179104478.\n",
      "[I 2025-06-14 14:30:29,555] Trial 45 finished with value: 0.5833874107722258 and parameters: {'classifier': 'DecisionTree', 'max_depth': 13, 'min_samples_split': 2, 'min_samples_leaf': 1, 'max_features': 'log2', 'criterion': 'entropy'}. Best is trial 22 with value: 0.6567164179104478.\n",
      "[I 2025-06-14 14:30:29,662] Trial 46 finished with value: 0.6489292667099286 and parameters: {'classifier': 'GradientBoosting', 'max_depth': 8, 'min_samples_split': 4, 'min_samples_leaf': 2, 'max_features': 'sqrt', 'criterion': 'gini', 'n_estimators': 50, 'learning_rate': 0.2240900522377596}. Best is trial 22 with value: 0.6567164179104478.\n",
      "[I 2025-06-14 14:30:29,772] Trial 47 finished with value: 0.5379623621025308 and parameters: {'classifier': 'GradientBoosting', 'max_depth': 3, 'min_samples_split': 8, 'min_samples_leaf': 3, 'max_features': 'sqrt', 'criterion': 'entropy', 'n_estimators': 130, 'learning_rate': 0.04066162594394343}. Best is trial 22 with value: 0.6567164179104478.\n",
      "[I 2025-06-14 14:30:30,086] Trial 48 finished with value: 0.45684620376378976 and parameters: {'classifier': 'LogisticRegression', 'solver': 'sag', 'penalty': 'l2', 'C': 1.3257862300052023, 'max_iter': 367}. Best is trial 22 with value: 0.6567164179104478.\n",
      "[I 2025-06-14 14:30:30,208] Trial 49 finished with value: 0.6567164179104478 and parameters: {'classifier': 'GradientBoosting', 'max_depth': 6, 'min_samples_split': 9, 'min_samples_leaf': 4, 'max_features': 'sqrt', 'criterion': 'gini', 'n_estimators': 119, 'learning_rate': 0.23409352943562567}. Best is trial 22 with value: 0.6567164179104478.\n",
      "[I 2025-06-14 14:37:12,287] Trial 50 finished with value: 0.6067488643737833 and parameters: {'classifier': 'AdaBoosting', 'base_estimator': 'RandomForest', 'rf_max_depth': 26, 'rf_min_samples_split': 5, 'rf_min_samples_leaf': 4, 'rf_max_features': 'log2', 'rf_criterion': 'gini', 'rf_n_estimators': 199, 'n_estimators': 112, 'learning_rate': 0.22791442687286223}. Best is trial 22 with value: 0.6567164179104478.\n",
      "[I 2025-06-14 14:37:12,419] Trial 51 finished with value: 0.6515249837767684 and parameters: {'classifier': 'GradientBoosting', 'max_depth': 6, 'min_samples_split': 9, 'min_samples_leaf': 4, 'max_features': 'sqrt', 'criterion': 'gini', 'n_estimators': 122, 'learning_rate': 0.2738151226993259}. Best is trial 22 with value: 0.6567164179104478.\n",
      "[I 2025-06-14 14:37:12,521] Trial 52 finished with value: 0.6515249837767684 and parameters: {'classifier': 'GradientBoosting', 'max_depth': 5, 'min_samples_split': 9, 'min_samples_leaf': 4, 'max_features': 'sqrt', 'criterion': 'gini', 'n_estimators': 95, 'learning_rate': 0.2812640615850184}. Best is trial 22 with value: 0.6567164179104478.\n",
      "[I 2025-06-14 14:37:12,679] Trial 53 finished with value: 0.6489292667099286 and parameters: {'classifier': 'GradientBoosting', 'max_depth': 7, 'min_samples_split': 9, 'min_samples_leaf': 4, 'max_features': 'sqrt', 'criterion': 'gini', 'n_estimators': 120, 'learning_rate': 0.283971833180518}. Best is trial 22 with value: 0.6567164179104478.\n",
      "[I 2025-06-14 14:37:12,788] Trial 54 finished with value: 0.6502271252433485 and parameters: {'classifier': 'GradientBoosting', 'max_depth': 5, 'min_samples_split': 9, 'min_samples_leaf': 3, 'max_features': 'log2', 'criterion': 'gini', 'n_estimators': 78, 'learning_rate': 0.23396334122752707}. Best is trial 22 with value: 0.6567164179104478.\n",
      "[I 2025-06-14 14:37:12,830] Trial 55 finished with value: 0.5314730694354315 and parameters: {'classifier': 'DecisionTree', 'max_depth': 8, 'min_samples_split': 10, 'min_samples_leaf': 4, 'max_features': 'sqrt', 'criterion': 'gini'}. Best is trial 22 with value: 0.6567164179104478.\n",
      "[I 2025-06-14 14:37:12,949] Trial 56 finished with value: 0.5989617131732641 and parameters: {'classifier': 'GradientBoosting', 'max_depth': 2, 'min_samples_split': 8, 'min_samples_leaf': 2, 'max_features': 'sqrt', 'criterion': 'gini', 'n_estimators': 178, 'learning_rate': 0.12268682160626676}. Best is trial 22 with value: 0.6567164179104478.\n",
      "[I 2025-06-14 14:37:13,125] Trial 57 finished with value: 0.6430889033095393 and parameters: {'classifier': 'GradientBoosting', 'max_depth': 12, 'min_samples_split': 3, 'min_samples_leaf': 1, 'max_features': 'log2', 'criterion': 'gini', 'n_estimators': 60, 'learning_rate': 0.27179854247432317}. Best is trial 22 with value: 0.6567164179104478.\n",
      "[I 2025-06-14 14:37:13,289] Trial 58 finished with value: 0.6437378325762492 and parameters: {'classifier': 'GradientBoosting', 'max_depth': 6, 'min_samples_split': 8, 'min_samples_leaf': 3, 'max_features': 'sqrt', 'criterion': 'gini', 'n_estimators': 124, 'learning_rate': 0.07331252204368206}. Best is trial 22 with value: 0.6567164179104478.\n",
      "[I 2025-06-14 14:37:14,646] Trial 59 finished with value: 0.5678131083711876 and parameters: {'classifier': 'RandomForest', 'rf_max_depth': 12, 'rf_min_samples_split': 8, 'rf_min_samples_leaf': 2, 'rf_max_features': 'sqrt', 'rf_criterion': 'entropy', 'rf_n_estimators': 95}. Best is trial 22 with value: 0.6567164179104478.\n",
      "[I 2025-06-14 14:37:14,806] Trial 60 finished with value: 0.6508760545100584 and parameters: {'classifier': 'GradientBoosting', 'max_depth': 9, 'min_samples_split': 10, 'min_samples_leaf': 4, 'max_features': 'sqrt', 'criterion': 'gini', 'n_estimators': 107, 'learning_rate': 0.1848601523275597}. Best is trial 22 with value: 0.6567164179104478.\n",
      "[I 2025-06-14 14:37:14,914] Trial 61 finished with value: 0.6463335496430889 and parameters: {'classifier': 'GradientBoosting', 'max_depth': 4, 'min_samples_split': 9, 'min_samples_leaf': 4, 'max_features': 'sqrt', 'criterion': 'gini', 'n_estimators': 92, 'learning_rate': 0.27501313892627266}. Best is trial 22 with value: 0.6567164179104478.\n",
      "[I 2025-06-14 14:37:15,017] Trial 62 finished with value: 0.6463335496430889 and parameters: {'classifier': 'GradientBoosting', 'max_depth': 5, 'min_samples_split': 9, 'min_samples_leaf': 4, 'max_features': 'sqrt', 'criterion': 'gini', 'n_estimators': 93, 'learning_rate': 0.2994346745521937}. Best is trial 22 with value: 0.6567164179104478.\n",
      "[I 2025-06-14 14:37:15,123] Trial 63 finished with value: 0.6482803374432187 and parameters: {'classifier': 'GradientBoosting', 'max_depth': 6, 'min_samples_split': 9, 'min_samples_leaf': 4, 'max_features': 'sqrt', 'criterion': 'gini', 'n_estimators': 69, 'learning_rate': 0.26321300403401204}. Best is trial 22 with value: 0.6567164179104478.\n",
      "[I 2025-06-14 14:37:15,293] Trial 64 finished with value: 0.6593121349772875 and parameters: {'classifier': 'GradientBoosting', 'max_depth': 8, 'min_samples_split': 8, 'min_samples_leaf': 4, 'max_features': 'sqrt', 'criterion': 'gini', 'n_estimators': 108, 'learning_rate': 0.23934505434643485}. Best is trial 64 with value: 0.6593121349772875.\n",
      "[I 2025-06-14 14:37:15,505] Trial 65 finished with value: 0.6443867618429591 and parameters: {'classifier': 'GradientBoosting', 'max_depth': 9, 'min_samples_split': 8, 'min_samples_leaf': 2, 'max_features': 'log2', 'criterion': 'entropy', 'n_estimators': 111, 'learning_rate': 0.21455121683297954}. Best is trial 64 with value: 0.6593121349772875.\n",
      "[I 2025-06-14 14:37:15,956] Trial 66 finished with value: 0.6411421155094095 and parameters: {'classifier': 'GradientBoosting', 'max_depth': 14, 'min_samples_split': 7, 'min_samples_leaf': 3, 'max_features': 'sqrt', 'criterion': 'gini', 'n_estimators': 141, 'learning_rate': 0.23739404231520755}. Best is trial 64 with value: 0.6593121349772875.\n",
      "[I 2025-06-14 14:37:18,807] Trial 67 finished with value: 0.6158338741077223 and parameters: {'classifier': 'AdaBoosting', 'base_estimator': 'DecisionTree', 'max_depth': 7, 'min_samples_split': 8, 'min_samples_leaf': 4, 'max_features': 'sqrt', 'criterion': 'gini', 'n_estimators': 198, 'learning_rate': 0.04682639466382481}. Best is trial 64 with value: 0.6593121349772875.\n",
      "[I 2025-06-14 14:37:18,851] Trial 68 finished with value: 0.5665152498377677 and parameters: {'classifier': 'DecisionTree', 'max_depth': 31, 'min_samples_split': 7, 'min_samples_leaf': 2, 'max_features': 'sqrt', 'criterion': 'gini'}. Best is trial 64 with value: 0.6593121349772875.\n",
      "[I 2025-06-14 14:37:19,119] Trial 69 finished with value: 0.44127190136275146 and parameters: {'classifier': 'LogisticRegression', 'solver': 'sag', 'penalty': 'l2', 'C': 0.01174413229923254, 'max_iter': 179}. Best is trial 64 with value: 0.6593121349772875.\n",
      "[I 2025-06-14 14:37:20,125] Trial 70 finished with value: 0.5165476963011032 and parameters: {'classifier': 'GradientBoosting', 'max_depth': 26, 'min_samples_split': 8, 'min_samples_leaf': 1, 'max_features': 'log2', 'criterion': 'gini', 'n_estimators': 100, 'learning_rate': 0.012848419329317906}. Best is trial 64 with value: 0.6593121349772875.\n",
      "[I 2025-06-14 14:37:20,223] Trial 71 finished with value: 0.6281635301752109 and parameters: {'classifier': 'GradientBoosting', 'max_depth': 3, 'min_samples_split': 9, 'min_samples_leaf': 4, 'max_features': 'sqrt', 'criterion': 'gini', 'n_estimators': 98, 'learning_rate': 0.2829559593800692}. Best is trial 64 with value: 0.6593121349772875.\n",
      "[I 2025-06-14 14:37:20,380] Trial 72 finished with value: 0.6586632057105776 and parameters: {'classifier': 'GradientBoosting', 'max_depth': 8, 'min_samples_split': 10, 'min_samples_leaf': 4, 'max_features': 'sqrt', 'criterion': 'gini', 'n_estimators': 86, 'learning_rate': 0.24345034812162172}. Best is trial 64 with value: 0.6593121349772875.\n",
      "[I 2025-06-14 14:37:20,570] Trial 73 finished with value: 0.6469824789097989 and parameters: {'classifier': 'GradientBoosting', 'max_depth': 8, 'min_samples_split': 10, 'min_samples_leaf': 4, 'max_features': 'sqrt', 'criterion': 'gini', 'n_estimators': 84, 'learning_rate': 0.24044237140681118}. Best is trial 64 with value: 0.6593121349772875.\n",
      "[I 2025-06-14 14:37:20,847] Trial 74 finished with value: 0.6320571057754705 and parameters: {'classifier': 'GradientBoosting', 'max_depth': 11, 'min_samples_split': 10, 'min_samples_leaf': 4, 'max_features': 'sqrt', 'criterion': 'gini', 'n_estimators': 121, 'learning_rate': 0.21549836616783336}. Best is trial 64 with value: 0.6593121349772875.\n",
      "[I 2025-06-14 14:37:21,038] Trial 75 finished with value: 0.6489292667099286 and parameters: {'classifier': 'GradientBoosting', 'max_depth': 8, 'min_samples_split': 2, 'min_samples_leaf': 4, 'max_features': 'sqrt', 'criterion': 'gini', 'n_estimators': 107, 'learning_rate': 0.2620236701688404}. Best is trial 64 with value: 0.6593121349772875.\n",
      "[I 2025-06-14 14:37:21,161] Trial 76 finished with value: 0.6378974691758599 and parameters: {'classifier': 'GradientBoosting', 'max_depth': 6, 'min_samples_split': 5, 'min_samples_leaf': 3, 'max_features': 'sqrt', 'criterion': 'gini', 'n_estimators': 72, 'learning_rate': 0.09200662487434874}. Best is trial 64 with value: 0.6593121349772875.\n",
      "[I 2025-06-14 14:37:22,528] Trial 77 finished with value: 0.6132381570408826 and parameters: {'classifier': 'RandomForest', 'rf_max_depth': 26, 'rf_min_samples_split': 2, 'rf_min_samples_leaf': 3, 'rf_max_features': 'sqrt', 'rf_criterion': 'entropy', 'rf_n_estimators': 78}. Best is trial 64 with value: 0.6593121349772875.\n",
      "[I 2025-06-14 14:37:22,678] Trial 78 finished with value: 0.6404931862426996 and parameters: {'classifier': 'GradientBoosting', 'max_depth': 9, 'min_samples_split': 3, 'min_samples_leaf': 2, 'max_features': 'sqrt', 'criterion': 'entropy', 'n_estimators': 85, 'learning_rate': 0.07008003461296772}. Best is trial 64 with value: 0.6593121349772875.\n",
      "[I 2025-06-14 14:37:22,931] Trial 79 finished with value: 0.6450356911096691 and parameters: {'classifier': 'GradientBoosting', 'max_depth': 11, 'min_samples_split': 10, 'min_samples_leaf': 4, 'max_features': 'log2', 'criterion': 'gini', 'n_estimators': 114, 'learning_rate': 0.12134251803910288}. Best is trial 64 with value: 0.6593121349772875.\n",
      "[I 2025-06-14 14:37:23,096] Trial 80 finished with value: 0.6469824789097989 and parameters: {'classifier': 'GradientBoosting', 'max_depth': 7, 'min_samples_split': 6, 'min_samples_leaf': 1, 'max_features': 'sqrt', 'criterion': 'gini', 'n_estimators': 125, 'learning_rate': 0.2474918976277006}. Best is trial 64 with value: 0.6593121349772875.\n",
      "[I 2025-06-14 14:37:23,205] Trial 81 finished with value: 0.6353017521090201 and parameters: {'classifier': 'GradientBoosting', 'max_depth': 4, 'min_samples_split': 9, 'min_samples_leaf': 4, 'max_features': 'sqrt', 'criterion': 'gini', 'n_estimators': 95, 'learning_rate': 0.14436940649509483}. Best is trial 64 with value: 0.6593121349772875.\n",
      "[I 2025-06-14 14:37:23,328] Trial 82 finished with value: 0.6560674886437379 and parameters: {'classifier': 'GradientBoosting', 'max_depth': 5, 'min_samples_split': 9, 'min_samples_leaf': 4, 'max_features': 'sqrt', 'criterion': 'gini', 'n_estimators': 104, 'learning_rate': 0.28804569026425997}. Best is trial 64 with value: 0.6593121349772875.\n",
      "[I 2025-06-14 14:37:23,484] Trial 83 finished with value: 0.6495781959766386 and parameters: {'classifier': 'GradientBoosting', 'max_depth': 6, 'min_samples_split': 7, 'min_samples_leaf': 4, 'max_features': 'sqrt', 'criterion': 'gini', 'n_estimators': 107, 'learning_rate': 0.26375627575021915}. Best is trial 64 with value: 0.6593121349772875.\n",
      "[I 2025-06-14 14:37:24,169] Trial 84 finished with value: 0.6054510058403634 and parameters: {'classifier': 'GradientBoosting', 'max_depth': 17, 'min_samples_split': 9, 'min_samples_leaf': 4, 'max_features': 'sqrt', 'criterion': 'gini', 'n_estimators': 102, 'learning_rate': 0.027483864435352674}. Best is trial 64 with value: 0.6593121349772875.\n",
      "[I 2025-06-14 14:37:24,483] Trial 85 finished with value: 0.6502271252433485 and parameters: {'classifier': 'GradientBoosting', 'max_depth': 9, 'min_samples_split': 2, 'min_samples_leaf': 3, 'max_features': 'sqrt', 'criterion': 'gini', 'n_estimators': 158, 'learning_rate': 0.17530156718042006}. Best is trial 64 with value: 0.6593121349772875.\n",
      "[I 2025-06-14 14:37:26,635] Trial 86 finished with value: 0.6450356911096691 and parameters: {'classifier': 'AdaBoosting', 'base_estimator': 'DecisionTree', 'max_depth': 10, 'min_samples_split': 7, 'min_samples_leaf': 4, 'max_features': 'sqrt', 'criterion': 'gini', 'n_estimators': 118, 'learning_rate': 0.29086910802330046}. Best is trial 64 with value: 0.6593121349772875.\n",
      "[I 2025-06-14 14:37:26,722] Trial 87 finished with value: 0.4561972744970798 and parameters: {'classifier': 'LogisticRegression', 'solver': 'liblinear', 'penalty-liblinear': 'l2', 'C': 0.6808406167694382, 'max_iter': 50}. Best is trial 64 with value: 0.6593121349772875.\n",
      "[I 2025-06-14 14:37:26,841] Trial 88 finished with value: 0.6495781959766386 and parameters: {'classifier': 'GradientBoosting', 'max_depth': 7, 'min_samples_split': 8, 'min_samples_leaf': 2, 'max_features': 'sqrt', 'criterion': 'gini', 'n_estimators': 88, 'learning_rate': 0.0942716195587974}. Best is trial 64 with value: 0.6593121349772875.\n",
      "[I 2025-06-14 14:37:26,890] Trial 89 finished with value: 0.5522388059701493 and parameters: {'classifier': 'DecisionTree', 'max_depth': 12, 'min_samples_split': 8, 'min_samples_leaf': 4, 'max_features': 'log2', 'criterion': 'gini'}. Best is trial 64 with value: 0.6593121349772875.\n",
      "[I 2025-06-14 14:37:27,012] Trial 90 finished with value: 0.6450356911096691 and parameters: {'classifier': 'GradientBoosting', 'max_depth': 3, 'min_samples_split': 10, 'min_samples_leaf': 3, 'max_features': 'sqrt', 'criterion': 'entropy', 'n_estimators': 183, 'learning_rate': 0.2477494815110476}. Best is trial 64 with value: 0.6593121349772875.\n",
      "[I 2025-06-14 14:37:27,119] Trial 91 finished with value: 0.6515249837767684 and parameters: {'classifier': 'GradientBoosting', 'max_depth': 5, 'min_samples_split': 9, 'min_samples_leaf': 4, 'max_features': 'sqrt', 'criterion': 'gini', 'n_estimators': 97, 'learning_rate': 0.28298298224318746}. Best is trial 64 with value: 0.6593121349772875.\n",
      "[I 2025-06-14 14:37:27,212] Trial 92 finished with value: 0.6398442569759896 and parameters: {'classifier': 'GradientBoosting', 'max_depth': 4, 'min_samples_split': 9, 'min_samples_leaf': 4, 'max_features': 'sqrt', 'criterion': 'gini', 'n_estimators': 79, 'learning_rate': 0.272729108881098}. Best is trial 64 with value: 0.6593121349772875.\n",
      "[I 2025-06-14 14:37:27,348] Trial 93 finished with value: 0.6489292667099286 and parameters: {'classifier': 'GradientBoosting', 'max_depth': 5, 'min_samples_split': 9, 'min_samples_leaf': 4, 'max_features': 'sqrt', 'criterion': 'gini', 'n_estimators': 134, 'learning_rate': 0.2570288093088619}. Best is trial 64 with value: 0.6593121349772875.\n",
      "[I 2025-06-14 14:37:27,615] Trial 94 finished with value: 0.6450356911096691 and parameters: {'classifier': 'GradientBoosting', 'max_depth': 8, 'min_samples_split': 10, 'min_samples_leaf': 4, 'max_features': 'sqrt', 'criterion': 'gini', 'n_estimators': 169, 'learning_rate': 0.28058005534551733}. Best is trial 64 with value: 0.6593121349772875.\n",
      "[I 2025-06-14 14:37:27,787] Trial 95 finished with value: 0.6489292667099286 and parameters: {'classifier': 'GradientBoosting', 'max_depth': 7, 'min_samples_split': 2, 'min_samples_leaf': 4, 'max_features': 'sqrt', 'criterion': 'gini', 'n_estimators': 114, 'learning_rate': 0.26547268742308544}. Best is trial 64 with value: 0.6593121349772875.\n",
      "[I 2025-06-14 14:37:28,201] Trial 96 finished with value: 0.6424399740428294 and parameters: {'classifier': 'GradientBoosting', 'max_depth': 10, 'min_samples_split': 8, 'min_samples_leaf': 1, 'max_features': 'sqrt', 'criterion': 'gini', 'n_estimators': 193, 'learning_rate': 0.22648738987244163}. Best is trial 64 with value: 0.6593121349772875.\n",
      "[I 2025-06-14 14:37:29,551] Trial 97 finished with value: 0.5379623621025308 and parameters: {'classifier': 'RandomForest', 'rf_max_depth': 7, 'rf_min_samples_split': 10, 'rf_min_samples_leaf': 1, 'rf_max_features': 'log2', 'rf_criterion': 'gini', 'rf_n_estimators': 151}. Best is trial 64 with value: 0.6593121349772875.\n",
      "[I 2025-06-14 14:37:29,647] Trial 98 finished with value: 0.6508760545100584 and parameters: {'classifier': 'GradientBoosting', 'max_depth': 5, 'min_samples_split': 6, 'min_samples_leaf': 4, 'max_features': 'log2', 'criterion': 'gini', 'n_estimators': 111, 'learning_rate': 0.2384514375629335}. Best is trial 64 with value: 0.6593121349772875.\n",
      "[I 2025-06-14 14:37:29,769] Trial 99 finished with value: 0.6534717715768981 and parameters: {'classifier': 'GradientBoosting', 'max_depth': 6, 'min_samples_split': 9, 'min_samples_leaf': 2, 'max_features': 'sqrt', 'criterion': 'gini', 'n_estimators': 104, 'learning_rate': 0.20213224562566773}. Best is trial 64 with value: 0.6593121349772875.\n",
      "[I 2025-06-14 14:37:29,915] Trial 100 finished with value: 0.6508760545100584 and parameters: {'classifier': 'GradientBoosting', 'max_depth': 6, 'min_samples_split': 7, 'min_samples_leaf': 2, 'max_features': 'sqrt', 'criterion': 'gini', 'n_estimators': 128, 'learning_rate': 0.18975201947772924}. Best is trial 64 with value: 0.6593121349772875.\n",
      "[I 2025-06-14 14:37:30,066] Trial 101 finished with value: 0.6554185593770279 and parameters: {'classifier': 'GradientBoosting', 'max_depth': 7, 'min_samples_split': 9, 'min_samples_leaf': 2, 'max_features': 'sqrt', 'criterion': 'gini', 'n_estimators': 102, 'learning_rate': 0.20420648423933924}. Best is trial 64 with value: 0.6593121349772875.\n",
      "[I 2025-06-14 14:37:30,257] Trial 102 finished with value: 0.6593121349772875 and parameters: {'classifier': 'GradientBoosting', 'max_depth': 8, 'min_samples_split': 9, 'min_samples_leaf': 2, 'max_features': 'sqrt', 'criterion': 'gini', 'n_estimators': 104, 'learning_rate': 0.19957141686765292}. Best is trial 64 with value: 0.6593121349772875.\n",
      "[I 2025-06-14 14:37:30,457] Trial 103 finished with value: 0.6606099935107074 and parameters: {'classifier': 'GradientBoosting', 'max_depth': 8, 'min_samples_split': 9, 'min_samples_leaf': 2, 'max_features': 'sqrt', 'criterion': 'gini', 'n_estimators': 104, 'learning_rate': 0.19978055519069993}. Best is trial 103 with value: 0.6606099935107074.\n",
      "[I 2025-06-14 14:37:30,674] Trial 104 finished with value: 0.6489292667099286 and parameters: {'classifier': 'GradientBoosting', 'max_depth': 9, 'min_samples_split': 10, 'min_samples_leaf': 2, 'max_features': 'sqrt', 'criterion': 'gini', 'n_estimators': 104, 'learning_rate': 0.219404116780702}. Best is trial 103 with value: 0.6606099935107074.\n",
      "[I 2025-06-14 14:37:30,947] Trial 105 finished with value: 0.6404931862426996 and parameters: {'classifier': 'GradientBoosting', 'max_depth': 11, 'min_samples_split': 8, 'min_samples_leaf': 2, 'max_features': 'sqrt', 'criterion': 'gini', 'n_estimators': 108, 'learning_rate': 0.16368154742965124}. Best is trial 103 with value: 0.6606099935107074.\n",
      "[I 2025-06-14 14:37:31,114] Trial 106 finished with value: 0.6489292667099286 and parameters: {'classifier': 'GradientBoosting', 'max_depth': 8, 'min_samples_split': 9, 'min_samples_leaf': 2, 'max_features': 'sqrt', 'criterion': 'gini', 'n_estimators': 90, 'learning_rate': 0.20912852254087905}. Best is trial 103 with value: 0.6606099935107074.\n",
      "[I 2025-06-14 14:42:03,765] Trial 107 finished with value: 0.5996106424399741 and parameters: {'classifier': 'AdaBoosting', 'base_estimator': 'RandomForest', 'rf_max_depth': 24, 'rf_min_samples_split': 5, 'rf_min_samples_leaf': 2, 'rf_max_features': 'sqrt', 'rf_criterion': 'entropy', 'rf_n_estimators': 137, 'n_estimators': 99, 'learning_rate': 0.19194702907643393}. Best is trial 103 with value: 0.6606099935107074.\n",
      "[I 2025-06-14 14:42:03,863] Trial 108 finished with value: 0.6515249837767684 and parameters: {'classifier': 'GradientBoosting', 'max_depth': 8, 'min_samples_split': 8, 'min_samples_leaf': 2, 'max_features': 'sqrt', 'criterion': 'gini', 'n_estimators': 58, 'learning_rate': 0.20338395278434448}. Best is trial 103 with value: 0.6606099935107074.\n",
      "[I 2025-06-14 14:42:03,950] Trial 109 finished with value: 0.45684620376378976 and parameters: {'classifier': 'LogisticRegression', 'solver': 'newton-cg', 'penalty': 'l2', 'C': 2.2730140029786186, 'max_iter': 391}. Best is trial 103 with value: 0.6606099935107074.\n",
      "[I 2025-06-14 14:42:04,096] Trial 110 finished with value: 0.5963659961064244 and parameters: {'classifier': 'GradientBoosting', 'max_depth': 10, 'min_samples_split': 9, 'min_samples_leaf': 2, 'max_features': 'log2', 'criterion': 'gini', 'n_estimators': 50, 'learning_rate': 0.05349455503830122}. Best is trial 103 with value: 0.6606099935107074.\n",
      "[I 2025-06-14 14:42:04,243] Trial 111 finished with value: 0.6541207008436081 and parameters: {'classifier': 'GradientBoosting', 'max_depth': 7, 'min_samples_split': 9, 'min_samples_leaf': 2, 'max_features': 'sqrt', 'criterion': 'gini', 'n_estimators': 103, 'learning_rate': 0.20789672693286865}. Best is trial 103 with value: 0.6606099935107074.\n",
      "[I 2025-06-14 14:42:04,655] Trial 112 finished with value: 0.6443867618429591 and parameters: {'classifier': 'GradientBoosting', 'max_depth': 20, 'min_samples_split': 9, 'min_samples_leaf': 2, 'max_features': 'sqrt', 'criterion': 'gini', 'n_estimators': 65, 'learning_rate': 0.23000780332386012}. Best is trial 103 with value: 0.6606099935107074.\n",
      "[I 2025-06-14 14:42:04,823] Trial 113 finished with value: 0.6495781959766386 and parameters: {'classifier': 'GradientBoosting', 'max_depth': 7, 'min_samples_split': 9, 'min_samples_leaf': 2, 'max_features': 'sqrt', 'criterion': 'gini', 'n_estimators': 117, 'learning_rate': 0.1818538974071548}. Best is trial 103 with value: 0.6606099935107074.\n",
      "[I 2025-06-14 14:42:04,997] Trial 114 finished with value: 0.6593121349772875 and parameters: {'classifier': 'GradientBoosting', 'max_depth': 8, 'min_samples_split': 10, 'min_samples_leaf': 2, 'max_features': 'sqrt', 'criterion': 'gini', 'n_estimators': 104, 'learning_rate': 0.2080477297594223}. Best is trial 103 with value: 0.6606099935107074.\n",
      "[I 2025-06-14 14:42:05,216] Trial 115 finished with value: 0.6424399740428294 and parameters: {'classifier': 'GradientBoosting', 'max_depth': 9, 'min_samples_split': 10, 'min_samples_leaf': 2, 'max_features': 'sqrt', 'criterion': 'gini', 'n_estimators': 109, 'learning_rate': 0.1975438006805034}. Best is trial 103 with value: 0.6606099935107074.\n",
      "[I 2025-06-14 14:42:05,265] Trial 116 finished with value: 0.47242050616482806 and parameters: {'classifier': 'DecisionTree', 'max_depth': 8, 'min_samples_split': 10, 'min_samples_leaf': 2, 'max_features': 'sqrt', 'criterion': 'entropy'}. Best is trial 103 with value: 0.6606099935107074.\n",
      "[I 2025-06-14 14:42:05,647] Trial 117 finished with value: 0.6372485399091499 and parameters: {'classifier': 'GradientBoosting', 'max_depth': 15, 'min_samples_split': 10, 'min_samples_leaf': 2, 'max_features': 'sqrt', 'criterion': 'gini', 'n_estimators': 100, 'learning_rate': 0.24526625863972656}. Best is trial 103 with value: 0.6606099935107074.\n",
      "[I 2025-06-14 14:42:05,857] Trial 118 finished with value: 0.6463335496430889 and parameters: {'classifier': 'GradientBoosting', 'max_depth': 9, 'min_samples_split': 2, 'min_samples_leaf': 2, 'max_features': 'sqrt', 'criterion': 'gini', 'n_estimators': 115, 'learning_rate': 0.21906088211812982}. Best is trial 103 with value: 0.6606099935107074.\n",
      "[I 2025-06-14 14:42:06,153] Trial 119 finished with value: 0.6372485399091499 and parameters: {'classifier': 'GradientBoosting', 'max_depth': 13, 'min_samples_split': 10, 'min_samples_leaf': 1, 'max_features': 'sqrt', 'criterion': 'gini', 'n_estimators': 96, 'learning_rate': 0.2303125822890717}. Best is trial 103 with value: 0.6606099935107074.\n",
      "[I 2025-06-14 14:42:08,569] Trial 120 finished with value: 0.6048020765736535 and parameters: {'classifier': 'RandomForest', 'rf_max_depth': 16, 'rf_min_samples_split': 8, 'rf_min_samples_leaf': 3, 'rf_max_features': 'log2', 'rf_criterion': 'gini', 'rf_n_estimators': 164}. Best is trial 103 with value: 0.6606099935107074.\n",
      "[I 2025-06-14 14:42:08,727] Trial 121 finished with value: 0.5743024010382868 and parameters: {'classifier': 'GradientBoosting', 'max_depth': 7, 'min_samples_split': 9, 'min_samples_leaf': 2, 'max_features': 'sqrt', 'criterion': 'gini', 'n_estimators': 104, 'learning_rate': 0.028192117345489938}. Best is trial 103 with value: 0.6606099935107074.\n",
      "[I 2025-06-14 14:42:08,864] Trial 122 finished with value: 0.6489292667099286 and parameters: {'classifier': 'GradientBoosting', 'max_depth': 7, 'min_samples_split': 9, 'min_samples_leaf': 2, 'max_features': 'sqrt', 'criterion': 'gini', 'n_estimators': 101, 'learning_rate': 0.20776466138753175}. Best is trial 103 with value: 0.6606099935107074.\n",
      "[I 2025-06-14 14:42:09,029] Trial 123 finished with value: 0.6534717715768981 and parameters: {'classifier': 'GradientBoosting', 'max_depth': 8, 'min_samples_split': 8, 'min_samples_leaf': 2, 'max_features': 'sqrt', 'criterion': 'gini', 'n_estimators': 105, 'learning_rate': 0.21113662179998494}. Best is trial 103 with value: 0.6606099935107074.\n",
      "[I 2025-06-14 14:42:09,221] Trial 124 finished with value: 0.6502271252433485 and parameters: {'classifier': 'GradientBoosting', 'max_depth': 6, 'min_samples_split': 9, 'min_samples_leaf': 2, 'max_features': 'sqrt', 'criterion': 'gini', 'n_estimators': 111, 'learning_rate': 0.2213076982570871}. Best is trial 103 with value: 0.6606099935107074.\n",
      "[I 2025-06-14 14:42:09,422] Trial 125 finished with value: 0.6541207008436081 and parameters: {'classifier': 'GradientBoosting', 'max_depth': 10, 'min_samples_split': 10, 'min_samples_leaf': 2, 'max_features': 'sqrt', 'criterion': 'gini', 'n_estimators': 93, 'learning_rate': 0.1973528170902272}. Best is trial 103 with value: 0.6606099935107074.\n",
      "[I 2025-06-14 14:42:09,597] Trial 126 finished with value: 0.6534717715768981 and parameters: {'classifier': 'GradientBoosting', 'max_depth': 8, 'min_samples_split': 3, 'min_samples_leaf': 2, 'max_features': 'log2', 'criterion': 'gini', 'n_estimators': 83, 'learning_rate': 0.18035780317855024}. Best is trial 103 with value: 0.6606099935107074.\n",
      "[I 2025-06-14 14:42:09,806] Trial 127 finished with value: 0.6450356911096691 and parameters: {'classifier': 'GradientBoosting', 'max_depth': 9, 'min_samples_split': 5, 'min_samples_leaf': 2, 'max_features': 'sqrt', 'criterion': 'gini', 'n_estimators': 102, 'learning_rate': 0.11438075725868313}. Best is trial 103 with value: 0.6606099935107074.\n",
      "[I 2025-06-14 14:42:10,061] Trial 128 finished with value: 0.6385463984425698 and parameters: {'classifier': 'GradientBoosting', 'max_depth': 11, 'min_samples_split': 7, 'min_samples_leaf': 2, 'max_features': 'sqrt', 'criterion': 'gini', 'n_estimators': 88, 'learning_rate': 0.06977154247705461}. Best is trial 103 with value: 0.6606099935107074.\n",
      "[I 2025-06-14 14:42:10,238] Trial 129 finished with value: 0.6508760545100584 and parameters: {'classifier': 'GradientBoosting', 'max_depth': 7, 'min_samples_split': 9, 'min_samples_leaf': 1, 'max_features': 'sqrt', 'criterion': 'gini', 'n_estimators': 110, 'learning_rate': 0.1710184013056768}. Best is trial 103 with value: 0.6606099935107074.\n",
      "[I 2025-06-14 14:42:10,381] Trial 130 finished with value: 0.6515249837767684 and parameters: {'classifier': 'GradientBoosting', 'max_depth': 4, 'min_samples_split': 8, 'min_samples_leaf': 3, 'max_features': 'sqrt', 'criterion': 'gini', 'n_estimators': 152, 'learning_rate': 0.24181583286863267}. Best is trial 103 with value: 0.6606099935107074.\n",
      "[I 2025-06-14 14:42:10,621] Trial 131 finished with value: 0.6567164179104478 and parameters: {'classifier': 'GradientBoosting', 'max_depth': 10, 'min_samples_split': 10, 'min_samples_leaf': 2, 'max_features': 'sqrt', 'criterion': 'gini', 'n_estimators': 92, 'learning_rate': 0.20009512320463588}. Best is trial 103 with value: 0.6606099935107074.\n",
      "[I 2025-06-14 14:42:10,886] Trial 132 finished with value: 0.6482803374432187 and parameters: {'classifier': 'GradientBoosting', 'max_depth': 12, 'min_samples_split': 10, 'min_samples_leaf': 2, 'max_features': 'sqrt', 'criterion': 'gini', 'n_estimators': 97, 'learning_rate': 0.18964427708342527}. Best is trial 103 with value: 0.6606099935107074.\n",
      "[I 2025-06-14 14:42:11,428] Trial 133 finished with value: 0.6320571057754705 and parameters: {'classifier': 'GradientBoosting', 'max_depth': 23, 'min_samples_split': 10, 'min_samples_leaf': 2, 'max_features': 'sqrt', 'criterion': 'gini', 'n_estimators': 92, 'learning_rate': 0.23448980351129559}. Best is trial 103 with value: 0.6606099935107074.\n",
      "[I 2025-06-14 14:42:11,564] Trial 134 finished with value: 0.6489292667099286 and parameters: {'classifier': 'GradientBoosting', 'max_depth': 6, 'min_samples_split': 9, 'min_samples_leaf': 2, 'max_features': 'sqrt', 'criterion': 'gini', 'n_estimators': 106, 'learning_rate': 0.21345940500197863}. Best is trial 103 with value: 0.6606099935107074.\n",
      "[I 2025-06-14 14:42:11,802] Trial 135 finished with value: 0.6502271252433485 and parameters: {'classifier': 'GradientBoosting', 'max_depth': 10, 'min_samples_split': 10, 'min_samples_leaf': 2, 'max_features': 'sqrt', 'criterion': 'entropy', 'n_estimators': 94, 'learning_rate': 0.13855040830084978}. Best is trial 103 with value: 0.6606099935107074.\n",
      "[I 2025-06-14 14:42:12,007] Trial 136 finished with value: 0.645684620376379 and parameters: {'classifier': 'GradientBoosting', 'max_depth': 9, 'min_samples_split': 9, 'min_samples_leaf': 2, 'max_features': 'log2', 'criterion': 'gini', 'n_estimators': 99, 'learning_rate': 0.25343139438064877}. Best is trial 103 with value: 0.6606099935107074.\n",
      "[I 2025-06-14 14:50:53,805] Trial 137 finished with value: 0.5801427644386762 and parameters: {'classifier': 'AdaBoosting', 'base_estimator': 'RandomForest', 'rf_max_depth': 15, 'rf_min_samples_split': 4, 'rf_min_samples_leaf': 1, 'rf_max_features': 'sqrt', 'rf_criterion': 'gini', 'rf_n_estimators': 196, 'n_estimators': 162, 'learning_rate': 0.2005261356967416}. Best is trial 103 with value: 0.6606099935107074.\n",
      "[I 2025-06-14 14:50:54,315] Trial 138 finished with value: 0.45684620376378976 and parameters: {'classifier': 'LogisticRegression', 'solver': 'saga', 'penalty-saga': None, 'C': 0.11252051174267513, 'max_iter': 183}. Best is trial 103 with value: 0.6606099935107074.\n",
      "[I 2025-06-14 14:50:54,581] Trial 139 finished with value: 0.6443867618429591 and parameters: {'classifier': 'GradientBoosting', 'max_depth': 8, 'min_samples_split': 6, 'min_samples_leaf': 3, 'max_features': 'sqrt', 'criterion': 'gini', 'n_estimators': 175, 'learning_rate': 0.16345228537483777}. Best is trial 103 with value: 0.6606099935107074.\n",
      "[I 2025-06-14 14:50:54,617] Trial 140 finished with value: 0.5476963011031798 and parameters: {'classifier': 'DecisionTree', 'max_depth': 5, 'min_samples_split': 10, 'min_samples_leaf': 2, 'max_features': 'sqrt', 'criterion': 'gini'}. Best is trial 103 with value: 0.6606099935107074.\n",
      "[I 2025-06-14 14:50:54,835] Trial 141 finished with value: 0.645684620376379 and parameters: {'classifier': 'GradientBoosting', 'max_depth': 11, 'min_samples_split': 10, 'min_samples_leaf': 2, 'max_features': 'sqrt', 'criterion': 'gini', 'n_estimators': 89, 'learning_rate': 0.2069259153117923}. Best is trial 103 with value: 0.6606099935107074.\n",
      "[I 2025-06-14 14:50:55,052] Trial 142 finished with value: 0.6398442569759896 and parameters: {'classifier': 'GradientBoosting', 'max_depth': 10, 'min_samples_split': 10, 'min_samples_leaf': 2, 'max_features': 'sqrt', 'criterion': 'gini', 'n_estimators': 94, 'learning_rate': 0.19602816250430966}. Best is trial 103 with value: 0.6606099935107074.\n",
      "[I 2025-06-14 14:50:55,190] Trial 143 finished with value: 0.6489292667099286 and parameters: {'classifier': 'GradientBoosting', 'max_depth': 7, 'min_samples_split': 10, 'min_samples_leaf': 2, 'max_features': 'sqrt', 'criterion': 'gini', 'n_estimators': 86, 'learning_rate': 0.22423471701123174}. Best is trial 103 with value: 0.6606099935107074.\n",
      "[I 2025-06-14 14:50:55,379] Trial 144 finished with value: 0.6515249837767684 and parameters: {'classifier': 'GradientBoosting', 'max_depth': 10, 'min_samples_split': 9, 'min_samples_leaf': 2, 'max_features': 'sqrt', 'criterion': 'gini', 'n_estimators': 82, 'learning_rate': 0.18485643361465107}. Best is trial 103 with value: 0.6606099935107074.\n",
      "[I 2025-06-14 14:50:55,549] Trial 145 finished with value: 0.6437378325762492 and parameters: {'classifier': 'GradientBoosting', 'max_depth': 8, 'min_samples_split': 10, 'min_samples_leaf': 2, 'max_features': 'sqrt', 'criterion': 'gini', 'n_estimators': 76, 'learning_rate': 0.19528518538390252}. Best is trial 103 with value: 0.6606099935107074.\n",
      "[I 2025-06-14 14:50:55,747] Trial 146 finished with value: 0.6495781959766386 and parameters: {'classifier': 'GradientBoosting', 'max_depth': 9, 'min_samples_split': 9, 'min_samples_leaf': 2, 'max_features': 'sqrt', 'criterion': 'gini', 'n_estimators': 101, 'learning_rate': 0.2920372087816167}. Best is trial 103 with value: 0.6606099935107074.\n",
      "[I 2025-06-14 14:50:55,884] Trial 147 finished with value: 0.6450356911096691 and parameters: {'classifier': 'GradientBoosting', 'max_depth': 6, 'min_samples_split': 2, 'min_samples_leaf': 2, 'max_features': 'sqrt', 'criterion': 'gini', 'n_estimators': 97, 'learning_rate': 0.21617409953792924}. Best is trial 103 with value: 0.6606099935107074.\n",
      "[I 2025-06-14 14:50:56,297] Trial 148 finished with value: 0.6385463984425698 and parameters: {'classifier': 'GradientBoosting', 'max_depth': 14, 'min_samples_split': 8, 'min_samples_leaf': 1, 'max_features': 'sqrt', 'criterion': 'gini', 'n_estimators': 104, 'learning_rate': 0.19966148887607363}. Best is trial 103 with value: 0.6606099935107074.\n",
      "[I 2025-06-14 14:50:56,716] Trial 149 finished with value: 0.6528228423101882 and parameters: {'classifier': 'GradientBoosting', 'max_depth': 7, 'min_samples_split': 9, 'min_samples_leaf': 4, 'max_features': 'log2', 'criterion': 'gini', 'n_estimators': 143, 'learning_rate': 0.08335851722541532}. Best is trial 103 with value: 0.6606099935107074.\n"
     ]
    },
    {
     "name": "stdout",
     "output_type": "stream",
     "text": [
      "Best hyperparameters:  {'classifier': 'GradientBoosting', 'max_depth': 8, 'min_samples_split': 9, 'min_samples_leaf': 2, 'max_features': 'sqrt', 'criterion': 'gini', 'n_estimators': 104, 'learning_rate': 0.19978055519069993}\n",
      "=== Evaluation du modèle XGBClassifier ===\n",
      "Accuracy : 0.8715 (the higher the better)\n",
      "Recall : 0.6606 (the higher the better) (best for us)\n",
      "R2 : 0.2892 (the higher the better)\n",
      "MAE : 0.1285 (the lower the better)\n",
      "RMSE : 0.1285 (the lower the better)\n"
     ]
    },
    {
     "data": {
      "text/plain": [
       "array([0, 0, 0, ..., 0, 0, 0], shape=(6508,))"
      ]
     },
     "execution_count": 100,
     "metadata": {},
     "output_type": "execute_result"
    }
   ],
   "execution_count": 100
  },
  {
   "metadata": {
    "ExecuteTime": {
     "end_time": "2025-06-14T12:51:04.443342Z",
     "start_time": "2025-06-14T12:51:03.060950Z"
    }
   },
   "cell_type": "code",
   "source": [
    "for i in range(10):\n",
    "    X_train, X_test, y_train, y_test = train_test_split(df_adult_enco.drop(columns=[\"income\"]), df_adult_enco[\"income\"], test_size=0.2)\n",
    "    # On normalise les variables quantitatives sur les données de train (StandardScaler pour l'instant)\n",
    "    numerical_columns = df_adult.select_dtypes(include=['int64', 'float64']).columns\n",
    "    numerical_scaler = StandardScaler()\n",
    "    numerical_scaler.fit(X_train[numerical_columns])\n",
    "    X_train[numerical_columns] = numerical_scaler.transform(X_train[numerical_columns])\n",
    "    X_test[numerical_columns] = numerical_scaler.transform(X_test[numerical_columns])\n",
    "\n",
    "    best_model.fit(X_train, y_train)\n",
    "    print(f\"\\n=== Evaluation num {i+1} du modèle ===\")\n",
    "    eval_model(best_model, X_test, y_test)"
   ],
   "id": "6dcb8886c8e7b9ca",
   "outputs": [
    {
     "name": "stdout",
     "output_type": "stream",
     "text": [
      "\n",
      "=== Evaluation num 1 du modèle ===\n",
      "=== Evaluation du modèle XGBClassifier ===\n",
      "Accuracy : 0.8668 (the higher the better)\n",
      "Recall : 0.6399 (the higher the better) (best for us)\n",
      "R2 : 0.2839 (the higher the better)\n",
      "MAE : 0.1332 (the lower the better)\n",
      "RMSE : 0.1332 (the lower the better)\n",
      "\n",
      "=== Evaluation num 2 du modèle ===\n",
      "=== Evaluation du modèle XGBClassifier ===\n",
      "Accuracy : 0.8749 (the higher the better)\n",
      "Recall : 0.6877 (the higher the better) (best for us)\n",
      "R2 : 0.3211 (the higher the better)\n",
      "MAE : 0.1251 (the lower the better)\n",
      "RMSE : 0.1251 (the lower the better)\n",
      "\n",
      "=== Evaluation num 3 du modèle ===\n",
      "=== Evaluation du modèle XGBClassifier ===\n",
      "Accuracy : 0.8708 (the higher the better)\n",
      "Recall : 0.6643 (the higher the better) (best for us)\n",
      "R2 : 0.2827 (the higher the better)\n",
      "MAE : 0.1292 (the lower the better)\n",
      "RMSE : 0.1292 (the lower the better)\n",
      "\n",
      "=== Evaluation num 4 du modèle ===\n",
      "=== Evaluation du modèle XGBClassifier ===\n",
      "Accuracy : 0.8682 (the higher the better)\n",
      "Recall : 0.6749 (the higher the better) (best for us)\n",
      "R2 : 0.2850 (the higher the better)\n",
      "MAE : 0.1318 (the lower the better)\n",
      "RMSE : 0.1318 (the lower the better)\n",
      "\n",
      "=== Evaluation num 5 du modèle ===\n",
      "=== Evaluation du modèle XGBClassifier ===\n",
      "Accuracy : 0.8706 (the higher the better)\n",
      "Recall : 0.6640 (the higher the better) (best for us)\n",
      "R2 : 0.2795 (the higher the better)\n",
      "MAE : 0.1294 (the lower the better)\n",
      "RMSE : 0.1294 (the lower the better)\n",
      "\n",
      "=== Evaluation num 6 du modèle ===\n",
      "=== Evaluation du modèle XGBClassifier ===\n",
      "Accuracy : 0.8732 (the higher the better)\n",
      "Recall : 0.6669 (the higher the better) (best for us)\n",
      "R2 : 0.2992 (the higher the better)\n",
      "MAE : 0.1268 (the lower the better)\n",
      "RMSE : 0.1268 (the lower the better)\n",
      "\n",
      "=== Evaluation num 7 du modèle ===\n",
      "=== Evaluation du modèle XGBClassifier ===\n",
      "Accuracy : 0.8705 (the higher the better)\n",
      "Recall : 0.6514 (the higher the better) (best for us)\n",
      "R2 : 0.2877 (the higher the better)\n",
      "MAE : 0.1295 (the lower the better)\n",
      "RMSE : 0.1295 (the lower the better)\n",
      "\n",
      "=== Evaluation num 8 du modèle ===\n",
      "=== Evaluation du modèle XGBClassifier ===\n",
      "Accuracy : 0.8746 (the higher the better)\n",
      "Recall : 0.6720 (the higher the better) (best for us)\n",
      "R2 : 0.3114 (the higher the better)\n",
      "MAE : 0.1254 (the lower the better)\n",
      "RMSE : 0.1254 (the lower the better)\n",
      "\n",
      "=== Evaluation num 9 du modèle ===\n",
      "=== Evaluation du modèle XGBClassifier ===\n",
      "Accuracy : 0.8649 (the higher the better)\n",
      "Recall : 0.6554 (the higher the better) (best for us)\n",
      "R2 : 0.2800 (the higher the better)\n",
      "MAE : 0.1351 (the lower the better)\n",
      "RMSE : 0.1351 (the lower the better)\n",
      "\n",
      "=== Evaluation num 10 du modèle ===\n",
      "=== Evaluation du modèle XGBClassifier ===\n",
      "Accuracy : 0.8649 (the higher the better)\n",
      "Recall : 0.6559 (the higher the better) (best for us)\n",
      "R2 : 0.2647 (the higher the better)\n",
      "MAE : 0.1351 (the lower the better)\n",
      "RMSE : 0.1351 (the lower the better)\n"
     ]
    }
   ],
   "execution_count": 101
  }
 ],
 "metadata": {
  "kernelspec": {
   "display_name": "machine_learning",
   "language": "python",
   "name": "python3"
  },
  "language_info": {
   "codemirror_mode": {
    "name": "ipython",
    "version": 3
   },
   "file_extension": ".py",
   "mimetype": "text/x-python",
   "name": "python",
   "nbconvert_exporter": "python",
   "pygments_lexer": "ipython3",
   "version": "3.13.3"
  }
 },
 "nbformat": 4,
 "nbformat_minor": 5
}
