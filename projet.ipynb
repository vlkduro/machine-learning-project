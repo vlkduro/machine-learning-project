{
 "cells": [
  {
   "cell_type": "markdown",
   "id": "1e5bfb37",
   "metadata": {},
   "source": [
    "## AI28 - Projet - Prédiction du niveau de revenus."
   ]
  },
  {
   "cell_type": "code",
   "id": "001b1097",
   "metadata": {
    "ExecuteTime": {
     "end_time": "2025-06-19T10:14:09.923794Z",
     "start_time": "2025-06-19T10:14:09.237262Z"
    }
   },
   "source": [
    "# OS\n",
    "import sys\n",
    "\n",
    "\n",
    "# WARNINGS\n",
    "import warnings\n",
    "warnings.filterwarnings('ignore')\n",
    "warnings.filterwarnings('error', category=DeprecationWarning)\n",
    "\n",
    "# NUMPY\n",
    "import numpy as np\n",
    "\n",
    "# STATS\n",
    "import scipy.stats as stats\n",
    "from scipy.stats import norm, skew\n",
    "\n",
    "# MATPLOTLIB\n",
    "import matplotlib as mpl\n",
    "import matplotlib.pyplot as plt\n",
    "%matplotlib inline\n",
    "# plt.style.use('fivethirtyeight') \n",
    "\n",
    "params = {'axes.labelsize': 8, # 12\n",
    "          'font.size': 8, # 12\n",
    "          'legend.fontsize': 8, # 12\n",
    "          'xtick.labelsize': 8, # 10\n",
    "          'ytick.labelsize': 8, # 10\n",
    "          'text.usetex': True,\n",
    "          'figure.figsize': (10, 8)}\n",
    "plt.rcParams.update(params)\n",
    "\n",
    "\n",
    "# PANDAS\n",
    "import pandas as pd \n",
    "pd.set_option(\"display.max_rows\", None, \"display.max_columns\", None) \n",
    "\n",
    "# SEABORN \n",
    "import seaborn as sns\n",
    "# sns.set_context(\"poster\")\n",
    "# sns.set_style(\"ticks\")\n",
    "\n",
    "# SCHIKIT-LEARN: PRE-PROCESSING\n",
    "from sklearn.preprocessing import LabelEncoder, OrdinalEncoder # Encodage des variables catégorielles ordinales\n",
    "from sklearn.preprocessing import LabelBinarizer, OneHotEncoder # Encodage des variables catégorielles nominales\n",
    "from sklearn.preprocessing import StandardScaler # Standardisation des variables numériques\n",
    "from sklearn.preprocessing import MinMaxScaler # Normalisation MinMax\n",
    "from sklearn.preprocessing import RobustScaler\n",
    "from sklearn.impute import SimpleImputer # Imputation\n",
    "from sklearn.impute import KNNImputer \n",
    "\n",
    "\n",
    "# SCHIKIT-LEARN: MODELES\n",
    "from sklearn import linear_model # Classe Modèle linéaire \n",
    "from sklearn.linear_model import LinearRegression \n",
    "from sklearn.linear_model import Ridge\n",
    "from sklearn.linear_model import Lasso \n",
    "from sklearn.linear_model import ElasticNet\n",
    "from sklearn.svm import SVR \n",
    "from sklearn.neighbors import KNeighborsClassifier\n",
    "\n",
    "# SCHIKIT-LEARN: VALIDATION CROISEE + OPTIMISATION\n",
    "from sklearn.model_selection import train_test_split\n",
    "from sklearn.model_selection import StratifiedKFold\n",
    "from sklearn.model_selection import cross_val_score # Validation croisée pour comparaison entre modèles\n",
    "from sklearn.model_selection import validation_curve # Courbe de validation: visualiser les scores lors du choix d'un hyperparamétre\n",
    "from sklearn.model_selection import GridSearchCV # Tester plusieurs hyperparamètres\n",
    "from sklearn.model_selection import RandomizedSearchCV # Tester plusieurs hyperparamètres\n",
    "from sklearn.model_selection import learning_curve # Courbe d'apprentissage: visualisation des scores du train et du validation sets en fonction des quantités des données\n",
    "import optuna\n",
    "from optuna.trial import FixedTrial\n",
    " \n",
    "## EVALUATION\n",
    "\n",
    "from sklearn.metrics import r2_score, accuracy_score, recall_score, f1_score\n",
    "from sklearn.metrics import mean_absolute_error #  MAE\n",
    "from sklearn.metrics import mean_squared_error  # RMSE\n",
    "from sklearn.metrics import median_absolute_error # Erreur de la médiane absolue\n",
    "\n",
    "# SCHIKIT-LEARN: PIPELINE AND TRANSFORMATEUR\n",
    "from sklearn.pipeline import Pipeline\n",
    "from sklearn.pipeline import make_pipeline\n",
    "from sklearn.compose import make_column_transformer\n",
    "\n",
    "# SOURCE DATA\n",
    "from ucimlrepo import fetch_ucirepo "
   ],
   "outputs": [],
   "execution_count": 1
  },
  {
   "cell_type": "code",
   "id": "6ce14a4a",
   "metadata": {
    "ExecuteTime": {
     "end_time": "2025-06-19T10:14:22.426291Z",
     "start_time": "2025-06-19T10:14:09.953389Z"
    }
   },
   "source": [
    "# Utilisation des commandes fournies par UCI\n",
    "\n",
    "# Télécharger le jeu de données \n",
    "data_adult = fetch_ucirepo(id=2) "
   ],
   "outputs": [],
   "execution_count": 2
  },
  {
   "cell_type": "code",
   "id": "cdfbbc57",
   "metadata": {
    "ExecuteTime": {
     "end_time": "2025-06-19T10:14:31.448689Z",
     "start_time": "2025-06-19T10:14:31.443238Z"
    }
   },
   "source": [
    "# data (as pandas dataframes) \n",
    "x = data_adult.data.features # variables explicatives\n",
    "y = data_adult.data.targets # variables cibles"
   ],
   "outputs": [],
   "execution_count": 3
  },
  {
   "cell_type": "code",
   "id": "3347fb27",
   "metadata": {
    "ExecuteTime": {
     "end_time": "2025-06-19T10:14:38.992839Z",
     "start_time": "2025-06-19T10:14:38.987713Z"
    }
   },
   "source": [
    "# metadata \n",
    "print(data_adult.metadata) "
   ],
   "outputs": [
    {
     "name": "stdout",
     "output_type": "stream",
     "text": [
      "{'uci_id': 2, 'name': 'Adult', 'repository_url': 'https://archive.ics.uci.edu/dataset/2/adult', 'data_url': 'https://archive.ics.uci.edu/static/public/2/data.csv', 'abstract': 'Predict whether annual income of an individual exceeds $50K/yr based on census data. Also known as \"Census Income\" dataset. ', 'area': 'Social Science', 'tasks': ['Classification'], 'characteristics': ['Multivariate'], 'num_instances': 48842, 'num_features': 14, 'feature_types': ['Categorical', 'Integer'], 'demographics': ['Age', 'Income', 'Education Level', 'Other', 'Race', 'Sex'], 'target_col': ['income'], 'index_col': None, 'has_missing_values': 'yes', 'missing_values_symbol': 'NaN', 'year_of_dataset_creation': 1996, 'last_updated': 'Tue Sep 24 2024', 'dataset_doi': '10.24432/C5XW20', 'creators': ['Barry Becker', 'Ronny Kohavi'], 'intro_paper': None, 'additional_info': {'summary': \"Extraction was done by Barry Becker from the 1994 Census database.  A set of reasonably clean records was extracted using the following conditions: ((AAGE>16) && (AGI>100) && (AFNLWGT>1)&& (HRSWK>0))\\n\\nPrediction task is to determine whether a person's income is over $50,000 a year.\\n\", 'purpose': None, 'funded_by': None, 'instances_represent': None, 'recommended_data_splits': None, 'sensitive_data': None, 'preprocessing_description': None, 'variable_info': 'Listing of attributes:\\r\\n\\r\\n>50K, <=50K.\\r\\n\\r\\nage: continuous.\\r\\nworkclass: Private, Self-emp-not-inc, Self-emp-inc, Federal-gov, Local-gov, State-gov, Without-pay, Never-worked.\\r\\nfnlwgt: continuous.\\r\\neducation: Bachelors, Some-college, 11th, HS-grad, Prof-school, Assoc-acdm, Assoc-voc, 9th, 7th-8th, 12th, Masters, 1st-4th, 10th, Doctorate, 5th-6th, Preschool.\\r\\neducation-num: continuous.\\r\\nmarital-status: Married-civ-spouse, Divorced, Never-married, Separated, Widowed, Married-spouse-absent, Married-AF-spouse.\\r\\noccupation: Tech-support, Craft-repair, Other-service, Sales, Exec-managerial, Prof-specialty, Handlers-cleaners, Machine-op-inspct, Adm-clerical, Farming-fishing, Transport-moving, Priv-house-serv, Protective-serv, Armed-Forces.\\r\\nrelationship: Wife, Own-child, Husband, Not-in-family, Other-relative, Unmarried.\\r\\nrace: White, Asian-Pac-Islander, Amer-Indian-Eskimo, Other, Black.\\r\\nsex: Female, Male.\\r\\ncapital-gain: continuous.\\r\\ncapital-loss: continuous.\\r\\nhours-per-week: continuous.\\r\\nnative-country: United-States, Cambodia, England, Puerto-Rico, Canada, Germany, Outlying-US(Guam-USVI-etc), India, Japan, Greece, South, China, Cuba, Iran, Honduras, Philippines, Italy, Poland, Jamaica, Vietnam, Mexico, Portugal, Ireland, France, Dominican-Republic, Laos, Ecuador, Taiwan, Haiti, Columbia, Hungary, Guatemala, Nicaragua, Scotland, Thailand, Yugoslavia, El-Salvador, Trinadad&Tobago, Peru, Hong, Holand-Netherlands.', 'citation': None}}\n"
     ]
    }
   ],
   "execution_count": 4
  },
  {
   "cell_type": "code",
   "id": "e5866137",
   "metadata": {
    "ExecuteTime": {
     "end_time": "2025-06-19T10:14:46.517052Z",
     "start_time": "2025-06-19T10:14:46.508230Z"
    }
   },
   "source": [
    "# variable information \n",
    "print(data_adult.variables) "
   ],
   "outputs": [
    {
     "name": "stdout",
     "output_type": "stream",
     "text": [
      "              name     role         type      demographic  \\\n",
      "0              age  Feature      Integer              Age   \n",
      "1        workclass  Feature  Categorical           Income   \n",
      "2           fnlwgt  Feature      Integer             None   \n",
      "3        education  Feature  Categorical  Education Level   \n",
      "4    education-num  Feature      Integer  Education Level   \n",
      "5   marital-status  Feature  Categorical            Other   \n",
      "6       occupation  Feature  Categorical            Other   \n",
      "7     relationship  Feature  Categorical            Other   \n",
      "8             race  Feature  Categorical             Race   \n",
      "9              sex  Feature       Binary              Sex   \n",
      "10    capital-gain  Feature      Integer             None   \n",
      "11    capital-loss  Feature      Integer             None   \n",
      "12  hours-per-week  Feature      Integer             None   \n",
      "13  native-country  Feature  Categorical            Other   \n",
      "14          income   Target       Binary           Income   \n",
      "\n",
      "                                          description units missing_values  \n",
      "0                                                 N/A  None             no  \n",
      "1   Private, Self-emp-not-inc, Self-emp-inc, Feder...  None            yes  \n",
      "2                                                None  None             no  \n",
      "3    Bachelors, Some-college, 11th, HS-grad, Prof-...  None             no  \n",
      "4                                                None  None             no  \n",
      "5   Married-civ-spouse, Divorced, Never-married, S...  None             no  \n",
      "6   Tech-support, Craft-repair, Other-service, Sal...  None            yes  \n",
      "7   Wife, Own-child, Husband, Not-in-family, Other...  None             no  \n",
      "8   White, Asian-Pac-Islander, Amer-Indian-Eskimo,...  None             no  \n",
      "9                                       Female, Male.  None             no  \n",
      "10                                               None  None             no  \n",
      "11                                               None  None             no  \n",
      "12                                               None  None             no  \n",
      "13  United-States, Cambodia, England, Puerto-Rico,...  None            yes  \n",
      "14                                       >50K, <=50K.  None             no  \n"
     ]
    }
   ],
   "execution_count": 5
  },
  {
   "cell_type": "markdown",
   "id": "6cbde9f3",
   "metadata": {},
   "source": [
    "## Analyse exploratoire des données\n",
    "\n",
    "Pour réaliser l'AED, nous utilisons les données des fichiers téléchargés depuis le site web."
   ]
  },
  {
   "cell_type": "code",
   "id": "7dab83b8",
   "metadata": {
    "ExecuteTime": {
     "end_time": "2025-06-19T10:15:01.553912Z",
     "start_time": "2025-06-19T10:15:01.445026Z"
    }
   },
   "source": [
    "df_adult = pd.read_csv(\"./Data/adult.data\", header=None)"
   ],
   "outputs": [],
   "execution_count": 6
  },
  {
   "cell_type": "code",
   "id": "a17d559b",
   "metadata": {
    "ExecuteTime": {
     "end_time": "2025-06-19T10:15:01.582434Z",
     "start_time": "2025-06-19T10:15:01.574183Z"
    }
   },
   "source": [
    "isinstance(df_adult, pd.DataFrame)"
   ],
   "outputs": [
    {
     "data": {
      "text/plain": [
       "True"
      ]
     },
     "execution_count": 7,
     "metadata": {},
     "output_type": "execute_result"
    }
   ],
   "execution_count": 7
  },
  {
   "cell_type": "markdown",
   "id": "8dd95f63",
   "metadata": {},
   "source": [
    "Le fichier ne contient pas les noms des colonnes. Nous les ajoutons dans le dataframe adult."
   ]
  },
  {
   "cell_type": "code",
   "id": "47221cbf",
   "metadata": {
    "ExecuteTime": {
     "end_time": "2025-06-19T10:15:16.534215Z",
     "start_time": "2025-06-19T10:15:16.508782Z"
    }
   },
   "source": [
    "adult_columns = data_adult.variables['name']\n",
    "\n",
    "df_adult.columns = adult_columns\n",
    "\n",
    "df_adult.head()"
   ],
   "outputs": [
    {
     "data": {
      "text/plain": [
       "name  age          workclass  fnlwgt   education  education-num  \\\n",
       "0      39          State-gov   77516   Bachelors             13   \n",
       "1      50   Self-emp-not-inc   83311   Bachelors             13   \n",
       "2      38            Private  215646     HS-grad              9   \n",
       "3      53            Private  234721        11th              7   \n",
       "4      28            Private  338409   Bachelors             13   \n",
       "\n",
       "name       marital-status          occupation    relationship    race  \\\n",
       "0           Never-married        Adm-clerical   Not-in-family   White   \n",
       "1      Married-civ-spouse     Exec-managerial         Husband   White   \n",
       "2                Divorced   Handlers-cleaners   Not-in-family   White   \n",
       "3      Married-civ-spouse   Handlers-cleaners         Husband   Black   \n",
       "4      Married-civ-spouse      Prof-specialty            Wife   Black   \n",
       "\n",
       "name      sex  capital-gain  capital-loss  hours-per-week  native-country  \\\n",
       "0        Male          2174             0              40   United-States   \n",
       "1        Male             0             0              13   United-States   \n",
       "2        Male             0             0              40   United-States   \n",
       "3        Male             0             0              40   United-States   \n",
       "4      Female             0             0              40            Cuba   \n",
       "\n",
       "name  income  \n",
       "0      <=50K  \n",
       "1      <=50K  \n",
       "2      <=50K  \n",
       "3      <=50K  \n",
       "4      <=50K  "
      ],
      "text/html": [
       "<div>\n",
       "<style scoped>\n",
       "    .dataframe tbody tr th:only-of-type {\n",
       "        vertical-align: middle;\n",
       "    }\n",
       "\n",
       "    .dataframe tbody tr th {\n",
       "        vertical-align: top;\n",
       "    }\n",
       "\n",
       "    .dataframe thead th {\n",
       "        text-align: right;\n",
       "    }\n",
       "</style>\n",
       "<table border=\"1\" class=\"dataframe\">\n",
       "  <thead>\n",
       "    <tr style=\"text-align: right;\">\n",
       "      <th>name</th>\n",
       "      <th>age</th>\n",
       "      <th>workclass</th>\n",
       "      <th>fnlwgt</th>\n",
       "      <th>education</th>\n",
       "      <th>education-num</th>\n",
       "      <th>marital-status</th>\n",
       "      <th>occupation</th>\n",
       "      <th>relationship</th>\n",
       "      <th>race</th>\n",
       "      <th>sex</th>\n",
       "      <th>capital-gain</th>\n",
       "      <th>capital-loss</th>\n",
       "      <th>hours-per-week</th>\n",
       "      <th>native-country</th>\n",
       "      <th>income</th>\n",
       "    </tr>\n",
       "  </thead>\n",
       "  <tbody>\n",
       "    <tr>\n",
       "      <th>0</th>\n",
       "      <td>39</td>\n",
       "      <td>State-gov</td>\n",
       "      <td>77516</td>\n",
       "      <td>Bachelors</td>\n",
       "      <td>13</td>\n",
       "      <td>Never-married</td>\n",
       "      <td>Adm-clerical</td>\n",
       "      <td>Not-in-family</td>\n",
       "      <td>White</td>\n",
       "      <td>Male</td>\n",
       "      <td>2174</td>\n",
       "      <td>0</td>\n",
       "      <td>40</td>\n",
       "      <td>United-States</td>\n",
       "      <td>&lt;=50K</td>\n",
       "    </tr>\n",
       "    <tr>\n",
       "      <th>1</th>\n",
       "      <td>50</td>\n",
       "      <td>Self-emp-not-inc</td>\n",
       "      <td>83311</td>\n",
       "      <td>Bachelors</td>\n",
       "      <td>13</td>\n",
       "      <td>Married-civ-spouse</td>\n",
       "      <td>Exec-managerial</td>\n",
       "      <td>Husband</td>\n",
       "      <td>White</td>\n",
       "      <td>Male</td>\n",
       "      <td>0</td>\n",
       "      <td>0</td>\n",
       "      <td>13</td>\n",
       "      <td>United-States</td>\n",
       "      <td>&lt;=50K</td>\n",
       "    </tr>\n",
       "    <tr>\n",
       "      <th>2</th>\n",
       "      <td>38</td>\n",
       "      <td>Private</td>\n",
       "      <td>215646</td>\n",
       "      <td>HS-grad</td>\n",
       "      <td>9</td>\n",
       "      <td>Divorced</td>\n",
       "      <td>Handlers-cleaners</td>\n",
       "      <td>Not-in-family</td>\n",
       "      <td>White</td>\n",
       "      <td>Male</td>\n",
       "      <td>0</td>\n",
       "      <td>0</td>\n",
       "      <td>40</td>\n",
       "      <td>United-States</td>\n",
       "      <td>&lt;=50K</td>\n",
       "    </tr>\n",
       "    <tr>\n",
       "      <th>3</th>\n",
       "      <td>53</td>\n",
       "      <td>Private</td>\n",
       "      <td>234721</td>\n",
       "      <td>11th</td>\n",
       "      <td>7</td>\n",
       "      <td>Married-civ-spouse</td>\n",
       "      <td>Handlers-cleaners</td>\n",
       "      <td>Husband</td>\n",
       "      <td>Black</td>\n",
       "      <td>Male</td>\n",
       "      <td>0</td>\n",
       "      <td>0</td>\n",
       "      <td>40</td>\n",
       "      <td>United-States</td>\n",
       "      <td>&lt;=50K</td>\n",
       "    </tr>\n",
       "    <tr>\n",
       "      <th>4</th>\n",
       "      <td>28</td>\n",
       "      <td>Private</td>\n",
       "      <td>338409</td>\n",
       "      <td>Bachelors</td>\n",
       "      <td>13</td>\n",
       "      <td>Married-civ-spouse</td>\n",
       "      <td>Prof-specialty</td>\n",
       "      <td>Wife</td>\n",
       "      <td>Black</td>\n",
       "      <td>Female</td>\n",
       "      <td>0</td>\n",
       "      <td>0</td>\n",
       "      <td>40</td>\n",
       "      <td>Cuba</td>\n",
       "      <td>&lt;=50K</td>\n",
       "    </tr>\n",
       "  </tbody>\n",
       "</table>\n",
       "</div>"
      ]
     },
     "execution_count": 8,
     "metadata": {},
     "output_type": "execute_result"
    }
   ],
   "execution_count": 8
  },
  {
   "cell_type": "code",
   "id": "107289ca",
   "metadata": {
    "ExecuteTime": {
     "end_time": "2025-06-19T10:15:16.578295Z",
     "start_time": "2025-06-19T10:15:16.572090Z"
    }
   },
   "source": [
    "df_adult.shape"
   ],
   "outputs": [
    {
     "data": {
      "text/plain": [
       "(32561, 15)"
      ]
     },
     "execution_count": 9,
     "metadata": {},
     "output_type": "execute_result"
    }
   ],
   "execution_count": 9
  },
  {
   "cell_type": "code",
   "id": "6d032d69",
   "metadata": {
    "ExecuteTime": {
     "end_time": "2025-06-19T10:15:16.680122Z",
     "start_time": "2025-06-19T10:15:16.672254Z"
    }
   },
   "source": [
    "df_adult.columns"
   ],
   "outputs": [
    {
     "data": {
      "text/plain": [
       "Index(['age', 'workclass', 'fnlwgt', 'education', 'education-num',\n",
       "       'marital-status', 'occupation', 'relationship', 'race', 'sex',\n",
       "       'capital-gain', 'capital-loss', 'hours-per-week', 'native-country',\n",
       "       'income'],\n",
       "      dtype='object', name='name')"
      ]
     },
     "execution_count": 10,
     "metadata": {},
     "output_type": "execute_result"
    }
   ],
   "execution_count": 10
  },
  {
   "cell_type": "code",
   "id": "3f021163",
   "metadata": {
    "ExecuteTime": {
     "end_time": "2025-06-19T10:15:16.931764Z",
     "start_time": "2025-06-19T10:15:16.889928Z"
    }
   },
   "source": [
    "df_adult.describe()"
   ],
   "outputs": [
    {
     "data": {
      "text/plain": [
       "name            age        fnlwgt  education-num  capital-gain  capital-loss  \\\n",
       "count  32561.000000  3.256100e+04   32561.000000  32561.000000  32561.000000   \n",
       "mean      38.581647  1.897784e+05      10.080679   1077.648844     87.303830   \n",
       "std       13.640433  1.055500e+05       2.572720   7385.292085    402.960219   \n",
       "min       17.000000  1.228500e+04       1.000000      0.000000      0.000000   \n",
       "25%       28.000000  1.178270e+05       9.000000      0.000000      0.000000   \n",
       "50%       37.000000  1.783560e+05      10.000000      0.000000      0.000000   \n",
       "75%       48.000000  2.370510e+05      12.000000      0.000000      0.000000   \n",
       "max       90.000000  1.484705e+06      16.000000  99999.000000   4356.000000   \n",
       "\n",
       "name   hours-per-week  \n",
       "count    32561.000000  \n",
       "mean        40.437456  \n",
       "std         12.347429  \n",
       "min          1.000000  \n",
       "25%         40.000000  \n",
       "50%         40.000000  \n",
       "75%         45.000000  \n",
       "max         99.000000  "
      ],
      "text/html": [
       "<div>\n",
       "<style scoped>\n",
       "    .dataframe tbody tr th:only-of-type {\n",
       "        vertical-align: middle;\n",
       "    }\n",
       "\n",
       "    .dataframe tbody tr th {\n",
       "        vertical-align: top;\n",
       "    }\n",
       "\n",
       "    .dataframe thead th {\n",
       "        text-align: right;\n",
       "    }\n",
       "</style>\n",
       "<table border=\"1\" class=\"dataframe\">\n",
       "  <thead>\n",
       "    <tr style=\"text-align: right;\">\n",
       "      <th>name</th>\n",
       "      <th>age</th>\n",
       "      <th>fnlwgt</th>\n",
       "      <th>education-num</th>\n",
       "      <th>capital-gain</th>\n",
       "      <th>capital-loss</th>\n",
       "      <th>hours-per-week</th>\n",
       "    </tr>\n",
       "  </thead>\n",
       "  <tbody>\n",
       "    <tr>\n",
       "      <th>count</th>\n",
       "      <td>32561.000000</td>\n",
       "      <td>3.256100e+04</td>\n",
       "      <td>32561.000000</td>\n",
       "      <td>32561.000000</td>\n",
       "      <td>32561.000000</td>\n",
       "      <td>32561.000000</td>\n",
       "    </tr>\n",
       "    <tr>\n",
       "      <th>mean</th>\n",
       "      <td>38.581647</td>\n",
       "      <td>1.897784e+05</td>\n",
       "      <td>10.080679</td>\n",
       "      <td>1077.648844</td>\n",
       "      <td>87.303830</td>\n",
       "      <td>40.437456</td>\n",
       "    </tr>\n",
       "    <tr>\n",
       "      <th>std</th>\n",
       "      <td>13.640433</td>\n",
       "      <td>1.055500e+05</td>\n",
       "      <td>2.572720</td>\n",
       "      <td>7385.292085</td>\n",
       "      <td>402.960219</td>\n",
       "      <td>12.347429</td>\n",
       "    </tr>\n",
       "    <tr>\n",
       "      <th>min</th>\n",
       "      <td>17.000000</td>\n",
       "      <td>1.228500e+04</td>\n",
       "      <td>1.000000</td>\n",
       "      <td>0.000000</td>\n",
       "      <td>0.000000</td>\n",
       "      <td>1.000000</td>\n",
       "    </tr>\n",
       "    <tr>\n",
       "      <th>25%</th>\n",
       "      <td>28.000000</td>\n",
       "      <td>1.178270e+05</td>\n",
       "      <td>9.000000</td>\n",
       "      <td>0.000000</td>\n",
       "      <td>0.000000</td>\n",
       "      <td>40.000000</td>\n",
       "    </tr>\n",
       "    <tr>\n",
       "      <th>50%</th>\n",
       "      <td>37.000000</td>\n",
       "      <td>1.783560e+05</td>\n",
       "      <td>10.000000</td>\n",
       "      <td>0.000000</td>\n",
       "      <td>0.000000</td>\n",
       "      <td>40.000000</td>\n",
       "    </tr>\n",
       "    <tr>\n",
       "      <th>75%</th>\n",
       "      <td>48.000000</td>\n",
       "      <td>2.370510e+05</td>\n",
       "      <td>12.000000</td>\n",
       "      <td>0.000000</td>\n",
       "      <td>0.000000</td>\n",
       "      <td>45.000000</td>\n",
       "    </tr>\n",
       "    <tr>\n",
       "      <th>max</th>\n",
       "      <td>90.000000</td>\n",
       "      <td>1.484705e+06</td>\n",
       "      <td>16.000000</td>\n",
       "      <td>99999.000000</td>\n",
       "      <td>4356.000000</td>\n",
       "      <td>99.000000</td>\n",
       "    </tr>\n",
       "  </tbody>\n",
       "</table>\n",
       "</div>"
      ]
     },
     "execution_count": 11,
     "metadata": {},
     "output_type": "execute_result"
    }
   ],
   "execution_count": 11
  },
  {
   "cell_type": "code",
   "id": "b18aed3e",
   "metadata": {
    "ExecuteTime": {
     "end_time": "2025-06-19T10:15:17.215983Z",
     "start_time": "2025-06-19T10:15:17.186065Z"
    }
   },
   "source": [
    "df_adult.isna().sum()"
   ],
   "outputs": [
    {
     "data": {
      "text/plain": [
       "name\n",
       "age               0\n",
       "workclass         0\n",
       "fnlwgt            0\n",
       "education         0\n",
       "education-num     0\n",
       "marital-status    0\n",
       "occupation        0\n",
       "relationship      0\n",
       "race              0\n",
       "sex               0\n",
       "capital-gain      0\n",
       "capital-loss      0\n",
       "hours-per-week    0\n",
       "native-country    0\n",
       "income            0\n",
       "dtype: int64"
      ]
     },
     "execution_count": 12,
     "metadata": {},
     "output_type": "execute_result"
    }
   ],
   "execution_count": 12
  },
  {
   "cell_type": "code",
   "id": "136d56a2",
   "metadata": {
    "ExecuteTime": {
     "end_time": "2025-06-19T10:15:17.514864Z",
     "start_time": "2025-06-19T10:15:17.407958Z"
    }
   },
   "source": [
    "df_adult = df_adult.drop_duplicates()\n",
    "df_adult[df_adult.duplicated()]"
   ],
   "outputs": [
    {
     "data": {
      "text/plain": [
       "Empty DataFrame\n",
       "Columns: [age, workclass, fnlwgt, education, education-num, marital-status, occupation, relationship, race, sex, capital-gain, capital-loss, hours-per-week, native-country, income]\n",
       "Index: []"
      ],
      "text/html": [
       "<div>\n",
       "<style scoped>\n",
       "    .dataframe tbody tr th:only-of-type {\n",
       "        vertical-align: middle;\n",
       "    }\n",
       "\n",
       "    .dataframe tbody tr th {\n",
       "        vertical-align: top;\n",
       "    }\n",
       "\n",
       "    .dataframe thead th {\n",
       "        text-align: right;\n",
       "    }\n",
       "</style>\n",
       "<table border=\"1\" class=\"dataframe\">\n",
       "  <thead>\n",
       "    <tr style=\"text-align: right;\">\n",
       "      <th>name</th>\n",
       "      <th>age</th>\n",
       "      <th>workclass</th>\n",
       "      <th>fnlwgt</th>\n",
       "      <th>education</th>\n",
       "      <th>education-num</th>\n",
       "      <th>marital-status</th>\n",
       "      <th>occupation</th>\n",
       "      <th>relationship</th>\n",
       "      <th>race</th>\n",
       "      <th>sex</th>\n",
       "      <th>capital-gain</th>\n",
       "      <th>capital-loss</th>\n",
       "      <th>hours-per-week</th>\n",
       "      <th>native-country</th>\n",
       "      <th>income</th>\n",
       "    </tr>\n",
       "  </thead>\n",
       "  <tbody>\n",
       "  </tbody>\n",
       "</table>\n",
       "</div>"
      ]
     },
     "execution_count": 13,
     "metadata": {},
     "output_type": "execute_result"
    }
   ],
   "execution_count": 13
  },
  {
   "metadata": {
    "ExecuteTime": {
     "end_time": "2025-06-19T10:18:03.918225Z",
     "start_time": "2025-06-19T10:18:03.899624Z"
    }
   },
   "cell_type": "code",
   "source": "(df_adult[\"education\"].unique())",
   "id": "d501866ca154c72f",
   "outputs": [
    {
     "data": {
      "text/plain": [
       "array([' Bachelors', ' HS-grad', ' 11th', ' Masters', ' 9th',\n",
       "       ' Some-college', ' Assoc-acdm', ' Assoc-voc', ' 7th-8th',\n",
       "       ' Doctorate', ' Prof-school', ' 5th-6th', ' 10th', ' 1st-4th',\n",
       "       ' Preschool', ' 12th'], dtype=object)"
      ]
     },
     "execution_count": 16,
     "metadata": {},
     "output_type": "execute_result"
    }
   ],
   "execution_count": 16
  },
  {
   "cell_type": "code",
   "id": "f1a4235f",
   "metadata": {
    "ExecuteTime": {
     "end_time": "2025-06-19T10:15:18.228021Z",
     "start_time": "2025-06-19T10:15:18.184302Z"
    }
   },
   "source": [
    "df_adult.info()"
   ],
   "outputs": [
    {
     "name": "stdout",
     "output_type": "stream",
     "text": [
      "<class 'pandas.core.frame.DataFrame'>\n",
      "Index: 32537 entries, 0 to 32560\n",
      "Data columns (total 15 columns):\n",
      " #   Column          Non-Null Count  Dtype \n",
      "---  ------          --------------  ----- \n",
      " 0   age             32537 non-null  int64 \n",
      " 1   workclass       32537 non-null  object\n",
      " 2   fnlwgt          32537 non-null  int64 \n",
      " 3   education       32537 non-null  object\n",
      " 4   education-num   32537 non-null  int64 \n",
      " 5   marital-status  32537 non-null  object\n",
      " 6   occupation      32537 non-null  object\n",
      " 7   relationship    32537 non-null  object\n",
      " 8   race            32537 non-null  object\n",
      " 9   sex             32537 non-null  object\n",
      " 10  capital-gain    32537 non-null  int64 \n",
      " 11  capital-loss    32537 non-null  int64 \n",
      " 12  hours-per-week  32537 non-null  int64 \n",
      " 13  native-country  32537 non-null  object\n",
      " 14  income          32537 non-null  object\n",
      "dtypes: int64(6), object(9)\n",
      "memory usage: 4.0+ MB\n"
     ]
    }
   ],
   "execution_count": 15
  },
  {
   "cell_type": "markdown",
   "id": "ec6c3644",
   "metadata": {},
   "source": [
    "Problème : La description des données indique qu'elles contiennent des valeurs inconnues. Ces valeurs ne sont pas en NaN ou null. Nous pouvons déjà remarquer la présence de '?' en leur lieu et place.\n",
    "\n",
    "## Traitement des données\n",
    "\n",
    "### Analyse des traitements à réaliser"
   ]
  },
  {
   "cell_type": "code",
   "id": "4f71c629",
   "metadata": {
    "ExecuteTime": {
     "end_time": "2025-06-19T09:55:38.797363Z",
     "start_time": "2025-06-19T09:55:35.876377Z"
    }
   },
   "source": [
    "df_adult = df_adult.replace('\\?', np.nan, regex=True)\n",
    "sns.heatmap(df_adult.isna(), cbar=False, cmap='viridis')\n",
    "print(f\"Nombre de valeurs manquantes : {df_adult.isna().sum()}\")"
   ],
   "outputs": [
    {
     "name": "stdout",
     "output_type": "stream",
     "text": [
      "Nombre de valeurs manquantes : name\n",
      "age                  0\n",
      "workclass         1836\n",
      "fnlwgt               0\n",
      "education            0\n",
      "education-num        0\n",
      "marital-status       0\n",
      "occupation        1843\n",
      "relationship         0\n",
      "race                 0\n",
      "sex                  0\n",
      "capital-gain         0\n",
      "capital-loss         0\n",
      "hours-per-week       0\n",
      "native-country     582\n",
      "income               0\n",
      "dtype: int64\n"
     ]
    },
    {
     "data": {
      "text/plain": [
       "<Figure size 1000x800 with 1 Axes>"
      ],
      "image/png": "[encoded data removed]"
     },
     "metadata": {},
     "output_type": "display_data"
    }
   ],
   "execution_count": 15
  },
  {
   "cell_type": "code",
   "id": "6c06b28a72dceb89",
   "metadata": {
    "ExecuteTime": {
     "end_time": "2025-06-19T09:55:49.803951Z",
     "start_time": "2025-06-19T09:55:49.777210Z"
    }
   },
   "source": [
    "wrkclass_proportion = df_adult[\"workclass\"].value_counts(dropna=False) / df_adult.shape[0]\n",
    "print(\"workclass : \", wrkclass_proportion.idxmax(), f\"{wrkclass_proportion.max() * 100:.2f}% ({len(wrkclass_proportion)} valeurs uniques)\")\n",
    "occupation_proportion = df_adult[\"occupation\"].value_counts(dropna=False) / df_adult.shape[0]\n",
    "print(\"occupation : \", occupation_proportion.idxmax(), f\"{occupation_proportion.max() * 100:.2f}% ({len(occupation_proportion)} valeurs uniques)\")\n",
    "native_country_proportion = df_adult[\"native-country\"].value_counts(dropna=False) / df_adult.shape[0]\n",
    "print(\"native_country : \", native_country_proportion.idxmax(), f\"{native_country_proportion.max() * 100:.2f}% ({len(native_country_proportion)} valeurs uniques)\")\n",
    "income_proportion = df_adult[\"income\"].value_counts(dropna=False) / df_adult.shape[0]\n",
    "print(\"income : \", income_proportion.idxmax(), f\"{income_proportion.max() * 100:.2f}% ({len(income_proportion)} valeurs uniques)\")"
   ],
   "outputs": [
    {
     "name": "stdout",
     "output_type": "stream",
     "text": [
      "workclass :   Private 69.68% (9 valeurs uniques)\n",
      "occupation :   Prof-specialty 12.71% (15 valeurs uniques)\n",
      "native_country :   United-States 89.60% (42 valeurs uniques)\n",
      "income :   <=50K 75.91% (2 valeurs uniques)\n"
     ]
    }
   ],
   "execution_count": 16
  },
  {
   "cell_type": "markdown",
   "id": "a20b04b075a70372",
   "metadata": {},
   "source": [
    " ### Creation de la fonction de traitement des données"
   ]
  },
  {
   "cell_type": "code",
   "id": "286579e9e94f42e",
   "metadata": {
    "ExecuteTime": {
     "end_time": "2025-06-19T10:21:05.052082Z",
     "start_time": "2025-06-19T10:21:05.023940Z"
    }
   },
   "source": [
    "from sklearn.compose import ColumnTransformer\n",
    "from sklearn.preprocessing import StandardScaler, OneHotEncoder\n",
    "\n",
    "def treat_df(df, preprocessor = None):\n",
    "    df_new = df.copy()\n",
    "    # Remplacement de la valeur '?' par NaN\n",
    "    df_new = df_new.replace('\\?', np.nan, regex=True)\n",
    "    # Remplacement des valeurs manquantes par les valeurs les plus fréquentes, les seules variables concernées sont workclass, occupation et native-country\n",
    "    for col in [\"workclass\", \"occupation\", \"native-country\"]:\n",
    "        df_new[col].fillna(df_new[col].mode()[0], inplace=True)\n",
    "\n",
    "    # Retrait de la variable education-num (redondance et encodage pas necessairement ordinal\n",
    "    df_new.drop(\"education-num\", inplace=True, axis=1)\n",
    "\n",
    "    # Selection des different types de variables\n",
    "    categorical_columns = df_new.select_dtypes(include=['object']).columns\n",
    "    numerical_columns = df_new.select_dtypes(include=['number']).columns\n",
    "    # Retrait de la variable cible des colonnes categorielles à traiter\n",
    "    categorical_columns = categorical_columns.drop('income')\n",
    "\n",
    "    education_order = [[\n",
    "        ' Preschool', ' 1st-4th', ' 5th-6th', ' 7th-8th', ' 9th', ' 10th',\n",
    "        ' 11th', ' 12th', ' HS-grad', ' Some-college', ' Assoc-voc',\n",
    "        ' Assoc-acdm', ' Bachelors', ' Masters', ' Prof-school', ' Doctorate'\n",
    "    ]]\n",
    "\n",
    "    # Pretraitement des features\n",
    "    if preprocessor is None:\n",
    "        preprocessor = ColumnTransformer(\n",
    "            transformers = [\n",
    "                ('numerical', StandardScaler(), numerical_columns),\n",
    "                # La feature education est ordonnée\n",
    "                ('categorical', OneHotEncoder(sparse_output=False), categorical_columns.drop(\"education\")),\n",
    "                # Education utilise OrdinalEncoder\n",
    "                ('categ_ordinal', OrdinalEncoder(categories=education_order), [\"education\"])\n",
    "            ]\n",
    "        )\n",
    "        preprocessor.fit(df_new.drop(\"income\", axis=1))\n",
    "    features_processed = preprocessor.transform(df_new.drop('income', axis=1))\n",
    "    column_names = (\n",
    "        preprocessor.named_transformers_['numerical'].get_feature_names_out(numerical_columns).tolist() +\n",
    "        preprocessor.named_transformers_['categorical'].get_feature_names_out(categorical_columns.drop(\"education\")).tolist() +\n",
    "        preprocessor.named_transformers_['categ_ordinal'].get_feature_names_out(['education']).tolist()\n",
    "    )\n",
    "    df_processed = pd.DataFrame(features_processed, columns=column_names)\n",
    "    # Pretraitement de la variable cible, (0: <=50K, 1: >50K)\n",
    "    label_encoder = LabelEncoder()\n",
    "    df_processed['income'] = label_encoder.fit_transform(df_new['income'])\n",
    "    print(df_new['income'].value_counts())\n",
    "    print(df_processed['income'].value_counts())\n",
    "    return df_processed, preprocessor"
   ],
   "outputs": [],
   "execution_count": 21
  },
  {
   "cell_type": "markdown",
   "id": "d61c0a4ba40038da",
   "metadata": {},
   "source": [
    "## Modele de prediction\n",
    "\n",
    "### Préparation des modèles\n",
    "\n",
    "Nous comptons utiliser la librairie `optuna` pour l'optimisation des hyperparamètres. Afin de permettre une comparaison facile des modèles entre eux, nous préparons des fonctions pour chaque modèle que nous souhaitons optimiser."
   ]
  },
  {
   "cell_type": "code",
   "id": "aa55e6c1908508db",
   "metadata": {
    "ExecuteTime": {
     "end_time": "2025-06-19T10:21:15.157282Z",
     "start_time": "2025-06-19T10:21:14.430072Z"
    }
   },
   "source": [
    "from sklearn.metrics import confusion_matrix\n",
    "\n",
    "# Creation de différents sets\n",
    "# X_train, X_test, y_train, y_test = train_test_split(df_adult_enco.drop(columns=[\"income\"]), df_adult_enco[\"income\"], test_size=0.2, random_state=69)\n",
    "#\n",
    "# # On normalise les variables quantitatives sur les données de train (StandardScaler pour l'instant)\n",
    "# numerical_columns = df_adult.select_dtypes(include=['int64', 'float64']).columns\n",
    "# numerical_scaler = StandardScaler()\n",
    "# numerical_scaler.fit(X_train[numerical_columns])\n",
    "# X_train[numerical_columns] = numerical_scaler.transform(X_train[numerical_columns])\n",
    "# X_test[numerical_columns] = numerical_scaler.transform(X_test[numerical_columns])\n",
    "\n",
    "# Import des données de test\n",
    "df_adult_test = pd.read_csv(\"./Data/adult.test\", header=None)\n",
    "df_adult_test.columns = adult_columns\n",
    "\n",
    "# Creation de différents sets (repartition 66/33 pour train/test)\n",
    "df_adult_new, fitted_preprocessor = treat_df(df_adult, None)\n",
    "X_train, y_train = df_adult_new.drop(columns=[\"income\"]), df_adult_new[\"income\"]\n",
    "df_adult_test_new, _ = treat_df(df_adult_test, fitted_preprocessor)\n",
    "X_test, y_test = df_adult_test_new.drop(columns=[\"income\"]), df_adult_test_new[\"income\"]\n",
    "\n",
    "def eval_model(model, X_test, y_test):\n",
    "    \"\"\"\n",
    "    :return: accuracy, recall, neg_recall, f1, r2, mae, rmse, accuracy_neg_pred, accuracy_pos_pred\n",
    "    \"\"\"\n",
    "    y_pred = model.predict(X_test)\n",
    "    accuracy = accuracy_score(y_test, y_pred)\n",
    "    recall = recall_score(y_test, y_pred)\n",
    "    neg_recall = recall_score(y_test, y_pred, pos_label=0)\n",
    "    f1 = f1_score(y_test, y_pred)\n",
    "    r2 = r2_score(y_test, y_pred)\n",
    "    mae = mean_absolute_error(y_test, y_pred)\n",
    "    rmse = mean_squared_error(y_test, y_pred)\n",
    "    print(f\"Accuracy : {accuracy:.4f} (the higher the better)\")\n",
    "    print(f\"Recall : {recall:.4f} (the higher the better) (best for us)\")\n",
    "    print(f\"Negative recall : {neg_recall:.4f} (the lower the better)\")\n",
    "    print(f\"F1 : {f1:.4f} (the higher the better)\")\n",
    "    print(f\"R2 : {r2:.4f} (the higher the better)\")\n",
    "    print(f\"MAE : {mae:.4f} (the lower the better)\")\n",
    "    print(f\"RMSE : {rmse:.4f} (the lower the better)\")\n",
    "    return accuracy, recall, neg_recall, f1, r2, mae, rmse"
   ],
   "outputs": [
    {
     "name": "stdout",
     "output_type": "stream",
     "text": [
      "income\n",
      "<=50K    24698\n",
      ">50K      7839\n",
      "Name: count, dtype: int64\n",
      "income\n",
      "0    24698\n",
      "1     7839\n",
      "Name: count, dtype: int64\n",
      "income\n",
      "<=50K.    12435\n",
      ">50K.      3846\n",
      "Name: count, dtype: int64\n",
      "income\n",
      "0    12435\n",
      "1     3846\n",
      "Name: count, dtype: int64\n"
     ]
    }
   ],
   "execution_count": 22
  },
  {
   "cell_type": "markdown",
   "id": "cec6205532cb2e1e",
   "metadata": {},
   "source": [
    "### Arbre de décision"
   ]
  },
  {
   "cell_type": "code",
   "id": "faf2e7624837066c",
   "metadata": {
    "ExecuteTime": {
     "end_time": "2025-06-19T10:21:24.039843Z",
     "start_time": "2025-06-19T10:21:24.015403Z"
    }
   },
   "source": [
    "from sklearn.tree import DecisionTreeClassifier\n",
    "\n",
    "def opt_decision_tree(trial):\n",
    "    max_depth = trial.suggest_int('max_depth', 2, 32)\n",
    "    min_samples_split = trial.suggest_int('min_samples_split', 2, 10)\n",
    "    min_samples_leaf = trial.suggest_int('min_samples_leaf', 1, 4)\n",
    "    max_features = trial.suggest_categorical('max_features', ['sqrt', 'log2'])\n",
    "    criterion = trial.suggest_categorical('criterion', ['gini', 'entropy'])\n",
    "    return DecisionTreeClassifier(\n",
    "        max_depth=max_depth,\n",
    "        min_samples_split=min_samples_split,\n",
    "        min_samples_leaf=min_samples_leaf,\n",
    "        max_features=max_features,\n",
    "        criterion=criterion\n",
    "    )\n",
    "\n",
    "def obj_decision_tree(trial):\n",
    "    model = opt_decision_tree(trial)\n",
    "    model.fit(X_train, y_train)\n",
    "    y_pred = model.predict(X_test)\n",
    "    recall = recall_score(y_test, y_pred)\n",
    "    return recall"
   ],
   "outputs": [],
   "execution_count": 23
  },
  {
   "cell_type": "markdown",
   "id": "ce476f8a0cf7891a",
   "metadata": {},
   "source": "### Random forest"
  },
  {
   "cell_type": "code",
   "id": "52405f1f0bcfb978",
   "metadata": {
    "ExecuteTime": {
     "end_time": "2025-06-19T10:21:24.109850Z",
     "start_time": "2025-06-19T10:21:24.066018Z"
    }
   },
   "source": [
    "from sklearn.ensemble import RandomForestClassifier\n",
    "\n",
    "def opt_random_forest(trial):\n",
    "    rf_max_depth = trial.suggest_int('rf_max_depth', 2, 32)\n",
    "    rf_min_samples_split = trial.suggest_int('rf_min_samples_split', 2, 10)\n",
    "    rf_min_samples_leaf = trial.suggest_int('rf_min_samples_leaf', 1, 4)\n",
    "    rf_max_features = trial.suggest_categorical('rf_max_features', ['sqrt', 'log2'])\n",
    "    rf_criterion = trial.suggest_categorical('rf_criterion', ['gini', 'entropy'])\n",
    "    rf_n_estimators = trial.suggest_int('rf_n_estimators', 50, 200)\n",
    "    return RandomForestClassifier(\n",
    "        max_depth=rf_max_depth,\n",
    "        min_samples_split=rf_min_samples_split,\n",
    "        min_samples_leaf=rf_min_samples_leaf,\n",
    "        max_features=rf_max_features,\n",
    "        criterion=rf_criterion,\n",
    "        n_estimators=rf_n_estimators\n",
    "    )\n",
    "\n",
    "def obj_random_forest(trial):\n",
    "    model = opt_random_forest(trial)\n",
    "    model.fit(X_train, y_train)\n",
    "    y_pred = model.predict(X_test)\n",
    "    recall = recall_score(y_test, y_pred)\n",
    "    return recall"
   ],
   "outputs": [],
   "execution_count": 24
  },
  {
   "cell_type": "markdown",
   "id": "6aa0b26492f0ea26",
   "metadata": {},
   "source": [
    "### Regression logistique"
   ]
  },
  {
   "cell_type": "code",
   "id": "e7c1331e8f9d6309",
   "metadata": {
    "ExecuteTime": {
     "end_time": "2025-06-19T10:21:33.609911Z",
     "start_time": "2025-06-19T10:21:33.587842Z"
    }
   },
   "source": [
    "from sklearn.linear_model import LogisticRegression\n",
    "\n",
    "def opt_logistic_regression(trial):\n",
    "    solver = trial.suggest_categorical('solver', ['newton-cg', 'lbfgs', 'liblinear', 'sag', 'saga'])\n",
    "\n",
    "    # Filter penalties based on the solver\n",
    "    penalty = \"l2\"  # Default penalty if an error occurs\n",
    "    if solver in ['newton-cg', 'lbfgs', 'sag']:\n",
    "        penalty = trial.suggest_categorical('penalty', ['l2', None])\n",
    "    elif solver == 'liblinear':\n",
    "        penalty = trial.suggest_categorical('penalty-liblinear', ['l1', 'l2'])\n",
    "    elif solver == 'saga':\n",
    "        penalty = trial.suggest_categorical('penalty-saga', ['l1', 'l2', 'elasticnet', None])\n",
    "    # l1_ratio est utlisé pour l'elasticnet\n",
    "    l1_ratio = trial.suggest_float('l1_ratio', 0.1, 0.5, log=True)\n",
    "    C = trial.suggest_float('C', 0.01, 10.0, log=True)\n",
    "    max_iter = trial.suggest_int('max_iter', 50, 500)\n",
    "    return LogisticRegression(\n",
    "        penalty=penalty,\n",
    "        C=C,\n",
    "        solver=solver,\n",
    "        max_iter=max_iter,\n",
    "        l1_ratio=l1_ratio,\n",
    "    )\n",
    "\n",
    "def obj_logistic_regression(trial):\n",
    "    model = opt_logistic_regression(trial)\n",
    "    model.fit(X_train, y_train)\n",
    "    y_pred = model.predict(X_test)\n",
    "    recall = recall_score(y_test, y_pred)\n",
    "    return recall"
   ],
   "outputs": [],
   "execution_count": 25
  },
  {
   "cell_type": "markdown",
   "id": "1a3031cdc514bae7",
   "metadata": {},
   "source": [
    "### AdaBoosting"
   ]
  },
  {
   "cell_type": "code",
   "id": "eba4e21b00687def",
   "metadata": {
    "ExecuteTime": {
     "end_time": "2025-06-19T10:21:51.681238Z",
     "start_time": "2025-06-19T10:21:51.673771Z"
    }
   },
   "source": [
    "from sklearn.ensemble import AdaBoostClassifier\n",
    "\n",
    "def opt_adaboost(trial):\n",
    "    base_estimator = trial.suggest_categorical('base_estimator', ['DecisionTree', 'RandomForest'])\n",
    "    base_estimator_obj = None\n",
    "    if base_estimator == 'DecisionTree':\n",
    "        base_estimator_obj = opt_decision_tree(trial)\n",
    "    elif base_estimator == 'RandomForest':\n",
    "        base_estimator_obj = opt_random_forest(trial)\n",
    "\n",
    "    n_estimators = trial.suggest_int('n_estimators', 50, 200)\n",
    "    learning_rate = trial.suggest_float('learning_rate', 0.01, 0.3)\n",
    "\n",
    "    return AdaBoostClassifier(\n",
    "        estimator=base_estimator_obj,\n",
    "        n_estimators=n_estimators,\n",
    "        learning_rate=learning_rate\n",
    "    )\n",
    "\n",
    "def obj_adaboost(trial):\n",
    "    model = opt_adaboost(trial)\n",
    "    model.fit(X_train, y_train)\n",
    "    y_pred = model.predict(X_test)\n",
    "    recall = recall_score(y_test, y_pred)\n",
    "    return recall"
   ],
   "outputs": [],
   "execution_count": 26
  },
  {
   "cell_type": "markdown",
   "id": "d3f9ecc64667cb38",
   "metadata": {},
   "source": [
    "### Gradient boosting"
   ]
  },
  {
   "cell_type": "code",
   "id": "8fa4715e1c5204c3",
   "metadata": {
    "ExecuteTime": {
     "end_time": "2025-06-19T10:21:51.770105Z",
     "start_time": "2025-06-19T10:21:51.728076Z"
    }
   },
   "source": [
    "from xgboost import XGBClassifier\n",
    "\n",
    "def opt_xgb(trial):\n",
    "    max_depth = trial.suggest_int('max_depth', 2, 32)\n",
    "    min_samples_split = trial.suggest_int('min_samples_split', 2, 10)\n",
    "    min_samples_leaf = trial.suggest_int('min_samples_leaf', 1, 4)\n",
    "    max_features = trial.suggest_categorical('max_features', ['sqrt', 'log2'])\n",
    "    criterion = trial.suggest_categorical('criterion', ['gini', 'entropy'])\n",
    "    n_estimators = trial.suggest_int('n_estimators', 50, 200)\n",
    "    learning_rate = trial.suggest_float('learning_rate', 0.01, 0.3)\n",
    "    return XGBClassifier(\n",
    "        max_depth=max_depth,\n",
    "        min_samples_split=min_samples_split,\n",
    "        min_samples_leaf=min_samples_leaf,\n",
    "        max_features=max_features,\n",
    "        criterion=criterion,\n",
    "        n_estimators=n_estimators,\n",
    "        learning_rate=learning_rate\n",
    "    )\n",
    "\n",
    "def obj_xgb(trial):\n",
    "    model = opt_xgb(trial)\n",
    "    model.fit(X_train, y_train)\n",
    "    y_pred = model.predict(X_test)\n",
    "    recall = recall_score(y_test, y_pred)\n",
    "    return recall"
   ],
   "outputs": [],
   "execution_count": 27
  },
  {
   "cell_type": "markdown",
   "id": "1fdc4d01bc8789a4",
   "metadata": {},
   "source": [
    "### Stacking"
   ]
  },
  {
   "cell_type": "code",
   "id": "60931346aa26bf34",
   "metadata": {
    "ExecuteTime": {
     "end_time": "2025-06-19T10:21:59.297785Z",
     "start_time": "2025-06-19T10:21:59.287700Z"
    }
   },
   "source": [
    "from sklearn.ensemble import StackingClassifier\n",
    "\n",
    "def opt_stacking(trial):\n",
    "    rf_max_depth = trial.suggest_int('rf_max_depth', 2, 32)\n",
    "    rf_min_samples_split = trial.suggest_int('rf_min_samples_split', 2, 10)\n",
    "    rf_min_samples_leaf = trial.suggest_int('rf_min_samples_leaf', 1, 4)\n",
    "    rf_max_features = trial.suggest_categorical('rf_max_features', ['sqrt', 'log2'])\n",
    "    rf_criterion = trial.suggest_categorical('rf_criterion', ['gini', 'entropy'])\n",
    "    rf_n_estimators = trial.suggest_int('rf_n_estimators', 50, 200)\n",
    "\n",
    "    xgb_max_depth = trial.suggest_int('xgb_max_depth', 2, 32)\n",
    "    xgb_min_samples_split = trial.suggest_int('xgb_min_samples_split', 2, 10)\n",
    "    xgb_min_samples_leaf = trial.suggest_int('xgb_min_samples_leaf', 1, 4)\n",
    "    xgb_max_features = trial.suggest_categorical('xgb_max_features', ['sqrt', 'log2'])\n",
    "    xgb_criterion = trial.suggest_categorical('xgb_criterion', ['gini', 'entropy'])\n",
    "    xgb_n_estimators = trial.suggest_int('xgb_n_estimators', 50, 200)\n",
    "\n",
    "    return StackingClassifier(\n",
    "        estimators=[\n",
    "            ('rf', RandomForestClassifier(\n",
    "                max_depth=rf_max_depth,\n",
    "                min_samples_split=rf_min_samples_split,\n",
    "                min_samples_leaf=rf_min_samples_leaf,\n",
    "                max_features=rf_max_features,\n",
    "                criterion=rf_criterion,\n",
    "                n_estimators=rf_n_estimators\n",
    "            )),\n",
    "            ('xgb', XGBClassifier(\n",
    "                max_depth=xgb_max_depth,\n",
    "                min_samples_split=xgb_min_samples_split,\n",
    "                min_samples_leaf=xgb_min_samples_leaf,\n",
    "                max_features=xgb_max_features,\n",
    "                criterion=xgb_criterion,\n",
    "                n_estimators=xgb_n_estimators\n",
    "            ))\n",
    "        ],\n",
    "        final_estimator=XGBClassifier(random_state=69)\n",
    "    )\n",
    "\n",
    "def obj_stacking(trial):\n",
    "    model = opt_stacking(trial)\n",
    "    model.fit(X_train, y_train)\n",
    "    y_pred = model.predict(X_test)\n",
    "    recall = recall_score(y_test, y_pred)\n",
    "    return recall"
   ],
   "outputs": [],
   "execution_count": 28
  },
  {
   "cell_type": "markdown",
   "id": "0cf4ce38",
   "metadata": {},
   "source": [
    "## KNN (K-Nearest Neighbors)"
   ]
  },
  {
   "cell_type": "code",
   "id": "74a3132a",
   "metadata": {
    "ExecuteTime": {
     "end_time": "2025-06-19T10:22:06.977182Z",
     "start_time": "2025-06-19T10:22:06.969190Z"
    }
   },
   "source": [
    "def opt_knn(trial):\n",
    "    n_neighbors = trial.suggest_int('n_neighbors', 1, 20)\n",
    "    weights = trial.suggest_categorical('weights', ['uniform', 'distance'])\n",
    "    algorithm = trial.suggest_categorical('algorithm', ['auto', 'ball_tree', 'kd_tree', 'brute'])\n",
    "    leaf_size = trial.suggest_int('leaf_size', 10, 50)\n",
    "    p = trial.suggest_int('p', 1, 2)\n",
    "\n",
    "    return make_pipeline(\n",
    "        StandardScaler(),  # très important pour KNN\n",
    "        KNeighborsClassifier(\n",
    "            n_neighbors=n_neighbors,\n",
    "            weights=weights,\n",
    "            algorithm=algorithm,\n",
    "            leaf_size=leaf_size,\n",
    "            p=p\n",
    "        )\n",
    "    )\n",
    "\n",
    "def obj_knn(trial):\n",
    "    model = opt_knn(trial)\n",
    "    model.fit(X_train, y_train)\n",
    "    y_pred = model.predict(X_test)\n",
    "    recall = recall_score(y_test, y_pred)\n",
    "    return recall"
   ],
   "outputs": [],
   "execution_count": 29
  },
  {
   "cell_type": "markdown",
   "id": "00c2421e",
   "metadata": {},
   "source": [
    "## Classification de Bayes"
   ]
  },
  {
   "cell_type": "code",
   "id": "9f73f64d",
   "metadata": {
    "ExecuteTime": {
     "end_time": "2025-06-19T10:22:14.600964Z",
     "start_time": "2025-06-19T10:22:14.591793Z"
    }
   },
   "source": [
    "from sklearn.naive_bayes import GaussianNB\n",
    "\n",
    "def opt_bayes(trial):\n",
    "    var_smoothing = trial.suggest_float('var_smoothing', 1e-11, 1e-6, log=True)\n",
    "    return GaussianNB(var_smoothing=var_smoothing)\n",
    "\n",
    "def obj_bayes(trial):\n",
    "    model = opt_bayes(trial)\n",
    "    model.fit(X_train, y_train)\n",
    "    y_pred = model.predict(X_test)\n",
    "    recall = recall_score(y_test, y_pred)\n",
    "    return recall"
   ],
   "outputs": [],
   "execution_count": 30
  },
  {
   "metadata": {},
   "cell_type": "markdown",
   "source": "### Machine à vecteurs de support (SVM)",
   "id": "cf88ab8030b908d5"
  },
  {
   "metadata": {
    "ExecuteTime": {
     "end_time": "2025-06-19T10:22:39.385028Z",
     "start_time": "2025-06-19T10:22:39.377208Z"
    }
   },
   "cell_type": "code",
   "source": [
    "from sklearn.svm import SVC\n",
    "from sklearn.ensemble import BaggingClassifier\n",
    "\n",
    "def opt_svm(trial):\n",
    "    C = trial.suggest_float('C', 0.01, 10.0, log=True)\n",
    "    kernel = trial.suggest_categorical('kernel', ['linear', 'poly', 'rbf', 'sigmoid'])\n",
    "    gamma = trial.suggest_categorical('gamma', ['scale', 'auto'])\n",
    "    degree = trial.suggest_int('degree', 2, 5) if kernel == 'poly' else 3  # Seulement pour le kernel poly\n",
    "    class_weight = trial.suggest_categorical('class_weight', [None, 'balanced'])\n",
    "    n_estimators = trial.suggest_int('n_estimators', 10, 200)\n",
    "    # On wrap autour du BaggingClassifier pour accelerer l'entrainement et améliorer le modèle\n",
    "    return BaggingClassifier(SVC(\n",
    "        C=C,\n",
    "        kernel=kernel,\n",
    "        gamma=gamma,\n",
    "        degree=degree,\n",
    "        class_weight=class_weight,\n",
    "        probability=True  # Active les estimations en probabilités pour le courbe ROC\n",
    "    ), n_estimators=n_estimators, max_samples=1.0 / n_estimators)\n",
    "\n",
    "def obj_svm(trial):\n",
    "    model = opt_svm(trial)\n",
    "    model.fit(X_train, y_train)\n",
    "    y_pred = model.predict(X_test)\n",
    "    recall = recall_score(y_test, y_pred)\n",
    "    return recall"
   ],
   "id": "8fae5209b6991e92",
   "outputs": [],
   "execution_count": 32
  },
  {
   "metadata": {},
   "cell_type": "markdown",
   "source": "### KMeans",
   "id": "25fdca3fde8b9233"
  },
  {
   "metadata": {
    "ExecuteTime": {
     "end_time": "2025-06-19T10:22:39.468958Z",
     "start_time": "2025-06-19T10:22:39.423870Z"
    }
   },
   "cell_type": "code",
   "source": [
    "from sklearn.cluster import KMeans\n",
    "\n",
    "def opt_kmeans(trial):\n",
    "    # n_clusters = trial.suggest_int('n_clusters', 2, 20)\n",
    "    init = trial.suggest_categorical('init', ['k-means++', 'random'])\n",
    "    n_init = trial.suggest_int('n_init', 10, 50)\n",
    "    max_iter = trial.suggest_int('max_iter', 100, 500)\n",
    "    tol = trial.suggest_float('tol', 1e-6, 1e-2, log=True)\n",
    "    return KMeans(\n",
    "        n_clusters=2,\n",
    "        init=init,\n",
    "        n_init=n_init,\n",
    "        max_iter=max_iter,\n",
    "        tol=tol,\n",
    "    )\n",
    "\n",
    "def obj_kmeans(trial):\n",
    "    model = opt_kmeans(trial)\n",
    "    model.fit(X_train, y_train)\n",
    "    y_pred = model.predict(X_test)\n",
    "    recall = recall_score(y_test, y_pred)\n",
    "    return recall"
   ],
   "id": "3980b0519be870e0",
   "outputs": [],
   "execution_count": 33
  },
  {
   "metadata": {},
   "cell_type": "markdown",
   "source": "### HDBSCAN",
   "id": "d53be07d75f5139a"
  },
  {
   "metadata": {
    "ExecuteTime": {
     "end_time": "2025-06-19T10:22:48.187939Z",
     "start_time": "2025-06-19T10:22:48.182166Z"
    }
   },
   "cell_type": "code",
   "source": [
    "from sklearn.cluster import HDBSCAN\n",
    "\n",
    "def opt_hdbscan(trial):\n",
    "    min_cluster_size = trial.suggest_int('min_cluster_size', 2, 50)\n",
    "    min_samples = trial.suggest_int('min_samples', 1, 10)\n",
    "    cluster_selection_epsilon = trial.suggest_float('cluster_selection_epsilon', 0.0, 0.5)\n",
    "    return HDBSCAN(\n",
    "        min_cluster_size=min_cluster_size,\n",
    "        min_samples=min_samples,\n",
    "        cluster_selection_epsilon=cluster_selection_epsilon\n",
    "    )"
   ],
   "id": "90977433ab2c6b38",
   "outputs": [],
   "execution_count": 34
  },
  {
   "cell_type": "markdown",
   "id": "f90251a4bf92921",
   "metadata": {},
   "source": [
    "## Optimisation des hyperparamètres pour differents classifieurs avec `optuna`\n",
    "\n",
    "On optimise les differents hyperparamètres pour chaque classifieur et on stocke le meilleur modele de chaque classifieur dans un dictionnaire pour les évaluer et comparer ensuite."
   ]
  },
  {
   "metadata": {
    "ExecuteTime": {
     "end_time": "2025-06-19T10:27:35.336187Z",
     "start_time": "2025-06-19T10:23:03.691923Z"
    }
   },
   "cell_type": "code",
   "source": [
    "best_models = {}\n",
    "\n",
    "def get_best_model_for_classifier(name, opt_obj, opt_func):\n",
    "    study = optuna.create_study(direction='maximize', study_name=f\"{name} - Adult Income Prediction\")\n",
    "    study.optimize(opt_obj, n_trials=150, timeout=900)\n",
    "    print(f\"{name} Best hyperparameters: \", study.best_params)\n",
    "    return opt_func(FixedTrial(study.best_params))\n",
    "\n",
    "# DecisionTree\n",
    "best_models[\"DecisionTree\"] = get_best_model_for_classifier(\"DecisionTree\", obj_decision_tree, opt_decision_tree)\n",
    "# RandomForest\n",
    "# best_models[\"RandomForest\"] = get_best_model_for_classifier(\"RandomForest\", obj_random_forest, opt_random_forest())\n",
    "# LogisticRegression\n",
    "# best_models[\"LogisticRegression\"] = get_best_model_for_classifier(\"LogisticRegression\", obj_logistic_regression(), opt_logistic_regression)\n",
    "# AdaBoosting\n",
    "# best_models[\"AdaBoosting\"] = get_best_model_for_classifier(\"AdaBoosting\", obj_adaboost, opt_adaboost)\n",
    "# XGBoosting\n",
    "best_models[\"XGBoosting\"] = get_best_model_for_classifier(\"XGBoosting\", obj_xgb, opt_xgb)\n",
    "# Stacking\n",
    "# best_models[\"Stacking\"] = get_best_model_for_classifier(\"Stacking\", obj_stacking, opt_stacking)\n",
    "# KNN\n",
    "# best_models[\"KNN\"] = get_best_model_for_classifier(\"KNN\", obj_knn, opt_knn)\n",
    "# NaiveBayes\n",
    "best_models[\"NaiveBayes\"] = get_best_model_for_classifier(\"NaiveBayes\", obj_bayes, opt_bayes)\n",
    "# SVM\n",
    "# best_models[\"SVM\"] = get_best_model_for_classifier(\"SVM\", obj_svm, opt_svm)\n",
    "# KMean\n",
    "# best_models[\"KMeans\"] = get_best_model_for_classifier(\"KMeans\", obj_kmeans, opt_kmeans)\n",
    "# HDBSCAN - Ne marche pas pour nous\n",
    "# best_models[\"HDBSCAN\"] = get_best_model_for_classifier(\"HDBSCAN\", opt_hdbscan)\n"
   ],
   "id": "47798d934fb9f931",
   "outputs": [
    {
     "name": "stderr",
     "output_type": "stream",
     "text": [
      "[I 2025-06-19 12:23:03,698] A new study created in memory with name: DecisionTree - Adult Income Prediction\n",
      "[I 2025-06-19 12:23:03,780] Trial 0 finished with value: 0.5551222048881955 and parameters: {'max_depth': 15, 'min_samples_split': 9, 'min_samples_leaf': 3, 'max_features': 'log2', 'criterion': 'gini'}. Best is trial 0 with value: 0.5551222048881955.\n",
      "[I 2025-06-19 12:23:03,885] Trial 1 finished with value: 0.5439417576703068 and parameters: {'max_depth': 21, 'min_samples_split': 5, 'min_samples_leaf': 4, 'max_features': 'sqrt', 'criterion': 'entropy'}. Best is trial 0 with value: 0.5551222048881955.\n",
      "[I 2025-06-19 12:23:03,967] Trial 2 finished with value: 0.5408216328653146 and parameters: {'max_depth': 27, 'min_samples_split': 4, 'min_samples_leaf': 3, 'max_features': 'log2', 'criterion': 'gini'}. Best is trial 0 with value: 0.5551222048881955.\n",
      "[I 2025-06-19 12:23:04,047] Trial 3 finished with value: 0.5262610504420177 and parameters: {'max_depth': 21, 'min_samples_split': 10, 'min_samples_leaf': 3, 'max_features': 'log2', 'criterion': 'entropy'}. Best is trial 0 with value: 0.5551222048881955.\n",
      "[I 2025-06-19 12:23:04,124] Trial 4 finished with value: 0.5733229329173167 and parameters: {'max_depth': 15, 'min_samples_split': 2, 'min_samples_leaf': 4, 'max_features': 'log2', 'criterion': 'gini'}. Best is trial 4 with value: 0.5733229329173167.\n",
      "[I 2025-06-19 12:23:04,206] Trial 5 finished with value: 0.5431617264690588 and parameters: {'max_depth': 25, 'min_samples_split': 5, 'min_samples_leaf': 2, 'max_features': 'log2', 'criterion': 'entropy'}. Best is trial 4 with value: 0.5733229329173167.\n",
      "[I 2025-06-19 12:23:04,294] Trial 6 finished with value: 0.5327613104524181 and parameters: {'max_depth': 28, 'min_samples_split': 5, 'min_samples_leaf': 3, 'max_features': 'log2', 'criterion': 'gini'}. Best is trial 4 with value: 0.5733229329173167.\n",
      "[I 2025-06-19 12:23:04,370] Trial 7 finished with value: 0.5663026521060842 and parameters: {'max_depth': 19, 'min_samples_split': 8, 'min_samples_leaf': 4, 'max_features': 'log2', 'criterion': 'gini'}. Best is trial 4 with value: 0.5733229329173167.\n",
      "[I 2025-06-19 12:23:04,453] Trial 8 finished with value: 0.499739989599584 and parameters: {'max_depth': 21, 'min_samples_split': 7, 'min_samples_leaf': 3, 'max_features': 'log2', 'criterion': 'gini'}. Best is trial 4 with value: 0.5733229329173167.\n",
      "[I 2025-06-19 12:23:04,540] Trial 9 finished with value: 0.5429017160686428 and parameters: {'max_depth': 25, 'min_samples_split': 8, 'min_samples_leaf': 4, 'max_features': 'log2', 'criterion': 'gini'}. Best is trial 4 with value: 0.5733229329173167.\n",
      "[I 2025-06-19 12:23:04,630] Trial 10 finished with value: 0.2423296931877275 and parameters: {'max_depth': 5, 'min_samples_split': 2, 'min_samples_leaf': 1, 'max_features': 'sqrt', 'criterion': 'entropy'}. Best is trial 4 with value: 0.5733229329173167.\n",
      "[I 2025-06-19 12:23:04,733] Trial 11 finished with value: 0.43187727509100365 and parameters: {'max_depth': 12, 'min_samples_split': 2, 'min_samples_leaf': 4, 'max_features': 'sqrt', 'criterion': 'gini'}. Best is trial 4 with value: 0.5733229329173167.\n",
      "[I 2025-06-19 12:23:04,833] Trial 12 finished with value: 0.6289651586063443 and parameters: {'max_depth': 9, 'min_samples_split': 7, 'min_samples_leaf': 4, 'max_features': 'log2', 'criterion': 'gini'}. Best is trial 12 with value: 0.6289651586063443.\n",
      "[I 2025-06-19 12:23:04,922] Trial 13 finished with value: 0.4344773790951638 and parameters: {'max_depth': 8, 'min_samples_split': 3, 'min_samples_leaf': 2, 'max_features': 'log2', 'criterion': 'gini'}. Best is trial 12 with value: 0.6289651586063443.\n",
      "[I 2025-06-19 12:23:04,985] Trial 14 finished with value: 0.0 and parameters: {'max_depth': 2, 'min_samples_split': 7, 'min_samples_leaf': 4, 'max_features': 'sqrt', 'criterion': 'gini'}. Best is trial 12 with value: 0.6289651586063443.\n",
      "[I 2025-06-19 12:23:05,081] Trial 15 finished with value: 0.43863754550182005 and parameters: {'max_depth': 11, 'min_samples_split': 6, 'min_samples_leaf': 4, 'max_features': 'log2', 'criterion': 'gini'}. Best is trial 12 with value: 0.6289651586063443.\n",
      "[I 2025-06-19 12:23:05,184] Trial 16 finished with value: 0.4789391575663027 and parameters: {'max_depth': 15, 'min_samples_split': 3, 'min_samples_leaf': 1, 'max_features': 'log2', 'criterion': 'gini'}. Best is trial 12 with value: 0.6289651586063443.\n",
      "[I 2025-06-19 12:23:05,266] Trial 17 finished with value: 0.4737389495579823 and parameters: {'max_depth': 10, 'min_samples_split': 6, 'min_samples_leaf': 2, 'max_features': 'log2', 'criterion': 'gini'}. Best is trial 12 with value: 0.6289651586063443.\n",
      "[I 2025-06-19 12:23:05,362] Trial 18 finished with value: 0.5187207488299532 and parameters: {'max_depth': 7, 'min_samples_split': 10, 'min_samples_leaf': 4, 'max_features': 'sqrt', 'criterion': 'entropy'}. Best is trial 12 with value: 0.6289651586063443.\n",
      "[I 2025-06-19 12:23:05,466] Trial 19 finished with value: 0.5187207488299532 and parameters: {'max_depth': 15, 'min_samples_split': 7, 'min_samples_leaf': 3, 'max_features': 'log2', 'criterion': 'gini'}. Best is trial 12 with value: 0.6289651586063443.\n",
      "[I 2025-06-19 12:23:05,575] Trial 20 finished with value: 0.4836193447737909 and parameters: {'max_depth': 31, 'min_samples_split': 4, 'min_samples_leaf': 4, 'max_features': 'log2', 'criterion': 'gini'}. Best is trial 12 with value: 0.6289651586063443.\n",
      "[I 2025-06-19 12:23:05,684] Trial 21 finished with value: 0.5670826833073322 and parameters: {'max_depth': 19, 'min_samples_split': 8, 'min_samples_leaf': 4, 'max_features': 'log2', 'criterion': 'gini'}. Best is trial 12 with value: 0.6289651586063443.\n",
      "[I 2025-06-19 12:23:05,783] Trial 22 finished with value: 0.42771710868434737 and parameters: {'max_depth': 18, 'min_samples_split': 8, 'min_samples_leaf': 4, 'max_features': 'log2', 'criterion': 'gini'}. Best is trial 12 with value: 0.6289651586063443.\n",
      "[I 2025-06-19 12:23:05,879] Trial 23 finished with value: 0.38533541341653665 and parameters: {'max_depth': 13, 'min_samples_split': 9, 'min_samples_leaf': 4, 'max_features': 'log2', 'criterion': 'gini'}. Best is trial 12 with value: 0.6289651586063443.\n",
      "[I 2025-06-19 12:23:05,977] Trial 24 finished with value: 0.5239209568382736 and parameters: {'max_depth': 17, 'min_samples_split': 6, 'min_samples_leaf': 3, 'max_features': 'log2', 'criterion': 'gini'}. Best is trial 12 with value: 0.6289651586063443.\n",
      "[I 2025-06-19 12:23:06,069] Trial 25 finished with value: 0.14144565782631305 and parameters: {'max_depth': 8, 'min_samples_split': 9, 'min_samples_leaf': 4, 'max_features': 'log2', 'criterion': 'gini'}. Best is trial 12 with value: 0.6289651586063443.\n",
      "[I 2025-06-19 12:23:06,151] Trial 26 finished with value: 0.16796671866874674 and parameters: {'max_depth': 4, 'min_samples_split': 7, 'min_samples_leaf': 3, 'max_features': 'sqrt', 'criterion': 'entropy'}. Best is trial 12 with value: 0.6289651586063443.\n",
      "[I 2025-06-19 12:23:06,255] Trial 27 finished with value: 0.35543421736869474 and parameters: {'max_depth': 13, 'min_samples_split': 8, 'min_samples_leaf': 4, 'max_features': 'log2', 'criterion': 'gini'}. Best is trial 12 with value: 0.6289651586063443.\n",
      "[I 2025-06-19 12:23:06,376] Trial 28 finished with value: 0.4963598543941758 and parameters: {'max_depth': 23, 'min_samples_split': 4, 'min_samples_leaf': 2, 'max_features': 'log2', 'criterion': 'gini'}. Best is trial 12 with value: 0.6289651586063443.\n",
      "[I 2025-06-19 12:23:06,479] Trial 29 finished with value: 0.4953198127925117 and parameters: {'max_depth': 16, 'min_samples_split': 9, 'min_samples_leaf': 3, 'max_features': 'log2', 'criterion': 'gini'}. Best is trial 12 with value: 0.6289651586063443.\n",
      "[I 2025-06-19 12:23:06,576] Trial 30 finished with value: 0.6682267290691628 and parameters: {'max_depth': 10, 'min_samples_split': 7, 'min_samples_leaf': 4, 'max_features': 'log2', 'criterion': 'gini'}. Best is trial 30 with value: 0.6682267290691628.\n",
      "[I 2025-06-19 12:23:06,667] Trial 31 finished with value: 0.41835673426937076 and parameters: {'max_depth': 10, 'min_samples_split': 7, 'min_samples_leaf': 4, 'max_features': 'log2', 'criterion': 'gini'}. Best is trial 30 with value: 0.6682267290691628.\n",
      "[I 2025-06-19 12:23:06,771] Trial 32 finished with value: 0.46931877275091005 and parameters: {'max_depth': 14, 'min_samples_split': 8, 'min_samples_leaf': 4, 'max_features': 'log2', 'criterion': 'gini'}. Best is trial 30 with value: 0.6682267290691628.\n",
      "[I 2025-06-19 12:23:06,875] Trial 33 finished with value: 0.5819032761310452 and parameters: {'max_depth': 19, 'min_samples_split': 6, 'min_samples_leaf': 4, 'max_features': 'log2', 'criterion': 'gini'}. Best is trial 30 with value: 0.6682267290691628.\n",
      "[I 2025-06-19 12:23:06,965] Trial 34 finished with value: 0.38195527821112846 and parameters: {'max_depth': 6, 'min_samples_split': 5, 'min_samples_leaf': 4, 'max_features': 'log2', 'criterion': 'entropy'}. Best is trial 30 with value: 0.6682267290691628.\n",
      "[I 2025-06-19 12:23:07,061] Trial 35 finished with value: 0.3088923556942278 and parameters: {'max_depth': 9, 'min_samples_split': 3, 'min_samples_leaf': 4, 'max_features': 'log2', 'criterion': 'gini'}. Best is trial 30 with value: 0.6682267290691628.\n",
      "[I 2025-06-19 12:23:07,183] Trial 36 finished with value: 0.5065002600104004 and parameters: {'max_depth': 12, 'min_samples_split': 5, 'min_samples_leaf': 3, 'max_features': 'sqrt', 'criterion': 'gini'}. Best is trial 30 with value: 0.6682267290691628.\n",
      "[I 2025-06-19 12:23:07,293] Trial 37 finished with value: 0.5600624024960998 and parameters: {'max_depth': 23, 'min_samples_split': 6, 'min_samples_leaf': 3, 'max_features': 'log2', 'criterion': 'entropy'}. Best is trial 30 with value: 0.6682267290691628.\n",
      "[I 2025-06-19 12:23:07,393] Trial 38 finished with value: 0.5816432657306292 and parameters: {'max_depth': 17, 'min_samples_split': 5, 'min_samples_leaf': 4, 'max_features': 'log2', 'criterion': 'gini'}. Best is trial 30 with value: 0.6682267290691628.\n",
      "[I 2025-06-19 12:23:07,526] Trial 39 finished with value: 0.5371814872594903 and parameters: {'max_depth': 20, 'min_samples_split': 6, 'min_samples_leaf': 3, 'max_features': 'log2', 'criterion': 'gini'}. Best is trial 30 with value: 0.6682267290691628.\n",
      "[I 2025-06-19 12:23:07,589] Trial 40 finished with value: 0.0 and parameters: {'max_depth': 2, 'min_samples_split': 4, 'min_samples_leaf': 4, 'max_features': 'log2', 'criterion': 'gini'}. Best is trial 30 with value: 0.6682267290691628.\n",
      "[I 2025-06-19 12:23:07,689] Trial 41 finished with value: 0.5301612064482579 and parameters: {'max_depth': 17, 'min_samples_split': 5, 'min_samples_leaf': 4, 'max_features': 'log2', 'criterion': 'gini'}. Best is trial 30 with value: 0.6682267290691628.\n",
      "[I 2025-06-19 12:23:07,805] Trial 42 finished with value: 0.5647425897035881 and parameters: {'max_depth': 23, 'min_samples_split': 7, 'min_samples_leaf': 4, 'max_features': 'log2', 'criterion': 'gini'}. Best is trial 30 with value: 0.6682267290691628.\n",
      "[I 2025-06-19 12:23:07,909] Trial 43 finished with value: 0.5972438897555902 and parameters: {'max_depth': 16, 'min_samples_split': 6, 'min_samples_leaf': 4, 'max_features': 'log2', 'criterion': 'gini'}. Best is trial 30 with value: 0.6682267290691628.\n",
      "[I 2025-06-19 12:23:08,017] Trial 44 finished with value: 0.4630785231409256 and parameters: {'max_depth': 21, 'min_samples_split': 6, 'min_samples_leaf': 4, 'max_features': 'log2', 'criterion': 'gini'}. Best is trial 30 with value: 0.6682267290691628.\n",
      "[I 2025-06-19 12:23:08,121] Trial 45 finished with value: 0.5288611544461779 and parameters: {'max_depth': 18, 'min_samples_split': 7, 'min_samples_leaf': 4, 'max_features': 'log2', 'criterion': 'gini'}. Best is trial 30 with value: 0.6682267290691628.\n",
      "[I 2025-06-19 12:23:08,235] Trial 46 finished with value: 0.5520020800832033 and parameters: {'max_depth': 16, 'min_samples_split': 5, 'min_samples_leaf': 4, 'max_features': 'sqrt', 'criterion': 'entropy'}. Best is trial 30 with value: 0.6682267290691628.\n",
      "[I 2025-06-19 12:23:08,341] Trial 47 finished with value: 0.47399895995839836 and parameters: {'max_depth': 25, 'min_samples_split': 6, 'min_samples_leaf': 3, 'max_features': 'log2', 'criterion': 'gini'}. Best is trial 30 with value: 0.6682267290691628.\n",
      "[I 2025-06-19 12:23:08,418] Trial 48 finished with value: 0.0 and parameters: {'max_depth': 4, 'min_samples_split': 6, 'min_samples_leaf': 4, 'max_features': 'log2', 'criterion': 'gini'}. Best is trial 30 with value: 0.6682267290691628.\n",
      "[I 2025-06-19 12:23:08,514] Trial 49 finished with value: 0.5535621424856995 and parameters: {'max_depth': 12, 'min_samples_split': 5, 'min_samples_leaf': 1, 'max_features': 'log2', 'criterion': 'gini'}. Best is trial 30 with value: 0.6682267290691628.\n",
      "[I 2025-06-19 12:23:08,646] Trial 50 finished with value: 0.5517420696827873 and parameters: {'max_depth': 27, 'min_samples_split': 7, 'min_samples_leaf': 4, 'max_features': 'sqrt', 'criterion': 'gini'}. Best is trial 30 with value: 0.6682267290691628.\n",
      "[I 2025-06-19 12:23:08,748] Trial 51 finished with value: 0.33047321892875714 and parameters: {'max_depth': 14, 'min_samples_split': 2, 'min_samples_leaf': 4, 'max_features': 'log2', 'criterion': 'gini'}. Best is trial 30 with value: 0.6682267290691628.\n",
      "[I 2025-06-19 12:23:08,858] Trial 52 finished with value: 0.4576183047321893 and parameters: {'max_depth': 19, 'min_samples_split': 7, 'min_samples_leaf': 4, 'max_features': 'log2', 'criterion': 'gini'}. Best is trial 30 with value: 0.6682267290691628.\n",
      "[I 2025-06-19 12:23:08,953] Trial 53 finished with value: 0.41835673426937076 and parameters: {'max_depth': 11, 'min_samples_split': 2, 'min_samples_leaf': 4, 'max_features': 'log2', 'criterion': 'gini'}. Best is trial 30 with value: 0.6682267290691628.\n",
      "[I 2025-06-19 12:23:09,056] Trial 54 finished with value: 0.500260010400416 and parameters: {'max_depth': 16, 'min_samples_split': 5, 'min_samples_leaf': 4, 'max_features': 'log2', 'criterion': 'gini'}. Best is trial 30 with value: 0.6682267290691628.\n",
      "[I 2025-06-19 12:23:09,144] Trial 55 finished with value: 0.4409776391055642 and parameters: {'max_depth': 9, 'min_samples_split': 3, 'min_samples_leaf': 4, 'max_features': 'log2', 'criterion': 'gini'}. Best is trial 30 with value: 0.6682267290691628.\n",
      "[I 2025-06-19 12:23:09,265] Trial 56 finished with value: 0.5361414456578263 and parameters: {'max_depth': 21, 'min_samples_split': 4, 'min_samples_leaf': 4, 'max_features': 'log2', 'criterion': 'entropy'}. Best is trial 30 with value: 0.6682267290691628.\n",
      "[I 2025-06-19 12:23:09,372] Trial 57 finished with value: 0.3234529381175247 and parameters: {'max_depth': 14, 'min_samples_split': 6, 'min_samples_leaf': 4, 'max_features': 'log2', 'criterion': 'gini'}. Best is trial 30 with value: 0.6682267290691628.\n",
      "[I 2025-06-19 12:23:09,481] Trial 58 finished with value: 0.5637025481019241 and parameters: {'max_depth': 19, 'min_samples_split': 7, 'min_samples_leaf': 4, 'max_features': 'log2', 'criterion': 'gini'}. Best is trial 30 with value: 0.6682267290691628.\n",
      "[I 2025-06-19 12:23:09,582] Trial 59 finished with value: 0.44747789911596464 and parameters: {'max_depth': 15, 'min_samples_split': 8, 'min_samples_leaf': 3, 'max_features': 'log2', 'criterion': 'gini'}. Best is trial 30 with value: 0.6682267290691628.\n",
      "[I 2025-06-19 12:23:09,675] Trial 60 finished with value: 0.4279771190847634 and parameters: {'max_depth': 7, 'min_samples_split': 8, 'min_samples_leaf': 4, 'max_features': 'sqrt', 'criterion': 'gini'}. Best is trial 30 with value: 0.6682267290691628.\n",
      "[I 2025-06-19 12:23:09,787] Trial 61 finished with value: 0.5535621424856995 and parameters: {'max_depth': 18, 'min_samples_split': 8, 'min_samples_leaf': 4, 'max_features': 'log2', 'criterion': 'gini'}. Best is trial 30 with value: 0.6682267290691628.\n",
      "[I 2025-06-19 12:23:09,888] Trial 62 finished with value: 0.4448777951118045 and parameters: {'max_depth': 20, 'min_samples_split': 10, 'min_samples_leaf': 4, 'max_features': 'log2', 'criterion': 'gini'}. Best is trial 30 with value: 0.6682267290691628.\n",
      "[I 2025-06-19 12:23:09,991] Trial 63 finished with value: 0.4095163806552262 and parameters: {'max_depth': 17, 'min_samples_split': 8, 'min_samples_leaf': 4, 'max_features': 'log2', 'criterion': 'gini'}. Best is trial 30 with value: 0.6682267290691628.\n",
      "[I 2025-06-19 12:23:10,099] Trial 64 finished with value: 0.499739989599584 and parameters: {'max_depth': 20, 'min_samples_split': 7, 'min_samples_leaf': 4, 'max_features': 'log2', 'criterion': 'gini'}. Best is trial 30 with value: 0.6682267290691628.\n",
      "[I 2025-06-19 12:23:10,223] Trial 65 finished with value: 0.5049401976079043 and parameters: {'max_depth': 22, 'min_samples_split': 9, 'min_samples_leaf': 2, 'max_features': 'log2', 'criterion': 'gini'}. Best is trial 30 with value: 0.6682267290691628.\n",
      "[I 2025-06-19 12:23:10,335] Trial 66 finished with value: 0.3468538741549662 and parameters: {'max_depth': 13, 'min_samples_split': 6, 'min_samples_leaf': 4, 'max_features': 'log2', 'criterion': 'gini'}. Best is trial 30 with value: 0.6682267290691628.\n",
      "[I 2025-06-19 12:23:10,467] Trial 67 finished with value: 0.45241809672386896 and parameters: {'max_depth': 11, 'min_samples_split': 9, 'min_samples_leaf': 1, 'max_features': 'log2', 'criterion': 'entropy'}. Best is trial 30 with value: 0.6682267290691628.\n",
      "[I 2025-06-19 12:23:10,583] Trial 68 finished with value: 0.5481019240769631 and parameters: {'max_depth': 19, 'min_samples_split': 7, 'min_samples_leaf': 4, 'max_features': 'log2', 'criterion': 'gini'}. Best is trial 30 with value: 0.6682267290691628.\n",
      "[I 2025-06-19 12:23:10,694] Trial 69 finished with value: 0.43187727509100365 and parameters: {'max_depth': 16, 'min_samples_split': 7, 'min_samples_leaf': 4, 'max_features': 'log2', 'criterion': 'gini'}. Best is trial 30 with value: 0.6682267290691628.\n",
      "[I 2025-06-19 12:23:10,803] Trial 70 finished with value: 0.4131565262610504 and parameters: {'max_depth': 15, 'min_samples_split': 6, 'min_samples_leaf': 3, 'max_features': 'log2', 'criterion': 'gini'}. Best is trial 30 with value: 0.6682267290691628.\n",
      "[I 2025-06-19 12:23:10,907] Trial 71 finished with value: 0.5520020800832033 and parameters: {'max_depth': 18, 'min_samples_split': 8, 'min_samples_leaf': 4, 'max_features': 'log2', 'criterion': 'gini'}. Best is trial 30 with value: 0.6682267290691628.\n",
      "[I 2025-06-19 12:23:11,016] Trial 72 finished with value: 0.5772230889235569 and parameters: {'max_depth': 19, 'min_samples_split': 8, 'min_samples_leaf': 4, 'max_features': 'log2', 'criterion': 'gini'}. Best is trial 30 with value: 0.6682267290691628.\n",
      "[I 2025-06-19 12:23:11,133] Trial 73 finished with value: 0.4963598543941758 and parameters: {'max_depth': 18, 'min_samples_split': 8, 'min_samples_leaf': 4, 'max_features': 'log2', 'criterion': 'gini'}. Best is trial 30 with value: 0.6682267290691628.\n",
      "[I 2025-06-19 12:23:11,242] Trial 74 finished with value: 0.4745189807592304 and parameters: {'max_depth': 20, 'min_samples_split': 7, 'min_samples_leaf': 4, 'max_features': 'log2', 'criterion': 'gini'}. Best is trial 30 with value: 0.6682267290691628.\n",
      "[I 2025-06-19 12:23:11,354] Trial 75 finished with value: 0.5327613104524181 and parameters: {'max_depth': 22, 'min_samples_split': 9, 'min_samples_leaf': 4, 'max_features': 'log2', 'criterion': 'gini'}. Best is trial 30 with value: 0.6682267290691628.\n",
      "[I 2025-06-19 12:23:11,473] Trial 76 finished with value: 0.48205928237129486 and parameters: {'max_depth': 9, 'min_samples_split': 9, 'min_samples_leaf': 4, 'max_features': 'sqrt', 'criterion': 'gini'}. Best is trial 30 with value: 0.6682267290691628.\n",
      "[I 2025-06-19 12:23:11,581] Trial 77 finished with value: 0.5400416016640666 and parameters: {'max_depth': 17, 'min_samples_split': 6, 'min_samples_leaf': 4, 'max_features': 'log2', 'criterion': 'gini'}. Best is trial 30 with value: 0.6682267290691628.\n",
      "[I 2025-06-19 12:23:11,696] Trial 78 finished with value: 0.5642225689027561 and parameters: {'max_depth': 24, 'min_samples_split': 8, 'min_samples_leaf': 4, 'max_features': 'log2', 'criterion': 'entropy'}. Best is trial 30 with value: 0.6682267290691628.\n",
      "[I 2025-06-19 12:23:11,800] Trial 79 finished with value: 0.30239209568382736 and parameters: {'max_depth': 14, 'min_samples_split': 7, 'min_samples_leaf': 4, 'max_features': 'log2', 'criterion': 'gini'}. Best is trial 30 with value: 0.6682267290691628.\n",
      "[I 2025-06-19 12:23:11,914] Trial 80 finished with value: 0.42875715028601147 and parameters: {'max_depth': 32, 'min_samples_split': 5, 'min_samples_leaf': 4, 'max_features': 'log2', 'criterion': 'gini'}. Best is trial 30 with value: 0.6682267290691628.\n",
      "[I 2025-06-19 12:23:12,019] Trial 81 finished with value: 0.5452418096723869 and parameters: {'max_depth': 19, 'min_samples_split': 8, 'min_samples_leaf': 4, 'max_features': 'log2', 'criterion': 'gini'}. Best is trial 30 with value: 0.6682267290691628.\n",
      "[I 2025-06-19 12:23:12,125] Trial 82 finished with value: 0.5462818512740509 and parameters: {'max_depth': 17, 'min_samples_split': 8, 'min_samples_leaf': 4, 'max_features': 'log2', 'criterion': 'gini'}. Best is trial 30 with value: 0.6682267290691628.\n",
      "[I 2025-06-19 12:23:12,247] Trial 83 finished with value: 0.5533021320852834 and parameters: {'max_depth': 22, 'min_samples_split': 7, 'min_samples_leaf': 4, 'max_features': 'log2', 'criterion': 'gini'}. Best is trial 30 with value: 0.6682267290691628.\n",
      "[I 2025-06-19 12:23:12,346] Trial 84 finished with value: 0.5249609984399376 and parameters: {'max_depth': 16, 'min_samples_split': 4, 'min_samples_leaf': 4, 'max_features': 'log2', 'criterion': 'gini'}. Best is trial 30 with value: 0.6682267290691628.\n",
      "[I 2025-06-19 12:23:12,454] Trial 85 finished with value: 0.5850234009360374 and parameters: {'max_depth': 19, 'min_samples_split': 6, 'min_samples_leaf': 4, 'max_features': 'log2', 'criterion': 'gini'}. Best is trial 30 with value: 0.6682267290691628.\n",
      "[I 2025-06-19 12:23:12,541] Trial 86 finished with value: 0.452938117524701 and parameters: {'max_depth': 7, 'min_samples_split': 6, 'min_samples_leaf': 4, 'max_features': 'log2', 'criterion': 'gini'}. Best is trial 30 with value: 0.6682267290691628.\n",
      "[I 2025-06-19 12:23:12,634] Trial 87 finished with value: 0.41887675507020283 and parameters: {'max_depth': 10, 'min_samples_split': 6, 'min_samples_leaf': 4, 'max_features': 'log2', 'criterion': 'gini'}. Best is trial 30 with value: 0.6682267290691628.\n",
      "[I 2025-06-19 12:23:12,755] Trial 88 finished with value: 0.5449817992719709 and parameters: {'max_depth': 18, 'min_samples_split': 6, 'min_samples_leaf': 4, 'max_features': 'sqrt', 'criterion': 'gini'}. Best is trial 30 with value: 0.6682267290691628.\n",
      "[I 2025-06-19 12:23:12,900] Trial 89 finished with value: 0.5569422776911076 and parameters: {'max_depth': 19, 'min_samples_split': 4, 'min_samples_leaf': 3, 'max_features': 'log2', 'criterion': 'gini'}. Best is trial 30 with value: 0.6682267290691628.\n",
      "[I 2025-06-19 12:23:13,018] Trial 90 finished with value: 0.5226209048361935 and parameters: {'max_depth': 20, 'min_samples_split': 5, 'min_samples_leaf': 2, 'max_features': 'log2', 'criterion': 'gini'}. Best is trial 30 with value: 0.6682267290691628.\n",
      "[I 2025-06-19 12:23:13,127] Trial 91 finished with value: 0.4578783151326053 and parameters: {'max_depth': 19, 'min_samples_split': 8, 'min_samples_leaf': 4, 'max_features': 'log2', 'criterion': 'gini'}. Best is trial 30 with value: 0.6682267290691628.\n",
      "[I 2025-06-19 12:23:13,251] Trial 92 finished with value: 0.45527821112844513 and parameters: {'max_depth': 21, 'min_samples_split': 2, 'min_samples_leaf': 4, 'max_features': 'log2', 'criterion': 'gini'}. Best is trial 30 with value: 0.6682267290691628.\n",
      "[I 2025-06-19 12:23:13,347] Trial 93 finished with value: 0.359334373374935 and parameters: {'max_depth': 5, 'min_samples_split': 7, 'min_samples_leaf': 4, 'max_features': 'log2', 'criterion': 'gini'}. Best is trial 30 with value: 0.6682267290691628.\n",
      "[I 2025-06-19 12:23:13,457] Trial 94 finished with value: 0.5410816432657306 and parameters: {'max_depth': 17, 'min_samples_split': 5, 'min_samples_leaf': 4, 'max_features': 'log2', 'criterion': 'gini'}. Best is trial 30 with value: 0.6682267290691628.\n",
      "[I 2025-06-19 12:23:13,547] Trial 95 finished with value: 0.3075923036921477 and parameters: {'max_depth': 12, 'min_samples_split': 7, 'min_samples_leaf': 4, 'max_features': 'log2', 'criterion': 'entropy'}. Best is trial 30 with value: 0.6682267290691628.\n",
      "[I 2025-06-19 12:23:13,638] Trial 96 finished with value: 0.2839313572542902 and parameters: {'max_depth': 8, 'min_samples_split': 3, 'min_samples_leaf': 4, 'max_features': 'log2', 'criterion': 'gini'}. Best is trial 30 with value: 0.6682267290691628.\n",
      "[I 2025-06-19 12:23:13,738] Trial 97 finished with value: 0.5527821112844514 and parameters: {'max_depth': 15, 'min_samples_split': 6, 'min_samples_leaf': 4, 'max_features': 'log2', 'criterion': 'gini'}. Best is trial 30 with value: 0.6682267290691628.\n",
      "[I 2025-06-19 12:23:13,842] Trial 98 finished with value: 0.4791991679667187 and parameters: {'max_depth': 13, 'min_samples_split': 8, 'min_samples_leaf': 4, 'max_features': 'log2', 'criterion': 'gini'}. Best is trial 30 with value: 0.6682267290691628.\n",
      "[I 2025-06-19 12:23:13,985] Trial 99 finished with value: 0.5826833073322933 and parameters: {'max_depth': 16, 'min_samples_split': 7, 'min_samples_leaf': 4, 'max_features': 'sqrt', 'criterion': 'gini'}. Best is trial 30 with value: 0.6682267290691628.\n",
      "[I 2025-06-19 12:23:14,127] Trial 100 finished with value: 0.3712948517940718 and parameters: {'max_depth': 16, 'min_samples_split': 7, 'min_samples_leaf': 4, 'max_features': 'sqrt', 'criterion': 'gini'}. Best is trial 30 with value: 0.6682267290691628.\n",
      "[I 2025-06-19 12:23:14,256] Trial 101 finished with value: 0.5722828913156526 and parameters: {'max_depth': 18, 'min_samples_split': 7, 'min_samples_leaf': 4, 'max_features': 'sqrt', 'criterion': 'gini'}. Best is trial 30 with value: 0.6682267290691628.\n",
      "[I 2025-06-19 12:23:14,392] Trial 102 finished with value: 0.608164326573063 and parameters: {'max_depth': 18, 'min_samples_split': 7, 'min_samples_leaf': 4, 'max_features': 'sqrt', 'criterion': 'gini'}. Best is trial 30 with value: 0.6682267290691628.\n",
      "[I 2025-06-19 12:23:14,525] Trial 103 finished with value: 0.5262610504420177 and parameters: {'max_depth': 18, 'min_samples_split': 6, 'min_samples_leaf': 4, 'max_features': 'sqrt', 'criterion': 'gini'}. Best is trial 30 with value: 0.6682267290691628.\n",
      "[I 2025-06-19 12:23:14,650] Trial 104 finished with value: 0.5650026001040042 and parameters: {'max_depth': 15, 'min_samples_split': 7, 'min_samples_leaf': 4, 'max_features': 'sqrt', 'criterion': 'gini'}. Best is trial 30 with value: 0.6682267290691628.\n",
      "[I 2025-06-19 12:23:14,767] Trial 105 finished with value: 0.5522620904836193 and parameters: {'max_depth': 16, 'min_samples_split': 7, 'min_samples_leaf': 4, 'max_features': 'sqrt', 'criterion': 'gini'}. Best is trial 30 with value: 0.6682267290691628.\n",
      "[I 2025-06-19 12:23:14,893] Trial 106 finished with value: 0.5728029121164847 and parameters: {'max_depth': 17, 'min_samples_split': 6, 'min_samples_leaf': 4, 'max_features': 'sqrt', 'criterion': 'gini'}. Best is trial 30 with value: 0.6682267290691628.\n",
      "[I 2025-06-19 12:23:15,015] Trial 107 finished with value: 0.5291211648465939 and parameters: {'max_depth': 17, 'min_samples_split': 6, 'min_samples_leaf': 4, 'max_features': 'sqrt', 'criterion': 'gini'}. Best is trial 30 with value: 0.6682267290691628.\n",
      "[I 2025-06-19 12:23:15,146] Trial 108 finished with value: 0.5358814352574103 and parameters: {'max_depth': 14, 'min_samples_split': 6, 'min_samples_leaf': 4, 'max_features': 'sqrt', 'criterion': 'gini'}. Best is trial 30 with value: 0.6682267290691628.\n",
      "[I 2025-06-19 12:23:15,274] Trial 109 finished with value: 0.6266250650026001 and parameters: {'max_depth': 17, 'min_samples_split': 6, 'min_samples_leaf': 4, 'max_features': 'sqrt', 'criterion': 'gini'}. Best is trial 30 with value: 0.6682267290691628.\n",
      "[I 2025-06-19 12:23:15,409] Trial 110 finished with value: 0.608944357774311 and parameters: {'max_depth': 20, 'min_samples_split': 5, 'min_samples_leaf': 4, 'max_features': 'sqrt', 'criterion': 'entropy'}. Best is trial 30 with value: 0.6682267290691628.\n",
      "[I 2025-06-19 12:23:15,537] Trial 111 finished with value: 0.5642225689027561 and parameters: {'max_depth': 20, 'min_samples_split': 5, 'min_samples_leaf': 4, 'max_features': 'sqrt', 'criterion': 'entropy'}. Best is trial 30 with value: 0.6682267290691628.\n",
      "[I 2025-06-19 12:23:15,678] Trial 112 finished with value: 0.5577223088923557 and parameters: {'max_depth': 21, 'min_samples_split': 5, 'min_samples_leaf': 4, 'max_features': 'sqrt', 'criterion': 'entropy'}. Best is trial 30 with value: 0.6682267290691628.\n",
      "[I 2025-06-19 12:23:15,820] Trial 113 finished with value: 0.6749869994799792 and parameters: {'max_depth': 19, 'min_samples_split': 4, 'min_samples_leaf': 4, 'max_features': 'sqrt', 'criterion': 'entropy'}. Best is trial 113 with value: 0.6749869994799792.\n",
      "[I 2025-06-19 12:23:15,947] Trial 114 finished with value: 0.5579823192927718 and parameters: {'max_depth': 19, 'min_samples_split': 4, 'min_samples_leaf': 4, 'max_features': 'sqrt', 'criterion': 'entropy'}. Best is trial 113 with value: 0.6749869994799792.\n",
      "[I 2025-06-19 12:23:16,081] Trial 115 finished with value: 0.5426417056682268 and parameters: {'max_depth': 20, 'min_samples_split': 5, 'min_samples_leaf': 4, 'max_features': 'sqrt', 'criterion': 'entropy'}. Best is trial 113 with value: 0.6749869994799792.\n",
      "[I 2025-06-19 12:23:16,205] Trial 116 finished with value: 0.5423816952678107 and parameters: {'max_depth': 18, 'min_samples_split': 6, 'min_samples_leaf': 4, 'max_features': 'sqrt', 'criterion': 'entropy'}. Best is trial 113 with value: 0.6749869994799792.\n",
      "[I 2025-06-19 12:23:16,348] Trial 117 finished with value: 0.5798231929277171 and parameters: {'max_depth': 22, 'min_samples_split': 5, 'min_samples_leaf': 4, 'max_features': 'sqrt', 'criterion': 'entropy'}. Best is trial 113 with value: 0.6749869994799792.\n",
      "[I 2025-06-19 12:23:16,485] Trial 118 finished with value: 0.547061882475299 and parameters: {'max_depth': 24, 'min_samples_split': 5, 'min_samples_leaf': 4, 'max_features': 'sqrt', 'criterion': 'entropy'}. Best is trial 113 with value: 0.6749869994799792.\n",
      "[I 2025-06-19 12:23:16,631] Trial 119 finished with value: 0.5819032761310452 and parameters: {'max_depth': 29, 'min_samples_split': 4, 'min_samples_leaf': 4, 'max_features': 'sqrt', 'criterion': 'entropy'}. Best is trial 113 with value: 0.6749869994799792.\n",
      "[I 2025-06-19 12:23:16,760] Trial 120 finished with value: 0.6001040041601664 and parameters: {'max_depth': 30, 'min_samples_split': 4, 'min_samples_leaf': 4, 'max_features': 'sqrt', 'criterion': 'entropy'}. Best is trial 113 with value: 0.6749869994799792.\n",
      "[I 2025-06-19 12:23:16,898] Trial 121 finished with value: 0.5837233489339574 and parameters: {'max_depth': 29, 'min_samples_split': 4, 'min_samples_leaf': 4, 'max_features': 'sqrt', 'criterion': 'entropy'}. Best is trial 113 with value: 0.6749869994799792.\n",
      "[I 2025-06-19 12:23:17,037] Trial 122 finished with value: 0.5904836193447738 and parameters: {'max_depth': 29, 'min_samples_split': 4, 'min_samples_leaf': 4, 'max_features': 'sqrt', 'criterion': 'entropy'}. Best is trial 113 with value: 0.6749869994799792.\n",
      "[I 2025-06-19 12:23:17,182] Trial 123 finished with value: 0.5915236609464378 and parameters: {'max_depth': 30, 'min_samples_split': 4, 'min_samples_leaf': 4, 'max_features': 'sqrt', 'criterion': 'entropy'}. Best is trial 113 with value: 0.6749869994799792.\n",
      "[I 2025-06-19 12:23:17,326] Trial 124 finished with value: 0.5561622464898596 and parameters: {'max_depth': 30, 'min_samples_split': 4, 'min_samples_leaf': 4, 'max_features': 'sqrt', 'criterion': 'entropy'}. Best is trial 113 with value: 0.6749869994799792.\n",
      "[I 2025-06-19 12:23:17,475] Trial 125 finished with value: 0.5837233489339574 and parameters: {'max_depth': 28, 'min_samples_split': 3, 'min_samples_leaf': 4, 'max_features': 'sqrt', 'criterion': 'entropy'}. Best is trial 113 with value: 0.6749869994799792.\n",
      "[I 2025-06-19 12:23:17,627] Trial 126 finished with value: 0.5525221008840354 and parameters: {'max_depth': 27, 'min_samples_split': 3, 'min_samples_leaf': 4, 'max_features': 'sqrt', 'criterion': 'entropy'}. Best is trial 113 with value: 0.6749869994799792.\n",
      "[I 2025-06-19 12:23:17,777] Trial 127 finished with value: 0.5920436817472698 and parameters: {'max_depth': 29, 'min_samples_split': 4, 'min_samples_leaf': 4, 'max_features': 'sqrt', 'criterion': 'entropy'}. Best is trial 113 with value: 0.6749869994799792.\n",
      "[I 2025-06-19 12:23:17,926] Trial 128 finished with value: 0.5629225169006761 and parameters: {'max_depth': 30, 'min_samples_split': 4, 'min_samples_leaf': 4, 'max_features': 'sqrt', 'criterion': 'entropy'}. Best is trial 113 with value: 0.6749869994799792.\n",
      "[I 2025-06-19 12:23:18,054] Trial 129 finished with value: 0.515600624024961 and parameters: {'max_depth': 31, 'min_samples_split': 4, 'min_samples_leaf': 4, 'max_features': 'sqrt', 'criterion': 'entropy'}. Best is trial 113 with value: 0.6749869994799792.\n",
      "[I 2025-06-19 12:23:18,185] Trial 130 finished with value: 0.5101404056162246 and parameters: {'max_depth': 28, 'min_samples_split': 4, 'min_samples_leaf': 4, 'max_features': 'sqrt', 'criterion': 'entropy'}. Best is trial 113 with value: 0.6749869994799792.\n",
      "[I 2025-06-19 12:23:18,334] Trial 131 finished with value: 0.5824232969318772 and parameters: {'max_depth': 29, 'min_samples_split': 3, 'min_samples_leaf': 4, 'max_features': 'sqrt', 'criterion': 'entropy'}. Best is trial 113 with value: 0.6749869994799792.\n",
      "[I 2025-06-19 12:23:18,485] Trial 132 finished with value: 0.5247009880395216 and parameters: {'max_depth': 30, 'min_samples_split': 3, 'min_samples_leaf': 4, 'max_features': 'sqrt', 'criterion': 'entropy'}. Best is trial 113 with value: 0.6749869994799792.\n",
      "[I 2025-06-19 12:23:18,618] Trial 133 finished with value: 0.5819032761310452 and parameters: {'max_depth': 26, 'min_samples_split': 4, 'min_samples_leaf': 4, 'max_features': 'sqrt', 'criterion': 'entropy'}. Best is trial 113 with value: 0.6749869994799792.\n",
      "[I 2025-06-19 12:23:18,754] Trial 134 finished with value: 0.5720228809152366 and parameters: {'max_depth': 28, 'min_samples_split': 4, 'min_samples_leaf': 4, 'max_features': 'sqrt', 'criterion': 'entropy'}. Best is trial 113 with value: 0.6749869994799792.\n",
      "[I 2025-06-19 12:23:18,906] Trial 135 finished with value: 0.5975039001560063 and parameters: {'max_depth': 29, 'min_samples_split': 4, 'min_samples_leaf': 4, 'max_features': 'sqrt', 'criterion': 'entropy'}. Best is trial 113 with value: 0.6749869994799792.\n",
      "[I 2025-06-19 12:23:19,043] Trial 136 finished with value: 0.5587623504940198 and parameters: {'max_depth': 29, 'min_samples_split': 4, 'min_samples_leaf': 4, 'max_features': 'sqrt', 'criterion': 'entropy'}. Best is trial 113 with value: 0.6749869994799792.\n",
      "[I 2025-06-19 12:23:19,182] Trial 137 finished with value: 0.5390015600624025 and parameters: {'max_depth': 32, 'min_samples_split': 4, 'min_samples_leaf': 4, 'max_features': 'sqrt', 'criterion': 'entropy'}. Best is trial 113 with value: 0.6749869994799792.\n",
      "[I 2025-06-19 12:23:19,317] Trial 138 finished with value: 0.5717628705148206 and parameters: {'max_depth': 27, 'min_samples_split': 4, 'min_samples_leaf': 4, 'max_features': 'sqrt', 'criterion': 'entropy'}. Best is trial 113 with value: 0.6749869994799792.\n",
      "[I 2025-06-19 12:23:19,470] Trial 139 finished with value: 0.592563702548102 and parameters: {'max_depth': 30, 'min_samples_split': 4, 'min_samples_leaf': 4, 'max_features': 'sqrt', 'criterion': 'entropy'}. Best is trial 113 with value: 0.6749869994799792.\n",
      "[I 2025-06-19 12:23:19,630] Trial 140 finished with value: 0.578263130525221 and parameters: {'max_depth': 31, 'min_samples_split': 4, 'min_samples_leaf': 1, 'max_features': 'sqrt', 'criterion': 'entropy'}. Best is trial 113 with value: 0.6749869994799792.\n",
      "[I 2025-06-19 12:23:19,773] Trial 141 finished with value: 0.5743629745189808 and parameters: {'max_depth': 30, 'min_samples_split': 4, 'min_samples_leaf': 4, 'max_features': 'sqrt', 'criterion': 'entropy'}. Best is trial 113 with value: 0.6749869994799792.\n",
      "[I 2025-06-19 12:23:19,917] Trial 142 finished with value: 0.5652626105044202 and parameters: {'max_depth': 29, 'min_samples_split': 4, 'min_samples_leaf': 4, 'max_features': 'sqrt', 'criterion': 'entropy'}. Best is trial 113 with value: 0.6749869994799792.\n",
      "[I 2025-06-19 12:23:20,056] Trial 143 finished with value: 0.5808632345293812 and parameters: {'max_depth': 31, 'min_samples_split': 4, 'min_samples_leaf': 4, 'max_features': 'sqrt', 'criterion': 'entropy'}. Best is trial 113 with value: 0.6749869994799792.\n",
      "[I 2025-06-19 12:23:20,209] Trial 144 finished with value: 0.5686427457098284 and parameters: {'max_depth': 26, 'min_samples_split': 4, 'min_samples_leaf': 4, 'max_features': 'sqrt', 'criterion': 'entropy'}. Best is trial 113 with value: 0.6749869994799792.\n",
      "[I 2025-06-19 12:23:20,358] Trial 145 finished with value: 0.5650026001040042 and parameters: {'max_depth': 31, 'min_samples_split': 4, 'min_samples_leaf': 4, 'max_features': 'sqrt', 'criterion': 'entropy'}. Best is trial 113 with value: 0.6749869994799792.\n",
      "[I 2025-06-19 12:23:20,492] Trial 146 finished with value: 0.5574622984919396 and parameters: {'max_depth': 28, 'min_samples_split': 4, 'min_samples_leaf': 4, 'max_features': 'sqrt', 'criterion': 'entropy'}. Best is trial 113 with value: 0.6749869994799792.\n",
      "[I 2025-06-19 12:23:20,634] Trial 147 finished with value: 0.5410816432657306 and parameters: {'max_depth': 29, 'min_samples_split': 5, 'min_samples_leaf': 4, 'max_features': 'sqrt', 'criterion': 'entropy'}. Best is trial 113 with value: 0.6749869994799792.\n",
      "[I 2025-06-19 12:23:20,778] Trial 148 finished with value: 0.5569422776911076 and parameters: {'max_depth': 30, 'min_samples_split': 3, 'min_samples_leaf': 4, 'max_features': 'sqrt', 'criterion': 'entropy'}. Best is trial 113 with value: 0.6749869994799792.\n",
      "[I 2025-06-19 12:23:20,922] Trial 149 finished with value: 0.6172646905876235 and parameters: {'max_depth': 32, 'min_samples_split': 4, 'min_samples_leaf': 4, 'max_features': 'sqrt', 'criterion': 'entropy'}. Best is trial 113 with value: 0.6749869994799792.\n",
      "[I 2025-06-19 12:23:20,924] A new study created in memory with name: XGBoosting - Adult Income Prediction\n"
     ]
    },
    {
     "name": "stdout",
     "output_type": "stream",
     "text": [
      "DecisionTree Best hyperparameters:  {'max_depth': 19, 'min_samples_split': 4, 'min_samples_leaf': 4, 'max_features': 'sqrt', 'criterion': 'entropy'}\n"
     ]
    },
    {
     "name": "stderr",
     "output_type": "stream",
     "text": [
      "[I 2025-06-19 12:23:21,880] Trial 0 finished with value: 0.6310452418096724 and parameters: {'max_depth': 2, 'min_samples_split': 7, 'min_samples_leaf': 1, 'max_features': 'sqrt', 'criterion': 'gini', 'n_estimators': 148, 'learning_rate': 0.271309996284407}. Best is trial 0 with value: 0.6310452418096724.\n",
      "[I 2025-06-19 12:23:23,249] Trial 1 finished with value: 0.6393655746229849 and parameters: {'max_depth': 4, 'min_samples_split': 4, 'min_samples_leaf': 1, 'max_features': 'log2', 'criterion': 'entropy', 'n_estimators': 163, 'learning_rate': 0.12256272053972629}. Best is trial 1 with value: 0.6393655746229849.\n",
      "[I 2025-06-19 12:23:24,992] Trial 2 finished with value: 0.6474258970358814 and parameters: {'max_depth': 10, 'min_samples_split': 8, 'min_samples_leaf': 1, 'max_features': 'sqrt', 'criterion': 'entropy', 'n_estimators': 176, 'learning_rate': 0.23187256050859256}. Best is trial 2 with value: 0.6474258970358814.\n",
      "[I 2025-06-19 12:23:26,886] Trial 3 finished with value: 0.6336453458138326 and parameters: {'max_depth': 10, 'min_samples_split': 10, 'min_samples_leaf': 1, 'max_features': 'log2', 'criterion': 'gini', 'n_estimators': 170, 'learning_rate': 0.234530916323475}. Best is trial 2 with value: 0.6474258970358814.\n",
      "[I 2025-06-19 12:23:27,757] Trial 4 finished with value: 0.6034841393655747 and parameters: {'max_depth': 6, 'min_samples_split': 8, 'min_samples_leaf': 3, 'max_features': 'sqrt', 'criterion': 'entropy', 'n_estimators': 94, 'learning_rate': 0.04906993229663772}. Best is trial 2 with value: 0.6474258970358814.\n",
      "[I 2025-06-19 12:23:28,956] Trial 5 finished with value: 0.6466458658346333 and parameters: {'max_depth': 6, 'min_samples_split': 4, 'min_samples_leaf': 4, 'max_features': 'log2', 'criterion': 'entropy', 'n_estimators': 139, 'learning_rate': 0.0815587934081379}. Best is trial 2 with value: 0.6474258970358814.\n",
      "[I 2025-06-19 12:23:29,816] Trial 6 finished with value: 0.640405616224649 and parameters: {'max_depth': 11, 'min_samples_split': 2, 'min_samples_leaf': 1, 'max_features': 'log2', 'criterion': 'entropy', 'n_estimators': 54, 'learning_rate': 0.20048528459628645}. Best is trial 2 with value: 0.6474258970358814.\n",
      "[I 2025-06-19 12:23:33,532] Trial 7 finished with value: 0.6310452418096724 and parameters: {'max_depth': 27, 'min_samples_split': 8, 'min_samples_leaf': 4, 'max_features': 'log2', 'criterion': 'gini', 'n_estimators': 131, 'learning_rate': 0.25708099864141126}. Best is trial 2 with value: 0.6474258970358814.\n",
      "[I 2025-06-19 12:23:35,012] Trial 8 finished with value: 0.6391055642225689 and parameters: {'max_depth': 17, 'min_samples_split': 6, 'min_samples_leaf': 2, 'max_features': 'log2', 'criterion': 'gini', 'n_estimators': 64, 'learning_rate': 0.1887246489148268}. Best is trial 2 with value: 0.6474258970358814.\n",
      "[I 2025-06-19 12:23:35,465] Trial 9 finished with value: 0.5400416016640666 and parameters: {'max_depth': 3, 'min_samples_split': 3, 'min_samples_leaf': 4, 'max_features': 'log2', 'criterion': 'entropy', 'n_estimators': 59, 'learning_rate': 0.06181711098476011}. Best is trial 2 with value: 0.6474258970358814.\n",
      "[I 2025-06-19 12:23:40,384] Trial 10 finished with value: 0.6284451378055123 and parameters: {'max_depth': 32, 'min_samples_split': 10, 'min_samples_leaf': 2, 'max_features': 'sqrt', 'criterion': 'entropy', 'n_estimators': 199, 'learning_rate': 0.29842276349676744}. Best is trial 2 with value: 0.6474258970358814.\n",
      "[I 2025-06-19 12:23:43,711] Trial 11 finished with value: 0.6352054082163286 and parameters: {'max_depth': 15, 'min_samples_split': 5, 'min_samples_leaf': 3, 'max_features': 'sqrt', 'criterion': 'entropy', 'n_estimators': 196, 'learning_rate': 0.11164869754186403}. Best is trial 2 with value: 0.6474258970358814.\n",
      "[I 2025-06-19 12:23:45,584] Trial 12 finished with value: 0.5540821632865315 and parameters: {'max_depth': 10, 'min_samples_split': 5, 'min_samples_leaf': 3, 'max_features': 'sqrt', 'criterion': 'entropy', 'n_estimators': 114, 'learning_rate': 0.016399724791671316}. Best is trial 2 with value: 0.6474258970358814.\n",
      "[I 2025-06-19 12:23:48,879] Trial 13 finished with value: 0.6292251690067603 and parameters: {'max_depth': 19, 'min_samples_split': 8, 'min_samples_leaf': 2, 'max_features': 'sqrt', 'criterion': 'entropy', 'n_estimators': 173, 'learning_rate': 0.15708956101973437}. Best is trial 2 with value: 0.6474258970358814.\n",
      "[I 2025-06-19 12:23:50,998] Trial 14 finished with value: 0.6500260010400416 and parameters: {'max_depth': 8, 'min_samples_split': 4, 'min_samples_leaf': 4, 'max_features': 'log2', 'criterion': 'entropy', 'n_estimators': 131, 'learning_rate': 0.10072299058114766}. Best is trial 14 with value: 0.6500260010400416.\n",
      "[I 2025-06-19 12:23:53,815] Trial 15 finished with value: 0.6235049401976079 and parameters: {'max_depth': 22, 'min_samples_split': 6, 'min_samples_leaf': 3, 'max_features': 'sqrt', 'criterion': 'entropy', 'n_estimators': 105, 'learning_rate': 0.16908062135695187}. Best is trial 14 with value: 0.6500260010400416.\n",
      "[I 2025-06-19 12:23:55,391] Trial 16 finished with value: 0.640405616224649 and parameters: {'max_depth': 13, 'min_samples_split': 9, 'min_samples_leaf': 2, 'max_features': 'log2', 'criterion': 'entropy', 'n_estimators': 93, 'learning_rate': 0.12566403809069504}. Best is trial 14 with value: 0.6500260010400416.\n",
      "[I 2025-06-19 12:23:56,694] Trial 17 finished with value: 0.6497659906396256 and parameters: {'max_depth': 8, 'min_samples_split': 7, 'min_samples_leaf': 4, 'max_features': 'sqrt', 'criterion': 'entropy', 'n_estimators': 155, 'learning_rate': 0.21245832052118332}. Best is trial 14 with value: 0.6500260010400416.\n",
      "[I 2025-06-19 12:23:58,068] Trial 18 finished with value: 0.6544461778471139 and parameters: {'max_depth': 7, 'min_samples_split': 2, 'min_samples_leaf': 4, 'max_features': 'log2', 'criterion': 'gini', 'n_estimators': 152, 'learning_rate': 0.21044017465165238}. Best is trial 18 with value: 0.6544461778471139.\n",
      "[I 2025-06-19 12:24:01,838] Trial 19 finished with value: 0.6292251690067603 and parameters: {'max_depth': 21, 'min_samples_split': 2, 'min_samples_leaf': 4, 'max_features': 'log2', 'criterion': 'gini', 'n_estimators': 125, 'learning_rate': 0.0982273079052528}. Best is trial 18 with value: 0.6544461778471139.\n",
      "[I 2025-06-19 12:24:03,827] Trial 20 finished with value: 0.641445657826313 and parameters: {'max_depth': 14, 'min_samples_split': 3, 'min_samples_leaf': 4, 'max_features': 'log2', 'criterion': 'gini', 'n_estimators': 119, 'learning_rate': 0.14369172038635236}. Best is trial 18 with value: 0.6544461778471139.\n",
      "[I 2025-06-19 12:24:04,902] Trial 21 finished with value: 0.6526261050442018 and parameters: {'max_depth': 7, 'min_samples_split': 3, 'min_samples_leaf': 4, 'max_features': 'log2', 'criterion': 'gini', 'n_estimators': 156, 'learning_rate': 0.20566308339577088}. Best is trial 18 with value: 0.6544461778471139.\n",
      "[I 2025-06-19 12:24:05,827] Trial 22 finished with value: 0.6505460218408736 and parameters: {'max_depth': 6, 'min_samples_split': 3, 'min_samples_leaf': 4, 'max_features': 'log2', 'criterion': 'gini', 'n_estimators': 149, 'learning_rate': 0.17862983784356373}. Best is trial 18 with value: 0.6544461778471139.\n",
      "[I 2025-06-19 12:24:06,911] Trial 23 finished with value: 0.657046281851274 and parameters: {'max_depth': 6, 'min_samples_split': 3, 'min_samples_leaf': 3, 'max_features': 'log2', 'criterion': 'gini', 'n_estimators': 147, 'learning_rate': 0.1767485725730295}. Best is trial 23 with value: 0.657046281851274.\n",
      "[I 2025-06-19 12:24:07,909] Trial 24 finished with value: 0.6549661986479459 and parameters: {'max_depth': 5, 'min_samples_split': 2, 'min_samples_leaf': 3, 'max_features': 'log2', 'criterion': 'gini', 'n_estimators': 186, 'learning_rate': 0.2254600118799973}. Best is trial 23 with value: 0.657046281851274.\n",
      "[I 2025-06-19 12:24:09,132] Trial 25 finished with value: 0.6547061882475299 and parameters: {'max_depth': 4, 'min_samples_split': 2, 'min_samples_leaf': 3, 'max_features': 'log2', 'criterion': 'gini', 'n_estimators': 184, 'learning_rate': 0.24447180170618332}. Best is trial 23 with value: 0.657046281851274.\n",
      "[I 2025-06-19 12:24:10,747] Trial 26 finished with value: 0.6294851794071763 and parameters: {'max_depth': 2, 'min_samples_split': 2, 'min_samples_leaf': 3, 'max_features': 'log2', 'criterion': 'gini', 'n_estimators': 185, 'learning_rate': 0.24973097656390095}. Best is trial 23 with value: 0.657046281851274.\n",
      "[I 2025-06-19 12:24:11,723] Trial 27 finished with value: 0.6599063962558502 and parameters: {'max_depth': 4, 'min_samples_split': 2, 'min_samples_leaf': 3, 'max_features': 'log2', 'criterion': 'gini', 'n_estimators': 184, 'learning_rate': 0.2841407061966614}. Best is trial 27 with value: 0.6599063962558502.\n",
      "[I 2025-06-19 12:24:14,258] Trial 28 finished with value: 0.6331253250130006 and parameters: {'max_depth': 12, 'min_samples_split': 3, 'min_samples_leaf': 3, 'max_features': 'log2', 'criterion': 'gini', 'n_estimators': 184, 'learning_rate': 0.29705253778435525}. Best is trial 27 with value: 0.6599063962558502.\n",
      "[I 2025-06-19 12:24:15,024] Trial 29 finished with value: 0.6289651586063443 and parameters: {'max_depth': 2, 'min_samples_split': 4, 'min_samples_leaf': 3, 'max_features': 'log2', 'criterion': 'gini', 'n_estimators': 191, 'learning_rate': 0.2686279088562301}. Best is trial 27 with value: 0.6599063962558502.\n",
      "[I 2025-06-19 12:24:15,902] Trial 30 finished with value: 0.656526261050442 and parameters: {'max_depth': 4, 'min_samples_split': 2, 'min_samples_leaf': 2, 'max_features': 'log2', 'criterion': 'gini', 'n_estimators': 173, 'learning_rate': 0.28373534032058967}. Best is trial 27 with value: 0.6599063962558502.\n",
      "[I 2025-06-19 12:24:16,812] Trial 31 finished with value: 0.65730629225169 and parameters: {'max_depth': 4, 'min_samples_split': 2, 'min_samples_leaf': 2, 'max_features': 'log2', 'criterion': 'gini', 'n_estimators': 165, 'learning_rate': 0.2836693346394889}. Best is trial 27 with value: 0.6599063962558502.\n",
      "[I 2025-06-19 12:24:17,724] Trial 32 finished with value: 0.6609464378575143 and parameters: {'max_depth': 4, 'min_samples_split': 3, 'min_samples_leaf': 2, 'max_features': 'log2', 'criterion': 'gini', 'n_estimators': 165, 'learning_rate': 0.27659767285861275}. Best is trial 32 with value: 0.6609464378575143.\n",
      "[I 2025-06-19 12:24:18,458] Trial 33 finished with value: 0.6279251170046802 and parameters: {'max_depth': 2, 'min_samples_split': 3, 'min_samples_leaf': 2, 'max_features': 'log2', 'criterion': 'gini', 'n_estimators': 166, 'learning_rate': 0.2770226744982794}. Best is trial 32 with value: 0.6609464378575143.\n",
      "[I 2025-06-19 12:24:19,704] Trial 34 finished with value: 0.6427457098283932 and parameters: {'max_depth': 8, 'min_samples_split': 4, 'min_samples_leaf': 2, 'max_features': 'log2', 'criterion': 'gini', 'n_estimators': 161, 'learning_rate': 0.2652542405180668}. Best is trial 32 with value: 0.6609464378575143.\n",
      "[I 2025-06-19 12:24:20,961] Trial 35 finished with value: 0.6458658346333853 and parameters: {'max_depth': 9, 'min_samples_split': 5, 'min_samples_leaf': 1, 'max_features': 'log2', 'criterion': 'gini', 'n_estimators': 143, 'learning_rate': 0.28872218966091345}. Best is trial 32 with value: 0.6609464378575143.\n",
      "[I 2025-06-19 12:24:21,807] Trial 36 finished with value: 0.6544461778471139 and parameters: {'max_depth': 4, 'min_samples_split': 4, 'min_samples_leaf': 2, 'max_features': 'log2', 'criterion': 'gini', 'n_estimators': 164, 'learning_rate': 0.22686535803842003}. Best is trial 32 with value: 0.6609464378575143.\n",
      "[I 2025-06-19 12:24:22,942] Trial 37 finished with value: 0.656526261050442 and parameters: {'max_depth': 5, 'min_samples_split': 3, 'min_samples_leaf': 1, 'max_features': 'log2', 'criterion': 'gini', 'n_estimators': 178, 'learning_rate': 0.24064133820275363}. Best is trial 32 with value: 0.6609464378575143.\n",
      "[I 2025-06-19 12:24:24,497] Trial 38 finished with value: 0.6430057202288092 and parameters: {'max_depth': 11, 'min_samples_split': 5, 'min_samples_leaf': 2, 'max_features': 'log2', 'criterion': 'gini', 'n_estimators': 140, 'learning_rate': 0.26139352391948506}. Best is trial 32 with value: 0.6609464378575143.\n",
      "[I 2025-06-19 12:24:25,738] Trial 39 finished with value: 0.6534061362454499 and parameters: {'max_depth': 6, 'min_samples_split': 2, 'min_samples_leaf': 3, 'max_features': 'log2', 'criterion': 'gini', 'n_estimators': 161, 'learning_rate': 0.2768128554151237}. Best is trial 32 with value: 0.6609464378575143.\n",
      "[I 2025-06-19 12:24:35,893] Trial 40 finished with value: 0.6307852314092564 and parameters: {'max_depth': 26, 'min_samples_split': 4, 'min_samples_leaf': 2, 'max_features': 'log2', 'criterion': 'gini', 'n_estimators': 178, 'learning_rate': 0.25222911692903865}. Best is trial 32 with value: 0.6609464378575143.\n",
      "[I 2025-06-19 12:24:37,341] Trial 41 finished with value: 0.6549661986479459 and parameters: {'max_depth': 4, 'min_samples_split': 2, 'min_samples_leaf': 2, 'max_features': 'log2', 'criterion': 'gini', 'n_estimators': 170, 'learning_rate': 0.28189688575549376}. Best is trial 32 with value: 0.6609464378575143.\n",
      "[I 2025-06-19 12:24:38,878] Trial 42 finished with value: 0.6479459178367135 and parameters: {'max_depth': 3, 'min_samples_split': 2, 'min_samples_leaf': 2, 'max_features': 'log2', 'criterion': 'gini', 'n_estimators': 145, 'learning_rate': 0.2933208484885137}. Best is trial 32 with value: 0.6609464378575143.\n",
      "[I 2025-06-19 12:24:42,137] Trial 43 finished with value: 0.6578263130525221 and parameters: {'max_depth': 5, 'min_samples_split': 3, 'min_samples_leaf': 1, 'max_features': 'log2', 'criterion': 'gini', 'n_estimators': 174, 'learning_rate': 0.27785491280945507}. Best is trial 32 with value: 0.6609464378575143.\n",
      "[I 2025-06-19 12:24:43,870] Trial 44 finished with value: 0.6549661986479459 and parameters: {'max_depth': 6, 'min_samples_split': 3, 'min_samples_leaf': 1, 'max_features': 'log2', 'criterion': 'gini', 'n_estimators': 156, 'learning_rate': 0.2684307322672939}. Best is trial 32 with value: 0.6609464378575143.\n",
      "[I 2025-06-19 12:24:46,594] Trial 45 finished with value: 0.6456058242329693 and parameters: {'max_depth': 9, 'min_samples_split': 3, 'min_samples_leaf': 1, 'max_features': 'log2', 'criterion': 'gini', 'n_estimators': 195, 'learning_rate': 0.2302933610001969}. Best is trial 32 with value: 0.6609464378575143.\n",
      "[I 2025-06-19 12:24:48,000] Trial 46 finished with value: 0.6456058242329693 and parameters: {'max_depth': 3, 'min_samples_split': 4, 'min_samples_leaf': 1, 'max_features': 'log2', 'criterion': 'gini', 'n_estimators': 134, 'learning_rate': 0.29832331198896517}. Best is trial 32 with value: 0.6609464378575143.\n",
      "[I 2025-06-19 12:24:50,101] Trial 47 finished with value: 0.656526261050442 and parameters: {'max_depth': 5, 'min_samples_split': 3, 'min_samples_leaf': 3, 'max_features': 'sqrt', 'criterion': 'gini', 'n_estimators': 178, 'learning_rate': 0.1948603808184084}. Best is trial 32 with value: 0.6609464378575143.\n",
      "[I 2025-06-19 12:24:52,470] Trial 48 finished with value: 0.6539261570462819 and parameters: {'max_depth': 7, 'min_samples_split': 3, 'min_samples_leaf': 3, 'max_features': 'log2', 'criterion': 'gini', 'n_estimators': 167, 'learning_rate': 0.26010597040409317}. Best is trial 32 with value: 0.6609464378575143.\n",
      "[I 2025-06-19 12:24:55,313] Trial 49 finished with value: 0.6344253770150806 and parameters: {'max_depth': 16, 'min_samples_split': 5, 'min_samples_leaf': 1, 'max_features': 'log2', 'criterion': 'gini', 'n_estimators': 71, 'learning_rate': 0.23755530578997325}. Best is trial 32 with value: 0.6609464378575143.\n",
      "[I 2025-06-19 12:25:19,734] Trial 50 finished with value: 0.5644825793031721 and parameters: {'max_depth': 10, 'min_samples_split': 7, 'min_samples_leaf': 3, 'max_features': 'sqrt', 'criterion': 'gini', 'n_estimators': 190, 'learning_rate': 0.010831555013438132}. Best is trial 32 with value: 0.6609464378575143.\n",
      "[I 2025-06-19 12:25:24,488] Trial 51 finished with value: 0.6549661986479459 and parameters: {'max_depth': 4, 'min_samples_split': 2, 'min_samples_leaf': 2, 'max_features': 'log2', 'criterion': 'gini', 'n_estimators': 172, 'learning_rate': 0.28345961911692585}. Best is trial 32 with value: 0.6609464378575143.\n",
      "[I 2025-06-19 12:25:25,396] Trial 52 finished with value: 0.6523660946437857 and parameters: {'max_depth': 3, 'min_samples_split': 2, 'min_samples_leaf': 2, 'max_features': 'log2', 'criterion': 'gini', 'n_estimators': 176, 'learning_rate': 0.2835567838508152}. Best is trial 32 with value: 0.6609464378575143.\n",
      "[I 2025-06-19 12:25:26,458] Trial 53 finished with value: 0.6149245969838794 and parameters: {'max_depth': 5, 'min_samples_split': 2, 'min_samples_leaf': 2, 'max_features': 'log2', 'criterion': 'gini', 'n_estimators': 160, 'learning_rate': 0.042502161829606394}. Best is trial 32 with value: 0.6609464378575143.\n",
      "[I 2025-06-19 12:25:27,299] Trial 54 finished with value: 0.6341653666146646 and parameters: {'max_depth': 2, 'min_samples_split': 3, 'min_samples_leaf': 2, 'max_features': 'log2', 'criterion': 'gini', 'n_estimators': 170, 'learning_rate': 0.252964656700238}. Best is trial 32 with value: 0.6609464378575143.\n",
      "[I 2025-06-19 12:25:28,749] Trial 55 finished with value: 0.657046281851274 and parameters: {'max_depth': 7, 'min_samples_split': 9, 'min_samples_leaf': 3, 'max_features': 'log2', 'criterion': 'gini', 'n_estimators': 149, 'learning_rate': 0.13909104062393166}. Best is trial 32 with value: 0.6609464378575143.\n",
      "[I 2025-06-19 12:25:30,112] Trial 56 finished with value: 0.6508060322412896 and parameters: {'max_depth': 8, 'min_samples_split': 9, 'min_samples_leaf': 3, 'max_features': 'log2', 'criterion': 'gini', 'n_estimators': 148, 'learning_rate': 0.13718619782505462}. Best is trial 32 with value: 0.6609464378575143.\n",
      "[I 2025-06-19 12:25:31,153] Trial 57 finished with value: 0.6536661466458659 and parameters: {'max_depth': 7, 'min_samples_split': 6, 'min_samples_leaf': 3, 'max_features': 'sqrt', 'criterion': 'gini', 'n_estimators': 152, 'learning_rate': 0.15601610925347623}. Best is trial 32 with value: 0.6609464378575143.\n",
      "[I 2025-06-19 12:25:32,429] Trial 58 finished with value: 0.6505460218408736 and parameters: {'max_depth': 9, 'min_samples_split': 10, 'min_samples_leaf': 3, 'max_features': 'log2', 'criterion': 'entropy', 'n_estimators': 126, 'learning_rate': 0.17142560522100295}. Best is trial 32 with value: 0.6609464378575143.\n",
      "[I 2025-06-19 12:25:34,795] Trial 59 finished with value: 0.6370254810192407 and parameters: {'max_depth': 18, 'min_samples_split': 9, 'min_samples_leaf': 3, 'max_features': 'log2', 'criterion': 'gini', 'n_estimators': 135, 'learning_rate': 0.08252777395324071}. Best is trial 32 with value: 0.6609464378575143.\n",
      "[I 2025-06-19 12:25:36,928] Trial 60 finished with value: 0.6450858034321373 and parameters: {'max_depth': 11, 'min_samples_split': 8, 'min_samples_leaf': 3, 'max_features': 'log2', 'criterion': 'gini', 'n_estimators': 199, 'learning_rate': 0.218493067979468}. Best is trial 32 with value: 0.6609464378575143.\n",
      "[I 2025-06-19 12:25:38,070] Trial 61 finished with value: 0.6500260010400416 and parameters: {'max_depth': 5, 'min_samples_split': 2, 'min_samples_leaf': 2, 'max_features': 'log2', 'criterion': 'gini', 'n_estimators': 181, 'learning_rate': 0.12526875662830292}. Best is trial 32 with value: 0.6609464378575143.\n",
      "[I 2025-06-19 12:25:39,142] Trial 62 finished with value: 0.640405616224649 and parameters: {'max_depth': 4, 'min_samples_split': 2, 'min_samples_leaf': 3, 'max_features': 'log2', 'criterion': 'gini', 'n_estimators': 174, 'learning_rate': 0.11212570111280462}. Best is trial 32 with value: 0.6609464378575143.\n",
      "[I 2025-06-19 12:25:39,925] Trial 63 finished with value: 0.6305252210088403 and parameters: {'max_depth': 3, 'min_samples_split': 3, 'min_samples_leaf': 2, 'max_features': 'log2', 'criterion': 'gini', 'n_estimators': 159, 'learning_rate': 0.14422560448039726}. Best is trial 32 with value: 0.6609464378575143.\n",
      "[I 2025-06-19 12:25:44,242] Trial 64 finished with value: 0.6276651066042642 and parameters: {'max_depth': 32, 'min_samples_split': 2, 'min_samples_leaf': 1, 'max_features': 'log2', 'criterion': 'gini', 'n_estimators': 167, 'learning_rate': 0.27198605252576685}. Best is trial 32 with value: 0.6609464378575143.\n",
      "[I 2025-06-19 12:25:45,395] Trial 65 finished with value: 0.6539261570462819 and parameters: {'max_depth': 6, 'min_samples_split': 4, 'min_samples_leaf': 3, 'max_features': 'log2', 'criterion': 'entropy', 'n_estimators': 192, 'learning_rate': 0.29159756102207796}. Best is trial 32 with value: 0.6609464378575143.\n",
      "[I 2025-06-19 12:25:46,114] Trial 66 finished with value: 0.609724388975559 and parameters: {'max_depth': 2, 'min_samples_split': 7, 'min_samples_leaf': 2, 'max_features': 'log2', 'criterion': 'gini', 'n_estimators': 151, 'learning_rate': 0.18804423472107024}. Best is trial 32 with value: 0.6609464378575143.\n",
      "[I 2025-06-19 12:25:47,585] Trial 67 finished with value: 0.6484659386375455 and parameters: {'max_depth': 7, 'min_samples_split': 3, 'min_samples_leaf': 3, 'max_features': 'log2', 'criterion': 'gini', 'n_estimators': 164, 'learning_rate': 0.2713599909081695}. Best is trial 32 with value: 0.6609464378575143.\n",
      "[I 2025-06-19 12:25:48,478] Trial 68 finished with value: 0.6580863234529382 and parameters: {'max_depth': 4, 'min_samples_split': 2, 'min_samples_leaf': 2, 'max_features': 'sqrt', 'criterion': 'gini', 'n_estimators': 156, 'learning_rate': 0.2487037013577655}. Best is trial 32 with value: 0.6609464378575143.\n",
      "[I 2025-06-19 12:25:49,514] Trial 69 finished with value: 0.6552262090483619 and parameters: {'max_depth': 6, 'min_samples_split': 3, 'min_samples_leaf': 1, 'max_features': 'sqrt', 'criterion': 'gini', 'n_estimators': 155, 'learning_rate': 0.24711081875454644}. Best is trial 32 with value: 0.6609464378575143.\n",
      "[I 2025-06-19 12:25:54,039] Trial 70 finished with value: 0.6339053562142486 and parameters: {'max_depth': 30, 'min_samples_split': 6, 'min_samples_leaf': 2, 'max_features': 'sqrt', 'criterion': 'gini', 'n_estimators': 146, 'learning_rate': 0.16562329394984582}. Best is trial 32 with value: 0.6609464378575143.\n",
      "[I 2025-06-19 12:25:54,800] Trial 71 finished with value: 0.6539261570462819 and parameters: {'max_depth': 4, 'min_samples_split': 2, 'min_samples_leaf': 2, 'max_features': 'sqrt', 'criterion': 'gini', 'n_estimators': 139, 'learning_rate': 0.2885883060921355}. Best is trial 32 with value: 0.6609464378575143.\n",
      "[I 2025-06-19 12:25:55,820] Trial 72 finished with value: 0.656526261050442 and parameters: {'max_depth': 5, 'min_samples_split': 2, 'min_samples_leaf': 2, 'max_features': 'sqrt', 'criterion': 'gini', 'n_estimators': 171, 'learning_rate': 0.2574116009149329}. Best is trial 32 with value: 0.6609464378575143.\n",
      "[I 2025-06-19 12:25:56,728] Trial 73 finished with value: 0.6489859594383776 and parameters: {'max_depth': 3, 'min_samples_split': 2, 'min_samples_leaf': 2, 'max_features': 'sqrt', 'criterion': 'gini', 'n_estimators': 183, 'learning_rate': 0.2997858423660708}. Best is trial 32 with value: 0.6609464378575143.\n",
      "[I 2025-06-19 12:25:58,328] Trial 74 finished with value: 0.6484659386375455 and parameters: {'max_depth': 8, 'min_samples_split': 3, 'min_samples_leaf': 2, 'max_features': 'log2', 'criterion': 'gini', 'n_estimators': 188, 'learning_rate': 0.2783389438876496}. Best is trial 32 with value: 0.6609464378575143.\n",
      "[I 2025-06-19 12:25:59,076] Trial 75 finished with value: 0.6284451378055123 and parameters: {'max_depth': 2, 'min_samples_split': 2, 'min_samples_leaf': 3, 'max_features': 'log2', 'criterion': 'gini', 'n_estimators': 158, 'learning_rate': 0.26556920223384556}. Best is trial 32 with value: 0.6609464378575143.\n",
      "[I 2025-06-19 12:26:00,465] Trial 76 finished with value: 0.65730629225169 and parameters: {'max_depth': 6, 'min_samples_split': 3, 'min_samples_leaf': 2, 'max_features': 'log2', 'criterion': 'entropy', 'n_estimators': 164, 'learning_rate': 0.13685346272304413}. Best is trial 32 with value: 0.6609464378575143.\n",
      "[I 2025-06-19 12:26:04,876] Trial 77 finished with value: 0.6284451378055123 and parameters: {'max_depth': 23, 'min_samples_split': 3, 'min_samples_leaf': 2, 'max_features': 'sqrt', 'criterion': 'entropy', 'n_estimators': 164, 'learning_rate': 0.1339003051172183}. Best is trial 32 with value: 0.6609464378575143.\n",
      "[I 2025-06-19 12:26:06,011] Trial 78 finished with value: 0.6526261050442018 and parameters: {'max_depth': 6, 'min_samples_split': 4, 'min_samples_leaf': 3, 'max_features': 'log2', 'criterion': 'entropy', 'n_estimators': 181, 'learning_rate': 0.11030601601442383}. Best is trial 32 with value: 0.6609464378575143.\n",
      "[I 2025-06-19 12:26:07,253] Trial 79 finished with value: 0.6497659906396256 and parameters: {'max_depth': 9, 'min_samples_split': 3, 'min_samples_leaf': 1, 'max_features': 'log2', 'criterion': 'entropy', 'n_estimators': 142, 'learning_rate': 0.1164763162000233}. Best is trial 32 with value: 0.6609464378575143.\n",
      "[I 2025-06-19 12:26:08,197] Trial 80 finished with value: 0.6471658866354654 and parameters: {'max_depth': 7, 'min_samples_split': 3, 'min_samples_leaf': 3, 'max_features': 'log2', 'criterion': 'entropy', 'n_estimators': 112, 'learning_rate': 0.10109095903705652}. Best is trial 32 with value: 0.6609464378575143.\n",
      "[I 2025-06-19 12:26:09,225] Trial 81 finished with value: 0.6544461778471139 and parameters: {'max_depth': 5, 'min_samples_split': 2, 'min_samples_leaf': 2, 'max_features': 'log2', 'criterion': 'entropy', 'n_estimators': 153, 'learning_rate': 0.14906821358592687}. Best is trial 32 with value: 0.6609464378575143.\n",
      "[I 2025-06-19 12:26:10,188] Trial 82 finished with value: 0.6575663026521061 and parameters: {'max_depth': 4, 'min_samples_split': 4, 'min_samples_leaf': 2, 'max_features': 'log2', 'criterion': 'gini', 'n_estimators': 175, 'learning_rate': 0.27470898250086934}. Best is trial 32 with value: 0.6609464378575143.\n",
      "[I 2025-06-19 12:26:11,087] Trial 83 finished with value: 0.6487259490379615 and parameters: {'max_depth': 4, 'min_samples_split': 4, 'min_samples_leaf': 2, 'max_features': 'log2', 'criterion': 'gini', 'n_estimators': 167, 'learning_rate': 0.1338600607192913}. Best is trial 32 with value: 0.6609464378575143.\n",
      "[I 2025-06-19 12:26:11,955] Trial 84 finished with value: 0.6443057722308893 and parameters: {'max_depth': 3, 'min_samples_split': 3, 'min_samples_leaf': 2, 'max_features': 'log2', 'criterion': 'gini', 'n_estimators': 161, 'learning_rate': 0.2739182692565862}. Best is trial 32 with value: 0.6609464378575143.\n",
      "[I 2025-06-19 12:26:13,126] Trial 85 finished with value: 0.6526261050442018 and parameters: {'max_depth': 6, 'min_samples_split': 5, 'min_samples_leaf': 2, 'max_features': 'log2', 'criterion': 'entropy', 'n_estimators': 177, 'learning_rate': 0.26356037996109766}. Best is trial 32 with value: 0.6609464378575143.\n",
      "[I 2025-06-19 12:26:14,411] Trial 86 finished with value: 0.6430057202288092 and parameters: {'max_depth': 8, 'min_samples_split': 4, 'min_samples_leaf': 3, 'max_features': 'log2', 'criterion': 'gini', 'n_estimators': 169, 'learning_rate': 0.28673829190660965}. Best is trial 32 with value: 0.6609464378575143.\n",
      "[I 2025-06-19 12:26:15,338] Trial 87 finished with value: 0.65600624024961 and parameters: {'max_depth': 5, 'min_samples_split': 10, 'min_samples_leaf': 2, 'max_features': 'log2', 'criterion': 'gini', 'n_estimators': 157, 'learning_rate': 0.2776842534333467}. Best is trial 32 with value: 0.6609464378575143.\n",
      "[I 2025-06-19 12:26:16,488] Trial 88 finished with value: 0.655746229849194 and parameters: {'max_depth': 7, 'min_samples_split': 3, 'min_samples_leaf': 1, 'max_features': 'log2', 'criterion': 'gini', 'n_estimators': 175, 'learning_rate': 0.1621239931604622}. Best is trial 32 with value: 0.6609464378575143.\n",
      "[I 2025-06-19 12:26:17,134] Trial 89 finished with value: 0.6281851274050962 and parameters: {'max_depth': 2, 'min_samples_split': 2, 'min_samples_leaf': 2, 'max_features': 'sqrt', 'criterion': 'gini', 'n_estimators': 149, 'learning_rate': 0.2540414630771997}. Best is trial 32 with value: 0.6609464378575143.\n",
      "[I 2025-06-19 12:26:18,812] Trial 90 finished with value: 0.6432657306292252 and parameters: {'max_depth': 10, 'min_samples_split': 4, 'min_samples_leaf': 4, 'max_features': 'log2', 'criterion': 'gini', 'n_estimators': 163, 'learning_rate': 0.1767431213567387}. Best is trial 32 with value: 0.6609464378575143.\n",
      "[I 2025-06-19 12:26:19,713] Trial 91 finished with value: 0.656266250650026 and parameters: {'max_depth': 4, 'min_samples_split': 2, 'min_samples_leaf': 2, 'max_features': 'log2', 'criterion': 'gini', 'n_estimators': 173, 'learning_rate': 0.292653645670827}. Best is trial 32 with value: 0.6609464378575143.\n",
      "[I 2025-06-19 12:26:21,286] Trial 92 finished with value: 0.656526261050442 and parameters: {'max_depth': 5, 'min_samples_split': 2, 'min_samples_leaf': 2, 'max_features': 'log2', 'criterion': 'gini', 'n_estimators': 179, 'learning_rate': 0.2820695283371577}. Best is trial 32 with value: 0.6609464378575143.\n",
      "[I 2025-06-19 12:26:22,140] Trial 93 finished with value: 0.6432657306292252 and parameters: {'max_depth': 3, 'min_samples_split': 3, 'min_samples_leaf': 2, 'max_features': 'log2', 'criterion': 'gini', 'n_estimators': 186, 'learning_rate': 0.24460493116298615}. Best is trial 32 with value: 0.6609464378575143.\n",
      "[I 2025-06-19 12:26:22,971] Trial 94 finished with value: 0.6596463858554342 and parameters: {'max_depth': 4, 'min_samples_split': 2, 'min_samples_leaf': 2, 'max_features': 'log2', 'criterion': 'gini', 'n_estimators': 168, 'learning_rate': 0.26260649081663323}. Best is trial 32 with value: 0.6609464378575143.\n",
      "[I 2025-06-19 12:26:23,894] Trial 95 finished with value: 0.656786271450858 and parameters: {'max_depth': 4, 'min_samples_split': 2, 'min_samples_leaf': 2, 'max_features': 'log2', 'criterion': 'gini', 'n_estimators': 154, 'learning_rate': 0.26157505482682686}. Best is trial 32 with value: 0.6609464378575143.\n",
      "[I 2025-06-19 12:26:24,992] Trial 96 finished with value: 0.6539261570462819 and parameters: {'max_depth': 6, 'min_samples_split': 8, 'min_samples_leaf': 3, 'max_features': 'log2', 'criterion': 'gini', 'n_estimators': 167, 'learning_rate': 0.23812319687104627}. Best is trial 32 with value: 0.6609464378575143.\n",
      "[I 2025-06-19 12:26:25,516] Trial 97 finished with value: 0.6328653146125846 and parameters: {'max_depth': 3, 'min_samples_split': 3, 'min_samples_leaf': 2, 'max_features': 'log2', 'criterion': 'gini', 'n_estimators': 90, 'learning_rate': 0.2185356779955993}. Best is trial 32 with value: 0.6609464378575143.\n",
      "[I 2025-06-19 12:26:26,644] Trial 98 finished with value: 0.656786271450858 and parameters: {'max_depth': 7, 'min_samples_split': 6, 'min_samples_leaf': 3, 'max_features': 'log2', 'criterion': 'entropy', 'n_estimators': 163, 'learning_rate': 0.14981307863136847}. Best is trial 32 with value: 0.6609464378575143.\n",
      "[I 2025-06-19 12:26:27,725] Trial 99 finished with value: 0.6549661986479459 and parameters: {'max_depth': 6, 'min_samples_split': 2, 'min_samples_leaf': 2, 'max_features': 'log2', 'criterion': 'gini', 'n_estimators': 170, 'learning_rate': 0.2738961441787863}. Best is trial 32 with value: 0.6609464378575143.\n",
      "[I 2025-06-19 12:26:28,861] Trial 100 finished with value: 0.656266250650026 and parameters: {'max_depth': 5, 'min_samples_split': 3, 'min_samples_leaf': 1, 'max_features': 'log2', 'criterion': 'gini', 'n_estimators': 195, 'learning_rate': 0.267478352337361}. Best is trial 32 with value: 0.6609464378575143.\n",
      "[I 2025-06-19 12:26:29,694] Trial 101 finished with value: 0.6609464378575143 and parameters: {'max_depth': 4, 'min_samples_split': 2, 'min_samples_leaf': 2, 'max_features': 'log2', 'criterion': 'gini', 'n_estimators': 154, 'learning_rate': 0.2608195121434665}. Best is trial 32 with value: 0.6609464378575143.\n",
      "[I 2025-06-19 12:26:30,722] Trial 102 finished with value: 0.6549661986479459 and parameters: {'max_depth': 4, 'min_samples_split': 2, 'min_samples_leaf': 2, 'max_features': 'log2', 'criterion': 'gini', 'n_estimators': 150, 'learning_rate': 0.2537726354602307}. Best is trial 32 with value: 0.6609464378575143.\n",
      "[I 2025-06-19 12:26:31,624] Trial 103 finished with value: 0.6307852314092564 and parameters: {'max_depth': 2, 'min_samples_split': 2, 'min_samples_leaf': 2, 'max_features': 'log2', 'criterion': 'gini', 'n_estimators': 161, 'learning_rate': 0.29364149728637995}. Best is trial 32 with value: 0.6609464378575143.\n",
      "[I 2025-06-19 12:26:32,403] Trial 104 finished with value: 0.6458658346333853 and parameters: {'max_depth': 3, 'min_samples_split': 2, 'min_samples_leaf': 2, 'max_features': 'log2', 'criterion': 'gini', 'n_estimators': 147, 'learning_rate': 0.2596426261735383}. Best is trial 32 with value: 0.6609464378575143.\n",
      "[I 2025-06-19 12:26:34,558] Trial 105 finished with value: 0.6367654706188247 and parameters: {'max_depth': 14, 'min_samples_split': 9, 'min_samples_leaf': 2, 'max_features': 'log2', 'criterion': 'gini', 'n_estimators': 157, 'learning_rate': 0.2803264912031874}. Best is trial 32 with value: 0.6609464378575143.\n",
      "[I 2025-06-19 12:26:35,479] Trial 106 finished with value: 0.656786271450858 and parameters: {'max_depth': 5, 'min_samples_split': 3, 'min_samples_leaf': 3, 'max_features': 'sqrt', 'criterion': 'gini', 'n_estimators': 143, 'learning_rate': 0.23491196187538674}. Best is trial 32 with value: 0.6609464378575143.\n",
      "[I 2025-06-19 12:26:36,287] Trial 107 finished with value: 0.6544461778471139 and parameters: {'max_depth': 4, 'min_samples_split': 2, 'min_samples_leaf': 2, 'max_features': 'log2', 'criterion': 'gini', 'n_estimators': 137, 'learning_rate': 0.24751147522221145}. Best is trial 32 with value: 0.6609464378575143.\n",
      "[I 2025-06-19 12:26:37,676] Trial 108 finished with value: 0.6497659906396256 and parameters: {'max_depth': 6, 'min_samples_split': 3, 'min_samples_leaf': 2, 'max_features': 'log2', 'criterion': 'gini', 'n_estimators': 182, 'learning_rate': 0.26995316455185037}. Best is trial 32 with value: 0.6609464378575143.\n",
      "[I 2025-06-19 12:26:38,487] Trial 109 finished with value: 0.6505460218408736 and parameters: {'max_depth': 5, 'min_samples_split': 2, 'min_samples_leaf': 3, 'max_features': 'log2', 'criterion': 'gini', 'n_estimators': 127, 'learning_rate': 0.1406385305151247}. Best is trial 32 with value: 0.6609464378575143.\n",
      "[I 2025-06-19 12:26:39,814] Trial 110 finished with value: 0.6492459698387936 and parameters: {'max_depth': 8, 'min_samples_split': 3, 'min_samples_leaf': 2, 'max_features': 'log2', 'criterion': 'entropy', 'n_estimators': 165, 'learning_rate': 0.12751451519266196}. Best is trial 32 with value: 0.6609464378575143.\n",
      "[I 2025-06-19 12:26:40,607] Trial 111 finished with value: 0.6586063442537702 and parameters: {'max_depth': 4, 'min_samples_split': 2, 'min_samples_leaf': 2, 'max_features': 'log2', 'criterion': 'gini', 'n_estimators': 153, 'learning_rate': 0.2610546341505519}. Best is trial 32 with value: 0.6609464378575143.\n",
      "[I 2025-06-19 12:26:41,362] Trial 112 finished with value: 0.6466458658346333 and parameters: {'max_depth': 3, 'min_samples_split': 2, 'min_samples_leaf': 2, 'max_features': 'log2', 'criterion': 'gini', 'n_estimators': 159, 'learning_rate': 0.28675057151618366}. Best is trial 32 with value: 0.6609464378575143.\n",
      "[I 2025-06-19 12:26:42,539] Trial 113 finished with value: 0.6612064482579303 and parameters: {'max_depth': 4, 'min_samples_split': 2, 'min_samples_leaf': 2, 'max_features': 'log2', 'criterion': 'gini', 'n_estimators': 174, 'learning_rate': 0.26511798367609263}. Best is trial 113 with value: 0.6612064482579303.\n",
      "[I 2025-06-19 12:26:43,552] Trial 114 finished with value: 0.6578263130525221 and parameters: {'max_depth': 4, 'min_samples_split': 2, 'min_samples_leaf': 2, 'max_features': 'log2', 'criterion': 'gini', 'n_estimators': 175, 'learning_rate': 0.25725938681131844}. Best is trial 113 with value: 0.6612064482579303.\n",
      "[I 2025-06-19 12:26:44,395] Trial 115 finished with value: 0.6284451378055123 and parameters: {'max_depth': 2, 'min_samples_split': 2, 'min_samples_leaf': 2, 'max_features': 'log2', 'criterion': 'gini', 'n_estimators': 174, 'learning_rate': 0.24117804470341841}. Best is trial 113 with value: 0.6612064482579303.\n",
      "[I 2025-06-19 12:26:45,294] Trial 116 finished with value: 0.6606864274570983 and parameters: {'max_depth': 4, 'min_samples_split': 2, 'min_samples_leaf': 2, 'max_features': 'log2', 'criterion': 'gini', 'n_estimators': 179, 'learning_rate': 0.2660247135911539}. Best is trial 113 with value: 0.6612064482579303.\n",
      "[I 2025-06-19 12:26:46,333] Trial 117 finished with value: 0.656786271450858 and parameters: {'max_depth': 4, 'min_samples_split': 2, 'min_samples_leaf': 2, 'max_features': 'sqrt', 'criterion': 'gini', 'n_estimators': 188, 'learning_rate': 0.25611785963796785}. Best is trial 113 with value: 0.6612064482579303.\n",
      "[I 2025-06-19 12:26:47,165] Trial 118 finished with value: 0.6502860114404576 and parameters: {'max_depth': 3, 'min_samples_split': 2, 'min_samples_leaf': 2, 'max_features': 'log2', 'criterion': 'gini', 'n_estimators': 180, 'learning_rate': 0.26610859167805945}. Best is trial 113 with value: 0.6612064482579303.\n",
      "[I 2025-06-19 12:26:48,092] Trial 119 finished with value: 0.6544461778471139 and parameters: {'max_depth': 4, 'min_samples_split': 2, 'min_samples_leaf': 2, 'max_features': 'log2', 'criterion': 'gini', 'n_estimators': 177, 'learning_rate': 0.2740416636335951}. Best is trial 113 with value: 0.6612064482579303.\n",
      "[I 2025-06-19 12:26:48,943] Trial 120 finished with value: 0.6320852834113364 and parameters: {'max_depth': 2, 'min_samples_split': 2, 'min_samples_leaf': 2, 'max_features': 'log2', 'criterion': 'gini', 'n_estimators': 173, 'learning_rate': 0.2503535956034154}. Best is trial 113 with value: 0.6612064482579303.\n",
      "[I 2025-06-19 12:26:50,079] Trial 121 finished with value: 0.657046281851274 and parameters: {'max_depth': 4, 'min_samples_split': 2, 'min_samples_leaf': 2, 'max_features': 'log2', 'criterion': 'gini', 'n_estimators': 168, 'learning_rate': 0.25984594221357543}. Best is trial 113 with value: 0.6612064482579303.\n",
      "[I 2025-06-19 12:26:50,962] Trial 122 finished with value: 0.6508060322412896 and parameters: {'max_depth': 3, 'min_samples_split': 2, 'min_samples_leaf': 2, 'max_features': 'log2', 'criterion': 'gini', 'n_estimators': 171, 'learning_rate': 0.2793151492757277}. Best is trial 113 with value: 0.6612064482579303.\n",
      "[I 2025-06-19 12:26:52,036] Trial 123 finished with value: 0.6554862194487779 and parameters: {'max_depth': 5, 'min_samples_split': 2, 'min_samples_leaf': 2, 'max_features': 'log2', 'criterion': 'gini', 'n_estimators': 184, 'learning_rate': 0.2669074633537806}. Best is trial 113 with value: 0.6612064482579303.\n",
      "[I 2025-06-19 12:26:53,072] Trial 124 finished with value: 0.6539261570462819 and parameters: {'max_depth': 5, 'min_samples_split': 2, 'min_samples_leaf': 2, 'max_features': 'log2', 'criterion': 'gini', 'n_estimators': 175, 'learning_rate': 0.28730333279656484}. Best is trial 113 with value: 0.6612064482579303.\n",
      "[I 2025-06-19 12:26:54,513] Trial 125 finished with value: 0.6484659386375455 and parameters: {'max_depth': 3, 'min_samples_split': 2, 'min_samples_leaf': 2, 'max_features': 'log2', 'criterion': 'gini', 'n_estimators': 180, 'learning_rate': 0.271386237554516}. Best is trial 113 with value: 0.6612064482579303.\n",
      "[I 2025-06-19 12:26:55,418] Trial 126 finished with value: 0.655746229849194 and parameters: {'max_depth': 4, 'min_samples_split': 2, 'min_samples_leaf': 2, 'max_features': 'log2', 'criterion': 'gini', 'n_estimators': 166, 'learning_rate': 0.23020818923199693}. Best is trial 113 with value: 0.6612064482579303.\n",
      "[I 2025-06-19 12:26:56,470] Trial 127 finished with value: 0.6588663546541862 and parameters: {'max_depth': 6, 'min_samples_split': 3, 'min_samples_leaf': 2, 'max_features': 'sqrt', 'criterion': 'entropy', 'n_estimators': 170, 'learning_rate': 0.2627071171118947}. Best is trial 113 with value: 0.6612064482579303.\n",
      "[I 2025-06-19 12:26:57,341] Trial 128 finished with value: 0.6328653146125846 and parameters: {'max_depth': 2, 'min_samples_split': 2, 'min_samples_leaf': 2, 'max_features': 'sqrt', 'criterion': 'gini', 'n_estimators': 189, 'learning_rate': 0.2623634050999597}. Best is trial 113 with value: 0.6612064482579303.\n",
      "[I 2025-06-19 12:26:58,566] Trial 129 finished with value: 0.6552262090483619 and parameters: {'max_depth': 5, 'min_samples_split': 2, 'min_samples_leaf': 2, 'max_features': 'sqrt', 'criterion': 'gini', 'n_estimators': 192, 'learning_rate': 0.2491038897078767}. Best is trial 113 with value: 0.6612064482579303.\n",
      "[I 2025-06-19 12:26:59,480] Trial 130 finished with value: 0.6547061882475299 and parameters: {'max_depth': 4, 'min_samples_split': 3, 'min_samples_leaf': 2, 'max_features': 'sqrt', 'criterion': 'gini', 'n_estimators': 169, 'learning_rate': 0.27696313536703887}. Best is trial 113 with value: 0.6612064482579303.\n",
      "[I 2025-06-19 12:27:00,677] Trial 131 finished with value: 0.6502860114404576 and parameters: {'max_depth': 6, 'min_samples_split': 3, 'min_samples_leaf': 2, 'max_features': 'sqrt', 'criterion': 'entropy', 'n_estimators': 177, 'learning_rate': 0.2564898274532984}. Best is trial 113 with value: 0.6612064482579303.\n",
      "[I 2025-06-19 12:27:01,681] Trial 132 finished with value: 0.6575663026521061 and parameters: {'max_depth': 5, 'min_samples_split': 3, 'min_samples_leaf': 2, 'max_features': 'sqrt', 'criterion': 'entropy', 'n_estimators': 162, 'learning_rate': 0.29454033298923765}. Best is trial 113 with value: 0.6612064482579303.\n",
      "[I 2025-06-19 12:27:03,279] Trial 133 finished with value: 0.6526261050442018 and parameters: {'max_depth': 5, 'min_samples_split': 2, 'min_samples_leaf': 2, 'max_features': 'sqrt', 'criterion': 'entropy', 'n_estimators': 172, 'learning_rate': 0.2997465948713507}. Best is trial 113 with value: 0.6612064482579303.\n",
      "[I 2025-06-19 12:27:03,997] Trial 134 finished with value: 0.6474258970358814 and parameters: {'max_depth': 3, 'min_samples_split': 3, 'min_samples_leaf': 2, 'max_features': 'sqrt', 'criterion': 'entropy', 'n_estimators': 154, 'learning_rate': 0.29354288727029654}. Best is trial 113 with value: 0.6612064482579303.\n",
      "[I 2025-06-19 12:27:04,888] Trial 135 finished with value: 0.6588663546541862 and parameters: {'max_depth': 4, 'min_samples_split': 2, 'min_samples_leaf': 2, 'max_features': 'sqrt', 'criterion': 'entropy', 'n_estimators': 162, 'learning_rate': 0.2816606620729965}. Best is trial 113 with value: 0.6612064482579303.\n",
      "[I 2025-06-19 12:27:05,752] Trial 136 finished with value: 0.6604264170566823 and parameters: {'max_depth': 4, 'min_samples_split': 2, 'min_samples_leaf': 2, 'max_features': 'sqrt', 'criterion': 'entropy', 'n_estimators': 160, 'learning_rate': 0.2823266266291724}. Best is trial 113 with value: 0.6612064482579303.\n",
      "[I 2025-06-19 12:27:06,259] Trial 137 finished with value: 0.641185647425897 and parameters: {'max_depth': 4, 'min_samples_split': 2, 'min_samples_leaf': 2, 'max_features': 'sqrt', 'criterion': 'entropy', 'n_estimators': 51, 'learning_rate': 0.2701227071825763}. Best is trial 113 with value: 0.6612064482579303.\n",
      "[I 2025-06-19 12:27:07,156] Trial 138 finished with value: 0.6320852834113364 and parameters: {'max_depth': 2, 'min_samples_split': 2, 'min_samples_leaf': 2, 'max_features': 'sqrt', 'criterion': 'entropy', 'n_estimators': 185, 'learning_rate': 0.2839765860007557}. Best is trial 113 with value: 0.6612064482579303.\n",
      "[I 2025-06-19 12:27:08,002] Trial 139 finished with value: 0.641185647425897 and parameters: {'max_depth': 3, 'min_samples_split': 2, 'min_samples_leaf': 2, 'max_features': 'sqrt', 'criterion': 'entropy', 'n_estimators': 157, 'learning_rate': 0.2424871813932913}. Best is trial 113 with value: 0.6612064482579303.\n",
      "[I 2025-06-19 12:27:09,093] Trial 140 finished with value: 0.6448257930317213 and parameters: {'max_depth': 3, 'min_samples_split': 2, 'min_samples_leaf': 2, 'max_features': 'sqrt', 'criterion': 'entropy', 'n_estimators': 170, 'learning_rate': 0.2648054544713228}. Best is trial 113 with value: 0.6612064482579303.\n",
      "[I 2025-06-19 12:27:10,056] Trial 141 finished with value: 0.6531461258450338 and parameters: {'max_depth': 5, 'min_samples_split': 3, 'min_samples_leaf': 2, 'max_features': 'sqrt', 'criterion': 'entropy', 'n_estimators': 162, 'learning_rate': 0.27574295356052114}. Best is trial 113 with value: 0.6612064482579303.\n",
      "[I 2025-06-19 12:27:11,041] Trial 142 finished with value: 0.6547061882475299 and parameters: {'max_depth': 5, 'min_samples_split': 2, 'min_samples_leaf': 2, 'max_features': 'sqrt', 'criterion': 'entropy', 'n_estimators': 161, 'learning_rate': 0.29113137314294674}. Best is trial 113 with value: 0.6612064482579303.\n",
      "[I 2025-06-19 12:27:11,975] Trial 143 finished with value: 0.6612064482579303 and parameters: {'max_depth': 4, 'min_samples_split': 2, 'min_samples_leaf': 2, 'max_features': 'sqrt', 'criterion': 'entropy', 'n_estimators': 166, 'learning_rate': 0.2823988102749451}. Best is trial 113 with value: 0.6612064482579303.\n",
      "[I 2025-06-19 12:27:13,344] Trial 144 finished with value: 0.6578263130525221 and parameters: {'max_depth': 4, 'min_samples_split': 2, 'min_samples_leaf': 2, 'max_features': 'sqrt', 'criterion': 'entropy', 'n_estimators': 176, 'learning_rate': 0.28129200281061223}. Best is trial 113 with value: 0.6612064482579303.\n",
      "[I 2025-06-19 12:27:14,450] Trial 145 finished with value: 0.6544461778471139 and parameters: {'max_depth': 4, 'min_samples_split': 2, 'min_samples_leaf': 2, 'max_features': 'sqrt', 'criterion': 'entropy', 'n_estimators': 167, 'learning_rate': 0.28307233601489584}. Best is trial 113 with value: 0.6612064482579303.\n",
      "[I 2025-06-19 12:27:15,596] Trial 146 finished with value: 0.6521060842433697 and parameters: {'max_depth': 6, 'min_samples_split': 2, 'min_samples_leaf': 2, 'max_features': 'sqrt', 'criterion': 'entropy', 'n_estimators': 177, 'learning_rate': 0.25924853632801437}. Best is trial 113 with value: 0.6612064482579303.\n",
      "[I 2025-06-19 12:27:16,449] Trial 147 finished with value: 0.6476859074362975 and parameters: {'max_depth': 3, 'min_samples_split': 2, 'min_samples_leaf': 2, 'max_features': 'sqrt', 'criterion': 'entropy', 'n_estimators': 181, 'learning_rate': 0.26790652834716844}. Best is trial 113 with value: 0.6612064482579303.\n",
      "[I 2025-06-19 12:27:19,644] Trial 148 finished with value: 0.6268850754030161 and parameters: {'max_depth': 20, 'min_samples_split': 2, 'min_samples_leaf': 2, 'max_features': 'sqrt', 'criterion': 'entropy', 'n_estimators': 159, 'learning_rate': 0.27980542548582293}. Best is trial 113 with value: 0.6612064482579303.\n",
      "[I 2025-06-19 12:27:20,774] Trial 149 finished with value: 0.6614664586583463 and parameters: {'max_depth': 4, 'min_samples_split': 2, 'min_samples_leaf': 1, 'max_features': 'sqrt', 'criterion': 'entropy', 'n_estimators': 172, 'learning_rate': 0.2522301980729235}. Best is trial 149 with value: 0.6614664586583463.\n",
      "[I 2025-06-19 12:27:20,778] A new study created in memory with name: NaiveBayes - Adult Income Prediction\n",
      "[I 2025-06-19 12:27:20,885] Trial 0 finished with value: 0.9238169526781072 and parameters: {'var_smoothing': 8.86411867523322e-07}. Best is trial 0 with value: 0.9238169526781072.\n",
      "[I 2025-06-19 12:27:20,973] Trial 1 finished with value: 0.9459178367134685 and parameters: {'var_smoothing': 8.641666116015394e-10}. Best is trial 1 with value: 0.9459178367134685.\n"
     ]
    },
    {
     "name": "stdout",
     "output_type": "stream",
     "text": [
      "XGBoosting Best hyperparameters:  {'max_depth': 4, 'min_samples_split': 2, 'min_samples_leaf': 1, 'max_features': 'sqrt', 'criterion': 'entropy', 'n_estimators': 172, 'learning_rate': 0.2522301980729235}\n"
     ]
    },
    {
     "name": "stderr",
     "output_type": "stream",
     "text": [
      "[I 2025-06-19 12:27:21,067] Trial 2 finished with value: 0.9461778471138845 and parameters: {'var_smoothing': 4.924793586006064e-10}. Best is trial 2 with value: 0.9461778471138845.\n",
      "[I 2025-06-19 12:27:21,161] Trial 3 finished with value: 0.9482579303172127 and parameters: {'var_smoothing': 1.1119553877230457e-10}. Best is trial 3 with value: 0.9482579303172127.\n",
      "[I 2025-06-19 12:27:21,257] Trial 4 finished with value: 0.9342173686947478 and parameters: {'var_smoothing': 1.5886044525264525e-08}. Best is trial 3 with value: 0.9482579303172127.\n",
      "[I 2025-06-19 12:27:21,346] Trial 5 finished with value: 0.9401976079043162 and parameters: {'var_smoothing': 3.220690073263931e-09}. Best is trial 3 with value: 0.9482579303172127.\n",
      "[I 2025-06-19 12:27:21,434] Trial 6 finished with value: 0.9300572022880915 and parameters: {'var_smoothing': 1.7155341955594755e-07}. Best is trial 3 with value: 0.9482579303172127.\n",
      "[I 2025-06-19 12:27:21,524] Trial 7 finished with value: 0.9503380135205408 and parameters: {'var_smoothing': 1.5046675146767792e-11}. Best is trial 7 with value: 0.9503380135205408.\n",
      "[I 2025-06-19 12:27:21,619] Trial 8 finished with value: 0.9238169526781072 and parameters: {'var_smoothing': 8.977283198010251e-07}. Best is trial 7 with value: 0.9503380135205408.\n",
      "[I 2025-06-19 12:27:21,715] Trial 9 finished with value: 0.9453978159126365 and parameters: {'var_smoothing': 1.1724336695495467e-09}. Best is trial 7 with value: 0.9503380135205408.\n",
      "[I 2025-06-19 12:27:21,820] Trial 10 finished with value: 0.9495579823192928 and parameters: {'var_smoothing': 2.7085671370510994e-11}. Best is trial 7 with value: 0.9503380135205408.\n",
      "[I 2025-06-19 12:27:21,917] Trial 11 finished with value: 0.9503380135205408 and parameters: {'var_smoothing': 1.6238706088671726e-11}. Best is trial 7 with value: 0.9503380135205408.\n",
      "[I 2025-06-19 12:27:22,010] Trial 12 finished with value: 0.9505980239209568 and parameters: {'var_smoothing': 1.1721237096040764e-11}. Best is trial 12 with value: 0.9505980239209568.\n",
      "[I 2025-06-19 12:27:22,106] Trial 13 finished with value: 0.9505980239209568 and parameters: {'var_smoothing': 1.130809266680068e-11}. Best is trial 12 with value: 0.9505980239209568.\n",
      "[I 2025-06-19 12:27:22,202] Trial 14 finished with value: 0.9482579303172127 and parameters: {'var_smoothing': 1.0726313888673216e-10}. Best is trial 12 with value: 0.9505980239209568.\n",
      "[I 2025-06-19 12:27:22,297] Trial 15 finished with value: 0.9485179407176287 and parameters: {'var_smoothing': 7.79683320496624e-11}. Best is trial 12 with value: 0.9505980239209568.\n",
      "[I 2025-06-19 12:27:22,393] Trial 16 finished with value: 0.9355174206968279 and parameters: {'var_smoothing': 1.1532918008197881e-08}. Best is trial 12 with value: 0.9505980239209568.\n",
      "[I 2025-06-19 12:27:22,491] Trial 17 finished with value: 0.9472178887155486 and parameters: {'var_smoothing': 2.737776300313682e-10}. Best is trial 12 with value: 0.9505980239209568.\n",
      "[I 2025-06-19 12:27:22,591] Trial 18 finished with value: 0.9505980239209568 and parameters: {'var_smoothing': 1.1443421684179011e-11}. Best is trial 12 with value: 0.9505980239209568.\n",
      "[I 2025-06-19 12:27:22,689] Trial 19 finished with value: 0.9492979719188768 and parameters: {'var_smoothing': 4.530598129304362e-11}. Best is trial 12 with value: 0.9505980239209568.\n",
      "[I 2025-06-19 12:27:22,784] Trial 20 finished with value: 0.9477379095163807 and parameters: {'var_smoothing': 1.723465797294822e-10}. Best is trial 12 with value: 0.9505980239209568.\n",
      "[I 2025-06-19 12:27:22,879] Trial 21 finished with value: 0.9503380135205408 and parameters: {'var_smoothing': 1.741209816460388e-11}. Best is trial 12 with value: 0.9505980239209568.\n",
      "[I 2025-06-19 12:27:22,976] Trial 22 finished with value: 0.9492979719188768 and parameters: {'var_smoothing': 4.02306484261969e-11}. Best is trial 12 with value: 0.9505980239209568.\n",
      "[I 2025-06-19 12:27:23,073] Trial 23 finished with value: 0.9505980239209568 and parameters: {'var_smoothing': 1.188358348907274e-11}. Best is trial 12 with value: 0.9505980239209568.\n",
      "[I 2025-06-19 12:27:23,167] Trial 24 finished with value: 0.9511180447217888 and parameters: {'var_smoothing': 1.0164261249937562e-11}. Best is trial 24 with value: 0.9511180447217888.\n",
      "[I 2025-06-19 12:27:23,262] Trial 25 finished with value: 0.9490379615184608 and parameters: {'var_smoothing': 4.89169100610249e-11}. Best is trial 24 with value: 0.9511180447217888.\n",
      "[I 2025-06-19 12:27:23,362] Trial 26 finished with value: 0.9464378575143005 and parameters: {'var_smoothing': 3.589096797194231e-10}. Best is trial 24 with value: 0.9511180447217888.\n",
      "[I 2025-06-19 12:27:23,465] Trial 27 finished with value: 0.9492979719188768 and parameters: {'var_smoothing': 3.122921644019742e-11}. Best is trial 24 with value: 0.9511180447217888.\n",
      "[I 2025-06-19 12:27:23,566] Trial 28 finished with value: 0.9368174726989079 and parameters: {'var_smoothing': 4.638988466596307e-09}. Best is trial 24 with value: 0.9511180447217888.\n",
      "[I 2025-06-19 12:27:23,673] Trial 29 finished with value: 0.9485179407176287 and parameters: {'var_smoothing': 6.758575417792902e-11}. Best is trial 24 with value: 0.9511180447217888.\n",
      "[I 2025-06-19 12:27:23,773] Trial 30 finished with value: 0.9308372334893396 and parameters: {'var_smoothing': 1.4102458277743254e-07}. Best is trial 24 with value: 0.9511180447217888.\n",
      "[I 2025-06-19 12:27:23,874] Trial 31 finished with value: 0.9505980239209568 and parameters: {'var_smoothing': 1.1081201170755363e-11}. Best is trial 24 with value: 0.9511180447217888.\n",
      "[I 2025-06-19 12:27:23,975] Trial 32 finished with value: 0.9508580343213728 and parameters: {'var_smoothing': 1.0409860025358423e-11}. Best is trial 24 with value: 0.9511180447217888.\n",
      "[I 2025-06-19 12:27:24,073] Trial 33 finished with value: 0.9492979719188768 and parameters: {'var_smoothing': 3.1344078971362155e-11}. Best is trial 24 with value: 0.9511180447217888.\n",
      "[I 2025-06-19 12:27:24,174] Trial 34 finished with value: 0.9479979199167967 and parameters: {'var_smoothing': 1.4556830301020713e-10}. Best is trial 24 with value: 0.9511180447217888.\n",
      "[I 2025-06-19 12:27:24,269] Trial 35 finished with value: 0.9459178367134685 and parameters: {'var_smoothing': 9.024464110883585e-10}. Best is trial 24 with value: 0.9511180447217888.\n",
      "[I 2025-06-19 12:27:24,368] Trial 36 finished with value: 0.9495579823192928 and parameters: {'var_smoothing': 2.608917261939929e-11}. Best is trial 24 with value: 0.9511180447217888.\n",
      "[I 2025-06-19 12:27:24,470] Trial 37 finished with value: 0.9323972958918356 and parameters: {'var_smoothing': 9.070594190136698e-08}. Best is trial 24 with value: 0.9511180447217888.\n",
      "[I 2025-06-19 12:27:24,565] Trial 38 finished with value: 0.9498179927197088 and parameters: {'var_smoothing': 2.1884203428754177e-11}. Best is trial 24 with value: 0.9511180447217888.\n",
      "[I 2025-06-19 12:27:24,663] Trial 39 finished with value: 0.9485179407176287 and parameters: {'var_smoothing': 7.516550939117894e-11}. Best is trial 24 with value: 0.9511180447217888.\n",
      "[I 2025-06-19 12:27:24,757] Trial 40 finished with value: 0.9282371294851794 and parameters: {'var_smoothing': 3.6368613264012016e-07}. Best is trial 24 with value: 0.9511180447217888.\n",
      "[I 2025-06-19 12:27:24,852] Trial 41 finished with value: 0.9505980239209568 and parameters: {'var_smoothing': 1.0519528962849471e-11}. Best is trial 24 with value: 0.9511180447217888.\n",
      "[I 2025-06-19 12:27:24,946] Trial 42 finished with value: 0.9503380135205408 and parameters: {'var_smoothing': 2.069573465820672e-11}. Best is trial 24 with value: 0.9511180447217888.\n",
      "[I 2025-06-19 12:27:25,042] Trial 43 finished with value: 0.9508580343213728 and parameters: {'var_smoothing': 1.050137405517743e-11}. Best is trial 24 with value: 0.9511180447217888.\n",
      "[I 2025-06-19 12:27:25,140] Trial 44 finished with value: 0.9503380135205408 and parameters: {'var_smoothing': 1.8950344477392228e-11}. Best is trial 24 with value: 0.9511180447217888.\n",
      "[I 2025-06-19 12:27:25,236] Trial 45 finished with value: 0.9487779511180447 and parameters: {'var_smoothing': 5.918135751833717e-11}. Best is trial 24 with value: 0.9511180447217888.\n",
      "[I 2025-06-19 12:27:25,331] Trial 46 finished with value: 0.9451378055122205 and parameters: {'var_smoothing': 1.5686197729555384e-09}. Best is trial 24 with value: 0.9511180447217888.\n",
      "[I 2025-06-19 12:27:25,429] Trial 47 finished with value: 0.9511180447217888 and parameters: {'var_smoothing': 1.0046279927147357e-11}. Best is trial 24 with value: 0.9511180447217888.\n",
      "[I 2025-06-19 12:27:25,525] Trial 48 finished with value: 0.9482579303172127 and parameters: {'var_smoothing': 1.0924804227149354e-10}. Best is trial 24 with value: 0.9511180447217888.\n",
      "[I 2025-06-19 12:27:25,620] Trial 49 finished with value: 0.9331773270930838 and parameters: {'var_smoothing': 3.1621235281856554e-08}. Best is trial 24 with value: 0.9511180447217888.\n",
      "[I 2025-06-19 12:27:25,716] Trial 50 finished with value: 0.9477379095163807 and parameters: {'var_smoothing': 2.220786045021195e-10}. Best is trial 24 with value: 0.9511180447217888.\n",
      "[I 2025-06-19 12:27:25,811] Trial 51 finished with value: 0.9508580343213728 and parameters: {'var_smoothing': 1.026276945604191e-11}. Best is trial 24 with value: 0.9511180447217888.\n",
      "[I 2025-06-19 12:27:25,908] Trial 52 finished with value: 0.9503380135205408 and parameters: {'var_smoothing': 1.6731960196251477e-11}. Best is trial 24 with value: 0.9511180447217888.\n",
      "[I 2025-06-19 12:27:26,005] Trial 53 finished with value: 0.9492979719188768 and parameters: {'var_smoothing': 3.738584315722864e-11}. Best is trial 24 with value: 0.9511180447217888.\n",
      "[I 2025-06-19 12:27:26,102] Trial 54 finished with value: 0.9508580343213728 and parameters: {'var_smoothing': 1.0335563393916287e-11}. Best is trial 24 with value: 0.9511180447217888.\n",
      "[I 2025-06-19 12:27:26,202] Trial 55 finished with value: 0.9495579823192928 and parameters: {'var_smoothing': 2.7119413835656364e-11}. Best is trial 24 with value: 0.9511180447217888.\n",
      "[I 2025-06-19 12:27:26,303] Trial 56 finished with value: 0.9503380135205408 and parameters: {'var_smoothing': 1.5574707843037204e-11}. Best is trial 24 with value: 0.9511180447217888.\n",
      "[I 2025-06-19 12:27:26,398] Trial 57 finished with value: 0.9492979719188768 and parameters: {'var_smoothing': 4.274501558560042e-11}. Best is trial 24 with value: 0.9511180447217888.\n",
      "[I 2025-06-19 12:27:26,492] Trial 58 finished with value: 0.9505980239209568 and parameters: {'var_smoothing': 1.0965746640701996e-11}. Best is trial 24 with value: 0.9511180447217888.\n",
      "[I 2025-06-19 12:27:26,588] Trial 59 finished with value: 0.9498179927197088 and parameters: {'var_smoothing': 2.165779235243879e-11}. Best is trial 24 with value: 0.9511180447217888.\n",
      "[I 2025-06-19 12:27:26,686] Trial 60 finished with value: 0.9503380135205408 and parameters: {'var_smoothing': 1.4216772925061855e-11}. Best is trial 24 with value: 0.9511180447217888.\n",
      "[I 2025-06-19 12:27:26,782] Trial 61 finished with value: 0.9503380135205408 and parameters: {'var_smoothing': 1.465118640115595e-11}. Best is trial 24 with value: 0.9511180447217888.\n",
      "[I 2025-06-19 12:27:26,877] Trial 62 finished with value: 0.9505980239209568 and parameters: {'var_smoothing': 1.0531131037924203e-11}. Best is trial 24 with value: 0.9511180447217888.\n",
      "[I 2025-06-19 12:27:26,972] Trial 63 finished with value: 0.9495579823192928 and parameters: {'var_smoothing': 2.9379872806826615e-11}. Best is trial 24 with value: 0.9511180447217888.\n",
      "[I 2025-06-19 12:27:27,067] Trial 64 finished with value: 0.9511180447217888 and parameters: {'var_smoothing': 1.0014574236612418e-11}. Best is trial 24 with value: 0.9511180447217888.\n",
      "[I 2025-06-19 12:27:27,160] Trial 65 finished with value: 0.9490379615184608 and parameters: {'var_smoothing': 5.4367669696393645e-11}. Best is trial 24 with value: 0.9511180447217888.\n",
      "[I 2025-06-19 12:27:27,255] Trial 66 finished with value: 0.9511180447217888 and parameters: {'var_smoothing': 1.0012406994739318e-11}. Best is trial 24 with value: 0.9511180447217888.\n",
      "[I 2025-06-19 12:27:27,348] Trial 67 finished with value: 0.9498179927197088 and parameters: {'var_smoothing': 2.3100110167418198e-11}. Best is trial 24 with value: 0.9511180447217888.\n",
      "[I 2025-06-19 12:27:27,447] Trial 68 finished with value: 0.9503380135205408 and parameters: {'var_smoothing': 1.679283019324106e-11}. Best is trial 24 with value: 0.9511180447217888.\n",
      "[I 2025-06-19 12:27:27,543] Trial 69 finished with value: 0.9492979719188768 and parameters: {'var_smoothing': 3.736396222250863e-11}. Best is trial 24 with value: 0.9511180447217888.\n",
      "[I 2025-06-19 12:27:27,646] Trial 70 finished with value: 0.9482579303172127 and parameters: {'var_smoothing': 9.574021243888518e-11}. Best is trial 24 with value: 0.9511180447217888.\n",
      "[I 2025-06-19 12:27:27,743] Trial 71 finished with value: 0.9505980239209568 and parameters: {'var_smoothing': 1.0553755949076524e-11}. Best is trial 24 with value: 0.9511180447217888.\n",
      "[I 2025-06-19 12:27:27,837] Trial 72 finished with value: 0.9503380135205408 and parameters: {'var_smoothing': 1.9865897187083996e-11}. Best is trial 24 with value: 0.9511180447217888.\n",
      "[I 2025-06-19 12:27:27,933] Trial 73 finished with value: 0.9503380135205408 and parameters: {'var_smoothing': 1.491251144969572e-11}. Best is trial 24 with value: 0.9511180447217888.\n",
      "[I 2025-06-19 12:27:28,032] Trial 74 finished with value: 0.9492979719188768 and parameters: {'var_smoothing': 3.0145595176069966e-11}. Best is trial 24 with value: 0.9511180447217888.\n",
      "[I 2025-06-19 12:27:28,130] Trial 75 finished with value: 0.9511180447217888 and parameters: {'var_smoothing': 1.0065513089804594e-11}. Best is trial 24 with value: 0.9511180447217888.\n",
      "[I 2025-06-19 12:27:28,228] Trial 76 finished with value: 0.9461778471138845 and parameters: {'var_smoothing': 5.030888417993289e-10}. Best is trial 24 with value: 0.9511180447217888.\n",
      "[I 2025-06-19 12:27:28,325] Trial 77 finished with value: 0.9503380135205408 and parameters: {'var_smoothing': 1.4228383231722172e-11}. Best is trial 24 with value: 0.9511180447217888.\n",
      "[I 2025-06-19 12:27:28,420] Trial 78 finished with value: 0.9498179927197088 and parameters: {'var_smoothing': 2.5087110723667987e-11}. Best is trial 24 with value: 0.9511180447217888.\n",
      "[I 2025-06-19 12:27:28,513] Trial 79 finished with value: 0.9490379615184608 and parameters: {'var_smoothing': 4.924636909323198e-11}. Best is trial 24 with value: 0.9511180447217888.\n",
      "[I 2025-06-19 12:27:28,607] Trial 80 finished with value: 0.9503380135205408 and parameters: {'var_smoothing': 1.4308451802641307e-11}. Best is trial 24 with value: 0.9511180447217888.\n",
      "[I 2025-06-19 12:27:28,705] Trial 81 finished with value: 0.9505980239209568 and parameters: {'var_smoothing': 1.0570772702171222e-11}. Best is trial 24 with value: 0.9511180447217888.\n",
      "[I 2025-06-19 12:27:28,802] Trial 82 finished with value: 0.9503380135205408 and parameters: {'var_smoothing': 1.9049319618142077e-11}. Best is trial 24 with value: 0.9511180447217888.\n",
      "[I 2025-06-19 12:27:28,896] Trial 83 finished with value: 0.9511180447217888 and parameters: {'var_smoothing': 1.0195106276031597e-11}. Best is trial 24 with value: 0.9511180447217888.\n",
      "[I 2025-06-19 12:27:28,990] Trial 84 finished with value: 0.9503380135205408 and parameters: {'var_smoothing': 1.4391293961165128e-11}. Best is trial 24 with value: 0.9511180447217888.\n",
      "[I 2025-06-19 12:27:29,085] Trial 85 finished with value: 0.9357774310972439 and parameters: {'var_smoothing': 8.855158336508379e-09}. Best is trial 24 with value: 0.9511180447217888.\n",
      "[I 2025-06-19 12:27:29,181] Trial 86 finished with value: 0.9498179927197088 and parameters: {'var_smoothing': 2.266540909795687e-11}. Best is trial 24 with value: 0.9511180447217888.\n",
      "[I 2025-06-19 12:27:29,281] Trial 87 finished with value: 0.9492979719188768 and parameters: {'var_smoothing': 3.6810201983886793e-11}. Best is trial 24 with value: 0.9511180447217888.\n",
      "[I 2025-06-19 12:27:29,375] Trial 88 finished with value: 0.9505980239209568 and parameters: {'var_smoothing': 1.292236756709234e-11}. Best is trial 24 with value: 0.9511180447217888.\n",
      "[I 2025-06-19 12:27:29,474] Trial 89 finished with value: 0.9503380135205408 and parameters: {'var_smoothing': 1.8999753347699786e-11}. Best is trial 24 with value: 0.9511180447217888.\n",
      "[I 2025-06-19 12:27:29,569] Trial 90 finished with value: 0.9492979719188768 and parameters: {'var_smoothing': 2.990718097602544e-11}. Best is trial 24 with value: 0.9511180447217888.\n",
      "[I 2025-06-19 12:27:29,661] Trial 91 finished with value: 0.9508580343213728 and parameters: {'var_smoothing': 1.0445132539992638e-11}. Best is trial 24 with value: 0.9511180447217888.\n",
      "[I 2025-06-19 12:27:29,769] Trial 92 finished with value: 0.9505980239209568 and parameters: {'var_smoothing': 1.3081811259943992e-11}. Best is trial 24 with value: 0.9511180447217888.\n",
      "[I 2025-06-19 12:27:29,874] Trial 93 finished with value: 0.9503380135205408 and parameters: {'var_smoothing': 1.82852365056548e-11}. Best is trial 24 with value: 0.9511180447217888.\n",
      "[I 2025-06-19 12:27:29,981] Trial 94 finished with value: 0.9508580343213728 and parameters: {'var_smoothing': 1.0517933686387324e-11}. Best is trial 24 with value: 0.9511180447217888.\n",
      "[I 2025-06-19 12:27:30,079] Trial 95 finished with value: 0.9258970358814352 and parameters: {'var_smoothing': 5.961657542228014e-07}. Best is trial 24 with value: 0.9511180447217888.\n",
      "[I 2025-06-19 12:27:30,176] Trial 96 finished with value: 0.9498179927197088 and parameters: {'var_smoothing': 2.3008849891333475e-11}. Best is trial 24 with value: 0.9511180447217888.\n",
      "[I 2025-06-19 12:27:30,272] Trial 97 finished with value: 0.9511180447217888 and parameters: {'var_smoothing': 1.0117676815587444e-11}. Best is trial 24 with value: 0.9511180447217888.\n",
      "[I 2025-06-19 12:27:30,367] Trial 98 finished with value: 0.9443577743109725 and parameters: {'var_smoothing': 1.8358617703916917e-09}. Best is trial 24 with value: 0.9511180447217888.\n",
      "[I 2025-06-19 12:27:30,464] Trial 99 finished with value: 0.9503380135205408 and parameters: {'var_smoothing': 1.6516711472352412e-11}. Best is trial 24 with value: 0.9511180447217888.\n",
      "[I 2025-06-19 12:27:30,563] Trial 100 finished with value: 0.9485179407176287 and parameters: {'var_smoothing': 6.898520645147268e-11}. Best is trial 24 with value: 0.9511180447217888.\n",
      "[I 2025-06-19 12:27:30,661] Trial 101 finished with value: 0.9505980239209568 and parameters: {'var_smoothing': 1.2587270940453189e-11}. Best is trial 24 with value: 0.9511180447217888.\n",
      "[I 2025-06-19 12:27:30,760] Trial 102 finished with value: 0.9503380135205408 and parameters: {'var_smoothing': 1.361861541365636e-11}. Best is trial 24 with value: 0.9511180447217888.\n",
      "[I 2025-06-19 12:27:30,854] Trial 103 finished with value: 0.9329173166926678 and parameters: {'var_smoothing': 4.296612319327608e-08}. Best is trial 24 with value: 0.9511180447217888.\n",
      "[I 2025-06-19 12:27:30,952] Trial 104 finished with value: 0.9495579823192928 and parameters: {'var_smoothing': 2.6580523455834435e-11}. Best is trial 24 with value: 0.9511180447217888.\n",
      "[I 2025-06-19 12:27:31,047] Trial 105 finished with value: 0.9492979719188768 and parameters: {'var_smoothing': 3.5324965105087103e-11}. Best is trial 24 with value: 0.9511180447217888.\n",
      "[I 2025-06-19 12:27:31,146] Trial 106 finished with value: 0.9508580343213728 and parameters: {'var_smoothing': 1.0399240227398128e-11}. Best is trial 24 with value: 0.9511180447217888.\n",
      "[I 2025-06-19 12:27:31,244] Trial 107 finished with value: 0.9503380135205408 and parameters: {'var_smoothing': 1.7920361780341562e-11}. Best is trial 24 with value: 0.9511180447217888.\n",
      "[I 2025-06-19 12:27:31,342] Trial 108 finished with value: 0.9505980239209568 and parameters: {'var_smoothing': 1.2575826599692503e-11}. Best is trial 24 with value: 0.9511180447217888.\n",
      "[I 2025-06-19 12:27:31,438] Trial 109 finished with value: 0.9511180447217888 and parameters: {'var_smoothing': 1.0092073394348851e-11}. Best is trial 24 with value: 0.9511180447217888.\n",
      "[I 2025-06-19 12:27:31,537] Trial 110 finished with value: 0.9498179927197088 and parameters: {'var_smoothing': 2.3312185164339413e-11}. Best is trial 24 with value: 0.9511180447217888.\n",
      "[I 2025-06-19 12:27:31,633] Trial 111 finished with value: 0.9503380135205408 and parameters: {'var_smoothing': 1.6400681870979644e-11}. Best is trial 24 with value: 0.9511180447217888.\n",
      "[I 2025-06-19 12:27:31,735] Trial 112 finished with value: 0.9511180447217888 and parameters: {'var_smoothing': 1.0187908255848502e-11}. Best is trial 24 with value: 0.9511180447217888.\n",
      "[I 2025-06-19 12:27:31,832] Trial 113 finished with value: 0.9511180447217888 and parameters: {'var_smoothing': 1.0071669219228913e-11}. Best is trial 24 with value: 0.9511180447217888.\n",
      "[I 2025-06-19 12:27:31,931] Trial 114 finished with value: 0.9505980239209568 and parameters: {'var_smoothing': 1.3103323111479179e-11}. Best is trial 24 with value: 0.9511180447217888.\n",
      "[I 2025-06-19 12:27:32,026] Trial 115 finished with value: 0.9503380135205408 and parameters: {'var_smoothing': 1.9353679032863295e-11}. Best is trial 24 with value: 0.9511180447217888.\n",
      "[I 2025-06-19 12:27:32,130] Trial 116 finished with value: 0.9511180447217888 and parameters: {'var_smoothing': 1.0127064465680915e-11}. Best is trial 24 with value: 0.9511180447217888.\n",
      "[I 2025-06-19 12:27:32,231] Trial 117 finished with value: 0.9503380135205408 and parameters: {'var_smoothing': 1.6114294152419996e-11}. Best is trial 24 with value: 0.9511180447217888.\n",
      "[I 2025-06-19 12:27:32,327] Trial 118 finished with value: 0.9505980239209568 and parameters: {'var_smoothing': 1.3143666959947218e-11}. Best is trial 24 with value: 0.9511180447217888.\n",
      "[I 2025-06-19 12:27:32,423] Trial 119 finished with value: 0.9511180447217888 and parameters: {'var_smoothing': 1.0123494690563284e-11}. Best is trial 24 with value: 0.9511180447217888.\n",
      "[I 2025-06-19 12:27:32,517] Trial 120 finished with value: 0.9495579823192928 and parameters: {'var_smoothing': 2.6045489073648695e-11}. Best is trial 24 with value: 0.9511180447217888.\n",
      "[I 2025-06-19 12:27:32,614] Trial 121 finished with value: 0.9505980239209568 and parameters: {'var_smoothing': 1.2367529001165037e-11}. Best is trial 24 with value: 0.9511180447217888.\n",
      "[I 2025-06-19 12:27:32,713] Trial 122 finished with value: 0.9511180447217888 and parameters: {'var_smoothing': 1.0049783759097578e-11}. Best is trial 24 with value: 0.9511180447217888.\n",
      "[I 2025-06-19 12:27:32,818] Trial 123 finished with value: 0.9503380135205408 and parameters: {'var_smoothing': 1.653199198266993e-11}. Best is trial 24 with value: 0.9511180447217888.\n",
      "[I 2025-06-19 12:27:32,914] Trial 124 finished with value: 0.9503380135205408 and parameters: {'var_smoothing': 2.007252256849941e-11}. Best is trial 24 with value: 0.9511180447217888.\n",
      "[I 2025-06-19 12:27:33,009] Trial 125 finished with value: 0.9511180447217888 and parameters: {'var_smoothing': 1.0009689427169202e-11}. Best is trial 24 with value: 0.9511180447217888.\n",
      "[I 2025-06-19 12:27:33,104] Trial 126 finished with value: 0.9503380135205408 and parameters: {'var_smoothing': 1.4787643570649617e-11}. Best is trial 24 with value: 0.9511180447217888.\n",
      "[I 2025-06-19 12:27:33,210] Trial 127 finished with value: 0.9505980239209568 and parameters: {'var_smoothing': 1.2643666479255943e-11}. Best is trial 24 with value: 0.9511180447217888.\n",
      "[I 2025-06-19 12:27:33,303] Trial 128 finished with value: 0.9503380135205408 and parameters: {'var_smoothing': 2.1076135666904405e-11}. Best is trial 24 with value: 0.9511180447217888.\n",
      "[I 2025-06-19 12:27:33,398] Trial 129 finished with value: 0.9492979719188768 and parameters: {'var_smoothing': 3.225756846631812e-11}. Best is trial 24 with value: 0.9511180447217888.\n",
      "[I 2025-06-19 12:27:33,499] Trial 130 finished with value: 0.9508580343213728 and parameters: {'var_smoothing': 1.0325975938425286e-11}. Best is trial 24 with value: 0.9511180447217888.\n",
      "[I 2025-06-19 12:27:33,595] Trial 131 finished with value: 0.9503380135205408 and parameters: {'var_smoothing': 1.565473946817531e-11}. Best is trial 24 with value: 0.9511180447217888.\n",
      "[I 2025-06-19 12:27:33,690] Trial 132 finished with value: 0.9511180447217888 and parameters: {'var_smoothing': 1.0160432350182646e-11}. Best is trial 24 with value: 0.9511180447217888.\n",
      "[I 2025-06-19 12:27:33,786] Trial 133 finished with value: 0.9511180447217888 and parameters: {'var_smoothing': 1.0081238394615994e-11}. Best is trial 24 with value: 0.9511180447217888.\n",
      "[I 2025-06-19 12:27:33,883] Trial 134 finished with value: 0.9505980239209568 and parameters: {'var_smoothing': 1.290461687300274e-11}. Best is trial 24 with value: 0.9511180447217888.\n",
      "[I 2025-06-19 12:27:33,982] Trial 135 finished with value: 0.9503380135205408 and parameters: {'var_smoothing': 1.7852552375362605e-11}. Best is trial 24 with value: 0.9511180447217888.\n",
      "[I 2025-06-19 12:27:34,080] Trial 136 finished with value: 0.9511180447217888 and parameters: {'var_smoothing': 1.0087570193023616e-11}. Best is trial 24 with value: 0.9511180447217888.\n",
      "[I 2025-06-19 12:27:34,176] Trial 137 finished with value: 0.9498179927197088 and parameters: {'var_smoothing': 2.3315290157969792e-11}. Best is trial 24 with value: 0.9511180447217888.\n",
      "[I 2025-06-19 12:27:34,272] Trial 138 finished with value: 0.9503380135205408 and parameters: {'var_smoothing': 1.3455682963523292e-11}. Best is trial 24 with value: 0.9511180447217888.\n",
      "[I 2025-06-19 12:27:34,369] Trial 139 finished with value: 0.9503380135205408 and parameters: {'var_smoothing': 1.5828444743715044e-11}. Best is trial 24 with value: 0.9511180447217888.\n",
      "[I 2025-06-19 12:27:34,464] Trial 140 finished with value: 0.9495579823192928 and parameters: {'var_smoothing': 2.7985243797753416e-11}. Best is trial 24 with value: 0.9511180447217888.\n",
      "[I 2025-06-19 12:27:34,559] Trial 141 finished with value: 0.9511180447217888 and parameters: {'var_smoothing': 1.0027585944716339e-11}. Best is trial 24 with value: 0.9511180447217888.\n",
      "[I 2025-06-19 12:27:34,656] Trial 142 finished with value: 0.9505980239209568 and parameters: {'var_smoothing': 1.2823088132251442e-11}. Best is trial 24 with value: 0.9511180447217888.\n",
      "[I 2025-06-19 12:27:34,753] Trial 143 finished with value: 0.9503380135205408 and parameters: {'var_smoothing': 1.9215038311514362e-11}. Best is trial 24 with value: 0.9511180447217888.\n",
      "[I 2025-06-19 12:27:34,850] Trial 144 finished with value: 0.9511180447217888 and parameters: {'var_smoothing': 1.0007245789668064e-11}. Best is trial 24 with value: 0.9511180447217888.\n",
      "[I 2025-06-19 12:27:34,946] Trial 145 finished with value: 0.9505980239209568 and parameters: {'var_smoothing': 1.2711925131959408e-11}. Best is trial 24 with value: 0.9511180447217888.\n",
      "[I 2025-06-19 12:27:35,042] Trial 146 finished with value: 0.9503380135205408 and parameters: {'var_smoothing': 1.6102419852361863e-11}. Best is trial 24 with value: 0.9511180447217888.\n",
      "[I 2025-06-19 12:27:35,138] Trial 147 finished with value: 0.9461778471138845 and parameters: {'var_smoothing': 4.807824526499378e-10}. Best is trial 24 with value: 0.9511180447217888.\n",
      "[I 2025-06-19 12:27:35,236] Trial 148 finished with value: 0.9505980239209568 and parameters: {'var_smoothing': 1.2574280528291707e-11}. Best is trial 24 with value: 0.9511180447217888.\n",
      "[I 2025-06-19 12:27:35,331] Trial 149 finished with value: 0.9498179927197088 and parameters: {'var_smoothing': 2.224344700092896e-11}. Best is trial 24 with value: 0.9511180447217888.\n"
     ]
    },
    {
     "name": "stdout",
     "output_type": "stream",
     "text": [
      "NaiveBayes Best hyperparameters:  {'var_smoothing': 1.0164261249937562e-11}\n"
     ]
    }
   ],
   "execution_count": 35
  },
  {
   "metadata": {
    "jupyter": {
     "is_executing": true
    },
    "ExecuteTime": {
     "start_time": "2025-06-19T10:05:00.919784Z"
    }
   },
   "cell_type": "code",
   "source": [
    "from sklearn.metrics import silhouette_score\n",
    "from sklearn.decomposition import PCA\n",
    "\n",
    "\n",
    "# HDBSCAN\n",
    "def objective_HDBSCAN(trial):\n",
    "    X = X_train.copy()\n",
    "    X[\"income\"] = y_train.copy()\n",
    "\n",
    "    hdbscan_model = opt_hdbscan(trial)\n",
    "    labels = hdbscan_model.fit_predict(X)\n",
    "\n",
    "    # Ignore le bruit pour le silhouette score\n",
    "    if len(set(labels)) <= 1 or -1 in labels:\n",
    "        return -1.0  # On renvoie un score bas pour un mauvais clustering\n",
    "\n",
    "    # Calcul du silhouette score\n",
    "    score = silhouette_score(X, labels)\n",
    "    return score\n",
    "\n",
    "study = optuna.create_study(direction='maximize', study_name=f\"HDBSCAN - Adult Income Prediction\")\n",
    "study.optimize(objective_HDBSCAN, n_trials=150, timeout=900)\n",
    "print(f\"HDBSCAN Best hyperparameters: \", study.best_params)\n",
    "best_hdbscan = opt_hdbscan(FixedTrial(study.best_params))\n",
    "\n",
    "pca = PCA(n_components=2)\n",
    "X_test_2d = pca.fit_transform(X_test)\n",
    "\n",
    "# Get cluster labels\n",
    "labels = best_hdbscan.labels_\n",
    "\n",
    "# Plot the clusters\n",
    "plt.figure(figsize=(10, 8))\n",
    "sns.scatterplot(\n",
    "    x=X_test_2d[:, 0],\n",
    "    y=X_test_2d[:, 1],\n",
    "    hue=labels,\n",
    "    palette='viridis',\n",
    "    style=(labels == -1),  # Different style for noise points\n",
    "    markers={True: 'X', False: 'o'},\n",
    "    alpha=0.8,\n",
    "    legend='full'\n",
    ")\n",
    "plt.title('HDBSCAN Clustering Visualization')\n",
    "plt.xlabel('PCA Dimension 1')\n",
    "plt.ylabel('PCA Dimension 2')\n",
    "plt.legend(title='Cluster', loc='best')\n",
    "plt.grid(alpha=0.3)\n",
    "plt.show()\n"
   ],
   "id": "8f6fcabfd354b0c1",
   "outputs": [
    {
     "name": "stderr",
     "output_type": "stream",
     "text": [
      "[I 2025-06-19 12:05:00,932] A new study created in memory with name: HDBSCAN - Adult Income Prediction\n",
      "[I 2025-06-19 12:10:01,590] Trial 0 finished with value: -1.0 and parameters: {'min_cluster_size': 23, 'min_samples': 1, 'cluster_selection_epsilon': 0.32977341208436994}. Best is trial 0 with value: -1.0.\n"
     ]
    }
   ],
   "execution_count": null
  },
  {
   "metadata": {},
   "cell_type": "markdown",
   "source": "## Evaluation et comparaison des modèles\n",
   "id": "2c49c36455b2c689"
  },
  {
   "metadata": {
    "ExecuteTime": {
     "end_time": "2025-06-19T10:27:48.512506Z",
     "start_time": "2025-06-19T10:27:42.973574Z"
    }
   },
   "cell_type": "code",
   "source": [
    "# On mélange les données utilisées pour le test et le train et un dataframe pour éviter un biais du à l'overfitting\n",
    "df_adult_new = pd.concat([df_adult_new, df_adult_test_new])\n",
    "\n",
    "# On prend de nouvelles données pour éviter un biais du à l'overfitting\n",
    "X_train, X_test, y_train, y_test = train_test_split(df_adult_new.drop(columns=[\"income\"]), df_adult_new[\"income\"], test_size=0.2, random_state=69)\n",
    "# On normalise les variables quantitatives sur les données de train (StandardScaler pour l'instant)\n",
    "\n",
    "df_models_res = pd.DataFrame(columns=[\"name\", \"accuracy\", \"recall\", \"negative recall\", \"f1\", \"r2\", \"mae\", \"rmse\"])\n",
    "\n",
    "for classifier_name, model in best_models.items():\n",
    "    model.fit(X_train, y_train)\n",
    "    print(f\"\\n=== Evaluation du meilleur modèle du classifieur {classifier_name} ===\")\n",
    "    df_models_res.loc[len(df_models_res)] =(classifier_name,) + eval_model(model, X_test, y_test)\n",
    "\n",
    "df_models_res.style"
   ],
   "id": "858b3e7d56bed815",
   "outputs": [
    {
     "name": "stdout",
     "output_type": "stream",
     "text": [
      "\n",
      "=== Evaluation du meilleur modèle du classifieur DecisionTree ===\n",
      "Accuracy : 0.8494 (the higher the better)\n",
      "Recall : 0.5712 (the higher the better) (best for us)\n",
      "Negative recall : 0.9387 (the lower the better)\n",
      "F1 : 0.6483 (the higher the better)\n",
      "R2 : 0.1814 (the higher the better)\n",
      "MAE : 0.1506 (the lower the better)\n",
      "RMSE : 0.1506 (the lower the better)\n",
      "\n",
      "=== Evaluation du meilleur modèle du classifieur XGBoosting ===\n",
      "Accuracy : 0.8727 (the higher the better)\n",
      "Recall : 0.6522 (the higher the better) (best for us)\n",
      "Negative recall : 0.9435 (the lower the better)\n",
      "F1 : 0.7134 (the higher the better)\n",
      "R2 : 0.3078 (the higher the better)\n",
      "MAE : 0.1273 (the lower the better)\n",
      "RMSE : 0.1273 (the lower the better)\n",
      "\n",
      "=== Evaluation du meilleur modèle du classifieur NaiveBayes ===\n",
      "Accuracy : 0.5598 (the higher the better)\n",
      "Recall : 0.9465 (the higher the better) (best for us)\n",
      "Negative recall : 0.4357 (the lower the better)\n",
      "F1 : 0.5109 (the higher the better)\n",
      "R2 : -1.3934 (the higher the better)\n",
      "MAE : 0.4402 (the lower the better)\n",
      "RMSE : 0.4402 (the lower the better)\n"
     ]
    },
    {
     "data": {
      "text/plain": [
       "<pandas.io.formats.style.Styler at 0x7a985012a2d0>"
      ],
      "text/html": [
       "<style type=\"text/css\">\n",
       "</style>\n",
       "<table id=\"T_1ac10\">\n",
       "  <thead>\n",
       "    <tr>\n",
       "      <th class=\"blank level0\" >&nbsp;</th>\n",
       "      <th id=\"T_1ac10_level0_col0\" class=\"col_heading level0 col0\" >name</th>\n",
       "      <th id=\"T_1ac10_level0_col1\" class=\"col_heading level0 col1\" >accuracy</th>\n",
       "      <th id=\"T_1ac10_level0_col2\" class=\"col_heading level0 col2\" >recall</th>\n",
       "      <th id=\"T_1ac10_level0_col3\" class=\"col_heading level0 col3\" >negative recall</th>\n",
       "      <th id=\"T_1ac10_level0_col4\" class=\"col_heading level0 col4\" >f1</th>\n",
       "      <th id=\"T_1ac10_level0_col5\" class=\"col_heading level0 col5\" >r2</th>\n",
       "      <th id=\"T_1ac10_level0_col6\" class=\"col_heading level0 col6\" >mae</th>\n",
       "      <th id=\"T_1ac10_level0_col7\" class=\"col_heading level0 col7\" >rmse</th>\n",
       "    </tr>\n",
       "  </thead>\n",
       "  <tbody>\n",
       "    <tr>\n",
       "      <th id=\"T_1ac10_level0_row0\" class=\"row_heading level0 row0\" >0</th>\n",
       "      <td id=\"T_1ac10_row0_col0\" class=\"data row0 col0\" >DecisionTree</td>\n",
       "      <td id=\"T_1ac10_row0_col1\" class=\"data row0 col1\" >0.849447</td>\n",
       "      <td id=\"T_1ac10_row0_col2\" class=\"data row0 col2\" >0.571248</td>\n",
       "      <td id=\"T_1ac10_row0_col3\" class=\"data row0 col3\" >0.938718</td>\n",
       "      <td id=\"T_1ac10_row0_col4\" class=\"data row0 col4\" >0.648325</td>\n",
       "      <td id=\"T_1ac10_row0_col5\" class=\"data row0 col5\" >0.181406</td>\n",
       "      <td id=\"T_1ac10_row0_col6\" class=\"data row0 col6\" >0.150553</td>\n",
       "      <td id=\"T_1ac10_row0_col7\" class=\"data row0 col7\" >0.150553</td>\n",
       "    </tr>\n",
       "    <tr>\n",
       "      <th id=\"T_1ac10_level0_row1\" class=\"row_heading level0 row1\" >1</th>\n",
       "      <td id=\"T_1ac10_row1_col0\" class=\"data row1 col0\" >XGBoosting</td>\n",
       "      <td id=\"T_1ac10_row1_col1\" class=\"data row1 col1\" >0.872696</td>\n",
       "      <td id=\"T_1ac10_row1_col2\" class=\"data row1 col2\" >0.652192</td>\n",
       "      <td id=\"T_1ac10_row1_col3\" class=\"data row1 col3\" >0.943452</td>\n",
       "      <td id=\"T_1ac10_row1_col4\" class=\"data row1 col4\" >0.713396</td>\n",
       "      <td id=\"T_1ac10_row1_col5\" class=\"data row1 col5\" >0.307815</td>\n",
       "      <td id=\"T_1ac10_row1_col6\" class=\"data row1 col6\" >0.127304</td>\n",
       "      <td id=\"T_1ac10_row1_col7\" class=\"data row1 col7\" >0.127304</td>\n",
       "    </tr>\n",
       "    <tr>\n",
       "      <th id=\"T_1ac10_level0_row2\" class=\"row_heading level0 row2\" >2</th>\n",
       "      <td id=\"T_1ac10_row2_col0\" class=\"data row2 col0\" >NaiveBayes</td>\n",
       "      <td id=\"T_1ac10_row2_col1\" class=\"data row2 col1\" >0.559812</td>\n",
       "      <td id=\"T_1ac10_row2_col2\" class=\"data row2 col2\" >0.946459</td>\n",
       "      <td id=\"T_1ac10_row2_col3\" class=\"data row2 col3\" >0.435741</td>\n",
       "      <td id=\"T_1ac10_row2_col4\" class=\"data row2 col4\" >0.510924</td>\n",
       "      <td id=\"T_1ac10_row2_col5\" class=\"data row2 col5\" >-1.393412</td>\n",
       "      <td id=\"T_1ac10_row2_col6\" class=\"data row2 col6\" >0.440188</td>\n",
       "      <td id=\"T_1ac10_row2_col7\" class=\"data row2 col7\" >0.440188</td>\n",
       "    </tr>\n",
       "  </tbody>\n",
       "</table>\n"
      ]
     },
     "execution_count": 36,
     "metadata": {},
     "output_type": "execute_result"
    }
   ],
   "execution_count": 36
  },
  {
   "metadata": {},
   "cell_type": "markdown",
   "source": "### Courbe ROC",
   "id": "898a6d15d885fee8"
  },
  {
   "metadata": {
    "ExecuteTime": {
     "end_time": "2025-06-19T10:04:31.420919Z",
     "start_time": "2025-06-19T10:04:30.412259Z"
    }
   },
   "cell_type": "code",
   "source": [
    "from math import ceil\n",
    "from sklearn.metrics import roc_curve, auc\n",
    "\n",
    "# Number of models\n",
    "num_models = len(best_models)\n",
    "rows = ceil(num_models / 2)  # Calculate the number of rows needed\n",
    "\n",
    "plt.figure(figsize=(12, 6 * rows))\n",
    "\n",
    "for i, (classifier_name, model) in enumerate(best_models.items(), start=1):\n",
    "    # Modele de clustering\n",
    "    if classifier_name == \"KMeans\":\n",
    "        continue\n",
    "    # Prédictions des probabilités pour la classe positive\n",
    "    y_pred_proba = model.predict_proba(X_test)[:, 1]\n",
    "    # Calcul des FPR, TPR et seuils\n",
    "    fpr, tpr, thresholds = roc_curve(y_test, y_pred_proba)\n",
    "    # Calcul de l'AUC\n",
    "    roc_auc = auc(fpr, tpr)\n",
    "    # Subplot for each ROC curve\n",
    "    plt.subplot(rows, 2, i)\n",
    "    plt.plot(fpr, tpr, color='blue', lw=2, label=f'ROC curve (AUC = {roc_auc:.2f})')\n",
    "    plt.plot([0, 1], [0, 1], color='gray', linestyle='--', lw=2)  # Ligne diagonale\n",
    "    plt.xlabel('False Positive Rate (FPR)')\n",
    "    plt.ylabel('True Positive Rate (TPR)')\n",
    "    plt.title(f'{classifier_name} - ROC Curve')\n",
    "    plt.legend(loc='lower right')\n",
    "    plt.grid(alpha=0.3)\n",
    "\n",
    "plt.tight_layout()\n",
    "plt.show()"
   ],
   "id": "e0c4f4b797f4a193",
   "outputs": [
    {
     "data": {
      "text/plain": [
       "<Figure size 1200x1200 with 3 Axes>"
      ],
      "image/png": "[encoded data removed]"
     },
     "metadata": {},
     "output_type": "display_data"
    }
   ],
   "execution_count": 32
  },
  {
   "metadata": {},
   "cell_type": "markdown",
   "source": "### Courbe de précision-rappel",
   "id": "3a7b1772fcb8607c"
  },
  {
   "metadata": {
    "ExecuteTime": {
     "end_time": "2025-06-19T10:04:40.667137Z",
     "start_time": "2025-06-19T10:04:39.474652Z"
    }
   },
   "cell_type": "code",
   "source": [
    "from sklearn.metrics import precision_recall_curve, average_precision_score\n",
    "import matplotlib.pyplot as plt\n",
    "\n",
    "# Number of models\n",
    "num_models = len(best_models)\n",
    "rows = ceil(num_models / 2)  # Calculate the number of rows needed\n",
    "\n",
    "plt.figure(figsize=(12, 6 * rows))\n",
    "\n",
    "for i, (classifier_name, model) in enumerate(best_models.items(), start=1):\n",
    "    if classifier_name == \"KMeans\":\n",
    "        continue\n",
    "    # Prédictions des probabilités pour la classe positive\n",
    "    y_pred_proba = model.predict_proba(X_test)[:, 1]\n",
    "    # Calcul de la precision du rappel, et des seuils\n",
    "    precision, recall, thresholds = precision_recall_curve(y_test, y_pred_proba)\n",
    "    # Calcul de la moyenne de précision\n",
    "    avg_precision = average_precision_score(y_test, y_pred_proba)\n",
    "    # Calcul de la proportion de la classe positive dans les données de test\n",
    "    positive_class_proportion = y_test.mean()\n",
    "    # Calcul de l'AUC pour la courbe de précision-rappel\n",
    "    pr_auc = auc(recall, precision)\n",
    "    # Tracé de la courbe de précision-rappel\n",
    "    plt.plot(recall, precision, color='blue', lw=2, label=f'Precision-Recall curve (AP = {avg_precision:.2f})')\n",
    "    # Tracé de la baseline pour la classe positive\n",
    "    plt.axhline(y=positive_class_proportion, color='red', linestyle='--', label=f'Baseline (Positive Class = {positive_class_proportion:.2f})')\n",
    "    plt.xlabel('Recall')\n",
    "    plt.ylabel('Precision')\n",
    "    plt.title(f'{classifier_name} - Precision-Recall Curve')\n",
    "    plt.legend(loc='lower left')\n",
    "    plt.grid(alpha=0.3)\n",
    "    plt.show()\n",
    "\n",
    "plt.tight_layout()\n",
    "plt.show()"
   ],
   "id": "671729f3c36f80fa",
   "outputs": [
    {
     "data": {
      "text/plain": [
       "<Figure size 1200x1200 with 1 Axes>"
      ],
      "image/png": "[encoded data removed]"
     },
     "metadata": {},
     "output_type": "display_data"
    },
    {
     "data": {
      "text/plain": [
       "<Figure size 1000x800 with 1 Axes>"
      ],
      "image/png": "[encoded data removed]"
     },
     "metadata": {},
     "output_type": "display_data"
    },
    {
     "data": {
      "text/plain": [
       "<Figure size 1000x800 with 1 Axes>"
      ],
      "image/png": "[encoded data removed]"
     },
     "metadata": {},
     "output_type": "display_data"
    },
    {
     "data": {
      "text/plain": [
       "<Figure size 1000x800 with 0 Axes>"
      ]
     },
     "metadata": {},
     "output_type": "display_data"
    }
   ],
   "execution_count": 33
  },
  {
   "metadata": {},
   "cell_type": "markdown",
   "source": "### Visualisation des modèles de clustering",
   "id": "ae6faf19b6500185"
  },
  {
   "metadata": {
    "ExecuteTime": {
     "end_time": "2025-06-19T10:04:49.969165Z",
     "start_time": "2025-06-19T10:04:49.415663Z"
    }
   },
   "cell_type": "code",
   "source": [
    "kmeans = best_models[\"KMeans\"]\n",
    "from sklearn.decomposition import PCA\n",
    "\n",
    "# Reduce dimensions using PCA\n",
    "pca = PCA(n_components=2)\n",
    "X_test_2d = pca.fit_transform(X_test)\n",
    "\n",
    "# Predict cluster labels\n",
    "kmeans = best_models[\"KMeans\"]\n",
    "clusters = kmeans.predict(X_test)\n",
    "\n",
    "# Plot the clusters\n",
    "plt.figure(figsize=(10, 8))\n",
    "sns.scatterplot(\n",
    "    x=X_test_2d[:, 0],\n",
    "    y=X_test_2d[:, 1],\n",
    "    hue=clusters,\n",
    "    alpha=0.8,\n",
    "    legend='full'\n",
    ")\n",
    "plt.title('KMeans Clustering Visualization')\n",
    "plt.xlabel('PCA Dimension 1')\n",
    "plt.ylabel('PCA Dimension 2')\n",
    "plt.legend(title='Cluster')\n",
    "plt.grid(alpha=0.3)\n",
    "plt.show()"
   ],
   "id": "c427a9d4903e6f24",
   "outputs": [
    {
     "ename": "KeyError",
     "evalue": "'KMeans'",
     "output_type": "error",
     "traceback": [
      "\u001B[31m---------------------------------------------------------------------------\u001B[39m",
      "\u001B[31mKeyError\u001B[39m                                  Traceback (most recent call last)",
      "\u001B[36mCell\u001B[39m\u001B[36m \u001B[39m\u001B[32mIn[34]\u001B[39m\u001B[32m, line 1\u001B[39m\n\u001B[32m----> \u001B[39m\u001B[32m1\u001B[39m kmeans = \u001B[43mbest_models\u001B[49m\u001B[43m[\u001B[49m\u001B[33;43m\"\u001B[39;49m\u001B[33;43mKMeans\u001B[39;49m\u001B[33;43m\"\u001B[39;49m\u001B[43m]\u001B[49m\n\u001B[32m      2\u001B[39m \u001B[38;5;28;01mfrom\u001B[39;00m\u001B[38;5;250m \u001B[39m\u001B[34;01msklearn\u001B[39;00m\u001B[34;01m.\u001B[39;00m\u001B[34;01mdecomposition\u001B[39;00m\u001B[38;5;250m \u001B[39m\u001B[38;5;28;01mimport\u001B[39;00m PCA\n\u001B[32m      4\u001B[39m \u001B[38;5;66;03m# Reduce dimensions using PCA\u001B[39;00m\n",
      "\u001B[31mKeyError\u001B[39m: 'KMeans'"
     ]
    }
   ],
   "execution_count": 34
  },
  {
   "metadata": {},
   "cell_type": "markdown",
   "source": "## Visualisation UMAP",
   "id": "b78a422a67d8ca57"
  },
  {
   "metadata": {
    "ExecuteTime": {
     "end_time": "2025-06-19T10:04:50.039023023Z",
     "start_time": "2025-06-18T21:37:42.650586Z"
    }
   },
   "cell_type": "code",
   "source": [
    "# import umap.umap_ as umap\n",
    "#\n",
    "# # UMAP reduction\n",
    "# reducer = umap.UMAP(n_neighbors=15, min_dist=0.1, random_state=42)\n",
    "# embedding_2d = reducer.fit_transform(X_test)\n",
    "#\n",
    "# plt.figure(figsize=(10, 8))\n",
    "# scatter = plt.scatter(\n",
    "#     embedding_2d[:, 0], embedding_2d[:, 1],\n",
    "#     c=y_test, cmap='Spectral', s=10, alpha=0.7\n",
    "# )\n",
    "# plt.colorbar(scatter, label='Digit Label')\n",
    "# plt.title('UMAP Projection of Model Embeddings')\n",
    "# plt.xlabel('UMAP 1')\n",
    "# plt.ylabel('UMAP 2')\n",
    "# plt.grid(True)\n",
    "# plt.show()"
   ],
   "id": "d08c9ca70a605c93",
   "outputs": [],
   "execution_count": 36
  },
  {
   "metadata": {
    "ExecuteTime": {
     "end_time": "2025-06-19T10:04:50.109229676Z",
     "start_time": "2025-06-18T21:37:50.361324Z"
    }
   },
   "cell_type": "code",
   "source": [
    "cm = confusion_matrix(y_test, best_models[\"XGBoosting\"].predict(X_test))\n",
    "plt.figure(figsize=(8, 6))\n",
    "sns.heatmap(cm, annot=True, fmt='d', cmap='Blues', cbar=False,\n",
    "            xticklabels=['<=50K', '>50K'], yticklabels=['<=50K', '>50K'])"
   ],
   "id": "4ecee5fee4875f84",
   "outputs": [
    {
     "data": {
      "text/plain": [
       "<Axes: >"
      ]
     },
     "execution_count": 37,
     "metadata": {},
     "output_type": "execute_result"
    },
    {
     "data": {
      "text/plain": [
       "<Figure size 800x600 with 1 Axes>"
      ],
      "image/png": "[encoded data removed]"
     },
     "metadata": {},
     "output_type": "display_data"
    }
   ],
   "execution_count": 37
  }
 ],
 "metadata": {
  "kernelspec": {
   "display_name": "machine_learning",
   "language": "python",
   "name": "python3"
  },
  "language_info": {
   "codemirror_mode": {
    "name": "ipython",
    "version": 3
   },
   "file_extension": ".py",
   "mimetype": "text/x-python",
   "name": "python",
   "nbconvert_exporter": "python",
   "pygments_lexer": "ipython3",
   "version": "3.13.3"
  }
 },
 "nbformat": 4,
 "nbformat_minor": 5
}
